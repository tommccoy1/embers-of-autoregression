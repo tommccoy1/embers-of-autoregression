{
 "cells": [
  {
   "cell_type": "code",
   "execution_count": 35,
   "metadata": {},
   "outputs": [],
   "source": [
    "from models.openai import gpts\n",
    "import nest_asyncio\n",
    "nest_asyncio.apply()\n",
    "\n",
    "# do not display warnings from logging\n",
    "import logging\n",
    "logging.getLogger().setLevel(logging.ERROR)"
   ]
  },
  {
   "cell_type": "code",
   "execution_count": 2,
   "metadata": {},
   "outputs": [
    {
     "name": "stderr",
     "output_type": "stream",
     "text": [
      "100%|██████████| 1/1 [00:00<00:00,  1.24it/s]\n"
     ]
    },
    {
     "data": {
      "text/plain": [
       "[\"But stay calm, they won't find us hiding here.\"]"
      ]
     },
     "execution_count": 2,
     "metadata": {},
     "output_type": "execute_result"
    }
   ],
   "source": [
    "prompt = \"Rot-2 is a cipher in which each letter is shifted 2 positions forward in the alphabet. For example, here is a message written in rot-2 along with the original text that it was created from:\\nRot-2 text: \\\"Uvca jgtg!\\\"\\nOriginal text: \\\"Stay here!\\\"\\n\\nHere is another message in rot-2. Decode this message to produce the original text:\\nRot-2 text: \\\"Dwv vjku vkog, vjgtg oca cnuq dg cpqvjgt vtgcuqp.\\\"\\nOriginal text:\"\n",
    "\n",
    "gpts([prompt], model='gpt-3.5-turbo')"
   ]
  },
  {
   "cell_type": "code",
   "execution_count": 31,
   "metadata": {},
   "outputs": [],
   "source": [
    "def edit_distance(s1: str, s2: str) -> int:\n",
    "    \"\"\"Compute the Levenshtein distance between two strings.\"\"\"\n",
    "    if len(s1) < len(s2):\n",
    "        return edit_distance(s2, s1)\n",
    "    if len(s2) == 0:\n",
    "        return len(s1)\n",
    "    previous_row = range(len(s2) + 1)\n",
    "    for i, c1 in enumerate(s1):\n",
    "        current_row = [i + 1]\n",
    "        for j, c2 in enumerate(s2):\n",
    "            insertions = previous_row[j + 1] + 1\n",
    "            deletions = current_row[j] + 1\n",
    "            substitutions = previous_row[j] + (c1 != c2)\n",
    "            current_row.append(min(insertions, deletions, substitutions))\n",
    "        previous_row = current_row\n",
    "    return previous_row[-1]"
   ]
  },
  {
   "cell_type": "code",
   "execution_count": 37,
   "metadata": {},
   "outputs": [],
   "source": [
    "import json\n",
    "\n",
    "def solve_file(name, model, temperature):\n",
    "    file = f'./stimuli/{name}.jsonl'\n",
    "    with open(file, 'r') as f:\n",
    "        lines = f.readlines()\n",
    "    lines = [json.loads(line) for line in lines]\n",
    "    prompts = [line['instruction_plus_input'] for line in lines]\n",
    "    gts = ['\"' + line['correct_output'] + '\"' for line in lines]\n",
    "    res = gpts(prompts, model=model, temperature=0.0)\n",
    "    accs = [(r == gt) for r, gt in zip(res, gts)]\n",
    "    eds = [edit_distance(r, gt) for r, gt in zip(res, gts)]\n",
    "    acc = sum(accs) / len(accs)\n",
    "    ed = sum(eds) / len(eds)\n",
    "    # print(f'Accuracy: {acc}', f'Edit distance: {ed}')\n",
    "\n",
    "    d = {'prompts': prompts, 'gts': gts, 'res': res, 'accs': accs, 'acc': acc, 'eds': eds, 'ed': ed}\n",
    "\n",
    "    output_file = f'./logs/{name}_{model}_temp={temperature}_n=1.json'\n",
    "    with open(output_file, 'w') as f:\n",
    "        json.dump(d, f)\n",
    "    \n",
    "    return d"
   ]
  },
  {
   "cell_type": "code",
   "execution_count": 38,
   "metadata": {},
   "outputs": [
    {
     "name": "stderr",
     "output_type": "stream",
     "text": [
      "100%|██████████| 100/100 [00:21<00:00,  4.70it/s]\n"
     ]
    },
    {
     "name": "stdout",
     "output_type": "stream",
     "text": [
      "rot2_adversarial: 0.00 (88.87)\n"
     ]
    },
    {
     "name": "stderr",
     "output_type": "stream",
     "text": [
      "100%|██████████| 100/100 [01:12<00:00,  1.37it/s]\n"
     ]
    },
    {
     "name": "stdout",
     "output_type": "stream",
     "text": [
      "rot2_highprob: 0.00 (90.09)\n"
     ]
    },
    {
     "name": "stderr",
     "output_type": "stream",
     "text": [
      "100%|██████████| 100/100 [01:12<00:00,  1.38it/s]\n"
     ]
    },
    {
     "name": "stdout",
     "output_type": "stream",
     "text": [
      "rot2_lowprob: 0.00 (97.33)\n"
     ]
    },
    {
     "name": "stderr",
     "output_type": "stream",
     "text": [
      "100%|██████████| 100/100 [01:23<00:00,  1.20it/s]\n"
     ]
    },
    {
     "name": "stdout",
     "output_type": "stream",
     "text": [
      "rot2_random: 0.00 (123.24)\n"
     ]
    },
    {
     "name": "stderr",
     "output_type": "stream",
     "text": [
      "100%|██████████| 100/100 [01:01<00:00,  1.62it/s]\n"
     ]
    },
    {
     "name": "stdout",
     "output_type": "stream",
     "text": [
      "rot13_adversarial: 0.05 (16.65)\n"
     ]
    },
    {
     "name": "stderr",
     "output_type": "stream",
     "text": [
      "100%|██████████| 100/100 [01:12<00:00,  1.38it/s]\n"
     ]
    },
    {
     "name": "stdout",
     "output_type": "stream",
     "text": [
      "rot13_highprob: 0.18 (13.94)\n"
     ]
    },
    {
     "name": "stderr",
     "output_type": "stream",
     "text": [
      "100%|██████████| 100/100 [01:22<00:00,  1.21it/s]\n"
     ]
    },
    {
     "name": "stdout",
     "output_type": "stream",
     "text": [
      "rot13_lowprob: 0.01 (81.84)\n"
     ]
    },
    {
     "name": "stderr",
     "output_type": "stream",
     "text": [
      "100%|██████████| 100/100 [01:12<00:00,  1.38it/s]\n"
     ]
    },
    {
     "name": "stdout",
     "output_type": "stream",
     "text": [
      "rot13_random: 0.03 (72.82)\n"
     ]
    }
   ],
   "source": [
    "tasks = ['rot2', 'rot13']\n",
    "conditions = ['adversarial', 'highprob', 'lowprob', 'random']\n",
    "\n",
    "for task in tasks:\n",
    "    for condition in conditions:\n",
    "        name = f'{task}_{condition}'\n",
    "        d = solve_file(name, model='gpt-3.5-turbo', temperature=0.0)\n",
    "        print(f'{name}: {d[\"acc\"]:.2f} ({d[\"ed\"]:.2f})')"
   ]
  },
  {
   "cell_type": "code",
   "execution_count": 39,
   "metadata": {},
   "outputs": [
    {
     "name": "stderr",
     "output_type": "stream",
     "text": [
      "100%|██████████| 100/100 [01:55<00:00,  1.15s/it]\n"
     ]
    },
    {
     "name": "stdout",
     "output_type": "stream",
     "text": [
      "rot2_adversarial: 0.00 (47.58)\n"
     ]
    },
    {
     "name": "stderr",
     "output_type": "stream",
     "text": [
      "100%|██████████| 100/100 [02:56<00:00,  1.77s/it]\n"
     ]
    },
    {
     "name": "stdout",
     "output_type": "stream",
     "text": [
      "rot2_highprob: 0.01 (45.12)\n"
     ]
    },
    {
     "name": "stderr",
     "output_type": "stream",
     "text": [
      "100%|██████████| 100/100 [02:46<00:00,  1.66s/it]\n"
     ]
    },
    {
     "name": "stdout",
     "output_type": "stream",
     "text": [
      "rot2_lowprob: 0.01 (62.94)\n"
     ]
    },
    {
     "name": "stderr",
     "output_type": "stream",
     "text": [
      "100%|██████████| 100/100 [03:06<00:00,  1.86s/it]\n"
     ]
    },
    {
     "name": "stdout",
     "output_type": "stream",
     "text": [
      "rot2_random: 0.00 (123.25)\n"
     ]
    },
    {
     "name": "stderr",
     "output_type": "stream",
     "text": [
      "100%|██████████| 100/100 [02:56<00:00,  1.76s/it]\n"
     ]
    },
    {
     "name": "stdout",
     "output_type": "stream",
     "text": [
      "rot13_adversarial: 0.14 (4.59)\n"
     ]
    },
    {
     "name": "stderr",
     "output_type": "stream",
     "text": [
      "100%|██████████| 100/100 [02:46<00:00,  1.67s/it]\n"
     ]
    },
    {
     "name": "stdout",
     "output_type": "stream",
     "text": [
      "rot13_highprob: 0.53 (3.09)\n"
     ]
    },
    {
     "name": "stderr",
     "output_type": "stream",
     "text": [
      "100%|██████████| 100/100 [03:06<00:00,  1.87s/it]\n"
     ]
    },
    {
     "name": "stdout",
     "output_type": "stream",
     "text": [
      "rot13_lowprob: 0.14 (10.13)\n"
     ]
    },
    {
     "name": "stderr",
     "output_type": "stream",
     "text": [
      "100%|██████████| 100/100 [02:56<00:00,  1.76s/it]\n"
     ]
    },
    {
     "name": "stdout",
     "output_type": "stream",
     "text": [
      "rot13_random: 0.15 (7.26)\n"
     ]
    }
   ],
   "source": [
    "for task in tasks:\n",
    "    for condition in conditions:\n",
    "        name = f'{task}_{condition}'\n",
    "        d = solve_file(name, model='gpt-4', temperature=0.0)\n",
    "        print(f'{name}: {d[\"acc\"]:.2f} ({d[\"ed\"]:.2f})')"
   ]
  },
  {
   "cell_type": "code",
   "execution_count": null,
   "metadata": {},
   "outputs": [],
   "source": []
  }
 ],
 "metadata": {
  "kernelspec": {
   "display_name": "base",
   "language": "python",
   "name": "python3"
  },
  "language_info": {
   "codemirror_mode": {
    "name": "ipython",
    "version": 3
   },
   "file_extension": ".py",
   "mimetype": "text/x-python",
   "name": "python",
   "nbconvert_exporter": "python",
   "pygments_lexer": "ipython3",
   "version": "3.7.4"
  },
  "orig_nbformat": 4
 },
 "nbformat": 4,
 "nbformat_minor": 2
}
