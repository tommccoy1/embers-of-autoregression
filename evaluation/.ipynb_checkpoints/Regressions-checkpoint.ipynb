{
 "cells": [
  {
   "cell_type": "code",
   "execution_count": 248,
   "id": "6fb643ce",
   "metadata": {},
   "outputs": [
    {
     "name": "stderr",
     "output_type": "stream",
     "text": [
      "Loading required package: carData\n",
      "\n"
     ]
    }
   ],
   "source": [
    "library(lme4)\n",
    "library(blme)\n",
    "library(ggplot2)\n",
    "library(stringr)\n",
    "library(psycho)\n",
    "library(glmnet)\n",
    "library(car)\n"
   ]
  },
  {
   "cell_type": "code",
   "execution_count": 179,
   "id": "2eafe583",
   "metadata": {},
   "outputs": [],
   "source": [
    "# Set ggplot theme\n",
    "base_size <- 20\n",
    "theme_set(theme_bw(base_size=base_size) +\n",
    "            theme(#panel.grid.major=element_blank(),\n",
    "              panel.grid.minor=element_blank(),\n",
    "              axis.title.y=element_text(angle=90,vjust=0.5),\n",
    "              axis.text.x=element_text(angle=0, hjust=0.5),\n",
    "              axis.title.x=element_blank()))"
   ]
  },
  {
   "cell_type": "code",
   "execution_count": 186,
   "id": "29682593",
   "metadata": {},
   "outputs": [
    {
     "data": {
      "text/html": [
       "FALSE"
      ],
      "text/latex": [
       "FALSE"
      ],
      "text/markdown": [
       "FALSE"
      ],
      "text/plain": [
       "[1] FALSE"
      ]
     },
     "metadata": {},
     "output_type": "display_data"
    }
   ],
   "source": [
    "!TRUE"
   ]
  },
  {
   "cell_type": "code",
   "execution_count": 187,
   "id": "f0090830",
   "metadata": {},
   "outputs": [],
   "source": [
    "correct_vs_length_and_prob <- function(df, include_output_chars=TRUE, include_input_chars=TRUE, include_intercept=TRUE){\n",
    "    if (include_output_chars & include_input_chars & include_intercept){\n",
    "        model <- glmer(correct ~ (1|index) + input_logprob + output_logprob + input_ntokens + output_ntokens + input_nchars + output_nchars, \n",
    "               data=df, family=binomial)\n",
    "    } else if (include_output_chars & !include_input_chars & include_intercept){\n",
    "        model <- glmer(correct ~ (1|index) + input_logprob + output_logprob + input_ntokens + output_ntokens + output_nchars, \n",
    "               data=df, family=binomial)\n",
    "    } else if (!include_output_chars & include_input_chars & include_intercept){\n",
    "        model <- glmer(correct ~ (1|index) + input_logprob + output_logprob + input_ntokens + output_ntokens + input_nchars, \n",
    "               data=df, family=binomial)\n",
    "\n",
    "    \n",
    "    } else if (include_output_chars & include_input_chars & !include_intercept){\n",
    "        model <- glm(correct ~ input_logprob + output_logprob + input_ntokens + output_ntokens + input_nchars + output_nchars, \n",
    "               data=df, family=binomial)\n",
    "    } else if (include_output_chars & !include_input_chars & !include_intercept){\n",
    "        model <- glm(correct ~ input_logprob + output_logprob + input_ntokens + output_ntokens + output_nchars, \n",
    "               data=df, family=binomial)\n",
    "    } else if (!include_output_chars & include_input_chars & !include_intercept){\n",
    "        model <- glm(correct ~ input_logprob + output_logprob + input_ntokens + output_ntokens + input_nchars, \n",
    "               data=df, family=binomial)\n",
    "    }\n",
    "  \n",
    "    \n",
    "  return(model)\n",
    "}"
   ]
  },
  {
   "cell_type": "code",
   "execution_count": 191,
   "id": "9bf9cb2d",
   "metadata": {},
   "outputs": [],
   "source": [
    "scale_df <- function(df) {\n",
    "    new_df <- data.frame(scale(df[2:7]))\n",
    "    new_df$index <- as.factor(df$index)\n",
    "    new_df$correct <- df$correct\n",
    "    \n",
    "    return(new_df)\n",
    "}"
   ]
  },
  {
   "cell_type": "code",
   "execution_count": 221,
   "id": "2f78c652",
   "metadata": {},
   "outputs": [],
   "source": [
    "predictor_cors <- function(df) {\n",
    "    predictors <- c(\"input_logprob\", \"output_logprob\", \"input_nchars\", \"input_ntokens\", \"output_nchars\", \"output_ntokens\")\n",
    "    \n",
    "    for (pred1 in predictors) {\n",
    "        for (pred2 in predictors) {\n",
    "            cat(pred1, pred2, cor(df[pred1], df[pred2]), \"\\n\")\n",
    "        }\n",
    "        cat(\"\\n\")\n",
    "    }\n",
    "    \n",
    "}"
   ]
  },
  {
   "cell_type": "markdown",
   "id": "ea55655f",
   "metadata": {},
   "source": [
    "# Rot-13"
   ]
  },
  {
   "cell_type": "code",
   "execution_count": 254,
   "id": "ab259359",
   "metadata": {},
   "outputs": [
    {
     "name": "stderr",
     "output_type": "stream",
     "text": [
      "Warning message in file(file, \"rt\"):\n",
      "“cannot open file 'table_rot13enc_gpt-4.tsv': No such file or directory”\n"
     ]
    },
    {
     "ename": "ERROR",
     "evalue": "Error in file(file, \"rt\"): cannot open the connection\n",
     "output_type": "error",
     "traceback": [
      "Error in file(file, \"rt\"): cannot open the connection\nTraceback:\n",
      "1. read.table(file = \"table_rot13enc_gpt-4.tsv\", sep = \"\\t\", header = TRUE)",
      "2. file(file, \"rt\")"
     ]
    }
   ],
   "source": [
    "# Read in data\n",
    "rot13enc_gpt4_df <- read.table(file = 'table_rot13enc_gpt-4.tsv', sep = '\\t', header = TRUE)\n",
    "rot13enc_gpt35_df <- read.table(file = 'table_rot13enc_gpt-3.5-turbo.tsv', sep = '\\t', header = TRUE)\n",
    "\n",
    "rot13dec_gpt4_df <- read.table(file = 'table_rot13dec_gpt-4.tsv', sep = '\\t', header = TRUE)\n",
    "rot13dec_gpt35_df <- read.table(file = 'table_rot13dec_gpt-3.5-turbo.tsv', sep = '\\t', header = TRUE)"
   ]
  },
  {
   "cell_type": "code",
   "execution_count": 193,
   "id": "71063d91",
   "metadata": {},
   "outputs": [],
   "source": [
    "# Z-score data\n",
    "scaled_rot13enc_gpt4_df <- scale_df(rot13enc_gpt4_df)\n",
    "scaled_rot13enc_gpt35_df <- scale_df(rot13enc_gpt35_df)\n",
    "\n",
    "scaled_rot13dec_gpt4_df <- scale_df(rot13dec_gpt4_df)\n",
    "scaled_rot13dec_gpt35_df <- scale_df(rot13dec_gpt35_df)\n"
   ]
  },
  {
   "cell_type": "code",
   "execution_count": 224,
   "id": "5393d5bc",
   "metadata": {},
   "outputs": [
    {
     "name": "stdout",
     "output_type": "stream",
     "text": [
      "input_logprob input_logprob 1 \n",
      "input_logprob output_logprob 0.671355 \n",
      "input_logprob input_nchars -0.6635202 \n",
      "input_logprob input_ntokens -0.6448557 \n",
      "input_logprob output_nchars -0.6635202 \n",
      "input_logprob output_ntokens -0.6639417 \n",
      "\n",
      "output_logprob input_logprob 0.671355 \n",
      "output_logprob output_logprob 1 \n",
      "output_logprob input_nchars -0.9936365 \n",
      "output_logprob input_ntokens -0.941151 \n",
      "output_logprob output_nchars -0.9936365 \n",
      "output_logprob output_ntokens -0.9914956 \n",
      "\n",
      "input_nchars input_logprob -0.6635202 \n",
      "input_nchars output_logprob -0.9936365 \n",
      "input_nchars input_nchars 1 \n",
      "input_nchars input_ntokens 0.9581319 \n",
      "input_nchars output_nchars 1 \n",
      "input_nchars output_ntokens 0.9946449 \n",
      "\n",
      "input_ntokens input_logprob -0.6448557 \n",
      "input_ntokens output_logprob -0.941151 \n",
      "input_ntokens input_nchars 0.9581319 \n",
      "input_ntokens input_ntokens 1 \n",
      "input_ntokens output_nchars 0.9581319 \n",
      "input_ntokens output_ntokens 0.9517609 \n",
      "\n",
      "output_nchars input_logprob -0.6635202 \n",
      "output_nchars output_logprob -0.9936365 \n",
      "output_nchars input_nchars 1 \n",
      "output_nchars input_ntokens 0.9581319 \n",
      "output_nchars output_nchars 1 \n",
      "output_nchars output_ntokens 0.9946449 \n",
      "\n",
      "output_ntokens input_logprob -0.6639417 \n",
      "output_ntokens output_logprob -0.9914956 \n",
      "output_ntokens input_nchars 0.9946449 \n",
      "output_ntokens input_ntokens 0.9517609 \n",
      "output_ntokens output_nchars 0.9946449 \n",
      "output_ntokens output_ntokens 1 \n",
      "\n"
     ]
    }
   ],
   "source": [
    "# Print correlations among predictors\n",
    "predictor_cors(scaled_rot13enc_gpt4_df)"
   ]
  },
  {
   "cell_type": "code",
   "execution_count": 225,
   "id": "c5e2b13c",
   "metadata": {},
   "outputs": [
    {
     "name": "stdout",
     "output_type": "stream",
     "text": [
      "input_logprob input_logprob 1 \n",
      "input_logprob output_logprob 0.671355 \n",
      "input_logprob input_nchars -0.6635202 \n",
      "input_logprob input_ntokens -0.6448557 \n",
      "input_logprob output_nchars -0.6635202 \n",
      "input_logprob output_ntokens -0.6639417 \n",
      "\n",
      "output_logprob input_logprob 0.671355 \n",
      "output_logprob output_logprob 1 \n",
      "output_logprob input_nchars -0.9936365 \n",
      "output_logprob input_ntokens -0.941151 \n",
      "output_logprob output_nchars -0.9936365 \n",
      "output_logprob output_ntokens -0.9914956 \n",
      "\n",
      "input_nchars input_logprob -0.6635202 \n",
      "input_nchars output_logprob -0.9936365 \n",
      "input_nchars input_nchars 1 \n",
      "input_nchars input_ntokens 0.9581319 \n",
      "input_nchars output_nchars 1 \n",
      "input_nchars output_ntokens 0.9946449 \n",
      "\n",
      "input_ntokens input_logprob -0.6448557 \n",
      "input_ntokens output_logprob -0.941151 \n",
      "input_ntokens input_nchars 0.9581319 \n",
      "input_ntokens input_ntokens 1 \n",
      "input_ntokens output_nchars 0.9581319 \n",
      "input_ntokens output_ntokens 0.9517609 \n",
      "\n",
      "output_nchars input_logprob -0.6635202 \n",
      "output_nchars output_logprob -0.9936365 \n",
      "output_nchars input_nchars 1 \n",
      "output_nchars input_ntokens 0.9581319 \n",
      "output_nchars output_nchars 1 \n",
      "output_nchars output_ntokens 0.9946449 \n",
      "\n",
      "output_ntokens input_logprob -0.6639417 \n",
      "output_ntokens output_logprob -0.9914956 \n",
      "output_ntokens input_nchars 0.9946449 \n",
      "output_ntokens input_ntokens 0.9517609 \n",
      "output_ntokens output_nchars 0.9946449 \n",
      "output_ntokens output_ntokens 1 \n",
      "\n"
     ]
    }
   ],
   "source": [
    "predictor_cors(scaled_rot13enc_gpt35_df)"
   ]
  },
  {
   "cell_type": "code",
   "execution_count": 226,
   "id": "e035f1b4",
   "metadata": {},
   "outputs": [
    {
     "name": "stdout",
     "output_type": "stream",
     "text": [
      "input_logprob input_logprob 1 \n",
      "input_logprob output_logprob 0.671355 \n",
      "input_logprob input_nchars -0.9936365 \n",
      "input_logprob input_ntokens -0.9914956 \n",
      "input_logprob output_nchars -0.9936365 \n",
      "input_logprob output_ntokens -0.941151 \n",
      "\n",
      "output_logprob input_logprob 0.671355 \n",
      "output_logprob output_logprob 1 \n",
      "output_logprob input_nchars -0.6635202 \n",
      "output_logprob input_ntokens -0.6639417 \n",
      "output_logprob output_nchars -0.6635202 \n",
      "output_logprob output_ntokens -0.6448557 \n",
      "\n",
      "input_nchars input_logprob -0.9936365 \n",
      "input_nchars output_logprob -0.6635202 \n",
      "input_nchars input_nchars 1 \n",
      "input_nchars input_ntokens 0.9946449 \n",
      "input_nchars output_nchars 1 \n",
      "input_nchars output_ntokens 0.9581319 \n",
      "\n",
      "input_ntokens input_logprob -0.9914956 \n",
      "input_ntokens output_logprob -0.6639417 \n",
      "input_ntokens input_nchars 0.9946449 \n",
      "input_ntokens input_ntokens 1 \n",
      "input_ntokens output_nchars 0.9946449 \n",
      "input_ntokens output_ntokens 0.9517609 \n",
      "\n",
      "output_nchars input_logprob -0.9936365 \n",
      "output_nchars output_logprob -0.6635202 \n",
      "output_nchars input_nchars 1 \n",
      "output_nchars input_ntokens 0.9946449 \n",
      "output_nchars output_nchars 1 \n",
      "output_nchars output_ntokens 0.9581319 \n",
      "\n",
      "output_ntokens input_logprob -0.941151 \n",
      "output_ntokens output_logprob -0.6448557 \n",
      "output_ntokens input_nchars 0.9581319 \n",
      "output_ntokens input_ntokens 0.9517609 \n",
      "output_ntokens output_nchars 0.9581319 \n",
      "output_ntokens output_ntokens 1 \n",
      "\n"
     ]
    }
   ],
   "source": [
    "predictor_cors(scaled_rot13dec_gpt4_df)"
   ]
  },
  {
   "cell_type": "code",
   "execution_count": 227,
   "id": "2b4ae894",
   "metadata": {},
   "outputs": [
    {
     "name": "stdout",
     "output_type": "stream",
     "text": [
      "input_logprob input_logprob 1 \n",
      "input_logprob output_logprob 0.671355 \n",
      "input_logprob input_nchars -0.9936365 \n",
      "input_logprob input_ntokens -0.9914956 \n",
      "input_logprob output_nchars -0.9936365 \n",
      "input_logprob output_ntokens -0.941151 \n",
      "\n",
      "output_logprob input_logprob 0.671355 \n",
      "output_logprob output_logprob 1 \n",
      "output_logprob input_nchars -0.6635202 \n",
      "output_logprob input_ntokens -0.6639417 \n",
      "output_logprob output_nchars -0.6635202 \n",
      "output_logprob output_ntokens -0.6448557 \n",
      "\n",
      "input_nchars input_logprob -0.9936365 \n",
      "input_nchars output_logprob -0.6635202 \n",
      "input_nchars input_nchars 1 \n",
      "input_nchars input_ntokens 0.9946449 \n",
      "input_nchars output_nchars 1 \n",
      "input_nchars output_ntokens 0.9581319 \n",
      "\n",
      "input_ntokens input_logprob -0.9914956 \n",
      "input_ntokens output_logprob -0.6639417 \n",
      "input_ntokens input_nchars 0.9946449 \n",
      "input_ntokens input_ntokens 1 \n",
      "input_ntokens output_nchars 0.9946449 \n",
      "input_ntokens output_ntokens 0.9517609 \n",
      "\n",
      "output_nchars input_logprob -0.9936365 \n",
      "output_nchars output_logprob -0.6635202 \n",
      "output_nchars input_nchars 1 \n",
      "output_nchars input_ntokens 0.9946449 \n",
      "output_nchars output_nchars 1 \n",
      "output_nchars output_ntokens 0.9581319 \n",
      "\n",
      "output_ntokens input_logprob -0.941151 \n",
      "output_ntokens output_logprob -0.6448557 \n",
      "output_ntokens input_nchars 0.9581319 \n",
      "output_ntokens input_ntokens 0.9517609 \n",
      "output_ntokens output_nchars 0.9581319 \n",
      "output_ntokens output_ntokens 1 \n",
      "\n"
     ]
    }
   ],
   "source": [
    "predictor_cors(scaled_rot13dec_gpt35_df)"
   ]
  },
  {
   "cell_type": "code",
   "execution_count": 243,
   "id": "1f85708a",
   "metadata": {},
   "outputs": [
    {
     "name": "stderr",
     "output_type": "stream",
     "text": [
      "Warning message:\n",
      "“glm.fit: fitted probabilities numerically 0 or 1 occurred”\n"
     ]
    }
   ],
   "source": [
    "intercepts <- FALSE\n",
    "rot13enc_gpt4_model <- correct_vs_length_and_prob(scaled_rot13enc_gpt4_df, include_output_chars=FALSE, include_intercept=intercepts)\n",
    "rot13enc_gpt35_model <- correct_vs_length_and_prob(scaled_rot13enc_gpt35_df, include_output_chars=FALSE, include_intercept=FALSE)\n",
    "\n",
    "rot13dec_gpt4_model <- correct_vs_length_and_prob(scaled_rot13dec_gpt4_df, include_output_chars=FALSE, include_intercept=intercepts)\n",
    "rot13dec_gpt35_model <- correct_vs_length_and_prob(scaled_rot13dec_gpt35_df, include_output_chars=FALSE, include_intercept=intercepts)"
   ]
  },
  {
   "cell_type": "code",
   "execution_count": 244,
   "id": "42d6447b",
   "metadata": {},
   "outputs": [
    {
     "data": {
      "text/plain": [
       "\n",
       "Call:\n",
       "glm(formula = correct ~ input_logprob + output_logprob + input_ntokens + \n",
       "    output_ntokens + input_nchars, family = binomial, data = df)\n",
       "\n",
       "Deviance Residuals: \n",
       "     Min        1Q    Median        3Q       Max  \n",
       "-1.98900  -0.47411  -0.16374  -0.01492   2.81606  \n",
       "\n",
       "Coefficients:\n",
       "               Estimate Std. Error z value Pr(>|z|)    \n",
       "(Intercept)     -3.8735     0.5287  -7.327 2.36e-13 ***\n",
       "input_logprob    1.2276     0.4416   2.780  0.00544 ** \n",
       "output_logprob   8.0868     3.1107   2.600  0.00933 ** \n",
       "input_ntokens    2.6851     0.9398   2.857  0.00428 ** \n",
       "output_ntokens  -1.3761     2.4224  -0.568  0.56998    \n",
       "input_nchars     4.4807     3.2787   1.367  0.17175    \n",
       "---\n",
       "Signif. codes:  0 ‘***’ 0.001 ‘**’ 0.01 ‘*’ 0.05 ‘.’ 0.1 ‘ ’ 1\n",
       "\n",
       "(Dispersion parameter for binomial family taken to be 1)\n",
       "\n",
       "    Null deviance: 253.63  on 299  degrees of freedom\n",
       "Residual deviance: 162.92  on 294  degrees of freedom\n",
       "AIC: 174.92\n",
       "\n",
       "Number of Fisher Scoring iterations: 7\n"
      ]
     },
     "metadata": {},
     "output_type": "display_data"
    }
   ],
   "source": [
    "summary(rot13enc_gpt4_model)"
   ]
  },
  {
   "cell_type": "code",
   "execution_count": 245,
   "id": "6a49428b",
   "metadata": {},
   "outputs": [
    {
     "data": {
      "text/plain": [
       "\n",
       "Call:\n",
       "glm(formula = correct ~ input_logprob + output_logprob + input_ntokens + \n",
       "    output_ntokens + input_nchars, family = binomial, data = df)\n",
       "\n",
       "Deviance Residuals: \n",
       "    Min       1Q   Median       3Q      Max  \n",
       "-1.5565  -0.0810  -0.0170  -0.0002   3.1679  \n",
       "\n",
       "Coefficients:\n",
       "               Estimate Std. Error z value Pr(>|z|)    \n",
       "(Intercept)    -11.1260     2.5834  -4.307 1.66e-05 ***\n",
       "input_logprob   -0.5667     1.0816  -0.524    0.600    \n",
       "output_logprob  19.3572     9.8769   1.960    0.050 .  \n",
       "input_ntokens    4.4375     2.7667   1.604    0.109    \n",
       "output_ntokens   5.8961     7.4461   0.792    0.428    \n",
       "input_nchars     0.9669     9.0115   0.107    0.915    \n",
       "---\n",
       "Signif. codes:  0 ‘***’ 0.001 ‘**’ 0.01 ‘*’ 0.05 ‘.’ 0.1 ‘ ’ 1\n",
       "\n",
       "(Dispersion parameter for binomial family taken to be 1)\n",
       "\n",
       "    Null deviance: 87.687  on 299  degrees of freedom\n",
       "Residual deviance: 37.561  on 294  degrees of freedom\n",
       "AIC: 49.561\n",
       "\n",
       "Number of Fisher Scoring iterations: 10\n"
      ]
     },
     "metadata": {},
     "output_type": "display_data"
    }
   ],
   "source": [
    "summary(rot13enc_gpt35_model)"
   ]
  },
  {
   "cell_type": "code",
   "execution_count": 246,
   "id": "baa9b6de",
   "metadata": {},
   "outputs": [
    {
     "data": {
      "text/plain": [
       "\n",
       "Call:\n",
       "glm(formula = correct ~ input_logprob + output_logprob + input_ntokens + \n",
       "    output_ntokens + input_nchars, family = binomial, data = df)\n",
       "\n",
       "Deviance Residuals: \n",
       "    Min       1Q   Median       3Q      Max  \n",
       "-1.5709  -0.8282  -0.4028   0.8946   2.6218  \n",
       "\n",
       "Coefficients:\n",
       "               Estimate Std. Error z value Pr(>|z|)    \n",
       "(Intercept)     -1.4190     0.1984  -7.153 8.52e-13 ***\n",
       "input_logprob    0.2019     1.7122   0.118    0.906    \n",
       "output_logprob   1.8873     0.3252   5.804 6.49e-09 ***\n",
       "input_ntokens   -3.1338     1.6126  -1.943    0.052 .  \n",
       "output_ntokens   0.9408     0.6090   1.545    0.122    \n",
       "input_nchars     2.6855     2.0483   1.311    0.190    \n",
       "---\n",
       "Signif. codes:  0 ‘***’ 0.001 ‘**’ 0.01 ‘*’ 0.05 ‘.’ 0.1 ‘ ’ 1\n",
       "\n",
       "(Dispersion parameter for binomial family taken to be 1)\n",
       "\n",
       "    Null deviance: 363.07  on 299  degrees of freedom\n",
       "Residual deviance: 286.15  on 294  degrees of freedom\n",
       "AIC: 298.15\n",
       "\n",
       "Number of Fisher Scoring iterations: 6\n"
      ]
     },
     "metadata": {},
     "output_type": "display_data"
    }
   ],
   "source": [
    "summary(rot13dec_gpt4_model)"
   ]
  },
  {
   "cell_type": "code",
   "execution_count": 247,
   "id": "6eda6b60",
   "metadata": {},
   "outputs": [
    {
     "data": {
      "text/plain": [
       "\n",
       "Call:\n",
       "glm(formula = correct ~ input_logprob + output_logprob + input_ntokens + \n",
       "    output_ntokens + input_nchars, family = binomial, data = df)\n",
       "\n",
       "Deviance Residuals: \n",
       "     Min        1Q    Median        3Q       Max  \n",
       "-1.39766  -0.32768  -0.09807  -0.01223   2.88060  \n",
       "\n",
       "Coefficients:\n",
       "               Estimate Std. Error z value Pr(>|z|)    \n",
       "(Intercept)     -5.1249     0.7962  -6.437 1.22e-10 ***\n",
       "input_logprob    3.6557     3.3969   1.076   0.2818    \n",
       "output_logprob   3.6847     0.8960   4.113 3.91e-05 ***\n",
       "input_ntokens   -6.7265     2.9735  -2.262   0.0237 *  \n",
       "output_ntokens   2.5079     1.0980   2.284   0.0224 *  \n",
       "input_nchars     7.3176     3.7099   1.972   0.0486 *  \n",
       "---\n",
       "Signif. codes:  0 ‘***’ 0.001 ‘**’ 0.01 ‘*’ 0.05 ‘.’ 0.1 ‘ ’ 1\n",
       "\n",
       "(Dispersion parameter for binomial family taken to be 1)\n",
       "\n",
       "    Null deviance: 199.41  on 299  degrees of freedom\n",
       "Residual deviance: 121.74  on 294  degrees of freedom\n",
       "AIC: 133.74\n",
       "\n",
       "Number of Fisher Scoring iterations: 8\n"
      ]
     },
     "metadata": {},
     "output_type": "display_data"
    }
   ],
   "source": [
    "summary(rot13dec_gpt35_model)"
   ]
  },
  {
   "cell_type": "code",
   "execution_count": 251,
   "id": "92f2784a",
   "metadata": {},
   "outputs": [
    {
     "data": {
      "text/html": [
       "<style>\n",
       ".dl-inline {width: auto; margin:0; padding: 0}\n",
       ".dl-inline>dt, .dl-inline>dd {float: none; width: auto; display: inline-block}\n",
       ".dl-inline>dt::after {content: \":\\0020\"; padding-right: .5ex}\n",
       ".dl-inline>dt:not(:first-of-type) {padding-left: .5ex}\n",
       "</style><dl class=dl-inline><dt>input_logprob</dt><dd>1.15144323737001</dd><dt>output_logprob</dt><dd>43.6900247390143</dd><dt>input_ntokens</dt><dd>8.58096235009602</dd><dt>output_ntokens</dt><dd>31.4186584826363</dd><dt>input_nchars</dt><dd>58.0805132447696</dd></dl>\n"
      ],
      "text/latex": [
       "\\begin{description*}\n",
       "\\item[input\\textbackslash{}\\_logprob] 1.15144323737001\n",
       "\\item[output\\textbackslash{}\\_logprob] 43.6900247390143\n",
       "\\item[input\\textbackslash{}\\_ntokens] 8.58096235009602\n",
       "\\item[output\\textbackslash{}\\_ntokens] 31.4186584826363\n",
       "\\item[input\\textbackslash{}\\_nchars] 58.0805132447696\n",
       "\\end{description*}\n"
      ],
      "text/markdown": [
       "input_logprob\n",
       ":   1.15144323737001output_logprob\n",
       ":   43.6900247390143input_ntokens\n",
       ":   8.58096235009602output_ntokens\n",
       ":   31.4186584826363input_nchars\n",
       ":   58.0805132447696\n",
       "\n"
      ],
      "text/plain": [
       " input_logprob output_logprob  input_ntokens output_ntokens   input_nchars \n",
       "      1.151443      43.690025       8.580962      31.418658      58.080513 "
      ]
     },
     "metadata": {},
     "output_type": "display_data"
    }
   ],
   "source": [
    "vif(rot13enc_gpt4_model)"
   ]
  },
  {
   "cell_type": "code",
   "execution_count": 252,
   "id": "237c626b",
   "metadata": {},
   "outputs": [
    {
     "data": {
      "text/html": [
       "<style>\n",
       ".dl-inline {width: auto; margin:0; padding: 0}\n",
       ".dl-inline>dt, .dl-inline>dd {float: none; width: auto; display: inline-block}\n",
       ".dl-inline>dt::after {content: \":\\0020\"; padding-right: .5ex}\n",
       ".dl-inline>dt:not(:first-of-type) {padding-left: .5ex}\n",
       "</style><dl class=dl-inline><dt>input_logprob</dt><dd>1.28900668997506</dd><dt>output_logprob</dt><dd>35.7665962139875</dd><dt>input_ntokens</dt><dd>6.28985661969965</dd><dt>output_ntokens</dt><dd>25.1356631418187</dd><dt>input_nchars</dt><dd>41.6371012848425</dd></dl>\n"
      ],
      "text/latex": [
       "\\begin{description*}\n",
       "\\item[input\\textbackslash{}\\_logprob] 1.28900668997506\n",
       "\\item[output\\textbackslash{}\\_logprob] 35.7665962139875\n",
       "\\item[input\\textbackslash{}\\_ntokens] 6.28985661969965\n",
       "\\item[output\\textbackslash{}\\_ntokens] 25.1356631418187\n",
       "\\item[input\\textbackslash{}\\_nchars] 41.6371012848425\n",
       "\\end{description*}\n"
      ],
      "text/markdown": [
       "input_logprob\n",
       ":   1.28900668997506output_logprob\n",
       ":   35.7665962139875input_ntokens\n",
       ":   6.28985661969965output_ntokens\n",
       ":   25.1356631418187input_nchars\n",
       ":   41.6371012848425\n",
       "\n"
      ],
      "text/plain": [
       " input_logprob output_logprob  input_ntokens output_ntokens   input_nchars \n",
       "      1.289007      35.766596       6.289857      25.135663      41.637101 "
      ]
     },
     "metadata": {},
     "output_type": "display_data"
    }
   ],
   "source": [
    "vif(rot13enc_gpt35_model)"
   ]
  },
  {
   "cell_type": "code",
   "execution_count": 250,
   "id": "91071b9f",
   "metadata": {},
   "outputs": [
    {
     "data": {
      "text/html": [
       "<style>\n",
       ".dl-inline {width: auto; margin:0; padding: 0}\n",
       ".dl-inline>dt, .dl-inline>dd {float: none; width: auto; display: inline-block}\n",
       ".dl-inline>dt::after {content: \":\\0020\"; padding-right: .5ex}\n",
       ".dl-inline>dt:not(:first-of-type) {padding-left: .5ex}\n",
       "</style><dl class=dl-inline><dt>input_logprob</dt><dd>99.8032496129689</dd><dt>output_logprob</dt><dd>1.44222376577542</dd><dt>input_ntokens</dt><dd>88.581397516272</dd><dt>output_ntokens</dt><dd>14.2348942673635</dd><dt>input_nchars</dt><dd>145.340584065865</dd></dl>\n"
      ],
      "text/latex": [
       "\\begin{description*}\n",
       "\\item[input\\textbackslash{}\\_logprob] 99.8032496129689\n",
       "\\item[output\\textbackslash{}\\_logprob] 1.44222376577542\n",
       "\\item[input\\textbackslash{}\\_ntokens] 88.581397516272\n",
       "\\item[output\\textbackslash{}\\_ntokens] 14.2348942673635\n",
       "\\item[input\\textbackslash{}\\_nchars] 145.340584065865\n",
       "\\end{description*}\n"
      ],
      "text/markdown": [
       "input_logprob\n",
       ":   99.8032496129689output_logprob\n",
       ":   1.44222376577542input_ntokens\n",
       ":   88.581397516272output_ntokens\n",
       ":   14.2348942673635input_nchars\n",
       ":   145.340584065865\n",
       "\n"
      ],
      "text/plain": [
       " input_logprob output_logprob  input_ntokens output_ntokens   input_nchars \n",
       "     99.803250       1.442224      88.581398      14.234894     145.340584 "
      ]
     },
     "metadata": {},
     "output_type": "display_data"
    }
   ],
   "source": [
    "vif(rot13dec_gpt4_model)"
   ]
  },
  {
   "cell_type": "code",
   "execution_count": 249,
   "id": "ab867963",
   "metadata": {},
   "outputs": [
    {
     "data": {
      "text/html": [
       "<style>\n",
       ".dl-inline {width: auto; margin:0; padding: 0}\n",
       ".dl-inline>dt, .dl-inline>dd {float: none; width: auto; display: inline-block}\n",
       ".dl-inline>dt::after {content: \":\\0020\"; padding-right: .5ex}\n",
       ".dl-inline>dt:not(:first-of-type) {padding-left: .5ex}\n",
       "</style><dl class=dl-inline><dt>input_logprob</dt><dd>57.4043713164805</dd><dt>output_logprob</dt><dd>1.37085304890557</dd><dt>input_ntokens</dt><dd>45.2988454318399</dd><dt>output_ntokens</dt><dd>9.61302610139894</dd><dt>input_nchars</dt><dd>77.0294694524232</dd></dl>\n"
      ],
      "text/latex": [
       "\\begin{description*}\n",
       "\\item[input\\textbackslash{}\\_logprob] 57.4043713164805\n",
       "\\item[output\\textbackslash{}\\_logprob] 1.37085304890557\n",
       "\\item[input\\textbackslash{}\\_ntokens] 45.2988454318399\n",
       "\\item[output\\textbackslash{}\\_ntokens] 9.61302610139894\n",
       "\\item[input\\textbackslash{}\\_nchars] 77.0294694524232\n",
       "\\end{description*}\n"
      ],
      "text/markdown": [
       "input_logprob\n",
       ":   57.4043713164805output_logprob\n",
       ":   1.37085304890557input_ntokens\n",
       ":   45.2988454318399output_ntokens\n",
       ":   9.61302610139894input_nchars\n",
       ":   77.0294694524232\n",
       "\n"
      ],
      "text/plain": [
       " input_logprob output_logprob  input_ntokens output_ntokens   input_nchars \n",
       "     57.404371       1.370853      45.298845       9.613026      77.029469 "
      ]
     },
     "metadata": {},
     "output_type": "display_data"
    }
   ],
   "source": [
    "vif(rot13dec_gpt35_model)"
   ]
  },
  {
   "cell_type": "code",
   "execution_count": null,
   "id": "443db9ba",
   "metadata": {},
   "outputs": [],
   "source": []
  },
  {
   "cell_type": "code",
   "execution_count": null,
   "id": "722d3be8",
   "metadata": {},
   "outputs": [],
   "source": []
  },
  {
   "cell_type": "markdown",
   "id": "eff30cdf",
   "metadata": {},
   "source": [
    "# Pig Latin"
   ]
  },
  {
   "cell_type": "code",
   "execution_count": null,
   "id": "47de3d47",
   "metadata": {},
   "outputs": [],
   "source": [
    "# Read in data\n",
    "rot13enc_gpt4_df <- read.table(file = 'pigen', sep = '\\t', header = TRUE)\n",
    "rot13enc_gpt35_df <- read.table(file = 'rot13enc_gpt-3.5-turbo.tsv', sep = '\\t', header = TRUE)\n",
    "\n",
    "rot13dec_gpt4_df <- read.table(file = 'rot13dec_gpt-4.tsv', sep = '\\t', header = TRUE)\n",
    "rot13dec_gpt35_df <- read.table(file = 'rot13dec_gpt-3.5-turbo.tsv', sep = '\\t', header = TRUE)"
   ]
  },
  {
   "cell_type": "code",
   "execution_count": null,
   "id": "1797308b",
   "metadata": {},
   "outputs": [],
   "source": []
  },
  {
   "cell_type": "code",
   "execution_count": null,
   "id": "61e4ced3",
   "metadata": {},
   "outputs": [],
   "source": []
  },
  {
   "cell_type": "code",
   "execution_count": null,
   "id": "a5a20c49",
   "metadata": {},
   "outputs": [],
   "source": []
  },
  {
   "cell_type": "code",
   "execution_count": null,
   "id": "061c49d2",
   "metadata": {},
   "outputs": [],
   "source": []
  }
 ],
 "metadata": {
  "kernelspec": {
   "display_name": "R",
   "language": "R",
   "name": "ir"
  },
  "language_info": {
   "codemirror_mode": "r",
   "file_extension": ".r",
   "mimetype": "text/x-r-source",
   "name": "R",
   "pygments_lexer": "r",
   "version": "4.1.3"
  }
 },
 "nbformat": 4,
 "nbformat_minor": 5
}
