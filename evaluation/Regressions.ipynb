{
 "cells": [
  {
   "cell_type": "code",
   "execution_count": 1,
   "id": "a6846d57",
   "metadata": {},
   "outputs": [
    {
     "name": "stderr",
     "output_type": "stream",
     "text": [
      "Loading required package: Matrix\n",
      "\n",
      "\n",
      "Attaching package: ‘psycho’\n",
      "\n",
      "\n",
      "The following object is masked from ‘package:lme4’:\n",
      "\n",
      "    golden\n",
      "\n",
      "\n",
      "Loaded glmnet 4.1-7\n",
      "\n",
      "Loading required package: carData\n",
      "\n"
     ]
    }
   ],
   "source": [
    "# Might need to install arm - if so, uncomment the following line\n",
    "#install.packages(\"arm\")\n",
    "library(arm)\n",
    "library(lme4)\n",
    "library(blme)\n",
    "library(ggplot2)\n",
    "library(stringr)\n",
    "library(psycho)\n",
    "library(glmnet)\n",
    "library(car)"
   ]
  },
  {
   "cell_type": "code",
   "execution_count": 2,
   "id": "d9601645",
   "metadata": {},
   "outputs": [],
   "source": [
    "# Set ggplot theme\n",
    "base_size <- 20\n",
    "theme_set(theme_bw(base_size=base_size) +\n",
    "            theme(#panel.grid.major=element_blank(),\n",
    "              panel.grid.minor=element_blank(),\n",
    "              axis.title.y=element_text(angle=90,vjust=0.5),\n",
    "              axis.text.x=element_text(angle=0, hjust=0.5),\n",
    "              axis.title.x=element_blank()))"
   ]
  },
  {
   "cell_type": "code",
   "execution_count": 3,
   "id": "50923079",
   "metadata": {},
   "outputs": [],
   "source": [
    "correct_vs_length_and_prob <- function(df, include_output_chars=TRUE, include_input_chars=TRUE){\n",
    " \n",
    "    \n",
    "    if (include_output_chars & include_input_chars){\n",
    "        model <- glm(correct ~ input_logprob + output_logprob + input_ntokens + output_ntokens + input_nchars + output_nchars, \n",
    "               data=df, family=binomial)\n",
    "    } else if (include_output_chars & !include_input_chars){\n",
    "        model <- glm(correct ~ input_logprob + output_logprob + input_ntokens + output_ntokens + output_nchars, \n",
    "               data=df, family=binomial)\n",
    "    } else if (!include_output_chars & include_input_chars){\n",
    "        model <- glm(correct ~ input_logprob + output_logprob + input_ntokens + output_ntokens + input_nchars, \n",
    "               data=df, family=binomial)\n",
    "    }\n",
    "  \n",
    "    \n",
    "  return(model)\n",
    "}"
   ]
  },
  {
   "cell_type": "code",
   "execution_count": 29,
   "id": "631095fd",
   "metadata": {},
   "outputs": [],
   "source": [
    "# For Z-scoring datasets\n",
    "\n",
    "scale_df <- function(df) {\n",
    "    new_df <- data.frame(scale(df[2:7]))\n",
    "    new_df$index <- as.factor(df$index)\n",
    "    new_df$correct <- df$correct\n",
    "    \n",
    "    return(new_df)\n",
    "}\n",
    "\n",
    "scale_taskpair_df <- function(df) {\n",
    "    new_df <- data.frame(scale(df[3:8]))\n",
    "    new_df$index <- as.factor(df$index)\n",
    "    new_df$task <- as.factor(df$task)\n",
    "    new_df$correct <- df$correct\n",
    "    \n",
    "    return(new_df)\n",
    "}\n",
    "\n",
    "\n",
    "scale_df_with_index <- function(df) {\n",
    "    new_df <- data.frame(scale(df[1:7]))\n",
    "    new_df$correct <- df$correct\n",
    "    \n",
    "    return(new_df)\n",
    "}"
   ]
  },
  {
   "cell_type": "code",
   "execution_count": null,
   "id": "758d1194",
   "metadata": {},
   "outputs": [],
   "source": []
  },
  {
   "cell_type": "code",
   "execution_count": null,
   "id": "110fa197",
   "metadata": {},
   "outputs": [],
   "source": []
  },
  {
   "cell_type": "markdown",
   "id": "5b0e0650",
   "metadata": {},
   "source": [
    "# Shift ciphers"
   ]
  },
  {
   "cell_type": "code",
   "execution_count": 5,
   "id": "95c47f26",
   "metadata": {},
   "outputs": [],
   "source": [
    "# Read in data\n",
    "rot13enc_gpt4_df <- read.table(file = 'table_rot13enc_gpt-4.tsv', sep = '\\t', header = TRUE)\n",
    "rot13enc_gpt35_df <- read.table(file = 'table_rot13enc_gpt-3.5-turbo.tsv', sep = '\\t', header = TRUE)\n",
    "\n",
    "rot13dec_gpt4_df <- read.table(file = 'table_rot13dec_gpt-4.tsv', sep = '\\t', header = TRUE)\n",
    "rot13dec_gpt35_df <- read.table(file = 'table_rot13dec_gpt-3.5-turbo.tsv', sep = '\\t', header = TRUE)"
   ]
  },
  {
   "cell_type": "code",
   "execution_count": 6,
   "id": "14520f50",
   "metadata": {},
   "outputs": [],
   "source": [
    "# Z-score data\n",
    "scaled_rot13enc_gpt4_df <- scale_df(rot13enc_gpt4_df)\n",
    "scaled_rot13enc_gpt35_df <- scale_df(rot13enc_gpt35_df)\n",
    "\n",
    "scaled_rot13dec_gpt4_df <- scale_df(rot13dec_gpt4_df)\n",
    "scaled_rot13dec_gpt35_df <- scale_df(rot13dec_gpt35_df)\n"
   ]
  },
  {
   "cell_type": "code",
   "execution_count": 7,
   "id": "804437b0",
   "metadata": {},
   "outputs": [
    {
     "name": "stderr",
     "output_type": "stream",
     "text": [
      "Warning message:\n",
      "“glm.fit: fitted probabilities numerically 0 or 1 occurred”\n"
     ]
    }
   ],
   "source": [
    "\n",
    "rot13enc_gpt4_model <- correct_vs_length_and_prob(scaled_rot13enc_gpt4_df, include_output_chars=FALSE)\n",
    "rot13enc_gpt35_model <- correct_vs_length_and_prob(scaled_rot13enc_gpt35_df, include_output_chars=FALSE)\n",
    "\n",
    "rot13dec_gpt4_model <- correct_vs_length_and_prob(scaled_rot13dec_gpt4_df, include_output_chars=FALSE)\n",
    "rot13dec_gpt35_model <- correct_vs_length_and_prob(scaled_rot13dec_gpt35_df, include_output_chars=FALSE)"
   ]
  },
  {
   "cell_type": "code",
   "execution_count": 8,
   "id": "0ce102a2",
   "metadata": {},
   "outputs": [
    {
     "data": {
      "text/plain": [
       "\n",
       "Call:\n",
       "glm(formula = correct ~ input_logprob + output_logprob + input_ntokens + \n",
       "    output_ntokens + input_nchars, family = binomial, data = df)\n",
       "\n",
       "Deviance Residuals: \n",
       "     Min        1Q    Median        3Q       Max  \n",
       "-2.06663  -0.44366  -0.14606  -0.01354   2.97169  \n",
       "\n",
       "Coefficients:\n",
       "               Estimate Std. Error z value Pr(>|z|)    \n",
       "(Intercept)     -4.1193     0.5713  -7.211 5.57e-13 ***\n",
       "input_logprob    1.2158     0.4594   2.646  0.00814 ** \n",
       "output_logprob   7.0316     3.1573   2.227  0.02594 *  \n",
       "input_ntokens    2.9504     0.9824   3.003  0.00267 ** \n",
       "output_ntokens  -1.5485     2.5145  -0.616  0.53802    \n",
       "input_nchars     3.0854     3.3378   0.924  0.35529    \n",
       "---\n",
       "Signif. codes:  0 ‘***’ 0.001 ‘**’ 0.01 ‘*’ 0.05 ‘.’ 0.1 ‘ ’ 1\n",
       "\n",
       "(Dispersion parameter for binomial family taken to be 1)\n",
       "\n",
       "    Null deviance: 246.58  on 299  degrees of freedom\n",
       "Residual deviance: 156.14  on 294  degrees of freedom\n",
       "AIC: 168.14\n",
       "\n",
       "Number of Fisher Scoring iterations: 7\n"
      ]
     },
     "metadata": {},
     "output_type": "display_data"
    }
   ],
   "source": [
    "summary(rot13enc_gpt4_model)"
   ]
  },
  {
   "cell_type": "code",
   "execution_count": 9,
   "id": "5794f041",
   "metadata": {},
   "outputs": [
    {
     "data": {
      "text/plain": [
       "\n",
       "Call:\n",
       "glm(formula = correct ~ input_logprob + output_logprob + input_ntokens + \n",
       "    output_ntokens + input_nchars, family = binomial, data = df)\n",
       "\n",
       "Deviance Residuals: \n",
       "     Min        1Q    Median        3Q       Max  \n",
       "-1.28769  -0.08616  -0.01909  -0.00030   3.10549  \n",
       "\n",
       "Coefficients:\n",
       "               Estimate Std. Error z value Pr(>|z|)    \n",
       "(Intercept)    -10.7542     2.5495  -4.218 2.46e-05 ***\n",
       "input_logprob   -0.2191     1.0850  -0.202   0.8399    \n",
       "output_logprob  19.6737     9.8166   2.004   0.0451 *  \n",
       "input_ntokens    4.3058     2.6034   1.654   0.0982 .  \n",
       "output_ntokens   4.5089     7.3753   0.611   0.5410    \n",
       "input_nchars     3.5266     8.5951   0.410   0.6816    \n",
       "---\n",
       "Signif. codes:  0 ‘***’ 0.001 ‘**’ 0.01 ‘*’ 0.05 ‘.’ 0.1 ‘ ’ 1\n",
       "\n",
       "(Dispersion parameter for binomial family taken to be 1)\n",
       "\n",
       "    Null deviance: 80.845  on 299  degrees of freedom\n",
       "Residual deviance: 37.569  on 294  degrees of freedom\n",
       "AIC: 49.569\n",
       "\n",
       "Number of Fisher Scoring iterations: 10\n"
      ]
     },
     "metadata": {},
     "output_type": "display_data"
    }
   ],
   "source": [
    "summary(rot13enc_gpt35_model)"
   ]
  },
  {
   "cell_type": "code",
   "execution_count": 10,
   "id": "8b1b29bd",
   "metadata": {},
   "outputs": [
    {
     "data": {
      "text/plain": [
       "\n",
       "Call:\n",
       "glm(formula = correct ~ input_logprob + output_logprob + input_ntokens + \n",
       "    output_ntokens + input_nchars, family = binomial, data = df)\n",
       "\n",
       "Deviance Residuals: \n",
       "    Min       1Q   Median       3Q      Max  \n",
       "-1.4640  -0.8038  -0.4112   0.8902   2.5726  \n",
       "\n",
       "Coefficients:\n",
       "               Estimate Std. Error z value Pr(>|z|)    \n",
       "(Intercept)     -1.4509     0.1977  -7.340 2.13e-13 ***\n",
       "input_logprob    1.4829     1.7607   0.842   0.3996    \n",
       "output_logprob   1.7068     0.3173   5.380 7.46e-08 ***\n",
       "input_ntokens   -3.0153     1.6183  -1.863   0.0624 .  \n",
       "output_ntokens   0.5686     0.6128   0.928   0.3535    \n",
       "input_nchars     4.0308     2.1224   1.899   0.0575 .  \n",
       "---\n",
       "Signif. codes:  0 ‘***’ 0.001 ‘**’ 0.01 ‘*’ 0.05 ‘.’ 0.1 ‘ ’ 1\n",
       "\n",
       "(Dispersion parameter for binomial family taken to be 1)\n",
       "\n",
       "    Null deviance: 357.64  on 299  degrees of freedom\n",
       "Residual deviance: 285.30  on 294  degrees of freedom\n",
       "AIC: 297.3\n",
       "\n",
       "Number of Fisher Scoring iterations: 6\n"
      ]
     },
     "metadata": {},
     "output_type": "display_data"
    }
   ],
   "source": [
    "summary(rot13dec_gpt4_model)"
   ]
  },
  {
   "cell_type": "code",
   "execution_count": 11,
   "id": "92c87db1",
   "metadata": {},
   "outputs": [
    {
     "data": {
      "text/plain": [
       "\n",
       "Call:\n",
       "glm(formula = correct ~ input_logprob + output_logprob + input_ntokens + \n",
       "    output_ntokens + input_nchars, family = binomial, data = df)\n",
       "\n",
       "Deviance Residuals: \n",
       "     Min        1Q    Median        3Q       Max  \n",
       "-1.44662  -0.32654  -0.10349  -0.01189   2.92757  \n",
       "\n",
       "Coefficients:\n",
       "               Estimate Std. Error z value Pr(>|z|)    \n",
       "(Intercept)     -5.0436     0.7792  -6.473 9.62e-11 ***\n",
       "input_logprob    3.2597     3.3367   0.977   0.3286    \n",
       "output_logprob   3.8136     0.8978   4.247 2.16e-05 ***\n",
       "input_ntokens   -5.2379     2.7949  -1.874   0.0609 .  \n",
       "output_ntokens   2.4683     1.0515   2.347   0.0189 *  \n",
       "input_nchars     5.5853     3.6081   1.548   0.1216    \n",
       "---\n",
       "Signif. codes:  0 ‘***’ 0.001 ‘**’ 0.01 ‘*’ 0.05 ‘.’ 0.1 ‘ ’ 1\n",
       "\n",
       "(Dispersion parameter for binomial family taken to be 1)\n",
       "\n",
       "    Null deviance: 203.69  on 299  degrees of freedom\n",
       "Residual deviance: 125.76  on 294  degrees of freedom\n",
       "AIC: 137.76\n",
       "\n",
       "Number of Fisher Scoring iterations: 8\n"
      ]
     },
     "metadata": {},
     "output_type": "display_data"
    }
   ],
   "source": [
    "summary(rot13dec_gpt35_model)"
   ]
  },
  {
   "cell_type": "code",
   "execution_count": 12,
   "id": "88bfa3ca",
   "metadata": {},
   "outputs": [
    {
     "data": {
      "text/html": [
       "<style>\n",
       ".dl-inline {width: auto; margin:0; padding: 0}\n",
       ".dl-inline>dt, .dl-inline>dd {float: none; width: auto; display: inline-block}\n",
       ".dl-inline>dt::after {content: \":\\0020\"; padding-right: .5ex}\n",
       ".dl-inline>dt:not(:first-of-type) {padding-left: .5ex}\n",
       "</style><dl class=dl-inline><dt>input_logprob</dt><dd>1.13060028460815</dd><dt>output_logprob</dt><dd>39.2999881540218</dd><dt>input_ntokens</dt><dd>8.65403820671995</dd><dt>output_ntokens</dt><dd>29.877453052741</dd><dt>input_nchars</dt><dd>52.790918043775</dd></dl>\n"
      ],
      "text/latex": [
       "\\begin{description*}\n",
       "\\item[input\\textbackslash{}\\_logprob] 1.13060028460815\n",
       "\\item[output\\textbackslash{}\\_logprob] 39.2999881540218\n",
       "\\item[input\\textbackslash{}\\_ntokens] 8.65403820671995\n",
       "\\item[output\\textbackslash{}\\_ntokens] 29.877453052741\n",
       "\\item[input\\textbackslash{}\\_nchars] 52.790918043775\n",
       "\\end{description*}\n"
      ],
      "text/markdown": [
       "input_logprob\n",
       ":   1.13060028460815output_logprob\n",
       ":   39.2999881540218input_ntokens\n",
       ":   8.65403820671995output_ntokens\n",
       ":   29.877453052741input_nchars\n",
       ":   52.790918043775\n",
       "\n"
      ],
      "text/plain": [
       " input_logprob output_logprob  input_ntokens output_ntokens   input_nchars \n",
       "      1.130600      39.299988       8.654038      29.877453      52.790918 "
      ]
     },
     "metadata": {},
     "output_type": "display_data"
    }
   ],
   "source": [
    "vif(rot13enc_gpt4_model)"
   ]
  },
  {
   "cell_type": "code",
   "execution_count": 13,
   "id": "07a756b3",
   "metadata": {},
   "outputs": [
    {
     "data": {
      "text/html": [
       "<style>\n",
       ".dl-inline {width: auto; margin:0; padding: 0}\n",
       ".dl-inline>dt, .dl-inline>dd {float: none; width: auto; display: inline-block}\n",
       ".dl-inline>dt::after {content: \":\\0020\"; padding-right: .5ex}\n",
       ".dl-inline>dt:not(:first-of-type) {padding-left: .5ex}\n",
       "</style><dl class=dl-inline><dt>input_logprob</dt><dd>1.25639002821856</dd><dt>output_logprob</dt><dd>43.2090143352466</dd><dt>input_ntokens</dt><dd>7.38310220068426</dd><dt>output_ntokens</dt><dd>30.0322450340358</dd><dt>input_nchars</dt><dd>48.2725620183424</dd></dl>\n"
      ],
      "text/latex": [
       "\\begin{description*}\n",
       "\\item[input\\textbackslash{}\\_logprob] 1.25639002821856\n",
       "\\item[output\\textbackslash{}\\_logprob] 43.2090143352466\n",
       "\\item[input\\textbackslash{}\\_ntokens] 7.38310220068426\n",
       "\\item[output\\textbackslash{}\\_ntokens] 30.0322450340358\n",
       "\\item[input\\textbackslash{}\\_nchars] 48.2725620183424\n",
       "\\end{description*}\n"
      ],
      "text/markdown": [
       "input_logprob\n",
       ":   1.25639002821856output_logprob\n",
       ":   43.2090143352466input_ntokens\n",
       ":   7.38310220068426output_ntokens\n",
       ":   30.0322450340358input_nchars\n",
       ":   48.2725620183424\n",
       "\n"
      ],
      "text/plain": [
       " input_logprob output_logprob  input_ntokens output_ntokens   input_nchars \n",
       "      1.256390      43.209014       7.383102      30.032245      48.272562 "
      ]
     },
     "metadata": {},
     "output_type": "display_data"
    }
   ],
   "source": [
    "vif(rot13enc_gpt35_model)"
   ]
  },
  {
   "cell_type": "code",
   "execution_count": 14,
   "id": "37fb5d7a",
   "metadata": {},
   "outputs": [
    {
     "data": {
      "text/html": [
       "<style>\n",
       ".dl-inline {width: auto; margin:0; padding: 0}\n",
       ".dl-inline>dt, .dl-inline>dd {float: none; width: auto; display: inline-block}\n",
       ".dl-inline>dt::after {content: \":\\0020\"; padding-right: .5ex}\n",
       ".dl-inline>dt:not(:first-of-type) {padding-left: .5ex}\n",
       "</style><dl class=dl-inline><dt>input_logprob</dt><dd>97.9008021734459</dd><dt>output_logprob</dt><dd>1.38998564571739</dd><dt>input_ntokens</dt><dd>83.241864775906</dd><dt>output_ntokens</dt><dd>13.5951958508497</dd><dt>input_nchars</dt><dd>146.200936176301</dd></dl>\n"
      ],
      "text/latex": [
       "\\begin{description*}\n",
       "\\item[input\\textbackslash{}\\_logprob] 97.9008021734459\n",
       "\\item[output\\textbackslash{}\\_logprob] 1.38998564571739\n",
       "\\item[input\\textbackslash{}\\_ntokens] 83.241864775906\n",
       "\\item[output\\textbackslash{}\\_ntokens] 13.5951958508497\n",
       "\\item[input\\textbackslash{}\\_nchars] 146.200936176301\n",
       "\\end{description*}\n"
      ],
      "text/markdown": [
       "input_logprob\n",
       ":   97.9008021734459output_logprob\n",
       ":   1.38998564571739input_ntokens\n",
       ":   83.241864775906output_ntokens\n",
       ":   13.5951958508497input_nchars\n",
       ":   146.200936176301\n",
       "\n"
      ],
      "text/plain": [
       " input_logprob output_logprob  input_ntokens output_ntokens   input_nchars \n",
       "     97.900802       1.389986      83.241865      13.595196     146.200936 "
      ]
     },
     "metadata": {},
     "output_type": "display_data"
    }
   ],
   "source": [
    "vif(rot13dec_gpt4_model)"
   ]
  },
  {
   "cell_type": "code",
   "execution_count": 15,
   "id": "d0c1ae97",
   "metadata": {},
   "outputs": [
    {
     "data": {
      "text/html": [
       "<style>\n",
       ".dl-inline {width: auto; margin:0; padding: 0}\n",
       ".dl-inline>dt, .dl-inline>dd {float: none; width: auto; display: inline-block}\n",
       ".dl-inline>dt::after {content: \":\\0020\"; padding-right: .5ex}\n",
       ".dl-inline>dt:not(:first-of-type) {padding-left: .5ex}\n",
       "</style><dl class=dl-inline><dt>input_logprob</dt><dd>57.7593618892859</dd><dt>output_logprob</dt><dd>1.36501824362838</dd><dt>input_ntokens</dt><dd>42.0213121980875</dd><dt>output_ntokens</dt><dd>9.27721323318939</dd><dt>input_nchars</dt><dd>74.9922639156847</dd></dl>\n"
      ],
      "text/latex": [
       "\\begin{description*}\n",
       "\\item[input\\textbackslash{}\\_logprob] 57.7593618892859\n",
       "\\item[output\\textbackslash{}\\_logprob] 1.36501824362838\n",
       "\\item[input\\textbackslash{}\\_ntokens] 42.0213121980875\n",
       "\\item[output\\textbackslash{}\\_ntokens] 9.27721323318939\n",
       "\\item[input\\textbackslash{}\\_nchars] 74.9922639156847\n",
       "\\end{description*}\n"
      ],
      "text/markdown": [
       "input_logprob\n",
       ":   57.7593618892859output_logprob\n",
       ":   1.36501824362838input_ntokens\n",
       ":   42.0213121980875output_ntokens\n",
       ":   9.27721323318939input_nchars\n",
       ":   74.9922639156847\n",
       "\n"
      ],
      "text/plain": [
       " input_logprob output_logprob  input_ntokens output_ntokens   input_nchars \n",
       "     57.759362       1.365018      42.021312       9.277213      74.992264 "
      ]
     },
     "metadata": {},
     "output_type": "display_data"
    }
   ],
   "source": [
    "vif(rot13dec_gpt35_model)"
   ]
  },
  {
   "cell_type": "code",
   "execution_count": null,
   "id": "2b1218e5",
   "metadata": {},
   "outputs": [],
   "source": []
  },
  {
   "cell_type": "markdown",
   "id": "28c568e9",
   "metadata": {},
   "source": [
    "### Distance as output"
   ]
  },
  {
   "cell_type": "code",
   "execution_count": 16,
   "id": "51aa37ed",
   "metadata": {},
   "outputs": [],
   "source": [
    "# Read in data\n",
    "rot13encdist_gpt4_df <- read.table(file = 'table_rot13enc_gpt-4_dist.tsv', sep = '\\t', header = TRUE)\n",
    "rot13encdist_gpt35_df <- read.table(file = 'table_rot13enc_gpt-3.5-turbo_dist.tsv', sep = '\\t', header = TRUE)"
   ]
  },
  {
   "cell_type": "code",
   "execution_count": 17,
   "id": "5f433dbc",
   "metadata": {},
   "outputs": [],
   "source": [
    "# Get rid of \"correct\"\n",
    "rot13encdist_gpt4_df <- rot13encdist_gpt4_df[,-c(1,8)]\n",
    "rot13encdist_gpt35_df <- rot13encdist_gpt35_df[,-c(1,8)]\n",
    "\n",
    "# Scale\n",
    "rot13encdist_gpt4_df <- data.frame(scale(rot13encdist_gpt4_df))\n",
    "rot13encdist_gpt35_df <- data.frame(scale(rot13encdist_gpt35_df))"
   ]
  },
  {
   "cell_type": "code",
   "execution_count": 19,
   "id": "5aa1062d",
   "metadata": {},
   "outputs": [],
   "source": [
    "model_dist4 <- glm(distance ~ input_logprob + output_logprob + input_ntokens + output_ntokens + input_nchars, \n",
    "               data=rot13encdist_gpt4_df)\n",
    "model_dist35 <- glm(distance ~ input_logprob + output_logprob + input_ntokens + output_ntokens + input_nchars, \n",
    "               data=rot13encdist_gpt35_df)"
   ]
  },
  {
   "cell_type": "code",
   "execution_count": 20,
   "id": "cf280222",
   "metadata": {},
   "outputs": [
    {
     "data": {
      "text/plain": [
       "\n",
       "Call:\n",
       "glm(formula = distance ~ input_logprob + output_logprob + input_ntokens + \n",
       "    output_ntokens + input_nchars, data = rot13encdist_gpt4_df)\n",
       "\n",
       "Deviance Residuals: \n",
       "     Min        1Q    Median        3Q       Max  \n",
       "-1.68257  -0.33897  -0.02941   0.30112   1.84476  \n",
       "\n",
       "Coefficients:\n",
       "                 Estimate Std. Error t value Pr(>|t|)    \n",
       "(Intercept)    -2.154e-16  3.249e-02   0.000 1.000000    \n",
       "input_logprob  -1.267e-01  4.416e-02  -2.870 0.004400 ** \n",
       "output_logprob -4.197e-02  3.234e-01  -0.130 0.896813    \n",
       "input_ntokens  -1.169e+00  1.215e-01  -9.622  < 2e-16 ***\n",
       "output_ntokens  1.270e+00  3.278e-01   3.874 0.000132 ***\n",
       "input_nchars    4.705e-01  4.318e-01   1.090 0.276816    \n",
       "---\n",
       "Signif. codes:  0 ‘***’ 0.001 ‘**’ 0.01 ‘*’ 0.05 ‘.’ 0.1 ‘ ’ 1\n",
       "\n",
       "(Dispersion parameter for gaussian family taken to be 0.3166029)\n",
       "\n",
       "    Null deviance: 299.000  on 299  degrees of freedom\n",
       "Residual deviance:  93.081  on 294  degrees of freedom\n",
       "AIC: 514.27\n",
       "\n",
       "Number of Fisher Scoring iterations: 2\n"
      ]
     },
     "metadata": {},
     "output_type": "display_data"
    }
   ],
   "source": [
    "summary(model_dist4)"
   ]
  },
  {
   "cell_type": "code",
   "execution_count": 21,
   "id": "cd993e91",
   "metadata": {},
   "outputs": [
    {
     "data": {
      "text/plain": [
       "\n",
       "Call:\n",
       "glm(formula = distance ~ input_logprob + output_logprob + input_ntokens + \n",
       "    output_ntokens + input_nchars, data = rot13encdist_gpt35_df)\n",
       "\n",
       "Deviance Residuals: \n",
       "    Min       1Q   Median       3Q      Max  \n",
       "-1.1626  -0.2882  -0.0866   0.1133  10.7318  \n",
       "\n",
       "Coefficients:\n",
       "                 Estimate Std. Error t value Pr(>|t|)   \n",
       "(Intercept)    -9.047e-17  4.855e-02   0.000  1.00000   \n",
       "input_logprob  -2.171e-01  6.600e-02  -3.290  0.00112 **\n",
       "output_logprob -1.539e-01  4.833e-01  -0.318  0.75043   \n",
       "input_ntokens  -5.903e-01  1.816e-01  -3.251  0.00128 **\n",
       "output_ntokens -1.081e-01  4.899e-01  -0.221  0.82552   \n",
       "input_nchars    8.754e-01  6.454e-01   1.356  0.17601   \n",
       "---\n",
       "Signif. codes:  0 ‘***’ 0.001 ‘**’ 0.01 ‘*’ 0.05 ‘.’ 0.1 ‘ ’ 1\n",
       "\n",
       "(Dispersion parameter for gaussian family taken to be 0.707216)\n",
       "\n",
       "    Null deviance: 299.00  on 299  degrees of freedom\n",
       "Residual deviance: 207.92  on 294  degrees of freedom\n",
       "AIC: 755.38\n",
       "\n",
       "Number of Fisher Scoring iterations: 2\n"
      ]
     },
     "metadata": {},
     "output_type": "display_data"
    }
   ],
   "source": [
    "summary(model_dist35)"
   ]
  },
  {
   "cell_type": "code",
   "execution_count": null,
   "id": "837d1d6a",
   "metadata": {},
   "outputs": [],
   "source": []
  },
  {
   "cell_type": "markdown",
   "id": "eb746886",
   "metadata": {},
   "source": [
    "### Comparing rot-2 to rot-13"
   ]
  },
  {
   "cell_type": "code",
   "execution_count": 200,
   "id": "2ed7c14e",
   "metadata": {},
   "outputs": [],
   "source": [
    "# Read in data\n",
    "rot13and2enc_gpt4_df <- read.table(file = 'table_rot13and2enc_gpt-4.tsv', sep = '\\t', header = TRUE)\n",
    "rot13and2enc_gpt35_df <- read.table(file = 'table_rot13and2enc_gpt-3.5-turbo.tsv', sep = '\\t', header = TRUE)\n",
    "\n",
    "rot13and2dec_gpt4_df <- read.table(file = 'table_rot13and2dec_gpt-4.tsv', sep = '\\t', header = TRUE)\n",
    "rot13and2dec_gpt35_df <- read.table(file = 'table_rot13and2dec_gpt-3.5-turbo.tsv', sep = '\\t', header = TRUE)"
   ]
  },
  {
   "cell_type": "code",
   "execution_count": 201,
   "id": "6aa5e86c",
   "metadata": {},
   "outputs": [],
   "source": [
    "# Z-score data\n",
    "scaled_rot13and2enc_gpt4_df <- scale_taskpair_df(rot13and2enc_gpt4_df)\n",
    "scaled_rot13and2enc_gpt35_df <- scale_taskpair_df(rot13and2enc_gpt35_df)\n",
    "\n",
    "scaled_rot13and2dec_gpt4_df <- scale_taskpair_df(rot13and2dec_gpt4_df)\n",
    "scaled_rot13and2dec_gpt35_df <- scale_taskpair_df(rot13and2dec_gpt35_df)\n"
   ]
  },
  {
   "cell_type": "code",
   "execution_count": 214,
   "id": "58e54cc4",
   "metadata": {},
   "outputs": [],
   "source": [
    "model_taskenc4 <- bayesglm(correct ~ task + input_nchars + input_ntokens + output_ntokens + input_logprob + output_logprob, \n",
    "               data=scaled_rot13and2enc_gpt4_df, family=binomial)\n"
   ]
  },
  {
   "cell_type": "code",
   "execution_count": 215,
   "id": "8ae8d7ad",
   "metadata": {},
   "outputs": [],
   "source": [
    "model_taskenc35 <- bayesglm(correct ~ task + input_nchars + input_ntokens + output_ntokens + input_logprob + output_logprob, \n",
    "               data=scaled_rot13and2enc_gpt35_df, family=binomial)"
   ]
  },
  {
   "cell_type": "code",
   "execution_count": 216,
   "id": "023d9a8c",
   "metadata": {},
   "outputs": [],
   "source": [
    "model_taskdec4 <- bayesglm(correct ~ task + input_nchars + input_ntokens + output_ntokens + input_logprob + output_logprob, \n",
    "               data=scaled_rot13and2dec_gpt4_df, family=binomial)"
   ]
  },
  {
   "cell_type": "code",
   "execution_count": 217,
   "id": "227aa7f8",
   "metadata": {},
   "outputs": [],
   "source": [
    "model_taskdec35 <- bayesglm(correct ~ task + input_nchars + input_ntokens + output_ntokens + input_logprob + output_logprob, \n",
    "               data=scaled_rot13and2dec_gpt35_df, family=binomial)"
   ]
  },
  {
   "cell_type": "code",
   "execution_count": 212,
   "id": "06389e33",
   "metadata": {},
   "outputs": [
    {
     "data": {
      "text/plain": [
       "\n",
       "Call:\n",
       "bayesglm(formula = correct ~ task + input_nchars + input_ntokens + \n",
       "    output_ntokens + input_logprob + output_logprob, family = binomial, \n",
       "    data = scaled_rot13and2enc_gpt4_df)\n",
       "\n",
       "Deviance Residuals: \n",
       "     Min        1Q    Median        3Q       Max  \n",
       "-1.25996  -0.21828  -0.07806  -0.01271   2.80272  \n",
       "\n",
       "Coefficients:\n",
       "                     Estimate Std. Error z value Pr(>|z|)    \n",
       "(Intercept)          -2.87795    0.60339  -4.770 1.85e-06 ***\n",
       "taskrot2enc_highprob -4.34689    1.55003  -2.804  0.00504 ** \n",
       "input_nchars          0.00124    1.05843   0.001  0.99907    \n",
       "input_ntokens         1.97498    0.87549   2.256  0.02408 *  \n",
       "output_ntokens       -1.08950    1.26502  -0.861  0.38910    \n",
       "input_logprob         0.92065    0.71414   1.289  0.19734    \n",
       "output_logprob        2.60027    1.44862   1.795  0.07265 .  \n",
       "---\n",
       "Signif. codes:  0 ‘***’ 0.001 ‘**’ 0.01 ‘*’ 0.05 ‘.’ 0.1 ‘ ’ 1\n",
       "\n",
       "(Dispersion parameter for binomial family taken to be 1)\n",
       "\n",
       "    Null deviance: 134.373  on 199  degrees of freedom\n",
       "Residual deviance:  67.037  on 193  degrees of freedom\n",
       "AIC: 81.037\n",
       "\n",
       "Number of Fisher Scoring iterations: 58\n"
      ]
     },
     "metadata": {},
     "output_type": "display_data"
    }
   ],
   "source": [
    "summary(model_taskenc4)"
   ]
  },
  {
   "cell_type": "code",
   "execution_count": 218,
   "id": "976ce7f7",
   "metadata": {},
   "outputs": [
    {
     "data": {
      "text/plain": [
       "\n",
       "Call:\n",
       "bayesglm(formula = correct ~ task + input_nchars + input_ntokens + \n",
       "    output_ntokens + input_logprob + output_logprob, family = binomial, \n",
       "    data = scaled_rot13and2enc_gpt35_df)\n",
       "\n",
       "Deviance Residuals: \n",
       "     Min        1Q    Median        3Q       Max  \n",
       "-0.44232  -0.14866  -0.08226  -0.03545   2.65354  \n",
       "\n",
       "Coefficients:\n",
       "                     Estimate Std. Error z value Pr(>|z|)    \n",
       "(Intercept)           -5.2583     1.4729  -3.570 0.000357 ***\n",
       "taskrot2enc_highprob  -1.5737     1.4743  -1.067 0.285808    \n",
       "input_nchars          -0.5263     1.1338  -0.464 0.642517    \n",
       "input_ntokens          0.2504     1.0285   0.243 0.807675    \n",
       "output_ntokens        -0.3844     1.1247  -0.342 0.732540    \n",
       "input_logprob          0.9301     1.1364   0.818 0.413105    \n",
       "output_logprob         0.5483     1.1348   0.483 0.628938    \n",
       "---\n",
       "Signif. codes:  0 ‘***’ 0.001 ‘**’ 0.01 ‘*’ 0.05 ‘.’ 0.1 ‘ ’ 1\n",
       "\n",
       "(Dispersion parameter for binomial family taken to be 1)\n",
       "\n",
       "    Null deviance: 22.401  on 199  degrees of freedom\n",
       "Residual deviance: 15.575  on 193  degrees of freedom\n",
       "AIC: 29.575\n",
       "\n",
       "Number of Fisher Scoring iterations: 33\n"
      ]
     },
     "metadata": {},
     "output_type": "display_data"
    }
   ],
   "source": [
    "summary(model_taskenc35)"
   ]
  },
  {
   "cell_type": "code",
   "execution_count": 219,
   "id": "4e2cc173",
   "metadata": {},
   "outputs": [
    {
     "data": {
      "text/plain": [
       "\n",
       "Call:\n",
       "bayesglm(formula = correct ~ task + input_nchars + input_ntokens + \n",
       "    output_ntokens + input_logprob + output_logprob, family = binomial, \n",
       "    data = scaled_rot13and2dec_gpt4_df)\n",
       "\n",
       "Deviance Residuals: \n",
       "    Min       1Q   Median       3Q      Max  \n",
       "-1.4273  -0.3833  -0.2060   0.7264   2.7140  \n",
       "\n",
       "Coefficients:\n",
       "                     Estimate Std. Error z value Pr(>|z|)    \n",
       "(Intercept)           -0.2299     0.2493  -0.922   0.3564    \n",
       "taskrot2dec_highprob  -3.6513     0.7045  -5.183 2.19e-07 ***\n",
       "input_nchars           0.5057     0.9219   0.549   0.5833    \n",
       "input_ntokens         -0.6930     0.9403  -0.737   0.4611    \n",
       "output_ntokens         0.7964     0.5920   1.345   0.1785    \n",
       "input_logprob          0.4522     0.8507   0.532   0.5950    \n",
       "output_logprob         0.9671     0.4980   1.942   0.0521 .  \n",
       "---\n",
       "Signif. codes:  0 ‘***’ 0.001 ‘**’ 0.01 ‘*’ 0.05 ‘.’ 0.1 ‘ ’ 1\n",
       "\n",
       "(Dispersion parameter for binomial family taken to be 1)\n",
       "\n",
       "    Null deviance: 227.10  on 199  degrees of freedom\n",
       "Residual deviance: 140.81  on 193  degrees of freedom\n",
       "AIC: 154.81\n",
       "\n",
       "Number of Fisher Scoring iterations: 18\n"
      ]
     },
     "metadata": {},
     "output_type": "display_data"
    }
   ],
   "source": [
    "summary(model_taskdec4)"
   ]
  },
  {
   "cell_type": "code",
   "execution_count": 221,
   "id": "24df7123",
   "metadata": {},
   "outputs": [
    {
     "data": {
      "text/plain": [
       "\n",
       "Call:\n",
       "bayesglm(formula = correct ~ task + input_nchars + input_ntokens + \n",
       "    output_ntokens + input_logprob + output_logprob, family = binomial, \n",
       "    data = scaled_rot13and2dec_gpt35_df)\n",
       "\n",
       "Deviance Residuals: \n",
       "     Min        1Q    Median        3Q       Max  \n",
       "-1.30362  -0.24753  -0.08608  -0.01631   2.30323  \n",
       "\n",
       "Coefficients:\n",
       "                     Estimate Std. Error z value Pr(>|z|)    \n",
       "(Intercept)           -2.4093     0.5178  -4.653 3.27e-06 ***\n",
       "taskrot2dec_highprob  -4.6894     1.5828  -2.963  0.00305 ** \n",
       "input_nchars           0.0204     0.9765   0.021  0.98334    \n",
       "input_ntokens         -0.7847     1.0785  -0.728  0.46685    \n",
       "output_ntokens         2.1414     0.8479   2.525  0.01156 *  \n",
       "input_logprob          0.7056     0.9973   0.708  0.47923    \n",
       "output_logprob         2.9299     0.9103   3.219  0.00129 ** \n",
       "---\n",
       "Signif. codes:  0 ‘***’ 0.001 ‘**’ 0.01 ‘*’ 0.05 ‘.’ 0.1 ‘ ’ 1\n",
       "\n",
       "(Dispersion parameter for binomial family taken to be 1)\n",
       "\n",
       "    Null deviance: 142.737  on 199  degrees of freedom\n",
       "Residual deviance:  70.534  on 193  degrees of freedom\n",
       "AIC: 84.534\n",
       "\n",
       "Number of Fisher Scoring iterations: 24\n"
      ]
     },
     "metadata": {},
     "output_type": "display_data"
    }
   ],
   "source": [
    "summary(model_taskdec35)"
   ]
  },
  {
   "cell_type": "code",
   "execution_count": 223,
   "id": "bb7f7c8b",
   "metadata": {},
   "outputs": [
    {
     "data": {
      "text/html": [
       "<style>\n",
       ".dl-inline {width: auto; margin:0; padding: 0}\n",
       ".dl-inline>dt, .dl-inline>dd {float: none; width: auto; display: inline-block}\n",
       ".dl-inline>dt::after {content: \":\\0020\"; padding-right: .5ex}\n",
       ".dl-inline>dt:not(:first-of-type) {padding-left: .5ex}\n",
       "</style><dl class=dl-inline><dt>task</dt><dd>1.01379705814833</dd><dt>input_nchars</dt><dd>3.77069992436779</dd><dt>input_ntokens</dt><dd>3.59525421933258</dd><dt>output_ntokens</dt><dd>4.15792354716933</dd><dt>input_logprob</dt><dd>1.91555615502154</dd><dt>output_logprob</dt><dd>5.24315358049196</dd></dl>\n"
      ],
      "text/latex": [
       "\\begin{description*}\n",
       "\\item[task] 1.01379705814833\n",
       "\\item[input\\textbackslash{}\\_nchars] 3.77069992436779\n",
       "\\item[input\\textbackslash{}\\_ntokens] 3.59525421933258\n",
       "\\item[output\\textbackslash{}\\_ntokens] 4.15792354716933\n",
       "\\item[input\\textbackslash{}\\_logprob] 1.91555615502154\n",
       "\\item[output\\textbackslash{}\\_logprob] 5.24315358049196\n",
       "\\end{description*}\n"
      ],
      "text/markdown": [
       "task\n",
       ":   1.01379705814833input_nchars\n",
       ":   3.77069992436779input_ntokens\n",
       ":   3.59525421933258output_ntokens\n",
       ":   4.15792354716933input_logprob\n",
       ":   1.91555615502154output_logprob\n",
       ":   5.24315358049196\n",
       "\n"
      ],
      "text/plain": [
       "          task   input_nchars  input_ntokens output_ntokens  input_logprob \n",
       "      1.013797       3.770700       3.595254       4.157924       1.915556 \n",
       "output_logprob \n",
       "      5.243154 "
      ]
     },
     "metadata": {},
     "output_type": "display_data"
    }
   ],
   "source": [
    "vif(model_taskenc4)"
   ]
  },
  {
   "cell_type": "code",
   "execution_count": 224,
   "id": "c2ed39a6",
   "metadata": {},
   "outputs": [
    {
     "data": {
      "text/html": [
       "<style>\n",
       ".dl-inline {width: auto; margin:0; padding: 0}\n",
       ".dl-inline>dt, .dl-inline>dd {float: none; width: auto; display: inline-block}\n",
       ".dl-inline>dt::after {content: \":\\0020\"; padding-right: .5ex}\n",
       ".dl-inline>dt:not(:first-of-type) {padding-left: .5ex}\n",
       "</style><dl class=dl-inline><dt>task</dt><dd>1.0061749313768</dd><dt>input_nchars</dt><dd>1.29264832643823</dd><dt>input_ntokens</dt><dd>1.21970976361183</dd><dt>output_ntokens</dt><dd>1.24691852690111</dd><dt>input_logprob</dt><dd>1.19865741226191</dd><dt>output_logprob</dt><dd>1.28339606498525</dd></dl>\n"
      ],
      "text/latex": [
       "\\begin{description*}\n",
       "\\item[task] 1.0061749313768\n",
       "\\item[input\\textbackslash{}\\_nchars] 1.29264832643823\n",
       "\\item[input\\textbackslash{}\\_ntokens] 1.21970976361183\n",
       "\\item[output\\textbackslash{}\\_ntokens] 1.24691852690111\n",
       "\\item[input\\textbackslash{}\\_logprob] 1.19865741226191\n",
       "\\item[output\\textbackslash{}\\_logprob] 1.28339606498525\n",
       "\\end{description*}\n"
      ],
      "text/markdown": [
       "task\n",
       ":   1.0061749313768input_nchars\n",
       ":   1.29264832643823input_ntokens\n",
       ":   1.21970976361183output_ntokens\n",
       ":   1.24691852690111input_logprob\n",
       ":   1.19865741226191output_logprob\n",
       ":   1.28339606498525\n",
       "\n"
      ],
      "text/plain": [
       "          task   input_nchars  input_ntokens output_ntokens  input_logprob \n",
       "      1.006175       1.292648       1.219710       1.246919       1.198657 \n",
       "output_logprob \n",
       "      1.283396 "
      ]
     },
     "metadata": {},
     "output_type": "display_data"
    }
   ],
   "source": [
    "vif(model_taskenc35)"
   ]
  },
  {
   "cell_type": "code",
   "execution_count": 225,
   "id": "835ba69b",
   "metadata": {},
   "outputs": [
    {
     "data": {
      "text/html": [
       "<style>\n",
       ".dl-inline {width: auto; margin:0; padding: 0}\n",
       ".dl-inline>dt, .dl-inline>dd {float: none; width: auto; display: inline-block}\n",
       ".dl-inline>dt::after {content: \":\\0020\"; padding-right: .5ex}\n",
       ".dl-inline>dt:not(:first-of-type) {padding-left: .5ex}\n",
       "</style><dl class=dl-inline><dt>task</dt><dd>1.08605986264145</dd><dt>input_nchars</dt><dd>16.49092862933</dd><dt>input_ntokens</dt><dd>14.195003032695</dd><dt>output_ntokens</dt><dd>7.40669271455083</dd><dt>input_logprob</dt><dd>13.2501911180414</dd><dt>output_logprob</dt><dd>4.62673305409792</dd></dl>\n"
      ],
      "text/latex": [
       "\\begin{description*}\n",
       "\\item[task] 1.08605986264145\n",
       "\\item[input\\textbackslash{}\\_nchars] 16.49092862933\n",
       "\\item[input\\textbackslash{}\\_ntokens] 14.195003032695\n",
       "\\item[output\\textbackslash{}\\_ntokens] 7.40669271455083\n",
       "\\item[input\\textbackslash{}\\_logprob] 13.2501911180414\n",
       "\\item[output\\textbackslash{}\\_logprob] 4.62673305409792\n",
       "\\end{description*}\n"
      ],
      "text/markdown": [
       "task\n",
       ":   1.08605986264145input_nchars\n",
       ":   16.49092862933input_ntokens\n",
       ":   14.195003032695output_ntokens\n",
       ":   7.40669271455083input_logprob\n",
       ":   13.2501911180414output_logprob\n",
       ":   4.62673305409792\n",
       "\n"
      ],
      "text/plain": [
       "          task   input_nchars  input_ntokens output_ntokens  input_logprob \n",
       "      1.086060      16.490929      14.195003       7.406693      13.250191 \n",
       "output_logprob \n",
       "      4.626733 "
      ]
     },
     "metadata": {},
     "output_type": "display_data"
    }
   ],
   "source": [
    "vif(model_taskdec4)"
   ]
  },
  {
   "cell_type": "code",
   "execution_count": 226,
   "id": "56d774b5",
   "metadata": {},
   "outputs": [
    {
     "data": {
      "text/html": [
       "<style>\n",
       ".dl-inline {width: auto; margin:0; padding: 0}\n",
       ".dl-inline>dt, .dl-inline>dd {float: none; width: auto; display: inline-block}\n",
       ".dl-inline>dt::after {content: \":\\0020\"; padding-right: .5ex}\n",
       ".dl-inline>dt:not(:first-of-type) {padding-left: .5ex}\n",
       "</style><dl class=dl-inline><dt>task</dt><dd>1.01512407710054</dd><dt>input_nchars</dt><dd>4.35732236473136</dd><dt>input_ntokens</dt><dd>4.31699438450821</dd><dt>output_ntokens</dt><dd>4.12277311872799</dd><dt>input_logprob</dt><dd>4.23990051625821</dd><dt>output_logprob</dt><dd>2.58778888566715</dd></dl>\n"
      ],
      "text/latex": [
       "\\begin{description*}\n",
       "\\item[task] 1.01512407710054\n",
       "\\item[input\\textbackslash{}\\_nchars] 4.35732236473136\n",
       "\\item[input\\textbackslash{}\\_ntokens] 4.31699438450821\n",
       "\\item[output\\textbackslash{}\\_ntokens] 4.12277311872799\n",
       "\\item[input\\textbackslash{}\\_logprob] 4.23990051625821\n",
       "\\item[output\\textbackslash{}\\_logprob] 2.58778888566715\n",
       "\\end{description*}\n"
      ],
      "text/markdown": [
       "task\n",
       ":   1.01512407710054input_nchars\n",
       ":   4.35732236473136input_ntokens\n",
       ":   4.31699438450821output_ntokens\n",
       ":   4.12277311872799input_logprob\n",
       ":   4.23990051625821output_logprob\n",
       ":   2.58778888566715\n",
       "\n"
      ],
      "text/plain": [
       "          task   input_nchars  input_ntokens output_ntokens  input_logprob \n",
       "      1.015124       4.357322       4.316994       4.122773       4.239901 \n",
       "output_logprob \n",
       "      2.587789 "
      ]
     },
     "metadata": {},
     "output_type": "display_data"
    }
   ],
   "source": [
    "vif(model_taskdec35)"
   ]
  },
  {
   "cell_type": "code",
   "execution_count": null,
   "id": "63176ba6",
   "metadata": {},
   "outputs": [],
   "source": []
  },
  {
   "cell_type": "code",
   "execution_count": null,
   "id": "215a16b3",
   "metadata": {},
   "outputs": [],
   "source": []
  },
  {
   "cell_type": "code",
   "execution_count": null,
   "id": "aa5a8095",
   "metadata": {},
   "outputs": [],
   "source": []
  },
  {
   "cell_type": "code",
   "execution_count": null,
   "id": "e71dc553",
   "metadata": {},
   "outputs": [],
   "source": []
  },
  {
   "cell_type": "code",
   "execution_count": null,
   "id": "72dfda58",
   "metadata": {},
   "outputs": [],
   "source": []
  },
  {
   "cell_type": "code",
   "execution_count": null,
   "id": "d8444542",
   "metadata": {},
   "outputs": [],
   "source": []
  },
  {
   "cell_type": "code",
   "execution_count": null,
   "id": "28b7d0f5",
   "metadata": {},
   "outputs": [],
   "source": []
  },
  {
   "cell_type": "code",
   "execution_count": null,
   "id": "655f54c7",
   "metadata": {},
   "outputs": [],
   "source": []
  },
  {
   "cell_type": "code",
   "execution_count": null,
   "id": "35ddbf94",
   "metadata": {},
   "outputs": [],
   "source": []
  },
  {
   "cell_type": "code",
   "execution_count": 230,
   "id": "2c2c9f1d",
   "metadata": {},
   "outputs": [
    {
     "data": {
      "image/png": "[encoded data removed]",
      "text/plain": [
       "plot without title"
      ]
     },
     "metadata": {
      "image/png": {
       "height": 420,
       "width": 420
      }
     },
     "output_type": "display_data"
    }
   ],
   "source": [
    "library(scales)\n",
    "show_col(hue_pal()(12))"
   ]
  },
  {
   "cell_type": "code",
   "execution_count": null,
   "id": "235c8a42",
   "metadata": {},
   "outputs": [],
   "source": []
  },
  {
   "cell_type": "code",
   "execution_count": null,
   "id": "cd668307",
   "metadata": {},
   "outputs": [],
   "source": []
  },
  {
   "cell_type": "code",
   "execution_count": null,
   "id": "27dae142",
   "metadata": {},
   "outputs": [],
   "source": []
  },
  {
   "cell_type": "code",
   "execution_count": null,
   "id": "30f06ee6",
   "metadata": {},
   "outputs": [],
   "source": []
  },
  {
   "cell_type": "code",
   "execution_count": null,
   "id": "d4a016da",
   "metadata": {},
   "outputs": [],
   "source": []
  }
 ],
 "metadata": {
  "kernelspec": {
   "display_name": "R",
   "language": "R",
   "name": "ir"
  },
  "language_info": {
   "codemirror_mode": "r",
   "file_extension": ".r",
   "mimetype": "text/x-r-source",
   "name": "R",
   "pygments_lexer": "r",
   "version": "4.1.3"
  }
 },
 "nbformat": 4,
 "nbformat_minor": 5
}
