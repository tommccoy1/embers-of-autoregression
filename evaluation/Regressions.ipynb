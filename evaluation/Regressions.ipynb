{
 "cells": [
  {
   "cell_type": "code",
   "execution_count": 352,
   "id": "0b34580a",
   "metadata": {},
   "outputs": [
    {
     "name": "stderr",
     "output_type": "stream",
     "text": [
      "Loading required package: mvtnorm\n",
      "\n",
      "Loading required package: survival\n",
      "\n",
      "Loading required package: TH.data\n",
      "\n",
      "\n",
      "Attaching package: ‘TH.data’\n",
      "\n",
      "\n",
      "The following object is masked from ‘package:MASS’:\n",
      "\n",
      "    geyser\n",
      "\n",
      "\n"
     ]
    }
   ],
   "source": [
    "# Might need to install arm - if so, uncomment the following line\n",
    "#install.packages(\"arm\")\n",
    "library(arm)\n",
    "library(lme4)\n",
    "library(blme)\n",
    "library(ggplot2)\n",
    "library(stringr)\n",
    "library(psycho)\n",
    "library(glmnet)\n",
    "library(car)\n",
    "library(\"multcomp\")"
   ]
  },
  {
   "cell_type": "code",
   "execution_count": 2,
   "id": "a46c3c36",
   "metadata": {},
   "outputs": [],
   "source": [
    "# Set ggplot theme\n",
    "base_size <- 20\n",
    "theme_set(theme_bw(base_size=base_size) +\n",
    "            theme(#panel.grid.major=element_blank(),\n",
    "              panel.grid.minor=element_blank(),\n",
    "              axis.title.y=element_text(angle=90,vjust=0.5),\n",
    "              axis.text.x=element_text(angle=0, hjust=0.5),\n",
    "              axis.title.x=element_blank()))"
   ]
  },
  {
   "cell_type": "code",
   "execution_count": 3,
   "id": "5337c258",
   "metadata": {},
   "outputs": [],
   "source": [
    "correct_vs_length_and_prob <- function(df, include_output_chars=TRUE, include_input_chars=TRUE){\n",
    " \n",
    "    \n",
    "    if (include_output_chars & include_input_chars){\n",
    "        model <- glm(correct ~ input_logprob + output_logprob + input_ntokens + output_ntokens + input_nchars + output_nchars, \n",
    "               data=df, family=binomial)\n",
    "    } else if (include_output_chars & !include_input_chars){\n",
    "        model <- glm(correct ~ input_logprob + output_logprob + input_ntokens + output_ntokens + output_nchars, \n",
    "               data=df, family=binomial)\n",
    "    } else if (!include_output_chars & include_input_chars){\n",
    "        model <- glm(correct ~ input_logprob + output_logprob + input_ntokens + output_ntokens + input_nchars, \n",
    "               data=df, family=binomial)\n",
    "    }\n",
    "  \n",
    "    \n",
    "  return(model)\n",
    "}"
   ]
  },
  {
   "cell_type": "code",
   "execution_count": 274,
   "id": "62ab35f3",
   "metadata": {},
   "outputs": [],
   "source": [
    "# For Z-scoring datasets\n",
    "\n",
    "scale_df <- function(df) {\n",
    "    new_df <- data.frame(scale(df[2:7]))\n",
    "    new_df$index <- as.factor(df$index)\n",
    "    new_df$correct <- df$correct\n",
    "    \n",
    "    return(new_df)\n",
    "}\n",
    "\n",
    "scale_taskpair_df <- function(df) {\n",
    "    new_df <- data.frame(scale(df[3:8]))\n",
    "    new_df$index <- as.factor(df$index)\n",
    "    new_df$task <- as.factor(df$task)\n",
    "    new_df$correct <- df$correct\n",
    "    \n",
    "    return(new_df)\n",
    "}\n",
    "\n",
    "scale_taskpair_prob_df <- function(df) {\n",
    "    new_df <- data.frame(scale(df[2:8]))\n",
    "    new_df$index <- as.factor(df$index)\n",
    "    new_df$correct <- df$correct\n",
    "    \n",
    "    return(new_df)\n",
    "}\n",
    "\n",
    "\n",
    "\n",
    "scale_df_with_index <- function(df) {\n",
    "    new_df <- data.frame(scale(df[1:7]))\n",
    "    new_df$correct <- df$correct\n",
    "    \n",
    "    return(new_df)\n",
    "}"
   ]
  },
  {
   "cell_type": "code",
   "execution_count": null,
   "id": "f199d4a4",
   "metadata": {},
   "outputs": [],
   "source": []
  },
  {
   "cell_type": "code",
   "execution_count": null,
   "id": "d2bad65b",
   "metadata": {},
   "outputs": [],
   "source": []
  },
  {
   "cell_type": "markdown",
   "id": "6adaf9d9",
   "metadata": {},
   "source": [
    "# Shift ciphers"
   ]
  },
  {
   "cell_type": "code",
   "execution_count": 5,
   "id": "7562fa48",
   "metadata": {},
   "outputs": [],
   "source": [
    "# Read in data\n",
    "rot13enc_gpt4_df <- read.table(file = 'table_rot13enc_gpt-4.tsv', sep = '\\t', header = TRUE)\n",
    "rot13enc_gpt35_df <- read.table(file = 'table_rot13enc_gpt-3.5-turbo.tsv', sep = '\\t', header = TRUE)\n",
    "\n",
    "rot13dec_gpt4_df <- read.table(file = 'table_rot13dec_gpt-4.tsv', sep = '\\t', header = TRUE)\n",
    "rot13dec_gpt35_df <- read.table(file = 'table_rot13dec_gpt-3.5-turbo.tsv', sep = '\\t', header = TRUE)"
   ]
  },
  {
   "cell_type": "code",
   "execution_count": 6,
   "id": "58c87af2",
   "metadata": {},
   "outputs": [],
   "source": [
    "# Z-score data\n",
    "scaled_rot13enc_gpt4_df <- scale_df(rot13enc_gpt4_df)\n",
    "scaled_rot13enc_gpt35_df <- scale_df(rot13enc_gpt35_df)\n",
    "\n",
    "scaled_rot13dec_gpt4_df <- scale_df(rot13dec_gpt4_df)\n",
    "scaled_rot13dec_gpt35_df <- scale_df(rot13dec_gpt35_df)\n"
   ]
  },
  {
   "cell_type": "code",
   "execution_count": 7,
   "id": "be3625da",
   "metadata": {},
   "outputs": [
    {
     "name": "stderr",
     "output_type": "stream",
     "text": [
      "Warning message:\n",
      "“glm.fit: fitted probabilities numerically 0 or 1 occurred”\n"
     ]
    }
   ],
   "source": [
    "\n",
    "rot13enc_gpt4_model <- correct_vs_length_and_prob(scaled_rot13enc_gpt4_df, include_output_chars=FALSE)\n",
    "rot13enc_gpt35_model <- correct_vs_length_and_prob(scaled_rot13enc_gpt35_df, include_output_chars=FALSE)\n",
    "\n",
    "rot13dec_gpt4_model <- correct_vs_length_and_prob(scaled_rot13dec_gpt4_df, include_output_chars=FALSE)\n",
    "rot13dec_gpt35_model <- correct_vs_length_and_prob(scaled_rot13dec_gpt35_df, include_output_chars=FALSE)"
   ]
  },
  {
   "cell_type": "code",
   "execution_count": 8,
   "id": "0349e2f1",
   "metadata": {},
   "outputs": [
    {
     "data": {
      "text/plain": [
       "\n",
       "Call:\n",
       "glm(formula = correct ~ input_logprob + output_logprob + input_ntokens + \n",
       "    output_ntokens + input_nchars, family = binomial, data = df)\n",
       "\n",
       "Deviance Residuals: \n",
       "     Min        1Q    Median        3Q       Max  \n",
       "-2.06663  -0.44366  -0.14606  -0.01354   2.97169  \n",
       "\n",
       "Coefficients:\n",
       "               Estimate Std. Error z value Pr(>|z|)    \n",
       "(Intercept)     -4.1193     0.5713  -7.211 5.57e-13 ***\n",
       "input_logprob    1.2158     0.4594   2.646  0.00814 ** \n",
       "output_logprob   7.0316     3.1573   2.227  0.02594 *  \n",
       "input_ntokens    2.9504     0.9824   3.003  0.00267 ** \n",
       "output_ntokens  -1.5485     2.5145  -0.616  0.53802    \n",
       "input_nchars     3.0854     3.3378   0.924  0.35529    \n",
       "---\n",
       "Signif. codes:  0 ‘***’ 0.001 ‘**’ 0.01 ‘*’ 0.05 ‘.’ 0.1 ‘ ’ 1\n",
       "\n",
       "(Dispersion parameter for binomial family taken to be 1)\n",
       "\n",
       "    Null deviance: 246.58  on 299  degrees of freedom\n",
       "Residual deviance: 156.14  on 294  degrees of freedom\n",
       "AIC: 168.14\n",
       "\n",
       "Number of Fisher Scoring iterations: 7\n"
      ]
     },
     "metadata": {},
     "output_type": "display_data"
    }
   ],
   "source": [
    "summary(rot13enc_gpt4_model)"
   ]
  },
  {
   "cell_type": "code",
   "execution_count": 9,
   "id": "f2b11b58",
   "metadata": {},
   "outputs": [
    {
     "data": {
      "text/plain": [
       "\n",
       "Call:\n",
       "glm(formula = correct ~ input_logprob + output_logprob + input_ntokens + \n",
       "    output_ntokens + input_nchars, family = binomial, data = df)\n",
       "\n",
       "Deviance Residuals: \n",
       "     Min        1Q    Median        3Q       Max  \n",
       "-1.28769  -0.08616  -0.01909  -0.00030   3.10549  \n",
       "\n",
       "Coefficients:\n",
       "               Estimate Std. Error z value Pr(>|z|)    \n",
       "(Intercept)    -10.7542     2.5495  -4.218 2.46e-05 ***\n",
       "input_logprob   -0.2191     1.0850  -0.202   0.8399    \n",
       "output_logprob  19.6737     9.8166   2.004   0.0451 *  \n",
       "input_ntokens    4.3058     2.6034   1.654   0.0982 .  \n",
       "output_ntokens   4.5089     7.3753   0.611   0.5410    \n",
       "input_nchars     3.5266     8.5951   0.410   0.6816    \n",
       "---\n",
       "Signif. codes:  0 ‘***’ 0.001 ‘**’ 0.01 ‘*’ 0.05 ‘.’ 0.1 ‘ ’ 1\n",
       "\n",
       "(Dispersion parameter for binomial family taken to be 1)\n",
       "\n",
       "    Null deviance: 80.845  on 299  degrees of freedom\n",
       "Residual deviance: 37.569  on 294  degrees of freedom\n",
       "AIC: 49.569\n",
       "\n",
       "Number of Fisher Scoring iterations: 10\n"
      ]
     },
     "metadata": {},
     "output_type": "display_data"
    }
   ],
   "source": [
    "summary(rot13enc_gpt35_model)"
   ]
  },
  {
   "cell_type": "code",
   "execution_count": 10,
   "id": "b4bcf405",
   "metadata": {},
   "outputs": [
    {
     "data": {
      "text/plain": [
       "\n",
       "Call:\n",
       "glm(formula = correct ~ input_logprob + output_logprob + input_ntokens + \n",
       "    output_ntokens + input_nchars, family = binomial, data = df)\n",
       "\n",
       "Deviance Residuals: \n",
       "    Min       1Q   Median       3Q      Max  \n",
       "-1.4640  -0.8038  -0.4112   0.8902   2.5726  \n",
       "\n",
       "Coefficients:\n",
       "               Estimate Std. Error z value Pr(>|z|)    \n",
       "(Intercept)     -1.4509     0.1977  -7.340 2.13e-13 ***\n",
       "input_logprob    1.4829     1.7607   0.842   0.3996    \n",
       "output_logprob   1.7068     0.3173   5.380 7.46e-08 ***\n",
       "input_ntokens   -3.0153     1.6183  -1.863   0.0624 .  \n",
       "output_ntokens   0.5686     0.6128   0.928   0.3535    \n",
       "input_nchars     4.0308     2.1224   1.899   0.0575 .  \n",
       "---\n",
       "Signif. codes:  0 ‘***’ 0.001 ‘**’ 0.01 ‘*’ 0.05 ‘.’ 0.1 ‘ ’ 1\n",
       "\n",
       "(Dispersion parameter for binomial family taken to be 1)\n",
       "\n",
       "    Null deviance: 357.64  on 299  degrees of freedom\n",
       "Residual deviance: 285.30  on 294  degrees of freedom\n",
       "AIC: 297.3\n",
       "\n",
       "Number of Fisher Scoring iterations: 6\n"
      ]
     },
     "metadata": {},
     "output_type": "display_data"
    }
   ],
   "source": [
    "summary(rot13dec_gpt4_model)"
   ]
  },
  {
   "cell_type": "code",
   "execution_count": 11,
   "id": "00e428ab",
   "metadata": {},
   "outputs": [
    {
     "data": {
      "text/plain": [
       "\n",
       "Call:\n",
       "glm(formula = correct ~ input_logprob + output_logprob + input_ntokens + \n",
       "    output_ntokens + input_nchars, family = binomial, data = df)\n",
       "\n",
       "Deviance Residuals: \n",
       "     Min        1Q    Median        3Q       Max  \n",
       "-1.44662  -0.32654  -0.10349  -0.01189   2.92757  \n",
       "\n",
       "Coefficients:\n",
       "               Estimate Std. Error z value Pr(>|z|)    \n",
       "(Intercept)     -5.0436     0.7792  -6.473 9.62e-11 ***\n",
       "input_logprob    3.2597     3.3367   0.977   0.3286    \n",
       "output_logprob   3.8136     0.8978   4.247 2.16e-05 ***\n",
       "input_ntokens   -5.2379     2.7949  -1.874   0.0609 .  \n",
       "output_ntokens   2.4683     1.0515   2.347   0.0189 *  \n",
       "input_nchars     5.5853     3.6081   1.548   0.1216    \n",
       "---\n",
       "Signif. codes:  0 ‘***’ 0.001 ‘**’ 0.01 ‘*’ 0.05 ‘.’ 0.1 ‘ ’ 1\n",
       "\n",
       "(Dispersion parameter for binomial family taken to be 1)\n",
       "\n",
       "    Null deviance: 203.69  on 299  degrees of freedom\n",
       "Residual deviance: 125.76  on 294  degrees of freedom\n",
       "AIC: 137.76\n",
       "\n",
       "Number of Fisher Scoring iterations: 8\n"
      ]
     },
     "metadata": {},
     "output_type": "display_data"
    }
   ],
   "source": [
    "summary(rot13dec_gpt35_model)"
   ]
  },
  {
   "cell_type": "code",
   "execution_count": 12,
   "id": "056a319f",
   "metadata": {},
   "outputs": [
    {
     "data": {
      "text/html": [
       "<style>\n",
       ".dl-inline {width: auto; margin:0; padding: 0}\n",
       ".dl-inline>dt, .dl-inline>dd {float: none; width: auto; display: inline-block}\n",
       ".dl-inline>dt::after {content: \":\\0020\"; padding-right: .5ex}\n",
       ".dl-inline>dt:not(:first-of-type) {padding-left: .5ex}\n",
       "</style><dl class=dl-inline><dt>input_logprob</dt><dd>1.13060028460815</dd><dt>output_logprob</dt><dd>39.2999881540218</dd><dt>input_ntokens</dt><dd>8.65403820671995</dd><dt>output_ntokens</dt><dd>29.877453052741</dd><dt>input_nchars</dt><dd>52.790918043775</dd></dl>\n"
      ],
      "text/latex": [
       "\\begin{description*}\n",
       "\\item[input\\textbackslash{}\\_logprob] 1.13060028460815\n",
       "\\item[output\\textbackslash{}\\_logprob] 39.2999881540218\n",
       "\\item[input\\textbackslash{}\\_ntokens] 8.65403820671995\n",
       "\\item[output\\textbackslash{}\\_ntokens] 29.877453052741\n",
       "\\item[input\\textbackslash{}\\_nchars] 52.790918043775\n",
       "\\end{description*}\n"
      ],
      "text/markdown": [
       "input_logprob\n",
       ":   1.13060028460815output_logprob\n",
       ":   39.2999881540218input_ntokens\n",
       ":   8.65403820671995output_ntokens\n",
       ":   29.877453052741input_nchars\n",
       ":   52.790918043775\n",
       "\n"
      ],
      "text/plain": [
       " input_logprob output_logprob  input_ntokens output_ntokens   input_nchars \n",
       "      1.130600      39.299988       8.654038      29.877453      52.790918 "
      ]
     },
     "metadata": {},
     "output_type": "display_data"
    }
   ],
   "source": [
    "vif(rot13enc_gpt4_model)"
   ]
  },
  {
   "cell_type": "code",
   "execution_count": 13,
   "id": "c8612831",
   "metadata": {},
   "outputs": [
    {
     "data": {
      "text/html": [
       "<style>\n",
       ".dl-inline {width: auto; margin:0; padding: 0}\n",
       ".dl-inline>dt, .dl-inline>dd {float: none; width: auto; display: inline-block}\n",
       ".dl-inline>dt::after {content: \":\\0020\"; padding-right: .5ex}\n",
       ".dl-inline>dt:not(:first-of-type) {padding-left: .5ex}\n",
       "</style><dl class=dl-inline><dt>input_logprob</dt><dd>1.25639002821856</dd><dt>output_logprob</dt><dd>43.2090143352466</dd><dt>input_ntokens</dt><dd>7.38310220068426</dd><dt>output_ntokens</dt><dd>30.0322450340358</dd><dt>input_nchars</dt><dd>48.2725620183424</dd></dl>\n"
      ],
      "text/latex": [
       "\\begin{description*}\n",
       "\\item[input\\textbackslash{}\\_logprob] 1.25639002821856\n",
       "\\item[output\\textbackslash{}\\_logprob] 43.2090143352466\n",
       "\\item[input\\textbackslash{}\\_ntokens] 7.38310220068426\n",
       "\\item[output\\textbackslash{}\\_ntokens] 30.0322450340358\n",
       "\\item[input\\textbackslash{}\\_nchars] 48.2725620183424\n",
       "\\end{description*}\n"
      ],
      "text/markdown": [
       "input_logprob\n",
       ":   1.25639002821856output_logprob\n",
       ":   43.2090143352466input_ntokens\n",
       ":   7.38310220068426output_ntokens\n",
       ":   30.0322450340358input_nchars\n",
       ":   48.2725620183424\n",
       "\n"
      ],
      "text/plain": [
       " input_logprob output_logprob  input_ntokens output_ntokens   input_nchars \n",
       "      1.256390      43.209014       7.383102      30.032245      48.272562 "
      ]
     },
     "metadata": {},
     "output_type": "display_data"
    }
   ],
   "source": [
    "vif(rot13enc_gpt35_model)"
   ]
  },
  {
   "cell_type": "code",
   "execution_count": 14,
   "id": "dffc1b12",
   "metadata": {},
   "outputs": [
    {
     "data": {
      "text/html": [
       "<style>\n",
       ".dl-inline {width: auto; margin:0; padding: 0}\n",
       ".dl-inline>dt, .dl-inline>dd {float: none; width: auto; display: inline-block}\n",
       ".dl-inline>dt::after {content: \":\\0020\"; padding-right: .5ex}\n",
       ".dl-inline>dt:not(:first-of-type) {padding-left: .5ex}\n",
       "</style><dl class=dl-inline><dt>input_logprob</dt><dd>97.9008021734459</dd><dt>output_logprob</dt><dd>1.38998564571739</dd><dt>input_ntokens</dt><dd>83.241864775906</dd><dt>output_ntokens</dt><dd>13.5951958508497</dd><dt>input_nchars</dt><dd>146.200936176301</dd></dl>\n"
      ],
      "text/latex": [
       "\\begin{description*}\n",
       "\\item[input\\textbackslash{}\\_logprob] 97.9008021734459\n",
       "\\item[output\\textbackslash{}\\_logprob] 1.38998564571739\n",
       "\\item[input\\textbackslash{}\\_ntokens] 83.241864775906\n",
       "\\item[output\\textbackslash{}\\_ntokens] 13.5951958508497\n",
       "\\item[input\\textbackslash{}\\_nchars] 146.200936176301\n",
       "\\end{description*}\n"
      ],
      "text/markdown": [
       "input_logprob\n",
       ":   97.9008021734459output_logprob\n",
       ":   1.38998564571739input_ntokens\n",
       ":   83.241864775906output_ntokens\n",
       ":   13.5951958508497input_nchars\n",
       ":   146.200936176301\n",
       "\n"
      ],
      "text/plain": [
       " input_logprob output_logprob  input_ntokens output_ntokens   input_nchars \n",
       "     97.900802       1.389986      83.241865      13.595196     146.200936 "
      ]
     },
     "metadata": {},
     "output_type": "display_data"
    }
   ],
   "source": [
    "vif(rot13dec_gpt4_model)"
   ]
  },
  {
   "cell_type": "code",
   "execution_count": 15,
   "id": "1b9fd308",
   "metadata": {},
   "outputs": [
    {
     "data": {
      "text/html": [
       "<style>\n",
       ".dl-inline {width: auto; margin:0; padding: 0}\n",
       ".dl-inline>dt, .dl-inline>dd {float: none; width: auto; display: inline-block}\n",
       ".dl-inline>dt::after {content: \":\\0020\"; padding-right: .5ex}\n",
       ".dl-inline>dt:not(:first-of-type) {padding-left: .5ex}\n",
       "</style><dl class=dl-inline><dt>input_logprob</dt><dd>57.7593618892859</dd><dt>output_logprob</dt><dd>1.36501824362838</dd><dt>input_ntokens</dt><dd>42.0213121980875</dd><dt>output_ntokens</dt><dd>9.27721323318939</dd><dt>input_nchars</dt><dd>74.9922639156847</dd></dl>\n"
      ],
      "text/latex": [
       "\\begin{description*}\n",
       "\\item[input\\textbackslash{}\\_logprob] 57.7593618892859\n",
       "\\item[output\\textbackslash{}\\_logprob] 1.36501824362838\n",
       "\\item[input\\textbackslash{}\\_ntokens] 42.0213121980875\n",
       "\\item[output\\textbackslash{}\\_ntokens] 9.27721323318939\n",
       "\\item[input\\textbackslash{}\\_nchars] 74.9922639156847\n",
       "\\end{description*}\n"
      ],
      "text/markdown": [
       "input_logprob\n",
       ":   57.7593618892859output_logprob\n",
       ":   1.36501824362838input_ntokens\n",
       ":   42.0213121980875output_ntokens\n",
       ":   9.27721323318939input_nchars\n",
       ":   74.9922639156847\n",
       "\n"
      ],
      "text/plain": [
       " input_logprob output_logprob  input_ntokens output_ntokens   input_nchars \n",
       "     57.759362       1.365018      42.021312       9.277213      74.992264 "
      ]
     },
     "metadata": {},
     "output_type": "display_data"
    }
   ],
   "source": [
    "vif(rot13dec_gpt35_model)"
   ]
  },
  {
   "cell_type": "code",
   "execution_count": null,
   "id": "20f21b5c",
   "metadata": {},
   "outputs": [],
   "source": []
  },
  {
   "cell_type": "markdown",
   "id": "d30353fb",
   "metadata": {},
   "source": [
    "### Distance as output"
   ]
  },
  {
   "cell_type": "code",
   "execution_count": 16,
   "id": "24d856bc",
   "metadata": {},
   "outputs": [],
   "source": [
    "# Read in data\n",
    "rot13encdist_gpt4_df <- read.table(file = 'table_rot13enc_gpt-4_dist.tsv', sep = '\\t', header = TRUE)\n",
    "rot13encdist_gpt35_df <- read.table(file = 'table_rot13enc_gpt-3.5-turbo_dist.tsv', sep = '\\t', header = TRUE)"
   ]
  },
  {
   "cell_type": "code",
   "execution_count": 17,
   "id": "42b588b6",
   "metadata": {},
   "outputs": [],
   "source": [
    "# Get rid of \"correct\"\n",
    "rot13encdist_gpt4_df <- rot13encdist_gpt4_df[,-c(1,8)]\n",
    "rot13encdist_gpt35_df <- rot13encdist_gpt35_df[,-c(1,8)]\n",
    "\n",
    "# Scale\n",
    "rot13encdist_gpt4_df <- data.frame(scale(rot13encdist_gpt4_df))\n",
    "rot13encdist_gpt35_df <- data.frame(scale(rot13encdist_gpt35_df))"
   ]
  },
  {
   "cell_type": "code",
   "execution_count": 19,
   "id": "375d1276",
   "metadata": {},
   "outputs": [],
   "source": [
    "model_dist4 <- glm(distance ~ input_logprob + output_logprob + input_ntokens + output_ntokens + input_nchars, \n",
    "               data=rot13encdist_gpt4_df)\n",
    "model_dist35 <- glm(distance ~ input_logprob + output_logprob + input_ntokens + output_ntokens + input_nchars, \n",
    "               data=rot13encdist_gpt35_df)"
   ]
  },
  {
   "cell_type": "code",
   "execution_count": 20,
   "id": "8b3c76a9",
   "metadata": {},
   "outputs": [
    {
     "data": {
      "text/plain": [
       "\n",
       "Call:\n",
       "glm(formula = distance ~ input_logprob + output_logprob + input_ntokens + \n",
       "    output_ntokens + input_nchars, data = rot13encdist_gpt4_df)\n",
       "\n",
       "Deviance Residuals: \n",
       "     Min        1Q    Median        3Q       Max  \n",
       "-1.68257  -0.33897  -0.02941   0.30112   1.84476  \n",
       "\n",
       "Coefficients:\n",
       "                 Estimate Std. Error t value Pr(>|t|)    \n",
       "(Intercept)    -2.154e-16  3.249e-02   0.000 1.000000    \n",
       "input_logprob  -1.267e-01  4.416e-02  -2.870 0.004400 ** \n",
       "output_logprob -4.197e-02  3.234e-01  -0.130 0.896813    \n",
       "input_ntokens  -1.169e+00  1.215e-01  -9.622  < 2e-16 ***\n",
       "output_ntokens  1.270e+00  3.278e-01   3.874 0.000132 ***\n",
       "input_nchars    4.705e-01  4.318e-01   1.090 0.276816    \n",
       "---\n",
       "Signif. codes:  0 ‘***’ 0.001 ‘**’ 0.01 ‘*’ 0.05 ‘.’ 0.1 ‘ ’ 1\n",
       "\n",
       "(Dispersion parameter for gaussian family taken to be 0.3166029)\n",
       "\n",
       "    Null deviance: 299.000  on 299  degrees of freedom\n",
       "Residual deviance:  93.081  on 294  degrees of freedom\n",
       "AIC: 514.27\n",
       "\n",
       "Number of Fisher Scoring iterations: 2\n"
      ]
     },
     "metadata": {},
     "output_type": "display_data"
    }
   ],
   "source": [
    "summary(model_dist4)"
   ]
  },
  {
   "cell_type": "code",
   "execution_count": 21,
   "id": "e6330e3a",
   "metadata": {},
   "outputs": [
    {
     "data": {
      "text/plain": [
       "\n",
       "Call:\n",
       "glm(formula = distance ~ input_logprob + output_logprob + input_ntokens + \n",
       "    output_ntokens + input_nchars, data = rot13encdist_gpt35_df)\n",
       "\n",
       "Deviance Residuals: \n",
       "    Min       1Q   Median       3Q      Max  \n",
       "-1.1626  -0.2882  -0.0866   0.1133  10.7318  \n",
       "\n",
       "Coefficients:\n",
       "                 Estimate Std. Error t value Pr(>|t|)   \n",
       "(Intercept)    -9.047e-17  4.855e-02   0.000  1.00000   \n",
       "input_logprob  -2.171e-01  6.600e-02  -3.290  0.00112 **\n",
       "output_logprob -1.539e-01  4.833e-01  -0.318  0.75043   \n",
       "input_ntokens  -5.903e-01  1.816e-01  -3.251  0.00128 **\n",
       "output_ntokens -1.081e-01  4.899e-01  -0.221  0.82552   \n",
       "input_nchars    8.754e-01  6.454e-01   1.356  0.17601   \n",
       "---\n",
       "Signif. codes:  0 ‘***’ 0.001 ‘**’ 0.01 ‘*’ 0.05 ‘.’ 0.1 ‘ ’ 1\n",
       "\n",
       "(Dispersion parameter for gaussian family taken to be 0.707216)\n",
       "\n",
       "    Null deviance: 299.00  on 299  degrees of freedom\n",
       "Residual deviance: 207.92  on 294  degrees of freedom\n",
       "AIC: 755.38\n",
       "\n",
       "Number of Fisher Scoring iterations: 2\n"
      ]
     },
     "metadata": {},
     "output_type": "display_data"
    }
   ],
   "source": [
    "summary(model_dist35)"
   ]
  },
  {
   "cell_type": "code",
   "execution_count": null,
   "id": "48ac4b34",
   "metadata": {},
   "outputs": [],
   "source": []
  },
  {
   "cell_type": "markdown",
   "id": "22f4df03",
   "metadata": {},
   "source": [
    "### Comparing rot-2 to rot-13"
   ]
  },
  {
   "cell_type": "code",
   "execution_count": 200,
   "id": "ac5e50aa",
   "metadata": {},
   "outputs": [],
   "source": [
    "# Read in data\n",
    "rot13and2enc_gpt4_df <- read.table(file = 'table_rot13and2enc_gpt-4.tsv', sep = '\\t', header = TRUE)\n",
    "rot13and2enc_gpt35_df <- read.table(file = 'table_rot13and2enc_gpt-3.5-turbo.tsv', sep = '\\t', header = TRUE)\n",
    "\n",
    "rot13and2dec_gpt4_df <- read.table(file = 'table_rot13and2dec_gpt-4.tsv', sep = '\\t', header = TRUE)\n",
    "rot13and2dec_gpt35_df <- read.table(file = 'table_rot13and2dec_gpt-3.5-turbo.tsv', sep = '\\t', header = TRUE)"
   ]
  },
  {
   "cell_type": "code",
   "execution_count": 201,
   "id": "5cd6972c",
   "metadata": {},
   "outputs": [],
   "source": [
    "# Z-score data\n",
    "scaled_rot13and2enc_gpt4_df <- scale_taskpair_df(rot13and2enc_gpt4_df)\n",
    "scaled_rot13and2enc_gpt35_df <- scale_taskpair_df(rot13and2enc_gpt35_df)\n",
    "\n",
    "scaled_rot13and2dec_gpt4_df <- scale_taskpair_df(rot13and2dec_gpt4_df)\n",
    "scaled_rot13and2dec_gpt35_df <- scale_taskpair_df(rot13and2dec_gpt35_df)\n"
   ]
  },
  {
   "cell_type": "code",
   "execution_count": 214,
   "id": "4139a6e4",
   "metadata": {},
   "outputs": [],
   "source": [
    "model_taskenc4 <- bayesglm(correct ~ task + input_nchars + input_ntokens + output_ntokens + input_logprob + output_logprob, \n",
    "               data=scaled_rot13and2enc_gpt4_df, family=binomial)\n"
   ]
  },
  {
   "cell_type": "code",
   "execution_count": 215,
   "id": "5d7f81c1",
   "metadata": {},
   "outputs": [],
   "source": [
    "model_taskenc35 <- bayesglm(correct ~ task + input_nchars + input_ntokens + output_ntokens + input_logprob + output_logprob, \n",
    "               data=scaled_rot13and2enc_gpt35_df, family=binomial)"
   ]
  },
  {
   "cell_type": "code",
   "execution_count": 216,
   "id": "1b965c05",
   "metadata": {},
   "outputs": [],
   "source": [
    "model_taskdec4 <- bayesglm(correct ~ task + input_nchars + input_ntokens + output_ntokens + input_logprob + output_logprob, \n",
    "               data=scaled_rot13and2dec_gpt4_df, family=binomial)"
   ]
  },
  {
   "cell_type": "code",
   "execution_count": 217,
   "id": "dae410b8",
   "metadata": {},
   "outputs": [],
   "source": [
    "model_taskdec35 <- bayesglm(correct ~ task + input_nchars + input_ntokens + output_ntokens + input_logprob + output_logprob, \n",
    "               data=scaled_rot13and2dec_gpt35_df, family=binomial)"
   ]
  },
  {
   "cell_type": "code",
   "execution_count": 212,
   "id": "3de4b3b6",
   "metadata": {},
   "outputs": [
    {
     "data": {
      "text/plain": [
       "\n",
       "Call:\n",
       "bayesglm(formula = correct ~ task + input_nchars + input_ntokens + \n",
       "    output_ntokens + input_logprob + output_logprob, family = binomial, \n",
       "    data = scaled_rot13and2enc_gpt4_df)\n",
       "\n",
       "Deviance Residuals: \n",
       "     Min        1Q    Median        3Q       Max  \n",
       "-1.25996  -0.21828  -0.07806  -0.01271   2.80272  \n",
       "\n",
       "Coefficients:\n",
       "                     Estimate Std. Error z value Pr(>|z|)    \n",
       "(Intercept)          -2.87795    0.60339  -4.770 1.85e-06 ***\n",
       "taskrot2enc_highprob -4.34689    1.55003  -2.804  0.00504 ** \n",
       "input_nchars          0.00124    1.05843   0.001  0.99907    \n",
       "input_ntokens         1.97498    0.87549   2.256  0.02408 *  \n",
       "output_ntokens       -1.08950    1.26502  -0.861  0.38910    \n",
       "input_logprob         0.92065    0.71414   1.289  0.19734    \n",
       "output_logprob        2.60027    1.44862   1.795  0.07265 .  \n",
       "---\n",
       "Signif. codes:  0 ‘***’ 0.001 ‘**’ 0.01 ‘*’ 0.05 ‘.’ 0.1 ‘ ’ 1\n",
       "\n",
       "(Dispersion parameter for binomial family taken to be 1)\n",
       "\n",
       "    Null deviance: 134.373  on 199  degrees of freedom\n",
       "Residual deviance:  67.037  on 193  degrees of freedom\n",
       "AIC: 81.037\n",
       "\n",
       "Number of Fisher Scoring iterations: 58\n"
      ]
     },
     "metadata": {},
     "output_type": "display_data"
    }
   ],
   "source": [
    "summary(model_taskenc4)"
   ]
  },
  {
   "cell_type": "code",
   "execution_count": 218,
   "id": "dde0ea77",
   "metadata": {},
   "outputs": [
    {
     "data": {
      "text/plain": [
       "\n",
       "Call:\n",
       "bayesglm(formula = correct ~ task + input_nchars + input_ntokens + \n",
       "    output_ntokens + input_logprob + output_logprob, family = binomial, \n",
       "    data = scaled_rot13and2enc_gpt35_df)\n",
       "\n",
       "Deviance Residuals: \n",
       "     Min        1Q    Median        3Q       Max  \n",
       "-0.44232  -0.14866  -0.08226  -0.03545   2.65354  \n",
       "\n",
       "Coefficients:\n",
       "                     Estimate Std. Error z value Pr(>|z|)    \n",
       "(Intercept)           -5.2583     1.4729  -3.570 0.000357 ***\n",
       "taskrot2enc_highprob  -1.5737     1.4743  -1.067 0.285808    \n",
       "input_nchars          -0.5263     1.1338  -0.464 0.642517    \n",
       "input_ntokens          0.2504     1.0285   0.243 0.807675    \n",
       "output_ntokens        -0.3844     1.1247  -0.342 0.732540    \n",
       "input_logprob          0.9301     1.1364   0.818 0.413105    \n",
       "output_logprob         0.5483     1.1348   0.483 0.628938    \n",
       "---\n",
       "Signif. codes:  0 ‘***’ 0.001 ‘**’ 0.01 ‘*’ 0.05 ‘.’ 0.1 ‘ ’ 1\n",
       "\n",
       "(Dispersion parameter for binomial family taken to be 1)\n",
       "\n",
       "    Null deviance: 22.401  on 199  degrees of freedom\n",
       "Residual deviance: 15.575  on 193  degrees of freedom\n",
       "AIC: 29.575\n",
       "\n",
       "Number of Fisher Scoring iterations: 33\n"
      ]
     },
     "metadata": {},
     "output_type": "display_data"
    }
   ],
   "source": [
    "summary(model_taskenc35)"
   ]
  },
  {
   "cell_type": "code",
   "execution_count": 219,
   "id": "0ae4c402",
   "metadata": {},
   "outputs": [
    {
     "data": {
      "text/plain": [
       "\n",
       "Call:\n",
       "bayesglm(formula = correct ~ task + input_nchars + input_ntokens + \n",
       "    output_ntokens + input_logprob + output_logprob, family = binomial, \n",
       "    data = scaled_rot13and2dec_gpt4_df)\n",
       "\n",
       "Deviance Residuals: \n",
       "    Min       1Q   Median       3Q      Max  \n",
       "-1.4273  -0.3833  -0.2060   0.7264   2.7140  \n",
       "\n",
       "Coefficients:\n",
       "                     Estimate Std. Error z value Pr(>|z|)    \n",
       "(Intercept)           -0.2299     0.2493  -0.922   0.3564    \n",
       "taskrot2dec_highprob  -3.6513     0.7045  -5.183 2.19e-07 ***\n",
       "input_nchars           0.5057     0.9219   0.549   0.5833    \n",
       "input_ntokens         -0.6930     0.9403  -0.737   0.4611    \n",
       "output_ntokens         0.7964     0.5920   1.345   0.1785    \n",
       "input_logprob          0.4522     0.8507   0.532   0.5950    \n",
       "output_logprob         0.9671     0.4980   1.942   0.0521 .  \n",
       "---\n",
       "Signif. codes:  0 ‘***’ 0.001 ‘**’ 0.01 ‘*’ 0.05 ‘.’ 0.1 ‘ ’ 1\n",
       "\n",
       "(Dispersion parameter for binomial family taken to be 1)\n",
       "\n",
       "    Null deviance: 227.10  on 199  degrees of freedom\n",
       "Residual deviance: 140.81  on 193  degrees of freedom\n",
       "AIC: 154.81\n",
       "\n",
       "Number of Fisher Scoring iterations: 18\n"
      ]
     },
     "metadata": {},
     "output_type": "display_data"
    }
   ],
   "source": [
    "summary(model_taskdec4)"
   ]
  },
  {
   "cell_type": "code",
   "execution_count": 221,
   "id": "d7721935",
   "metadata": {},
   "outputs": [
    {
     "data": {
      "text/plain": [
       "\n",
       "Call:\n",
       "bayesglm(formula = correct ~ task + input_nchars + input_ntokens + \n",
       "    output_ntokens + input_logprob + output_logprob, family = binomial, \n",
       "    data = scaled_rot13and2dec_gpt35_df)\n",
       "\n",
       "Deviance Residuals: \n",
       "     Min        1Q    Median        3Q       Max  \n",
       "-1.30362  -0.24753  -0.08608  -0.01631   2.30323  \n",
       "\n",
       "Coefficients:\n",
       "                     Estimate Std. Error z value Pr(>|z|)    \n",
       "(Intercept)           -2.4093     0.5178  -4.653 3.27e-06 ***\n",
       "taskrot2dec_highprob  -4.6894     1.5828  -2.963  0.00305 ** \n",
       "input_nchars           0.0204     0.9765   0.021  0.98334    \n",
       "input_ntokens         -0.7847     1.0785  -0.728  0.46685    \n",
       "output_ntokens         2.1414     0.8479   2.525  0.01156 *  \n",
       "input_logprob          0.7056     0.9973   0.708  0.47923    \n",
       "output_logprob         2.9299     0.9103   3.219  0.00129 ** \n",
       "---\n",
       "Signif. codes:  0 ‘***’ 0.001 ‘**’ 0.01 ‘*’ 0.05 ‘.’ 0.1 ‘ ’ 1\n",
       "\n",
       "(Dispersion parameter for binomial family taken to be 1)\n",
       "\n",
       "    Null deviance: 142.737  on 199  degrees of freedom\n",
       "Residual deviance:  70.534  on 193  degrees of freedom\n",
       "AIC: 84.534\n",
       "\n",
       "Number of Fisher Scoring iterations: 24\n"
      ]
     },
     "metadata": {},
     "output_type": "display_data"
    }
   ],
   "source": [
    "summary(model_taskdec35)"
   ]
  },
  {
   "cell_type": "code",
   "execution_count": 223,
   "id": "5ae5dff1",
   "metadata": {},
   "outputs": [
    {
     "data": {
      "text/html": [
       "<style>\n",
       ".dl-inline {width: auto; margin:0; padding: 0}\n",
       ".dl-inline>dt, .dl-inline>dd {float: none; width: auto; display: inline-block}\n",
       ".dl-inline>dt::after {content: \":\\0020\"; padding-right: .5ex}\n",
       ".dl-inline>dt:not(:first-of-type) {padding-left: .5ex}\n",
       "</style><dl class=dl-inline><dt>task</dt><dd>1.01379705814833</dd><dt>input_nchars</dt><dd>3.77069992436779</dd><dt>input_ntokens</dt><dd>3.59525421933258</dd><dt>output_ntokens</dt><dd>4.15792354716933</dd><dt>input_logprob</dt><dd>1.91555615502154</dd><dt>output_logprob</dt><dd>5.24315358049196</dd></dl>\n"
      ],
      "text/latex": [
       "\\begin{description*}\n",
       "\\item[task] 1.01379705814833\n",
       "\\item[input\\textbackslash{}\\_nchars] 3.77069992436779\n",
       "\\item[input\\textbackslash{}\\_ntokens] 3.59525421933258\n",
       "\\item[output\\textbackslash{}\\_ntokens] 4.15792354716933\n",
       "\\item[input\\textbackslash{}\\_logprob] 1.91555615502154\n",
       "\\item[output\\textbackslash{}\\_logprob] 5.24315358049196\n",
       "\\end{description*}\n"
      ],
      "text/markdown": [
       "task\n",
       ":   1.01379705814833input_nchars\n",
       ":   3.77069992436779input_ntokens\n",
       ":   3.59525421933258output_ntokens\n",
       ":   4.15792354716933input_logprob\n",
       ":   1.91555615502154output_logprob\n",
       ":   5.24315358049196\n",
       "\n"
      ],
      "text/plain": [
       "          task   input_nchars  input_ntokens output_ntokens  input_logprob \n",
       "      1.013797       3.770700       3.595254       4.157924       1.915556 \n",
       "output_logprob \n",
       "      5.243154 "
      ]
     },
     "metadata": {},
     "output_type": "display_data"
    }
   ],
   "source": [
    "vif(model_taskenc4)"
   ]
  },
  {
   "cell_type": "code",
   "execution_count": 224,
   "id": "45d39968",
   "metadata": {},
   "outputs": [
    {
     "data": {
      "text/html": [
       "<style>\n",
       ".dl-inline {width: auto; margin:0; padding: 0}\n",
       ".dl-inline>dt, .dl-inline>dd {float: none; width: auto; display: inline-block}\n",
       ".dl-inline>dt::after {content: \":\\0020\"; padding-right: .5ex}\n",
       ".dl-inline>dt:not(:first-of-type) {padding-left: .5ex}\n",
       "</style><dl class=dl-inline><dt>task</dt><dd>1.0061749313768</dd><dt>input_nchars</dt><dd>1.29264832643823</dd><dt>input_ntokens</dt><dd>1.21970976361183</dd><dt>output_ntokens</dt><dd>1.24691852690111</dd><dt>input_logprob</dt><dd>1.19865741226191</dd><dt>output_logprob</dt><dd>1.28339606498525</dd></dl>\n"
      ],
      "text/latex": [
       "\\begin{description*}\n",
       "\\item[task] 1.0061749313768\n",
       "\\item[input\\textbackslash{}\\_nchars] 1.29264832643823\n",
       "\\item[input\\textbackslash{}\\_ntokens] 1.21970976361183\n",
       "\\item[output\\textbackslash{}\\_ntokens] 1.24691852690111\n",
       "\\item[input\\textbackslash{}\\_logprob] 1.19865741226191\n",
       "\\item[output\\textbackslash{}\\_logprob] 1.28339606498525\n",
       "\\end{description*}\n"
      ],
      "text/markdown": [
       "task\n",
       ":   1.0061749313768input_nchars\n",
       ":   1.29264832643823input_ntokens\n",
       ":   1.21970976361183output_ntokens\n",
       ":   1.24691852690111input_logprob\n",
       ":   1.19865741226191output_logprob\n",
       ":   1.28339606498525\n",
       "\n"
      ],
      "text/plain": [
       "          task   input_nchars  input_ntokens output_ntokens  input_logprob \n",
       "      1.006175       1.292648       1.219710       1.246919       1.198657 \n",
       "output_logprob \n",
       "      1.283396 "
      ]
     },
     "metadata": {},
     "output_type": "display_data"
    }
   ],
   "source": [
    "vif(model_taskenc35)"
   ]
  },
  {
   "cell_type": "code",
   "execution_count": 225,
   "id": "c83f63c7",
   "metadata": {},
   "outputs": [
    {
     "data": {
      "text/html": [
       "<style>\n",
       ".dl-inline {width: auto; margin:0; padding: 0}\n",
       ".dl-inline>dt, .dl-inline>dd {float: none; width: auto; display: inline-block}\n",
       ".dl-inline>dt::after {content: \":\\0020\"; padding-right: .5ex}\n",
       ".dl-inline>dt:not(:first-of-type) {padding-left: .5ex}\n",
       "</style><dl class=dl-inline><dt>task</dt><dd>1.08605986264145</dd><dt>input_nchars</dt><dd>16.49092862933</dd><dt>input_ntokens</dt><dd>14.195003032695</dd><dt>output_ntokens</dt><dd>7.40669271455083</dd><dt>input_logprob</dt><dd>13.2501911180414</dd><dt>output_logprob</dt><dd>4.62673305409792</dd></dl>\n"
      ],
      "text/latex": [
       "\\begin{description*}\n",
       "\\item[task] 1.08605986264145\n",
       "\\item[input\\textbackslash{}\\_nchars] 16.49092862933\n",
       "\\item[input\\textbackslash{}\\_ntokens] 14.195003032695\n",
       "\\item[output\\textbackslash{}\\_ntokens] 7.40669271455083\n",
       "\\item[input\\textbackslash{}\\_logprob] 13.2501911180414\n",
       "\\item[output\\textbackslash{}\\_logprob] 4.62673305409792\n",
       "\\end{description*}\n"
      ],
      "text/markdown": [
       "task\n",
       ":   1.08605986264145input_nchars\n",
       ":   16.49092862933input_ntokens\n",
       ":   14.195003032695output_ntokens\n",
       ":   7.40669271455083input_logprob\n",
       ":   13.2501911180414output_logprob\n",
       ":   4.62673305409792\n",
       "\n"
      ],
      "text/plain": [
       "          task   input_nchars  input_ntokens output_ntokens  input_logprob \n",
       "      1.086060      16.490929      14.195003       7.406693      13.250191 \n",
       "output_logprob \n",
       "      4.626733 "
      ]
     },
     "metadata": {},
     "output_type": "display_data"
    }
   ],
   "source": [
    "vif(model_taskdec4)"
   ]
  },
  {
   "cell_type": "code",
   "execution_count": 226,
   "id": "781b181d",
   "metadata": {},
   "outputs": [
    {
     "data": {
      "text/html": [
       "<style>\n",
       ".dl-inline {width: auto; margin:0; padding: 0}\n",
       ".dl-inline>dt, .dl-inline>dd {float: none; width: auto; display: inline-block}\n",
       ".dl-inline>dt::after {content: \":\\0020\"; padding-right: .5ex}\n",
       ".dl-inline>dt:not(:first-of-type) {padding-left: .5ex}\n",
       "</style><dl class=dl-inline><dt>task</dt><dd>1.01512407710054</dd><dt>input_nchars</dt><dd>4.35732236473136</dd><dt>input_ntokens</dt><dd>4.31699438450821</dd><dt>output_ntokens</dt><dd>4.12277311872799</dd><dt>input_logprob</dt><dd>4.23990051625821</dd><dt>output_logprob</dt><dd>2.58778888566715</dd></dl>\n"
      ],
      "text/latex": [
       "\\begin{description*}\n",
       "\\item[task] 1.01512407710054\n",
       "\\item[input\\textbackslash{}\\_nchars] 4.35732236473136\n",
       "\\item[input\\textbackslash{}\\_ntokens] 4.31699438450821\n",
       "\\item[output\\textbackslash{}\\_ntokens] 4.12277311872799\n",
       "\\item[input\\textbackslash{}\\_logprob] 4.23990051625821\n",
       "\\item[output\\textbackslash{}\\_logprob] 2.58778888566715\n",
       "\\end{description*}\n"
      ],
      "text/markdown": [
       "task\n",
       ":   1.01512407710054input_nchars\n",
       ":   4.35732236473136input_ntokens\n",
       ":   4.31699438450821output_ntokens\n",
       ":   4.12277311872799input_logprob\n",
       ":   4.23990051625821output_logprob\n",
       ":   2.58778888566715\n",
       "\n"
      ],
      "text/plain": [
       "          task   input_nchars  input_ntokens output_ntokens  input_logprob \n",
       "      1.015124       4.357322       4.316994       4.122773       4.239901 \n",
       "output_logprob \n",
       "      2.587789 "
      ]
     },
     "metadata": {},
     "output_type": "display_data"
    }
   ],
   "source": [
    "vif(model_taskdec35)"
   ]
  },
  {
   "cell_type": "code",
   "execution_count": null,
   "id": "c014604a",
   "metadata": {},
   "outputs": [],
   "source": []
  },
  {
   "cell_type": "markdown",
   "id": "ea70c1a1",
   "metadata": {},
   "source": [
    "# Reversal"
   ]
  },
  {
   "cell_type": "code",
   "execution_count": 231,
   "id": "be480964",
   "metadata": {},
   "outputs": [],
   "source": [
    "# Read in data\n",
    "revenc_gpt4_df <- read.table(file = 'table_revenc_gpt-4.tsv', sep = '\\t', header = TRUE)\n",
    "revenc_gpt35_df <- read.table(file = 'table_revenc_gpt-3.5-turbo.tsv', sep = '\\t', header = TRUE)\n",
    "\n",
    "revdec_gpt4_df <- read.table(file = 'table_revdec_gpt-4.tsv', sep = '\\t', header = TRUE)\n",
    "revdec_gpt35_df <- read.table(file = 'table_revdec_gpt-3.5-turbo.tsv', sep = '\\t', header = TRUE)"
   ]
  },
  {
   "cell_type": "code",
   "execution_count": 232,
   "id": "294f25f2",
   "metadata": {},
   "outputs": [],
   "source": [
    "# Z-score data\n",
    "scaled_revenc_gpt4_df <- scale_df(revenc_gpt4_df)\n",
    "scaled_revenc_gpt35_df <- scale_df(revenc_gpt35_df)\n",
    "\n",
    "scaled_revdec_gpt4_df <- scale_df(revdec_gpt4_df)\n",
    "scaled_revdec_gpt35_df <- scale_df(revdec_gpt35_df)"
   ]
  },
  {
   "cell_type": "code",
   "execution_count": 233,
   "id": "d6edcde6",
   "metadata": {},
   "outputs": [],
   "source": [
    "\n",
    "revenc_gpt4_model <- correct_vs_length_and_prob(scaled_revenc_gpt4_df, include_output_chars=FALSE)\n",
    "revenc_gpt35_model <- correct_vs_length_and_prob(scaled_revenc_gpt35_df, include_output_chars=FALSE)\n",
    "\n",
    "revdec_gpt4_model <- correct_vs_length_and_prob(scaled_revdec_gpt4_df, include_output_chars=FALSE)\n",
    "revdec_gpt35_model <- correct_vs_length_and_prob(scaled_revdec_gpt35_df, include_output_chars=FALSE)\n"
   ]
  },
  {
   "cell_type": "code",
   "execution_count": 234,
   "id": "517f7fca",
   "metadata": {},
   "outputs": [
    {
     "data": {
      "text/plain": [
       "\n",
       "Call:\n",
       "glm(formula = correct ~ input_logprob + output_logprob + input_ntokens + \n",
       "    output_ntokens + input_nchars, family = binomial, data = df)\n",
       "\n",
       "Deviance Residuals: \n",
       "    Min       1Q   Median       3Q      Max  \n",
       "-2.3581   0.4014   0.5172   0.6303   1.6860  \n",
       "\n",
       "Coefficients:\n",
       "               Estimate Std. Error z value Pr(>|z|)    \n",
       "(Intercept)     1.51883    0.16136   9.413   <2e-16 ***\n",
       "input_logprob  -0.03095    0.19608  -0.158    0.875    \n",
       "output_logprob -0.43336    0.70858  -0.612    0.541    \n",
       "input_ntokens   1.78562    1.81154   0.986    0.324    \n",
       "output_ntokens -2.41642    1.92213  -1.257    0.209    \n",
       "input_nchars   -0.57747    0.61481  -0.939    0.348    \n",
       "---\n",
       "Signif. codes:  0 ‘***’ 0.001 ‘**’ 0.01 ‘*’ 0.05 ‘.’ 0.1 ‘ ’ 1\n",
       "\n",
       "(Dispersion parameter for binomial family taken to be 1)\n",
       "\n",
       "    Null deviance: 302.99  on 299  degrees of freedom\n",
       "Residual deviance: 272.09  on 294  degrees of freedom\n",
       "AIC: 284.09\n",
       "\n",
       "Number of Fisher Scoring iterations: 4\n"
      ]
     },
     "metadata": {},
     "output_type": "display_data"
    }
   ],
   "source": [
    "summary(revenc_gpt4_model)"
   ]
  },
  {
   "cell_type": "code",
   "execution_count": 235,
   "id": "d6b07a74",
   "metadata": {},
   "outputs": [
    {
     "data": {
      "text/plain": [
       "\n",
       "Call:\n",
       "glm(formula = correct ~ input_logprob + output_logprob + input_ntokens + \n",
       "    output_ntokens + input_nchars, family = binomial, data = df)\n",
       "\n",
       "Deviance Residuals: \n",
       "    Min       1Q   Median       3Q      Max  \n",
       "-1.5339  -0.9830  -0.4953   1.0080   2.1167  \n",
       "\n",
       "Coefficients:\n",
       "               Estimate Std. Error z value Pr(>|z|)    \n",
       "(Intercept)     -0.6251     0.1412  -4.429 9.48e-06 ***\n",
       "input_logprob    0.3767     0.2217   1.699   0.0893 .  \n",
       "output_logprob  -0.2740     0.8132  -0.337   0.7361    \n",
       "input_ntokens   -1.6740     1.7242  -0.971   0.3316    \n",
       "output_ntokens  -0.1954     1.7194  -0.114   0.9095    \n",
       "input_nchars     0.7770     0.6848   1.135   0.2565    \n",
       "---\n",
       "Signif. codes:  0 ‘***’ 0.001 ‘**’ 0.01 ‘*’ 0.05 ‘.’ 0.1 ‘ ’ 1\n",
       "\n",
       "(Dispersion parameter for binomial family taken to be 1)\n",
       "\n",
       "    Null deviance: 401.25  on 299  degrees of freedom\n",
       "Residual deviance: 342.73  on 294  degrees of freedom\n",
       "AIC: 354.73\n",
       "\n",
       "Number of Fisher Scoring iterations: 5\n"
      ]
     },
     "metadata": {},
     "output_type": "display_data"
    }
   ],
   "source": [
    "summary(revenc_gpt35_model)"
   ]
  },
  {
   "cell_type": "code",
   "execution_count": 236,
   "id": "57da6d8a",
   "metadata": {},
   "outputs": [
    {
     "data": {
      "text/plain": [
       "\n",
       "Call:\n",
       "glm(formula = correct ~ input_logprob + output_logprob + input_ntokens + \n",
       "    output_ntokens + input_nchars, family = binomial, data = df)\n",
       "\n",
       "Deviance Residuals: \n",
       "    Min       1Q   Median       3Q      Max  \n",
       "-2.9589   0.1682   0.2843   0.4231   2.0008  \n",
       "\n",
       "Coefficients:\n",
       "               Estimate Std. Error z value Pr(>|z|)    \n",
       "(Intercept)      2.2378     0.2585   8.656  < 2e-16 ***\n",
       "input_logprob   -2.5944     0.9742  -2.663  0.00774 ** \n",
       "output_logprob   2.3787     0.3426   6.943 3.85e-12 ***\n",
       "input_ntokens    0.0314     2.3512   0.013  0.98934    \n",
       "output_ntokens  -1.5059     2.2602  -0.666  0.50522    \n",
       "input_nchars     0.3893     0.7958   0.489  0.62465    \n",
       "---\n",
       "Signif. codes:  0 ‘***’ 0.001 ‘**’ 0.01 ‘*’ 0.05 ‘.’ 0.1 ‘ ’ 1\n",
       "\n",
       "(Dispersion parameter for binomial family taken to be 1)\n",
       "\n",
       "    Null deviance: 282.84  on 299  degrees of freedom\n",
       "Residual deviance: 189.52  on 294  degrees of freedom\n",
       "AIC: 201.52\n",
       "\n",
       "Number of Fisher Scoring iterations: 6\n"
      ]
     },
     "metadata": {},
     "output_type": "display_data"
    }
   ],
   "source": [
    "summary(revdec_gpt4_model)"
   ]
  },
  {
   "cell_type": "code",
   "execution_count": 237,
   "id": "b3a16121",
   "metadata": {},
   "outputs": [
    {
     "data": {
      "text/plain": [
       "\n",
       "Call:\n",
       "glm(formula = correct ~ input_logprob + output_logprob + input_ntokens + \n",
       "    output_ntokens + input_nchars, family = binomial, data = df)\n",
       "\n",
       "Deviance Residuals: \n",
       "    Min       1Q   Median       3Q      Max  \n",
       "-2.0957  -0.8704   0.5145   0.8071   2.6480  \n",
       "\n",
       "Coefficients:\n",
       "               Estimate Std. Error z value Pr(>|z|)    \n",
       "(Intercept)    -0.01288    0.14432  -0.089  0.92887    \n",
       "input_logprob  -2.73153    0.87909  -3.107  0.00189 ** \n",
       "output_logprob  1.63015    0.25914   6.291 3.16e-10 ***\n",
       "input_ntokens  -2.72167    1.83206  -1.486  0.13739    \n",
       "output_ntokens  0.19701    1.79154   0.110  0.91244    \n",
       "input_nchars   -0.24920    0.73670  -0.338  0.73517    \n",
       "---\n",
       "Signif. codes:  0 ‘***’ 0.001 ‘**’ 0.01 ‘*’ 0.05 ‘.’ 0.1 ‘ ’ 1\n",
       "\n",
       "(Dispersion parameter for binomial family taken to be 1)\n",
       "\n",
       "    Null deviance: 414.55  on 299  degrees of freedom\n",
       "Residual deviance: 314.54  on 294  degrees of freedom\n",
       "AIC: 326.54\n",
       "\n",
       "Number of Fisher Scoring iterations: 5\n"
      ]
     },
     "metadata": {},
     "output_type": "display_data"
    }
   ],
   "source": [
    "summary(revdec_gpt35_model)"
   ]
  },
  {
   "cell_type": "code",
   "execution_count": 238,
   "id": "6512ccd9",
   "metadata": {},
   "outputs": [
    {
     "data": {
      "text/html": [
       "<style>\n",
       ".dl-inline {width: auto; margin:0; padding: 0}\n",
       ".dl-inline>dt, .dl-inline>dd {float: none; width: auto; display: inline-block}\n",
       ".dl-inline>dt::after {content: \":\\0020\"; padding-right: .5ex}\n",
       ".dl-inline>dt:not(:first-of-type) {padding-left: .5ex}\n",
       "</style><dl class=dl-inline><dt>input_logprob</dt><dd>1.97797235416939</dd><dt>output_logprob</dt><dd>23.3055431422941</dd><dt>input_ntokens</dt><dd>152.396096808106</dd><dt>output_ntokens</dt><dd>169.96037393477</dd><dt>input_nchars</dt><dd>17.6397306413893</dd></dl>\n"
      ],
      "text/latex": [
       "\\begin{description*}\n",
       "\\item[input\\textbackslash{}\\_logprob] 1.97797235416939\n",
       "\\item[output\\textbackslash{}\\_logprob] 23.3055431422941\n",
       "\\item[input\\textbackslash{}\\_ntokens] 152.396096808106\n",
       "\\item[output\\textbackslash{}\\_ntokens] 169.96037393477\n",
       "\\item[input\\textbackslash{}\\_nchars] 17.6397306413893\n",
       "\\end{description*}\n"
      ],
      "text/markdown": [
       "input_logprob\n",
       ":   1.97797235416939output_logprob\n",
       ":   23.3055431422941input_ntokens\n",
       ":   152.396096808106output_ntokens\n",
       ":   169.96037393477input_nchars\n",
       ":   17.6397306413893\n",
       "\n"
      ],
      "text/plain": [
       " input_logprob output_logprob  input_ntokens output_ntokens   input_nchars \n",
       "      1.977972      23.305543     152.396097     169.960374      17.639731 "
      ]
     },
     "metadata": {},
     "output_type": "display_data"
    }
   ],
   "source": [
    "vif(revenc_gpt4_model)"
   ]
  },
  {
   "cell_type": "code",
   "execution_count": 239,
   "id": "62150c9d",
   "metadata": {},
   "outputs": [
    {
     "data": {
      "text/html": [
       "<style>\n",
       ".dl-inline {width: auto; margin:0; padding: 0}\n",
       ".dl-inline>dt, .dl-inline>dd {float: none; width: auto; display: inline-block}\n",
       ".dl-inline>dt::after {content: \":\\0020\"; padding-right: .5ex}\n",
       ".dl-inline>dt:not(:first-of-type) {padding-left: .5ex}\n",
       "</style><dl class=dl-inline><dt>input_logprob</dt><dd>1.73165898407615</dd><dt>output_logprob</dt><dd>24.2607000587884</dd><dt>input_ntokens</dt><dd>99.040405176365</dd><dt>output_ntokens</dt><dd>99.613209986858</dd><dt>input_nchars</dt><dd>16.6810292592214</dd></dl>\n"
      ],
      "text/latex": [
       "\\begin{description*}\n",
       "\\item[input\\textbackslash{}\\_logprob] 1.73165898407615\n",
       "\\item[output\\textbackslash{}\\_logprob] 24.2607000587884\n",
       "\\item[input\\textbackslash{}\\_ntokens] 99.040405176365\n",
       "\\item[output\\textbackslash{}\\_ntokens] 99.613209986858\n",
       "\\item[input\\textbackslash{}\\_nchars] 16.6810292592214\n",
       "\\end{description*}\n"
      ],
      "text/markdown": [
       "input_logprob\n",
       ":   1.73165898407615output_logprob\n",
       ":   24.2607000587884input_ntokens\n",
       ":   99.040405176365output_ntokens\n",
       ":   99.613209986858input_nchars\n",
       ":   16.6810292592214\n",
       "\n"
      ],
      "text/plain": [
       " input_logprob output_logprob  input_ntokens output_ntokens   input_nchars \n",
       "      1.731659      24.260700      99.040405      99.613210      16.681029 "
      ]
     },
     "metadata": {},
     "output_type": "display_data"
    }
   ],
   "source": [
    "vif(revenc_gpt35_model)"
   ]
  },
  {
   "cell_type": "code",
   "execution_count": 240,
   "id": "12c279ad",
   "metadata": {},
   "outputs": [
    {
     "data": {
      "text/html": [
       "<style>\n",
       ".dl-inline {width: auto; margin:0; padding: 0}\n",
       ".dl-inline>dt, .dl-inline>dd {float: none; width: auto; display: inline-block}\n",
       ".dl-inline>dt::after {content: \":\\0020\"; padding-right: .5ex}\n",
       ".dl-inline>dt:not(:first-of-type) {padding-left: .5ex}\n",
       "</style><dl class=dl-inline><dt>input_logprob</dt><dd>24.4586435477432</dd><dt>output_logprob</dt><dd>3.66552975275287</dd><dt>input_ntokens</dt><dd>136.678705261218</dd><dt>output_ntokens</dt><dd>123.815166771372</dd><dt>input_nchars</dt><dd>16.2763794094174</dd></dl>\n"
      ],
      "text/latex": [
       "\\begin{description*}\n",
       "\\item[input\\textbackslash{}\\_logprob] 24.4586435477432\n",
       "\\item[output\\textbackslash{}\\_logprob] 3.66552975275287\n",
       "\\item[input\\textbackslash{}\\_ntokens] 136.678705261218\n",
       "\\item[output\\textbackslash{}\\_ntokens] 123.815166771372\n",
       "\\item[input\\textbackslash{}\\_nchars] 16.2763794094174\n",
       "\\end{description*}\n"
      ],
      "text/markdown": [
       "input_logprob\n",
       ":   24.4586435477432output_logprob\n",
       ":   3.66552975275287input_ntokens\n",
       ":   136.678705261218output_ntokens\n",
       ":   123.815166771372input_nchars\n",
       ":   16.2763794094174\n",
       "\n"
      ],
      "text/plain": [
       " input_logprob output_logprob  input_ntokens output_ntokens   input_nchars \n",
       "      24.45864        3.66553      136.67871      123.81517       16.27638 "
      ]
     },
     "metadata": {},
     "output_type": "display_data"
    }
   ],
   "source": [
    "vif(revdec_gpt4_model)"
   ]
  },
  {
   "cell_type": "code",
   "execution_count": 241,
   "id": "95f06200",
   "metadata": {},
   "outputs": [
    {
     "data": {
      "text/html": [
       "<style>\n",
       ".dl-inline {width: auto; margin:0; padding: 0}\n",
       ".dl-inline>dt, .dl-inline>dd {float: none; width: auto; display: inline-block}\n",
       ".dl-inline>dt::after {content: \":\\0020\"; padding-right: .5ex}\n",
       ".dl-inline>dt:not(:first-of-type) {padding-left: .5ex}\n",
       "</style><dl class=dl-inline><dt>input_logprob</dt><dd>32.3992796163772</dd><dt>output_logprob</dt><dd>1.70524099157177</dd><dt>input_ntokens</dt><dd>132.659964420652</dd><dt>output_ntokens</dt><dd>128.005445059118</dd><dt>input_nchars</dt><dd>21.301689456972</dd></dl>\n"
      ],
      "text/latex": [
       "\\begin{description*}\n",
       "\\item[input\\textbackslash{}\\_logprob] 32.3992796163772\n",
       "\\item[output\\textbackslash{}\\_logprob] 1.70524099157177\n",
       "\\item[input\\textbackslash{}\\_ntokens] 132.659964420652\n",
       "\\item[output\\textbackslash{}\\_ntokens] 128.005445059118\n",
       "\\item[input\\textbackslash{}\\_nchars] 21.301689456972\n",
       "\\end{description*}\n"
      ],
      "text/markdown": [
       "input_logprob\n",
       ":   32.3992796163772output_logprob\n",
       ":   1.70524099157177input_ntokens\n",
       ":   132.659964420652output_ntokens\n",
       ":   128.005445059118input_nchars\n",
       ":   21.301689456972\n",
       "\n"
      ],
      "text/plain": [
       " input_logprob output_logprob  input_ntokens output_ntokens   input_nchars \n",
       "     32.399280       1.705241     132.659964     128.005445      21.301689 "
      ]
     },
     "metadata": {},
     "output_type": "display_data"
    }
   ],
   "source": [
    "vif(revdec_gpt35_model)"
   ]
  },
  {
   "cell_type": "code",
   "execution_count": null,
   "id": "fb982eeb",
   "metadata": {},
   "outputs": [],
   "source": []
  },
  {
   "cell_type": "markdown",
   "id": "96ba98ee",
   "metadata": {},
   "source": [
    "# Pig Latin"
   ]
  },
  {
   "cell_type": "code",
   "execution_count": 242,
   "id": "48705ff4",
   "metadata": {},
   "outputs": [],
   "source": [
    "# Read in data\n",
    "pigenc_gpt4_df <- read.table(file = 'table_pig_ay_enc_gpt-4.tsv', sep = '\\t', header = TRUE)\n",
    "pigenc_gpt35_df <- read.table(file = 'table_pig_ay_enc_gpt-3.5-turbo.tsv', sep = '\\t', header = TRUE)\n",
    "\n",
    "pigdec_gpt4_df <- read.table(file = 'table_pig_ay_dec_gpt-4.tsv', sep = '\\t', header = TRUE)\n",
    "pigdec_gpt35_df <- read.table(file = 'table_pig_ay_dec_gpt-3.5-turbo.tsv', sep = '\\t', header = TRUE)"
   ]
  },
  {
   "cell_type": "code",
   "execution_count": 243,
   "id": "94ab37e6",
   "metadata": {},
   "outputs": [],
   "source": [
    "# Z-score data\n",
    "scaled_pigenc_gpt4_df <- scale_df(pigenc_gpt4_df)\n",
    "scaled_pigenc_gpt35_df <- scale_df(pigenc_gpt35_df)\n",
    "\n",
    "scaled_pigdec_gpt4_df <- scale_df(pigdec_gpt4_df)\n",
    "scaled_pigdec_gpt35_df <- scale_df(pigdec_gpt35_df)"
   ]
  },
  {
   "cell_type": "code",
   "execution_count": 244,
   "id": "533ad06d",
   "metadata": {},
   "outputs": [],
   "source": [
    "\n",
    "pigenc_gpt4_model <- correct_vs_length_and_prob(scaled_pigenc_gpt4_df, include_output_chars=TRUE)\n",
    "pigenc_gpt35_model <- correct_vs_length_and_prob(scaled_pigenc_gpt35_df, include_output_chars=TRUE)\n",
    "\n",
    "pigdec_gpt4_model <- correct_vs_length_and_prob(scaled_pigdec_gpt4_df, include_output_chars=TRUE)\n",
    "pigdec_gpt35_model <- correct_vs_length_and_prob(scaled_pigdec_gpt35_df, include_output_chars=TRUE)"
   ]
  },
  {
   "cell_type": "code",
   "execution_count": 245,
   "id": "85c4a304",
   "metadata": {},
   "outputs": [
    {
     "data": {
      "text/plain": [
       "\n",
       "Call:\n",
       "glm(formula = correct ~ input_logprob + output_logprob + input_ntokens + \n",
       "    output_ntokens + input_nchars + output_nchars, family = binomial, \n",
       "    data = df)\n",
       "\n",
       "Deviance Residuals: \n",
       "    Min       1Q   Median       3Q      Max  \n",
       "-1.7900  -1.0455  -0.5875   1.1576   1.8598  \n",
       "\n",
       "Coefficients:\n",
       "               Estimate Std. Error z value Pr(>|z|)   \n",
       "(Intercept)    -0.39170    0.12576  -3.115  0.00184 **\n",
       "input_logprob  -0.07581    0.18159  -0.417  0.67633   \n",
       "output_logprob  2.05411    0.68406   3.003  0.00267 **\n",
       "input_ntokens   1.98187    0.78916   2.511  0.01203 * \n",
       "output_ntokens  1.27363    0.97383   1.308  0.19092   \n",
       "input_nchars    6.18673    2.91719   2.121  0.03394 * \n",
       "output_nchars  -7.97255    3.61588  -2.205  0.02746 * \n",
       "---\n",
       "Signif. codes:  0 ‘***’ 0.001 ‘**’ 0.01 ‘*’ 0.05 ‘.’ 0.1 ‘ ’ 1\n",
       "\n",
       "(Dispersion parameter for binomial family taken to be 1)\n",
       "\n",
       "    Null deviance: 407.52  on 299  degrees of freedom\n",
       "Residual deviance: 373.93  on 293  degrees of freedom\n",
       "AIC: 387.93\n",
       "\n",
       "Number of Fisher Scoring iterations: 4\n"
      ]
     },
     "metadata": {},
     "output_type": "display_data"
    }
   ],
   "source": [
    "summary(pigenc_gpt4_model) "
   ]
  },
  {
   "cell_type": "code",
   "execution_count": 246,
   "id": "7a46bb92",
   "metadata": {},
   "outputs": [
    {
     "data": {
      "text/plain": [
       "\n",
       "Call:\n",
       "glm(formula = correct ~ input_logprob + output_logprob + input_ntokens + \n",
       "    output_ntokens + input_nchars + output_nchars, family = binomial, \n",
       "    data = df)\n",
       "\n",
       "Deviance Residuals: \n",
       "    Min       1Q   Median       3Q      Max  \n",
       "-1.3236  -0.8120  -0.6535   1.1288   2.1831  \n",
       "\n",
       "Coefficients:\n",
       "               Estimate Std. Error z value Pr(>|z|)    \n",
       "(Intercept)     -1.1692     0.1452  -8.054 7.99e-16 ***\n",
       "input_logprob    0.1436     0.2074   0.692   0.4889    \n",
       "output_logprob   1.1147     0.7234   1.541   0.1233    \n",
       "input_ntokens    1.5496     0.8680   1.785   0.0742 .  \n",
       "output_ntokens  -0.9289     1.0852  -0.856   0.3920    \n",
       "input_nchars    -2.3922     3.2853  -0.728   0.4665    \n",
       "output_nchars    2.5116     4.0163   0.625   0.5317    \n",
       "---\n",
       "Signif. codes:  0 ‘***’ 0.001 ‘**’ 0.01 ‘*’ 0.05 ‘.’ 0.1 ‘ ’ 1\n",
       "\n",
       "(Dispersion parameter for binomial family taken to be 1)\n",
       "\n",
       "    Null deviance: 341.72  on 299  degrees of freedom\n",
       "Residual deviance: 321.71  on 293  degrees of freedom\n",
       "AIC: 335.71\n",
       "\n",
       "Number of Fisher Scoring iterations: 4\n"
      ]
     },
     "metadata": {},
     "output_type": "display_data"
    }
   ],
   "source": [
    "summary(pigenc_gpt35_model)"
   ]
  },
  {
   "cell_type": "code",
   "execution_count": 247,
   "id": "41a916b7",
   "metadata": {},
   "outputs": [
    {
     "data": {
      "text/plain": [
       "\n",
       "Call:\n",
       "glm(formula = correct ~ input_logprob + output_logprob + input_ntokens + \n",
       "    output_ntokens + input_nchars + output_nchars, family = binomial, \n",
       "    data = df)\n",
       "\n",
       "Deviance Residuals: \n",
       "    Min       1Q   Median       3Q      Max  \n",
       "-2.7284  -0.8505   0.4236   0.7521   2.4140  \n",
       "\n",
       "Coefficients:\n",
       "               Estimate Std. Error z value Pr(>|z|)    \n",
       "(Intercept)      0.5198     0.1491   3.487 0.000488 ***\n",
       "input_logprob    1.4257     0.7709   1.849 0.064402 .  \n",
       "output_logprob   1.9253     0.2431   7.918  2.4e-15 ***\n",
       "input_ntokens    1.3736     1.1236   1.223 0.221505    \n",
       "output_ntokens  -1.1396     0.9170  -1.243 0.213953    \n",
       "input_nchars     1.4535     4.2228   0.344 0.730698    \n",
       "output_nchars    1.1972     3.4386   0.348 0.727713    \n",
       "---\n",
       "Signif. codes:  0 ‘***’ 0.001 ‘**’ 0.01 ‘*’ 0.05 ‘.’ 0.1 ‘ ’ 1\n",
       "\n",
       "(Dispersion parameter for binomial family taken to be 1)\n",
       "\n",
       "    Null deviance: 406.12  on 299  degrees of freedom\n",
       "Residual deviance: 298.86  on 293  degrees of freedom\n",
       "AIC: 312.86\n",
       "\n",
       "Number of Fisher Scoring iterations: 5\n"
      ]
     },
     "metadata": {},
     "output_type": "display_data"
    }
   ],
   "source": [
    "summary(pigdec_gpt4_model)"
   ]
  },
  {
   "cell_type": "code",
   "execution_count": 248,
   "id": "eef971c3",
   "metadata": {},
   "outputs": [
    {
     "data": {
      "text/plain": [
       "\n",
       "Call:\n",
       "glm(formula = correct ~ input_logprob + output_logprob + input_ntokens + \n",
       "    output_ntokens + input_nchars + output_nchars, family = binomial, \n",
       "    data = df)\n",
       "\n",
       "Deviance Residuals: \n",
       "    Min       1Q   Median       3Q      Max  \n",
       "-1.8275  -0.6129  -0.2020   0.6722   3.3606  \n",
       "\n",
       "Coefficients:\n",
       "               Estimate Std. Error z value Pr(>|z|)    \n",
       "(Intercept)     -2.0469     0.2798  -7.315 2.57e-13 ***\n",
       "input_logprob    1.1926     0.8695   1.372   0.1702    \n",
       "output_logprob   3.2094     0.4543   7.064 1.62e-12 ***\n",
       "input_ntokens   -0.6667     1.2701  -0.525   0.5996    \n",
       "output_ntokens  -1.9695     1.0861  -1.813   0.0698 .  \n",
       "input_nchars     6.1606     4.9011   1.257   0.2088    \n",
       "output_nchars   -1.2790     3.9378  -0.325   0.7453    \n",
       "---\n",
       "Signif. codes:  0 ‘***’ 0.001 ‘**’ 0.01 ‘*’ 0.05 ‘.’ 0.1 ‘ ’ 1\n",
       "\n",
       "(Dispersion parameter for binomial family taken to be 1)\n",
       "\n",
       "    Null deviance: 357.64  on 299  degrees of freedom\n",
       "Residual deviance: 232.40  on 293  degrees of freedom\n",
       "AIC: 246.4\n",
       "\n",
       "Number of Fisher Scoring iterations: 6\n"
      ]
     },
     "metadata": {},
     "output_type": "display_data"
    }
   ],
   "source": [
    "summary(pigdec_gpt35_model)"
   ]
  },
  {
   "cell_type": "code",
   "execution_count": 249,
   "id": "d26cfa7b",
   "metadata": {},
   "outputs": [
    {
     "data": {
      "text/html": [
       "<style>\n",
       ".dl-inline {width: auto; margin:0; padding: 0}\n",
       ".dl-inline>dt, .dl-inline>dd {float: none; width: auto; display: inline-block}\n",
       ".dl-inline>dt::after {content: \":\\0020\"; padding-right: .5ex}\n",
       ".dl-inline>dt:not(:first-of-type) {padding-left: .5ex}\n",
       "</style><dl class=dl-inline><dt>input_logprob</dt><dd>1.88591832041118</dd><dt>output_logprob</dt><dd>25.08581787306</dd><dt>input_ntokens</dt><dd>35.5610961881378</dd><dt>output_ntokens</dt><dd>52.5752225988732</dd><dt>input_nchars</dt><dd>478.81762540675</dd><dt>output_nchars</dt><dd>730.732141011532</dd></dl>\n"
      ],
      "text/latex": [
       "\\begin{description*}\n",
       "\\item[input\\textbackslash{}\\_logprob] 1.88591832041118\n",
       "\\item[output\\textbackslash{}\\_logprob] 25.08581787306\n",
       "\\item[input\\textbackslash{}\\_ntokens] 35.5610961881378\n",
       "\\item[output\\textbackslash{}\\_ntokens] 52.5752225988732\n",
       "\\item[input\\textbackslash{}\\_nchars] 478.81762540675\n",
       "\\item[output\\textbackslash{}\\_nchars] 730.732141011532\n",
       "\\end{description*}\n"
      ],
      "text/markdown": [
       "input_logprob\n",
       ":   1.88591832041118output_logprob\n",
       ":   25.08581787306input_ntokens\n",
       ":   35.5610961881378output_ntokens\n",
       ":   52.5752225988732input_nchars\n",
       ":   478.81762540675output_nchars\n",
       ":   730.732141011532\n",
       "\n"
      ],
      "text/plain": [
       " input_logprob output_logprob  input_ntokens output_ntokens   input_nchars \n",
       "      1.885918      25.085818      35.561096      52.575223     478.817625 \n",
       " output_nchars \n",
       "    730.732141 "
      ]
     },
     "metadata": {},
     "output_type": "display_data"
    }
   ],
   "source": [
    "vif(pigenc_gpt4_model)"
   ]
  },
  {
   "cell_type": "code",
   "execution_count": 250,
   "id": "a244a615",
   "metadata": {},
   "outputs": [
    {
     "data": {
      "text/html": [
       "<style>\n",
       ".dl-inline {width: auto; margin:0; padding: 0}\n",
       ".dl-inline>dt, .dl-inline>dd {float: none; width: auto; display: inline-block}\n",
       ".dl-inline>dt::after {content: \":\\0020\"; padding-right: .5ex}\n",
       ".dl-inline>dt:not(:first-of-type) {padding-left: .5ex}\n",
       "</style><dl class=dl-inline><dt>input_logprob</dt><dd>1.76113595088958</dd><dt>output_logprob</dt><dd>22.5781177556918</dd><dt>input_ntokens</dt><dd>35.4550792894387</dd><dt>output_ntokens</dt><dd>52.2165932530329</dd><dt>input_nchars</dt><dd>478.327334814626</dd><dt>output_nchars</dt><dd>721.65276619291</dd></dl>\n"
      ],
      "text/latex": [
       "\\begin{description*}\n",
       "\\item[input\\textbackslash{}\\_logprob] 1.76113595088958\n",
       "\\item[output\\textbackslash{}\\_logprob] 22.5781177556918\n",
       "\\item[input\\textbackslash{}\\_ntokens] 35.4550792894387\n",
       "\\item[output\\textbackslash{}\\_ntokens] 52.2165932530329\n",
       "\\item[input\\textbackslash{}\\_nchars] 478.327334814626\n",
       "\\item[output\\textbackslash{}\\_nchars] 721.65276619291\n",
       "\\end{description*}\n"
      ],
      "text/markdown": [
       "input_logprob\n",
       ":   1.76113595088958output_logprob\n",
       ":   22.5781177556918input_ntokens\n",
       ":   35.4550792894387output_ntokens\n",
       ":   52.2165932530329input_nchars\n",
       ":   478.327334814626output_nchars\n",
       ":   721.65276619291\n",
       "\n"
      ],
      "text/plain": [
       " input_logprob output_logprob  input_ntokens output_ntokens   input_nchars \n",
       "      1.761136      22.578118      35.455079      52.216593     478.327335 \n",
       " output_nchars \n",
       "    721.652766 "
      ]
     },
     "metadata": {},
     "output_type": "display_data"
    }
   ],
   "source": [
    "vif(pigenc_gpt35_model)"
   ]
  },
  {
   "cell_type": "code",
   "execution_count": 251,
   "id": "539ff551",
   "metadata": {},
   "outputs": [
    {
     "data": {
      "text/html": [
       "<style>\n",
       ".dl-inline {width: auto; margin:0; padding: 0}\n",
       ".dl-inline>dt, .dl-inline>dd {float: none; width: auto; display: inline-block}\n",
       ".dl-inline>dt::after {content: \":\\0020\"; padding-right: .5ex}\n",
       ".dl-inline>dt:not(:first-of-type) {padding-left: .5ex}\n",
       "</style><dl class=dl-inline><dt>input_logprob</dt><dd>26.135762713424</dd><dt>output_logprob</dt><dd>2.43034556270659</dd><dt>input_ntokens</dt><dd>52.4970493307298</dd><dt>output_ntokens</dt><dd>34.483100883675</dd><dt>input_nchars</dt><dd>733.105539389531</dd><dt>output_nchars</dt><dd>489.195865288526</dd></dl>\n"
      ],
      "text/latex": [
       "\\begin{description*}\n",
       "\\item[input\\textbackslash{}\\_logprob] 26.135762713424\n",
       "\\item[output\\textbackslash{}\\_logprob] 2.43034556270659\n",
       "\\item[input\\textbackslash{}\\_ntokens] 52.4970493307298\n",
       "\\item[output\\textbackslash{}\\_ntokens] 34.483100883675\n",
       "\\item[input\\textbackslash{}\\_nchars] 733.105539389531\n",
       "\\item[output\\textbackslash{}\\_nchars] 489.195865288526\n",
       "\\end{description*}\n"
      ],
      "text/markdown": [
       "input_logprob\n",
       ":   26.135762713424output_logprob\n",
       ":   2.43034556270659input_ntokens\n",
       ":   52.4970493307298output_ntokens\n",
       ":   34.483100883675input_nchars\n",
       ":   733.105539389531output_nchars\n",
       ":   489.195865288526\n",
       "\n"
      ],
      "text/plain": [
       " input_logprob output_logprob  input_ntokens output_ntokens   input_nchars \n",
       "     26.135763       2.430346      52.497049      34.483101     733.105539 \n",
       " output_nchars \n",
       "    489.195865 "
      ]
     },
     "metadata": {},
     "output_type": "display_data"
    }
   ],
   "source": [
    "vif(pigdec_gpt4_model)"
   ]
  },
  {
   "cell_type": "code",
   "execution_count": 252,
   "id": "114aca58",
   "metadata": {},
   "outputs": [
    {
     "data": {
      "text/html": [
       "<style>\n",
       ".dl-inline {width: auto; margin:0; padding: 0}\n",
       ".dl-inline>dt, .dl-inline>dd {float: none; width: auto; display: inline-block}\n",
       ".dl-inline>dt::after {content: \":\\0020\"; padding-right: .5ex}\n",
       ".dl-inline>dt:not(:first-of-type) {padding-left: .5ex}\n",
       "</style><dl class=dl-inline><dt>input_logprob</dt><dd>23.5592488938797</dd><dt>output_logprob</dt><dd>2.0243980755269</dd><dt>input_ntokens</dt><dd>51.203028525243</dd><dt>output_ntokens</dt><dd>39.531415486137</dd><dt>input_nchars</dt><dd>783.707573460646</dd><dt>output_nchars</dt><dd>504.539788407439</dd></dl>\n"
      ],
      "text/latex": [
       "\\begin{description*}\n",
       "\\item[input\\textbackslash{}\\_logprob] 23.5592488938797\n",
       "\\item[output\\textbackslash{}\\_logprob] 2.0243980755269\n",
       "\\item[input\\textbackslash{}\\_ntokens] 51.203028525243\n",
       "\\item[output\\textbackslash{}\\_ntokens] 39.531415486137\n",
       "\\item[input\\textbackslash{}\\_nchars] 783.707573460646\n",
       "\\item[output\\textbackslash{}\\_nchars] 504.539788407439\n",
       "\\end{description*}\n"
      ],
      "text/markdown": [
       "input_logprob\n",
       ":   23.5592488938797output_logprob\n",
       ":   2.0243980755269input_ntokens\n",
       ":   51.203028525243output_ntokens\n",
       ":   39.531415486137input_nchars\n",
       ":   783.707573460646output_nchars\n",
       ":   504.539788407439\n",
       "\n"
      ],
      "text/plain": [
       " input_logprob output_logprob  input_ntokens output_ntokens   input_nchars \n",
       "     23.559249       2.024398      51.203029      39.531415     783.707573 \n",
       " output_nchars \n",
       "    504.539788 "
      ]
     },
     "metadata": {},
     "output_type": "display_data"
    }
   ],
   "source": [
    "vif(pigdec_gpt35_model)"
   ]
  },
  {
   "cell_type": "code",
   "execution_count": null,
   "id": "41d85ecf",
   "metadata": {},
   "outputs": [],
   "source": []
  },
  {
   "cell_type": "markdown",
   "id": "27844aa7",
   "metadata": {},
   "source": [
    "### Comparing Pig Latin and Boar Etruscan"
   ]
  },
  {
   "cell_type": "code",
   "execution_count": 253,
   "id": "c993024b",
   "metadata": {},
   "outputs": [],
   "source": [
    "# Read in data\n",
    "pigboarenc_gpt4_df <- read.table(file = 'table_pig_boar_enc_gpt-4.tsv', sep = '\\t', header = TRUE)\n",
    "pigboarenc_gpt35_df <- read.table(file = 'table_pig_boar_enc_gpt-3.5-turbo.tsv', sep = '\\t', header = TRUE)\n",
    "\n",
    "pigboardec_gpt4_df <- read.table(file = 'table_pig_boar_dec_gpt-4.tsv', sep = '\\t', header = TRUE)\n",
    "pigboardec_gpt35_df <- read.table(file = 'table_pig_boar_dec_gpt-3.5-turbo.tsv', sep = '\\t', header = TRUE)"
   ]
  },
  {
   "cell_type": "code",
   "execution_count": 254,
   "id": "8c9bc357",
   "metadata": {},
   "outputs": [],
   "source": [
    "# Z-score data\n",
    "scaled_pigboarenc_gpt4_df <- scale_taskpair_df(pigboarenc_gpt4_df)\n",
    "scaled_pigboarenc_gpt35_df <- scale_taskpair_df(pigboarenc_gpt35_df)\n",
    "\n",
    "scaled_pigboardec_gpt4_df <- scale_taskpair_df(pigboardec_gpt4_df)\n",
    "scaled_pigboardec_gpt35_df <- scale_taskpair_df(pigboardec_gpt35_df)"
   ]
  },
  {
   "cell_type": "code",
   "execution_count": 255,
   "id": "73191323",
   "metadata": {},
   "outputs": [],
   "source": [
    "model_pigtaskenc4 <- bayesglm(correct ~ task + input_nchars + output_nchars + input_ntokens + output_ntokens + input_logprob + output_logprob, \n",
    "               data=scaled_pigboarenc_gpt4_df, family=binomial)\n"
   ]
  },
  {
   "cell_type": "code",
   "execution_count": 256,
   "id": "e81cbb30",
   "metadata": {},
   "outputs": [],
   "source": [
    "model_pigtaskenc35 <- bayesglm(correct ~ task + input_nchars + output_nchars + input_ntokens + output_ntokens + input_logprob + output_logprob, \n",
    "               data=scaled_pigboarenc_gpt35_df, family=binomial)"
   ]
  },
  {
   "cell_type": "code",
   "execution_count": 257,
   "id": "0fdbd79e",
   "metadata": {},
   "outputs": [],
   "source": [
    "model_pigtaskdec4 <- bayesglm(correct ~ task + input_nchars + output_nchars + input_ntokens + output_ntokens + input_logprob + output_logprob, \n",
    "               data=scaled_pigboardec_gpt4_df, family=binomial)"
   ]
  },
  {
   "cell_type": "code",
   "execution_count": 269,
   "id": "bfe2bb4c",
   "metadata": {},
   "outputs": [],
   "source": [
    "model_pigtaskdec35 <- bayesglm(correct ~ task + input_nchars + output_nchars + input_ntokens + output_ntokens + input_logprob + output_logprob, \n",
    "               data=scaled_pigboardec_gpt35_df, family=binomial)"
   ]
  },
  {
   "cell_type": "code",
   "execution_count": 259,
   "id": "4c801081",
   "metadata": {},
   "outputs": [
    {
     "data": {
      "text/plain": [
       "\n",
       "Call:\n",
       "bayesglm(formula = correct ~ task + input_nchars + output_nchars + \n",
       "    input_ntokens + output_ntokens + input_logprob + output_logprob, \n",
       "    family = binomial, data = scaled_pigboarenc_gpt4_df)\n",
       "\n",
       "Deviance Residuals: \n",
       "    Min       1Q   Median       3Q      Max  \n",
       "-1.3106  -0.7606  -0.5599   1.0719   2.3386  \n",
       "\n",
       "Coefficients:\n",
       "               Estimate Std. Error z value Pr(>|z|)    \n",
       "(Intercept)    -0.49126    0.22847  -2.150 0.031540 *  \n",
       "taskuv         -1.29990    0.38177  -3.405 0.000662 ***\n",
       "input_nchars    0.26154    0.77435   0.338 0.735545    \n",
       "output_nchars   0.15138    0.86944   0.174 0.861779    \n",
       "input_ntokens   0.04368    0.60986   0.072 0.942904    \n",
       "output_ntokens  0.07993    0.72119   0.111 0.911752    \n",
       "input_logprob  -0.11694    0.29707  -0.394 0.693847    \n",
       "output_logprob  1.11571    0.69711   1.600 0.109491    \n",
       "---\n",
       "Signif. codes:  0 ‘***’ 0.001 ‘**’ 0.01 ‘*’ 0.05 ‘.’ 0.1 ‘ ’ 1\n",
       "\n",
       "(Dispersion parameter for binomial family taken to be 1)\n",
       "\n",
       "    Null deviance: 235.27  on 199  degrees of freedom\n",
       "Residual deviance: 206.43  on 192  degrees of freedom\n",
       "AIC: 222.43\n",
       "\n",
       "Number of Fisher Scoring iterations: 11\n"
      ]
     },
     "metadata": {},
     "output_type": "display_data"
    }
   ],
   "source": [
    "summary(model_pigtaskenc4)"
   ]
  },
  {
   "cell_type": "code",
   "execution_count": 260,
   "id": "2c3b0498",
   "metadata": {},
   "outputs": [
    {
     "data": {
      "text/plain": [
       "\n",
       "Call:\n",
       "bayesglm(formula = correct ~ task + input_nchars + output_nchars + \n",
       "    input_ntokens + output_ntokens + input_logprob + output_logprob, \n",
       "    family = binomial, data = scaled_pigboarenc_gpt35_df)\n",
       "\n",
       "Deviance Residuals: \n",
       "     Min        1Q    Median        3Q       Max  \n",
       "-1.34676  -0.56454  -0.09404  -0.04128   2.12791  \n",
       "\n",
       "Coefficients:\n",
       "                 Estimate Std. Error z value Pr(>|z|)    \n",
       "(Intercept)    -1.1179010  0.2790838  -4.006 6.19e-05 ***\n",
       "taskuv         -4.7583957  1.5923777  -2.988  0.00281 ** \n",
       "input_nchars   -0.0001285  0.8357634   0.000  0.99988    \n",
       "output_nchars  -0.1209601  0.9211562  -0.131  0.89553    \n",
       "input_ntokens   1.2875572  0.8349638   1.542  0.12306    \n",
       "output_ntokens -0.5590609  0.8881533  -0.629  0.52905    \n",
       "input_logprob   0.4117290  0.3975704   1.036  0.30038    \n",
       "output_logprob  1.0567468  0.8243820   1.282  0.19989    \n",
       "---\n",
       "Signif. codes:  0 ‘***’ 0.001 ‘**’ 0.01 ‘*’ 0.05 ‘.’ 0.1 ‘ ’ 1\n",
       "\n",
       "(Dispersion parameter for binomial family taken to be 1)\n",
       "\n",
       "    Null deviance: 172.51  on 199  degrees of freedom\n",
       "Residual deviance: 108.89  on 192  degrees of freedom\n",
       "AIC: 124.89\n",
       "\n",
       "Number of Fisher Scoring iterations: 20\n"
      ]
     },
     "metadata": {},
     "output_type": "display_data"
    }
   ],
   "source": [
    "summary(model_pigtaskenc35)"
   ]
  },
  {
   "cell_type": "code",
   "execution_count": 261,
   "id": "79ab1067",
   "metadata": {},
   "outputs": [
    {
     "data": {
      "text/plain": [
       "\n",
       "Call:\n",
       "bayesglm(formula = correct ~ task + input_nchars + output_nchars + \n",
       "    input_ntokens + output_ntokens + input_logprob + output_logprob, \n",
       "    family = binomial, data = scaled_pigboardec_gpt4_df)\n",
       "\n",
       "Deviance Residuals: \n",
       "    Min       1Q   Median       3Q      Max  \n",
       "-2.3852   0.1500   0.4247   0.6446   2.1237  \n",
       "\n",
       "Coefficients:\n",
       "               Estimate Std. Error z value Pr(>|z|)    \n",
       "(Intercept)     2.03290    0.33517   6.065 1.32e-09 ***\n",
       "taskuv         -1.09352    0.42567  -2.569   0.0102 *  \n",
       "input_nchars    0.50073    1.03124   0.486   0.6273    \n",
       "output_nchars   1.78137    1.02638   1.736   0.0826 .  \n",
       "input_ntokens  -0.07019    0.73409  -0.096   0.9238    \n",
       "output_ntokens -0.16773    0.65056  -0.258   0.7965    \n",
       "input_logprob   0.11102    0.68410   0.162   0.8711    \n",
       "output_logprob  1.94851    0.37242   5.232 1.68e-07 ***\n",
       "---\n",
       "Signif. codes:  0 ‘***’ 0.001 ‘**’ 0.01 ‘*’ 0.05 ‘.’ 0.1 ‘ ’ 1\n",
       "\n",
       "(Dispersion parameter for binomial family taken to be 1)\n",
       "\n",
       "    Null deviance: 220.43  on 199  degrees of freedom\n",
       "Residual deviance: 165.58  on 192  degrees of freedom\n",
       "AIC: 181.58\n",
       "\n",
       "Number of Fisher Scoring iterations: 22\n"
      ]
     },
     "metadata": {},
     "output_type": "display_data"
    }
   ],
   "source": [
    "summary(model_pigtaskdec4)"
   ]
  },
  {
   "cell_type": "code",
   "execution_count": 270,
   "id": "608ec67f",
   "metadata": {},
   "outputs": [
    {
     "data": {
      "text/plain": [
       "\n",
       "Call:\n",
       "bayesglm(formula = correct ~ task + input_nchars + output_nchars + \n",
       "    input_ntokens + output_ntokens + input_logprob + output_logprob, \n",
       "    family = binomial, data = scaled_pigboardec_gpt35_df)\n",
       "\n",
       "Deviance Residuals: \n",
       "    Min       1Q   Median       3Q      Max  \n",
       "-1.9328  -0.8885  -0.2885   0.8980   2.2525  \n",
       "\n",
       "Coefficients:\n",
       "                Estimate Std. Error z value Pr(>|z|)    \n",
       "(Intercept)     0.004897   0.250383   0.020    0.984    \n",
       "taskuv         -0.571599   0.366717  -1.559    0.119    \n",
       "input_nchars    0.998868   1.160111   0.861    0.389    \n",
       "output_nchars   1.970346   1.071603   1.839    0.066 .  \n",
       "input_ntokens  -0.567395   0.740321  -0.766    0.443    \n",
       "output_ntokens -0.737507   0.627864  -1.175    0.240    \n",
       "input_logprob   0.496922   0.660331   0.753    0.452    \n",
       "output_logprob  2.041873   0.383887   5.319 1.04e-07 ***\n",
       "---\n",
       "Signif. codes:  0 ‘***’ 0.001 ‘**’ 0.01 ‘*’ 0.05 ‘.’ 0.1 ‘ ’ 1\n",
       "\n",
       "(Dispersion parameter for binomial family taken to be 1)\n",
       "\n",
       "    Null deviance: 276.28  on 199  degrees of freedom\n",
       "Residual deviance: 206.34  on 192  degrees of freedom\n",
       "AIC: 222.34\n",
       "\n",
       "Number of Fisher Scoring iterations: 33\n"
      ]
     },
     "metadata": {},
     "output_type": "display_data"
    }
   ],
   "source": [
    "summary(model_pigtaskdec35)"
   ]
  },
  {
   "cell_type": "code",
   "execution_count": 263,
   "id": "87a890b4",
   "metadata": {},
   "outputs": [
    {
     "data": {
      "text/html": [
       "<style>\n",
       ".dl-inline {width: auto; margin:0; padding: 0}\n",
       ".dl-inline>dt, .dl-inline>dd {float: none; width: auto; display: inline-block}\n",
       ".dl-inline>dt::after {content: \":\\0020\"; padding-right: .5ex}\n",
       ".dl-inline>dt:not(:first-of-type) {padding-left: .5ex}\n",
       "</style><dl class=dl-inline><dt>task</dt><dd>1.17988435723019</dd><dt>input_nchars</dt><dd>18.8413886293554</dd><dt>output_nchars</dt><dd>23.6112291931405</dd><dt>input_ntokens</dt><dd>11.6903945757275</dd><dt>output_ntokens</dt><dd>15.0526117127114</dd><dt>input_logprob</dt><dd>2.8761783862143</dd><dt>output_logprob</dt><dd>14.3374821590676</dd></dl>\n"
      ],
      "text/latex": [
       "\\begin{description*}\n",
       "\\item[task] 1.17988435723019\n",
       "\\item[input\\textbackslash{}\\_nchars] 18.8413886293554\n",
       "\\item[output\\textbackslash{}\\_nchars] 23.6112291931405\n",
       "\\item[input\\textbackslash{}\\_ntokens] 11.6903945757275\n",
       "\\item[output\\textbackslash{}\\_ntokens] 15.0526117127114\n",
       "\\item[input\\textbackslash{}\\_logprob] 2.8761783862143\n",
       "\\item[output\\textbackslash{}\\_logprob] 14.3374821590676\n",
       "\\end{description*}\n"
      ],
      "text/markdown": [
       "task\n",
       ":   1.17988435723019input_nchars\n",
       ":   18.8413886293554output_nchars\n",
       ":   23.6112291931405input_ntokens\n",
       ":   11.6903945757275output_ntokens\n",
       ":   15.0526117127114input_logprob\n",
       ":   2.8761783862143output_logprob\n",
       ":   14.3374821590676\n",
       "\n"
      ],
      "text/plain": [
       "          task   input_nchars  output_nchars  input_ntokens output_ntokens \n",
       "      1.179884      18.841389      23.611229      11.690395      15.052612 \n",
       " input_logprob output_logprob \n",
       "      2.876178      14.337482 "
      ]
     },
     "metadata": {},
     "output_type": "display_data"
    }
   ],
   "source": [
    "vif(model_pigtaskenc4)"
   ]
  },
  {
   "cell_type": "code",
   "execution_count": 264,
   "id": "1788b0c4",
   "metadata": {},
   "outputs": [
    {
     "data": {
      "text/html": [
       "<style>\n",
       ".dl-inline {width: auto; margin:0; padding: 0}\n",
       ".dl-inline>dt, .dl-inline>dd {float: none; width: auto; display: inline-block}\n",
       ".dl-inline>dt::after {content: \":\\0020\"; padding-right: .5ex}\n",
       ".dl-inline>dt:not(:first-of-type) {padding-left: .5ex}\n",
       "</style><dl class=dl-inline><dt>task</dt><dd>1.00904404240728</dd><dt>input_nchars</dt><dd>10.4074139829673</dd><dt>output_nchars</dt><dd>12.6384735746685</dd><dt>input_ntokens</dt><dd>10.750234212599</dd><dt>output_ntokens</dt><dd>10.5138407769025</dd><dt>input_logprob</dt><dd>2.36490513198028</dd><dt>output_logprob</dt><dd>9.45812589012868</dd></dl>\n"
      ],
      "text/latex": [
       "\\begin{description*}\n",
       "\\item[task] 1.00904404240728\n",
       "\\item[input\\textbackslash{}\\_nchars] 10.4074139829673\n",
       "\\item[output\\textbackslash{}\\_nchars] 12.6384735746685\n",
       "\\item[input\\textbackslash{}\\_ntokens] 10.750234212599\n",
       "\\item[output\\textbackslash{}\\_ntokens] 10.5138407769025\n",
       "\\item[input\\textbackslash{}\\_logprob] 2.36490513198028\n",
       "\\item[output\\textbackslash{}\\_logprob] 9.45812589012868\n",
       "\\end{description*}\n"
      ],
      "text/markdown": [
       "task\n",
       ":   1.00904404240728input_nchars\n",
       ":   10.4074139829673output_nchars\n",
       ":   12.6384735746685input_ntokens\n",
       ":   10.750234212599output_ntokens\n",
       ":   10.5138407769025input_logprob\n",
       ":   2.36490513198028output_logprob\n",
       ":   9.45812589012868\n",
       "\n"
      ],
      "text/plain": [
       "          task   input_nchars  output_nchars  input_ntokens output_ntokens \n",
       "      1.009044      10.407414      12.638474      10.750234      10.513841 \n",
       " input_logprob output_logprob \n",
       "      2.364905       9.458126 "
      ]
     },
     "metadata": {},
     "output_type": "display_data"
    }
   ],
   "source": [
    "vif(model_pigtaskenc35)"
   ]
  },
  {
   "cell_type": "code",
   "execution_count": 265,
   "id": "7066ebec",
   "metadata": {},
   "outputs": [
    {
     "data": {
      "text/html": [
       "<style>\n",
       ".dl-inline {width: auto; margin:0; padding: 0}\n",
       ".dl-inline>dt, .dl-inline>dd {float: none; width: auto; display: inline-block}\n",
       ".dl-inline>dt::after {content: \":\\0020\"; padding-right: .5ex}\n",
       ".dl-inline>dt:not(:first-of-type) {padding-left: .5ex}\n",
       "</style><dl class=dl-inline><dt>task</dt><dd>1.22214157716482</dd><dt>input_nchars</dt><dd>28.1189137348975</dd><dt>output_nchars</dt><dd>27.5095793311362</dd><dt>input_ntokens</dt><dd>15.0349949035425</dd><dt>output_ntokens</dt><dd>11.2407780691596</dd><dt>input_logprob</dt><dd>13.1652209187954</dd><dt>output_logprob</dt><dd>3.99873526984109</dd></dl>\n"
      ],
      "text/latex": [
       "\\begin{description*}\n",
       "\\item[task] 1.22214157716482\n",
       "\\item[input\\textbackslash{}\\_nchars] 28.1189137348975\n",
       "\\item[output\\textbackslash{}\\_nchars] 27.5095793311362\n",
       "\\item[input\\textbackslash{}\\_ntokens] 15.0349949035425\n",
       "\\item[output\\textbackslash{}\\_ntokens] 11.2407780691596\n",
       "\\item[input\\textbackslash{}\\_logprob] 13.1652209187954\n",
       "\\item[output\\textbackslash{}\\_logprob] 3.99873526984109\n",
       "\\end{description*}\n"
      ],
      "text/markdown": [
       "task\n",
       ":   1.22214157716482input_nchars\n",
       ":   28.1189137348975output_nchars\n",
       ":   27.5095793311362input_ntokens\n",
       ":   15.0349949035425output_ntokens\n",
       ":   11.2407780691596input_logprob\n",
       ":   13.1652209187954output_logprob\n",
       ":   3.99873526984109\n",
       "\n"
      ],
      "text/plain": [
       "          task   input_nchars  output_nchars  input_ntokens output_ntokens \n",
       "      1.222142      28.118914      27.509579      15.034995      11.240778 \n",
       " input_logprob output_logprob \n",
       "     13.165221       3.998735 "
      ]
     },
     "metadata": {},
     "output_type": "display_data"
    }
   ],
   "source": [
    "vif(model_pigtaskdec4)"
   ]
  },
  {
   "cell_type": "code",
   "execution_count": 266,
   "id": "12e246dd",
   "metadata": {},
   "outputs": [
    {
     "data": {
      "text/html": [
       "<style>\n",
       ".dl-inline {width: auto; margin:0; padding: 0}\n",
       ".dl-inline>dt, .dl-inline>dd {float: none; width: auto; display: inline-block}\n",
       ".dl-inline>dt::after {content: \":\\0020\"; padding-right: .5ex}\n",
       ".dl-inline>dt:not(:first-of-type) {padding-left: .5ex}\n",
       "</style><dl class=dl-inline><dt>task</dt><dd>1.25684515277677</dd><dt>input_nchars</dt><dd>44.8912756394023</dd><dt>output_nchars</dt><dd>37.9633232299069</dd><dt>input_ntokens</dt><dd>17.9753676072403</dd><dt>output_ntokens</dt><dd>13.3381506755059</dd><dt>input_logprob</dt><dd>14.6198790533391</dd><dt>output_logprob</dt><dd>3.96013992071429</dd></dl>\n"
      ],
      "text/latex": [
       "\\begin{description*}\n",
       "\\item[task] 1.25684515277677\n",
       "\\item[input\\textbackslash{}\\_nchars] 44.8912756394023\n",
       "\\item[output\\textbackslash{}\\_nchars] 37.9633232299069\n",
       "\\item[input\\textbackslash{}\\_ntokens] 17.9753676072403\n",
       "\\item[output\\textbackslash{}\\_ntokens] 13.3381506755059\n",
       "\\item[input\\textbackslash{}\\_logprob] 14.6198790533391\n",
       "\\item[output\\textbackslash{}\\_logprob] 3.96013992071429\n",
       "\\end{description*}\n"
      ],
      "text/markdown": [
       "task\n",
       ":   1.25684515277677input_nchars\n",
       ":   44.8912756394023output_nchars\n",
       ":   37.9633232299069input_ntokens\n",
       ":   17.9753676072403output_ntokens\n",
       ":   13.3381506755059input_logprob\n",
       ":   14.6198790533391output_logprob\n",
       ":   3.96013992071429\n",
       "\n"
      ],
      "text/plain": [
       "          task   input_nchars  output_nchars  input_ntokens output_ntokens \n",
       "      1.256845      44.891276      37.963323      17.975368      13.338151 \n",
       " input_logprob output_logprob \n",
       "     14.619879       3.960140 "
      ]
     },
     "metadata": {},
     "output_type": "display_data"
    }
   ],
   "source": [
    "vif(model_pigtaskdec35)"
   ]
  },
  {
   "cell_type": "code",
   "execution_count": null,
   "id": "1ddbd1c4",
   "metadata": {},
   "outputs": [],
   "source": []
  },
  {
   "cell_type": "markdown",
   "id": "8e6857a9",
   "metadata": {},
   "source": [
    "### Comparing Pig Latin variants"
   ]
  },
  {
   "cell_type": "code",
   "execution_count": 271,
   "id": "5862fa13",
   "metadata": {},
   "outputs": [],
   "source": [
    "# Read in data\n",
    "pigprobenc_gpt4_df <- read.table(file = 'table_pig_prob_enc_gpt-4.tsv', sep = '\\t', header = TRUE)\n",
    "pigprobenc_gpt35_df <- read.table(file = 'table_pig_prob_enc_gpt-3.5-turbo.tsv', sep = '\\t', header = TRUE)\n",
    "\n",
    "pigprobdec_gpt4_df <- read.table(file = 'table_pig_prob_dec_gpt-4.tsv', sep = '\\t', header = TRUE)\n",
    "pigprobdec_gpt35_df <- read.table(file = 'table_pig_prob_dec_gpt-3.5-turbo.tsv', sep = '\\t', header = TRUE)"
   ]
  },
  {
   "cell_type": "code",
   "execution_count": 275,
   "id": "adf80595",
   "metadata": {},
   "outputs": [],
   "source": [
    "# Z-score data\n",
    "scaled_pigprobenc_gpt4_df <- scale_taskpair_prob_df(pigprobenc_gpt4_df)\n",
    "scaled_pigprobenc_gpt35_df <- scale_taskpair_prob_df(pigprobenc_gpt35_df)\n",
    "\n",
    "scaled_pigprobdec_gpt4_df <- scale_taskpair_prob_df(pigprobdec_gpt4_df)\n",
    "scaled_pigprobdec_gpt35_df <- scale_taskpair_prob_df(pigprobdec_gpt35_df)"
   ]
  },
  {
   "cell_type": "code",
   "execution_count": 277,
   "id": "67964329",
   "metadata": {},
   "outputs": [],
   "source": [
    "model_pigprobenc4 <- glm(correct ~ task + input_nchars + output_nchars + input_ntokens + output_ntokens + input_logprob + output_logprob, \n",
    "               data=scaled_pigprobenc_gpt4_df, family=binomial)\n"
   ]
  },
  {
   "cell_type": "code",
   "execution_count": 278,
   "id": "5718afce",
   "metadata": {},
   "outputs": [],
   "source": [
    "model_pigprobenc35 <- glm(correct ~ task + input_nchars + output_nchars + input_ntokens + output_ntokens + input_logprob + output_logprob, \n",
    "               data=scaled_pigprobenc_gpt35_df, family=binomial)\n"
   ]
  },
  {
   "cell_type": "code",
   "execution_count": 279,
   "id": "b6fe2ec9",
   "metadata": {},
   "outputs": [],
   "source": [
    "model_pigprobdec4 <- glm(correct ~ task + input_nchars + output_nchars + input_ntokens + output_ntokens + input_logprob + output_logprob, \n",
    "               data=scaled_pigprobdec_gpt4_df, family=binomial)"
   ]
  },
  {
   "cell_type": "code",
   "execution_count": 280,
   "id": "44a17ca2",
   "metadata": {},
   "outputs": [],
   "source": [
    "model_pigprobdec35 <- glm(correct ~ task + input_nchars + output_nchars + input_ntokens + output_ntokens + input_logprob + output_logprob, \n",
    "               data=scaled_pigprobdec_gpt35_df, family=binomial)"
   ]
  },
  {
   "cell_type": "code",
   "execution_count": 281,
   "id": "ef36613c",
   "metadata": {},
   "outputs": [
    {
     "data": {
      "text/plain": [
       "\n",
       "Call:\n",
       "glm(formula = correct ~ task + input_nchars + output_nchars + \n",
       "    input_ntokens + output_ntokens + input_logprob + output_logprob, \n",
       "    family = binomial, data = scaled_pigprobenc_gpt4_df)\n",
       "\n",
       "Deviance Residuals: \n",
       "    Min       1Q   Median       3Q      Max  \n",
       "-1.8277  -0.7579  -0.4865   0.8862   2.4740  \n",
       "\n",
       "Coefficients:\n",
       "               Estimate Std. Error z value Pr(>|z|)    \n",
       "(Intercept)    -1.29650    0.12717 -10.195  < 2e-16 ***\n",
       "task            0.77758    0.12631   6.156 7.46e-10 ***\n",
       "input_nchars    5.24036    1.50782   3.475 0.000510 ***\n",
       "output_nchars  -6.38759    1.90197  -3.358 0.000784 ***\n",
       "input_ntokens   1.31861    0.61597   2.141 0.032296 *  \n",
       "output_ntokens  1.46049    0.71862   2.032 0.042117 *  \n",
       "input_logprob   0.04002    0.22077   0.181 0.856154    \n",
       "output_logprob  2.14571    0.58126   3.691 0.000223 ***\n",
       "---\n",
       "Signif. codes:  0 ‘***’ 0.001 ‘**’ 0.01 ‘*’ 0.05 ‘.’ 0.1 ‘ ’ 1\n",
       "\n",
       "(Dispersion parameter for binomial family taken to be 1)\n",
       "\n",
       "    Null deviance: 579.24  on 499  degrees of freedom\n",
       "Residual deviance: 487.19  on 492  degrees of freedom\n",
       "AIC: 503.19\n",
       "\n",
       "Number of Fisher Scoring iterations: 5\n"
      ]
     },
     "metadata": {},
     "output_type": "display_data"
    }
   ],
   "source": [
    "summary(model_pigprobenc4)"
   ]
  },
  {
   "cell_type": "code",
   "execution_count": 282,
   "id": "9e58a9ba",
   "metadata": {},
   "outputs": [
    {
     "data": {
      "text/plain": [
       "\n",
       "Call:\n",
       "glm(formula = correct ~ task + input_nchars + output_nchars + \n",
       "    input_ntokens + output_ntokens + input_logprob + output_logprob, \n",
       "    family = binomial, data = scaled_pigprobenc_gpt35_df)\n",
       "\n",
       "Deviance Residuals: \n",
       "    Min       1Q   Median       3Q      Max  \n",
       "-1.5288  -0.5968  -0.3621  -0.1589   2.6269  \n",
       "\n",
       "Coefficients:\n",
       "               Estimate Std. Error z value Pr(>|z|)    \n",
       "(Intercept)     -2.1750     0.1812 -12.001  < 2e-16 ***\n",
       "task             0.8329     0.1577   5.282 1.28e-07 ***\n",
       "input_nchars     4.8477     1.8771   2.583 0.009806 ** \n",
       "output_nchars   -6.5050     2.3896  -2.722 0.006485 ** \n",
       "input_ntokens    1.9108     0.7666   2.493 0.012678 *  \n",
       "output_ntokens   1.9158     0.9199   2.083 0.037290 *  \n",
       "input_logprob    0.4825     0.2880   1.675 0.093839 .  \n",
       "output_logprob   2.5555     0.7243   3.528 0.000419 ***\n",
       "---\n",
       "Signif. codes:  0 ‘***’ 0.001 ‘**’ 0.01 ‘*’ 0.05 ‘.’ 0.1 ‘ ’ 1\n",
       "\n",
       "(Dispersion parameter for binomial family taken to be 1)\n",
       "\n",
       "    Null deviance: 449.49  on 499  degrees of freedom\n",
       "Residual deviance: 360.15  on 492  degrees of freedom\n",
       "AIC: 376.15\n",
       "\n",
       "Number of Fisher Scoring iterations: 6\n"
      ]
     },
     "metadata": {},
     "output_type": "display_data"
    }
   ],
   "source": [
    "summary(model_pigprobenc35)"
   ]
  },
  {
   "cell_type": "code",
   "execution_count": 283,
   "id": "9ca32f55",
   "metadata": {},
   "outputs": [
    {
     "data": {
      "text/plain": [
       "\n",
       "Call:\n",
       "glm(formula = correct ~ task + input_nchars + output_nchars + \n",
       "    input_ntokens + output_ntokens + input_logprob + output_logprob, \n",
       "    family = binomial, data = scaled_pigprobdec_gpt4_df)\n",
       "\n",
       "Deviance Residuals: \n",
       "    Min       1Q   Median       3Q      Max  \n",
       "-2.7103   0.2187   0.4316   0.6099   2.1449  \n",
       "\n",
       "Coefficients:\n",
       "               Estimate Std. Error z value Pr(>|z|)    \n",
       "(Intercept)      1.7858     0.1491  11.981  < 2e-16 ***\n",
       "task             0.2061     0.1298   1.587   0.1125    \n",
       "input_nchars    -4.9866     2.3315  -2.139   0.0325 *  \n",
       "output_nchars    7.9504     1.9907   3.994 6.50e-05 ***\n",
       "input_ntokens   -0.1614     0.7548  -0.214   0.8307    \n",
       "output_ntokens   0.4510     0.7559   0.597   0.5507    \n",
       "input_logprob    1.3863     0.6421   2.159   0.0309 *  \n",
       "output_logprob   1.6532     0.2650   6.239 4.42e-10 ***\n",
       "---\n",
       "Signif. codes:  0 ‘***’ 0.001 ‘**’ 0.01 ‘*’ 0.05 ‘.’ 0.1 ‘ ’ 1\n",
       "\n",
       "(Dispersion parameter for binomial family taken to be 1)\n",
       "\n",
       "    Null deviance: 503.16  on 499  degrees of freedom\n",
       "Residual deviance: 394.20  on 492  degrees of freedom\n",
       "AIC: 410.2\n",
       "\n",
       "Number of Fisher Scoring iterations: 5\n"
      ]
     },
     "metadata": {},
     "output_type": "display_data"
    }
   ],
   "source": [
    "summary(model_pigprobdec4)"
   ]
  },
  {
   "cell_type": "code",
   "execution_count": 284,
   "id": "d231a5c1",
   "metadata": {},
   "outputs": [
    {
     "data": {
      "text/plain": [
       "\n",
       "Call:\n",
       "glm(formula = correct ~ task + input_nchars + output_nchars + \n",
       "    input_ntokens + output_ntokens + input_logprob + output_logprob, \n",
       "    family = binomial, data = scaled_pigprobdec_gpt35_df)\n",
       "\n",
       "Deviance Residuals: \n",
       "    Min       1Q   Median       3Q      Max  \n",
       "-2.4052  -0.9218   0.3219   0.9826   2.6449  \n",
       "\n",
       "Coefficients:\n",
       "               Estimate Std. Error z value Pr(>|z|)    \n",
       "(Intercept)    -0.04271    0.10284  -0.415 0.677920    \n",
       "task            0.07490    0.10425   0.718 0.472508    \n",
       "input_nchars    1.39771    1.64214   0.851 0.394687    \n",
       "output_nchars   2.21900    1.37007   1.620 0.105314    \n",
       "input_ntokens   0.28319    0.59429   0.477 0.633703    \n",
       "output_ntokens -1.89277    0.54879  -3.449 0.000563 ***\n",
       "input_logprob   1.06417    0.48929   2.175 0.029636 *  \n",
       "output_logprob  1.47622    0.22985   6.422 1.34e-10 ***\n",
       "---\n",
       "Signif. codes:  0 ‘***’ 0.001 ‘**’ 0.01 ‘*’ 0.05 ‘.’ 0.1 ‘ ’ 1\n",
       "\n",
       "(Dispersion parameter for binomial family taken to be 1)\n",
       "\n",
       "    Null deviance: 693.14  on 499  degrees of freedom\n",
       "Residual deviance: 570.11  on 492  degrees of freedom\n",
       "AIC: 586.11\n",
       "\n",
       "Number of Fisher Scoring iterations: 4\n"
      ]
     },
     "metadata": {},
     "output_type": "display_data"
    }
   ],
   "source": [
    "summary(model_pigprobdec35)"
   ]
  },
  {
   "cell_type": "code",
   "execution_count": 285,
   "id": "17b7e6e4",
   "metadata": {},
   "outputs": [
    {
     "data": {
      "text/html": [
       "<style>\n",
       ".dl-inline {width: auto; margin:0; padding: 0}\n",
       ".dl-inline>dt, .dl-inline>dd {float: none; width: auto; display: inline-block}\n",
       ".dl-inline>dt::after {content: \":\\0020\"; padding-right: .5ex}\n",
       ".dl-inline>dt:not(:first-of-type) {padding-left: .5ex}\n",
       "</style><dl class=dl-inline><dt>task</dt><dd>1.11579567018004</dd><dt>input_nchars</dt><dd>155.193724632859</dd><dt>output_nchars</dt><dd>240.945177386764</dd><dt>input_ntokens</dt><dd>26.2066472928561</dd><dt>output_ntokens</dt><dd>34.342466714741</dd><dt>input_logprob</dt><dd>3.40198481155927</dd><dt>output_logprob</dt><dd>21.9454969209398</dd></dl>\n"
      ],
      "text/latex": [
       "\\begin{description*}\n",
       "\\item[task] 1.11579567018004\n",
       "\\item[input\\textbackslash{}\\_nchars] 155.193724632859\n",
       "\\item[output\\textbackslash{}\\_nchars] 240.945177386764\n",
       "\\item[input\\textbackslash{}\\_ntokens] 26.2066472928561\n",
       "\\item[output\\textbackslash{}\\_ntokens] 34.342466714741\n",
       "\\item[input\\textbackslash{}\\_logprob] 3.40198481155927\n",
       "\\item[output\\textbackslash{}\\_logprob] 21.9454969209398\n",
       "\\end{description*}\n"
      ],
      "text/markdown": [
       "task\n",
       ":   1.11579567018004input_nchars\n",
       ":   155.193724632859output_nchars\n",
       ":   240.945177386764input_ntokens\n",
       ":   26.2066472928561output_ntokens\n",
       ":   34.342466714741input_logprob\n",
       ":   3.40198481155927output_logprob\n",
       ":   21.9454969209398\n",
       "\n"
      ],
      "text/plain": [
       "          task   input_nchars  output_nchars  input_ntokens output_ntokens \n",
       "      1.115796     155.193725     240.945177      26.206647      34.342467 \n",
       " input_logprob output_logprob \n",
       "      3.401985      21.945497 "
      ]
     },
     "metadata": {},
     "output_type": "display_data"
    }
   ],
   "source": [
    "vif(model_pigprobenc4)"
   ]
  },
  {
   "cell_type": "code",
   "execution_count": 286,
   "id": "eca2a278",
   "metadata": {},
   "outputs": [
    {
     "data": {
      "text/html": [
       "<style>\n",
       ".dl-inline {width: auto; margin:0; padding: 0}\n",
       ".dl-inline>dt, .dl-inline>dd {float: none; width: auto; display: inline-block}\n",
       ".dl-inline>dt::after {content: \":\\0020\"; padding-right: .5ex}\n",
       ".dl-inline>dt:not(:first-of-type) {padding-left: .5ex}\n",
       "</style><dl class=dl-inline><dt>task</dt><dd>1.13629777927553</dd><dt>input_nchars</dt><dd>136.432641170709</dd><dt>output_nchars</dt><dd>216.50775961205</dd><dt>input_ntokens</dt><dd>24.6540311691501</dd><dt>output_ntokens</dt><dd>32.9621812456058</dd><dt>input_logprob</dt><dd>3.10754213323976</dd><dt>output_logprob</dt><dd>19.4638458383537</dd></dl>\n"
      ],
      "text/latex": [
       "\\begin{description*}\n",
       "\\item[task] 1.13629777927553\n",
       "\\item[input\\textbackslash{}\\_nchars] 136.432641170709\n",
       "\\item[output\\textbackslash{}\\_nchars] 216.50775961205\n",
       "\\item[input\\textbackslash{}\\_ntokens] 24.6540311691501\n",
       "\\item[output\\textbackslash{}\\_ntokens] 32.9621812456058\n",
       "\\item[input\\textbackslash{}\\_logprob] 3.10754213323976\n",
       "\\item[output\\textbackslash{}\\_logprob] 19.4638458383537\n",
       "\\end{description*}\n"
      ],
      "text/markdown": [
       "task\n",
       ":   1.13629777927553input_nchars\n",
       ":   136.432641170709output_nchars\n",
       ":   216.50775961205input_ntokens\n",
       ":   24.6540311691501output_ntokens\n",
       ":   32.9621812456058input_logprob\n",
       ":   3.10754213323976output_logprob\n",
       ":   19.4638458383537\n",
       "\n"
      ],
      "text/plain": [
       "          task   input_nchars  output_nchars  input_ntokens output_ntokens \n",
       "      1.136298     136.432641     216.507760      24.654031      32.962181 \n",
       " input_logprob output_logprob \n",
       "      3.107542      19.463846 "
      ]
     },
     "metadata": {},
     "output_type": "display_data"
    }
   ],
   "source": [
    "vif(model_pigprobenc35)"
   ]
  },
  {
   "cell_type": "code",
   "execution_count": 287,
   "id": "c8029b0d",
   "metadata": {},
   "outputs": [
    {
     "data": {
      "text/html": [
       "<style>\n",
       ".dl-inline {width: auto; margin:0; padding: 0}\n",
       ".dl-inline>dt, .dl-inline>dd {float: none; width: auto; display: inline-block}\n",
       ".dl-inline>dt::after {content: \":\\0020\"; padding-right: .5ex}\n",
       ".dl-inline>dt:not(:first-of-type) {padding-left: .5ex}\n",
       "</style><dl class=dl-inline><dt>task</dt><dd>1.03996307236074</dd><dt>input_nchars</dt><dd>294.783904467808</dd><dt>output_nchars</dt><dd>211.029488844809</dd><dt>input_ntokens</dt><dd>32.6249958678959</dd><dt>output_ntokens</dt><dd>31.237753531276</dd><dt>input_logprob</dt><dd>24.826003857471</dd><dt>output_logprob</dt><dd>4.3089821501986</dd></dl>\n"
      ],
      "text/latex": [
       "\\begin{description*}\n",
       "\\item[task] 1.03996307236074\n",
       "\\item[input\\textbackslash{}\\_nchars] 294.783904467808\n",
       "\\item[output\\textbackslash{}\\_nchars] 211.029488844809\n",
       "\\item[input\\textbackslash{}\\_ntokens] 32.6249958678959\n",
       "\\item[output\\textbackslash{}\\_ntokens] 31.237753531276\n",
       "\\item[input\\textbackslash{}\\_logprob] 24.826003857471\n",
       "\\item[output\\textbackslash{}\\_logprob] 4.3089821501986\n",
       "\\end{description*}\n"
      ],
      "text/markdown": [
       "task\n",
       ":   1.03996307236074input_nchars\n",
       ":   294.783904467808output_nchars\n",
       ":   211.029488844809input_ntokens\n",
       ":   32.6249958678959output_ntokens\n",
       ":   31.237753531276input_logprob\n",
       ":   24.826003857471output_logprob\n",
       ":   4.3089821501986\n",
       "\n"
      ],
      "text/plain": [
       "          task   input_nchars  output_nchars  input_ntokens output_ntokens \n",
       "      1.039963     294.783904     211.029489      32.624996      31.237754 \n",
       " input_logprob output_logprob \n",
       "     24.826004       4.308982 "
      ]
     },
     "metadata": {},
     "output_type": "display_data"
    }
   ],
   "source": [
    "vif(model_pigprobdec4)"
   ]
  },
  {
   "cell_type": "code",
   "execution_count": 288,
   "id": "85dc31e5",
   "metadata": {},
   "outputs": [
    {
     "data": {
      "text/html": [
       "<style>\n",
       ".dl-inline {width: auto; margin:0; padding: 0}\n",
       ".dl-inline>dt, .dl-inline>dd {float: none; width: auto; display: inline-block}\n",
       ".dl-inline>dt::after {content: \":\\0020\"; padding-right: .5ex}\n",
       ".dl-inline>dt:not(:first-of-type) {padding-left: .5ex}\n",
       "</style><dl class=dl-inline><dt>task</dt><dd>1.05533292345652</dd><dt>input_nchars</dt><dd>252.40745755756</dd><dt>output_nchars</dt><dd>174.053674461663</dd><dt>input_ntokens</dt><dd>33.1774630824503</dd><dt>output_ntokens</dt><dd>28.4340883928861</dd><dt>input_logprob</dt><dd>22.5175305190614</dd><dt>output_logprob</dt><dd>4.45088569404585</dd></dl>\n"
      ],
      "text/latex": [
       "\\begin{description*}\n",
       "\\item[task] 1.05533292345652\n",
       "\\item[input\\textbackslash{}\\_nchars] 252.40745755756\n",
       "\\item[output\\textbackslash{}\\_nchars] 174.053674461663\n",
       "\\item[input\\textbackslash{}\\_ntokens] 33.1774630824503\n",
       "\\item[output\\textbackslash{}\\_ntokens] 28.4340883928861\n",
       "\\item[input\\textbackslash{}\\_logprob] 22.5175305190614\n",
       "\\item[output\\textbackslash{}\\_logprob] 4.45088569404585\n",
       "\\end{description*}\n"
      ],
      "text/markdown": [
       "task\n",
       ":   1.05533292345652input_nchars\n",
       ":   252.40745755756output_nchars\n",
       ":   174.053674461663input_ntokens\n",
       ":   33.1774630824503output_ntokens\n",
       ":   28.4340883928861input_logprob\n",
       ":   22.5175305190614output_logprob\n",
       ":   4.45088569404585\n",
       "\n"
      ],
      "text/plain": [
       "          task   input_nchars  output_nchars  input_ntokens output_ntokens \n",
       "      1.055333     252.407458     174.053674      33.177463      28.434088 \n",
       " input_logprob output_logprob \n",
       "     22.517531       4.450886 "
      ]
     },
     "metadata": {},
     "output_type": "display_data"
    }
   ],
   "source": [
    "vif(model_pigprobdec35)"
   ]
  },
  {
   "cell_type": "code",
   "execution_count": null,
   "id": "2d75eb13",
   "metadata": {},
   "outputs": [],
   "source": []
  },
  {
   "cell_type": "code",
   "execution_count": null,
   "id": "3a39d479",
   "metadata": {},
   "outputs": [],
   "source": []
  },
  {
   "cell_type": "markdown",
   "id": "64e92ada",
   "metadata": {},
   "source": [
    "# Acronyms"
   ]
  },
  {
   "cell_type": "code",
   "execution_count": 291,
   "id": "6f25b2ac",
   "metadata": {},
   "outputs": [],
   "source": [
    "# Read in data\n",
    "acronym_gpt4_outp_df <- read.table(file = 'table_acronym_varyoutp_gpt-4.tsv', sep = '\\t', header = TRUE)\n",
    "acronym_gpt35_outp_df <- read.table(file = 'table_acronym_varyoutp_gpt-3.5-turbo.tsv', sep = '\\t', header = TRUE)\n",
    "\n",
    "acronym_gpt4_inp_df <- read.table(file = 'table_acronym_varyinp_gpt-4.tsv', sep = '\\t', header = TRUE)\n",
    "acronym_gpt35_inp_df <- read.table(file = 'table_acronym_varyinp_gpt-3.5-turbo.tsv', sep = '\\t', header = TRUE)\n"
   ]
  },
  {
   "cell_type": "code",
   "execution_count": 292,
   "id": "e75a0f3a",
   "metadata": {},
   "outputs": [],
   "source": [
    "# Z-score data\n",
    "scaled_acronym_gpt4_outp_df <- scale_df(acronym_gpt4_outp_df)\n",
    "scaled_acronym_gpt35_outp_df <- scale_df(acronym_gpt35_outp_df)\n",
    "\n",
    "scaled_acronym_gpt4_inp_df <- scale_df(acronym_gpt4_inp_df)\n",
    "scaled_acronym_gpt35_inp_df <- scale_df(acronym_gpt35_inp_df)"
   ]
  },
  {
   "cell_type": "code",
   "execution_count": 293,
   "id": "643fb4f9",
   "metadata": {},
   "outputs": [],
   "source": [
    "acronym_gpt4_outp_model <- glm(correct ~ input_logprob + output_logprob, \n",
    "               data=scaled_acronym_gpt4_outp_df, family=binomial)\n",
    "acronym_gpt35_outp_model <- glm(correct ~ input_logprob + output_logprob, \n",
    "               data=scaled_acronym_gpt35_outp_df, family=binomial)\n",
    "acronym_gpt4_inp_model <- glm(correct ~ input_logprob + output_logprob, \n",
    "               data=scaled_acronym_gpt4_inp_df, family=binomial)\n",
    "acronym_gpt35_inp_model <- glm(correct ~ input_logprob + output_logprob, \n",
    "               data=scaled_acronym_gpt35_inp_df, family=binomial)"
   ]
  },
  {
   "cell_type": "code",
   "execution_count": 294,
   "id": "c85c1a03",
   "metadata": {},
   "outputs": [
    {
     "data": {
      "text/plain": [
       "\n",
       "Call:\n",
       "glm(formula = correct ~ input_logprob + output_logprob, family = binomial, \n",
       "    data = scaled_acronym_gpt4_outp_df)\n",
       "\n",
       "Deviance Residuals: \n",
       "    Min       1Q   Median       3Q      Max  \n",
       "-1.8568  -1.4834   0.7522   0.8102   0.9465  \n",
       "\n",
       "Coefficients:\n",
       "               Estimate Std. Error z value Pr(>|z|)    \n",
       "(Intercept)     1.01459    0.03216  31.544  < 2e-16 ***\n",
       "input_logprob   0.02365    0.03219   0.734    0.463    \n",
       "output_logprob  0.18045    0.03215   5.613 1.98e-08 ***\n",
       "---\n",
       "Signif. codes:  0 ‘***’ 0.001 ‘**’ 0.01 ‘*’ 0.05 ‘.’ 0.1 ‘ ’ 1\n",
       "\n",
       "(Dispersion parameter for binomial family taken to be 1)\n",
       "\n",
       "    Null deviance: 5808.6  on 4999  degrees of freedom\n",
       "Residual deviance: 5775.8  on 4997  degrees of freedom\n",
       "AIC: 5781.8\n",
       "\n",
       "Number of Fisher Scoring iterations: 4\n"
      ]
     },
     "metadata": {},
     "output_type": "display_data"
    }
   ],
   "source": [
    "summary(acronym_gpt4_outp_model)"
   ]
  },
  {
   "cell_type": "code",
   "execution_count": 295,
   "id": "6a2a9db3",
   "metadata": {},
   "outputs": [
    {
     "data": {
      "text/plain": [
       "\n",
       "Call:\n",
       "glm(formula = correct ~ input_logprob + output_logprob, family = binomial, \n",
       "    data = scaled_acronym_gpt35_outp_df)\n",
       "\n",
       "Deviance Residuals: \n",
       "    Min       1Q   Median       3Q      Max  \n",
       "-1.1974  -0.8503  -0.7280   1.3761   1.9420  \n",
       "\n",
       "Coefficients:\n",
       "               Estimate Std. Error z value Pr(>|z|)    \n",
       "(Intercept)    -0.95022    0.03213 -29.576   <2e-16 ***\n",
       "input_logprob   0.02860    0.03171   0.902    0.367    \n",
       "output_logprob  0.35613    0.03269  10.894   <2e-16 ***\n",
       "---\n",
       "Signif. codes:  0 ‘***’ 0.001 ‘**’ 0.01 ‘*’ 0.05 ‘.’ 0.1 ‘ ’ 1\n",
       "\n",
       "(Dispersion parameter for binomial family taken to be 1)\n",
       "\n",
       "    Null deviance: 5970.6  on 4999  degrees of freedom\n",
       "Residual deviance: 5845.1  on 4997  degrees of freedom\n",
       "AIC: 5851.1\n",
       "\n",
       "Number of Fisher Scoring iterations: 4\n"
      ]
     },
     "metadata": {},
     "output_type": "display_data"
    }
   ],
   "source": [
    "summary(acronym_gpt35_outp_model)"
   ]
  },
  {
   "cell_type": "code",
   "execution_count": 296,
   "id": "7e8ae1e2",
   "metadata": {},
   "outputs": [
    {
     "data": {
      "text/plain": [
       "\n",
       "Call:\n",
       "glm(formula = correct ~ input_logprob + output_logprob, family = binomial, \n",
       "    data = scaled_acronym_gpt4_inp_df)\n",
       "\n",
       "Deviance Residuals: \n",
       "    Min       1Q   Median       3Q      Max  \n",
       "-1.7203  -1.5978   0.7551   0.7788   0.8319  \n",
       "\n",
       "Coefficients:\n",
       "               Estimate Std. Error z value Pr(>|z|)    \n",
       "(Intercept)     1.07431    0.03249  33.069   <2e-16 ***\n",
       "input_logprob   0.06318    0.03256   1.940   0.0523 .  \n",
       "output_logprob -0.02536    0.03220  -0.788   0.4309    \n",
       "---\n",
       "Signif. codes:  0 ‘***’ 0.001 ‘**’ 0.01 ‘*’ 0.05 ‘.’ 0.1 ‘ ’ 1\n",
       "\n",
       "(Dispersion parameter for binomial family taken to be 1)\n",
       "\n",
       "    Null deviance: 5675.5  on 4999  degrees of freedom\n",
       "Residual deviance: 5671.1  on 4997  degrees of freedom\n",
       "AIC: 5677.1\n",
       "\n",
       "Number of Fisher Scoring iterations: 4\n"
      ]
     },
     "metadata": {},
     "output_type": "display_data"
    }
   ],
   "source": [
    "summary(acronym_gpt4_inp_model)"
   ]
  },
  {
   "cell_type": "code",
   "execution_count": 297,
   "id": "d89ef5b5",
   "metadata": {},
   "outputs": [
    {
     "data": {
      "text/plain": [
       "\n",
       "Call:\n",
       "glm(formula = correct ~ input_logprob + output_logprob, family = binomial, \n",
       "    data = scaled_acronym_gpt35_inp_df)\n",
       "\n",
       "Deviance Residuals: \n",
       "    Min       1Q   Median       3Q      Max  \n",
       "-1.0004  -0.9175  -0.8470   1.4090   1.6041  \n",
       "\n",
       "Coefficients:\n",
       "                Estimate Std. Error z value Pr(>|z|)    \n",
       "(Intercept)    -0.725846   0.030267 -23.982  < 2e-16 ***\n",
       "input_logprob   0.153745   0.030205   5.090 3.58e-07 ***\n",
       "output_logprob -0.005357   0.030269  -0.177     0.86    \n",
       "---\n",
       "Signif. codes:  0 ‘***’ 0.001 ‘**’ 0.01 ‘*’ 0.05 ‘.’ 0.1 ‘ ’ 1\n",
       "\n",
       "(Dispersion parameter for binomial family taken to be 1)\n",
       "\n",
       "    Null deviance: 6320.3  on 4999  degrees of freedom\n",
       "Residual deviance: 6294.3  on 4997  degrees of freedom\n",
       "AIC: 6300.3\n",
       "\n",
       "Number of Fisher Scoring iterations: 4\n"
      ]
     },
     "metadata": {},
     "output_type": "display_data"
    }
   ],
   "source": [
    "summary(acronym_gpt35_inp_model)"
   ]
  },
  {
   "cell_type": "code",
   "execution_count": 298,
   "id": "a274c936",
   "metadata": {},
   "outputs": [
    {
     "data": {
      "text/html": [
       "<style>\n",
       ".dl-inline {width: auto; margin:0; padding: 0}\n",
       ".dl-inline>dt, .dl-inline>dd {float: none; width: auto; display: inline-block}\n",
       ".dl-inline>dt::after {content: \":\\0020\"; padding-right: .5ex}\n",
       ".dl-inline>dt:not(:first-of-type) {padding-left: .5ex}\n",
       "</style><dl class=dl-inline><dt>input_logprob</dt><dd>1.00266237344527</dd><dt>output_logprob</dt><dd>1.00266237344527</dd></dl>\n"
      ],
      "text/latex": [
       "\\begin{description*}\n",
       "\\item[input\\textbackslash{}\\_logprob] 1.00266237344527\n",
       "\\item[output\\textbackslash{}\\_logprob] 1.00266237344527\n",
       "\\end{description*}\n"
      ],
      "text/markdown": [
       "input_logprob\n",
       ":   1.00266237344527output_logprob\n",
       ":   1.00266237344527\n",
       "\n"
      ],
      "text/plain": [
       " input_logprob output_logprob \n",
       "      1.002662       1.002662 "
      ]
     },
     "metadata": {},
     "output_type": "display_data"
    }
   ],
   "source": [
    "vif(acronym_gpt4_outp_model)"
   ]
  },
  {
   "cell_type": "code",
   "execution_count": 299,
   "id": "82dfa756",
   "metadata": {},
   "outputs": [
    {
     "data": {
      "text/html": [
       "<style>\n",
       ".dl-inline {width: auto; margin:0; padding: 0}\n",
       ".dl-inline>dt, .dl-inline>dd {float: none; width: auto; display: inline-block}\n",
       ".dl-inline>dt::after {content: \":\\0020\"; padding-right: .5ex}\n",
       ".dl-inline>dt:not(:first-of-type) {padding-left: .5ex}\n",
       "</style><dl class=dl-inline><dt>input_logprob</dt><dd>1.00249960879314</dd><dt>output_logprob</dt><dd>1.00249960879314</dd></dl>\n"
      ],
      "text/latex": [
       "\\begin{description*}\n",
       "\\item[input\\textbackslash{}\\_logprob] 1.00249960879314\n",
       "\\item[output\\textbackslash{}\\_logprob] 1.00249960879314\n",
       "\\end{description*}\n"
      ],
      "text/markdown": [
       "input_logprob\n",
       ":   1.00249960879314output_logprob\n",
       ":   1.00249960879314\n",
       "\n"
      ],
      "text/plain": [
       " input_logprob output_logprob \n",
       "        1.0025         1.0025 "
      ]
     },
     "metadata": {},
     "output_type": "display_data"
    }
   ],
   "source": [
    "vif(acronym_gpt35_outp_model)"
   ]
  },
  {
   "cell_type": "code",
   "execution_count": 300,
   "id": "2c7a21f6",
   "metadata": {},
   "outputs": [
    {
     "data": {
      "text/html": [
       "<style>\n",
       ".dl-inline {width: auto; margin:0; padding: 0}\n",
       ".dl-inline>dt, .dl-inline>dd {float: none; width: auto; display: inline-block}\n",
       ".dl-inline>dt::after {content: \":\\0020\"; padding-right: .5ex}\n",
       ".dl-inline>dt:not(:first-of-type) {padding-left: .5ex}\n",
       "</style><dl class=dl-inline><dt>input_logprob</dt><dd>1.00000062635587</dd><dt>output_logprob</dt><dd>1.00000062635587</dd></dl>\n"
      ],
      "text/latex": [
       "\\begin{description*}\n",
       "\\item[input\\textbackslash{}\\_logprob] 1.00000062635587\n",
       "\\item[output\\textbackslash{}\\_logprob] 1.00000062635587\n",
       "\\end{description*}\n"
      ],
      "text/markdown": [
       "input_logprob\n",
       ":   1.00000062635587output_logprob\n",
       ":   1.00000062635587\n",
       "\n"
      ],
      "text/plain": [
       " input_logprob output_logprob \n",
       "      1.000001       1.000001 "
      ]
     },
     "metadata": {},
     "output_type": "display_data"
    }
   ],
   "source": [
    "vif(acronym_gpt4_inp_model)"
   ]
  },
  {
   "cell_type": "code",
   "execution_count": 301,
   "id": "218f6a72",
   "metadata": {},
   "outputs": [
    {
     "data": {
      "text/html": [
       "<style>\n",
       ".dl-inline {width: auto; margin:0; padding: 0}\n",
       ".dl-inline>dt, .dl-inline>dd {float: none; width: auto; display: inline-block}\n",
       ".dl-inline>dt::after {content: \":\\0020\"; padding-right: .5ex}\n",
       ".dl-inline>dt:not(:first-of-type) {padding-left: .5ex}\n",
       "</style><dl class=dl-inline><dt>input_logprob</dt><dd>1.00000012457143</dd><dt>output_logprob</dt><dd>1.00000012457143</dd></dl>\n"
      ],
      "text/latex": [
       "\\begin{description*}\n",
       "\\item[input\\textbackslash{}\\_logprob] 1.00000012457143\n",
       "\\item[output\\textbackslash{}\\_logprob] 1.00000012457143\n",
       "\\end{description*}\n"
      ],
      "text/markdown": [
       "input_logprob\n",
       ":   1.00000012457143output_logprob\n",
       ":   1.00000012457143\n",
       "\n"
      ],
      "text/plain": [
       " input_logprob output_logprob \n",
       "             1              1 "
      ]
     },
     "metadata": {},
     "output_type": "display_data"
    }
   ],
   "source": [
    "vif(acronym_gpt35_inp_model)"
   ]
  },
  {
   "cell_type": "code",
   "execution_count": null,
   "id": "a1973fb5",
   "metadata": {},
   "outputs": [],
   "source": []
  },
  {
   "cell_type": "markdown",
   "id": "d634cf88",
   "metadata": {},
   "source": [
    "### Vary task"
   ]
  },
  {
   "cell_type": "code",
   "execution_count": 302,
   "id": "78121991",
   "metadata": {},
   "outputs": [],
   "source": [
    "# Read in data\n",
    "acronym_gpt4_1and2_df <- read.table(file = 'table_acronym_varytask_gpt-4.tsv', sep = '\\t', header = TRUE)\n",
    "acronym_gpt35_1and2_df <- read.table(file = 'table_acronym_varytask_gpt-3.5-turbo.tsv', sep = '\\t', header = TRUE)\n"
   ]
  },
  {
   "cell_type": "code",
   "execution_count": 303,
   "id": "0a0486a1",
   "metadata": {},
   "outputs": [],
   "source": [
    "# Z-score data\n",
    "scaled_acronym_gpt4_1and2_df <- scale_taskpair_df(acronym_gpt4_1and2_df)\n",
    "scaled_acronym_gpt35_1and2_df <- scale_taskpair_df(acronym_gpt35_1and2_df)"
   ]
  },
  {
   "cell_type": "code",
   "execution_count": 305,
   "id": "f8d04806",
   "metadata": {},
   "outputs": [],
   "source": [
    "acronym_gpt4_1and2_model <- bayesglm(correct ~ task + input_logprob + output_logprob, \n",
    "               data=scaled_acronym_gpt4_1and2_df, family=binomial)\n",
    "acronym_gpt35_1and2_model <- bayesglm(correct ~ task + input_logprob + output_logprob, \n",
    "               data=scaled_acronym_gpt35_1and2_df, family=binomial)"
   ]
  },
  {
   "cell_type": "code",
   "execution_count": 306,
   "id": "5cc292c0",
   "metadata": {},
   "outputs": [
    {
     "data": {
      "text/plain": [
       "\n",
       "Call:\n",
       "bayesglm(formula = correct ~ task + input_logprob + output_logprob, \n",
       "    family = binomial, data = scaled_acronym_gpt4_1and2_df)\n",
       "\n",
       "Deviance Residuals: \n",
       "    Min       1Q   Median       3Q      Max  \n",
       "-1.7957  -0.2273  -0.2151   0.7175   2.7694  \n",
       "\n",
       "Coefficients:\n",
       "               Estimate Std. Error z value Pr(>|z|)    \n",
       "(Intercept)     1.19572    0.07495  15.954   <2e-16 ***\n",
       "taskacronym2   -4.88826    0.21820 -22.402   <2e-16 ***\n",
       "input_logprob  -0.07488    0.06637  -1.128    0.259    \n",
       "output_logprob -0.03782    0.06980  -0.542    0.588    \n",
       "---\n",
       "Signif. codes:  0 ‘***’ 0.001 ‘**’ 0.01 ‘*’ 0.05 ‘.’ 0.1 ‘ ’ 1\n",
       "\n",
       "(Dispersion parameter for binomial family taken to be 1)\n",
       "\n",
       "    Null deviance: 2685.4  on 1999  degrees of freedom\n",
       "Residual deviance: 1308.3  on 1996  degrees of freedom\n",
       "AIC: 1316.3\n",
       "\n",
       "Number of Fisher Scoring iterations: 7\n"
      ]
     },
     "metadata": {},
     "output_type": "display_data"
    }
   ],
   "source": [
    "summary(acronym_gpt4_1and2_model)"
   ]
  },
  {
   "cell_type": "code",
   "execution_count": 307,
   "id": "7690abc9",
   "metadata": {},
   "outputs": [
    {
     "data": {
      "text/plain": [
       "\n",
       "Call:\n",
       "bayesglm(formula = correct ~ task + input_logprob + output_logprob, \n",
       "    family = binomial, data = scaled_acronym_gpt35_1and2_df)\n",
       "\n",
       "Deviance Residuals: \n",
       "     Min        1Q    Median        3Q       Max  \n",
       "-1.06256  -0.98056  -0.02311  -0.02243   1.43915  \n",
       "\n",
       "Coefficients:\n",
       "               Estimate Std. Error z value Pr(>|z|)    \n",
       "(Intercept)    -0.43479    0.06477  -6.713 1.91e-11 ***\n",
       "taskacronym2   -7.80389    1.83306  -4.257 2.07e-05 ***\n",
       "input_logprob   0.04176    0.06051   0.690    0.490    \n",
       "output_logprob -0.01684    0.06481  -0.260    0.795    \n",
       "---\n",
       "Signif. codes:  0 ‘***’ 0.001 ‘**’ 0.01 ‘*’ 0.05 ‘.’ 0.1 ‘ ’ 1\n",
       "\n",
       "(Dispersion parameter for binomial family taken to be 1)\n",
       "\n",
       "    Null deviance: 1982.0  on 1999  degrees of freedom\n",
       "Residual deviance: 1340.1  on 1996  degrees of freedom\n",
       "AIC: 1348.1\n",
       "\n",
       "Number of Fisher Scoring iterations: 16\n"
      ]
     },
     "metadata": {},
     "output_type": "display_data"
    }
   ],
   "source": [
    "summary(acronym_gpt35_1and2_model)"
   ]
  },
  {
   "cell_type": "code",
   "execution_count": 308,
   "id": "db4c3321",
   "metadata": {},
   "outputs": [
    {
     "data": {
      "text/html": [
       "<style>\n",
       ".dl-inline {width: auto; margin:0; padding: 0}\n",
       ".dl-inline>dt, .dl-inline>dd {float: none; width: auto; display: inline-block}\n",
       ".dl-inline>dt::after {content: \":\\0020\"; padding-right: .5ex}\n",
       ".dl-inline>dt:not(:first-of-type) {padding-left: .5ex}\n",
       "</style><dl class=dl-inline><dt>task</dt><dd>1.00069415612052</dd><dt>input_logprob</dt><dd>1.00042495236527</dd><dt>output_logprob</dt><dd>1.00039214085917</dd></dl>\n"
      ],
      "text/latex": [
       "\\begin{description*}\n",
       "\\item[task] 1.00069415612052\n",
       "\\item[input\\textbackslash{}\\_logprob] 1.00042495236527\n",
       "\\item[output\\textbackslash{}\\_logprob] 1.00039214085917\n",
       "\\end{description*}\n"
      ],
      "text/markdown": [
       "task\n",
       ":   1.00069415612052input_logprob\n",
       ":   1.00042495236527output_logprob\n",
       ":   1.00039214085917\n",
       "\n"
      ],
      "text/plain": [
       "          task  input_logprob output_logprob \n",
       "      1.000694       1.000425       1.000392 "
      ]
     },
     "metadata": {},
     "output_type": "display_data"
    }
   ],
   "source": [
    "vif(acronym_gpt4_1and2_model)"
   ]
  },
  {
   "cell_type": "code",
   "execution_count": 309,
   "id": "de0a1f8c",
   "metadata": {},
   "outputs": [
    {
     "data": {
      "text/html": [
       "<style>\n",
       ".dl-inline {width: auto; margin:0; padding: 0}\n",
       ".dl-inline>dt, .dl-inline>dd {float: none; width: auto; display: inline-block}\n",
       ".dl-inline>dt::after {content: \":\\0020\"; padding-right: .5ex}\n",
       ".dl-inline>dt:not(:first-of-type) {padding-left: .5ex}\n",
       "</style><dl class=dl-inline><dt>task</dt><dd>1.00000435360833</dd><dt>input_logprob</dt><dd>1.00005427480753</dd><dt>output_logprob</dt><dd>1.00005016563864</dd></dl>\n"
      ],
      "text/latex": [
       "\\begin{description*}\n",
       "\\item[task] 1.00000435360833\n",
       "\\item[input\\textbackslash{}\\_logprob] 1.00005427480753\n",
       "\\item[output\\textbackslash{}\\_logprob] 1.00005016563864\n",
       "\\end{description*}\n"
      ],
      "text/markdown": [
       "task\n",
       ":   1.00000435360833input_logprob\n",
       ":   1.00005427480753output_logprob\n",
       ":   1.00005016563864\n",
       "\n"
      ],
      "text/plain": [
       "          task  input_logprob output_logprob \n",
       "      1.000004       1.000054       1.000050 "
      ]
     },
     "metadata": {},
     "output_type": "display_data"
    }
   ],
   "source": [
    "vif(acronym_gpt35_1and2_model)"
   ]
  },
  {
   "cell_type": "code",
   "execution_count": null,
   "id": "57715085",
   "metadata": {},
   "outputs": [],
   "source": []
  },
  {
   "cell_type": "markdown",
   "id": "f3f4b0fe",
   "metadata": {},
   "source": [
    "# Multiplication"
   ]
  },
  {
   "cell_type": "code",
   "execution_count": 415,
   "id": "ed8fc42d",
   "metadata": {},
   "outputs": [],
   "source": [
    "# Read in data\n",
    "mult_gpt4_df <- read.table(file = 'table_multiplication_gpt-4.tsv', sep = '\\t', header = TRUE)\n",
    "mult_gpt35_df <- read.table(file = 'table_multiplication_gpt-3.5-turbo.tsv', sep = '\\t', header = TRUE)"
   ]
  },
  {
   "cell_type": "code",
   "execution_count": 416,
   "id": "4e8af72c",
   "metadata": {},
   "outputs": [],
   "source": [
    "mult_gpt4_df$method <- factor(mult_gpt4_df$method)\n",
    "mult_gpt35_df$method <- factor(mult_gpt35_df$method)"
   ]
  },
  {
   "cell_type": "code",
   "execution_count": 417,
   "id": "22e0e936",
   "metadata": {},
   "outputs": [
    {
     "data": {
      "text/html": [
       "<table class=\"dataframe\">\n",
       "<caption>A data.frame: 6 × 3</caption>\n",
       "<thead>\n",
       "\t<tr><th></th><th scope=col>index</th><th scope=col>method</th><th scope=col>correct</th></tr>\n",
       "\t<tr><th></th><th scope=col>&lt;int&gt;</th><th scope=col>&lt;fct&gt;</th><th scope=col>&lt;int&gt;</th></tr>\n",
       "</thead>\n",
       "<tbody>\n",
       "\t<tr><th scope=row>1</th><td>0</td><td>multiplication_number</td><td>0</td></tr>\n",
       "\t<tr><th scope=row>2</th><td>1</td><td>multiplication_number</td><td>0</td></tr>\n",
       "\t<tr><th scope=row>3</th><td>2</td><td>multiplication_number</td><td>1</td></tr>\n",
       "\t<tr><th scope=row>4</th><td>3</td><td>multiplication_number</td><td>0</td></tr>\n",
       "\t<tr><th scope=row>5</th><td>4</td><td>multiplication_number</td><td>1</td></tr>\n",
       "\t<tr><th scope=row>6</th><td>5</td><td>multiplication_number</td><td>1</td></tr>\n",
       "</tbody>\n",
       "</table>\n"
      ],
      "text/latex": [
       "A data.frame: 6 × 3\n",
       "\\begin{tabular}{r|lll}\n",
       "  & index & method & correct\\\\\n",
       "  & <int> & <fct> & <int>\\\\\n",
       "\\hline\n",
       "\t1 & 0 & multiplication\\_number & 0\\\\\n",
       "\t2 & 1 & multiplication\\_number & 0\\\\\n",
       "\t3 & 2 & multiplication\\_number & 1\\\\\n",
       "\t4 & 3 & multiplication\\_number & 0\\\\\n",
       "\t5 & 4 & multiplication\\_number & 1\\\\\n",
       "\t6 & 5 & multiplication\\_number & 1\\\\\n",
       "\\end{tabular}\n"
      ],
      "text/markdown": [
       "\n",
       "A data.frame: 6 × 3\n",
       "\n",
       "| <!--/--> | index &lt;int&gt; | method &lt;fct&gt; | correct &lt;int&gt; |\n",
       "|---|---|---|---|\n",
       "| 1 | 0 | multiplication_number | 0 |\n",
       "| 2 | 1 | multiplication_number | 0 |\n",
       "| 3 | 2 | multiplication_number | 1 |\n",
       "| 4 | 3 | multiplication_number | 0 |\n",
       "| 5 | 4 | multiplication_number | 1 |\n",
       "| 6 | 5 | multiplication_number | 1 |\n",
       "\n"
      ],
      "text/plain": [
       "  index method                correct\n",
       "1 0     multiplication_number 0      \n",
       "2 1     multiplication_number 0      \n",
       "3 2     multiplication_number 1      \n",
       "4 3     multiplication_number 0      \n",
       "5 4     multiplication_number 1      \n",
       "6 5     multiplication_number 1      "
      ]
     },
     "metadata": {},
     "output_type": "display_data"
    }
   ],
   "source": [
    "head(mult_gpt4_df)"
   ]
  },
  {
   "cell_type": "code",
   "execution_count": 418,
   "id": "7eb0b3a5",
   "metadata": {},
   "outputs": [],
   "source": [
    "contrasts(mult_gpt4_df$method) <- contr.sum(4)\n",
    "contrasts(mult_gpt35_df$method) <- contr.sum(4)"
   ]
  },
  {
   "cell_type": "code",
   "execution_count": 419,
   "id": "4b5a3251",
   "metadata": {},
   "outputs": [],
   "source": [
    "mult_gpt4_model <- glmer(correct ~ method + (1|index), \n",
    "               data=mult_gpt4_df, family=binomial)\n",
    "mult_gpt4_null_model <- glmer(correct ~ (1|index), \n",
    "               data=mult_gpt4_df, family=binomial)   "
   ]
  },
  {
   "cell_type": "code",
   "execution_count": 429,
   "id": "e7c97107",
   "metadata": {},
   "outputs": [
    {
     "name": "stderr",
     "output_type": "stream",
     "text": [
      "Warning message in checkConv(attr(opt, \"derivs\"), opt$par, ctrl = control$checkConv, :\n",
      "“Model failed to converge with max|grad| = 0.0232921 (tol = 0.002, component 1)”\n"
     ]
    }
   ],
   "source": [
    "mult_gpt35_model <- glmer(correct ~ method + (1|index), \n",
    "               data=mult_gpt35_df, family=binomial)\n",
    "mult_gpt35_null_model <- glmer(correct ~ (1|index), \n",
    "               data=mult_gpt35_df, family=binomial)        "
   ]
  },
  {
   "cell_type": "code",
   "execution_count": 434,
   "id": "f4ad6a88",
   "metadata": {},
   "outputs": [],
   "source": [
    "mult_gpt35_null_model <- glmer(correct ~ (1|index), \n",
    "               data=mult_gpt35_df, family=binomial,\n",
    "               nAGQ=0\n",
    "                              ) "
   ]
  },
  {
   "cell_type": "code",
   "execution_count": null,
   "id": "bf6d1f6a",
   "metadata": {},
   "outputs": [],
   "source": []
  },
  {
   "cell_type": "code",
   "execution_count": 422,
   "id": "22a45caa",
   "metadata": {},
   "outputs": [
    {
     "data": {
      "text/html": [
       "<table class=\"dataframe\">\n",
       "<caption>A anova: 2 × 8</caption>\n",
       "<thead>\n",
       "\t<tr><th></th><th scope=col>npar</th><th scope=col>AIC</th><th scope=col>BIC</th><th scope=col>logLik</th><th scope=col>deviance</th><th scope=col>Chisq</th><th scope=col>Df</th><th scope=col>Pr(&gt;Chisq)</th></tr>\n",
       "\t<tr><th></th><th scope=col>&lt;dbl&gt;</th><th scope=col>&lt;dbl&gt;</th><th scope=col>&lt;dbl&gt;</th><th scope=col>&lt;dbl&gt;</th><th scope=col>&lt;dbl&gt;</th><th scope=col>&lt;dbl&gt;</th><th scope=col>&lt;dbl&gt;</th><th scope=col>&lt;dbl&gt;</th></tr>\n",
       "</thead>\n",
       "<tbody>\n",
       "\t<tr><th scope=row>mult_gpt4_null_model</th><td>2</td><td>423.6559</td><td>431.6388</td><td>-209.8279</td><td>419.6559</td><td>      NA</td><td>NA</td><td>          NA</td></tr>\n",
       "\t<tr><th scope=row>mult_gpt4_model</th><td>5</td><td>374.9890</td><td>394.9463</td><td>-182.4945</td><td>364.9890</td><td>54.66686</td><td> 3</td><td>8.086872e-12</td></tr>\n",
       "</tbody>\n",
       "</table>\n"
      ],
      "text/latex": [
       "A anova: 2 × 8\n",
       "\\begin{tabular}{r|llllllll}\n",
       "  & npar & AIC & BIC & logLik & deviance & Chisq & Df & Pr(>Chisq)\\\\\n",
       "  & <dbl> & <dbl> & <dbl> & <dbl> & <dbl> & <dbl> & <dbl> & <dbl>\\\\\n",
       "\\hline\n",
       "\tmult\\_gpt4\\_null\\_model & 2 & 423.6559 & 431.6388 & -209.8279 & 419.6559 &       NA & NA &           NA\\\\\n",
       "\tmult\\_gpt4\\_model & 5 & 374.9890 & 394.9463 & -182.4945 & 364.9890 & 54.66686 &  3 & 8.086872e-12\\\\\n",
       "\\end{tabular}\n"
      ],
      "text/markdown": [
       "\n",
       "A anova: 2 × 8\n",
       "\n",
       "| <!--/--> | npar &lt;dbl&gt; | AIC &lt;dbl&gt; | BIC &lt;dbl&gt; | logLik &lt;dbl&gt; | deviance &lt;dbl&gt; | Chisq &lt;dbl&gt; | Df &lt;dbl&gt; | Pr(&gt;Chisq) &lt;dbl&gt; |\n",
       "|---|---|---|---|---|---|---|---|---|\n",
       "| mult_gpt4_null_model | 2 | 423.6559 | 431.6388 | -209.8279 | 419.6559 |       NA | NA |           NA |\n",
       "| mult_gpt4_model | 5 | 374.9890 | 394.9463 | -182.4945 | 364.9890 | 54.66686 |  3 | 8.086872e-12 |\n",
       "\n"
      ],
      "text/plain": [
       "                     npar AIC      BIC      logLik    deviance Chisq    Df\n",
       "mult_gpt4_null_model 2    423.6559 431.6388 -209.8279 419.6559       NA NA\n",
       "mult_gpt4_model      5    374.9890 394.9463 -182.4945 364.9890 54.66686  3\n",
       "                     Pr(>Chisq)  \n",
       "mult_gpt4_null_model           NA\n",
       "mult_gpt4_model      8.086872e-12"
      ]
     },
     "metadata": {},
     "output_type": "display_data"
    }
   ],
   "source": [
    "anova(mult_gpt4_model,mult_gpt4_null_model,test=\"Chisq\")"
   ]
  },
  {
   "cell_type": "code",
   "execution_count": 423,
   "id": "5c3639ea",
   "metadata": {},
   "outputs": [
    {
     "data": {
      "text/html": [
       "<table class=\"dataframe\">\n",
       "<caption>A anova: 2 × 8</caption>\n",
       "<thead>\n",
       "\t<tr><th></th><th scope=col>npar</th><th scope=col>AIC</th><th scope=col>BIC</th><th scope=col>logLik</th><th scope=col>deviance</th><th scope=col>Chisq</th><th scope=col>Df</th><th scope=col>Pr(&gt;Chisq)</th></tr>\n",
       "\t<tr><th></th><th scope=col>&lt;dbl&gt;</th><th scope=col>&lt;dbl&gt;</th><th scope=col>&lt;dbl&gt;</th><th scope=col>&lt;dbl&gt;</th><th scope=col>&lt;dbl&gt;</th><th scope=col>&lt;dbl&gt;</th><th scope=col>&lt;dbl&gt;</th><th scope=col>&lt;dbl&gt;</th></tr>\n",
       "</thead>\n",
       "<tbody>\n",
       "\t<tr><th scope=row>mult_gpt35_null_model</th><td>2</td><td>406.3199</td><td>414.3028</td><td>-201.1599</td><td>402.3199</td><td>      NA</td><td>NA</td><td>          NA</td></tr>\n",
       "\t<tr><th scope=row>mult_gpt35_model</th><td>5</td><td>300.3687</td><td>320.3260</td><td>-145.1843</td><td>290.3687</td><td>111.9512</td><td> 3</td><td>4.172438e-24</td></tr>\n",
       "</tbody>\n",
       "</table>\n"
      ],
      "text/latex": [
       "A anova: 2 × 8\n",
       "\\begin{tabular}{r|llllllll}\n",
       "  & npar & AIC & BIC & logLik & deviance & Chisq & Df & Pr(>Chisq)\\\\\n",
       "  & <dbl> & <dbl> & <dbl> & <dbl> & <dbl> & <dbl> & <dbl> & <dbl>\\\\\n",
       "\\hline\n",
       "\tmult\\_gpt35\\_null\\_model & 2 & 406.3199 & 414.3028 & -201.1599 & 402.3199 &       NA & NA &           NA\\\\\n",
       "\tmult\\_gpt35\\_model & 5 & 300.3687 & 320.3260 & -145.1843 & 290.3687 & 111.9512 &  3 & 4.172438e-24\\\\\n",
       "\\end{tabular}\n"
      ],
      "text/markdown": [
       "\n",
       "A anova: 2 × 8\n",
       "\n",
       "| <!--/--> | npar &lt;dbl&gt; | AIC &lt;dbl&gt; | BIC &lt;dbl&gt; | logLik &lt;dbl&gt; | deviance &lt;dbl&gt; | Chisq &lt;dbl&gt; | Df &lt;dbl&gt; | Pr(&gt;Chisq) &lt;dbl&gt; |\n",
       "|---|---|---|---|---|---|---|---|---|\n",
       "| mult_gpt35_null_model | 2 | 406.3199 | 414.3028 | -201.1599 | 402.3199 |       NA | NA |           NA |\n",
       "| mult_gpt35_model | 5 | 300.3687 | 320.3260 | -145.1843 | 290.3687 | 111.9512 |  3 | 4.172438e-24 |\n",
       "\n"
      ],
      "text/plain": [
       "                      npar AIC      BIC      logLik    deviance Chisq    Df\n",
       "mult_gpt35_null_model 2    406.3199 414.3028 -201.1599 402.3199       NA NA\n",
       "mult_gpt35_model      5    300.3687 320.3260 -145.1843 290.3687 111.9512  3\n",
       "                      Pr(>Chisq)  \n",
       "mult_gpt35_null_model           NA\n",
       "mult_gpt35_model      4.172438e-24"
      ]
     },
     "metadata": {},
     "output_type": "display_data"
    }
   ],
   "source": [
    "anova(mult_gpt35_model,mult_gpt35_null_model,test=\"Chisq\")"
   ]
  },
  {
   "cell_type": "code",
   "execution_count": 395,
   "id": "39395e0b",
   "metadata": {},
   "outputs": [],
   "source": [
    "gpt4_mult_multcomp <- glht(mult_gpt4_model, linfct=mcp(method=\"Tukey\"))\n"
   ]
  },
  {
   "cell_type": "code",
   "execution_count": 396,
   "id": "e08703fb",
   "metadata": {},
   "outputs": [
    {
     "data": {
      "text/plain": [
       "\n",
       "\t Simultaneous Tests for General Linear Hypotheses\n",
       "\n",
       "Multiple Comparisons of Means: Tukey Contrasts\n",
       "\n",
       "\n",
       "Fit: glmer(formula = correct ~ method + (1 | index), data = mult_gpt4_df, \n",
       "    family = binomial)\n",
       "\n",
       "Linear Hypotheses:\n",
       "                                                             Estimate\n",
       "multiplication_alternatingcaps - multiplication_allcaps == 0  -2.4389\n",
       "multiplication_number - multiplication_allcaps == 0            1.5418\n",
       "multiplication_word - multiplication_allcaps == 0              0.4810\n",
       "multiplication_number - multiplication_alternatingcaps == 0    3.9807\n",
       "multiplication_word - multiplication_alternatingcaps == 0      2.9200\n",
       "multiplication_word - multiplication_number == 0              -1.0607\n",
       "                                                             Std. Error z value\n",
       "multiplication_alternatingcaps - multiplication_allcaps == 0     0.6010  -4.058\n",
       "multiplication_number - multiplication_allcaps == 0              0.5238   2.943\n",
       "multiplication_word - multiplication_allcaps == 0                0.4934   0.975\n",
       "multiplication_number - multiplication_alternatingcaps == 0      0.6983   5.700\n",
       "multiplication_word - multiplication_alternatingcaps == 0        0.6276   4.653\n",
       "multiplication_word - multiplication_number == 0                 0.5028  -2.110\n",
       "                                                             Pr(>|z|)    \n",
       "multiplication_alternatingcaps - multiplication_allcaps == 0   <0.001 ***\n",
       "multiplication_number - multiplication_allcaps == 0            0.0167 *  \n",
       "multiplication_word - multiplication_allcaps == 0              0.7596    \n",
       "multiplication_number - multiplication_alternatingcaps == 0    <0.001 ***\n",
       "multiplication_word - multiplication_alternatingcaps == 0      <0.001 ***\n",
       "multiplication_word - multiplication_number == 0               0.1464    \n",
       "---\n",
       "Signif. codes:  0 ‘***’ 0.001 ‘**’ 0.01 ‘*’ 0.05 ‘.’ 0.1 ‘ ’ 1\n",
       "(Adjusted p values reported -- single-step method)\n"
      ]
     },
     "metadata": {},
     "output_type": "display_data"
    }
   ],
   "source": [
    "summary(gpt4_mult_multcomp)"
   ]
  },
  {
   "cell_type": "code",
   "execution_count": null,
   "id": "dfc65057",
   "metadata": {},
   "outputs": [],
   "source": []
  },
  {
   "cell_type": "code",
   "execution_count": 397,
   "id": "69c0721b",
   "metadata": {},
   "outputs": [],
   "source": [
    "gpt35_mult_multcomp <- glht(mult_gpt35_model, linfct=mcp(method=\"Tukey\"))\n"
   ]
  },
  {
   "cell_type": "code",
   "execution_count": 398,
   "id": "f2c58cbf",
   "metadata": {},
   "outputs": [
    {
     "data": {
      "text/plain": [
       "\n",
       "\t Simultaneous Tests for General Linear Hypotheses\n",
       "\n",
       "Multiple Comparisons of Means: Tukey Contrasts\n",
       "\n",
       "\n",
       "Fit: glmer(formula = correct ~ method + (1 | index), data = mult_gpt35_df, \n",
       "    family = binomial)\n",
       "\n",
       "Linear Hypotheses:\n",
       "                                                             Estimate\n",
       "multiplication_alternatingcaps - multiplication_allcaps == 0 -26.9816\n",
       "multiplication_number - multiplication_allcaps == 0            3.1096\n",
       "multiplication_word - multiplication_allcaps == 0              0.6637\n",
       "multiplication_number - multiplication_alternatingcaps == 0   30.0912\n",
       "multiplication_word - multiplication_alternatingcaps == 0     27.6453\n",
       "multiplication_word - multiplication_number == 0              -2.4458\n",
       "                                                             Std. Error z value\n",
       "multiplication_alternatingcaps - multiplication_allcaps == 0   110.3420  -0.245\n",
       "multiplication_number - multiplication_allcaps == 0              0.6901   4.506\n",
       "multiplication_word - multiplication_allcaps == 0                0.5905   1.124\n",
       "multiplication_number - multiplication_alternatingcaps == 0    110.3409   0.273\n",
       "multiplication_word - multiplication_alternatingcaps == 0      110.3420   0.251\n",
       "multiplication_word - multiplication_number == 0                 0.5874  -4.164\n",
       "                                                             Pr(>|z|)    \n",
       "multiplication_alternatingcaps - multiplication_allcaps == 0    0.994    \n",
       "multiplication_number - multiplication_allcaps == 0            <0.001 ***\n",
       "multiplication_word - multiplication_allcaps == 0               0.629    \n",
       "multiplication_number - multiplication_alternatingcaps == 0     0.991    \n",
       "multiplication_word - multiplication_alternatingcaps == 0       0.993    \n",
       "multiplication_word - multiplication_number == 0               <0.001 ***\n",
       "---\n",
       "Signif. codes:  0 ‘***’ 0.001 ‘**’ 0.01 ‘*’ 0.05 ‘.’ 0.1 ‘ ’ 1\n",
       "(Adjusted p values reported -- single-step method)\n"
      ]
     },
     "metadata": {},
     "output_type": "display_data"
    }
   ],
   "source": [
    "summary(gpt35_mult_multcomp)"
   ]
  },
  {
   "cell_type": "code",
   "execution_count": null,
   "id": "53747ea5",
   "metadata": {},
   "outputs": [],
   "source": []
  },
  {
   "cell_type": "code",
   "execution_count": null,
   "id": "42847bce",
   "metadata": {},
   "outputs": [],
   "source": []
  },
  {
   "cell_type": "code",
   "execution_count": null,
   "id": "ddf76997",
   "metadata": {},
   "outputs": [],
   "source": []
  },
  {
   "cell_type": "markdown",
   "id": "1f6de78a",
   "metadata": {},
   "source": [
    "# Linear function"
   ]
  },
  {
   "cell_type": "code",
   "execution_count": 461,
   "id": "cda16024",
   "metadata": {},
   "outputs": [],
   "source": [
    "# Read in data\n",
    "linfwd_gpt4_df <- read.table(file = 'table_conversion_fwd_gpt-4.tsv', sep = '\\t', header = TRUE)\n",
    "linfwd_gpt35_df <- read.table(file = 'table_conversion_fwd_gpt-3.5-turbo.tsv', sep = '\\t', header = TRUE)\n",
    "\n",
    "linrev_gpt4_df <- read.table(file = 'table_conversion_rev_gpt-4.tsv', sep = '\\t', header = TRUE)\n",
    "linrev_gpt35_df <- read.table(file = 'table_conversion_rev_gpt-3.5-turbo.tsv', sep = '\\t', header = TRUE)"
   ]
  },
  {
   "cell_type": "code",
   "execution_count": 462,
   "id": "1e04097e",
   "metadata": {},
   "outputs": [
    {
     "data": {
      "text/html": [
       "<table class=\"dataframe\">\n",
       "<caption>A data.frame: 6 × 5</caption>\n",
       "<thead>\n",
       "\t<tr><th></th><th scope=col>index</th><th scope=col>task</th><th scope=col>input</th><th scope=col>output</th><th scope=col>correct</th></tr>\n",
       "\t<tr><th></th><th scope=col>&lt;int&gt;</th><th scope=col>&lt;chr&gt;</th><th scope=col>&lt;int&gt;</th><th scope=col>&lt;dbl&gt;</th><th scope=col>&lt;int&gt;</th></tr>\n",
       "</thead>\n",
       "<tbody>\n",
       "\t<tr><th scope=row>1</th><td>0</td><td>conversion_actual</td><td>328</td><td> 622.4</td><td>1</td></tr>\n",
       "\t<tr><th scope=row>2</th><td>1</td><td>conversion_actual</td><td>941</td><td>1725.8</td><td>0</td></tr>\n",
       "\t<tr><th scope=row>3</th><td>2</td><td>conversion_actual</td><td>476</td><td> 888.8</td><td>0</td></tr>\n",
       "\t<tr><th scope=row>4</th><td>3</td><td>conversion_actual</td><td>230</td><td> 446.0</td><td>1</td></tr>\n",
       "\t<tr><th scope=row>5</th><td>4</td><td>conversion_actual</td><td>577</td><td>1070.6</td><td>0</td></tr>\n",
       "\t<tr><th scope=row>6</th><td>5</td><td>conversion_actual</td><td> 64</td><td> 147.2</td><td>1</td></tr>\n",
       "</tbody>\n",
       "</table>\n"
      ],
      "text/latex": [
       "A data.frame: 6 × 5\n",
       "\\begin{tabular}{r|lllll}\n",
       "  & index & task & input & output & correct\\\\\n",
       "  & <int> & <chr> & <int> & <dbl> & <int>\\\\\n",
       "\\hline\n",
       "\t1 & 0 & conversion\\_actual & 328 &  622.4 & 1\\\\\n",
       "\t2 & 1 & conversion\\_actual & 941 & 1725.8 & 0\\\\\n",
       "\t3 & 2 & conversion\\_actual & 476 &  888.8 & 0\\\\\n",
       "\t4 & 3 & conversion\\_actual & 230 &  446.0 & 1\\\\\n",
       "\t5 & 4 & conversion\\_actual & 577 & 1070.6 & 0\\\\\n",
       "\t6 & 5 & conversion\\_actual &  64 &  147.2 & 1\\\\\n",
       "\\end{tabular}\n"
      ],
      "text/markdown": [
       "\n",
       "A data.frame: 6 × 5\n",
       "\n",
       "| <!--/--> | index &lt;int&gt; | task &lt;chr&gt; | input &lt;int&gt; | output &lt;dbl&gt; | correct &lt;int&gt; |\n",
       "|---|---|---|---|---|---|\n",
       "| 1 | 0 | conversion_actual | 328 |  622.4 | 1 |\n",
       "| 2 | 1 | conversion_actual | 941 | 1725.8 | 0 |\n",
       "| 3 | 2 | conversion_actual | 476 |  888.8 | 0 |\n",
       "| 4 | 3 | conversion_actual | 230 |  446.0 | 1 |\n",
       "| 5 | 4 | conversion_actual | 577 | 1070.6 | 0 |\n",
       "| 6 | 5 | conversion_actual |  64 |  147.2 | 1 |\n",
       "\n"
      ],
      "text/plain": [
       "  index task              input output correct\n",
       "1 0     conversion_actual 328    622.4 1      \n",
       "2 1     conversion_actual 941   1725.8 0      \n",
       "3 2     conversion_actual 476    888.8 0      \n",
       "4 3     conversion_actual 230    446.0 1      \n",
       "5 4     conversion_actual 577   1070.6 0      \n",
       "6 5     conversion_actual  64    147.2 1      "
      ]
     },
     "metadata": {},
     "output_type": "display_data"
    }
   ],
   "source": [
    "head(linfwd_gpt4_df)"
   ]
  },
  {
   "cell_type": "code",
   "execution_count": 463,
   "id": "cc921904",
   "metadata": {},
   "outputs": [],
   "source": [
    "scale_lin_df <- function(df) {\n",
    "    new_df <- data.frame(scale(df[3:5]))\n",
    "    new_df$index <- as.factor(df$index)\n",
    "    new_df$correct <- df$correct\n",
    "    new_df$task <- factor(df$task)\n",
    "    \n",
    "    return(new_df)\n",
    "}"
   ]
  },
  {
   "cell_type": "code",
   "execution_count": 464,
   "id": "eadbd445",
   "metadata": {},
   "outputs": [],
   "source": [
    "scaled_linfwd_gpt4_df <- scale_lin_df(linfwd_gpt4_df)\n",
    "scaled_linfwd_gpt35_df <- scale_lin_df(linfwd_gpt35_df)\n",
    "scaled_linrev_gpt4_df <- scale_lin_df(linrev_gpt4_df)\n",
    "scaled_linrev_gpt35_df <- scale_lin_df(linrev_gpt35_df)"
   ]
  },
  {
   "cell_type": "code",
   "execution_count": 465,
   "id": "894d6644",
   "metadata": {},
   "outputs": [],
   "source": [
    "linfwd_gpt4_model <- bayesglm(correct ~ task + input + output, \n",
    "               data=scaled_linfwd_gpt4_df, family=binomial)\n",
    "linfwd_gpt35_model <- bayesglm(correct ~ task + input + output, \n",
    "               data=scaled_linfwd_gpt35_df, family=binomial)\n",
    "linrev_gpt4_model <- bayesglm(correct ~ task + input + output, \n",
    "               data=scaled_linrev_gpt4_df, family=binomial)\n",
    "linrev_gpt35_model <- bayesglm(correct ~ task + input + output, \n",
    "               data=scaled_linrev_gpt35_df, family=binomial)"
   ]
  },
  {
   "cell_type": "code",
   "execution_count": 466,
   "id": "f2f13135",
   "metadata": {},
   "outputs": [
    {
     "data": {
      "text/plain": [
       "\n",
       "Call:\n",
       "bayesglm(formula = correct ~ task + input + output, family = binomial, \n",
       "    data = scaled_linfwd_gpt4_df)\n",
       "\n",
       "Deviance Residuals: \n",
       "     Min        1Q    Median        3Q       Max  \n",
       "-1.42945  -0.37014  -0.08700  -0.02867   2.35864  \n",
       "\n",
       "Coefficients:\n",
       "                    Estimate Std. Error z value Pr(>|z|)    \n",
       "(Intercept)          -0.8712     0.2998  -2.906 0.003657 ** \n",
       "taskconversion_fake  -5.5359     1.6714  -3.312 0.000926 ***\n",
       "input                -0.6289     0.8501  -0.740 0.459422    \n",
       "output               -0.5865     0.7817  -0.750 0.453112    \n",
       "---\n",
       "Signif. codes:  0 ‘***’ 0.001 ‘**’ 0.01 ‘*’ 0.05 ‘.’ 0.1 ‘ ’ 1\n",
       "\n",
       "(Dispersion parameter for binomial family taken to be 1)\n",
       "\n",
       "    Null deviance: 179.15  on 199  degrees of freedom\n",
       "Residual deviance: 101.14  on 196  degrees of freedom\n",
       "AIC: 109.14\n",
       "\n",
       "Number of Fisher Scoring iterations: 18\n"
      ]
     },
     "metadata": {},
     "output_type": "display_data"
    }
   ],
   "source": [
    "summary(linfwd_gpt4_model)"
   ]
  },
  {
   "cell_type": "code",
   "execution_count": 467,
   "id": "ca675b91",
   "metadata": {},
   "outputs": [
    {
     "data": {
      "text/plain": [
       "\n",
       "Call:\n",
       "bayesglm(formula = correct ~ task + input + output, family = binomial, \n",
       "    data = scaled_linfwd_gpt35_df)\n",
       "\n",
       "Deviance Residuals: \n",
       "     Min        1Q    Median        3Q       Max  \n",
       "-1.90680  -0.26623  -0.04941  -0.01212   2.09370  \n",
       "\n",
       "Coefficients:\n",
       "                    Estimate Std. Error z value Pr(>|z|)    \n",
       "(Intercept)          -0.1773     0.3132  -0.566 0.571370    \n",
       "taskconversion_fake  -6.9130     1.8222  -3.794 0.000148 ***\n",
       "input                -0.8923     0.9433  -0.946 0.344168    \n",
       "output               -0.8935     0.8679  -1.029 0.303249    \n",
       "---\n",
       "Signif. codes:  0 ‘***’ 0.001 ‘**’ 0.01 ‘*’ 0.05 ‘.’ 0.1 ‘ ’ 1\n",
       "\n",
       "(Dispersion parameter for binomial family taken to be 1)\n",
       "\n",
       "    Null deviance: 215.71  on 199  degrees of freedom\n",
       "Residual deviance:  87.78  on 196  degrees of freedom\n",
       "AIC: 95.78\n",
       "\n",
       "Number of Fisher Scoring iterations: 16\n"
      ]
     },
     "metadata": {},
     "output_type": "display_data"
    }
   ],
   "source": [
    "summary(linfwd_gpt35_model)"
   ]
  },
  {
   "cell_type": "code",
   "execution_count": 468,
   "id": "97aac9b9",
   "metadata": {},
   "outputs": [
    {
     "data": {
      "text/plain": [
       "\n",
       "Call:\n",
       "bayesglm(formula = correct ~ task + input + output, family = binomial, \n",
       "    data = scaled_linrev_gpt4_df)\n",
       "\n",
       "Deviance Residuals: \n",
       "     Min        1Q    Median        3Q       Max  \n",
       "-1.31706  -0.60593  -0.08244  -0.03245   2.04165  \n",
       "\n",
       "Coefficients:\n",
       "                           Estimate Std. Error z value Pr(>|z|)   \n",
       "(Intercept)                 -0.5760     0.2755  -2.091  0.03656 * \n",
       "taskconversion_fakeinverse  -5.4503     1.6646  -3.274  0.00106 **\n",
       "input                       -0.4500     0.8331  -0.540  0.58908   \n",
       "output                      -0.4228     0.7169  -0.590  0.55535   \n",
       "---\n",
       "Signif. codes:  0 ‘***’ 0.001 ‘**’ 0.01 ‘*’ 0.05 ‘.’ 0.1 ‘ ’ 1\n",
       "\n",
       "(Dispersion parameter for binomial family taken to be 1)\n",
       "\n",
       "    Null deviance: 200.16  on 199  degrees of freedom\n",
       "Residual deviance: 121.38  on 196  degrees of freedom\n",
       "AIC: 129.38\n",
       "\n",
       "Number of Fisher Scoring iterations: 18\n"
      ]
     },
     "metadata": {},
     "output_type": "display_data"
    }
   ],
   "source": [
    "summary(linrev_gpt4_model)"
   ]
  },
  {
   "cell_type": "code",
   "execution_count": 469,
   "id": "2b84ec0d",
   "metadata": {},
   "outputs": [
    {
     "data": {
      "text/plain": [
       "\n",
       "Call:\n",
       "bayesglm(formula = correct ~ task + input + output, family = binomial, \n",
       "    data = scaled_linrev_gpt35_df)\n",
       "\n",
       "Deviance Residuals: \n",
       "    Min       1Q   Median       3Q      Max  \n",
       "-1.9265  -0.3663  -0.1901   0.6846   3.0292  \n",
       "\n",
       "Coefficients:\n",
       "                           Estimate Std. Error z value Pr(>|z|)    \n",
       "(Intercept)                  0.3585     0.2662   1.347    0.178    \n",
       "taskconversion_fakeinverse  -3.9916     0.6329  -6.307 2.84e-10 ***\n",
       "input                       -0.4516     0.7993  -0.565    0.572    \n",
       "output                      -0.4623     0.7021  -0.658    0.510    \n",
       "---\n",
       "Signif. codes:  0 ‘***’ 0.001 ‘**’ 0.01 ‘*’ 0.05 ‘.’ 0.1 ‘ ’ 1\n",
       "\n",
       "(Dispersion parameter for binomial family taken to be 1)\n",
       "\n",
       "    Null deviance: 249.22  on 199  degrees of freedom\n",
       "Residual deviance: 143.46  on 196  degrees of freedom\n",
       "AIC: 151.46\n",
       "\n",
       "Number of Fisher Scoring iterations: 10\n"
      ]
     },
     "metadata": {},
     "output_type": "display_data"
    }
   ],
   "source": [
    "summary(linrev_gpt35_model)"
   ]
  },
  {
   "cell_type": "code",
   "execution_count": 470,
   "id": "d750b186",
   "metadata": {},
   "outputs": [
    {
     "data": {
      "text/html": [
       "<style>\n",
       ".dl-inline {width: auto; margin:0; padding: 0}\n",
       ".dl-inline>dt, .dl-inline>dd {float: none; width: auto; display: inline-block}\n",
       ".dl-inline>dt::after {content: \":\\0020\"; padding-right: .5ex}\n",
       ".dl-inline>dt:not(:first-of-type) {padding-left: .5ex}\n",
       "</style><dl class=dl-inline><dt>task</dt><dd>1.01269077390294</dd><dt>input</dt><dd>8.5914872937924</dd><dt>output</dt><dd>8.6286003527956</dd></dl>\n"
      ],
      "text/latex": [
       "\\begin{description*}\n",
       "\\item[task] 1.01269077390294\n",
       "\\item[input] 8.5914872937924\n",
       "\\item[output] 8.6286003527956\n",
       "\\end{description*}\n"
      ],
      "text/markdown": [
       "task\n",
       ":   1.01269077390294input\n",
       ":   8.5914872937924output\n",
       ":   8.6286003527956\n",
       "\n"
      ],
      "text/plain": [
       "    task    input   output \n",
       "1.012691 8.591487 8.628600 "
      ]
     },
     "metadata": {},
     "output_type": "display_data"
    }
   ],
   "source": [
    "vif(linfwd_gpt4_model)"
   ]
  },
  {
   "cell_type": "code",
   "execution_count": 471,
   "id": "776149ac",
   "metadata": {},
   "outputs": [
    {
     "data": {
      "text/html": [
       "<style>\n",
       ".dl-inline {width: auto; margin:0; padding: 0}\n",
       ".dl-inline>dt, .dl-inline>dd {float: none; width: auto; display: inline-block}\n",
       ".dl-inline>dt::after {content: \":\\0020\"; padding-right: .5ex}\n",
       ".dl-inline>dt:not(:first-of-type) {padding-left: .5ex}\n",
       "</style><dl class=dl-inline><dt>task</dt><dd>1.02865263564659</dd><dt>input</dt><dd>7.6104895427455</dd><dt>output</dt><dd>7.66769812735027</dd></dl>\n"
      ],
      "text/latex": [
       "\\begin{description*}\n",
       "\\item[task] 1.02865263564659\n",
       "\\item[input] 7.6104895427455\n",
       "\\item[output] 7.66769812735027\n",
       "\\end{description*}\n"
      ],
      "text/markdown": [
       "task\n",
       ":   1.02865263564659input\n",
       ":   7.6104895427455output\n",
       ":   7.66769812735027\n",
       "\n"
      ],
      "text/plain": [
       "    task    input   output \n",
       "1.028653 7.610490 7.667698 "
      ]
     },
     "metadata": {},
     "output_type": "display_data"
    }
   ],
   "source": [
    "vif(linfwd_gpt35_model)"
   ]
  },
  {
   "cell_type": "code",
   "execution_count": 472,
   "id": "8c36f592",
   "metadata": {},
   "outputs": [
    {
     "data": {
      "text/html": [
       "<style>\n",
       ".dl-inline {width: auto; margin:0; padding: 0}\n",
       ".dl-inline>dt, .dl-inline>dd {float: none; width: auto; display: inline-block}\n",
       ".dl-inline>dt::after {content: \":\\0020\"; padding-right: .5ex}\n",
       ".dl-inline>dt:not(:first-of-type) {padding-left: .5ex}\n",
       "</style><dl class=dl-inline><dt>task</dt><dd>1.01021305865524</dd><dt>input</dt><dd>9.24198245475822</dd><dt>output</dt><dd>9.26646301669381</dd></dl>\n"
      ],
      "text/latex": [
       "\\begin{description*}\n",
       "\\item[task] 1.01021305865524\n",
       "\\item[input] 9.24198245475822\n",
       "\\item[output] 9.26646301669381\n",
       "\\end{description*}\n"
      ],
      "text/markdown": [
       "task\n",
       ":   1.01021305865524input\n",
       ":   9.24198245475822output\n",
       ":   9.26646301669381\n",
       "\n"
      ],
      "text/plain": [
       "    task    input   output \n",
       "1.010213 9.241982 9.266463 "
      ]
     },
     "metadata": {},
     "output_type": "display_data"
    }
   ],
   "source": [
    "vif(linrev_gpt4_model)"
   ]
  },
  {
   "cell_type": "code",
   "execution_count": 473,
   "id": "77eb4b3c",
   "metadata": {},
   "outputs": [
    {
     "data": {
      "text/html": [
       "<style>\n",
       ".dl-inline {width: auto; margin:0; padding: 0}\n",
       ".dl-inline>dt, .dl-inline>dd {float: none; width: auto; display: inline-block}\n",
       ".dl-inline>dt::after {content: \":\\0020\"; padding-right: .5ex}\n",
       ".dl-inline>dt:not(:first-of-type) {padding-left: .5ex}\n",
       "</style><dl class=dl-inline><dt>task</dt><dd>1.14295189467226</dd><dt>input</dt><dd>10.7537086786248</dd><dt>output</dt><dd>11.2020815266608</dd></dl>\n"
      ],
      "text/latex": [
       "\\begin{description*}\n",
       "\\item[task] 1.14295189467226\n",
       "\\item[input] 10.7537086786248\n",
       "\\item[output] 11.2020815266608\n",
       "\\end{description*}\n"
      ],
      "text/markdown": [
       "task\n",
       ":   1.14295189467226input\n",
       ":   10.7537086786248output\n",
       ":   11.2020815266608\n",
       "\n"
      ],
      "text/plain": [
       "     task     input    output \n",
       " 1.142952 10.753709 11.202082 "
      ]
     },
     "metadata": {},
     "output_type": "display_data"
    }
   ],
   "source": [
    "vif(linrev_gpt35_model)"
   ]
  },
  {
   "cell_type": "code",
   "execution_count": null,
   "id": "40a254d9",
   "metadata": {},
   "outputs": [],
   "source": []
  },
  {
   "cell_type": "markdown",
   "id": "f895145a",
   "metadata": {},
   "source": [
    "### Comparing methods"
   ]
  },
  {
   "cell_type": "code",
   "execution_count": 553,
   "id": "0a992cfb",
   "metadata": {},
   "outputs": [],
   "source": [
    "linmethod_gpt4_df <- read.table(file = 'table_conversion_method_gpt-4.tsv', sep = '\\t', header = TRUE)\n",
    "linmethod_gpt35_df <- read.table(file = 'table_conversion_method_gpt-3.5-turbo.tsv', sep = '\\t', header = TRUE)"
   ]
  },
  {
   "cell_type": "code",
   "execution_count": 554,
   "id": "59d0372c",
   "metadata": {},
   "outputs": [],
   "source": [
    "scaled_linmethod_gpt4_df <- scale_lin_df(linmethod_gpt4_df)\n",
    "scaled_linmethod_gpt35_df <- scale_lin_df(linmethod_gpt35_df)"
   ]
  },
  {
   "cell_type": "code",
   "execution_count": 555,
   "id": "641356e8",
   "metadata": {},
   "outputs": [],
   "source": [
    "contrasts(scaled_linmethod_gpt4_df$task) <- contr.sum(3)\n",
    "contrasts(scaled_linmethod_gpt35_df$task) <- contr.sum(3)"
   ]
  },
  {
   "cell_type": "code",
   "execution_count": 556,
   "id": "4521fab8",
   "metadata": {},
   "outputs": [],
   "source": [
    "linmethod_gpt4_model <- glmer(correct ~ task + (1|index), \n",
    "               data=scaled_linmethod_gpt4_df, family=binomial)\n",
    "linmethod_gpt35_model <- glmer(correct ~ task + (1|index), \n",
    "               data=scaled_linmethod_gpt35_df , family=binomial)"
   ]
  },
  {
   "cell_type": "code",
   "execution_count": 557,
   "id": "c09a60cf",
   "metadata": {},
   "outputs": [],
   "source": [
    "linmethod_gpt4_null_model <- glmer(correct ~ (1|index), \n",
    "               data=scaled_linmethod_gpt4_df, family=binomial)\n",
    "linmethod_gpt35_null_model <- glmer(correct ~ (1|index), \n",
    "               data=scaled_linmethod_gpt35_df , family=binomial)"
   ]
  },
  {
   "cell_type": "code",
   "execution_count": 558,
   "id": "31c3f49d",
   "metadata": {},
   "outputs": [
    {
     "data": {
      "text/plain": [
       "Generalized linear mixed model fit by maximum likelihood (Laplace\n",
       "  Approximation) [glmerMod]\n",
       " Family: binomial  ( logit )\n",
       "Formula: correct ~ task + (1 | index)\n",
       "   Data: scaled_linmethod_gpt4_df\n",
       "\n",
       "     AIC      BIC   logLik deviance df.resid \n",
       "   312.0    326.9   -152.0    304.0      296 \n",
       "\n",
       "Scaled residuals: \n",
       "     Min       1Q   Median       3Q      Max \n",
       "-2.11776 -0.21885  0.04133  0.47220  2.12911 \n",
       "\n",
       "Random effects:\n",
       " Groups Name        Variance Std.Dev.\n",
       " index  (Intercept) 12.37    3.517   \n",
       "Number of obs: 300, groups:  index, 100\n",
       "\n",
       "Fixed effects:\n",
       "            Estimate Std. Error z value Pr(>|z|)    \n",
       "(Intercept)   0.8832     0.4568   1.933   0.0532 .  \n",
       "task1        -2.7261     0.5910  -4.612 3.98e-06 ***\n",
       "task2         2.4401     0.5332   4.576 4.74e-06 ***\n",
       "---\n",
       "Signif. codes:  0 ‘***’ 0.001 ‘**’ 0.01 ‘*’ 0.05 ‘.’ 0.1 ‘ ’ 1\n",
       "\n",
       "Correlation of Fixed Effects:\n",
       "      (Intr) task1 \n",
       "task1 -0.353       \n",
       "task2  0.341 -0.867"
      ]
     },
     "metadata": {},
     "output_type": "display_data"
    }
   ],
   "source": [
    "summary(linmethod_gpt4_model)"
   ]
  },
  {
   "cell_type": "code",
   "execution_count": 559,
   "id": "36b38e62",
   "metadata": {},
   "outputs": [
    {
     "data": {
      "text/plain": [
       "Generalized linear mixed model fit by maximum likelihood (Laplace\n",
       "  Approximation) [glmerMod]\n",
       " Family: binomial  ( logit )\n",
       "Formula: correct ~ task + (1 | index)\n",
       "   Data: scaled_linmethod_gpt35_df\n",
       "\n",
       "     AIC      BIC   logLik deviance df.resid \n",
       "   323.5    338.3   -157.7    315.5      296 \n",
       "\n",
       "Scaled residuals: \n",
       "    Min      1Q  Median      3Q     Max \n",
       "-2.1779 -0.3871  0.2243  0.4592  2.5832 \n",
       "\n",
       "Random effects:\n",
       " Groups Name        Variance Std.Dev.\n",
       " index  (Intercept) 5.182    2.276   \n",
       "Number of obs: 300, groups:  index, 100\n",
       "\n",
       "Fixed effects:\n",
       "            Estimate Std. Error z value Pr(>|z|)    \n",
       "(Intercept)   1.3673     0.3554   3.847  0.00012 ***\n",
       "task1        -1.5999     0.3003  -5.328 9.91e-08 ***\n",
       "task2         1.8548     0.3486   5.321 1.03e-07 ***\n",
       "---\n",
       "Signif. codes:  0 ‘***’ 0.001 ‘**’ 0.01 ‘*’ 0.05 ‘.’ 0.1 ‘ ’ 1\n",
       "\n",
       "Correlation of Fixed Effects:\n",
       "      (Intr) task1 \n",
       "task1 -0.381       \n",
       "task2  0.412 -0.734"
      ]
     },
     "metadata": {},
     "output_type": "display_data"
    }
   ],
   "source": [
    "summary(linmethod_gpt35_model)"
   ]
  },
  {
   "cell_type": "code",
   "execution_count": 560,
   "id": "b1e4969d",
   "metadata": {},
   "outputs": [
    {
     "data": {
      "text/html": [
       "<table class=\"dataframe\">\n",
       "<caption>A anova: 2 × 8</caption>\n",
       "<thead>\n",
       "\t<tr><th></th><th scope=col>npar</th><th scope=col>AIC</th><th scope=col>BIC</th><th scope=col>logLik</th><th scope=col>deviance</th><th scope=col>Chisq</th><th scope=col>Df</th><th scope=col>Pr(&gt;Chisq)</th></tr>\n",
       "\t<tr><th></th><th scope=col>&lt;dbl&gt;</th><th scope=col>&lt;dbl&gt;</th><th scope=col>&lt;dbl&gt;</th><th scope=col>&lt;dbl&gt;</th><th scope=col>&lt;dbl&gt;</th><th scope=col>&lt;dbl&gt;</th><th scope=col>&lt;dbl&gt;</th><th scope=col>&lt;dbl&gt;</th></tr>\n",
       "</thead>\n",
       "<tbody>\n",
       "\t<tr><th scope=row>linmethod_gpt4_null_model</th><td>2</td><td>389.4639</td><td>396.8714</td><td>-192.7319</td><td>385.4639</td><td>      NA</td><td>NA</td><td>          NA</td></tr>\n",
       "\t<tr><th scope=row>linmethod_gpt4_model</th><td>4</td><td>312.0415</td><td>326.8567</td><td>-152.0208</td><td>304.0415</td><td>81.42231</td><td> 2</td><td>2.086268e-18</td></tr>\n",
       "</tbody>\n",
       "</table>\n"
      ],
      "text/latex": [
       "A anova: 2 × 8\n",
       "\\begin{tabular}{r|llllllll}\n",
       "  & npar & AIC & BIC & logLik & deviance & Chisq & Df & Pr(>Chisq)\\\\\n",
       "  & <dbl> & <dbl> & <dbl> & <dbl> & <dbl> & <dbl> & <dbl> & <dbl>\\\\\n",
       "\\hline\n",
       "\tlinmethod\\_gpt4\\_null\\_model & 2 & 389.4639 & 396.8714 & -192.7319 & 385.4639 &       NA & NA &           NA\\\\\n",
       "\tlinmethod\\_gpt4\\_model & 4 & 312.0415 & 326.8567 & -152.0208 & 304.0415 & 81.42231 &  2 & 2.086268e-18\\\\\n",
       "\\end{tabular}\n"
      ],
      "text/markdown": [
       "\n",
       "A anova: 2 × 8\n",
       "\n",
       "| <!--/--> | npar &lt;dbl&gt; | AIC &lt;dbl&gt; | BIC &lt;dbl&gt; | logLik &lt;dbl&gt; | deviance &lt;dbl&gt; | Chisq &lt;dbl&gt; | Df &lt;dbl&gt; | Pr(&gt;Chisq) &lt;dbl&gt; |\n",
       "|---|---|---|---|---|---|---|---|---|\n",
       "| linmethod_gpt4_null_model | 2 | 389.4639 | 396.8714 | -192.7319 | 385.4639 |       NA | NA |           NA |\n",
       "| linmethod_gpt4_model | 4 | 312.0415 | 326.8567 | -152.0208 | 304.0415 | 81.42231 |  2 | 2.086268e-18 |\n",
       "\n"
      ],
      "text/plain": [
       "                          npar AIC      BIC      logLik    deviance Chisq    Df\n",
       "linmethod_gpt4_null_model 2    389.4639 396.8714 -192.7319 385.4639       NA NA\n",
       "linmethod_gpt4_model      4    312.0415 326.8567 -152.0208 304.0415 81.42231  2\n",
       "                          Pr(>Chisq)  \n",
       "linmethod_gpt4_null_model           NA\n",
       "linmethod_gpt4_model      2.086268e-18"
      ]
     },
     "metadata": {},
     "output_type": "display_data"
    }
   ],
   "source": [
    "anova(linmethod_gpt4_model,linmethod_gpt4_null_model,test=\"Chisq\")"
   ]
  },
  {
   "cell_type": "code",
   "execution_count": 561,
   "id": "ab721f1a",
   "metadata": {},
   "outputs": [
    {
     "data": {
      "text/html": [
       "<table class=\"dataframe\">\n",
       "<caption>A anova: 2 × 8</caption>\n",
       "<thead>\n",
       "\t<tr><th></th><th scope=col>npar</th><th scope=col>AIC</th><th scope=col>BIC</th><th scope=col>logLik</th><th scope=col>deviance</th><th scope=col>Chisq</th><th scope=col>Df</th><th scope=col>Pr(&gt;Chisq)</th></tr>\n",
       "\t<tr><th></th><th scope=col>&lt;dbl&gt;</th><th scope=col>&lt;dbl&gt;</th><th scope=col>&lt;dbl&gt;</th><th scope=col>&lt;dbl&gt;</th><th scope=col>&lt;dbl&gt;</th><th scope=col>&lt;dbl&gt;</th><th scope=col>&lt;dbl&gt;</th><th scope=col>&lt;dbl&gt;</th></tr>\n",
       "</thead>\n",
       "<tbody>\n",
       "\t<tr><th scope=row>linmethod_gpt35_null_model</th><td>2</td><td>375.9768</td><td>383.3843</td><td>-185.9884</td><td>371.9768</td><td>      NA</td><td>NA</td><td>          NA</td></tr>\n",
       "\t<tr><th scope=row>linmethod_gpt35_model</th><td>4</td><td>323.4639</td><td>338.2790</td><td>-157.7319</td><td>315.4639</td><td>56.51286</td><td> 2</td><td>5.350427e-13</td></tr>\n",
       "</tbody>\n",
       "</table>\n"
      ],
      "text/latex": [
       "A anova: 2 × 8\n",
       "\\begin{tabular}{r|llllllll}\n",
       "  & npar & AIC & BIC & logLik & deviance & Chisq & Df & Pr(>Chisq)\\\\\n",
       "  & <dbl> & <dbl> & <dbl> & <dbl> & <dbl> & <dbl> & <dbl> & <dbl>\\\\\n",
       "\\hline\n",
       "\tlinmethod\\_gpt35\\_null\\_model & 2 & 375.9768 & 383.3843 & -185.9884 & 371.9768 &       NA & NA &           NA\\\\\n",
       "\tlinmethod\\_gpt35\\_model & 4 & 323.4639 & 338.2790 & -157.7319 & 315.4639 & 56.51286 &  2 & 5.350427e-13\\\\\n",
       "\\end{tabular}\n"
      ],
      "text/markdown": [
       "\n",
       "A anova: 2 × 8\n",
       "\n",
       "| <!--/--> | npar &lt;dbl&gt; | AIC &lt;dbl&gt; | BIC &lt;dbl&gt; | logLik &lt;dbl&gt; | deviance &lt;dbl&gt; | Chisq &lt;dbl&gt; | Df &lt;dbl&gt; | Pr(&gt;Chisq) &lt;dbl&gt; |\n",
       "|---|---|---|---|---|---|---|---|---|\n",
       "| linmethod_gpt35_null_model | 2 | 375.9768 | 383.3843 | -185.9884 | 371.9768 |       NA | NA |           NA |\n",
       "| linmethod_gpt35_model | 4 | 323.4639 | 338.2790 | -157.7319 | 315.4639 | 56.51286 |  2 | 5.350427e-13 |\n",
       "\n"
      ],
      "text/plain": [
       "                           npar AIC      BIC      logLik    deviance Chisq   \n",
       "linmethod_gpt35_null_model 2    375.9768 383.3843 -185.9884 371.9768       NA\n",
       "linmethod_gpt35_model      4    323.4639 338.2790 -157.7319 315.4639 56.51286\n",
       "                           Df Pr(>Chisq)  \n",
       "linmethod_gpt35_null_model NA           NA\n",
       "linmethod_gpt35_model       2 5.350427e-13"
      ]
     },
     "metadata": {},
     "output_type": "display_data"
    }
   ],
   "source": [
    "anova(linmethod_gpt35_model,linmethod_gpt35_null_model,test=\"Chisq\")"
   ]
  },
  {
   "cell_type": "code",
   "execution_count": 562,
   "id": "c84ee1ef",
   "metadata": {},
   "outputs": [],
   "source": [
    "gpt4_lin_multcomp <- glht(linmethod_gpt4_model, linfct=mcp(task=\"Tukey\"))\n",
    "gpt35_lin_multcomp <- glht(linmethod_gpt35_model, linfct=mcp(task=\"Tukey\"))\n"
   ]
  },
  {
   "cell_type": "code",
   "execution_count": 563,
   "id": "ac2a9cf8",
   "metadata": {},
   "outputs": [
    {
     "data": {
      "text/plain": [
       "\n",
       "\t Simultaneous Tests for General Linear Hypotheses\n",
       "\n",
       "Multiple Comparisons of Means: Tukey Contrasts\n",
       "\n",
       "\n",
       "Fit: glmer(formula = correct ~ task + (1 | index), data = scaled_linmethod_gpt4_df, \n",
       "    family = binomial)\n",
       "\n",
       "Linear Hypotheses:\n",
       "                                                              Estimate\n",
       "conversion_actualprimed - conversion_actual == 0                5.1662\n",
       "conversion_actualprimedcontrol - conversion_actual == 0         3.0121\n",
       "conversion_actualprimedcontrol - conversion_actualprimed == 0  -2.1540\n",
       "                                                              Std. Error\n",
       "conversion_actualprimed - conversion_actual == 0                  1.0864\n",
       "conversion_actualprimedcontrol - conversion_actual == 0           0.7671\n",
       "conversion_actualprimedcontrol - conversion_actualprimed == 0     0.6273\n",
       "                                                              z value Pr(>|z|)\n",
       "conversion_actualprimed - conversion_actual == 0                4.755  < 0.001\n",
       "conversion_actualprimedcontrol - conversion_actual == 0         3.927  < 0.001\n",
       "conversion_actualprimedcontrol - conversion_actualprimed == 0  -3.434  0.00158\n",
       "                                                                 \n",
       "conversion_actualprimed - conversion_actual == 0              ***\n",
       "conversion_actualprimedcontrol - conversion_actual == 0       ***\n",
       "conversion_actualprimedcontrol - conversion_actualprimed == 0 ** \n",
       "---\n",
       "Signif. codes:  0 ‘***’ 0.001 ‘**’ 0.01 ‘*’ 0.05 ‘.’ 0.1 ‘ ’ 1\n",
       "(Adjusted p values reported -- single-step method)\n"
      ]
     },
     "metadata": {},
     "output_type": "display_data"
    }
   ],
   "source": [
    "summary(gpt4_lin_multcomp)"
   ]
  },
  {
   "cell_type": "code",
   "execution_count": 564,
   "id": "19ec57ec",
   "metadata": {},
   "outputs": [
    {
     "data": {
      "text/plain": [
       "\n",
       "\t Simultaneous Tests for General Linear Hypotheses\n",
       "\n",
       "Multiple Comparisons of Means: Tukey Contrasts\n",
       "\n",
       "\n",
       "Fit: glmer(formula = correct ~ task + (1 | index), data = scaled_linmethod_gpt35_df, \n",
       "    family = binomial)\n",
       "\n",
       "Linear Hypotheses:\n",
       "                                                              Estimate\n",
       "conversion_actualprimed - conversion_actual == 0                3.4547\n",
       "conversion_actualprimedcontrol - conversion_actual == 0         1.3450\n",
       "conversion_actualprimedcontrol - conversion_actualprimed == 0  -2.1097\n",
       "                                                              Std. Error\n",
       "conversion_actualprimed - conversion_actual == 0                  0.6044\n",
       "conversion_actualprimedcontrol - conversion_actual == 0           0.4183\n",
       "conversion_actualprimedcontrol - conversion_actualprimed == 0     0.5187\n",
       "                                                              z value Pr(>|z|)\n",
       "conversion_actualprimed - conversion_actual == 0                5.716  < 0.001\n",
       "conversion_actualprimedcontrol - conversion_actual == 0         3.216  0.00356\n",
       "conversion_actualprimedcontrol - conversion_actualprimed == 0  -4.068  < 0.001\n",
       "                                                                 \n",
       "conversion_actualprimed - conversion_actual == 0              ***\n",
       "conversion_actualprimedcontrol - conversion_actual == 0       ** \n",
       "conversion_actualprimedcontrol - conversion_actualprimed == 0 ***\n",
       "---\n",
       "Signif. codes:  0 ‘***’ 0.001 ‘**’ 0.01 ‘*’ 0.05 ‘.’ 0.1 ‘ ’ 1\n",
       "(Adjusted p values reported -- single-step method)\n"
      ]
     },
     "metadata": {},
     "output_type": "display_data"
    }
   ],
   "source": [
    "summary(gpt35_lin_multcomp)"
   ]
  },
  {
   "cell_type": "code",
   "execution_count": null,
   "id": "aa6a0ed1",
   "metadata": {},
   "outputs": [],
   "source": []
  },
  {
   "cell_type": "code",
   "execution_count": null,
   "id": "2af11d00",
   "metadata": {},
   "outputs": [],
   "source": []
  },
  {
   "cell_type": "markdown",
   "id": "c69709ba",
   "metadata": {},
   "source": [
    "### Basic test: OOD"
   ]
  },
  {
   "cell_type": "code",
   "execution_count": 493,
   "id": "7577de8b",
   "metadata": {},
   "outputs": [],
   "source": [
    "# Read in data\n",
    "linfwdood_gpt4_df <- read.table(file = 'table_conversion_ood_fwd_gpt-4.tsv', sep = '\\t', header = TRUE)\n",
    "linfwdood_gpt35_df <- read.table(file = 'table_conversion_ood_fwd_gpt-3.5-turbo.tsv', sep = '\\t', header = TRUE)\n",
    "\n",
    "linrevood_gpt4_df <- read.table(file = 'table_conversion_ood_rev_gpt-4.tsv', sep = '\\t', header = TRUE)\n",
    "linrevood_gpt35_df <- read.table(file = 'table_conversion_ood_rev_gpt-3.5-turbo.tsv', sep = '\\t', header = TRUE)"
   ]
  },
  {
   "cell_type": "code",
   "execution_count": 494,
   "id": "14f4b91c",
   "metadata": {},
   "outputs": [],
   "source": [
    "scaled_linfwdood_gpt4_df <- scale_lin_df(linfwdood_gpt4_df)\n",
    "scaled_linfwdood_gpt35_df <- scale_lin_df(linfwdood_gpt35_df)\n",
    "scaled_linrevood_gpt4_df <- scale_lin_df(linrevood_gpt4_df)\n",
    "scaled_linrevood_gpt35_df <- scale_lin_df(linrevood_gpt35_df)"
   ]
  },
  {
   "cell_type": "code",
   "execution_count": 495,
   "id": "21953bd2",
   "metadata": {},
   "outputs": [],
   "source": [
    "linfwdood_gpt4_model <- bayesglm(correct ~ task + input + output, \n",
    "               data=scaled_linfwdood_gpt4_df, family=binomial)\n",
    "linfwdood_gpt35_model <- bayesglm(correct ~ task + input + output, \n",
    "               data=scaled_linfwdood_gpt35_df, family=binomial)\n",
    "linrevood_gpt4_model <- bayesglm(correct ~ task + input + output, \n",
    "               data=scaled_linrevood_gpt4_df, family=binomial)\n",
    "linrevood_gpt35_model <- bayesglm(correct ~ task + input + output, \n",
    "               data=scaled_linrevood_gpt35_df, family=binomial)"
   ]
  },
  {
   "cell_type": "code",
   "execution_count": 496,
   "id": "1a37538e",
   "metadata": {},
   "outputs": [
    {
     "data": {
      "text/plain": [
       "\n",
       "Call:\n",
       "bayesglm(formula = correct ~ task + input + output, family = binomial, \n",
       "    data = scaled_linfwdood_gpt4_df)\n",
       "\n",
       "Deviance Residuals: \n",
       "     Min        1Q    Median        3Q       Max  \n",
       "-1.05592  -0.36821  -0.11506  -0.05064   2.49494  \n",
       "\n",
       "Coefficients:\n",
       "                        Estimate Std. Error z value Pr(>|z|)    \n",
       "(Intercept)              -1.9547     0.5514  -3.545 0.000392 ***\n",
       "taskconversion_ood_fake  -4.2855     1.6816  -2.548 0.010819 *  \n",
       "input                    -0.7789     0.7672  -1.015 0.309970    \n",
       "output                   -0.2698     0.8175  -0.330 0.741382    \n",
       "---\n",
       "Signif. codes:  0 ‘***’ 0.001 ‘**’ 0.01 ‘*’ 0.05 ‘.’ 0.1 ‘ ’ 1\n",
       "\n",
       "(Dispersion parameter for binomial family taken to be 1)\n",
       "\n",
       "    Null deviance: 106.554  on 199  degrees of freedom\n",
       "Residual deviance:  72.877  on 196  degrees of freedom\n",
       "AIC: 80.877\n",
       "\n",
       "Number of Fisher Scoring iterations: 21\n"
      ]
     },
     "metadata": {},
     "output_type": "display_data"
    }
   ],
   "source": [
    "summary(linfwdood_gpt4_model)"
   ]
  },
  {
   "cell_type": "code",
   "execution_count": 497,
   "id": "3ea5edee",
   "metadata": {},
   "outputs": [
    {
     "data": {
      "text/plain": [
       "\n",
       "Call:\n",
       "bayesglm(formula = correct ~ task + input + output, family = binomial, \n",
       "    data = scaled_linfwdood_gpt35_df)\n",
       "\n",
       "Deviance Residuals: \n",
       "     Min        1Q    Median        3Q       Max  \n",
       "-1.45508  -0.33380  -0.19971  -0.06544   2.69346  \n",
       "\n",
       "Coefficients:\n",
       "                        Estimate Std. Error z value Pr(>|z|)   \n",
       "(Intercept)              -1.7558     0.5609  -3.130  0.00175 **\n",
       "taskconversion_ood_fake  -3.4753     1.1415  -3.044  0.00233 **\n",
       "input                    -1.1005     0.7951  -1.384  0.16630   \n",
       "output                   -0.3347     0.8467  -0.395  0.69267   \n",
       "---\n",
       "Signif. codes:  0 ‘***’ 0.001 ‘**’ 0.01 ‘*’ 0.05 ‘.’ 0.1 ‘ ’ 1\n",
       "\n",
       "(Dispersion parameter for binomial family taken to be 1)\n",
       "\n",
       "    Null deviance: 134.373  on 199  degrees of freedom\n",
       "Residual deviance:  85.759  on 196  degrees of freedom\n",
       "AIC: 93.759\n",
       "\n",
       "Number of Fisher Scoring iterations: 15\n"
      ]
     },
     "metadata": {},
     "output_type": "display_data"
    }
   ],
   "source": [
    "summary(linfwdood_gpt35_model)"
   ]
  },
  {
   "cell_type": "code",
   "execution_count": 498,
   "id": "a5668691",
   "metadata": {},
   "outputs": [
    {
     "data": {
      "text/plain": [
       "\n",
       "Call:\n",
       "bayesglm(formula = correct ~ task + input + output, family = binomial, \n",
       "    data = scaled_linrevood_gpt4_df)\n",
       "\n",
       "Deviance Residuals: \n",
       "     Min        1Q    Median        3Q       Max  \n",
       "-0.81547  -0.70844  -0.08794  -0.07734   1.80418  \n",
       "\n",
       "Coefficients:\n",
       "                               Estimate Std. Error z value Pr(>|z|)   \n",
       "(Intercept)                     -1.2428     0.4626  -2.686  0.00722 **\n",
       "taskconversion_ood_fakeinverse  -4.3695     1.7047  -2.563  0.01037 * \n",
       "input                           -0.1377     0.8157  -0.169  0.86596   \n",
       "output                           0.2668     0.6298   0.424  0.67189   \n",
       "---\n",
       "Signif. codes:  0 ‘***’ 0.001 ‘**’ 0.01 ‘*’ 0.05 ‘.’ 0.1 ‘ ’ 1\n",
       "\n",
       "(Dispersion parameter for binomial family taken to be 1)\n",
       "\n",
       "    Null deviance: 146.77  on 199  degrees of freedom\n",
       "Residual deviance: 110.34  on 196  degrees of freedom\n",
       "AIC: 118.34\n",
       "\n",
       "Number of Fisher Scoring iterations: 20\n"
      ]
     },
     "metadata": {},
     "output_type": "display_data"
    }
   ],
   "source": [
    "summary(linrevood_gpt4_model)"
   ]
  },
  {
   "cell_type": "code",
   "execution_count": 499,
   "id": "c49f179e",
   "metadata": {},
   "outputs": [
    {
     "data": {
      "text/plain": [
       "\n",
       "Call:\n",
       "bayesglm(formula = correct ~ task + input + output, family = binomial, \n",
       "    data = scaled_linrevood_gpt35_df)\n",
       "\n",
       "Deviance Residuals: \n",
       "    Min       1Q   Median       3Q      Max  \n",
       "-1.0772  -0.7983  -0.1764  -0.1300   2.9417  \n",
       "\n",
       "Coefficients:\n",
       "                               Estimate Std. Error z value Pr(>|z|)   \n",
       "(Intercept)                    -0.85847    0.44571  -1.926  0.05410 . \n",
       "taskconversion_ood_fakeinverse -3.30489    1.07731  -3.068  0.00216 **\n",
       "input                          -0.33654    0.79461  -0.424  0.67191   \n",
       "output                         -0.03978    0.61685  -0.064  0.94859   \n",
       "---\n",
       "Signif. codes:  0 ‘***’ 0.001 ‘**’ 0.01 ‘*’ 0.05 ‘.’ 0.1 ‘ ’ 1\n",
       "\n",
       "(Dispersion parameter for binomial family taken to be 1)\n",
       "\n",
       "    Null deviance: 185.49  on 199  degrees of freedom\n",
       "Residual deviance: 137.47  on 196  degrees of freedom\n",
       "AIC: 145.47\n",
       "\n",
       "Number of Fisher Scoring iterations: 12\n"
      ]
     },
     "metadata": {},
     "output_type": "display_data"
    }
   ],
   "source": [
    "summary(linrevood_gpt35_model)"
   ]
  },
  {
   "cell_type": "code",
   "execution_count": 500,
   "id": "6a89eb50",
   "metadata": {},
   "outputs": [
    {
     "data": {
      "text/html": [
       "<style>\n",
       ".dl-inline {width: auto; margin:0; padding: 0}\n",
       ".dl-inline>dt, .dl-inline>dd {float: none; width: auto; display: inline-block}\n",
       ".dl-inline>dt::after {content: \":\\0020\"; padding-right: .5ex}\n",
       ".dl-inline>dt:not(:first-of-type) {padding-left: .5ex}\n",
       "</style><dl class=dl-inline><dt>task</dt><dd>1.1759547490149</dd><dt>input</dt><dd>5.37174752418909</dd><dt>output</dt><dd>5.60507108400707</dd></dl>\n"
      ],
      "text/latex": [
       "\\begin{description*}\n",
       "\\item[task] 1.1759547490149\n",
       "\\item[input] 5.37174752418909\n",
       "\\item[output] 5.60507108400707\n",
       "\\end{description*}\n"
      ],
      "text/markdown": [
       "task\n",
       ":   1.1759547490149input\n",
       ":   5.37174752418909output\n",
       ":   5.60507108400707\n",
       "\n"
      ],
      "text/plain": [
       "    task    input   output \n",
       "1.175955 5.371748 5.605071 "
      ]
     },
     "metadata": {},
     "output_type": "display_data"
    }
   ],
   "source": [
    "vif(linfwdood_gpt4_model)"
   ]
  },
  {
   "cell_type": "code",
   "execution_count": 501,
   "id": "bd120f0a",
   "metadata": {},
   "outputs": [
    {
     "data": {
      "text/html": [
       "<style>\n",
       ".dl-inline {width: auto; margin:0; padding: 0}\n",
       ".dl-inline>dt, .dl-inline>dd {float: none; width: auto; display: inline-block}\n",
       ".dl-inline>dt::after {content: \":\\0020\"; padding-right: .5ex}\n",
       ".dl-inline>dt:not(:first-of-type) {padding-left: .5ex}\n",
       "</style><dl class=dl-inline><dt>task</dt><dd>1.71237416678015</dd><dt>input</dt><dd>5.61742680661679</dd><dt>output</dt><dd>6.74149626657574</dd></dl>\n"
      ],
      "text/latex": [
       "\\begin{description*}\n",
       "\\item[task] 1.71237416678015\n",
       "\\item[input] 5.61742680661679\n",
       "\\item[output] 6.74149626657574\n",
       "\\end{description*}\n"
      ],
      "text/markdown": [
       "task\n",
       ":   1.71237416678015input\n",
       ":   5.61742680661679output\n",
       ":   6.74149626657574\n",
       "\n"
      ],
      "text/plain": [
       "    task    input   output \n",
       "1.712374 5.617427 6.741496 "
      ]
     },
     "metadata": {},
     "output_type": "display_data"
    }
   ],
   "source": [
    "vif(linfwdood_gpt35_model)"
   ]
  },
  {
   "cell_type": "code",
   "execution_count": 502,
   "id": "9c787571",
   "metadata": {},
   "outputs": [
    {
     "data": {
      "text/html": [
       "<style>\n",
       ".dl-inline {width: auto; margin:0; padding: 0}\n",
       ".dl-inline>dt, .dl-inline>dd {float: none; width: auto; display: inline-block}\n",
       ".dl-inline>dt::after {content: \":\\0020\"; padding-right: .5ex}\n",
       ".dl-inline>dt:not(:first-of-type) {padding-left: .5ex}\n",
       "</style><dl class=dl-inline><dt>task</dt><dd>1.19390898686242</dd><dt>input</dt><dd>7.73534453981535</dd><dt>output</dt><dd>7.52984720527121</dd></dl>\n"
      ],
      "text/latex": [
       "\\begin{description*}\n",
       "\\item[task] 1.19390898686242\n",
       "\\item[input] 7.73534453981535\n",
       "\\item[output] 7.52984720527121\n",
       "\\end{description*}\n"
      ],
      "text/markdown": [
       "task\n",
       ":   1.19390898686242input\n",
       ":   7.73534453981535output\n",
       ":   7.52984720527121\n",
       "\n"
      ],
      "text/plain": [
       "    task    input   output \n",
       "1.193909 7.735345 7.529847 "
      ]
     },
     "metadata": {},
     "output_type": "display_data"
    }
   ],
   "source": [
    "vif(linrevood_gpt4_model)"
   ]
  },
  {
   "cell_type": "code",
   "execution_count": 503,
   "id": "24ca4fc9",
   "metadata": {},
   "outputs": [
    {
     "data": {
      "text/html": [
       "<style>\n",
       ".dl-inline {width: auto; margin:0; padding: 0}\n",
       ".dl-inline>dt, .dl-inline>dd {float: none; width: auto; display: inline-block}\n",
       ".dl-inline>dt::after {content: \":\\0020\"; padding-right: .5ex}\n",
       ".dl-inline>dt:not(:first-of-type) {padding-left: .5ex}\n",
       "</style><dl class=dl-inline><dt>task</dt><dd>1.62114396044675</dd><dt>input</dt><dd>9.47564277914843</dd><dt>output</dt><dd>9.11332517150533</dd></dl>\n"
      ],
      "text/latex": [
       "\\begin{description*}\n",
       "\\item[task] 1.62114396044675\n",
       "\\item[input] 9.47564277914843\n",
       "\\item[output] 9.11332517150533\n",
       "\\end{description*}\n"
      ],
      "text/markdown": [
       "task\n",
       ":   1.62114396044675input\n",
       ":   9.47564277914843output\n",
       ":   9.11332517150533\n",
       "\n"
      ],
      "text/plain": [
       "    task    input   output \n",
       "1.621144 9.475643 9.113325 "
      ]
     },
     "metadata": {},
     "output_type": "display_data"
    }
   ],
   "source": [
    "vif(linrevood_gpt35_model)"
   ]
  },
  {
   "cell_type": "code",
   "execution_count": null,
   "id": "14ed478c",
   "metadata": {},
   "outputs": [],
   "source": []
  },
  {
   "cell_type": "markdown",
   "id": "a5c1108b",
   "metadata": {},
   "source": [
    "### Comparing methods: OOD"
   ]
  },
  {
   "cell_type": "code",
   "execution_count": 540,
   "id": "8ac8520e",
   "metadata": {},
   "outputs": [],
   "source": [
    "linmethodood_gpt4_df <- read.table(file = 'table_conversion_ood_method_gpt-4.tsv', sep = '\\t', header = TRUE)\n",
    "linmethodood_gpt35_df <- read.table(file = 'table_conversion_ood_method_gpt-3.5-turbo.tsv', sep = '\\t', header = TRUE)\n"
   ]
  },
  {
   "cell_type": "code",
   "execution_count": 541,
   "id": "73605edc",
   "metadata": {},
   "outputs": [],
   "source": [
    "scaled_linmethodood_gpt4_df <- scale_lin_df(linmethodood_gpt4_df)\n",
    "scaled_linmethodood_gpt35_df <- scale_lin_df(linmethodood_gpt35_df)\n"
   ]
  },
  {
   "cell_type": "code",
   "execution_count": 542,
   "id": "542cc317",
   "metadata": {},
   "outputs": [],
   "source": [
    "contrasts(scaled_linmethodood_gpt4_df$task) <- contr.sum(3)\n",
    "contrasts(scaled_linmethodood_gpt35_df$task) <- contr.sum(3)"
   ]
  },
  {
   "cell_type": "code",
   "execution_count": 543,
   "id": "8463153a",
   "metadata": {},
   "outputs": [],
   "source": [
    "linmethodood_gpt4_model <- glmer(correct ~ task + (1|index), \n",
    "               data=scaled_linmethodood_gpt4_df, family=binomial, control=glmerControl(optimizer=\"bobyqa\",optCtrl=list(maxfun=2e5)))\n",
    "linmethodood_gpt35_model <- glmer(correct ~ task + (1|index), \n",
    "               data=scaled_linmethodood_gpt35_df , family=binomial, control=glmerControl(optimizer=\"bobyqa\",optCtrl=list(maxfun=2e5)))\n"
   ]
  },
  {
   "cell_type": "code",
   "execution_count": 544,
   "id": "d8cf0b7c",
   "metadata": {},
   "outputs": [],
   "source": [
    "linmethodood_gpt4_null_model <- glmer(correct ~ (1|index), \n",
    "               data=scaled_linmethodood_gpt4_df, family=binomial, control=glmerControl(optimizer=\"bobyqa\",optCtrl=list(maxfun=2e5)))\n",
    "linmethodood_gpt35_null_model <- glmer(correct ~ (1|index), \n",
    "               data=scaled_linmethodood_gpt35_df , family=binomial, control=glmerControl(optimizer=\"bobyqa\",optCtrl=list(maxfun=2e5)))\n"
   ]
  },
  {
   "cell_type": "code",
   "execution_count": 545,
   "id": "763b927d",
   "metadata": {},
   "outputs": [
    {
     "data": {
      "text/plain": [
       "Generalized linear mixed model fit by maximum likelihood (Laplace\n",
       "  Approximation) [glmerMod]\n",
       " Family: binomial  ( logit )\n",
       "Formula: correct ~ task + (1 | index)\n",
       "   Data: scaled_linmethodood_gpt4_df\n",
       "Control: glmerControl(optimizer = \"bobyqa\", optCtrl = list(maxfun = 2e+05))\n",
       "\n",
       "     AIC      BIC   logLik deviance df.resid \n",
       "   305.7    320.5   -148.9    297.7      296 \n",
       "\n",
       "Scaled residuals: \n",
       "     Min       1Q   Median       3Q      Max \n",
       "-1.75192 -0.36734 -0.03554  0.19293  2.72231 \n",
       "\n",
       "Random effects:\n",
       " Groups Name        Variance Std.Dev.\n",
       " index  (Intercept) 11.27    3.357   \n",
       "Number of obs: 300, groups:  index, 100\n",
       "\n",
       "Fixed effects:\n",
       "            Estimate Std. Error z value Pr(>|z|)    \n",
       "(Intercept)  -1.3539     0.4794  -2.824  0.00474 ** \n",
       "task1        -2.7629     0.5786  -4.775 1.80e-06 ***\n",
       "task2         2.5309     0.5218   4.851 1.23e-06 ***\n",
       "---\n",
       "Signif. codes:  0 ‘***’ 0.001 ‘**’ 0.01 ‘*’ 0.05 ‘.’ 0.1 ‘ ’ 1\n",
       "\n",
       "Correlation of Fixed Effects:\n",
       "      (Intr) task1 \n",
       "task1  0.456       \n",
       "task2 -0.452 -0.871"
      ]
     },
     "metadata": {},
     "output_type": "display_data"
    }
   ],
   "source": [
    "summary(linmethodood_gpt4_model)"
   ]
  },
  {
   "cell_type": "code",
   "execution_count": 546,
   "id": "8a9d48a4",
   "metadata": {},
   "outputs": [
    {
     "data": {
      "text/plain": [
       "Generalized linear mixed model fit by maximum likelihood (Laplace\n",
       "  Approximation) [glmerMod]\n",
       " Family: binomial  ( logit )\n",
       "Formula: correct ~ task + (1 | index)\n",
       "   Data: scaled_linmethodood_gpt35_df\n",
       "Control: glmerControl(optimizer = \"bobyqa\", optCtrl = list(maxfun = 2e+05))\n",
       "\n",
       "     AIC      BIC   logLik deviance df.resid \n",
       "   309.5    324.3   -150.7    301.5      296 \n",
       "\n",
       "Scaled residuals: \n",
       "    Min      1Q  Median      3Q     Max \n",
       "-7.2210 -0.4353 -0.0369  0.2267  2.0395 \n",
       "\n",
       "Random effects:\n",
       " Groups Name        Variance Std.Dev.\n",
       " index  (Intercept) 12.78    3.575   \n",
       "Number of obs: 300, groups:  index, 100\n",
       "\n",
       "Fixed effects:\n",
       "            Estimate Std. Error z value Pr(>|z|)    \n",
       "(Intercept)  -1.0380     0.4862  -2.135   0.0328 *  \n",
       "task1        -2.4901     0.5786  -4.304 1.68e-05 ***\n",
       "task2         2.8892     0.6802   4.248 2.16e-05 ***\n",
       "---\n",
       "Signif. codes:  0 ‘***’ 0.001 ‘**’ 0.01 ‘*’ 0.05 ‘.’ 0.1 ‘ ’ 1\n",
       "\n",
       "Correlation of Fixed Effects:\n",
       "      (Intr) task1 \n",
       "task1  0.425       \n",
       "task2 -0.444 -0.887"
      ]
     },
     "metadata": {},
     "output_type": "display_data"
    }
   ],
   "source": [
    "summary(linmethodood_gpt35_model)"
   ]
  },
  {
   "cell_type": "code",
   "execution_count": 547,
   "id": "97551b26",
   "metadata": {},
   "outputs": [
    {
     "data": {
      "text/html": [
       "<table class=\"dataframe\">\n",
       "<caption>A anova: 2 × 8</caption>\n",
       "<thead>\n",
       "\t<tr><th></th><th scope=col>npar</th><th scope=col>AIC</th><th scope=col>BIC</th><th scope=col>logLik</th><th scope=col>deviance</th><th scope=col>Chisq</th><th scope=col>Df</th><th scope=col>Pr(&gt;Chisq)</th></tr>\n",
       "\t<tr><th></th><th scope=col>&lt;dbl&gt;</th><th scope=col>&lt;dbl&gt;</th><th scope=col>&lt;dbl&gt;</th><th scope=col>&lt;dbl&gt;</th><th scope=col>&lt;dbl&gt;</th><th scope=col>&lt;dbl&gt;</th><th scope=col>&lt;dbl&gt;</th><th scope=col>&lt;dbl&gt;</th></tr>\n",
       "</thead>\n",
       "<tbody>\n",
       "\t<tr><th scope=row>linmethodood_gpt4_null_model</th><td>2</td><td>385.4793</td><td>392.8868</td><td>-190.7396</td><td>381.4793</td><td>      NA</td><td>NA</td><td>          NA</td></tr>\n",
       "\t<tr><th scope=row>linmethodood_gpt4_model</th><td>4</td><td>305.7154</td><td>320.5306</td><td>-148.8577</td><td>297.7154</td><td>83.76381</td><td> 2</td><td>6.470238e-19</td></tr>\n",
       "</tbody>\n",
       "</table>\n"
      ],
      "text/latex": [
       "A anova: 2 × 8\n",
       "\\begin{tabular}{r|llllllll}\n",
       "  & npar & AIC & BIC & logLik & deviance & Chisq & Df & Pr(>Chisq)\\\\\n",
       "  & <dbl> & <dbl> & <dbl> & <dbl> & <dbl> & <dbl> & <dbl> & <dbl>\\\\\n",
       "\\hline\n",
       "\tlinmethodood\\_gpt4\\_null\\_model & 2 & 385.4793 & 392.8868 & -190.7396 & 381.4793 &       NA & NA &           NA\\\\\n",
       "\tlinmethodood\\_gpt4\\_model & 4 & 305.7154 & 320.5306 & -148.8577 & 297.7154 & 83.76381 &  2 & 6.470238e-19\\\\\n",
       "\\end{tabular}\n"
      ],
      "text/markdown": [
       "\n",
       "A anova: 2 × 8\n",
       "\n",
       "| <!--/--> | npar &lt;dbl&gt; | AIC &lt;dbl&gt; | BIC &lt;dbl&gt; | logLik &lt;dbl&gt; | deviance &lt;dbl&gt; | Chisq &lt;dbl&gt; | Df &lt;dbl&gt; | Pr(&gt;Chisq) &lt;dbl&gt; |\n",
       "|---|---|---|---|---|---|---|---|---|\n",
       "| linmethodood_gpt4_null_model | 2 | 385.4793 | 392.8868 | -190.7396 | 381.4793 |       NA | NA |           NA |\n",
       "| linmethodood_gpt4_model | 4 | 305.7154 | 320.5306 | -148.8577 | 297.7154 | 83.76381 |  2 | 6.470238e-19 |\n",
       "\n"
      ],
      "text/plain": [
       "                             npar AIC      BIC      logLik    deviance Chisq   \n",
       "linmethodood_gpt4_null_model 2    385.4793 392.8868 -190.7396 381.4793       NA\n",
       "linmethodood_gpt4_model      4    305.7154 320.5306 -148.8577 297.7154 83.76381\n",
       "                             Df Pr(>Chisq)  \n",
       "linmethodood_gpt4_null_model NA           NA\n",
       "linmethodood_gpt4_model       2 6.470238e-19"
      ]
     },
     "metadata": {},
     "output_type": "display_data"
    }
   ],
   "source": [
    "anova(linmethodood_gpt4_model,linmethodood_gpt4_null_model,test=\"Chisq\")"
   ]
  },
  {
   "cell_type": "code",
   "execution_count": 548,
   "id": "3020892f",
   "metadata": {},
   "outputs": [
    {
     "data": {
      "text/html": [
       "<table class=\"dataframe\">\n",
       "<caption>A anova: 2 × 8</caption>\n",
       "<thead>\n",
       "\t<tr><th></th><th scope=col>npar</th><th scope=col>AIC</th><th scope=col>BIC</th><th scope=col>logLik</th><th scope=col>deviance</th><th scope=col>Chisq</th><th scope=col>Df</th><th scope=col>Pr(&gt;Chisq)</th></tr>\n",
       "\t<tr><th></th><th scope=col>&lt;dbl&gt;</th><th scope=col>&lt;dbl&gt;</th><th scope=col>&lt;dbl&gt;</th><th scope=col>&lt;dbl&gt;</th><th scope=col>&lt;dbl&gt;</th><th scope=col>&lt;dbl&gt;</th><th scope=col>&lt;dbl&gt;</th><th scope=col>&lt;dbl&gt;</th></tr>\n",
       "</thead>\n",
       "<tbody>\n",
       "\t<tr><th scope=row>linmethodood_gpt35_null_model</th><td>2</td><td>390.0229</td><td>397.4305</td><td>-193.0114</td><td>386.0229</td><td>      NA</td><td>NA</td><td>          NA</td></tr>\n",
       "\t<tr><th scope=row>linmethodood_gpt35_model</th><td>4</td><td>309.4944</td><td>324.3095</td><td>-150.7472</td><td>301.4944</td><td>84.52852</td><td> 2</td><td>4.414332e-19</td></tr>\n",
       "</tbody>\n",
       "</table>\n"
      ],
      "text/latex": [
       "A anova: 2 × 8\n",
       "\\begin{tabular}{r|llllllll}\n",
       "  & npar & AIC & BIC & logLik & deviance & Chisq & Df & Pr(>Chisq)\\\\\n",
       "  & <dbl> & <dbl> & <dbl> & <dbl> & <dbl> & <dbl> & <dbl> & <dbl>\\\\\n",
       "\\hline\n",
       "\tlinmethodood\\_gpt35\\_null\\_model & 2 & 390.0229 & 397.4305 & -193.0114 & 386.0229 &       NA & NA &           NA\\\\\n",
       "\tlinmethodood\\_gpt35\\_model & 4 & 309.4944 & 324.3095 & -150.7472 & 301.4944 & 84.52852 &  2 & 4.414332e-19\\\\\n",
       "\\end{tabular}\n"
      ],
      "text/markdown": [
       "\n",
       "A anova: 2 × 8\n",
       "\n",
       "| <!--/--> | npar &lt;dbl&gt; | AIC &lt;dbl&gt; | BIC &lt;dbl&gt; | logLik &lt;dbl&gt; | deviance &lt;dbl&gt; | Chisq &lt;dbl&gt; | Df &lt;dbl&gt; | Pr(&gt;Chisq) &lt;dbl&gt; |\n",
       "|---|---|---|---|---|---|---|---|---|\n",
       "| linmethodood_gpt35_null_model | 2 | 390.0229 | 397.4305 | -193.0114 | 386.0229 |       NA | NA |           NA |\n",
       "| linmethodood_gpt35_model | 4 | 309.4944 | 324.3095 | -150.7472 | 301.4944 | 84.52852 |  2 | 4.414332e-19 |\n",
       "\n"
      ],
      "text/plain": [
       "                              npar AIC      BIC      logLik    deviance\n",
       "linmethodood_gpt35_null_model 2    390.0229 397.4305 -193.0114 386.0229\n",
       "linmethodood_gpt35_model      4    309.4944 324.3095 -150.7472 301.4944\n",
       "                              Chisq    Df Pr(>Chisq)  \n",
       "linmethodood_gpt35_null_model       NA NA           NA\n",
       "linmethodood_gpt35_model      84.52852  2 4.414332e-19"
      ]
     },
     "metadata": {},
     "output_type": "display_data"
    }
   ],
   "source": [
    "anova(linmethodood_gpt35_model,linmethodood_gpt35_null_model,test=\"Chisq\")"
   ]
  },
  {
   "cell_type": "code",
   "execution_count": 549,
   "id": "04b0fd06",
   "metadata": {},
   "outputs": [],
   "source": [
    "gpt4_linood_multcomp <- glht(linmethodood_gpt4_model, linfct=mcp(task=\"Tukey\"))"
   ]
  },
  {
   "cell_type": "code",
   "execution_count": 550,
   "id": "e36c077a",
   "metadata": {},
   "outputs": [],
   "source": [
    "gpt35_linood_multcomp <- glht(linmethodood_gpt35_model, linfct=mcp(task=\"Tukey\"))"
   ]
  },
  {
   "cell_type": "code",
   "execution_count": 551,
   "id": "dfa67a32",
   "metadata": {},
   "outputs": [
    {
     "data": {
      "text/plain": [
       "\n",
       "\t Simultaneous Tests for General Linear Hypotheses\n",
       "\n",
       "Multiple Comparisons of Means: Tukey Contrasts\n",
       "\n",
       "\n",
       "Fit: glmer(formula = correct ~ task + (1 | index), data = scaled_linmethodood_gpt4_df, \n",
       "    family = binomial, control = glmerControl(optimizer = \"bobyqa\", \n",
       "        optCtrl = list(maxfun = 2e+05)))\n",
       "\n",
       "Linear Hypotheses:\n",
       "                                                                      Estimate\n",
       "conversion_ood_actualprimed - conversion_ood_actual == 0                5.2938\n",
       "conversion_ood_actualprimedcontrol - conversion_ood_actual == 0         2.9949\n",
       "conversion_ood_actualprimedcontrol - conversion_ood_actualprimed == 0  -2.2990\n",
       "                                                                      Std. Error\n",
       "conversion_ood_actualprimed - conversion_ood_actual == 0                  1.0642\n",
       "conversion_ood_actualprimedcontrol - conversion_ood_actual == 0           0.7484\n",
       "conversion_ood_actualprimedcontrol - conversion_ood_actualprimed == 0     0.6103\n",
       "                                                                      z value\n",
       "conversion_ood_actualprimed - conversion_ood_actual == 0                4.974\n",
       "conversion_ood_actualprimedcontrol - conversion_ood_actual == 0         4.002\n",
       "conversion_ood_actualprimedcontrol - conversion_ood_actualprimed == 0  -3.767\n",
       "                                                                      Pr(>|z|)\n",
       "conversion_ood_actualprimed - conversion_ood_actual == 0               < 1e-04\n",
       "conversion_ood_actualprimedcontrol - conversion_ood_actual == 0       0.000155\n",
       "conversion_ood_actualprimedcontrol - conversion_ood_actualprimed == 0 0.000442\n",
       "                                                                         \n",
       "conversion_ood_actualprimed - conversion_ood_actual == 0              ***\n",
       "conversion_ood_actualprimedcontrol - conversion_ood_actual == 0       ***\n",
       "conversion_ood_actualprimedcontrol - conversion_ood_actualprimed == 0 ***\n",
       "---\n",
       "Signif. codes:  0 ‘***’ 0.001 ‘**’ 0.01 ‘*’ 0.05 ‘.’ 0.1 ‘ ’ 1\n",
       "(Adjusted p values reported -- single-step method)\n"
      ]
     },
     "metadata": {},
     "output_type": "display_data"
    }
   ],
   "source": [
    "summary(gpt4_linood_multcomp)"
   ]
  },
  {
   "cell_type": "code",
   "execution_count": 552,
   "id": "c1878419",
   "metadata": {},
   "outputs": [
    {
     "data": {
      "text/plain": [
       "\n",
       "\t Simultaneous Tests for General Linear Hypotheses\n",
       "\n",
       "Multiple Comparisons of Means: Tukey Contrasts\n",
       "\n",
       "\n",
       "Fit: glmer(formula = correct ~ task + (1 | index), data = scaled_linmethodood_gpt35_df, \n",
       "    family = binomial, control = glmerControl(optimizer = \"bobyqa\", \n",
       "        optCtrl = list(maxfun = 2e+05)))\n",
       "\n",
       "Linear Hypotheses:\n",
       "                                                                      Estimate\n",
       "conversion_ood_actualprimed - conversion_ood_actual == 0                5.3794\n",
       "conversion_ood_actualprimedcontrol - conversion_ood_actual == 0         2.0910\n",
       "conversion_ood_actualprimedcontrol - conversion_ood_actualprimed == 0  -3.2884\n",
       "                                                                      Std. Error\n",
       "conversion_ood_actualprimed - conversion_ood_actual == 0                  1.2230\n",
       "conversion_ood_actualprimedcontrol - conversion_ood_actual == 0           0.6361\n",
       "conversion_ood_actualprimedcontrol - conversion_ood_actualprimed == 0     0.8879\n",
       "                                                                      z value\n",
       "conversion_ood_actualprimed - conversion_ood_actual == 0                4.398\n",
       "conversion_ood_actualprimedcontrol - conversion_ood_actual == 0         3.287\n",
       "conversion_ood_actualprimedcontrol - conversion_ood_actualprimed == 0  -3.703\n",
       "                                                                      Pr(>|z|)\n",
       "conversion_ood_actualprimed - conversion_ood_actual == 0               < 0.001\n",
       "conversion_ood_actualprimedcontrol - conversion_ood_actual == 0        0.00249\n",
       "conversion_ood_actualprimedcontrol - conversion_ood_actualprimed == 0  < 0.001\n",
       "                                                                         \n",
       "conversion_ood_actualprimed - conversion_ood_actual == 0              ***\n",
       "conversion_ood_actualprimedcontrol - conversion_ood_actual == 0       ** \n",
       "conversion_ood_actualprimedcontrol - conversion_ood_actualprimed == 0 ***\n",
       "---\n",
       "Signif. codes:  0 ‘***’ 0.001 ‘**’ 0.01 ‘*’ 0.05 ‘.’ 0.1 ‘ ’ 1\n",
       "(Adjusted p values reported -- single-step method)\n"
      ]
     },
     "metadata": {},
     "output_type": "display_data"
    }
   ],
   "source": [
    "summary(gpt35_linood_multcomp)"
   ]
  },
  {
   "cell_type": "code",
   "execution_count": null,
   "id": "05e72eb0",
   "metadata": {},
   "outputs": [],
   "source": []
  },
  {
   "cell_type": "code",
   "execution_count": null,
   "id": "cc953cfc",
   "metadata": {},
   "outputs": [],
   "source": []
  },
  {
   "cell_type": "code",
   "execution_count": null,
   "id": "99c0d5cf",
   "metadata": {},
   "outputs": [],
   "source": []
  },
  {
   "cell_type": "code",
   "execution_count": null,
   "id": "9e400700",
   "metadata": {},
   "outputs": [],
   "source": []
  }
 ],
 "metadata": {
  "kernelspec": {
   "display_name": "R",
   "language": "R",
   "name": "ir"
  },
  "language_info": {
   "codemirror_mode": "r",
   "file_extension": ".r",
   "mimetype": "text/x-r-source",
   "name": "R",
   "pygments_lexer": "r",
   "version": "4.1.3"
  }
 },
 "nbformat": 4,
 "nbformat_minor": 5
}
