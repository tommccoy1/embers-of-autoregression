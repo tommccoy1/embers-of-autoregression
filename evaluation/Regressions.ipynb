{
 "cells": [
  {
   "cell_type": "code",
   "execution_count": 1,
   "id": "76a366cf",
   "metadata": {},
   "outputs": [
    {
     "name": "stderr",
     "output_type": "stream",
     "text": [
      "Loading required package: MASS\n",
      "\n",
      "Loading required package: Matrix\n",
      "\n",
      "Loading required package: lme4\n",
      "\n",
      "\n",
      "arm (Version 1.13-1, built: 2022-8-25)\n",
      "\n",
      "\n",
      "Working directory is /Users/tommccoy/Documents/tommccoy/Documents/GitHub/embers-of-autoregression/evaluation\n",
      "\n",
      "\n",
      "\n",
      "Attaching package: ‘psycho’\n",
      "\n",
      "\n",
      "The following object is masked from ‘package:lme4’:\n",
      "\n",
      "    golden\n",
      "\n",
      "\n",
      "Loaded glmnet 4.1-7\n",
      "\n",
      "Loading required package: carData\n",
      "\n",
      "\n",
      "Attaching package: ‘car’\n",
      "\n",
      "\n",
      "The following object is masked from ‘package:arm’:\n",
      "\n",
      "    logit\n",
      "\n",
      "\n",
      "Loading required package: mvtnorm\n",
      "\n",
      "Loading required package: survival\n",
      "\n",
      "Loading required package: TH.data\n",
      "\n",
      "\n",
      "Attaching package: ‘TH.data’\n",
      "\n",
      "\n",
      "The following object is masked from ‘package:MASS’:\n",
      "\n",
      "    geyser\n",
      "\n",
      "\n"
     ]
    }
   ],
   "source": [
    "# Might need to install arm - if so, uncomment the following line\n",
    "#install.packages(\"arm\")\n",
    "library(arm)\n",
    "library(lme4)\n",
    "library(blme)\n",
    "library(ggplot2)\n",
    "library(stringr)\n",
    "library(psycho)\n",
    "library(glmnet)\n",
    "library(car)\n",
    "library(\"multcomp\")"
   ]
  },
  {
   "cell_type": "code",
   "execution_count": 2,
   "id": "0d51dde8",
   "metadata": {},
   "outputs": [],
   "source": [
    "# Set ggplot theme\n",
    "base_size <- 20\n",
    "theme_set(theme_bw(base_size=base_size) +\n",
    "            theme(#panel.grid.major=element_blank(),\n",
    "              panel.grid.minor=element_blank(),\n",
    "              axis.title.y=element_text(angle=90,vjust=0.5),\n",
    "              axis.text.x=element_text(angle=0, hjust=0.5),\n",
    "              axis.title.x=element_blank()))"
   ]
  },
  {
   "cell_type": "code",
   "execution_count": 3,
   "id": "708638c1",
   "metadata": {},
   "outputs": [],
   "source": [
    "correct_vs_length_and_prob <- function(df, include_output_chars=TRUE, include_input_chars=TRUE){\n",
    " \n",
    "    \n",
    "    if (include_output_chars & include_input_chars){\n",
    "        model <- glm(correct ~ input_logprob + output_logprob + input_ntokens + output_ntokens + input_nchars + output_nchars, \n",
    "               data=df, family=binomial)\n",
    "    } else if (include_output_chars & !include_input_chars){\n",
    "        model <- glm(correct ~ input_logprob + output_logprob + input_ntokens + output_ntokens + output_nchars, \n",
    "               data=df, family=binomial)\n",
    "    } else if (!include_output_chars & include_input_chars){\n",
    "        model <- glm(correct ~ input_logprob + output_logprob + input_ntokens + output_ntokens + input_nchars, \n",
    "               data=df, family=binomial)\n",
    "    }\n",
    "  \n",
    "    \n",
    "  return(model)\n",
    "}"
   ]
  },
  {
   "cell_type": "code",
   "execution_count": 4,
   "id": "58a72db9",
   "metadata": {},
   "outputs": [],
   "source": [
    "# For Z-scoring datasets\n",
    "\n",
    "scale_df <- function(df) {\n",
    "    new_df <- data.frame(scale(df[2:7]))\n",
    "    new_df$index <- as.factor(df$index)\n",
    "    new_df$correct <- df$correct\n",
    "    \n",
    "    return(new_df)\n",
    "}\n",
    "\n",
    "scale_taskpair_df <- function(df) {\n",
    "    new_df <- data.frame(scale(df[3:8]))\n",
    "    new_df$index <- as.factor(df$index)\n",
    "    new_df$task <- as.factor(df$task)\n",
    "    new_df$correct <- df$correct\n",
    "    \n",
    "    return(new_df)\n",
    "}\n",
    "\n",
    "scale_taskpair_prob_df <- function(df) {\n",
    "    new_df <- data.frame(scale(df[2:8]))\n",
    "    new_df$index <- as.factor(df$index)\n",
    "    new_df$correct <- df$correct\n",
    "    \n",
    "    return(new_df)\n",
    "}\n",
    "\n",
    "\n",
    "\n",
    "scale_df_with_index <- function(df) {\n",
    "    new_df <- data.frame(scale(df[1:7]))\n",
    "    new_df$correct <- df$correct\n",
    "    \n",
    "    return(new_df)\n",
    "}"
   ]
  },
  {
   "cell_type": "code",
   "execution_count": null,
   "id": "63134099",
   "metadata": {},
   "outputs": [],
   "source": []
  },
  {
   "cell_type": "code",
   "execution_count": null,
   "id": "f5079780",
   "metadata": {},
   "outputs": [],
   "source": []
  },
  {
   "cell_type": "markdown",
   "id": "d7bfdfab",
   "metadata": {},
   "source": [
    "# Shift ciphers"
   ]
  },
  {
   "cell_type": "code",
   "execution_count": 6,
   "id": "397d84ea",
   "metadata": {},
   "outputs": [],
   "source": [
    "# Read in data\n",
    "rot13enc_gpt4_df <- read.table(file = 'table_rot13enc_gpt-4-0613.tsv', sep = '\\t', header = TRUE)\n",
    "rot13enc_gpt35_df <- read.table(file = 'table_rot13enc_gpt-3.5-turbo-0613.tsv', sep = '\\t', header = TRUE)\n",
    "\n",
    "rot13dec_gpt4_df <- read.table(file = 'table_rot13dec_gpt-4-0613.tsv', sep = '\\t', header = TRUE)\n",
    "rot13dec_gpt35_df <- read.table(file = 'table_rot13dec_gpt-3.5-turbo-0613.tsv', sep = '\\t', header = TRUE)"
   ]
  },
  {
   "cell_type": "code",
   "execution_count": 7,
   "id": "455b3195",
   "metadata": {},
   "outputs": [],
   "source": [
    "# Z-score data\n",
    "scaled_rot13enc_gpt4_df <- scale_df(rot13enc_gpt4_df)\n",
    "scaled_rot13enc_gpt35_df <- scale_df(rot13enc_gpt35_df)\n",
    "\n",
    "scaled_rot13dec_gpt4_df <- scale_df(rot13dec_gpt4_df)\n",
    "scaled_rot13dec_gpt35_df <- scale_df(rot13dec_gpt35_df)\n"
   ]
  },
  {
   "cell_type": "code",
   "execution_count": 8,
   "id": "277ca98d",
   "metadata": {},
   "outputs": [],
   "source": [
    "\n",
    "rot13enc_gpt4_model <- correct_vs_length_and_prob(scaled_rot13enc_gpt4_df, include_output_chars=FALSE)\n",
    "\n"
   ]
  },
  {
   "cell_type": "code",
   "execution_count": 9,
   "id": "9611b584",
   "metadata": {},
   "outputs": [
    {
     "name": "stderr",
     "output_type": "stream",
     "text": [
      "Warning message:\n",
      "“glm.fit: fitted probabilities numerically 0 or 1 occurred”\n"
     ]
    }
   ],
   "source": [
    "rot13enc_gpt35_model <- correct_vs_length_and_prob(scaled_rot13enc_gpt35_df, include_output_chars=FALSE)\n"
   ]
  },
  {
   "cell_type": "code",
   "execution_count": 10,
   "id": "6b6ad017",
   "metadata": {},
   "outputs": [],
   "source": [
    "rot13dec_gpt4_model <- correct_vs_length_and_prob(scaled_rot13dec_gpt4_df, include_output_chars=FALSE)\n"
   ]
  },
  {
   "cell_type": "code",
   "execution_count": 11,
   "id": "3912f26a",
   "metadata": {},
   "outputs": [],
   "source": [
    "rot13dec_gpt35_model <- correct_vs_length_and_prob(scaled_rot13dec_gpt35_df, include_output_chars=FALSE)"
   ]
  },
  {
   "cell_type": "code",
   "execution_count": 12,
   "id": "bbf47fc2",
   "metadata": {},
   "outputs": [
    {
     "data": {
      "text/plain": [
       "\n",
       "Call:\n",
       "glm(formula = correct ~ input_logprob + output_logprob + input_ntokens + \n",
       "    output_ntokens + input_nchars, family = binomial, data = df)\n",
       "\n",
       "Deviance Residuals: \n",
       "     Min        1Q    Median        3Q       Max  \n",
       "-1.99812  -0.44168  -0.14960  -0.01557   2.95372  \n",
       "\n",
       "Coefficients:\n",
       "               Estimate Std. Error z value Pr(>|z|)    \n",
       "(Intercept)     -4.1263     0.5728  -7.204 5.84e-13 ***\n",
       "input_logprob    1.2287     0.4840   2.539  0.01112 *  \n",
       "output_logprob   7.8371     3.2790   2.390  0.01684 *  \n",
       "input_ntokens    2.7704     0.9766   2.837  0.00456 ** \n",
       "output_ntokens  -0.9145     2.5316  -0.361  0.71793    \n",
       "input_nchars     3.5012     3.3936   1.032  0.30221    \n",
       "---\n",
       "Signif. codes:  0 ‘***’ 0.001 ‘**’ 0.01 ‘*’ 0.05 ‘.’ 0.1 ‘ ’ 1\n",
       "\n",
       "(Dispersion parameter for binomial family taken to be 1)\n",
       "\n",
       "    Null deviance: 242.98  on 299  degrees of freedom\n",
       "Residual deviance: 155.44  on 294  degrees of freedom\n",
       "AIC: 167.44\n",
       "\n",
       "Number of Fisher Scoring iterations: 7\n"
      ]
     },
     "metadata": {},
     "output_type": "display_data"
    }
   ],
   "source": [
    "summary(rot13enc_gpt4_model)"
   ]
  },
  {
   "cell_type": "code",
   "execution_count": 13,
   "id": "df3927b3",
   "metadata": {},
   "outputs": [
    {
     "data": {
      "text/plain": [
       "\n",
       "Call:\n",
       "glm(formula = correct ~ input_logprob + output_logprob + input_ntokens + \n",
       "    output_ntokens + input_nchars, family = binomial, data = df)\n",
       "\n",
       "Deviance Residuals: \n",
       "    Min       1Q   Median       3Q      Max  \n",
       "-1.5360  -0.0774  -0.0159  -0.0002   3.1706  \n",
       "\n",
       "Coefficients:\n",
       "               Estimate Std. Error z value Pr(>|z|)    \n",
       "(Intercept)    -11.2249     2.6091  -4.302 1.69e-05 ***\n",
       "input_logprob   -0.5781     1.1487  -0.503   0.6147    \n",
       "output_logprob  20.4597    10.2690   1.992   0.0463 *  \n",
       "input_ntokens    4.4254     2.7395   1.615   0.1062    \n",
       "output_ntokens   6.4896     7.5227   0.863   0.3883    \n",
       "input_nchars     1.4265     8.9552   0.159   0.8734    \n",
       "---\n",
       "Signif. codes:  0 ‘***’ 0.001 ‘**’ 0.01 ‘*’ 0.05 ‘.’ 0.1 ‘ ’ 1\n",
       "\n",
       "(Dispersion parameter for binomial family taken to be 1)\n",
       "\n",
       "    Null deviance: 87.687  on 299  degrees of freedom\n",
       "Residual deviance: 37.361  on 294  degrees of freedom\n",
       "AIC: 49.361\n",
       "\n",
       "Number of Fisher Scoring iterations: 10\n"
      ]
     },
     "metadata": {},
     "output_type": "display_data"
    }
   ],
   "source": [
    "summary(rot13enc_gpt35_model)"
   ]
  },
  {
   "cell_type": "code",
   "execution_count": 14,
   "id": "762fe166",
   "metadata": {},
   "outputs": [
    {
     "data": {
      "text/plain": [
       "\n",
       "Call:\n",
       "glm(formula = correct ~ input_logprob + output_logprob + input_ntokens + \n",
       "    output_ntokens + input_nchars, family = binomial, data = df)\n",
       "\n",
       "Deviance Residuals: \n",
       "    Min       1Q   Median       3Q      Max  \n",
       "-1.5419  -0.8313  -0.4035   0.9128   2.6598  \n",
       "\n",
       "Coefficients:\n",
       "               Estimate Std. Error z value Pr(>|z|)    \n",
       "(Intercept)     -1.4549     0.2014  -7.224 5.04e-13 ***\n",
       "input_logprob    0.8315     1.7469   0.476    0.634    \n",
       "output_logprob   1.9277     0.3396   5.676 1.38e-08 ***\n",
       "input_ntokens   -2.5684     1.6014  -1.604    0.109    \n",
       "output_ntokens   0.8680     0.6047   1.436    0.151    \n",
       "input_nchars     2.8939     2.0645   1.402    0.161    \n",
       "---\n",
       "Signif. codes:  0 ‘***’ 0.001 ‘**’ 0.01 ‘*’ 0.05 ‘.’ 0.1 ‘ ’ 1\n",
       "\n",
       "(Dispersion parameter for binomial family taken to be 1)\n",
       "\n",
       "    Null deviance: 359.48  on 299  degrees of freedom\n",
       "Residual deviance: 286.22  on 294  degrees of freedom\n",
       "AIC: 298.22\n",
       "\n",
       "Number of Fisher Scoring iterations: 6\n"
      ]
     },
     "metadata": {},
     "output_type": "display_data"
    }
   ],
   "source": [
    "summary(rot13dec_gpt4_model)"
   ]
  },
  {
   "cell_type": "code",
   "execution_count": 15,
   "id": "14bf9fe3",
   "metadata": {},
   "outputs": [
    {
     "data": {
      "text/plain": [
       "\n",
       "Call:\n",
       "glm(formula = correct ~ input_logprob + output_logprob + input_ntokens + \n",
       "    output_ntokens + input_nchars, family = binomial, data = df)\n",
       "\n",
       "Deviance Residuals: \n",
       "    Min       1Q   Median       3Q      Max  \n",
       "-1.4202  -0.3446  -0.1218  -0.0168   2.7923  \n",
       "\n",
       "Coefficients:\n",
       "               Estimate Std. Error z value Pr(>|z|)    \n",
       "(Intercept)     -4.8617     0.7477  -6.502 7.93e-11 ***\n",
       "input_logprob    2.5098     3.4435   0.729   0.4661    \n",
       "output_logprob   3.5218     0.8867   3.972 7.13e-05 ***\n",
       "input_ntokens   -5.1178     2.8539  -1.793   0.0729 .  \n",
       "output_ntokens   2.8505     1.0732   2.656   0.0079 ** \n",
       "input_nchars     4.3632     3.6236   1.204   0.2285    \n",
       "---\n",
       "Signif. codes:  0 ‘***’ 0.001 ‘**’ 0.01 ‘*’ 0.05 ‘.’ 0.1 ‘ ’ 1\n",
       "\n",
       "(Dispersion parameter for binomial family taken to be 1)\n",
       "\n",
       "    Null deviance: 195.05  on 299  degrees of freedom\n",
       "Residual deviance: 125.64  on 294  degrees of freedom\n",
       "AIC: 137.64\n",
       "\n",
       "Number of Fisher Scoring iterations: 8\n"
      ]
     },
     "metadata": {},
     "output_type": "display_data"
    }
   ],
   "source": [
    "summary(rot13dec_gpt35_model)"
   ]
  },
  {
   "cell_type": "code",
   "execution_count": 16,
   "id": "52ee8256",
   "metadata": {},
   "outputs": [
    {
     "data": {
      "text/html": [
       "<style>\n",
       ".dl-inline {width: auto; margin:0; padding: 0}\n",
       ".dl-inline>dt, .dl-inline>dd {float: none; width: auto; display: inline-block}\n",
       ".dl-inline>dt::after {content: \":\\0020\"; padding-right: .5ex}\n",
       ".dl-inline>dt:not(:first-of-type) {padding-left: .5ex}\n",
       "</style><dl class=dl-inline><dt>input_logprob</dt><dd>1.17346111336558</dd><dt>output_logprob</dt><dd>42.7101769243468</dd><dt>input_ntokens</dt><dd>8.54256673160543</dd><dt>output_ntokens</dt><dd>30.4618768471764</dd><dt>input_nchars</dt><dd>54.8020602888236</dd></dl>\n"
      ],
      "text/latex": [
       "\\begin{description*}\n",
       "\\item[input\\textbackslash{}\\_logprob] 1.17346111336558\n",
       "\\item[output\\textbackslash{}\\_logprob] 42.7101769243468\n",
       "\\item[input\\textbackslash{}\\_ntokens] 8.54256673160543\n",
       "\\item[output\\textbackslash{}\\_ntokens] 30.4618768471764\n",
       "\\item[input\\textbackslash{}\\_nchars] 54.8020602888236\n",
       "\\end{description*}\n"
      ],
      "text/markdown": [
       "input_logprob\n",
       ":   1.17346111336558output_logprob\n",
       ":   42.7101769243468input_ntokens\n",
       ":   8.54256673160543output_ntokens\n",
       ":   30.4618768471764input_nchars\n",
       ":   54.8020602888236\n",
       "\n"
      ],
      "text/plain": [
       " input_logprob output_logprob  input_ntokens output_ntokens   input_nchars \n",
       "      1.173461      42.710177       8.542567      30.461877      54.802060 "
      ]
     },
     "metadata": {},
     "output_type": "display_data"
    }
   ],
   "source": [
    "vif(rot13enc_gpt4_model)"
   ]
  },
  {
   "cell_type": "code",
   "execution_count": 17,
   "id": "f4964623",
   "metadata": {},
   "outputs": [
    {
     "data": {
      "text/html": [
       "<style>\n",
       ".dl-inline {width: auto; margin:0; padding: 0}\n",
       ".dl-inline>dt, .dl-inline>dd {float: none; width: auto; display: inline-block}\n",
       ".dl-inline>dt::after {content: \":\\0020\"; padding-right: .5ex}\n",
       ".dl-inline>dt:not(:first-of-type) {padding-left: .5ex}\n",
       "</style><dl class=dl-inline><dt>input_logprob</dt><dd>1.31659164539472</dd><dt>output_logprob</dt><dd>39.4639277282095</dd><dt>input_ntokens</dt><dd>6.3469751351244</dd><dt>output_ntokens</dt><dd>26.2758445377257</dd><dt>input_nchars</dt><dd>41.6887080548537</dd></dl>\n"
      ],
      "text/latex": [
       "\\begin{description*}\n",
       "\\item[input\\textbackslash{}\\_logprob] 1.31659164539472\n",
       "\\item[output\\textbackslash{}\\_logprob] 39.4639277282095\n",
       "\\item[input\\textbackslash{}\\_ntokens] 6.3469751351244\n",
       "\\item[output\\textbackslash{}\\_ntokens] 26.2758445377257\n",
       "\\item[input\\textbackslash{}\\_nchars] 41.6887080548537\n",
       "\\end{description*}\n"
      ],
      "text/markdown": [
       "input_logprob\n",
       ":   1.31659164539472output_logprob\n",
       ":   39.4639277282095input_ntokens\n",
       ":   6.3469751351244output_ntokens\n",
       ":   26.2758445377257input_nchars\n",
       ":   41.6887080548537\n",
       "\n"
      ],
      "text/plain": [
       " input_logprob output_logprob  input_ntokens output_ntokens   input_nchars \n",
       "      1.316592      39.463928       6.346975      26.275845      41.688708 "
      ]
     },
     "metadata": {},
     "output_type": "display_data"
    }
   ],
   "source": [
    "vif(rot13enc_gpt35_model)"
   ]
  },
  {
   "cell_type": "code",
   "execution_count": 18,
   "id": "673d68dc",
   "metadata": {},
   "outputs": [
    {
     "data": {
      "text/html": [
       "<style>\n",
       ".dl-inline {width: auto; margin:0; padding: 0}\n",
       ".dl-inline>dt, .dl-inline>dd {float: none; width: auto; display: inline-block}\n",
       ".dl-inline>dt::after {content: \":\\0020\"; padding-right: .5ex}\n",
       ".dl-inline>dt:not(:first-of-type) {padding-left: .5ex}\n",
       "</style><dl class=dl-inline><dt>input_logprob</dt><dd>104.840741463267</dd><dt>output_logprob</dt><dd>1.54200685876659</dd><dt>input_ntokens</dt><dd>88.6856066838111</dd><dt>output_ntokens</dt><dd>14.1795269505361</dd><dt>input_nchars</dt><dd>149.580941489885</dd></dl>\n"
      ],
      "text/latex": [
       "\\begin{description*}\n",
       "\\item[input\\textbackslash{}\\_logprob] 104.840741463267\n",
       "\\item[output\\textbackslash{}\\_logprob] 1.54200685876659\n",
       "\\item[input\\textbackslash{}\\_ntokens] 88.6856066838111\n",
       "\\item[output\\textbackslash{}\\_ntokens] 14.1795269505361\n",
       "\\item[input\\textbackslash{}\\_nchars] 149.580941489885\n",
       "\\end{description*}\n"
      ],
      "text/markdown": [
       "input_logprob\n",
       ":   104.840741463267output_logprob\n",
       ":   1.54200685876659input_ntokens\n",
       ":   88.6856066838111output_ntokens\n",
       ":   14.1795269505361input_nchars\n",
       ":   149.580941489885\n",
       "\n"
      ],
      "text/plain": [
       " input_logprob output_logprob  input_ntokens output_ntokens   input_nchars \n",
       "    104.840741       1.542007      88.685607      14.179527     149.580941 "
      ]
     },
     "metadata": {},
     "output_type": "display_data"
    }
   ],
   "source": [
    "vif(rot13dec_gpt4_model)"
   ]
  },
  {
   "cell_type": "code",
   "execution_count": 19,
   "id": "e869deae",
   "metadata": {},
   "outputs": [
    {
     "data": {
      "text/html": [
       "<style>\n",
       ".dl-inline {width: auto; margin:0; padding: 0}\n",
       ".dl-inline>dt, .dl-inline>dd {float: none; width: auto; display: inline-block}\n",
       ".dl-inline>dt::after {content: \":\\0020\"; padding-right: .5ex}\n",
       ".dl-inline>dt:not(:first-of-type) {padding-left: .5ex}\n",
       "</style><dl class=dl-inline><dt>input_logprob</dt><dd>61.877836630818</dd><dt>output_logprob</dt><dd>1.40830852816465</dd><dt>input_ntokens</dt><dd>44.2814975396256</dd><dt>output_ntokens</dt><dd>9.83593053364722</dd><dt>input_nchars</dt><dd>75.7112609849499</dd></dl>\n"
      ],
      "text/latex": [
       "\\begin{description*}\n",
       "\\item[input\\textbackslash{}\\_logprob] 61.877836630818\n",
       "\\item[output\\textbackslash{}\\_logprob] 1.40830852816465\n",
       "\\item[input\\textbackslash{}\\_ntokens] 44.2814975396256\n",
       "\\item[output\\textbackslash{}\\_ntokens] 9.83593053364722\n",
       "\\item[input\\textbackslash{}\\_nchars] 75.7112609849499\n",
       "\\end{description*}\n"
      ],
      "text/markdown": [
       "input_logprob\n",
       ":   61.877836630818output_logprob\n",
       ":   1.40830852816465input_ntokens\n",
       ":   44.2814975396256output_ntokens\n",
       ":   9.83593053364722input_nchars\n",
       ":   75.7112609849499\n",
       "\n"
      ],
      "text/plain": [
       " input_logprob output_logprob  input_ntokens output_ntokens   input_nchars \n",
       "     61.877837       1.408309      44.281498       9.835931      75.711261 "
      ]
     },
     "metadata": {},
     "output_type": "display_data"
    }
   ],
   "source": [
    "vif(rot13dec_gpt35_model)"
   ]
  },
  {
   "cell_type": "code",
   "execution_count": null,
   "id": "28cb2942",
   "metadata": {},
   "outputs": [],
   "source": []
  },
  {
   "cell_type": "markdown",
   "id": "0a066bbe",
   "metadata": {},
   "source": [
    "### Distance as output"
   ]
  },
  {
   "cell_type": "code",
   "execution_count": 20,
   "id": "0a8512d9",
   "metadata": {},
   "outputs": [],
   "source": [
    "# Read in data\n",
    "rot13encdist_gpt4_df <- read.table(file = 'table_rot13enc_gpt-4-0613_dist.tsv', sep = '\\t', header = TRUE)\n",
    "rot13encdist_gpt35_df <- read.table(file = 'table_rot13enc_gpt-3.5-turbo-0613_dist.tsv', sep = '\\t', header = TRUE)"
   ]
  },
  {
   "cell_type": "code",
   "execution_count": 21,
   "id": "b308fab5",
   "metadata": {},
   "outputs": [],
   "source": [
    "# Get rid of \"correct\"\n",
    "rot13encdist_gpt4_df <- rot13encdist_gpt4_df[,-c(1,8)]\n",
    "rot13encdist_gpt35_df <- rot13encdist_gpt35_df[,-c(1,8)]\n",
    "\n",
    "# Scale\n",
    "rot13encdist_gpt4_df <- data.frame(scale(rot13encdist_gpt4_df))\n",
    "rot13encdist_gpt35_df <- data.frame(scale(rot13encdist_gpt35_df))"
   ]
  },
  {
   "cell_type": "code",
   "execution_count": 22,
   "id": "da5d0855",
   "metadata": {},
   "outputs": [],
   "source": [
    "model_dist4 <- glm(distance ~ input_logprob + output_logprob + input_ntokens + output_ntokens + input_nchars, \n",
    "               data=rot13encdist_gpt4_df)\n",
    "model_dist35 <- glm(distance ~ input_logprob + output_logprob + input_ntokens + output_ntokens + input_nchars, \n",
    "               data=rot13encdist_gpt35_df)"
   ]
  },
  {
   "cell_type": "code",
   "execution_count": 23,
   "id": "59cc14af",
   "metadata": {},
   "outputs": [
    {
     "data": {
      "text/plain": [
       "\n",
       "Call:\n",
       "glm(formula = distance ~ input_logprob + output_logprob + input_ntokens + \n",
       "    output_ntokens + input_nchars, data = rot13encdist_gpt4_df)\n",
       "\n",
       "Deviance Residuals: \n",
       "     Min        1Q    Median        3Q       Max  \n",
       "-1.33914  -0.34787  -0.03202   0.29298   2.81865  \n",
       "\n",
       "Coefficients:\n",
       "                 Estimate Std. Error t value Pr(>|t|)    \n",
       "(Intercept)    -2.046e-16  3.254e-02   0.000  1.00000    \n",
       "input_logprob  -1.339e-01  4.522e-02  -2.960  0.00333 ** \n",
       "output_logprob -1.418e-01  3.300e-01  -0.430  0.66777    \n",
       "input_ntokens  -1.138e+00  1.219e-01  -9.337  < 2e-16 ***\n",
       "output_ntokens  1.029e+00  3.292e-01   3.126  0.00195 ** \n",
       "input_nchars    5.795e-01  4.344e-01   1.334  0.18315    \n",
       "---\n",
       "Signif. codes:  0 ‘***’ 0.001 ‘**’ 0.01 ‘*’ 0.05 ‘.’ 0.1 ‘ ’ 1\n",
       "\n",
       "(Dispersion parameter for gaussian family taken to be 0.3177005)\n",
       "\n",
       "    Null deviance: 299.000  on 299  degrees of freedom\n",
       "Residual deviance:  93.404  on 294  degrees of freedom\n",
       "AIC: 515.31\n",
       "\n",
       "Number of Fisher Scoring iterations: 2\n"
      ]
     },
     "metadata": {},
     "output_type": "display_data"
    }
   ],
   "source": [
    "summary(model_dist4)"
   ]
  },
  {
   "cell_type": "code",
   "execution_count": 24,
   "id": "c0e30ef3",
   "metadata": {},
   "outputs": [
    {
     "data": {
      "text/plain": [
       "\n",
       "Call:\n",
       "glm(formula = distance ~ input_logprob + output_logprob + input_ntokens + \n",
       "    output_ntokens + input_nchars, data = rot13encdist_gpt35_df)\n",
       "\n",
       "Deviance Residuals: \n",
       "    Min       1Q   Median       3Q      Max  \n",
       "-1.1784  -0.2853  -0.0955   0.0689  10.0305  \n",
       "\n",
       "Coefficients:\n",
       "                 Estimate Std. Error t value Pr(>|t|)   \n",
       "(Intercept)    -9.139e-16  5.090e-02   0.000  1.00000   \n",
       "input_logprob  -2.170e-01  7.074e-02  -3.067  0.00236 **\n",
       "output_logprob  9.036e-01  5.162e-01   1.751  0.08107 . \n",
       "input_ntokens  -5.331e-01  1.906e-01  -2.797  0.00550 **\n",
       "output_ntokens  8.194e-01  5.150e-01   1.591  0.11267   \n",
       "input_nchars    8.817e-01  6.794e-01   1.298  0.19540   \n",
       "---\n",
       "Signif. codes:  0 ‘***’ 0.001 ‘**’ 0.01 ‘*’ 0.05 ‘.’ 0.1 ‘ ’ 1\n",
       "\n",
       "(Dispersion parameter for gaussian family taken to be 0.7773369)\n",
       "\n",
       "    Null deviance: 299.00  on 299  degrees of freedom\n",
       "Residual deviance: 228.54  on 294  degrees of freedom\n",
       "AIC: 783.74\n",
       "\n",
       "Number of Fisher Scoring iterations: 2\n"
      ]
     },
     "metadata": {},
     "output_type": "display_data"
    }
   ],
   "source": [
    "summary(model_dist35)"
   ]
  },
  {
   "cell_type": "code",
   "execution_count": 25,
   "id": "c465a566",
   "metadata": {},
   "outputs": [
    {
     "data": {
      "text/html": [
       "<style>\n",
       ".dl-inline {width: auto; margin:0; padding: 0}\n",
       ".dl-inline>dt, .dl-inline>dd {float: none; width: auto; display: inline-block}\n",
       ".dl-inline>dt::after {content: \":\\0020\"; padding-right: .5ex}\n",
       ".dl-inline>dt:not(:first-of-type) {padding-left: .5ex}\n",
       "</style><dl class=dl-inline><dt>input_logprob</dt><dd>1.92485309391984</dd><dt>output_logprob</dt><dd>102.499746421758</dd><dt>input_ntokens</dt><dd>13.9745096029656</dd><dt>output_ntokens</dt><dd>102.010820754359</dd><dt>input_nchars</dt><dd>177.565291922911</dd></dl>\n"
      ],
      "text/latex": [
       "\\begin{description*}\n",
       "\\item[input\\textbackslash{}\\_logprob] 1.92485309391984\n",
       "\\item[output\\textbackslash{}\\_logprob] 102.499746421758\n",
       "\\item[input\\textbackslash{}\\_ntokens] 13.9745096029656\n",
       "\\item[output\\textbackslash{}\\_ntokens] 102.010820754359\n",
       "\\item[input\\textbackslash{}\\_nchars] 177.565291922911\n",
       "\\end{description*}\n"
      ],
      "text/markdown": [
       "input_logprob\n",
       ":   1.92485309391984output_logprob\n",
       ":   102.499746421758input_ntokens\n",
       ":   13.9745096029656output_ntokens\n",
       ":   102.010820754359input_nchars\n",
       ":   177.565291922911\n",
       "\n"
      ],
      "text/plain": [
       " input_logprob output_logprob  input_ntokens output_ntokens   input_nchars \n",
       "      1.924853     102.499746      13.974510     102.010821     177.565292 "
      ]
     },
     "metadata": {},
     "output_type": "display_data"
    }
   ],
   "source": [
    "vif(model_dist4)"
   ]
  },
  {
   "cell_type": "code",
   "execution_count": 26,
   "id": "004b904a",
   "metadata": {},
   "outputs": [
    {
     "data": {
      "text/html": [
       "<style>\n",
       ".dl-inline {width: auto; margin:0; padding: 0}\n",
       ".dl-inline>dt, .dl-inline>dd {float: none; width: auto; display: inline-block}\n",
       ".dl-inline>dt::after {content: \":\\0020\"; padding-right: .5ex}\n",
       ".dl-inline>dt:not(:first-of-type) {padding-left: .5ex}\n",
       "</style><dl class=dl-inline><dt>input_logprob</dt><dd>1.92485309391984</dd><dt>output_logprob</dt><dd>102.499746421758</dd><dt>input_ntokens</dt><dd>13.9745096029656</dd><dt>output_ntokens</dt><dd>102.010820754359</dd><dt>input_nchars</dt><dd>177.565291922911</dd></dl>\n"
      ],
      "text/latex": [
       "\\begin{description*}\n",
       "\\item[input\\textbackslash{}\\_logprob] 1.92485309391984\n",
       "\\item[output\\textbackslash{}\\_logprob] 102.499746421758\n",
       "\\item[input\\textbackslash{}\\_ntokens] 13.9745096029656\n",
       "\\item[output\\textbackslash{}\\_ntokens] 102.010820754359\n",
       "\\item[input\\textbackslash{}\\_nchars] 177.565291922911\n",
       "\\end{description*}\n"
      ],
      "text/markdown": [
       "input_logprob\n",
       ":   1.92485309391984output_logprob\n",
       ":   102.499746421758input_ntokens\n",
       ":   13.9745096029656output_ntokens\n",
       ":   102.010820754359input_nchars\n",
       ":   177.565291922911\n",
       "\n"
      ],
      "text/plain": [
       " input_logprob output_logprob  input_ntokens output_ntokens   input_nchars \n",
       "      1.924853     102.499746      13.974510     102.010821     177.565292 "
      ]
     },
     "metadata": {},
     "output_type": "display_data"
    }
   ],
   "source": [
    "vif(model_dist35)"
   ]
  },
  {
   "cell_type": "code",
   "execution_count": null,
   "id": "f51ce557",
   "metadata": {},
   "outputs": [],
   "source": []
  },
  {
   "cell_type": "markdown",
   "id": "fd151a41",
   "metadata": {},
   "source": [
    "### Comparing rot-2 to rot-13"
   ]
  },
  {
   "cell_type": "code",
   "execution_count": 27,
   "id": "de4b1d37",
   "metadata": {},
   "outputs": [],
   "source": [
    "# Read in data\n",
    "rot13and2enc_gpt4_df <- read.table(file = 'table_rot13and2enc_gpt-4-0613.tsv', sep = '\\t', header = TRUE)\n",
    "rot13and2enc_gpt35_df <- read.table(file = 'table_rot13and2enc_gpt-3.5-turbo-0613.tsv', sep = '\\t', header = TRUE)\n",
    "\n",
    "rot13and2dec_gpt4_df <- read.table(file = 'table_rot13and2dec_gpt-4-0613.tsv', sep = '\\t', header = TRUE)\n",
    "rot13and2dec_gpt35_df <- read.table(file = 'table_rot13and2dec_gpt-3.5-turbo-0613.tsv', sep = '\\t', header = TRUE)"
   ]
  },
  {
   "cell_type": "code",
   "execution_count": 28,
   "id": "55e30c83",
   "metadata": {},
   "outputs": [],
   "source": [
    "# Z-score data\n",
    "scaled_rot13and2enc_gpt4_df <- scale_taskpair_df(rot13and2enc_gpt4_df)\n",
    "scaled_rot13and2enc_gpt35_df <- scale_taskpair_df(rot13and2enc_gpt35_df)\n",
    "\n",
    "scaled_rot13and2dec_gpt4_df <- scale_taskpair_df(rot13and2dec_gpt4_df)\n",
    "scaled_rot13and2dec_gpt35_df <- scale_taskpair_df(rot13and2dec_gpt35_df)\n"
   ]
  },
  {
   "cell_type": "code",
   "execution_count": 34,
   "id": "d78ca3c7",
   "metadata": {},
   "outputs": [],
   "source": [
    "model_taskenc4 <- bayesglm(correct ~ task + input_nchars + input_ntokens + output_ntokens + input_logprob + output_logprob, \n",
    "               data=scaled_rot13and2enc_gpt4_df, family=binomial)\n"
   ]
  },
  {
   "cell_type": "code",
   "execution_count": 35,
   "id": "205011ef",
   "metadata": {},
   "outputs": [],
   "source": [
    "model_taskenc35 <- bayesglm(correct ~ task + input_nchars + input_ntokens + output_ntokens + input_logprob + output_logprob, \n",
    "               data=scaled_rot13and2enc_gpt35_df, family=binomial)"
   ]
  },
  {
   "cell_type": "code",
   "execution_count": 36,
   "id": "0f4b2e49",
   "metadata": {},
   "outputs": [],
   "source": [
    "model_taskdec4 <- bayesglm(correct ~ task + input_nchars + input_ntokens + output_ntokens + input_logprob + output_logprob, \n",
    "               data=scaled_rot13and2dec_gpt4_df, family=binomial)"
   ]
  },
  {
   "cell_type": "code",
   "execution_count": 37,
   "id": "d29c0ca1",
   "metadata": {},
   "outputs": [],
   "source": [
    "model_taskdec35 <- bayesglm(correct ~ task + input_nchars + input_ntokens + output_ntokens + input_logprob + output_logprob, \n",
    "               data=scaled_rot13and2dec_gpt35_df, family=binomial)"
   ]
  },
  {
   "cell_type": "code",
   "execution_count": 38,
   "id": "2bfde150",
   "metadata": {},
   "outputs": [
    {
     "data": {
      "text/plain": [
       "\n",
       "Call:\n",
       "bayesglm(formula = correct ~ task + input_nchars + input_ntokens + \n",
       "    output_ntokens + input_logprob + output_logprob, family = binomial, \n",
       "    data = scaled_rot13and2enc_gpt4_df)\n",
       "\n",
       "Deviance Residuals: \n",
       "     Min        1Q    Median        3Q       Max  \n",
       "-1.27805  -0.22008  -0.07750  -0.01265   2.79444  \n",
       "\n",
       "Coefficients:\n",
       "                      Estimate Std. Error z value Pr(>|z|)    \n",
       "(Intercept)          -2.874195   0.601776  -4.776 1.79e-06 ***\n",
       "taskrot2enc_highprob -4.321099   1.546874  -2.793  0.00522 ** \n",
       "input_nchars         -0.005755   1.059544  -0.005  0.99567    \n",
       "input_ntokens         2.000505   0.883266   2.265  0.02352 *  \n",
       "output_ntokens       -1.134385   1.281776  -0.885  0.37615    \n",
       "input_logprob         0.889370   0.735783   1.209  0.22676    \n",
       "output_logprob        2.584170   1.456150   1.775  0.07595 .  \n",
       "---\n",
       "Signif. codes:  0 ‘***’ 0.001 ‘**’ 0.01 ‘*’ 0.05 ‘.’ 0.1 ‘ ’ 1\n",
       "\n",
       "(Dispersion parameter for binomial family taken to be 1)\n",
       "\n",
       "    Null deviance: 134.373  on 199  degrees of freedom\n",
       "Residual deviance:  67.278  on 193  degrees of freedom\n",
       "AIC: 81.278\n",
       "\n",
       "Number of Fisher Scoring iterations: 62\n"
      ]
     },
     "metadata": {},
     "output_type": "display_data"
    }
   ],
   "source": [
    "summary(model_taskenc4)"
   ]
  },
  {
   "cell_type": "code",
   "execution_count": 39,
   "id": "e441e3f0",
   "metadata": {},
   "outputs": [
    {
     "data": {
      "text/plain": [
       "\n",
       "Call:\n",
       "bayesglm(formula = correct ~ task + input_nchars + input_ntokens + \n",
       "    output_ntokens + input_logprob + output_logprob, family = binomial, \n",
       "    data = scaled_rot13and2enc_gpt35_df)\n",
       "\n",
       "Deviance Residuals: \n",
       "     Min        1Q    Median        3Q       Max  \n",
       "-0.43256  -0.15092  -0.08247  -0.03489   2.66220  \n",
       "\n",
       "Coefficients:\n",
       "                     Estimate Std. Error z value Pr(>|z|)    \n",
       "(Intercept)           -5.2207     1.4545  -3.589 0.000332 ***\n",
       "taskrot2enc_highprob  -1.5693     1.4745  -1.064 0.287186    \n",
       "input_nchars          -0.5423     1.1370  -0.477 0.633374    \n",
       "input_ntokens          0.2442     1.0284   0.237 0.812345    \n",
       "output_ntokens        -0.3968     1.1269  -0.352 0.724741    \n",
       "input_logprob          0.8289     1.1217   0.739 0.459945    \n",
       "output_logprob         0.5643     1.1385   0.496 0.620125    \n",
       "---\n",
       "Signif. codes:  0 ‘***’ 0.001 ‘**’ 0.01 ‘*’ 0.05 ‘.’ 0.1 ‘ ’ 1\n",
       "\n",
       "(Dispersion parameter for binomial family taken to be 1)\n",
       "\n",
       "    Null deviance: 22.401  on 199  degrees of freedom\n",
       "Residual deviance: 15.760  on 193  degrees of freedom\n",
       "AIC: 29.76\n",
       "\n",
       "Number of Fisher Scoring iterations: 30\n"
      ]
     },
     "metadata": {},
     "output_type": "display_data"
    }
   ],
   "source": [
    "summary(model_taskenc35)"
   ]
  },
  {
   "cell_type": "code",
   "execution_count": 40,
   "id": "145abe18",
   "metadata": {},
   "outputs": [
    {
     "data": {
      "text/plain": [
       "\n",
       "Call:\n",
       "bayesglm(formula = correct ~ task + input_nchars + input_ntokens + \n",
       "    output_ntokens + input_logprob + output_logprob, family = binomial, \n",
       "    data = scaled_rot13and2dec_gpt4_df)\n",
       "\n",
       "Deviance Residuals: \n",
       "    Min       1Q   Median       3Q      Max  \n",
       "-1.4359  -0.4123  -0.2432   0.7928   2.6442  \n",
       "\n",
       "Coefficients:\n",
       "                     Estimate Std. Error z value Pr(>|z|)    \n",
       "(Intercept)           -0.1211     0.2446  -0.495   0.6205    \n",
       "taskrot2dec_highprob  -3.3529     0.6169  -5.435 5.49e-08 ***\n",
       "input_nchars           0.3561     0.8967   0.397   0.6913    \n",
       "input_ntokens         -0.7574     0.9265  -0.818   0.4136    \n",
       "output_ntokens         0.9942     0.5949   1.671   0.0947 .  \n",
       "input_logprob          0.1798     0.8221   0.219   0.8268    \n",
       "output_logprob         1.0907     0.5100   2.139   0.0325 *  \n",
       "---\n",
       "Signif. codes:  0 ‘***’ 0.001 ‘**’ 0.01 ‘*’ 0.05 ‘.’ 0.1 ‘ ’ 1\n",
       "\n",
       "(Dispersion parameter for binomial family taken to be 1)\n",
       "\n",
       "    Null deviance: 233.30  on 199  degrees of freedom\n",
       "Residual deviance: 149.51  on 193  degrees of freedom\n",
       "AIC: 163.51\n",
       "\n",
       "Number of Fisher Scoring iterations: 17\n"
      ]
     },
     "metadata": {},
     "output_type": "display_data"
    }
   ],
   "source": [
    "summary(model_taskdec4)"
   ]
  },
  {
   "cell_type": "code",
   "execution_count": 41,
   "id": "c7279a19",
   "metadata": {},
   "outputs": [
    {
     "data": {
      "text/plain": [
       "\n",
       "Call:\n",
       "bayesglm(formula = correct ~ task + input_nchars + input_ntokens + \n",
       "    output_ntokens + input_logprob + output_logprob, family = binomial, \n",
       "    data = scaled_rot13and2dec_gpt35_df)\n",
       "\n",
       "Deviance Residuals: \n",
       "     Min        1Q    Median        3Q       Max  \n",
       "-1.28128  -0.30361  -0.09751  -0.02439   2.29539  \n",
       "\n",
       "Coefficients:\n",
       "                     Estimate Std. Error z value Pr(>|z|)    \n",
       "(Intercept)           -2.3690     0.4916  -4.819 1.44e-06 ***\n",
       "taskrot2dec_highprob  -4.3845     1.5528  -2.824  0.00475 ** \n",
       "input_nchars          -0.1466     0.9843  -0.149  0.88156    \n",
       "input_ntokens         -0.8970     1.1125  -0.806  0.42011    \n",
       "output_ntokens         2.1699     0.8523   2.546  0.01090 *  \n",
       "input_logprob          0.7821     1.0182   0.768  0.44244    \n",
       "output_logprob         2.3148     0.8666   2.671  0.00756 ** \n",
       "---\n",
       "Signif. codes:  0 ‘***’ 0.001 ‘**’ 0.01 ‘*’ 0.05 ‘.’ 0.1 ‘ ’ 1\n",
       "\n",
       "(Dispersion parameter for binomial family taken to be 1)\n",
       "\n",
       "    Null deviance: 134.373  on 199  degrees of freedom\n",
       "Residual deviance:  72.143  on 193  degrees of freedom\n",
       "AIC: 86.143\n",
       "\n",
       "Number of Fisher Scoring iterations: 27\n"
      ]
     },
     "metadata": {},
     "output_type": "display_data"
    }
   ],
   "source": [
    "summary(model_taskdec35)"
   ]
  },
  {
   "cell_type": "code",
   "execution_count": 42,
   "id": "e1a35d65",
   "metadata": {},
   "outputs": [
    {
     "data": {
      "text/html": [
       "<style>\n",
       ".dl-inline {width: auto; margin:0; padding: 0}\n",
       ".dl-inline>dt, .dl-inline>dd {float: none; width: auto; display: inline-block}\n",
       ".dl-inline>dt::after {content: \":\\0020\"; padding-right: .5ex}\n",
       ".dl-inline>dt:not(:first-of-type) {padding-left: .5ex}\n",
       "</style><dl class=dl-inline><dt>task</dt><dd>1.01320444544886</dd><dt>input_nchars</dt><dd>3.80153819337455</dd><dt>input_ntokens</dt><dd>3.67485067660211</dd><dt>output_ntokens</dt><dd>4.27191256361652</dd><dt>input_logprob</dt><dd>2.04925397500348</dd><dt>output_logprob</dt><dd>5.34296459638828</dd></dl>\n"
      ],
      "text/latex": [
       "\\begin{description*}\n",
       "\\item[task] 1.01320444544886\n",
       "\\item[input\\textbackslash{}\\_nchars] 3.80153819337455\n",
       "\\item[input\\textbackslash{}\\_ntokens] 3.67485067660211\n",
       "\\item[output\\textbackslash{}\\_ntokens] 4.27191256361652\n",
       "\\item[input\\textbackslash{}\\_logprob] 2.04925397500348\n",
       "\\item[output\\textbackslash{}\\_logprob] 5.34296459638828\n",
       "\\end{description*}\n"
      ],
      "text/markdown": [
       "task\n",
       ":   1.01320444544886input_nchars\n",
       ":   3.80153819337455input_ntokens\n",
       ":   3.67485067660211output_ntokens\n",
       ":   4.27191256361652input_logprob\n",
       ":   2.04925397500348output_logprob\n",
       ":   5.34296459638828\n",
       "\n"
      ],
      "text/plain": [
       "          task   input_nchars  input_ntokens output_ntokens  input_logprob \n",
       "      1.013204       3.801538       3.674851       4.271913       2.049254 \n",
       "output_logprob \n",
       "      5.342965 "
      ]
     },
     "metadata": {},
     "output_type": "display_data"
    }
   ],
   "source": [
    "vif(model_taskenc4)"
   ]
  },
  {
   "cell_type": "code",
   "execution_count": 43,
   "id": "a5c6dd2e",
   "metadata": {},
   "outputs": [
    {
     "data": {
      "text/html": [
       "<style>\n",
       ".dl-inline {width: auto; margin:0; padding: 0}\n",
       ".dl-inline>dt, .dl-inline>dd {float: none; width: auto; display: inline-block}\n",
       ".dl-inline>dt::after {content: \":\\0020\"; padding-right: .5ex}\n",
       ".dl-inline>dt:not(:first-of-type) {padding-left: .5ex}\n",
       "</style><dl class=dl-inline><dt>task</dt><dd>1.00623326707618</dd><dt>input_nchars</dt><dd>1.30349244924453</dd><dt>input_ntokens</dt><dd>1.23069027524675</dd><dt>output_ntokens</dt><dd>1.25580726107032</dd><dt>input_logprob</dt><dd>1.20746767913302</dd><dt>output_logprob</dt><dd>1.2938344692887</dd></dl>\n"
      ],
      "text/latex": [
       "\\begin{description*}\n",
       "\\item[task] 1.00623326707618\n",
       "\\item[input\\textbackslash{}\\_nchars] 1.30349244924453\n",
       "\\item[input\\textbackslash{}\\_ntokens] 1.23069027524675\n",
       "\\item[output\\textbackslash{}\\_ntokens] 1.25580726107032\n",
       "\\item[input\\textbackslash{}\\_logprob] 1.20746767913302\n",
       "\\item[output\\textbackslash{}\\_logprob] 1.2938344692887\n",
       "\\end{description*}\n"
      ],
      "text/markdown": [
       "task\n",
       ":   1.00623326707618input_nchars\n",
       ":   1.30349244924453input_ntokens\n",
       ":   1.23069027524675output_ntokens\n",
       ":   1.25580726107032input_logprob\n",
       ":   1.20746767913302output_logprob\n",
       ":   1.2938344692887\n",
       "\n"
      ],
      "text/plain": [
       "          task   input_nchars  input_ntokens output_ntokens  input_logprob \n",
       "      1.006233       1.303492       1.230690       1.255807       1.207468 \n",
       "output_logprob \n",
       "      1.293834 "
      ]
     },
     "metadata": {},
     "output_type": "display_data"
    }
   ],
   "source": [
    "vif(model_taskenc35)"
   ]
  },
  {
   "cell_type": "code",
   "execution_count": 44,
   "id": "22bdb22e",
   "metadata": {},
   "outputs": [
    {
     "data": {
      "text/html": [
       "<style>\n",
       ".dl-inline {width: auto; margin:0; padding: 0}\n",
       ".dl-inline>dt, .dl-inline>dd {float: none; width: auto; display: inline-block}\n",
       ".dl-inline>dt::after {content: \":\\0020\"; padding-right: .5ex}\n",
       ".dl-inline>dt:not(:first-of-type) {padding-left: .5ex}\n",
       "</style><dl class=dl-inline><dt>task</dt><dd>1.1203054190514</dd><dt>input_nchars</dt><dd>17.6992551661671</dd><dt>input_ntokens</dt><dd>15.7169250810466</dd><dt>output_ntokens</dt><dd>8.33961919397614</dd><dt>input_logprob</dt><dd>14.0352686005221</dd><dt>output_logprob</dt><dd>5.43357567006994</dd></dl>\n"
      ],
      "text/latex": [
       "\\begin{description*}\n",
       "\\item[task] 1.1203054190514\n",
       "\\item[input\\textbackslash{}\\_nchars] 17.6992551661671\n",
       "\\item[input\\textbackslash{}\\_ntokens] 15.7169250810466\n",
       "\\item[output\\textbackslash{}\\_ntokens] 8.33961919397614\n",
       "\\item[input\\textbackslash{}\\_logprob] 14.0352686005221\n",
       "\\item[output\\textbackslash{}\\_logprob] 5.43357567006994\n",
       "\\end{description*}\n"
      ],
      "text/markdown": [
       "task\n",
       ":   1.1203054190514input_nchars\n",
       ":   17.6992551661671input_ntokens\n",
       ":   15.7169250810466output_ntokens\n",
       ":   8.33961919397614input_logprob\n",
       ":   14.0352686005221output_logprob\n",
       ":   5.43357567006994\n",
       "\n"
      ],
      "text/plain": [
       "          task   input_nchars  input_ntokens output_ntokens  input_logprob \n",
       "      1.120305      17.699255      15.716925       8.339619      14.035269 \n",
       "output_logprob \n",
       "      5.433576 "
      ]
     },
     "metadata": {},
     "output_type": "display_data"
    }
   ],
   "source": [
    "vif(model_taskdec4)"
   ]
  },
  {
   "cell_type": "code",
   "execution_count": 45,
   "id": "46463252",
   "metadata": {},
   "outputs": [
    {
     "data": {
      "text/html": [
       "<style>\n",
       ".dl-inline {width: auto; margin:0; padding: 0}\n",
       ".dl-inline>dt, .dl-inline>dd {float: none; width: auto; display: inline-block}\n",
       ".dl-inline>dt::after {content: \":\\0020\"; padding-right: .5ex}\n",
       ".dl-inline>dt:not(:first-of-type) {padding-left: .5ex}\n",
       "</style><dl class=dl-inline><dt>task</dt><dd>1.01245316487711</dd><dt>input_nchars</dt><dd>4.67764792984726</dd><dt>input_ntokens</dt><dd>4.79939190032151</dd><dt>output_ntokens</dt><dd>4.38401234181348</dd><dt>input_logprob</dt><dd>4.60644035659253</dd><dt>output_logprob</dt><dd>2.78455722127367</dd></dl>\n"
      ],
      "text/latex": [
       "\\begin{description*}\n",
       "\\item[task] 1.01245316487711\n",
       "\\item[input\\textbackslash{}\\_nchars] 4.67764792984726\n",
       "\\item[input\\textbackslash{}\\_ntokens] 4.79939190032151\n",
       "\\item[output\\textbackslash{}\\_ntokens] 4.38401234181348\n",
       "\\item[input\\textbackslash{}\\_logprob] 4.60644035659253\n",
       "\\item[output\\textbackslash{}\\_logprob] 2.78455722127367\n",
       "\\end{description*}\n"
      ],
      "text/markdown": [
       "task\n",
       ":   1.01245316487711input_nchars\n",
       ":   4.67764792984726input_ntokens\n",
       ":   4.79939190032151output_ntokens\n",
       ":   4.38401234181348input_logprob\n",
       ":   4.60644035659253output_logprob\n",
       ":   2.78455722127367\n",
       "\n"
      ],
      "text/plain": [
       "          task   input_nchars  input_ntokens output_ntokens  input_logprob \n",
       "      1.012453       4.677648       4.799392       4.384012       4.606440 \n",
       "output_logprob \n",
       "      2.784557 "
      ]
     },
     "metadata": {},
     "output_type": "display_data"
    }
   ],
   "source": [
    "vif(model_taskdec35)"
   ]
  },
  {
   "cell_type": "code",
   "execution_count": null,
   "id": "a88d049d",
   "metadata": {},
   "outputs": [],
   "source": []
  },
  {
   "cell_type": "markdown",
   "id": "0b38ab57",
   "metadata": {},
   "source": [
    "### Input and output logprob for different prompt styles"
   ]
  },
  {
   "cell_type": "code",
   "execution_count": 46,
   "id": "d38f6d9f",
   "metadata": {},
   "outputs": [],
   "source": [
    "# Read in data\n",
    "rot13encbasic_gpt4_df <- read.table(file = 'table_rot13enc_gpt-4-0613.tsv', sep = '\\t', header = TRUE)\n",
    "rot13decbasic_gpt4_df <- read.table(file = 'table_rot13dec_gpt-4-0613.tsv', sep = '\\t', header = TRUE)\n",
    "\n",
    "rot13encstep_gpt4_df <- read.table(file = 'table_rot13encstep_gpt-4-0613.tsv', sep = '\\t', header = TRUE)\n",
    "rot13decstep_gpt4_df <- read.table(file = 'table_rot13decstep_gpt-4-0613.tsv', sep = '\\t', header = TRUE)\n",
    "\n",
    "rot13enccot_gpt4_df <- read.table(file = 'table_rot13enccot_gpt-4-0613.tsv', sep = '\\t', header = TRUE)\n",
    "rot13deccot_gpt4_df <- read.table(file = 'table_rot13deccot_gpt-4-0613.tsv', sep = '\\t', header = TRUE)\n"
   ]
  },
  {
   "cell_type": "code",
   "execution_count": 47,
   "id": "582baf4a",
   "metadata": {},
   "outputs": [],
   "source": [
    "# Z-score data\n",
    "scaled_rot13encbasic_gpt4_df <- scale_df(rot13encbasic_gpt4_df)\n",
    "scaled_rot13decbasic_gpt4_df <- scale_df(rot13decbasic_gpt4_df)\n",
    "\n",
    "scaled_rot13encstep_gpt4_df <- scale_df(rot13encstep_gpt4_df)\n",
    "scaled_rot13decstep_gpt4_df <- scale_df(rot13decstep_gpt4_df)\n",
    "\n",
    "scaled_rot13enccot_gpt4_df <- scale_df(rot13enccot_gpt4_df)\n",
    "scaled_rot13deccot_gpt4_df <- scale_df(rot13deccot_gpt4_df)\n"
   ]
  },
  {
   "cell_type": "code",
   "execution_count": 48,
   "id": "b51b8ff6",
   "metadata": {},
   "outputs": [],
   "source": [
    "rot13encbasic_gpt4_model <- correct_vs_length_and_prob(scaled_rot13encbasic_gpt4_df, include_output_chars=FALSE)\n",
    "rot13decbasic_gpt4_model <- correct_vs_length_and_prob(scaled_rot13decbasic_gpt4_df, include_output_chars=FALSE)\n",
    "\n",
    "rot13encstep_gpt4_model <- correct_vs_length_and_prob(scaled_rot13encstep_gpt4_df, include_output_chars=FALSE)\n",
    "rot13decstep_gpt4_model <- correct_vs_length_and_prob(scaled_rot13decstep_gpt4_df, include_output_chars=FALSE)\n",
    "\n",
    "rot13enccot_gpt4_model <- correct_vs_length_and_prob(scaled_rot13enccot_gpt4_df, include_output_chars=FALSE)\n",
    "rot13deccot_gpt4_model <- correct_vs_length_and_prob(scaled_rot13deccot_gpt4_df, include_output_chars=FALSE)\n",
    "\n"
   ]
  },
  {
   "cell_type": "code",
   "execution_count": 49,
   "id": "8e78c3e7",
   "metadata": {},
   "outputs": [
    {
     "data": {
      "text/plain": [
       "\n",
       "Call:\n",
       "glm(formula = correct ~ input_logprob + output_logprob + input_ntokens + \n",
       "    output_ntokens + input_nchars, family = binomial, data = df)\n",
       "\n",
       "Deviance Residuals: \n",
       "     Min        1Q    Median        3Q       Max  \n",
       "-1.99812  -0.44168  -0.14960  -0.01557   2.95372  \n",
       "\n",
       "Coefficients:\n",
       "               Estimate Std. Error z value Pr(>|z|)    \n",
       "(Intercept)     -4.1263     0.5728  -7.204 5.84e-13 ***\n",
       "input_logprob    1.2287     0.4840   2.539  0.01112 *  \n",
       "output_logprob   7.8371     3.2790   2.390  0.01684 *  \n",
       "input_ntokens    2.7704     0.9766   2.837  0.00456 ** \n",
       "output_ntokens  -0.9145     2.5316  -0.361  0.71793    \n",
       "input_nchars     3.5012     3.3936   1.032  0.30221    \n",
       "---\n",
       "Signif. codes:  0 ‘***’ 0.001 ‘**’ 0.01 ‘*’ 0.05 ‘.’ 0.1 ‘ ’ 1\n",
       "\n",
       "(Dispersion parameter for binomial family taken to be 1)\n",
       "\n",
       "    Null deviance: 242.98  on 299  degrees of freedom\n",
       "Residual deviance: 155.44  on 294  degrees of freedom\n",
       "AIC: 167.44\n",
       "\n",
       "Number of Fisher Scoring iterations: 7\n"
      ]
     },
     "metadata": {},
     "output_type": "display_data"
    }
   ],
   "source": [
    "summary(rot13encbasic_gpt4_model)"
   ]
  },
  {
   "cell_type": "code",
   "execution_count": 50,
   "id": "d448e35a",
   "metadata": {},
   "outputs": [
    {
     "data": {
      "text/plain": [
       "\n",
       "Call:\n",
       "glm(formula = correct ~ input_logprob + output_logprob + input_ntokens + \n",
       "    output_ntokens + input_nchars, family = binomial, data = df)\n",
       "\n",
       "Deviance Residuals: \n",
       "    Min       1Q   Median       3Q      Max  \n",
       "-1.5419  -0.8313  -0.4035   0.9128   2.6598  \n",
       "\n",
       "Coefficients:\n",
       "               Estimate Std. Error z value Pr(>|z|)    \n",
       "(Intercept)     -1.4549     0.2014  -7.224 5.04e-13 ***\n",
       "input_logprob    0.8315     1.7469   0.476    0.634    \n",
       "output_logprob   1.9277     0.3396   5.676 1.38e-08 ***\n",
       "input_ntokens   -2.5684     1.6014  -1.604    0.109    \n",
       "output_ntokens   0.8680     0.6047   1.436    0.151    \n",
       "input_nchars     2.8939     2.0645   1.402    0.161    \n",
       "---\n",
       "Signif. codes:  0 ‘***’ 0.001 ‘**’ 0.01 ‘*’ 0.05 ‘.’ 0.1 ‘ ’ 1\n",
       "\n",
       "(Dispersion parameter for binomial family taken to be 1)\n",
       "\n",
       "    Null deviance: 359.48  on 299  degrees of freedom\n",
       "Residual deviance: 286.22  on 294  degrees of freedom\n",
       "AIC: 298.22\n",
       "\n",
       "Number of Fisher Scoring iterations: 6\n"
      ]
     },
     "metadata": {},
     "output_type": "display_data"
    }
   ],
   "source": [
    "summary(rot13decbasic_gpt4_model)"
   ]
  },
  {
   "cell_type": "code",
   "execution_count": 51,
   "id": "273159ec",
   "metadata": {},
   "outputs": [
    {
     "data": {
      "text/plain": [
       "\n",
       "Call:\n",
       "glm(formula = correct ~ input_logprob + output_logprob + input_ntokens + \n",
       "    output_ntokens + input_nchars, family = binomial, data = df)\n",
       "\n",
       "Deviance Residuals: \n",
       "     Min        1Q    Median        3Q       Max  \n",
       "-1.73379  -0.51483  -0.20383  -0.03238   2.75493  \n",
       "\n",
       "Coefficients:\n",
       "               Estimate Std. Error z value Pr(>|z|)    \n",
       "(Intercept)     -3.5963     0.4842  -7.427 1.11e-13 ***\n",
       "input_logprob    0.8294     0.4394   1.888   0.0591 .  \n",
       "output_logprob   6.8981     3.0990   2.226   0.0260 *  \n",
       "input_ntokens    2.1459     0.9113   2.355   0.0185 *  \n",
       "output_ntokens   0.4738     2.4126   0.196   0.8443    \n",
       "input_nchars     2.1449     3.1837   0.674   0.5005    \n",
       "---\n",
       "Signif. codes:  0 ‘***’ 0.001 ‘**’ 0.01 ‘*’ 0.05 ‘.’ 0.1 ‘ ’ 1\n",
       "\n",
       "(Dispersion parameter for binomial family taken to be 1)\n",
       "\n",
       "    Null deviance: 235.60  on 299  degrees of freedom\n",
       "Residual deviance: 166.53  on 294  degrees of freedom\n",
       "AIC: 178.53\n",
       "\n",
       "Number of Fisher Scoring iterations: 7\n"
      ]
     },
     "metadata": {},
     "output_type": "display_data"
    }
   ],
   "source": [
    "summary(rot13encstep_gpt4_model)"
   ]
  },
  {
   "cell_type": "code",
   "execution_count": 52,
   "id": "8389b2de",
   "metadata": {},
   "outputs": [
    {
     "data": {
      "text/plain": [
       "\n",
       "Call:\n",
       "glm(formula = correct ~ input_logprob + output_logprob + input_ntokens + \n",
       "    output_ntokens + input_nchars, family = binomial, data = df)\n",
       "\n",
       "Deviance Residuals: \n",
       "    Min       1Q   Median       3Q      Max  \n",
       "-1.6949  -0.8505  -0.4023   0.8993   2.9190  \n",
       "\n",
       "Coefficients:\n",
       "               Estimate Std. Error z value Pr(>|z|)    \n",
       "(Intercept)     -0.9967     0.1704  -5.849 4.95e-09 ***\n",
       "input_logprob    1.1856     1.6961   0.699  0.48452    \n",
       "output_logprob   1.5328     0.2829   5.418 6.03e-08 ***\n",
       "input_ntokens   -1.9730     1.5372  -1.283  0.19933    \n",
       "output_ntokens   1.5806     0.6061   2.608  0.00911 ** \n",
       "input_nchars     1.5266     1.9743   0.773  0.43938    \n",
       "---\n",
       "Signif. codes:  0 ‘***’ 0.001 ‘**’ 0.01 ‘*’ 0.05 ‘.’ 0.1 ‘ ’ 1\n",
       "\n",
       "(Dispersion parameter for binomial family taken to be 1)\n",
       "\n",
       "    Null deviance: 390.89  on 299  degrees of freedom\n",
       "Residual deviance: 307.37  on 294  degrees of freedom\n",
       "AIC: 319.37\n",
       "\n",
       "Number of Fisher Scoring iterations: 5\n"
      ]
     },
     "metadata": {},
     "output_type": "display_data"
    }
   ],
   "source": [
    "summary(rot13decstep_gpt4_model)"
   ]
  },
  {
   "cell_type": "code",
   "execution_count": 53,
   "id": "d0f84ab7",
   "metadata": {},
   "outputs": [
    {
     "data": {
      "text/plain": [
       "\n",
       "Call:\n",
       "glm(formula = correct ~ input_logprob + output_logprob + input_ntokens + \n",
       "    output_ntokens + input_nchars, family = binomial, data = df)\n",
       "\n",
       "Deviance Residuals: \n",
       "     Min        1Q    Median        3Q       Max  \n",
       "-1.28774  -0.20523  -0.04222  -0.00230   2.98322  \n",
       "\n",
       "Coefficients:\n",
       "               Estimate Std. Error z value Pr(>|z|)    \n",
       "(Intercept)     -7.5672     1.3560  -5.581  2.4e-08 ***\n",
       "input_logprob    1.8554     0.9072   2.045   0.0408 *  \n",
       "output_logprob   7.4052     5.2162   1.420   0.1557    \n",
       "input_ntokens    4.2542     1.8051   2.357   0.0184 *  \n",
       "output_ntokens  -6.2785     4.9176  -1.277   0.2017    \n",
       "input_nchars     5.2889     5.8233   0.908   0.3638    \n",
       "---\n",
       "Signif. codes:  0 ‘***’ 0.001 ‘**’ 0.01 ‘*’ 0.05 ‘.’ 0.1 ‘ ’ 1\n",
       "\n",
       "(Dispersion parameter for binomial family taken to be 1)\n",
       "\n",
       "    Null deviance: 141.63  on 299  degrees of freedom\n",
       "Residual deviance:  77.40  on 294  degrees of freedom\n",
       "AIC: 89.4\n",
       "\n",
       "Number of Fisher Scoring iterations: 9\n"
      ]
     },
     "metadata": {},
     "output_type": "display_data"
    }
   ],
   "source": [
    "summary(rot13enccot_gpt4_model)"
   ]
  },
  {
   "cell_type": "code",
   "execution_count": 54,
   "id": "8089f0ff",
   "metadata": {},
   "outputs": [
    {
     "data": {
      "text/plain": [
       "\n",
       "Call:\n",
       "glm(formula = correct ~ input_logprob + output_logprob + input_ntokens + \n",
       "    output_ntokens + input_nchars, family = binomial, data = df)\n",
       "\n",
       "Deviance Residuals: \n",
       "    Min       1Q   Median       3Q      Max  \n",
       "-1.9243  -1.0111   0.6140   0.8735   2.4145  \n",
       "\n",
       "Coefficients:\n",
       "               Estimate Std. Error z value Pr(>|z|)    \n",
       "(Intercept)     0.16840    0.13331   1.263    0.207    \n",
       "input_logprob   0.83460    1.42938   0.584    0.559    \n",
       "output_logprob  1.29187    0.21888   5.902 3.59e-09 ***\n",
       "input_ntokens  -2.08775    1.36528  -1.529    0.126    \n",
       "output_ntokens  0.08215    0.50933   0.161    0.872    \n",
       "input_nchars    2.97586    1.83157   1.625    0.104    \n",
       "---\n",
       "Signif. codes:  0 ‘***’ 0.001 ‘**’ 0.01 ‘*’ 0.05 ‘.’ 0.1 ‘ ’ 1\n",
       "\n",
       "(Dispersion parameter for binomial family taken to be 1)\n",
       "\n",
       "    Null deviance: 412.47  on 299  degrees of freedom\n",
       "Residual deviance: 339.83  on 294  degrees of freedom\n",
       "AIC: 351.83\n",
       "\n",
       "Number of Fisher Scoring iterations: 4\n"
      ]
     },
     "metadata": {},
     "output_type": "display_data"
    }
   ],
   "source": [
    "summary(rot13deccot_gpt4_model)"
   ]
  },
  {
   "cell_type": "code",
   "execution_count": 55,
   "id": "57a0f4c8",
   "metadata": {},
   "outputs": [
    {
     "data": {
      "text/html": [
       "<style>\n",
       ".dl-inline {width: auto; margin:0; padding: 0}\n",
       ".dl-inline>dt, .dl-inline>dd {float: none; width: auto; display: inline-block}\n",
       ".dl-inline>dt::after {content: \":\\0020\"; padding-right: .5ex}\n",
       ".dl-inline>dt:not(:first-of-type) {padding-left: .5ex}\n",
       "</style><dl class=dl-inline><dt>input_logprob</dt><dd>1.17346111336558</dd><dt>output_logprob</dt><dd>42.7101769243468</dd><dt>input_ntokens</dt><dd>8.54256673160543</dd><dt>output_ntokens</dt><dd>30.4618768471764</dd><dt>input_nchars</dt><dd>54.8020602888236</dd></dl>\n"
      ],
      "text/latex": [
       "\\begin{description*}\n",
       "\\item[input\\textbackslash{}\\_logprob] 1.17346111336558\n",
       "\\item[output\\textbackslash{}\\_logprob] 42.7101769243468\n",
       "\\item[input\\textbackslash{}\\_ntokens] 8.54256673160543\n",
       "\\item[output\\textbackslash{}\\_ntokens] 30.4618768471764\n",
       "\\item[input\\textbackslash{}\\_nchars] 54.8020602888236\n",
       "\\end{description*}\n"
      ],
      "text/markdown": [
       "input_logprob\n",
       ":   1.17346111336558output_logprob\n",
       ":   42.7101769243468input_ntokens\n",
       ":   8.54256673160543output_ntokens\n",
       ":   30.4618768471764input_nchars\n",
       ":   54.8020602888236\n",
       "\n"
      ],
      "text/plain": [
       " input_logprob output_logprob  input_ntokens output_ntokens   input_nchars \n",
       "      1.173461      42.710177       8.542567      30.461877      54.802060 "
      ]
     },
     "metadata": {},
     "output_type": "display_data"
    }
   ],
   "source": [
    "vif(rot13encbasic_gpt4_model)"
   ]
  },
  {
   "cell_type": "code",
   "execution_count": 56,
   "id": "f0cce116",
   "metadata": {},
   "outputs": [
    {
     "data": {
      "text/html": [
       "<style>\n",
       ".dl-inline {width: auto; margin:0; padding: 0}\n",
       ".dl-inline>dt, .dl-inline>dd {float: none; width: auto; display: inline-block}\n",
       ".dl-inline>dt::after {content: \":\\0020\"; padding-right: .5ex}\n",
       ".dl-inline>dt:not(:first-of-type) {padding-left: .5ex}\n",
       "</style><dl class=dl-inline><dt>input_logprob</dt><dd>104.840741463267</dd><dt>output_logprob</dt><dd>1.54200685876659</dd><dt>input_ntokens</dt><dd>88.6856066838111</dd><dt>output_ntokens</dt><dd>14.1795269505361</dd><dt>input_nchars</dt><dd>149.580941489885</dd></dl>\n"
      ],
      "text/latex": [
       "\\begin{description*}\n",
       "\\item[input\\textbackslash{}\\_logprob] 104.840741463267\n",
       "\\item[output\\textbackslash{}\\_logprob] 1.54200685876659\n",
       "\\item[input\\textbackslash{}\\_ntokens] 88.6856066838111\n",
       "\\item[output\\textbackslash{}\\_ntokens] 14.1795269505361\n",
       "\\item[input\\textbackslash{}\\_nchars] 149.580941489885\n",
       "\\end{description*}\n"
      ],
      "text/markdown": [
       "input_logprob\n",
       ":   104.840741463267output_logprob\n",
       ":   1.54200685876659input_ntokens\n",
       ":   88.6856066838111output_ntokens\n",
       ":   14.1795269505361input_nchars\n",
       ":   149.580941489885\n",
       "\n"
      ],
      "text/plain": [
       " input_logprob output_logprob  input_ntokens output_ntokens   input_nchars \n",
       "    104.840741       1.542007      88.685607      14.179527     149.580941 "
      ]
     },
     "metadata": {},
     "output_type": "display_data"
    }
   ],
   "source": [
    "vif(rot13decbasic_gpt4_model)"
   ]
  },
  {
   "cell_type": "code",
   "execution_count": 57,
   "id": "2378bc76",
   "metadata": {},
   "outputs": [
    {
     "data": {
      "text/html": [
       "<style>\n",
       ".dl-inline {width: auto; margin:0; padding: 0}\n",
       ".dl-inline>dt, .dl-inline>dd {float: none; width: auto; display: inline-block}\n",
       ".dl-inline>dt::after {content: \":\\0020\"; padding-right: .5ex}\n",
       ".dl-inline>dt:not(:first-of-type) {padding-left: .5ex}\n",
       "</style><dl class=dl-inline><dt>input_logprob</dt><dd>1.2255330535875</dd><dt>output_logprob</dt><dd>45.3116363384878</dd><dt>input_ntokens</dt><dd>8.15328507665416</dd><dt>output_ntokens</dt><dd>32.4363958859591</dd><dt>input_nchars</dt><dd>55.8618713080306</dd></dl>\n"
      ],
      "text/latex": [
       "\\begin{description*}\n",
       "\\item[input\\textbackslash{}\\_logprob] 1.2255330535875\n",
       "\\item[output\\textbackslash{}\\_logprob] 45.3116363384878\n",
       "\\item[input\\textbackslash{}\\_ntokens] 8.15328507665416\n",
       "\\item[output\\textbackslash{}\\_ntokens] 32.4363958859591\n",
       "\\item[input\\textbackslash{}\\_nchars] 55.8618713080306\n",
       "\\end{description*}\n"
      ],
      "text/markdown": [
       "input_logprob\n",
       ":   1.2255330535875output_logprob\n",
       ":   45.3116363384878input_ntokens\n",
       ":   8.15328507665416output_ntokens\n",
       ":   32.4363958859591input_nchars\n",
       ":   55.8618713080306\n",
       "\n"
      ],
      "text/plain": [
       " input_logprob output_logprob  input_ntokens output_ntokens   input_nchars \n",
       "      1.225533      45.311636       8.153285      32.436396      55.861871 "
      ]
     },
     "metadata": {},
     "output_type": "display_data"
    }
   ],
   "source": [
    "vif(rot13encstep_gpt4_model)"
   ]
  },
  {
   "cell_type": "code",
   "execution_count": 58,
   "id": "89f896f9",
   "metadata": {},
   "outputs": [
    {
     "data": {
      "text/html": [
       "<style>\n",
       ".dl-inline {width: auto; margin:0; padding: 0}\n",
       ".dl-inline>dt, .dl-inline>dd {float: none; width: auto; display: inline-block}\n",
       ".dl-inline>dt::after {content: \":\\0020\"; padding-right: .5ex}\n",
       ".dl-inline>dt:not(:first-of-type) {padding-left: .5ex}\n",
       "</style><dl class=dl-inline><dt>input_logprob</dt><dd>95.9698819198181</dd><dt>output_logprob</dt><dd>1.40041965764174</dd><dt>input_ntokens</dt><dd>79.2565960490312</dd><dt>output_ntokens</dt><dd>14.3848837443789</dd><dt>input_nchars</dt><dd>133.123155355373</dd></dl>\n"
      ],
      "text/latex": [
       "\\begin{description*}\n",
       "\\item[input\\textbackslash{}\\_logprob] 95.9698819198181\n",
       "\\item[output\\textbackslash{}\\_logprob] 1.40041965764174\n",
       "\\item[input\\textbackslash{}\\_ntokens] 79.2565960490312\n",
       "\\item[output\\textbackslash{}\\_ntokens] 14.3848837443789\n",
       "\\item[input\\textbackslash{}\\_nchars] 133.123155355373\n",
       "\\end{description*}\n"
      ],
      "text/markdown": [
       "input_logprob\n",
       ":   95.9698819198181output_logprob\n",
       ":   1.40041965764174input_ntokens\n",
       ":   79.2565960490312output_ntokens\n",
       ":   14.3848837443789input_nchars\n",
       ":   133.123155355373\n",
       "\n"
      ],
      "text/plain": [
       " input_logprob output_logprob  input_ntokens output_ntokens   input_nchars \n",
       "      95.96988        1.40042       79.25660       14.38488      133.12316 "
      ]
     },
     "metadata": {},
     "output_type": "display_data"
    }
   ],
   "source": [
    "vif(rot13decstep_gpt4_model)"
   ]
  },
  {
   "cell_type": "code",
   "execution_count": 59,
   "id": "37a8c0fb",
   "metadata": {},
   "outputs": [
    {
     "data": {
      "text/html": [
       "<style>\n",
       ".dl-inline {width: auto; margin:0; padding: 0}\n",
       ".dl-inline>dt, .dl-inline>dd {float: none; width: auto; display: inline-block}\n",
       ".dl-inline>dt::after {content: \":\\0020\"; padding-right: .5ex}\n",
       ".dl-inline>dt:not(:first-of-type) {padding-left: .5ex}\n",
       "</style><dl class=dl-inline><dt>input_logprob</dt><dd>1.11054269846684</dd><dt>output_logprob</dt><dd>32.9233827306865</dd><dt>input_ntokens</dt><dd>8.81366906446891</dd><dt>output_ntokens</dt><dd>32.1371633211622</dd><dt>input_nchars</dt><dd>53.2139764878167</dd></dl>\n"
      ],
      "text/latex": [
       "\\begin{description*}\n",
       "\\item[input\\textbackslash{}\\_logprob] 1.11054269846684\n",
       "\\item[output\\textbackslash{}\\_logprob] 32.9233827306865\n",
       "\\item[input\\textbackslash{}\\_ntokens] 8.81366906446891\n",
       "\\item[output\\textbackslash{}\\_ntokens] 32.1371633211622\n",
       "\\item[input\\textbackslash{}\\_nchars] 53.2139764878167\n",
       "\\end{description*}\n"
      ],
      "text/markdown": [
       "input_logprob\n",
       ":   1.11054269846684output_logprob\n",
       ":   32.9233827306865input_ntokens\n",
       ":   8.81366906446891output_ntokens\n",
       ":   32.1371633211622input_nchars\n",
       ":   53.2139764878167\n",
       "\n"
      ],
      "text/plain": [
       " input_logprob output_logprob  input_ntokens output_ntokens   input_nchars \n",
       "      1.110543      32.923383       8.813669      32.137163      53.213976 "
      ]
     },
     "metadata": {},
     "output_type": "display_data"
    }
   ],
   "source": [
    "vif(rot13enccot_gpt4_model)"
   ]
  },
  {
   "cell_type": "code",
   "execution_count": 60,
   "id": "ede73b8e",
   "metadata": {},
   "outputs": [
    {
     "data": {
      "text/html": [
       "<style>\n",
       ".dl-inline {width: auto; margin:0; padding: 0}\n",
       ".dl-inline>dt, .dl-inline>dd {float: none; width: auto; display: inline-block}\n",
       ".dl-inline>dt::after {content: \":\\0020\"; padding-right: .5ex}\n",
       ".dl-inline>dt:not(:first-of-type) {padding-left: .5ex}\n",
       "</style><dl class=dl-inline><dt>input_logprob</dt><dd>102.879864075157</dd><dt>output_logprob</dt><dd>1.51829187937668</dd><dt>input_ntokens</dt><dd>94.1592097571043</dd><dt>output_ntokens</dt><dd>13.4763688232138</dd><dt>input_nchars</dt><dd>170.169706005196</dd></dl>\n"
      ],
      "text/latex": [
       "\\begin{description*}\n",
       "\\item[input\\textbackslash{}\\_logprob] 102.879864075157\n",
       "\\item[output\\textbackslash{}\\_logprob] 1.51829187937668\n",
       "\\item[input\\textbackslash{}\\_ntokens] 94.1592097571043\n",
       "\\item[output\\textbackslash{}\\_ntokens] 13.4763688232138\n",
       "\\item[input\\textbackslash{}\\_nchars] 170.169706005196\n",
       "\\end{description*}\n"
      ],
      "text/markdown": [
       "input_logprob\n",
       ":   102.879864075157output_logprob\n",
       ":   1.51829187937668input_ntokens\n",
       ":   94.1592097571043output_ntokens\n",
       ":   13.4763688232138input_nchars\n",
       ":   170.169706005196\n",
       "\n"
      ],
      "text/plain": [
       " input_logprob output_logprob  input_ntokens output_ntokens   input_nchars \n",
       "    102.879864       1.518292      94.159210      13.476369     170.169706 "
      ]
     },
     "metadata": {},
     "output_type": "display_data"
    }
   ],
   "source": [
    "vif(rot13deccot_gpt4_model)"
   ]
  },
  {
   "cell_type": "code",
   "execution_count": null,
   "id": "828d188f",
   "metadata": {},
   "outputs": [],
   "source": []
  },
  {
   "cell_type": "markdown",
   "id": "c5feba0f",
   "metadata": {},
   "source": [
    "### Input logprob for different prompt styles with distance as output"
   ]
  },
  {
   "cell_type": "code",
   "execution_count": 61,
   "id": "7abe5d56",
   "metadata": {},
   "outputs": [],
   "source": [
    "# Read in data\n",
    "rot13encbasicdist_gpt4_df <- read.table(file = 'table_rot13enc_gpt-4-0613_dist.tsv', sep = '\\t', header = TRUE)\n",
    "rot13encstepdist_gpt4_df <- read.table(file = 'table_rot13encstep_gpt-4-0613_dist.tsv', sep = '\\t', header = TRUE)\n",
    "rot13enccotdist_gpt4_df <- read.table(file = 'table_rot13enccot_gpt-4-0613_dist.tsv', sep = '\\t', header = TRUE)\n",
    "\n"
   ]
  },
  {
   "cell_type": "code",
   "execution_count": 62,
   "id": "45c7a1b3",
   "metadata": {},
   "outputs": [],
   "source": [
    "# Get rid of \"correct\"\n",
    "rot13encbasicdist_gpt4_df <- rot13encbasicdist_gpt4_df[,-c(1,8)]\n",
    "rot13encstepdist_gpt4_df <- rot13encstepdist_gpt4_df[,-c(1,8)]\n",
    "rot13enccotdist_gpt4_df <- rot13enccotdist_gpt4_df[,-c(1,8)]\n",
    "\n",
    "\n",
    "# Scale\n",
    "scaled_rot13encbasicdist_gpt4_df <- data.frame(scale(rot13encbasicdist_gpt4_df))\n",
    "scaled_rot13encstepdist_gpt4_df <- data.frame(scale(rot13encstepdist_gpt4_df))\n",
    "scaled_rot13enccotdist_gpt4_df <- data.frame(scale(rot13enccotdist_gpt4_df))\n",
    "\n"
   ]
  },
  {
   "cell_type": "code",
   "execution_count": 63,
   "id": "d76088de",
   "metadata": {},
   "outputs": [],
   "source": [
    "modelbasic_dist4 <- glm(distance ~ input_logprob + output_logprob + input_ntokens + output_ntokens + input_nchars, \n",
    "               data=rot13encbasicdist_gpt4_df)\n",
    "modelstep_dist4 <- glm(distance ~ input_logprob + output_logprob + input_ntokens + output_ntokens + input_nchars, \n",
    "               data=rot13encstepdist_gpt4_df)\n",
    "modelcot_dist4 <- glm(distance ~ input_logprob + output_logprob + input_ntokens + output_ntokens + input_nchars, \n",
    "               data=rot13enccotdist_gpt4_df)"
   ]
  },
  {
   "cell_type": "code",
   "execution_count": 64,
   "id": "f5be7be4",
   "metadata": {},
   "outputs": [
    {
     "data": {
      "text/plain": [
       "\n",
       "Call:\n",
       "glm(formula = distance ~ input_logprob + output_logprob + input_ntokens + \n",
       "    output_ntokens + input_nchars, data = rot13encbasicdist_gpt4_df)\n",
       "\n",
       "Deviance Residuals: \n",
       "     Min        1Q    Median        3Q       Max  \n",
       "-11.9233   -3.0973   -0.2851    2.6086   25.0964  \n",
       "\n",
       "Coefficients:\n",
       "                Estimate Std. Error t value Pr(>|t|)    \n",
       "(Intercept)    -2.171012   0.977895  -2.220  0.02718 *  \n",
       "input_logprob  -0.021256   0.007181  -2.960  0.00333 ** \n",
       "output_logprob -0.009503   0.022119  -0.430  0.66777    \n",
       "input_ntokens  -1.236568   0.132434  -9.337  < 2e-16 ***\n",
       "output_ntokens  0.427956   0.136915   3.126  0.00195 ** \n",
       "input_nchars    0.111892   0.083861   1.334  0.18315    \n",
       "---\n",
       "Signif. codes:  0 ‘***’ 0.001 ‘**’ 0.01 ‘*’ 0.05 ‘.’ 0.1 ‘ ’ 1\n",
       "\n",
       "(Dispersion parameter for gaussian family taken to be 25.18589)\n",
       "\n",
       "    Null deviance: 23703.4  on 299  degrees of freedom\n",
       "Residual deviance:  7404.7  on 294  degrees of freedom\n",
       "AIC: 1827.2\n",
       "\n",
       "Number of Fisher Scoring iterations: 2\n"
      ]
     },
     "metadata": {},
     "output_type": "display_data"
    }
   ],
   "source": [
    "summary(modelbasic_dist4)"
   ]
  },
  {
   "cell_type": "code",
   "execution_count": 65,
   "id": "0728a780",
   "metadata": {},
   "outputs": [
    {
     "data": {
      "text/plain": [
       "\n",
       "Call:\n",
       "glm(formula = distance ~ input_logprob + output_logprob + input_ntokens + \n",
       "    output_ntokens + input_nchars, data = rot13encstepdist_gpt4_df)\n",
       "\n",
       "Deviance Residuals: \n",
       "     Min        1Q    Median        3Q       Max  \n",
       "-12.8705   -2.8071   -0.2109    2.5441   19.1410  \n",
       "\n",
       "Coefficients:\n",
       "                Estimate Std. Error t value Pr(>|t|)    \n",
       "(Intercept)    -1.594581   0.964343  -1.654   0.0993 .  \n",
       "input_logprob  -0.018180   0.007081  -2.567   0.0107 *  \n",
       "output_logprob -0.002303   0.021813  -0.106   0.9160    \n",
       "input_ntokens  -1.147949   0.130598  -8.790   <2e-16 ***\n",
       "output_ntokens  0.312296   0.135018   2.313   0.0214 *  \n",
       "input_nchars    0.164673   0.082699   1.991   0.0474 *  \n",
       "---\n",
       "Signif. codes:  0 ‘***’ 0.001 ‘**’ 0.01 ‘*’ 0.05 ‘.’ 0.1 ‘ ’ 1\n",
       "\n",
       "(Dispersion parameter for gaussian family taken to be 24.4927)\n",
       "\n",
       "    Null deviance: 21311.9  on 299  degrees of freedom\n",
       "Residual deviance:  7200.9  on 294  degrees of freedom\n",
       "AIC: 1818.8\n",
       "\n",
       "Number of Fisher Scoring iterations: 2\n"
      ]
     },
     "metadata": {},
     "output_type": "display_data"
    }
   ],
   "source": [
    "summary(modelstep_dist4)"
   ]
  },
  {
   "cell_type": "code",
   "execution_count": 66,
   "id": "37a734cf",
   "metadata": {},
   "outputs": [
    {
     "data": {
      "text/plain": [
       "\n",
       "Call:\n",
       "glm(formula = distance ~ input_logprob + output_logprob + input_ntokens + \n",
       "    output_ntokens + input_nchars, data = rot13enccotdist_gpt4_df)\n",
       "\n",
       "Deviance Residuals: \n",
       "    Min       1Q   Median       3Q      Max  \n",
       "-14.799   -4.138   -1.006    3.792   21.962  \n",
       "\n",
       "Coefficients:\n",
       "               Estimate Std. Error t value Pr(>|t|)    \n",
       "(Intercept)    -2.06029    1.24189  -1.659   0.0982 .  \n",
       "input_logprob  -0.01683    0.00912  -1.846   0.0659 .  \n",
       "output_logprob -0.04055    0.02809  -1.444   0.1499    \n",
       "input_ntokens  -1.11568    0.16819  -6.634 1.57e-10 ***\n",
       "output_ntokens  0.40731    0.17388   2.343   0.0198 *  \n",
       "input_nchars    0.04840    0.10650   0.454   0.6498    \n",
       "---\n",
       "Signif. codes:  0 ‘***’ 0.001 ‘**’ 0.01 ‘*’ 0.05 ‘.’ 0.1 ‘ ’ 1\n",
       "\n",
       "(Dispersion parameter for gaussian family taken to be 40.62025)\n",
       "\n",
       "    Null deviance: 34779  on 299  degrees of freedom\n",
       "Residual deviance: 11942  on 294  degrees of freedom\n",
       "AIC: 1970.6\n",
       "\n",
       "Number of Fisher Scoring iterations: 2\n"
      ]
     },
     "metadata": {},
     "output_type": "display_data"
    }
   ],
   "source": [
    "summary(modelcot_dist4)"
   ]
  },
  {
   "cell_type": "code",
   "execution_count": 67,
   "id": "5e7c9c23",
   "metadata": {},
   "outputs": [
    {
     "data": {
      "text/html": [
       "<style>\n",
       ".dl-inline {width: auto; margin:0; padding: 0}\n",
       ".dl-inline>dt, .dl-inline>dd {float: none; width: auto; display: inline-block}\n",
       ".dl-inline>dt::after {content: \":\\0020\"; padding-right: .5ex}\n",
       ".dl-inline>dt:not(:first-of-type) {padding-left: .5ex}\n",
       "</style><dl class=dl-inline><dt>input_logprob</dt><dd>1.92485309391978</dd><dt>output_logprob</dt><dd>102.499746421752</dd><dt>input_ntokens</dt><dd>13.9745096029648</dd><dt>output_ntokens</dt><dd>102.010820754352</dd><dt>input_nchars</dt><dd>177.5652919229</dd></dl>\n"
      ],
      "text/latex": [
       "\\begin{description*}\n",
       "\\item[input\\textbackslash{}\\_logprob] 1.92485309391978\n",
       "\\item[output\\textbackslash{}\\_logprob] 102.499746421752\n",
       "\\item[input\\textbackslash{}\\_ntokens] 13.9745096029648\n",
       "\\item[output\\textbackslash{}\\_ntokens] 102.010820754352\n",
       "\\item[input\\textbackslash{}\\_nchars] 177.5652919229\n",
       "\\end{description*}\n"
      ],
      "text/markdown": [
       "input_logprob\n",
       ":   1.92485309391978output_logprob\n",
       ":   102.499746421752input_ntokens\n",
       ":   13.9745096029648output_ntokens\n",
       ":   102.010820754352input_nchars\n",
       ":   177.5652919229\n",
       "\n"
      ],
      "text/plain": [
       " input_logprob output_logprob  input_ntokens output_ntokens   input_nchars \n",
       "      1.924853     102.499746      13.974510     102.010821     177.565292 "
      ]
     },
     "metadata": {},
     "output_type": "display_data"
    }
   ],
   "source": [
    "vif(modelbasic_dist4)"
   ]
  },
  {
   "cell_type": "code",
   "execution_count": 68,
   "id": "b20dc669",
   "metadata": {},
   "outputs": [
    {
     "data": {
      "text/html": [
       "<style>\n",
       ".dl-inline {width: auto; margin:0; padding: 0}\n",
       ".dl-inline>dt, .dl-inline>dd {float: none; width: auto; display: inline-block}\n",
       ".dl-inline>dt::after {content: \":\\0020\"; padding-right: .5ex}\n",
       ".dl-inline>dt:not(:first-of-type) {padding-left: .5ex}\n",
       "</style><dl class=dl-inline><dt>input_logprob</dt><dd>1.92485309391991</dd><dt>output_logprob</dt><dd>102.49974642176</dd><dt>input_ntokens</dt><dd>13.9745096029658</dd><dt>output_ntokens</dt><dd>102.01082075436</dd><dt>input_nchars</dt><dd>177.565291922914</dd></dl>\n"
      ],
      "text/latex": [
       "\\begin{description*}\n",
       "\\item[input\\textbackslash{}\\_logprob] 1.92485309391991\n",
       "\\item[output\\textbackslash{}\\_logprob] 102.49974642176\n",
       "\\item[input\\textbackslash{}\\_ntokens] 13.9745096029658\n",
       "\\item[output\\textbackslash{}\\_ntokens] 102.01082075436\n",
       "\\item[input\\textbackslash{}\\_nchars] 177.565291922914\n",
       "\\end{description*}\n"
      ],
      "text/markdown": [
       "input_logprob\n",
       ":   1.92485309391991output_logprob\n",
       ":   102.49974642176input_ntokens\n",
       ":   13.9745096029658output_ntokens\n",
       ":   102.01082075436input_nchars\n",
       ":   177.565291922914\n",
       "\n"
      ],
      "text/plain": [
       " input_logprob output_logprob  input_ntokens output_ntokens   input_nchars \n",
       "      1.924853     102.499746      13.974510     102.010821     177.565292 "
      ]
     },
     "metadata": {},
     "output_type": "display_data"
    }
   ],
   "source": [
    "vif(modelstep_dist4)"
   ]
  },
  {
   "cell_type": "code",
   "execution_count": 69,
   "id": "9861ff69",
   "metadata": {},
   "outputs": [
    {
     "data": {
      "text/html": [
       "<style>\n",
       ".dl-inline {width: auto; margin:0; padding: 0}\n",
       ".dl-inline>dt, .dl-inline>dd {float: none; width: auto; display: inline-block}\n",
       ".dl-inline>dt::after {content: \":\\0020\"; padding-right: .5ex}\n",
       ".dl-inline>dt:not(:first-of-type) {padding-left: .5ex}\n",
       "</style><dl class=dl-inline><dt>input_logprob</dt><dd>1.92485309391981</dd><dt>output_logprob</dt><dd>102.499746421758</dd><dt>input_ntokens</dt><dd>13.9745096029655</dd><dt>output_ntokens</dt><dd>102.010820754358</dd><dt>input_nchars</dt><dd>177.56529192291</dd></dl>\n"
      ],
      "text/latex": [
       "\\begin{description*}\n",
       "\\item[input\\textbackslash{}\\_logprob] 1.92485309391981\n",
       "\\item[output\\textbackslash{}\\_logprob] 102.499746421758\n",
       "\\item[input\\textbackslash{}\\_ntokens] 13.9745096029655\n",
       "\\item[output\\textbackslash{}\\_ntokens] 102.010820754358\n",
       "\\item[input\\textbackslash{}\\_nchars] 177.56529192291\n",
       "\\end{description*}\n"
      ],
      "text/markdown": [
       "input_logprob\n",
       ":   1.92485309391981output_logprob\n",
       ":   102.499746421758input_ntokens\n",
       ":   13.9745096029655output_ntokens\n",
       ":   102.010820754358input_nchars\n",
       ":   177.56529192291\n",
       "\n"
      ],
      "text/plain": [
       " input_logprob output_logprob  input_ntokens output_ntokens   input_nchars \n",
       "      1.924853     102.499746      13.974510     102.010821     177.565292 "
      ]
     },
     "metadata": {},
     "output_type": "display_data"
    }
   ],
   "source": [
    "vif(modelcot_dist4)"
   ]
  },
  {
   "cell_type": "code",
   "execution_count": null,
   "id": "3be69acb",
   "metadata": {},
   "outputs": [],
   "source": []
  },
  {
   "cell_type": "markdown",
   "id": "4108591e",
   "metadata": {},
   "source": [
    "### Comparing rot-13 and rot-2 for different prompt styles"
   ]
  },
  {
   "cell_type": "code",
   "execution_count": 70,
   "id": "935fbcc4",
   "metadata": {},
   "outputs": [],
   "source": [
    "# Read in data\n",
    "rot13and2encbasic_gpt4_df <- read.table(file = 'table_rot13and2enc_gpt-4-0613.tsv', sep = '\\t', header = TRUE)\n",
    "rot13and2encstep_gpt4_df <- read.table(file = 'table_rot13and2encstep_gpt-4-0613.tsv', sep = '\\t', header = TRUE)\n",
    "rot13and2enccot_gpt4_df <- read.table(file = 'table_rot13and2enccot_gpt-4-0613.tsv', sep = '\\t', header = TRUE)\n",
    "\n",
    "rot13and2decbasic_gpt4_df <- read.table(file = 'table_rot13and2dec_gpt-4-0613.tsv', sep = '\\t', header = TRUE)\n",
    "rot13and2decstep_gpt4_df <- read.table(file = 'table_rot13and2decstep_gpt-4-0613.tsv', sep = '\\t', header = TRUE)\n",
    "rot13and2deccot_gpt4_df <- read.table(file = 'table_rot13and2deccot_gpt-4-0613.tsv', sep = '\\t', header = TRUE)\n"
   ]
  },
  {
   "cell_type": "code",
   "execution_count": 71,
   "id": "9284bda0",
   "metadata": {},
   "outputs": [],
   "source": [
    "# Z-score data\n",
    "scaled_rot13and2encbasic_gpt4_df <- scale_taskpair_df(rot13and2encbasic_gpt4_df)\n",
    "scaled_rot13and2encstep_gpt4_df <- scale_taskpair_df(rot13and2encstep_gpt4_df)\n",
    "scaled_rot13and2enccot_gpt4_df <- scale_taskpair_df(rot13and2enccot_gpt4_df)\n",
    "\n",
    "\n",
    "scaled_rot13and2decbasic_gpt4_df <- scale_taskpair_df(rot13and2decbasic_gpt4_df)\n",
    "scaled_rot13and2decstep_gpt4_df <- scale_taskpair_df(rot13and2decstep_gpt4_df)\n",
    "scaled_rot13and2deccot_gpt4_df <- scale_taskpair_df(rot13and2deccot_gpt4_df)\n",
    "\n"
   ]
  },
  {
   "cell_type": "code",
   "execution_count": 72,
   "id": "c4b1ccf4",
   "metadata": {},
   "outputs": [],
   "source": [
    "model_taskencbasic4 <- bayesglm(correct ~ task + input_nchars + input_ntokens + output_ntokens + input_logprob + output_logprob, \n",
    "               data=scaled_rot13and2encbasic_gpt4_df, family=binomial)\n",
    "model_taskencstep4 <- bayesglm(correct ~ task + input_nchars + input_ntokens + output_ntokens + input_logprob + output_logprob, \n",
    "               data=scaled_rot13and2encstep_gpt4_df, family=binomial)\n",
    "model_taskenccot4 <- bayesglm(correct ~ task + input_nchars + input_ntokens + output_ntokens + input_logprob + output_logprob, \n",
    "               data=scaled_rot13and2enccot_gpt4_df, family=binomial)\n",
    "\n",
    "model_taskdecbasic4 <- bayesglm(correct ~ task + input_nchars + input_ntokens + output_ntokens + input_logprob + output_logprob, \n",
    "               data=scaled_rot13and2decbasic_gpt4_df, family=binomial)\n",
    "model_taskdecstep4 <- bayesglm(correct ~ task + input_nchars + input_ntokens + output_ntokens + input_logprob + output_logprob, \n",
    "               data=scaled_rot13and2decstep_gpt4_df, family=binomial)\n",
    "model_taskdeccot4 <- bayesglm(correct ~ task + input_nchars + input_ntokens + output_ntokens + input_logprob + output_logprob, \n",
    "               data=scaled_rot13and2deccot_gpt4_df, family=binomial)"
   ]
  },
  {
   "cell_type": "code",
   "execution_count": 73,
   "id": "d2bc6f06",
   "metadata": {},
   "outputs": [
    {
     "data": {
      "text/plain": [
       "\n",
       "Call:\n",
       "bayesglm(formula = correct ~ task + input_nchars + input_ntokens + \n",
       "    output_ntokens + input_logprob + output_logprob, family = binomial, \n",
       "    data = scaled_rot13and2encbasic_gpt4_df)\n",
       "\n",
       "Deviance Residuals: \n",
       "     Min        1Q    Median        3Q       Max  \n",
       "-1.27805  -0.22008  -0.07750  -0.01265   2.79444  \n",
       "\n",
       "Coefficients:\n",
       "                      Estimate Std. Error z value Pr(>|z|)    \n",
       "(Intercept)          -2.874195   0.601776  -4.776 1.79e-06 ***\n",
       "taskrot2enc_highprob -4.321099   1.546874  -2.793  0.00522 ** \n",
       "input_nchars         -0.005755   1.059544  -0.005  0.99567    \n",
       "input_ntokens         2.000505   0.883266   2.265  0.02352 *  \n",
       "output_ntokens       -1.134385   1.281776  -0.885  0.37615    \n",
       "input_logprob         0.889370   0.735783   1.209  0.22676    \n",
       "output_logprob        2.584170   1.456150   1.775  0.07595 .  \n",
       "---\n",
       "Signif. codes:  0 ‘***’ 0.001 ‘**’ 0.01 ‘*’ 0.05 ‘.’ 0.1 ‘ ’ 1\n",
       "\n",
       "(Dispersion parameter for binomial family taken to be 1)\n",
       "\n",
       "    Null deviance: 134.373  on 199  degrees of freedom\n",
       "Residual deviance:  67.278  on 193  degrees of freedom\n",
       "AIC: 81.278\n",
       "\n",
       "Number of Fisher Scoring iterations: 62\n"
      ]
     },
     "metadata": {},
     "output_type": "display_data"
    }
   ],
   "source": [
    "summary(model_taskencbasic4)"
   ]
  },
  {
   "cell_type": "code",
   "execution_count": 74,
   "id": "b6763262",
   "metadata": {},
   "outputs": [
    {
     "data": {
      "text/plain": [
       "\n",
       "Call:\n",
       "bayesglm(formula = correct ~ task + input_nchars + input_ntokens + \n",
       "    output_ntokens + input_logprob + output_logprob, family = binomial, \n",
       "    data = scaled_rot13and2encstep_gpt4_df)\n",
       "\n",
       "Deviance Residuals: \n",
       "     Min        1Q    Median        3Q       Max  \n",
       "-1.17351  -0.27674  -0.09821  -0.02221   2.59970  \n",
       "\n",
       "Coefficients:\n",
       "                         Estimate Std. Error z value Pr(>|z|)    \n",
       "(Intercept)              -2.46595    0.51133  -4.823 1.42e-06 ***\n",
       "taskrot2encstep_highprob -4.20757    1.53336  -2.744  0.00607 ** \n",
       "input_nchars             -0.02859    1.02087  -0.028  0.97766    \n",
       "input_ntokens             1.36581    0.80535   1.696  0.08990 .  \n",
       "output_ntokens           -0.59194    1.08706  -0.545  0.58607    \n",
       "input_logprob             0.79898    0.70636   1.131  0.25800    \n",
       "output_logprob            1.99277    1.27315   1.565  0.11753    \n",
       "---\n",
       "Signif. codes:  0 ‘***’ 0.001 ‘**’ 0.01 ‘*’ 0.05 ‘.’ 0.1 ‘ ’ 1\n",
       "\n",
       "(Dispersion parameter for binomial family taken to be 1)\n",
       "\n",
       "    Null deviance: 130.033  on 199  degrees of freedom\n",
       "Residual deviance:  73.617  on 193  degrees of freedom\n",
       "AIC: 87.617\n",
       "\n",
       "Number of Fisher Scoring iterations: 37\n"
      ]
     },
     "metadata": {},
     "output_type": "display_data"
    }
   ],
   "source": [
    "summary(model_taskencstep4)"
   ]
  },
  {
   "cell_type": "code",
   "execution_count": 75,
   "id": "3ee4db95",
   "metadata": {},
   "outputs": [
    {
     "data": {
      "text/plain": [
       "\n",
       "Call:\n",
       "bayesglm(formula = correct ~ task + input_nchars + input_ntokens + \n",
       "    output_ntokens + input_logprob + output_logprob, family = binomial, \n",
       "    data = scaled_rot13and2enccot_gpt4_df)\n",
       "\n",
       "Deviance Residuals: \n",
       "     Min        1Q    Median        3Q       Max  \n",
       "-1.09833  -0.21603  -0.05857  -0.00944   1.86068  \n",
       "\n",
       "Coefficients:\n",
       "                        Estimate Std. Error z value Pr(>|z|)    \n",
       "(Intercept)             -4.62384    1.00878  -4.584 4.57e-06 ***\n",
       "taskrot2enccot_highprob -3.45087    1.48371  -2.326   0.0200 *  \n",
       "input_nchars            -0.05547    1.11507  -0.050   0.9603    \n",
       "input_ntokens            2.04535    1.10870   1.845   0.0651 .  \n",
       "output_ntokens          -0.69142    1.23346  -0.561   0.5751    \n",
       "input_logprob            1.22494    0.97408   1.258   0.2086    \n",
       "output_logprob           3.60140    1.80598   1.994   0.0461 *  \n",
       "---\n",
       "Signif. codes:  0 ‘***’ 0.001 ‘**’ 0.01 ‘*’ 0.05 ‘.’ 0.1 ‘ ’ 1\n",
       "\n",
       "(Dispersion parameter for binomial family taken to be 1)\n",
       "\n",
       "    Null deviance: 85.193  on 199  degrees of freedom\n",
       "Residual deviance: 40.447  on 193  degrees of freedom\n",
       "AIC: 54.447\n",
       "\n",
       "Number of Fisher Scoring iterations: 61\n"
      ]
     },
     "metadata": {},
     "output_type": "display_data"
    }
   ],
   "source": [
    "summary(model_taskenccot4)"
   ]
  },
  {
   "cell_type": "code",
   "execution_count": 76,
   "id": "ad0896c4",
   "metadata": {},
   "outputs": [
    {
     "data": {
      "text/plain": [
       "\n",
       "Call:\n",
       "bayesglm(formula = correct ~ task + input_nchars + input_ntokens + \n",
       "    output_ntokens + input_logprob + output_logprob, family = binomial, \n",
       "    data = scaled_rot13and2decbasic_gpt4_df)\n",
       "\n",
       "Deviance Residuals: \n",
       "    Min       1Q   Median       3Q      Max  \n",
       "-1.4359  -0.4123  -0.2432   0.7928   2.6442  \n",
       "\n",
       "Coefficients:\n",
       "                     Estimate Std. Error z value Pr(>|z|)    \n",
       "(Intercept)           -0.1211     0.2446  -0.495   0.6205    \n",
       "taskrot2dec_highprob  -3.3529     0.6169  -5.435 5.49e-08 ***\n",
       "input_nchars           0.3561     0.8967   0.397   0.6913    \n",
       "input_ntokens         -0.7574     0.9265  -0.818   0.4136    \n",
       "output_ntokens         0.9942     0.5949   1.671   0.0947 .  \n",
       "input_logprob          0.1798     0.8221   0.219   0.8268    \n",
       "output_logprob         1.0907     0.5100   2.139   0.0325 *  \n",
       "---\n",
       "Signif. codes:  0 ‘***’ 0.001 ‘**’ 0.01 ‘*’ 0.05 ‘.’ 0.1 ‘ ’ 1\n",
       "\n",
       "(Dispersion parameter for binomial family taken to be 1)\n",
       "\n",
       "    Null deviance: 233.30  on 199  degrees of freedom\n",
       "Residual deviance: 149.51  on 193  degrees of freedom\n",
       "AIC: 163.51\n",
       "\n",
       "Number of Fisher Scoring iterations: 17\n"
      ]
     },
     "metadata": {},
     "output_type": "display_data"
    }
   ],
   "source": [
    "summary(model_taskdecbasic4)"
   ]
  },
  {
   "cell_type": "code",
   "execution_count": 77,
   "id": "6b8dc82a",
   "metadata": {},
   "outputs": [
    {
     "data": {
      "text/plain": [
       "\n",
       "Call:\n",
       "bayesglm(formula = correct ~ task + input_nchars + input_ntokens + \n",
       "    output_ntokens + input_logprob + output_logprob, family = binomial, \n",
       "    data = scaled_rot13and2decstep_gpt4_df)\n",
       "\n",
       "Deviance Residuals: \n",
       "    Min       1Q   Median       3Q      Max  \n",
       "-1.6640  -0.8047  -0.3517   0.7893   2.4030  \n",
       "\n",
       "Coefficients:\n",
       "                         Estimate Std. Error z value Pr(>|z|)    \n",
       "(Intercept)              -0.05560    0.25395  -0.219   0.8267    \n",
       "taskrot2decstep_highprob -1.68691    0.39733  -4.246 2.18e-05 ***\n",
       "input_nchars              0.04472    0.85979   0.052   0.9585    \n",
       "input_ntokens            -0.64643    0.85972  -0.752   0.4521    \n",
       "output_ntokens            0.39650    0.52454   0.756   0.4497    \n",
       "input_logprob             0.11562    0.78154   0.148   0.8824    \n",
       "output_logprob            0.95721    0.46558   2.056   0.0398 *  \n",
       "---\n",
       "Signif. codes:  0 ‘***’ 0.001 ‘**’ 0.01 ‘*’ 0.05 ‘.’ 0.1 ‘ ’ 1\n",
       "\n",
       "(Dispersion parameter for binomial family taken to be 1)\n",
       "\n",
       "    Null deviance: 261.37  on 199  degrees of freedom\n",
       "Residual deviance: 195.86  on 193  degrees of freedom\n",
       "AIC: 209.86\n",
       "\n",
       "Number of Fisher Scoring iterations: 13\n"
      ]
     },
     "metadata": {},
     "output_type": "display_data"
    }
   ],
   "source": [
    "summary(model_taskdecstep4)"
   ]
  },
  {
   "cell_type": "code",
   "execution_count": 78,
   "id": "cc8fe871",
   "metadata": {},
   "outputs": [
    {
     "data": {
      "text/plain": [
       "\n",
       "Call:\n",
       "bayesglm(formula = correct ~ task + input_nchars + input_ntokens + \n",
       "    output_ntokens + input_logprob + output_logprob, family = binomial, \n",
       "    data = scaled_rot13and2deccot_gpt4_df)\n",
       "\n",
       "Deviance Residuals: \n",
       "    Min       1Q   Median       3Q      Max  \n",
       "-2.1577  -0.8867   0.5736   0.7239   1.8240  \n",
       "\n",
       "Coefficients:\n",
       "                        Estimate Std. Error z value Pr(>|z|)    \n",
       "(Intercept)              1.41000    0.28275   4.987 6.14e-07 ***\n",
       "taskrot2deccot_highprob -0.49165    0.40436  -1.216  0.22404    \n",
       "input_nchars             0.62867    0.89690   0.701  0.48334    \n",
       "input_ntokens            0.58590    0.77800   0.753  0.45140    \n",
       "output_ntokens           0.05053    0.48148   0.105  0.91641    \n",
       "input_logprob            0.84259    0.79638   1.058  0.29004    \n",
       "output_logprob           1.10417    0.41744   2.645  0.00817 ** \n",
       "---\n",
       "Signif. codes:  0 ‘***’ 0.001 ‘**’ 0.01 ‘*’ 0.05 ‘.’ 0.1 ‘ ’ 1\n",
       "\n",
       "(Dispersion parameter for binomial family taken to be 1)\n",
       "\n",
       "    Null deviance: 229.22  on 199  degrees of freedom\n",
       "Residual deviance: 203.12  on 193  degrees of freedom\n",
       "AIC: 217.12\n",
       "\n",
       "Number of Fisher Scoring iterations: 14\n"
      ]
     },
     "metadata": {},
     "output_type": "display_data"
    }
   ],
   "source": [
    "summary(model_taskdeccot4)"
   ]
  },
  {
   "cell_type": "code",
   "execution_count": 79,
   "id": "3cad394f",
   "metadata": {},
   "outputs": [
    {
     "data": {
      "text/html": [
       "<style>\n",
       ".dl-inline {width: auto; margin:0; padding: 0}\n",
       ".dl-inline>dt, .dl-inline>dd {float: none; width: auto; display: inline-block}\n",
       ".dl-inline>dt::after {content: \":\\0020\"; padding-right: .5ex}\n",
       ".dl-inline>dt:not(:first-of-type) {padding-left: .5ex}\n",
       "</style><dl class=dl-inline><dt>task</dt><dd>1.01320444544886</dd><dt>input_nchars</dt><dd>3.80153819337455</dd><dt>input_ntokens</dt><dd>3.67485067660211</dd><dt>output_ntokens</dt><dd>4.27191256361652</dd><dt>input_logprob</dt><dd>2.04925397500348</dd><dt>output_logprob</dt><dd>5.34296459638828</dd></dl>\n"
      ],
      "text/latex": [
       "\\begin{description*}\n",
       "\\item[task] 1.01320444544886\n",
       "\\item[input\\textbackslash{}\\_nchars] 3.80153819337455\n",
       "\\item[input\\textbackslash{}\\_ntokens] 3.67485067660211\n",
       "\\item[output\\textbackslash{}\\_ntokens] 4.27191256361652\n",
       "\\item[input\\textbackslash{}\\_logprob] 2.04925397500348\n",
       "\\item[output\\textbackslash{}\\_logprob] 5.34296459638828\n",
       "\\end{description*}\n"
      ],
      "text/markdown": [
       "task\n",
       ":   1.01320444544886input_nchars\n",
       ":   3.80153819337455input_ntokens\n",
       ":   3.67485067660211output_ntokens\n",
       ":   4.27191256361652input_logprob\n",
       ":   2.04925397500348output_logprob\n",
       ":   5.34296459638828\n",
       "\n"
      ],
      "text/plain": [
       "          task   input_nchars  input_ntokens output_ntokens  input_logprob \n",
       "      1.013204       3.801538       3.674851       4.271913       2.049254 \n",
       "output_logprob \n",
       "      5.342965 "
      ]
     },
     "metadata": {},
     "output_type": "display_data"
    }
   ],
   "source": [
    "vif(model_taskencbasic4)"
   ]
  },
  {
   "cell_type": "code",
   "execution_count": 80,
   "id": "d9f0262c",
   "metadata": {},
   "outputs": [
    {
     "data": {
      "text/html": [
       "<style>\n",
       ".dl-inline {width: auto; margin:0; padding: 0}\n",
       ".dl-inline>dt, .dl-inline>dd {float: none; width: auto; display: inline-block}\n",
       ".dl-inline>dt::after {content: \":\\0020\"; padding-right: .5ex}\n",
       ".dl-inline>dt:not(:first-of-type) {padding-left: .5ex}\n",
       "</style><dl class=dl-inline><dt>task</dt><dd>1.00939171492353</dd><dt>input_nchars</dt><dd>4.28251339781786</dd><dt>input_ntokens</dt><dd>3.49999280562541</dd><dt>output_ntokens</dt><dd>3.99162541617016</dd><dt>input_logprob</dt><dd>2.23237138980605</dd><dt>output_logprob</dt><dd>5.36788389989905</dd></dl>\n"
      ],
      "text/latex": [
       "\\begin{description*}\n",
       "\\item[task] 1.00939171492353\n",
       "\\item[input\\textbackslash{}\\_nchars] 4.28251339781786\n",
       "\\item[input\\textbackslash{}\\_ntokens] 3.49999280562541\n",
       "\\item[output\\textbackslash{}\\_ntokens] 3.99162541617016\n",
       "\\item[input\\textbackslash{}\\_logprob] 2.23237138980605\n",
       "\\item[output\\textbackslash{}\\_logprob] 5.36788389989905\n",
       "\\end{description*}\n"
      ],
      "text/markdown": [
       "task\n",
       ":   1.00939171492353input_nchars\n",
       ":   4.28251339781786input_ntokens\n",
       ":   3.49999280562541output_ntokens\n",
       ":   3.99162541617016input_logprob\n",
       ":   2.23237138980605output_logprob\n",
       ":   5.36788389989905\n",
       "\n"
      ],
      "text/plain": [
       "          task   input_nchars  input_ntokens output_ntokens  input_logprob \n",
       "      1.009392       4.282513       3.499993       3.991625       2.232371 \n",
       "output_logprob \n",
       "      5.367884 "
      ]
     },
     "metadata": {},
     "output_type": "display_data"
    }
   ],
   "source": [
    "vif(model_taskencstep4)"
   ]
  },
  {
   "cell_type": "code",
   "execution_count": 81,
   "id": "f2a45c45",
   "metadata": {},
   "outputs": [
    {
     "data": {
      "text/html": [
       "<style>\n",
       ".dl-inline {width: auto; margin:0; padding: 0}\n",
       ".dl-inline>dt, .dl-inline>dd {float: none; width: auto; display: inline-block}\n",
       ".dl-inline>dt::after {content: \":\\0020\"; padding-right: .5ex}\n",
       ".dl-inline>dt:not(:first-of-type) {padding-left: .5ex}\n",
       "</style><dl class=dl-inline><dt>task</dt><dd>1.01464527513148</dd><dt>input_nchars</dt><dd>2.23625902621925</dd><dt>input_ntokens</dt><dd>2.54026399081267</dd><dt>output_ntokens</dt><dd>2.1772033158864</dd><dt>input_logprob</dt><dd>1.57874612954486</dd><dt>output_logprob</dt><dd>3.4649683059844</dd></dl>\n"
      ],
      "text/latex": [
       "\\begin{description*}\n",
       "\\item[task] 1.01464527513148\n",
       "\\item[input\\textbackslash{}\\_nchars] 2.23625902621925\n",
       "\\item[input\\textbackslash{}\\_ntokens] 2.54026399081267\n",
       "\\item[output\\textbackslash{}\\_ntokens] 2.1772033158864\n",
       "\\item[input\\textbackslash{}\\_logprob] 1.57874612954486\n",
       "\\item[output\\textbackslash{}\\_logprob] 3.4649683059844\n",
       "\\end{description*}\n"
      ],
      "text/markdown": [
       "task\n",
       ":   1.01464527513148input_nchars\n",
       ":   2.23625902621925input_ntokens\n",
       ":   2.54026399081267output_ntokens\n",
       ":   2.1772033158864input_logprob\n",
       ":   1.57874612954486output_logprob\n",
       ":   3.4649683059844\n",
       "\n"
      ],
      "text/plain": [
       "          task   input_nchars  input_ntokens output_ntokens  input_logprob \n",
       "      1.014645       2.236259       2.540264       2.177203       1.578746 \n",
       "output_logprob \n",
       "      3.464968 "
      ]
     },
     "metadata": {},
     "output_type": "display_data"
    }
   ],
   "source": [
    "vif(model_taskenccot4)"
   ]
  },
  {
   "cell_type": "code",
   "execution_count": 82,
   "id": "9e99598e",
   "metadata": {},
   "outputs": [
    {
     "data": {
      "text/html": [
       "<style>\n",
       ".dl-inline {width: auto; margin:0; padding: 0}\n",
       ".dl-inline>dt, .dl-inline>dd {float: none; width: auto; display: inline-block}\n",
       ".dl-inline>dt::after {content: \":\\0020\"; padding-right: .5ex}\n",
       ".dl-inline>dt:not(:first-of-type) {padding-left: .5ex}\n",
       "</style><dl class=dl-inline><dt>task</dt><dd>1.1203054190514</dd><dt>input_nchars</dt><dd>17.6992551661671</dd><dt>input_ntokens</dt><dd>15.7169250810466</dd><dt>output_ntokens</dt><dd>8.33961919397614</dd><dt>input_logprob</dt><dd>14.0352686005221</dd><dt>output_logprob</dt><dd>5.43357567006994</dd></dl>\n"
      ],
      "text/latex": [
       "\\begin{description*}\n",
       "\\item[task] 1.1203054190514\n",
       "\\item[input\\textbackslash{}\\_nchars] 17.6992551661671\n",
       "\\item[input\\textbackslash{}\\_ntokens] 15.7169250810466\n",
       "\\item[output\\textbackslash{}\\_ntokens] 8.33961919397614\n",
       "\\item[input\\textbackslash{}\\_logprob] 14.0352686005221\n",
       "\\item[output\\textbackslash{}\\_logprob] 5.43357567006994\n",
       "\\end{description*}\n"
      ],
      "text/markdown": [
       "task\n",
       ":   1.1203054190514input_nchars\n",
       ":   17.6992551661671input_ntokens\n",
       ":   15.7169250810466output_ntokens\n",
       ":   8.33961919397614input_logprob\n",
       ":   14.0352686005221output_logprob\n",
       ":   5.43357567006994\n",
       "\n"
      ],
      "text/plain": [
       "          task   input_nchars  input_ntokens output_ntokens  input_logprob \n",
       "      1.120305      17.699255      15.716925       8.339619      14.035269 \n",
       "output_logprob \n",
       "      5.433576 "
      ]
     },
     "metadata": {},
     "output_type": "display_data"
    }
   ],
   "source": [
    "vif(model_taskdecbasic4)"
   ]
  },
  {
   "cell_type": "code",
   "execution_count": 83,
   "id": "0aeff3f5",
   "metadata": {},
   "outputs": [
    {
     "data": {
      "text/html": [
       "<style>\n",
       ".dl-inline {width: auto; margin:0; padding: 0}\n",
       ".dl-inline>dt, .dl-inline>dd {float: none; width: auto; display: inline-block}\n",
       ".dl-inline>dt::after {content: \":\\0020\"; padding-right: .5ex}\n",
       ".dl-inline>dt:not(:first-of-type) {padding-left: .5ex}\n",
       "</style><dl class=dl-inline><dt>task</dt><dd>1.30693411170536</dd><dt>input_nchars</dt><dd>14.2677715254342</dd><dt>input_ntokens</dt><dd>12.2045625972828</dd><dt>output_ntokens</dt><dd>5.97420532237797</dd><dt>input_logprob</dt><dd>11.3826288704633</dd><dt>output_logprob</dt><dd>4.16898864497838</dd></dl>\n"
      ],
      "text/latex": [
       "\\begin{description*}\n",
       "\\item[task] 1.30693411170536\n",
       "\\item[input\\textbackslash{}\\_nchars] 14.2677715254342\n",
       "\\item[input\\textbackslash{}\\_ntokens] 12.2045625972828\n",
       "\\item[output\\textbackslash{}\\_ntokens] 5.97420532237797\n",
       "\\item[input\\textbackslash{}\\_logprob] 11.3826288704633\n",
       "\\item[output\\textbackslash{}\\_logprob] 4.16898864497838\n",
       "\\end{description*}\n"
      ],
      "text/markdown": [
       "task\n",
       ":   1.30693411170536input_nchars\n",
       ":   14.2677715254342input_ntokens\n",
       ":   12.2045625972828output_ntokens\n",
       ":   5.97420532237797input_logprob\n",
       ":   11.3826288704633output_logprob\n",
       ":   4.16898864497838\n",
       "\n"
      ],
      "text/plain": [
       "          task   input_nchars  input_ntokens output_ntokens  input_logprob \n",
       "      1.306934      14.267772      12.204563       5.974205      11.382629 \n",
       "output_logprob \n",
       "      4.168989 "
      ]
     },
     "metadata": {},
     "output_type": "display_data"
    }
   ],
   "source": [
    "vif(model_taskdecstep4)"
   ]
  },
  {
   "cell_type": "code",
   "execution_count": 84,
   "id": "15c9c7fd",
   "metadata": {},
   "outputs": [
    {
     "data": {
      "text/html": [
       "<style>\n",
       ".dl-inline {width: auto; margin:0; padding: 0}\n",
       ".dl-inline>dt, .dl-inline>dd {float: none; width: auto; display: inline-block}\n",
       ".dl-inline>dt::after {content: \":\\0020\"; padding-right: .5ex}\n",
       ".dl-inline>dt:not(:first-of-type) {padding-left: .5ex}\n",
       "</style><dl class=dl-inline><dt>task</dt><dd>1.42741570415461</dd><dt>input_nchars</dt><dd>29.993095585064</dd><dt>input_ntokens</dt><dd>22.4998936459408</dd><dt>output_ntokens</dt><dd>8.67057144392327</dd><dt>input_logprob</dt><dd>23.2114485664373</dd><dt>output_logprob</dt><dd>6.13972585002654</dd></dl>\n"
      ],
      "text/latex": [
       "\\begin{description*}\n",
       "\\item[task] 1.42741570415461\n",
       "\\item[input\\textbackslash{}\\_nchars] 29.993095585064\n",
       "\\item[input\\textbackslash{}\\_ntokens] 22.4998936459408\n",
       "\\item[output\\textbackslash{}\\_ntokens] 8.67057144392327\n",
       "\\item[input\\textbackslash{}\\_logprob] 23.2114485664373\n",
       "\\item[output\\textbackslash{}\\_logprob] 6.13972585002654\n",
       "\\end{description*}\n"
      ],
      "text/markdown": [
       "task\n",
       ":   1.42741570415461input_nchars\n",
       ":   29.993095585064input_ntokens\n",
       ":   22.4998936459408output_ntokens\n",
       ":   8.67057144392327input_logprob\n",
       ":   23.2114485664373output_logprob\n",
       ":   6.13972585002654\n",
       "\n"
      ],
      "text/plain": [
       "          task   input_nchars  input_ntokens output_ntokens  input_logprob \n",
       "      1.427416      29.993096      22.499894       8.670571      23.211449 \n",
       "output_logprob \n",
       "      6.139726 "
      ]
     },
     "metadata": {},
     "output_type": "display_data"
    }
   ],
   "source": [
    "vif(model_taskdeccot4)"
   ]
  },
  {
   "cell_type": "code",
   "execution_count": null,
   "id": "d6682dc4",
   "metadata": {},
   "outputs": [],
   "source": []
  },
  {
   "cell_type": "code",
   "execution_count": null,
   "id": "ad8bb52f",
   "metadata": {},
   "outputs": [],
   "source": []
  },
  {
   "cell_type": "code",
   "execution_count": null,
   "id": "30a00b90",
   "metadata": {},
   "outputs": [],
   "source": []
  },
  {
   "cell_type": "code",
   "execution_count": 86,
   "id": "6b2b68f1",
   "metadata": {},
   "outputs": [
    {
     "data": {
      "text/plain": [
       "\n",
       "Call:\n",
       "bayesglm(formula = correct ~ task + input_nchars + input_ntokens + \n",
       "    output_ntokens + input_logprob + output_logprob, family = binomial, \n",
       "    data = scaled_rot13and12deccot_gpt4_df)\n",
       "\n",
       "Deviance Residuals: \n",
       "     Min        1Q    Median        3Q       Max  \n",
       "-2.15101  -0.08213  -0.04706   0.53706   1.39744  \n",
       "\n",
       "Coefficients:\n",
       "                Estimate Std. Error z value Pr(>|z|)    \n",
       "(Intercept)      1.39453    0.27887   5.001 5.72e-07 ***\n",
       "taskshiftcot_12 -7.60737    1.91115  -3.981 6.88e-05 ***\n",
       "input_nchars     0.46638    0.92162   0.506    0.613    \n",
       "input_ntokens    0.08506    0.88289   0.096    0.923    \n",
       "output_ntokens  -0.55992    0.60273  -0.929    0.353    \n",
       "input_logprob   -0.03679    0.84415  -0.044    0.965    \n",
       "output_logprob   0.73405    0.53124   1.382    0.167    \n",
       "---\n",
       "Signif. codes:  0 ‘***’ 0.001 ‘**’ 0.01 ‘*’ 0.05 ‘.’ 0.1 ‘ ’ 1\n",
       "\n",
       "(Dispersion parameter for binomial family taken to be 1)\n",
       "\n",
       "    Null deviance: 267.499  on 199  degrees of freedom\n",
       "Residual deviance:  94.683  on 193  degrees of freedom\n",
       "AIC: 108.68\n",
       "\n",
       "Number of Fisher Scoring iterations: 17\n"
      ]
     },
     "metadata": {},
     "output_type": "display_data"
    }
   ],
   "source": [
    "# Comparing rot-13 and rot-12\n",
    "rot13and12deccot_gpt4_df <- read.table(file = 'table_rot13and12deccot_gpt-4-0613.tsv', sep = '\\t', header = TRUE)\n",
    "\n",
    "scaled_rot13and12deccot_gpt4_df <- scale_taskpair_df(rot13and12deccot_gpt4_df)\n",
    "\n",
    "model_rot13and12deccot_gpt4_df <- bayesglm(correct ~ task + input_nchars + input_ntokens + output_ntokens + input_logprob + output_logprob, \n",
    "               data=scaled_rot13and12deccot_gpt4_df, family=binomial)\n",
    "\n",
    "summary(model_rot13and12deccot_gpt4_df)"
   ]
  },
  {
   "cell_type": "code",
   "execution_count": 87,
   "id": "c280aae7",
   "metadata": {},
   "outputs": [
    {
     "data": {
      "text/html": [
       "<style>\n",
       ".dl-inline {width: auto; margin:0; padding: 0}\n",
       ".dl-inline>dt, .dl-inline>dd {float: none; width: auto; display: inline-block}\n",
       ".dl-inline>dt::after {content: \":\\0020\"; padding-right: .5ex}\n",
       ".dl-inline>dt:not(:first-of-type) {padding-left: .5ex}\n",
       "</style><dl class=dl-inline><dt>task</dt><dd>1.01368893302656</dd><dt>input_nchars</dt><dd>15.7538703140949</dd><dt>input_ntokens</dt><dd>13.1459061609205</dd><dt>output_ntokens</dt><dd>6.61966160959033</dd><dt>input_logprob</dt><dd>12.4388194315934</dd><dt>output_logprob</dt><dd>5.12364212682185</dd></dl>\n"
      ],
      "text/latex": [
       "\\begin{description*}\n",
       "\\item[task] 1.01368893302656\n",
       "\\item[input\\textbackslash{}\\_nchars] 15.7538703140949\n",
       "\\item[input\\textbackslash{}\\_ntokens] 13.1459061609205\n",
       "\\item[output\\textbackslash{}\\_ntokens] 6.61966160959033\n",
       "\\item[input\\textbackslash{}\\_logprob] 12.4388194315934\n",
       "\\item[output\\textbackslash{}\\_logprob] 5.12364212682185\n",
       "\\end{description*}\n"
      ],
      "text/markdown": [
       "task\n",
       ":   1.01368893302656input_nchars\n",
       ":   15.7538703140949input_ntokens\n",
       ":   13.1459061609205output_ntokens\n",
       ":   6.61966160959033input_logprob\n",
       ":   12.4388194315934output_logprob\n",
       ":   5.12364212682185\n",
       "\n"
      ],
      "text/plain": [
       "          task   input_nchars  input_ntokens output_ntokens  input_logprob \n",
       "      1.013689      15.753870      13.145906       6.619662      12.438819 \n",
       "output_logprob \n",
       "      5.123642 "
      ]
     },
     "metadata": {},
     "output_type": "display_data"
    }
   ],
   "source": [
    "vif(model_rot13and12deccot_gpt4_df)"
   ]
  },
  {
   "cell_type": "code",
   "execution_count": null,
   "id": "18b1c27a",
   "metadata": {},
   "outputs": [],
   "source": []
  },
  {
   "cell_type": "markdown",
   "id": "d0334e8f",
   "metadata": {},
   "source": [
    "### Comparing prompt techniques"
   ]
  },
  {
   "cell_type": "code",
   "execution_count": null,
   "id": "482cc03b",
   "metadata": {},
   "outputs": [],
   "source": [
    "# Read in data\n",
    "rot13encprompts_gpt4_df <- read.table(file = 'table_rot13enc_prompt_comparison.tsv', sep = '\\t', header = TRUE)\n",
    "rot13decprompts_gpt4_df <- read.table(file = 'table_rot13dec_prompt_comparison.tsv', sep = '\\t', header = TRUE)"
   ]
  },
  {
   "cell_type": "code",
   "execution_count": null,
   "id": "451541eb",
   "metadata": {},
   "outputs": [],
   "source": [
    "head(rot13encprompts_gpt4_df)"
   ]
  },
  {
   "cell_type": "code",
   "execution_count": null,
   "id": "213ddfa4",
   "metadata": {},
   "outputs": [],
   "source": [
    "scale_prompt_df <- function(df) {\n",
    "    new_df <- data.frame(scale(df[3:8]))\n",
    "    new_df$index <- as.factor(df$index)\n",
    "    new_df$correct <- df$correct\n",
    "    new_df$prompt <- df$prompt\n",
    "    \n",
    "    return(new_df)\n",
    "}\n",
    "\n",
    "scaled_rot13encprompts_gpt4_df <- scale_prompt_df(rot13encprompts_gpt4_df)\n",
    "scaled_rot13decprompts_gpt4_df <- scale_prompt_df(rot13decprompts_gpt4_df)\n"
   ]
  },
  {
   "cell_type": "code",
   "execution_count": null,
   "id": "ecabbd3c",
   "metadata": {},
   "outputs": [],
   "source": [
    "head(scaled_rot13encprompts_gpt4_df)"
   ]
  },
  {
   "cell_type": "code",
   "execution_count": null,
   "id": "1c583fdf",
   "metadata": {},
   "outputs": [],
   "source": [
    "scaled_rot13encprompts_gpt4_df$prompt <- factor(scaled_rot13encprompts_gpt4_df$prompt)\n",
    "scaled_rot13decprompts_gpt4_df$prompt <- factor(scaled_rot13decprompts_gpt4_df$prompt)\n",
    "\n",
    "contrasts(scaled_rot13encprompts_gpt4_df$prompt) <- contr.sum(3)\n",
    "contrasts(scaled_rot13decprompts_gpt4_df$prompt) <- contr.sum(3)\n"
   ]
  },
  {
   "cell_type": "code",
   "execution_count": null,
   "id": "a42542d0",
   "metadata": {},
   "outputs": [],
   "source": [
    "rot13encprompts_gpt4_model <- glmer(correct ~ prompt + (1|index), \n",
    "               data=scaled_rot13encprompts_gpt4_df, family=binomial)\n",
    "rot13decprompts_gpt4_model <- glmer(correct ~ prompt + (1|index), \n",
    "               data=scaled_rot13decprompts_gpt4_df, family=binomial)"
   ]
  },
  {
   "cell_type": "code",
   "execution_count": null,
   "id": "0f855d58",
   "metadata": {},
   "outputs": [],
   "source": [
    "rot13encprompts_gpt4_null_model <- glmer(correct ~ (1|index), \n",
    "               data=scaled_rot13encprompts_gpt4_df, family=binomial)\n",
    "rot13decprompts_gpt4_null_model <- glmer(correct ~ (1|index), \n",
    "               data=scaled_rot13decprompts_gpt4_df, family=binomial)"
   ]
  },
  {
   "cell_type": "code",
   "execution_count": null,
   "id": "dd03ca59",
   "metadata": {},
   "outputs": [],
   "source": [
    "anova(rot13encprompts_gpt4_model,rot13encprompts_gpt4_null_model,prompt=\"Chisq\")"
   ]
  },
  {
   "cell_type": "code",
   "execution_count": null,
   "id": "43fd1109",
   "metadata": {},
   "outputs": [],
   "source": [
    "anova(rot13decprompts_gpt4_model,rot13decprompts_gpt4_null_model,prompt=\"Chisq\")"
   ]
  },
  {
   "cell_type": "code",
   "execution_count": null,
   "id": "4b9c27a4",
   "metadata": {},
   "outputs": [],
   "source": [
    "gpt4enc_rot13_multcomp <- glht(rot13encprompts_gpt4_model, linfct=mcp(prompt=\"Tukey\"))\n",
    "gpt4dec_rot13_multcomp <- glht(rot13decprompts_gpt4_model, linfct=mcp(prompt=\"Tukey\"))\n"
   ]
  },
  {
   "cell_type": "code",
   "execution_count": null,
   "id": "5254d4a4",
   "metadata": {},
   "outputs": [],
   "source": [
    "summary(gpt4enc_rot13_multcomp)"
   ]
  },
  {
   "cell_type": "code",
   "execution_count": null,
   "id": "ebf75bc0",
   "metadata": {},
   "outputs": [],
   "source": [
    "summary(gpt4dec_rot13_multcomp)"
   ]
  },
  {
   "cell_type": "code",
   "execution_count": null,
   "id": "1932119f",
   "metadata": {},
   "outputs": [],
   "source": []
  },
  {
   "cell_type": "code",
   "execution_count": null,
   "id": "9ce6a82a",
   "metadata": {},
   "outputs": [],
   "source": []
  },
  {
   "cell_type": "code",
   "execution_count": null,
   "id": "0d9b8a5b",
   "metadata": {},
   "outputs": [],
   "source": []
  },
  {
   "cell_type": "code",
   "execution_count": null,
   "id": "9d596936",
   "metadata": {},
   "outputs": [],
   "source": []
  },
  {
   "cell_type": "code",
   "execution_count": null,
   "id": "36e04bc4",
   "metadata": {},
   "outputs": [],
   "source": []
  },
  {
   "cell_type": "code",
   "execution_count": null,
   "id": "6723192e",
   "metadata": {},
   "outputs": [],
   "source": []
  },
  {
   "cell_type": "code",
   "execution_count": null,
   "id": "9c5ff138",
   "metadata": {},
   "outputs": [],
   "source": []
  },
  {
   "cell_type": "code",
   "execution_count": null,
   "id": "f48bdcc1",
   "metadata": {},
   "outputs": [],
   "source": []
  },
  {
   "cell_type": "code",
   "execution_count": null,
   "id": "211efae4",
   "metadata": {},
   "outputs": [],
   "source": []
  },
  {
   "cell_type": "code",
   "execution_count": null,
   "id": "514720ad",
   "metadata": {},
   "outputs": [],
   "source": []
  },
  {
   "cell_type": "code",
   "execution_count": null,
   "id": "0e4dfb79",
   "metadata": {},
   "outputs": [],
   "source": []
  },
  {
   "cell_type": "code",
   "execution_count": null,
   "id": "5b3efa71",
   "metadata": {},
   "outputs": [],
   "source": []
  },
  {
   "cell_type": "markdown",
   "id": "9e19c9dc",
   "metadata": {},
   "source": [
    "# Reversal"
   ]
  },
  {
   "cell_type": "code",
   "execution_count": 89,
   "id": "0d7ab1ed",
   "metadata": {},
   "outputs": [],
   "source": [
    "# Read in data\n",
    "revenc_gpt4_df <- read.table(file = 'table_revenc_gpt-4-0613.tsv', sep = '\\t', header = TRUE)\n",
    "revenc_gpt35_df <- read.table(file = 'table_revenc_gpt-3.5-turbo-0613.tsv', sep = '\\t', header = TRUE)\n",
    "\n",
    "revdec_gpt4_df <- read.table(file = 'table_revdec_gpt-4-0613.tsv', sep = '\\t', header = TRUE)\n",
    "revdec_gpt35_df <- read.table(file = 'table_revdec_gpt-3.5-turbo-0613.tsv', sep = '\\t', header = TRUE)"
   ]
  },
  {
   "cell_type": "code",
   "execution_count": 90,
   "id": "f1cbcf13",
   "metadata": {},
   "outputs": [],
   "source": [
    "# Z-score data\n",
    "scaled_revenc_gpt4_df <- scale_df(revenc_gpt4_df)\n",
    "scaled_revenc_gpt35_df <- scale_df(revenc_gpt35_df)\n",
    "\n",
    "scaled_revdec_gpt4_df <- scale_df(revdec_gpt4_df)\n",
    "scaled_revdec_gpt35_df <- scale_df(revdec_gpt35_df)"
   ]
  },
  {
   "cell_type": "code",
   "execution_count": 91,
   "id": "a348a3fa",
   "metadata": {},
   "outputs": [],
   "source": [
    "\n",
    "revenc_gpt4_model <- correct_vs_length_and_prob(scaled_revenc_gpt4_df, include_output_chars=FALSE)\n",
    "revenc_gpt35_model <- correct_vs_length_and_prob(scaled_revenc_gpt35_df, include_output_chars=FALSE)\n",
    "\n",
    "revdec_gpt4_model <- correct_vs_length_and_prob(scaled_revdec_gpt4_df, include_output_chars=FALSE)\n",
    "revdec_gpt35_model <- correct_vs_length_and_prob(scaled_revdec_gpt35_df, include_output_chars=FALSE)\n"
   ]
  },
  {
   "cell_type": "code",
   "execution_count": 92,
   "id": "b737d4cd",
   "metadata": {},
   "outputs": [
    {
     "data": {
      "text/plain": [
       "\n",
       "Call:\n",
       "glm(formula = correct ~ input_logprob + output_logprob + input_ntokens + \n",
       "    output_ntokens + input_nchars, family = binomial, data = df)\n",
       "\n",
       "Deviance Residuals: \n",
       "    Min       1Q   Median       3Q      Max  \n",
       "-2.4293   0.3408   0.4777   0.5977   1.8622  \n",
       "\n",
       "Coefficients:\n",
       "               Estimate Std. Error z value Pr(>|z|)    \n",
       "(Intercept)     1.65177    0.17275   9.562   <2e-16 ***\n",
       "input_logprob  -0.05292    0.20547  -0.258    0.797    \n",
       "output_logprob -0.46448    0.78690  -0.590    0.555    \n",
       "input_ntokens   2.72928    1.88548   1.448    0.148    \n",
       "output_ntokens -3.24191    2.00655  -1.616    0.106    \n",
       "input_nchars   -0.89622    0.65648  -1.365    0.172    \n",
       "---\n",
       "Signif. codes:  0 ‘***’ 0.001 ‘**’ 0.01 ‘*’ 0.05 ‘.’ 0.1 ‘ ’ 1\n",
       "\n",
       "(Dispersion parameter for binomial family taken to be 1)\n",
       "\n",
       "    Null deviance: 294.61  on 299  degrees of freedom\n",
       "Residual deviance: 252.38  on 294  degrees of freedom\n",
       "AIC: 264.38\n",
       "\n",
       "Number of Fisher Scoring iterations: 4\n"
      ]
     },
     "metadata": {},
     "output_type": "display_data"
    }
   ],
   "source": [
    "summary(revenc_gpt4_model)"
   ]
  },
  {
   "cell_type": "code",
   "execution_count": 93,
   "id": "c5944c21",
   "metadata": {},
   "outputs": [
    {
     "data": {
      "text/plain": [
       "\n",
       "Call:\n",
       "glm(formula = correct ~ input_logprob + output_logprob + input_ntokens + \n",
       "    output_ntokens + input_nchars, family = binomial, data = df)\n",
       "\n",
       "Deviance Residuals: \n",
       "    Min       1Q   Median       3Q      Max  \n",
       "-1.5268  -0.9842  -0.4943   1.0049   2.1479  \n",
       "\n",
       "Coefficients:\n",
       "               Estimate Std. Error z value Pr(>|z|)    \n",
       "(Intercept)    -0.64275    0.14184  -4.532 5.85e-06 ***\n",
       "input_logprob   0.27657    0.22757   1.215    0.224    \n",
       "output_logprob -0.11149    0.86103  -0.129    0.897    \n",
       "input_ntokens  -1.68717    1.72867  -0.976    0.329    \n",
       "output_ntokens  0.01594    1.73855   0.009    0.993    \n",
       "input_nchars    0.64733    0.68799   0.941    0.347    \n",
       "---\n",
       "Signif. codes:  0 ‘***’ 0.001 ‘**’ 0.01 ‘*’ 0.05 ‘.’ 0.1 ‘ ’ 1\n",
       "\n",
       "(Dispersion parameter for binomial family taken to be 1)\n",
       "\n",
       "    Null deviance: 400.34  on 299  degrees of freedom\n",
       "Residual deviance: 341.51  on 294  degrees of freedom\n",
       "AIC: 353.51\n",
       "\n",
       "Number of Fisher Scoring iterations: 5\n"
      ]
     },
     "metadata": {},
     "output_type": "display_data"
    }
   ],
   "source": [
    "summary(revenc_gpt35_model)"
   ]
  },
  {
   "cell_type": "code",
   "execution_count": 96,
   "id": "0b096dcf",
   "metadata": {},
   "outputs": [
    {
     "data": {
      "text/plain": [
       "\n",
       "Call:\n",
       "glm(formula = correct ~ input_logprob + output_logprob + input_ntokens + \n",
       "    output_ntokens + input_nchars, family = binomial, data = df)\n",
       "\n",
       "Deviance Residuals: \n",
       "    Min       1Q   Median       3Q      Max  \n",
       "-2.8716   0.1950   0.3063   0.4420   1.9434  \n",
       "\n",
       "Coefficients:\n",
       "               Estimate Std. Error z value Pr(>|z|)    \n",
       "(Intercept)      2.1370     0.2382   8.972  < 2e-16 ***\n",
       "input_logprob   -2.9227     0.9709  -3.010  0.00261 ** \n",
       "output_logprob   2.2588     0.3278   6.891 5.55e-12 ***\n",
       "input_ntokens   -0.1544     2.3128  -0.067  0.94677    \n",
       "output_ntokens  -0.9864     2.2231  -0.444  0.65727    \n",
       "input_nchars    -0.4750     0.7494  -0.634  0.52616    \n",
       "---\n",
       "Signif. codes:  0 ‘***’ 0.001 ‘**’ 0.01 ‘*’ 0.05 ‘.’ 0.1 ‘ ’ 1\n",
       "\n",
       "(Dispersion parameter for binomial family taken to be 1)\n",
       "\n",
       "    Null deviance: 282.84  on 299  degrees of freedom\n",
       "Residual deviance: 193.97  on 294  degrees of freedom\n",
       "AIC: 205.97\n",
       "\n",
       "Number of Fisher Scoring iterations: 6\n"
      ]
     },
     "metadata": {},
     "output_type": "display_data"
    }
   ],
   "source": [
    "summary(revdec_gpt4_model)"
   ]
  },
  {
   "cell_type": "code",
   "execution_count": 97,
   "id": "a0c754c4",
   "metadata": {},
   "outputs": [
    {
     "data": {
      "text/plain": [
       "\n",
       "Call:\n",
       "glm(formula = correct ~ input_logprob + output_logprob + input_ntokens + \n",
       "    output_ntokens + input_nchars, family = binomial, data = df)\n",
       "\n",
       "Deviance Residuals: \n",
       "    Min       1Q   Median       3Q      Max  \n",
       "-1.9950  -0.9029   0.5507   0.8212   2.5696  \n",
       "\n",
       "Coefficients:\n",
       "               Estimate Std. Error z value Pr(>|z|)    \n",
       "(Intercept)     0.03854    0.14148   0.272  0.78530    \n",
       "input_logprob  -2.61145    0.89685  -2.912  0.00359 ** \n",
       "output_logprob  1.51108    0.25516   5.922 3.18e-09 ***\n",
       "input_ntokens  -2.93531    1.82509  -1.608  0.10777    \n",
       "output_ntokens  0.62214    1.76568   0.352  0.72457    \n",
       "input_nchars   -0.36102    0.72336  -0.499  0.61772    \n",
       "---\n",
       "Signif. codes:  0 ‘***’ 0.001 ‘**’ 0.01 ‘*’ 0.05 ‘.’ 0.1 ‘ ’ 1\n",
       "\n",
       "(Dispersion parameter for binomial family taken to be 1)\n",
       "\n",
       "    Null deviance: 413.97  on 299  degrees of freedom\n",
       "Residual deviance: 321.55  on 294  degrees of freedom\n",
       "AIC: 333.55\n",
       "\n",
       "Number of Fisher Scoring iterations: 5\n"
      ]
     },
     "metadata": {},
     "output_type": "display_data"
    }
   ],
   "source": [
    "summary(revdec_gpt35_model)"
   ]
  },
  {
   "cell_type": "code",
   "execution_count": 94,
   "id": "53e4d2f4",
   "metadata": {},
   "outputs": [
    {
     "data": {
      "text/html": [
       "<style>\n",
       ".dl-inline {width: auto; margin:0; padding: 0}\n",
       ".dl-inline>dt, .dl-inline>dd {float: none; width: auto; display: inline-block}\n",
       ".dl-inline>dt::after {content: \":\\0020\"; padding-right: .5ex}\n",
       ".dl-inline>dt:not(:first-of-type) {padding-left: .5ex}\n",
       "</style><dl class=dl-inline><dt>input_logprob</dt><dd>2.01305515545779</dd><dt>output_logprob</dt><dd>25.5253992837609</dd><dt>input_ntokens</dt><dd>145.583378953371</dd><dt>output_ntokens</dt><dd>162.766743676689</dd><dt>input_nchars</dt><dd>17.4944237453238</dd></dl>\n"
      ],
      "text/latex": [
       "\\begin{description*}\n",
       "\\item[input\\textbackslash{}\\_logprob] 2.01305515545779\n",
       "\\item[output\\textbackslash{}\\_logprob] 25.5253992837609\n",
       "\\item[input\\textbackslash{}\\_ntokens] 145.583378953371\n",
       "\\item[output\\textbackslash{}\\_ntokens] 162.766743676689\n",
       "\\item[input\\textbackslash{}\\_nchars] 17.4944237453238\n",
       "\\end{description*}\n"
      ],
      "text/markdown": [
       "input_logprob\n",
       ":   2.01305515545779output_logprob\n",
       ":   25.5253992837609input_ntokens\n",
       ":   145.583378953371output_ntokens\n",
       ":   162.766743676689input_nchars\n",
       ":   17.4944237453238\n",
       "\n"
      ],
      "text/plain": [
       " input_logprob output_logprob  input_ntokens output_ntokens   input_nchars \n",
       "      2.013055      25.525399     145.583379     162.766744      17.494424 "
      ]
     },
     "metadata": {},
     "output_type": "display_data"
    }
   ],
   "source": [
    "vif(revenc_gpt4_model)"
   ]
  },
  {
   "cell_type": "code",
   "execution_count": 95,
   "id": "b9205821",
   "metadata": {},
   "outputs": [
    {
     "data": {
      "text/html": [
       "<style>\n",
       ".dl-inline {width: auto; margin:0; padding: 0}\n",
       ".dl-inline>dt, .dl-inline>dd {float: none; width: auto; display: inline-block}\n",
       ".dl-inline>dt::after {content: \":\\0020\"; padding-right: .5ex}\n",
       ".dl-inline>dt:not(:first-of-type) {padding-left: .5ex}\n",
       "</style><dl class=dl-inline><dt>input_logprob</dt><dd>1.82367095229225</dd><dt>output_logprob</dt><dd>26.2383595192743</dd><dt>input_ntokens</dt><dd>96.4606869671017</dd><dt>output_ntokens</dt><dd>98.7735755609816</dd><dt>input_nchars</dt><dd>16.1880544967448</dd></dl>\n"
      ],
      "text/latex": [
       "\\begin{description*}\n",
       "\\item[input\\textbackslash{}\\_logprob] 1.82367095229225\n",
       "\\item[output\\textbackslash{}\\_logprob] 26.2383595192743\n",
       "\\item[input\\textbackslash{}\\_ntokens] 96.4606869671017\n",
       "\\item[output\\textbackslash{}\\_ntokens] 98.7735755609816\n",
       "\\item[input\\textbackslash{}\\_nchars] 16.1880544967448\n",
       "\\end{description*}\n"
      ],
      "text/markdown": [
       "input_logprob\n",
       ":   1.82367095229225output_logprob\n",
       ":   26.2383595192743input_ntokens\n",
       ":   96.4606869671017output_ntokens\n",
       ":   98.7735755609816input_nchars\n",
       ":   16.1880544967448\n",
       "\n"
      ],
      "text/plain": [
       " input_logprob output_logprob  input_ntokens output_ntokens   input_nchars \n",
       "      1.823671      26.238360      96.460687      98.773576      16.188054 "
      ]
     },
     "metadata": {},
     "output_type": "display_data"
    }
   ],
   "source": [
    "vif(revenc_gpt35_model)"
   ]
  },
  {
   "cell_type": "code",
   "execution_count": 98,
   "id": "57d5738c",
   "metadata": {},
   "outputs": [
    {
     "data": {
      "text/html": [
       "<style>\n",
       ".dl-inline {width: auto; margin:0; padding: 0}\n",
       ".dl-inline>dt, .dl-inline>dd {float: none; width: auto; display: inline-block}\n",
       ".dl-inline>dt::after {content: \":\\0020\"; padding-right: .5ex}\n",
       ".dl-inline>dt:not(:first-of-type) {padding-left: .5ex}\n",
       "</style><dl class=dl-inline><dt>input_logprob</dt><dd>24.9041182291623</dd><dt>output_logprob</dt><dd>3.32579936812221</dd><dt>input_ntokens</dt><dd>139.564287621022</dd><dt>output_ntokens</dt><dd>126.082515162154</dd><dt>input_nchars</dt><dd>15.1935054301078</dd></dl>\n"
      ],
      "text/latex": [
       "\\begin{description*}\n",
       "\\item[input\\textbackslash{}\\_logprob] 24.9041182291623\n",
       "\\item[output\\textbackslash{}\\_logprob] 3.32579936812221\n",
       "\\item[input\\textbackslash{}\\_ntokens] 139.564287621022\n",
       "\\item[output\\textbackslash{}\\_ntokens] 126.082515162154\n",
       "\\item[input\\textbackslash{}\\_nchars] 15.1935054301078\n",
       "\\end{description*}\n"
      ],
      "text/markdown": [
       "input_logprob\n",
       ":   24.9041182291623output_logprob\n",
       ":   3.32579936812221input_ntokens\n",
       ":   139.564287621022output_ntokens\n",
       ":   126.082515162154input_nchars\n",
       ":   15.1935054301078\n",
       "\n"
      ],
      "text/plain": [
       " input_logprob output_logprob  input_ntokens output_ntokens   input_nchars \n",
       "     24.904118       3.325799     139.564288     126.082515      15.193505 "
      ]
     },
     "metadata": {},
     "output_type": "display_data"
    }
   ],
   "source": [
    "vif(revdec_gpt4_model)"
   ]
  },
  {
   "cell_type": "code",
   "execution_count": 99,
   "id": "51f137d5",
   "metadata": {},
   "outputs": [
    {
     "data": {
      "text/html": [
       "<style>\n",
       ".dl-inline {width: auto; margin:0; padding: 0}\n",
       ".dl-inline>dt, .dl-inline>dd {float: none; width: auto; display: inline-block}\n",
       ".dl-inline>dt::after {content: \":\\0020\"; padding-right: .5ex}\n",
       ".dl-inline>dt:not(:first-of-type) {padding-left: .5ex}\n",
       "</style><dl class=dl-inline><dt>input_logprob</dt><dd>34.4616521390987</dd><dt>output_logprob</dt><dd>1.7591955184937</dd><dt>input_ntokens</dt><dd>135.204630484374</dd><dt>output_ntokens</dt><dd>127.860575828879</dd><dt>input_nchars</dt><dd>20.9846697386364</dd></dl>\n"
      ],
      "text/latex": [
       "\\begin{description*}\n",
       "\\item[input\\textbackslash{}\\_logprob] 34.4616521390987\n",
       "\\item[output\\textbackslash{}\\_logprob] 1.7591955184937\n",
       "\\item[input\\textbackslash{}\\_ntokens] 135.204630484374\n",
       "\\item[output\\textbackslash{}\\_ntokens] 127.860575828879\n",
       "\\item[input\\textbackslash{}\\_nchars] 20.9846697386364\n",
       "\\end{description*}\n"
      ],
      "text/markdown": [
       "input_logprob\n",
       ":   34.4616521390987output_logprob\n",
       ":   1.7591955184937input_ntokens\n",
       ":   135.204630484374output_ntokens\n",
       ":   127.860575828879input_nchars\n",
       ":   20.9846697386364\n",
       "\n"
      ],
      "text/plain": [
       " input_logprob output_logprob  input_ntokens output_ntokens   input_nchars \n",
       "     34.461652       1.759196     135.204630     127.860576      20.984670 "
      ]
     },
     "metadata": {},
     "output_type": "display_data"
    }
   ],
   "source": [
    "vif(revdec_gpt35_model)"
   ]
  },
  {
   "cell_type": "code",
   "execution_count": null,
   "id": "173850bd",
   "metadata": {},
   "outputs": [],
   "source": []
  },
  {
   "cell_type": "code",
   "execution_count": null,
   "id": "7d80bb79",
   "metadata": {},
   "outputs": [],
   "source": []
  },
  {
   "cell_type": "code",
   "execution_count": null,
   "id": "07353f49",
   "metadata": {},
   "outputs": [],
   "source": []
  },
  {
   "cell_type": "code",
   "execution_count": null,
   "id": "82fc355a",
   "metadata": {},
   "outputs": [],
   "source": []
  },
  {
   "cell_type": "code",
   "execution_count": null,
   "id": "f3dc9fd7",
   "metadata": {},
   "outputs": [],
   "source": []
  },
  {
   "cell_type": "markdown",
   "id": "01bb7bfc",
   "metadata": {},
   "source": [
    "# Swap"
   ]
  },
  {
   "cell_type": "code",
   "execution_count": 139,
   "id": "9552318b",
   "metadata": {},
   "outputs": [],
   "source": [
    "# Read in data\n",
    "swap_next_base_gpt4_df <- read.table(file = 'table_swap_next_base_gpt-4-0613.tsv', sep = '\\t', header = TRUE)\n",
    "swap_next_base_gpt35_df <- read.table(file = 'table_swap_next_base_gpt-3.5-turbo-0613.tsv', sep = '\\t', header = TRUE)\n",
    "\n"
   ]
  },
  {
   "cell_type": "code",
   "execution_count": 140,
   "id": "e3fa8583",
   "metadata": {},
   "outputs": [],
   "source": [
    "# Z-score data\n",
    "scaled_swap_next_base_gpt4_df <- scale_df(swap_next_base_gpt4_df)\n",
    "scaled_swap_next_base_gpt35_df <- scale_df(swap_next_base_gpt35_df)\n",
    "\n"
   ]
  },
  {
   "cell_type": "code",
   "execution_count": 141,
   "id": "a68600d0",
   "metadata": {},
   "outputs": [],
   "source": [
    "swap_next_base_gpt4_model <- glm(correct ~ input_logprob + output_logprob + input_ntokens + input_nchars, \n",
    "                                 data=scaled_swap_next_base_gpt4_df, family=binomial)\n",
    "swap_next_base_gpt35_model <- glm(correct ~ input_logprob + output_logprob + input_ntokens + input_nchars, \n",
    "                                 data=scaled_swap_next_base_gpt35_df, family=binomial)\n"
   ]
  },
  {
   "cell_type": "code",
   "execution_count": 142,
   "id": "2023e810",
   "metadata": {},
   "outputs": [
    {
     "data": {
      "text/html": [
       "<style>\n",
       ".dl-inline {width: auto; margin:0; padding: 0}\n",
       ".dl-inline>dt, .dl-inline>dd {float: none; width: auto; display: inline-block}\n",
       ".dl-inline>dt::after {content: \":\\0020\"; padding-right: .5ex}\n",
       ".dl-inline>dt:not(:first-of-type) {padding-left: .5ex}\n",
       "</style><dl class=dl-inline><dt>input_logprob</dt><dd>18.1305597206729</dd><dt>output_logprob</dt><dd>11.6298899070816</dd><dt>input_ntokens</dt><dd>21.1405693155583</dd><dt>input_nchars</dt><dd>17.0537475228392</dd></dl>\n"
      ],
      "text/latex": [
       "\\begin{description*}\n",
       "\\item[input\\textbackslash{}\\_logprob] 18.1305597206729\n",
       "\\item[output\\textbackslash{}\\_logprob] 11.6298899070816\n",
       "\\item[input\\textbackslash{}\\_ntokens] 21.1405693155583\n",
       "\\item[input\\textbackslash{}\\_nchars] 17.0537475228392\n",
       "\\end{description*}\n"
      ],
      "text/markdown": [
       "input_logprob\n",
       ":   18.1305597206729output_logprob\n",
       ":   11.6298899070816input_ntokens\n",
       ":   21.1405693155583input_nchars\n",
       ":   17.0537475228392\n",
       "\n"
      ],
      "text/plain": [
       " input_logprob output_logprob  input_ntokens   input_nchars \n",
       "      18.13056       11.62989       21.14057       17.05375 "
      ]
     },
     "metadata": {},
     "output_type": "display_data"
    }
   ],
   "source": [
    "vif(swap_next_base_gpt4_model)"
   ]
  },
  {
   "cell_type": "code",
   "execution_count": 143,
   "id": "1dffe90a",
   "metadata": {},
   "outputs": [
    {
     "data": {
      "text/html": [
       "<style>\n",
       ".dl-inline {width: auto; margin:0; padding: 0}\n",
       ".dl-inline>dt, .dl-inline>dd {float: none; width: auto; display: inline-block}\n",
       ".dl-inline>dt::after {content: \":\\0020\"; padding-right: .5ex}\n",
       ".dl-inline>dt:not(:first-of-type) {padding-left: .5ex}\n",
       "</style><dl class=dl-inline><dt>input_logprob</dt><dd>16.317012624808</dd><dt>output_logprob</dt><dd>10.3003909680769</dd><dt>input_ntokens</dt><dd>18.5357982420113</dd><dt>input_nchars</dt><dd>15.9973651641744</dd></dl>\n"
      ],
      "text/latex": [
       "\\begin{description*}\n",
       "\\item[input\\textbackslash{}\\_logprob] 16.317012624808\n",
       "\\item[output\\textbackslash{}\\_logprob] 10.3003909680769\n",
       "\\item[input\\textbackslash{}\\_ntokens] 18.5357982420113\n",
       "\\item[input\\textbackslash{}\\_nchars] 15.9973651641744\n",
       "\\end{description*}\n"
      ],
      "text/markdown": [
       "input_logprob\n",
       ":   16.317012624808output_logprob\n",
       ":   10.3003909680769input_ntokens\n",
       ":   18.5357982420113input_nchars\n",
       ":   15.9973651641744\n",
       "\n"
      ],
      "text/plain": [
       " input_logprob output_logprob  input_ntokens   input_nchars \n",
       "      16.31701       10.30039       18.53580       15.99737 "
      ]
     },
     "metadata": {},
     "output_type": "display_data"
    }
   ],
   "source": [
    "vif(swap_next_base_gpt35_model)"
   ]
  },
  {
   "cell_type": "markdown",
   "id": "5cdd18b7",
   "metadata": {},
   "source": [
    "### Rerunning with just output logprob"
   ]
  },
  {
   "cell_type": "code",
   "execution_count": 144,
   "id": "dea069e0",
   "metadata": {},
   "outputs": [],
   "source": [
    "swap_next_base_gpt4_model <- glm(correct ~ output_logprob + input_ntokens + input_nchars, \n",
    "                                 data=scaled_swap_next_base_gpt4_df, family=binomial)\n",
    "swap_next_base_gpt35_model <- glm(correct ~ output_logprob + input_ntokens + input_nchars, \n",
    "                                 data=scaled_swap_next_base_gpt35_df, family=binomial)\n"
   ]
  },
  {
   "cell_type": "code",
   "execution_count": 145,
   "id": "e4204722",
   "metadata": {},
   "outputs": [
    {
     "data": {
      "text/plain": [
       "\n",
       "Call:\n",
       "glm(formula = correct ~ output_logprob + input_ntokens + input_nchars, \n",
       "    family = binomial, data = scaled_swap_next_base_gpt4_df)\n",
       "\n",
       "Deviance Residuals: \n",
       "     Min        1Q    Median        3Q       Max  \n",
       "-2.23047  -0.54883  -0.07368   0.65085   2.53538  \n",
       "\n",
       "Coefficients:\n",
       "               Estimate Std. Error z value Pr(>|z|)    \n",
       "(Intercept)     -0.6818     0.1924  -3.543 0.000396 ***\n",
       "output_logprob   3.5219     0.4123   8.541  < 2e-16 ***\n",
       "input_ntokens    2.2323     0.7371   3.029 0.002457 ** \n",
       "input_nchars    -0.5648     0.6971  -0.810 0.417840    \n",
       "---\n",
       "Signif. codes:  0 ‘***’ 0.001 ‘**’ 0.01 ‘*’ 0.05 ‘.’ 0.1 ‘ ’ 1\n",
       "\n",
       "(Dispersion parameter for binomial family taken to be 1)\n",
       "\n",
       "    Null deviance: 413.97  on 299  degrees of freedom\n",
       "Residual deviance: 245.89  on 296  degrees of freedom\n",
       "AIC: 253.89\n",
       "\n",
       "Number of Fisher Scoring iterations: 6\n"
      ]
     },
     "metadata": {},
     "output_type": "display_data"
    }
   ],
   "source": [
    "summary(swap_next_base_gpt4_model)"
   ]
  },
  {
   "cell_type": "code",
   "execution_count": 146,
   "id": "373ef81e",
   "metadata": {},
   "outputs": [
    {
     "data": {
      "text/plain": [
       "\n",
       "Call:\n",
       "glm(formula = correct ~ output_logprob + input_ntokens + input_nchars, \n",
       "    family = binomial, data = scaled_swap_next_base_gpt35_df)\n",
       "\n",
       "Deviance Residuals: \n",
       "    Min       1Q   Median       3Q      Max  \n",
       "-1.6911  -0.9031  -0.3101   0.9510   2.2064  \n",
       "\n",
       "Coefficients:\n",
       "               Estimate Std. Error z value Pr(>|z|)    \n",
       "(Intercept)     -0.8507     0.1628  -5.224 1.75e-07 ***\n",
       "output_logprob   1.9801     0.2885   6.864 6.69e-12 ***\n",
       "input_ntokens    0.2248     0.5931   0.379    0.705    \n",
       "input_nchars     0.4359     0.5867   0.743    0.457    \n",
       "---\n",
       "Signif. codes:  0 ‘***’ 0.001 ‘**’ 0.01 ‘*’ 0.05 ‘.’ 0.1 ‘ ’ 1\n",
       "\n",
       "(Dispersion parameter for binomial family taken to be 1)\n",
       "\n",
       "    Null deviance: 397.45  on 299  degrees of freedom\n",
       "Residual deviance: 316.07  on 296  degrees of freedom\n",
       "AIC: 324.07\n",
       "\n",
       "Number of Fisher Scoring iterations: 5\n"
      ]
     },
     "metadata": {},
     "output_type": "display_data"
    }
   ],
   "source": [
    "summary(swap_next_base_gpt35_model)"
   ]
  },
  {
   "cell_type": "code",
   "execution_count": 147,
   "id": "a27d92e3",
   "metadata": {},
   "outputs": [
    {
     "data": {
      "text/html": [
       "<style>\n",
       ".dl-inline {width: auto; margin:0; padding: 0}\n",
       ".dl-inline>dt, .dl-inline>dd {float: none; width: auto; display: inline-block}\n",
       ".dl-inline>dt::after {content: \":\\0020\"; padding-right: .5ex}\n",
       ".dl-inline>dt:not(:first-of-type) {padding-left: .5ex}\n",
       "</style><dl class=dl-inline><dt>output_logprob</dt><dd>2.21995798360647</dd><dt>input_ntokens</dt><dd>18.2709208278614</dd><dt>input_nchars</dt><dd>16.8730240429587</dd></dl>\n"
      ],
      "text/latex": [
       "\\begin{description*}\n",
       "\\item[output\\textbackslash{}\\_logprob] 2.21995798360647\n",
       "\\item[input\\textbackslash{}\\_ntokens] 18.2709208278614\n",
       "\\item[input\\textbackslash{}\\_nchars] 16.8730240429587\n",
       "\\end{description*}\n"
      ],
      "text/markdown": [
       "output_logprob\n",
       ":   2.21995798360647input_ntokens\n",
       ":   18.2709208278614input_nchars\n",
       ":   16.8730240429587\n",
       "\n"
      ],
      "text/plain": [
       "output_logprob  input_ntokens   input_nchars \n",
       "      2.219958      18.270921      16.873024 "
      ]
     },
     "metadata": {},
     "output_type": "display_data"
    }
   ],
   "source": [
    "vif(swap_next_base_gpt4_model)"
   ]
  },
  {
   "cell_type": "code",
   "execution_count": 148,
   "id": "6ff61316",
   "metadata": {},
   "outputs": [
    {
     "data": {
      "text/html": [
       "<style>\n",
       ".dl-inline {width: auto; margin:0; padding: 0}\n",
       ".dl-inline>dt, .dl-inline>dd {float: none; width: auto; display: inline-block}\n",
       ".dl-inline>dt::after {content: \":\\0020\"; padding-right: .5ex}\n",
       ".dl-inline>dt:not(:first-of-type) {padding-left: .5ex}\n",
       "</style><dl class=dl-inline><dt>output_logprob</dt><dd>1.68888491361638</dd><dt>input_ntokens</dt><dd>15.8391549672617</dd><dt>input_nchars</dt><dd>16.0405250037991</dd></dl>\n"
      ],
      "text/latex": [
       "\\begin{description*}\n",
       "\\item[output\\textbackslash{}\\_logprob] 1.68888491361638\n",
       "\\item[input\\textbackslash{}\\_ntokens] 15.8391549672617\n",
       "\\item[input\\textbackslash{}\\_nchars] 16.0405250037991\n",
       "\\end{description*}\n"
      ],
      "text/markdown": [
       "output_logprob\n",
       ":   1.68888491361638input_ntokens\n",
       ":   15.8391549672617input_nchars\n",
       ":   16.0405250037991\n",
       "\n"
      ],
      "text/plain": [
       "output_logprob  input_ntokens   input_nchars \n",
       "      1.688885      15.839155      16.040525 "
      ]
     },
     "metadata": {},
     "output_type": "display_data"
    }
   ],
   "source": [
    "vif(swap_next_base_gpt35_model)"
   ]
  },
  {
   "cell_type": "markdown",
   "id": "3f4b1416",
   "metadata": {},
   "source": [
    "# Pig Latin"
   ]
  },
  {
   "cell_type": "code",
   "execution_count": 100,
   "id": "f1eb8367",
   "metadata": {},
   "outputs": [],
   "source": [
    "# Read in data\n",
    "pigenc_gpt4_df <- read.table(file = 'table_pig_ay_enc_gpt-4-0613.tsv', sep = '\\t', header = TRUE)\n",
    "pigenc_gpt35_df <- read.table(file = 'table_pig_ay_enc_gpt-3.5-turbo-0613.tsv', sep = '\\t', header = TRUE)\n",
    "\n",
    "pigdec_gpt4_df <- read.table(file = 'table_pig_ay_dec_gpt-4-0613.tsv', sep = '\\t', header = TRUE)\n",
    "pigdec_gpt35_df <- read.table(file = 'table_pig_ay_dec_gpt-3.5-turbo-0613.tsv', sep = '\\t', header = TRUE)"
   ]
  },
  {
   "cell_type": "code",
   "execution_count": 101,
   "id": "b804b331",
   "metadata": {},
   "outputs": [],
   "source": [
    "# Z-score data\n",
    "scaled_pigenc_gpt4_df <- scale_df(pigenc_gpt4_df)\n",
    "scaled_pigenc_gpt35_df <- scale_df(pigenc_gpt35_df)\n",
    "\n",
    "scaled_pigdec_gpt4_df <- scale_df(pigdec_gpt4_df)\n",
    "scaled_pigdec_gpt35_df <- scale_df(pigdec_gpt35_df)"
   ]
  },
  {
   "cell_type": "code",
   "execution_count": 102,
   "id": "033a63e8",
   "metadata": {},
   "outputs": [],
   "source": [
    "\n",
    "pigenc_gpt4_model <- correct_vs_length_and_prob(scaled_pigenc_gpt4_df, include_output_chars=TRUE)\n",
    "pigenc_gpt35_model <- correct_vs_length_and_prob(scaled_pigenc_gpt35_df, include_output_chars=TRUE)\n",
    "\n",
    "pigdec_gpt4_model <- correct_vs_length_and_prob(scaled_pigdec_gpt4_df, include_output_chars=TRUE)\n",
    "pigdec_gpt35_model <- correct_vs_length_and_prob(scaled_pigdec_gpt35_df, include_output_chars=TRUE)"
   ]
  },
  {
   "cell_type": "code",
   "execution_count": 103,
   "id": "9a8244d8",
   "metadata": {},
   "outputs": [
    {
     "data": {
      "text/plain": [
       "\n",
       "Call:\n",
       "glm(formula = correct ~ input_logprob + output_logprob + input_ntokens + \n",
       "    output_ntokens + input_nchars + output_nchars, family = binomial, \n",
       "    data = df)\n",
       "\n",
       "Deviance Residuals: \n",
       "    Min       1Q   Median       3Q      Max  \n",
       "-1.7494  -1.0129  -0.6483   1.1876   2.0373  \n",
       "\n",
       "Coefficients:\n",
       "               Estimate Std. Error z value Pr(>|z|)    \n",
       "(Intercept)    -0.52418    0.12731  -4.117 3.83e-05 ***\n",
       "input_logprob  -0.02844    0.18989  -0.150  0.88097    \n",
       "output_logprob  1.93966    0.70569   2.749  0.00598 ** \n",
       "input_ntokens   1.89304    0.79457   2.382  0.01720 *  \n",
       "output_ntokens  1.90174    0.99917   1.903  0.05700 .  \n",
       "input_nchars    5.93802    2.95840   2.007  0.04473 *  \n",
       "output_nchars  -8.30880    3.67071  -2.264  0.02360 *  \n",
       "---\n",
       "Signif. codes:  0 ‘***’ 0.001 ‘**’ 0.01 ‘*’ 0.05 ‘.’ 0.1 ‘ ’ 1\n",
       "\n",
       "(Dispersion parameter for binomial family taken to be 1)\n",
       "\n",
       "    Null deviance: 400.34  on 299  degrees of freedom\n",
       "Residual deviance: 368.70  on 293  degrees of freedom\n",
       "AIC: 382.7\n",
       "\n",
       "Number of Fisher Scoring iterations: 3\n"
      ]
     },
     "metadata": {},
     "output_type": "display_data"
    }
   ],
   "source": [
    "summary(pigenc_gpt4_model) "
   ]
  },
  {
   "cell_type": "code",
   "execution_count": 132,
   "id": "ca1a7bfa",
   "metadata": {},
   "outputs": [
    {
     "data": {
      "text/plain": [
       "\n",
       "Call:\n",
       "glm(formula = correct ~ input_logprob + output_logprob + input_ntokens + \n",
       "    output_ntokens + input_nchars + output_nchars, family = binomial, \n",
       "    data = df)\n",
       "\n",
       "Deviance Residuals: \n",
       "    Min       1Q   Median       3Q      Max  \n",
       "-1.3523  -0.8287  -0.6536   1.1613   2.2372  \n",
       "\n",
       "Coefficients:\n",
       "               Estimate Std. Error z value Pr(>|z|)    \n",
       "(Intercept)    -1.16906    0.14519  -8.052 8.15e-16 ***\n",
       "input_logprob   0.08184    0.21390   0.383   0.7020    \n",
       "output_logprob  0.91205    0.74120   1.230   0.2185    \n",
       "input_ntokens   1.72350    0.86877   1.984   0.0473 *  \n",
       "output_ntokens -0.86339    1.09634  -0.788   0.4310    \n",
       "input_nchars   -1.56653    3.29903  -0.475   0.6349    \n",
       "output_nchars   1.17719    4.02761   0.292   0.7701    \n",
       "---\n",
       "Signif. codes:  0 ‘***’ 0.001 ‘**’ 0.01 ‘*’ 0.05 ‘.’ 0.1 ‘ ’ 1\n",
       "\n",
       "(Dispersion parameter for binomial family taken to be 1)\n",
       "\n",
       "    Null deviance: 341.72  on 299  degrees of freedom\n",
       "Residual deviance: 321.69  on 293  degrees of freedom\n",
       "AIC: 335.69\n",
       "\n",
       "Number of Fisher Scoring iterations: 4\n"
      ]
     },
     "metadata": {},
     "output_type": "display_data"
    }
   ],
   "source": [
    "summary(pigenc_gpt35_model)"
   ]
  },
  {
   "cell_type": "code",
   "execution_count": 135,
   "id": "7729acf2",
   "metadata": {},
   "outputs": [
    {
     "data": {
      "text/plain": [
       "\n",
       "Call:\n",
       "glm(formula = correct ~ input_logprob + output_logprob + input_ntokens + \n",
       "    output_ntokens + input_nchars + output_nchars, family = binomial, \n",
       "    data = df)\n",
       "\n",
       "Deviance Residuals: \n",
       "    Min       1Q   Median       3Q      Max  \n",
       "-2.8502  -0.8200   0.4322   0.7549   2.2193  \n",
       "\n",
       "Coefficients:\n",
       "               Estimate Std. Error z value Pr(>|z|)    \n",
       "(Intercept)      0.5917     0.1518   3.898 9.71e-05 ***\n",
       "input_logprob    0.9396     0.7882   1.192    0.233    \n",
       "output_logprob   2.0122     0.2523   7.976 1.51e-15 ***\n",
       "input_ntokens    0.8526     1.1394   0.748    0.454    \n",
       "output_ntokens  -1.0679     0.9202  -1.161    0.246    \n",
       "input_nchars     4.2380     4.2569   0.996    0.319    \n",
       "output_nchars   -1.4817     3.4520  -0.429    0.668    \n",
       "---\n",
       "Signif. codes:  0 ‘***’ 0.001 ‘**’ 0.01 ‘*’ 0.05 ‘.’ 0.1 ‘ ’ 1\n",
       "\n",
       "(Dispersion parameter for binomial family taken to be 1)\n",
       "\n",
       "    Null deviance: 403.81  on 299  degrees of freedom\n",
       "Residual deviance: 297.55  on 293  degrees of freedom\n",
       "AIC: 311.55\n",
       "\n",
       "Number of Fisher Scoring iterations: 5\n"
      ]
     },
     "metadata": {},
     "output_type": "display_data"
    }
   ],
   "source": [
    "summary(pigdec_gpt4_model)"
   ]
  },
  {
   "cell_type": "code",
   "execution_count": 136,
   "id": "e041647f",
   "metadata": {},
   "outputs": [
    {
     "data": {
      "text/plain": [
       "\n",
       "Call:\n",
       "glm(formula = correct ~ input_logprob + output_logprob + input_ntokens + \n",
       "    output_ntokens + input_nchars + output_nchars, family = binomial, \n",
       "    data = df)\n",
       "\n",
       "Deviance Residuals: \n",
       "    Min       1Q   Median       3Q      Max  \n",
       "-1.6092  -0.6466  -0.1985   0.6533   3.3620  \n",
       "\n",
       "Coefficients:\n",
       "               Estimate Std. Error z value Pr(>|z|)    \n",
       "(Intercept)     -2.0072     0.2743  -7.317 2.54e-13 ***\n",
       "input_logprob    1.4048     0.8884   1.581   0.1138    \n",
       "output_logprob   3.1852     0.4590   6.940 3.93e-12 ***\n",
       "input_ntokens    0.3708     1.2622   0.294   0.7689    \n",
       "output_ntokens  -2.3121     1.0911  -2.119   0.0341 *  \n",
       "input_nchars     4.7209     4.8613   0.971   0.3315    \n",
       "output_nchars   -0.2726     3.9111  -0.070   0.9444    \n",
       "---\n",
       "Signif. codes:  0 ‘***’ 0.001 ‘**’ 0.01 ‘*’ 0.05 ‘.’ 0.1 ‘ ’ 1\n",
       "\n",
       "(Dispersion parameter for binomial family taken to be 1)\n",
       "\n",
       "    Null deviance: 357.64  on 299  degrees of freedom\n",
       "Residual deviance: 236.09  on 293  degrees of freedom\n",
       "AIC: 250.09\n",
       "\n",
       "Number of Fisher Scoring iterations: 6\n"
      ]
     },
     "metadata": {},
     "output_type": "display_data"
    }
   ],
   "source": [
    "summary(pigdec_gpt35_model)"
   ]
  },
  {
   "cell_type": "code",
   "execution_count": 133,
   "id": "2100ffb0",
   "metadata": {},
   "outputs": [
    {
     "data": {
      "text/html": [
       "<style>\n",
       ".dl-inline {width: auto; margin:0; padding: 0}\n",
       ".dl-inline>dt, .dl-inline>dd {float: none; width: auto; display: inline-block}\n",
       ".dl-inline>dt::after {content: \":\\0020\"; padding-right: .5ex}\n",
       ".dl-inline>dt:not(:first-of-type) {padding-left: .5ex}\n",
       "</style><dl class=dl-inline><dt>input_logprob</dt><dd>1.98362822091571</dd><dt>output_logprob</dt><dd>26.4563142889713</dd><dt>input_ntokens</dt><dd>35.4441082539339</dd><dt>output_ntokens</dt><dd>54.8502085461474</dd><dt>input_nchars</dt><dd>476.276454492682</dd><dt>output_nchars</dt><dd>731.962743115561</dd></dl>\n"
      ],
      "text/latex": [
       "\\begin{description*}\n",
       "\\item[input\\textbackslash{}\\_logprob] 1.98362822091571\n",
       "\\item[output\\textbackslash{}\\_logprob] 26.4563142889713\n",
       "\\item[input\\textbackslash{}\\_ntokens] 35.4441082539339\n",
       "\\item[output\\textbackslash{}\\_ntokens] 54.8502085461474\n",
       "\\item[input\\textbackslash{}\\_nchars] 476.276454492682\n",
       "\\item[output\\textbackslash{}\\_nchars] 731.962743115561\n",
       "\\end{description*}\n"
      ],
      "text/markdown": [
       "input_logprob\n",
       ":   1.98362822091571output_logprob\n",
       ":   26.4563142889713input_ntokens\n",
       ":   35.4441082539339output_ntokens\n",
       ":   54.8502085461474input_nchars\n",
       ":   476.276454492682output_nchars\n",
       ":   731.962743115561\n",
       "\n"
      ],
      "text/plain": [
       " input_logprob output_logprob  input_ntokens output_ntokens   input_nchars \n",
       "      1.983628      26.456314      35.444108      54.850209     476.276454 \n",
       " output_nchars \n",
       "    731.962743 "
      ]
     },
     "metadata": {},
     "output_type": "display_data"
    }
   ],
   "source": [
    "vif(pigenc_gpt4_model)"
   ]
  },
  {
   "cell_type": "code",
   "execution_count": 134,
   "id": "8407958d",
   "metadata": {},
   "outputs": [
    {
     "data": {
      "text/html": [
       "<style>\n",
       ".dl-inline {width: auto; margin:0; padding: 0}\n",
       ".dl-inline>dt, .dl-inline>dd {float: none; width: auto; display: inline-block}\n",
       ".dl-inline>dt::after {content: \":\\0020\"; padding-right: .5ex}\n",
       ".dl-inline>dt:not(:first-of-type) {padding-left: .5ex}\n",
       "</style><dl class=dl-inline><dt>input_logprob</dt><dd>1.88025868016577</dd><dt>output_logprob</dt><dd>23.1837863766082</dd><dt>input_ntokens</dt><dd>34.5091256141936</dd><dt>output_ntokens</dt><dd>51.7700252105828</dd><dt>input_nchars</dt><dd>465.307171751972</dd><dt>output_nchars</dt><dd>700.189807157601</dd></dl>\n"
      ],
      "text/latex": [
       "\\begin{description*}\n",
       "\\item[input\\textbackslash{}\\_logprob] 1.88025868016577\n",
       "\\item[output\\textbackslash{}\\_logprob] 23.1837863766082\n",
       "\\item[input\\textbackslash{}\\_ntokens] 34.5091256141936\n",
       "\\item[output\\textbackslash{}\\_ntokens] 51.7700252105828\n",
       "\\item[input\\textbackslash{}\\_nchars] 465.307171751972\n",
       "\\item[output\\textbackslash{}\\_nchars] 700.189807157601\n",
       "\\end{description*}\n"
      ],
      "text/markdown": [
       "input_logprob\n",
       ":   1.88025868016577output_logprob\n",
       ":   23.1837863766082input_ntokens\n",
       ":   34.5091256141936output_ntokens\n",
       ":   51.7700252105828input_nchars\n",
       ":   465.307171751972output_nchars\n",
       ":   700.189807157601\n",
       "\n"
      ],
      "text/plain": [
       " input_logprob output_logprob  input_ntokens output_ntokens   input_nchars \n",
       "      1.880259      23.183786      34.509126      51.770025     465.307172 \n",
       " output_nchars \n",
       "    700.189807 "
      ]
     },
     "metadata": {},
     "output_type": "display_data"
    }
   ],
   "source": [
    "vif(pigenc_gpt35_model)"
   ]
  },
  {
   "cell_type": "code",
   "execution_count": 137,
   "id": "28b9aff2",
   "metadata": {},
   "outputs": [
    {
     "data": {
      "text/html": [
       "<style>\n",
       ".dl-inline {width: auto; margin:0; padding: 0}\n",
       ".dl-inline>dt, .dl-inline>dd {float: none; width: auto; display: inline-block}\n",
       ".dl-inline>dt::after {content: \":\\0020\"; padding-right: .5ex}\n",
       ".dl-inline>dt:not(:first-of-type) {padding-left: .5ex}\n",
       "</style><dl class=dl-inline><dt>input_logprob</dt><dd>26.7369284622721</dd><dt>output_logprob</dt><dd>2.6876135029414</dd><dt>input_ntokens</dt><dd>52.7064157050032</dd><dt>output_ntokens</dt><dd>33.868847396808</dd><dt>input_nchars</dt><dd>731.134137244044</dd><dt>output_nchars</dt><dd>485.106577569248</dd></dl>\n"
      ],
      "text/latex": [
       "\\begin{description*}\n",
       "\\item[input\\textbackslash{}\\_logprob] 26.7369284622721\n",
       "\\item[output\\textbackslash{}\\_logprob] 2.6876135029414\n",
       "\\item[input\\textbackslash{}\\_ntokens] 52.7064157050032\n",
       "\\item[output\\textbackslash{}\\_ntokens] 33.868847396808\n",
       "\\item[input\\textbackslash{}\\_nchars] 731.134137244044\n",
       "\\item[output\\textbackslash{}\\_nchars] 485.106577569248\n",
       "\\end{description*}\n"
      ],
      "text/markdown": [
       "input_logprob\n",
       ":   26.7369284622721output_logprob\n",
       ":   2.6876135029414input_ntokens\n",
       ":   52.7064157050032output_ntokens\n",
       ":   33.868847396808input_nchars\n",
       ":   731.134137244044output_nchars\n",
       ":   485.106577569248\n",
       "\n"
      ],
      "text/plain": [
       " input_logprob output_logprob  input_ntokens output_ntokens   input_nchars \n",
       "     26.736928       2.687614      52.706416      33.868847     731.134137 \n",
       " output_nchars \n",
       "    485.106578 "
      ]
     },
     "metadata": {},
     "output_type": "display_data"
    }
   ],
   "source": [
    "vif(pigdec_gpt4_model)"
   ]
  },
  {
   "cell_type": "code",
   "execution_count": 138,
   "id": "c23e2342",
   "metadata": {},
   "outputs": [
    {
     "data": {
      "text/html": [
       "<style>\n",
       ".dl-inline {width: auto; margin:0; padding: 0}\n",
       ".dl-inline>dt, .dl-inline>dd {float: none; width: auto; display: inline-block}\n",
       ".dl-inline>dt::after {content: \":\\0020\"; padding-right: .5ex}\n",
       ".dl-inline>dt:not(:first-of-type) {padding-left: .5ex}\n",
       "</style><dl class=dl-inline><dt>input_logprob</dt><dd>24.9242620357869</dd><dt>output_logprob</dt><dd>2.13679947913824</dd><dt>input_ntokens</dt><dd>51.388273693336</dd><dt>output_ntokens</dt><dd>40.3325257860483</dd><dt>input_nchars</dt><dd>781.24907377221</dd><dt>output_nchars</dt><dd>504.626582687156</dd></dl>\n"
      ],
      "text/latex": [
       "\\begin{description*}\n",
       "\\item[input\\textbackslash{}\\_logprob] 24.9242620357869\n",
       "\\item[output\\textbackslash{}\\_logprob] 2.13679947913824\n",
       "\\item[input\\textbackslash{}\\_ntokens] 51.388273693336\n",
       "\\item[output\\textbackslash{}\\_ntokens] 40.3325257860483\n",
       "\\item[input\\textbackslash{}\\_nchars] 781.24907377221\n",
       "\\item[output\\textbackslash{}\\_nchars] 504.626582687156\n",
       "\\end{description*}\n"
      ],
      "text/markdown": [
       "input_logprob\n",
       ":   24.9242620357869output_logprob\n",
       ":   2.13679947913824input_ntokens\n",
       ":   51.388273693336output_ntokens\n",
       ":   40.3325257860483input_nchars\n",
       ":   781.24907377221output_nchars\n",
       ":   504.626582687156\n",
       "\n"
      ],
      "text/plain": [
       " input_logprob output_logprob  input_ntokens output_ntokens   input_nchars \n",
       "     24.924262       2.136799      51.388274      40.332526     781.249074 \n",
       " output_nchars \n",
       "    504.626583 "
      ]
     },
     "metadata": {},
     "output_type": "display_data"
    }
   ],
   "source": [
    "vif(pigdec_gpt35_model)"
   ]
  },
  {
   "cell_type": "code",
   "execution_count": null,
   "id": "8ab930fa",
   "metadata": {},
   "outputs": [],
   "source": []
  },
  {
   "cell_type": "markdown",
   "id": "b463801f",
   "metadata": {},
   "source": [
    "### Comparing Pig Latin and Boar Etruscan"
   ]
  },
  {
   "cell_type": "code",
   "execution_count": 104,
   "id": "ae4ba11d",
   "metadata": {},
   "outputs": [],
   "source": [
    "# Read in data\n",
    "pigboarenc_gpt4_df <- read.table(file = 'table_pig_boar_enc_gpt-4-0613.tsv', sep = '\\t', header = TRUE)\n",
    "pigboarenc_gpt35_df <- read.table(file = 'table_pig_boar_enc_gpt-3.5-turbo-0613.tsv', sep = '\\t', header = TRUE)\n",
    "\n",
    "pigboardec_gpt4_df <- read.table(file = 'table_pig_boar_dec_gpt-4-0613.tsv', sep = '\\t', header = TRUE)\n",
    "pigboardec_gpt35_df <- read.table(file = 'table_pig_boar_dec_gpt-3.5-turbo-0613.tsv', sep = '\\t', header = TRUE)"
   ]
  },
  {
   "cell_type": "code",
   "execution_count": 105,
   "id": "c8fc88ea",
   "metadata": {},
   "outputs": [],
   "source": [
    "# Z-score data\n",
    "scaled_pigboarenc_gpt4_df <- scale_taskpair_df(pigboarenc_gpt4_df)\n",
    "scaled_pigboarenc_gpt35_df <- scale_taskpair_df(pigboarenc_gpt35_df)\n",
    "\n",
    "scaled_pigboardec_gpt4_df <- scale_taskpair_df(pigboardec_gpt4_df)\n",
    "scaled_pigboardec_gpt35_df <- scale_taskpair_df(pigboardec_gpt35_df)"
   ]
  },
  {
   "cell_type": "code",
   "execution_count": 106,
   "id": "c86de170",
   "metadata": {},
   "outputs": [],
   "source": [
    "model_pigtaskenc4 <- bayesglm(correct ~ task + input_nchars + output_nchars + input_ntokens + output_ntokens + input_logprob + output_logprob, \n",
    "               data=scaled_pigboarenc_gpt4_df, family=binomial)\n"
   ]
  },
  {
   "cell_type": "code",
   "execution_count": 107,
   "id": "a3193c31",
   "metadata": {},
   "outputs": [],
   "source": [
    "model_pigtaskenc35 <- bayesglm(correct ~ task + input_nchars + output_nchars + input_ntokens + output_ntokens + input_logprob + output_logprob, \n",
    "               data=scaled_pigboarenc_gpt35_df, family=binomial)"
   ]
  },
  {
   "cell_type": "code",
   "execution_count": 108,
   "id": "8afaa766",
   "metadata": {},
   "outputs": [],
   "source": [
    "model_pigtaskdec4 <- bayesglm(correct ~ task + input_nchars + output_nchars + input_ntokens + output_ntokens + input_logprob + output_logprob, \n",
    "               data=scaled_pigboardec_gpt4_df, family=binomial)"
   ]
  },
  {
   "cell_type": "code",
   "execution_count": 109,
   "id": "56e4cbde",
   "metadata": {},
   "outputs": [],
   "source": [
    "model_pigtaskdec35 <- bayesglm(correct ~ task + input_nchars + output_nchars + input_ntokens + output_ntokens + input_logprob + output_logprob, \n",
    "               data=scaled_pigboardec_gpt35_df, family=binomial)"
   ]
  },
  {
   "cell_type": "code",
   "execution_count": 110,
   "id": "909ae42a",
   "metadata": {},
   "outputs": [
    {
     "data": {
      "text/plain": [
       "\n",
       "Call:\n",
       "bayesglm(formula = correct ~ task + input_nchars + output_nchars + \n",
       "    input_ntokens + output_ntokens + input_logprob + output_logprob, \n",
       "    family = binomial, data = scaled_pigboarenc_gpt4_df)\n",
       "\n",
       "Deviance Residuals: \n",
       "    Min       1Q   Median       3Q      Max  \n",
       "-1.2647  -0.7784  -0.5503   1.0503   2.3496  \n",
       "\n",
       "Coefficients:\n",
       "               Estimate Std. Error z value Pr(>|z|)    \n",
       "(Intercept)    -0.56003    0.23023  -2.432 0.014998 *  \n",
       "taskuv         -1.32615    0.38979  -3.402 0.000668 ***\n",
       "input_nchars    0.22833    0.77500   0.295 0.768286    \n",
       "output_nchars   0.17641    0.87201   0.202 0.839682    \n",
       "input_ntokens  -0.06654    0.61653  -0.108 0.914051    \n",
       "output_ntokens  0.16345    0.72926   0.224 0.822658    \n",
       "input_logprob  -0.05815    0.31163  -0.187 0.851964    \n",
       "output_logprob  1.02052    0.70345   1.451 0.146853    \n",
       "---\n",
       "Signif. codes:  0 ‘***’ 0.001 ‘**’ 0.01 ‘*’ 0.05 ‘.’ 0.1 ‘ ’ 1\n",
       "\n",
       "(Dispersion parameter for binomial family taken to be 1)\n",
       "\n",
       "    Null deviance: 229.22  on 199  degrees of freedom\n",
       "Residual deviance: 202.03  on 192  degrees of freedom\n",
       "AIC: 218.03\n",
       "\n",
       "Number of Fisher Scoring iterations: 11\n"
      ]
     },
     "metadata": {},
     "output_type": "display_data"
    }
   ],
   "source": [
    "summary(model_pigtaskenc4)"
   ]
  },
  {
   "cell_type": "code",
   "execution_count": 111,
   "id": "2c15549d",
   "metadata": {},
   "outputs": [
    {
     "data": {
      "text/plain": [
       "\n",
       "Call:\n",
       "bayesglm(formula = correct ~ task + input_nchars + output_nchars + \n",
       "    input_ntokens + output_ntokens + input_logprob + output_logprob, \n",
       "    family = binomial, data = scaled_pigboarenc_gpt35_df)\n",
       "\n",
       "Deviance Residuals: \n",
       "     Min        1Q    Median        3Q       Max  \n",
       "-1.37642  -0.50706  -0.09424  -0.03471   2.18253  \n",
       "\n",
       "Coefficients:\n",
       "               Estimate Std. Error z value Pr(>|z|)    \n",
       "(Intercept)     -1.2589     0.3004  -4.191 2.78e-05 ***\n",
       "taskuv          -4.7283     1.5892  -2.975  0.00293 ** \n",
       "input_nchars    -0.1590     0.8572  -0.186  0.85283    \n",
       "output_nchars   -0.3834     0.9585  -0.400  0.68912    \n",
       "input_ntokens    1.6958     0.9195   1.844  0.06516 .  \n",
       "output_ntokens  -0.9901     0.9850  -1.005  0.31484    \n",
       "input_logprob    0.5392     0.4245   1.270  0.20403    \n",
       "output_logprob   0.6935     0.8150   0.851  0.39483    \n",
       "---\n",
       "Signif. codes:  0 ‘***’ 0.001 ‘**’ 0.01 ‘*’ 0.05 ‘.’ 0.1 ‘ ’ 1\n",
       "\n",
       "(Dispersion parameter for binomial family taken to be 1)\n",
       "\n",
       "    Null deviance: 169.08  on 199  degrees of freedom\n",
       "Residual deviance: 103.10  on 192  degrees of freedom\n",
       "AIC: 119.1\n",
       "\n",
       "Number of Fisher Scoring iterations: 31\n"
      ]
     },
     "metadata": {},
     "output_type": "display_data"
    }
   ],
   "source": [
    "summary(model_pigtaskenc35)"
   ]
  },
  {
   "cell_type": "code",
   "execution_count": 112,
   "id": "b6017a0c",
   "metadata": {},
   "outputs": [
    {
     "data": {
      "text/plain": [
       "\n",
       "Call:\n",
       "bayesglm(formula = correct ~ task + input_nchars + output_nchars + \n",
       "    input_ntokens + output_ntokens + input_logprob + output_logprob, \n",
       "    family = binomial, data = scaled_pigboardec_gpt4_df)\n",
       "\n",
       "Deviance Residuals: \n",
       "    Min       1Q   Median       3Q      Max  \n",
       "-2.2255  -0.7148   0.4806   0.7299   1.5880  \n",
       "\n",
       "Coefficients:\n",
       "               Estimate Std. Error z value Pr(>|z|)    \n",
       "(Intercept)      1.7180     0.3041   5.649 1.61e-08 ***\n",
       "taskuv          -0.9530     0.4023  -2.369  0.01783 *  \n",
       "input_nchars     0.1932     1.0595   0.182  0.85528    \n",
       "output_nchars    3.0459     1.1176   2.725  0.00642 ** \n",
       "input_ntokens   -0.8356     0.7813  -1.069  0.28487    \n",
       "output_ntokens  -0.8758     0.6667  -1.314  0.18901    \n",
       "input_logprob    0.3197     0.6747   0.474  0.63565    \n",
       "output_logprob   1.3628     0.3321   4.104 4.06e-05 ***\n",
       "---\n",
       "Signif. codes:  0 ‘***’ 0.001 ‘**’ 0.01 ‘*’ 0.05 ‘.’ 0.1 ‘ ’ 1\n",
       "\n",
       "(Dispersion parameter for binomial family taken to be 1)\n",
       "\n",
       "    Null deviance: 233.3  on 199  degrees of freedom\n",
       "Residual deviance: 184.9  on 192  degrees of freedom\n",
       "AIC: 200.9\n",
       "\n",
       "Number of Fisher Scoring iterations: 17\n"
      ]
     },
     "metadata": {},
     "output_type": "display_data"
    }
   ],
   "source": [
    "summary(model_pigtaskdec4)"
   ]
  },
  {
   "cell_type": "code",
   "execution_count": 113,
   "id": "1e40e2c6",
   "metadata": {},
   "outputs": [
    {
     "data": {
      "text/plain": [
       "\n",
       "Call:\n",
       "bayesglm(formula = correct ~ task + input_nchars + output_nchars + \n",
       "    input_ntokens + output_ntokens + input_logprob + output_logprob, \n",
       "    family = binomial, data = scaled_pigboardec_gpt35_df)\n",
       "\n",
       "Deviance Residuals: \n",
       "    Min       1Q   Median       3Q      Max  \n",
       "-1.8910  -0.8879  -0.3267   0.8992   2.4220  \n",
       "\n",
       "Coefficients:\n",
       "               Estimate Std. Error z value Pr(>|z|)    \n",
       "(Intercept)     0.05523    0.24760   0.223   0.8235    \n",
       "taskuv         -0.63794    0.36335  -1.756   0.0791 .  \n",
       "input_nchars    0.94939    1.13571   0.836   0.4032    \n",
       "output_nchars   1.86490    1.04344   1.787   0.0739 .  \n",
       "input_ntokens  -0.11739    0.71666  -0.164   0.8699    \n",
       "output_ntokens -1.00693    0.63874  -1.576   0.1149    \n",
       "input_logprob   0.62989    0.66958   0.941   0.3468    \n",
       "output_logprob  1.90463    0.38320   4.970 6.68e-07 ***\n",
       "---\n",
       "Signif. codes:  0 ‘***’ 0.001 ‘**’ 0.01 ‘*’ 0.05 ‘.’ 0.1 ‘ ’ 1\n",
       "\n",
       "(Dispersion parameter for binomial family taken to be 1)\n",
       "\n",
       "    Null deviance: 276.28  on 199  degrees of freedom\n",
       "Residual deviance: 210.13  on 192  degrees of freedom\n",
       "AIC: 226.13\n",
       "\n",
       "Number of Fisher Scoring iterations: 27\n"
      ]
     },
     "metadata": {},
     "output_type": "display_data"
    }
   ],
   "source": [
    "summary(model_pigtaskdec35)"
   ]
  },
  {
   "cell_type": "code",
   "execution_count": 114,
   "id": "96d91c69",
   "metadata": {},
   "outputs": [
    {
     "data": {
      "text/html": [
       "<style>\n",
       ".dl-inline {width: auto; margin:0; padding: 0}\n",
       ".dl-inline>dt, .dl-inline>dd {float: none; width: auto; display: inline-block}\n",
       ".dl-inline>dt::after {content: \":\\0020\"; padding-right: .5ex}\n",
       ".dl-inline>dt:not(:first-of-type) {padding-left: .5ex}\n",
       "</style><dl class=dl-inline><dt>task</dt><dd>1.18058752821003</dd><dt>input_nchars</dt><dd>18.2568122470538</dd><dt>output_nchars</dt><dd>22.9604996003015</dd><dt>input_ntokens</dt><dd>11.5474138994816</dd><dt>output_ntokens</dt><dd>14.9177640628979</dd><dt>input_logprob</dt><dd>3.0393062786857</dd><dt>output_logprob</dt><dd>14.2116177050964</dd></dl>\n"
      ],
      "text/latex": [
       "\\begin{description*}\n",
       "\\item[task] 1.18058752821003\n",
       "\\item[input\\textbackslash{}\\_nchars] 18.2568122470538\n",
       "\\item[output\\textbackslash{}\\_nchars] 22.9604996003015\n",
       "\\item[input\\textbackslash{}\\_ntokens] 11.5474138994816\n",
       "\\item[output\\textbackslash{}\\_ntokens] 14.9177640628979\n",
       "\\item[input\\textbackslash{}\\_logprob] 3.0393062786857\n",
       "\\item[output\\textbackslash{}\\_logprob] 14.2116177050964\n",
       "\\end{description*}\n"
      ],
      "text/markdown": [
       "task\n",
       ":   1.18058752821003input_nchars\n",
       ":   18.2568122470538output_nchars\n",
       ":   22.9604996003015input_ntokens\n",
       ":   11.5474138994816output_ntokens\n",
       ":   14.9177640628979input_logprob\n",
       ":   3.0393062786857output_logprob\n",
       ":   14.2116177050964\n",
       "\n"
      ],
      "text/plain": [
       "          task   input_nchars  output_nchars  input_ntokens output_ntokens \n",
       "      1.180588      18.256812      22.960500      11.547414      14.917764 \n",
       " input_logprob output_logprob \n",
       "      3.039306      14.211618 "
      ]
     },
     "metadata": {},
     "output_type": "display_data"
    }
   ],
   "source": [
    "vif(model_pigtaskenc4)"
   ]
  },
  {
   "cell_type": "code",
   "execution_count": 115,
   "id": "41437607",
   "metadata": {},
   "outputs": [
    {
     "data": {
      "text/html": [
       "<style>\n",
       ".dl-inline {width: auto; margin:0; padding: 0}\n",
       ".dl-inline>dt, .dl-inline>dd {float: none; width: auto; display: inline-block}\n",
       ".dl-inline>dt::after {content: \":\\0020\"; padding-right: .5ex}\n",
       ".dl-inline>dt:not(:first-of-type) {padding-left: .5ex}\n",
       "</style><dl class=dl-inline><dt>task</dt><dd>1.01011498286017</dd><dt>input_nchars</dt><dd>9.05740029700124</dd><dt>output_nchars</dt><dd>11.3039502292069</dd><dt>input_ntokens</dt><dd>11.0095131071293</dd><dt>output_ntokens</dt><dd>10.6938207918445</dd><dt>input_logprob</dt><dd>2.2978227222608</dd><dt>output_logprob</dt><dd>7.95957924276474</dd></dl>\n"
      ],
      "text/latex": [
       "\\begin{description*}\n",
       "\\item[task] 1.01011498286017\n",
       "\\item[input\\textbackslash{}\\_nchars] 9.05740029700124\n",
       "\\item[output\\textbackslash{}\\_nchars] 11.3039502292069\n",
       "\\item[input\\textbackslash{}\\_ntokens] 11.0095131071293\n",
       "\\item[output\\textbackslash{}\\_ntokens] 10.6938207918445\n",
       "\\item[input\\textbackslash{}\\_logprob] 2.2978227222608\n",
       "\\item[output\\textbackslash{}\\_logprob] 7.95957924276474\n",
       "\\end{description*}\n"
      ],
      "text/markdown": [
       "task\n",
       ":   1.01011498286017input_nchars\n",
       ":   9.05740029700124output_nchars\n",
       ":   11.3039502292069input_ntokens\n",
       ":   11.0095131071293output_ntokens\n",
       ":   10.6938207918445input_logprob\n",
       ":   2.2978227222608output_logprob\n",
       ":   7.95957924276474\n",
       "\n"
      ],
      "text/plain": [
       "          task   input_nchars  output_nchars  input_ntokens output_ntokens \n",
       "      1.010115       9.057400      11.303950      11.009513      10.693821 \n",
       " input_logprob output_logprob \n",
       "      2.297823       7.959579 "
      ]
     },
     "metadata": {},
     "output_type": "display_data"
    }
   ],
   "source": [
    "vif(model_pigtaskenc35)"
   ]
  },
  {
   "cell_type": "code",
   "execution_count": 116,
   "id": "b5da23e5",
   "metadata": {},
   "outputs": [
    {
     "data": {
      "text/html": [
       "<style>\n",
       ".dl-inline {width: auto; margin:0; padding: 0}\n",
       ".dl-inline>dt, .dl-inline>dd {float: none; width: auto; display: inline-block}\n",
       ".dl-inline>dt::after {content: \":\\0020\"; padding-right: .5ex}\n",
       ".dl-inline>dt:not(:first-of-type) {padding-left: .5ex}\n",
       "</style><dl class=dl-inline><dt>task</dt><dd>1.25256984937744</dd><dt>input_nchars</dt><dd>36.0867320381308</dd><dt>output_nchars</dt><dd>38.8955046865121</dd><dt>input_ntokens</dt><dd>20.9044997064033</dd><dt>output_ntokens</dt><dd>14.5579830355226</dd><dt>input_logprob</dt><dd>15.3307700555961</dd><dt>output_logprob</dt><dd>3.64699800329398</dd></dl>\n"
      ],
      "text/latex": [
       "\\begin{description*}\n",
       "\\item[task] 1.25256984937744\n",
       "\\item[input\\textbackslash{}\\_nchars] 36.0867320381308\n",
       "\\item[output\\textbackslash{}\\_nchars] 38.8955046865121\n",
       "\\item[input\\textbackslash{}\\_ntokens] 20.9044997064033\n",
       "\\item[output\\textbackslash{}\\_ntokens] 14.5579830355226\n",
       "\\item[input\\textbackslash{}\\_logprob] 15.3307700555961\n",
       "\\item[output\\textbackslash{}\\_logprob] 3.64699800329398\n",
       "\\end{description*}\n"
      ],
      "text/markdown": [
       "task\n",
       ":   1.25256984937744input_nchars\n",
       ":   36.0867320381308output_nchars\n",
       ":   38.8955046865121input_ntokens\n",
       ":   20.9044997064033output_ntokens\n",
       ":   14.5579830355226input_logprob\n",
       ":   15.3307700555961output_logprob\n",
       ":   3.64699800329398\n",
       "\n"
      ],
      "text/plain": [
       "          task   input_nchars  output_nchars  input_ntokens output_ntokens \n",
       "      1.252570      36.086732      38.895505      20.904500      14.557983 \n",
       " input_logprob output_logprob \n",
       "     15.330770       3.646998 "
      ]
     },
     "metadata": {},
     "output_type": "display_data"
    }
   ],
   "source": [
    "vif(model_pigtaskdec4)"
   ]
  },
  {
   "cell_type": "code",
   "execution_count": 117,
   "id": "843339f5",
   "metadata": {},
   "outputs": [
    {
     "data": {
      "text/html": [
       "<style>\n",
       ".dl-inline {width: auto; margin:0; padding: 0}\n",
       ".dl-inline>dt, .dl-inline>dd {float: none; width: auto; display: inline-block}\n",
       ".dl-inline>dt::after {content: \":\\0020\"; padding-right: .5ex}\n",
       ".dl-inline>dt:not(:first-of-type) {padding-left: .5ex}\n",
       "</style><dl class=dl-inline><dt>task</dt><dd>1.257699769984</dd><dt>input_nchars</dt><dd>44.0678358942544</dd><dt>output_nchars</dt><dd>36.9501228908464</dd><dt>input_ntokens</dt><dd>17.2875083712916</dd><dt>output_ntokens</dt><dd>13.9778883079298</dd><dt>input_logprob</dt><dd>15.2880885355092</dd><dt>output_logprob</dt><dd>4.09261538641104</dd></dl>\n"
      ],
      "text/latex": [
       "\\begin{description*}\n",
       "\\item[task] 1.257699769984\n",
       "\\item[input\\textbackslash{}\\_nchars] 44.0678358942544\n",
       "\\item[output\\textbackslash{}\\_nchars] 36.9501228908464\n",
       "\\item[input\\textbackslash{}\\_ntokens] 17.2875083712916\n",
       "\\item[output\\textbackslash{}\\_ntokens] 13.9778883079298\n",
       "\\item[input\\textbackslash{}\\_logprob] 15.2880885355092\n",
       "\\item[output\\textbackslash{}\\_logprob] 4.09261538641104\n",
       "\\end{description*}\n"
      ],
      "text/markdown": [
       "task\n",
       ":   1.257699769984input_nchars\n",
       ":   44.0678358942544output_nchars\n",
       ":   36.9501228908464input_ntokens\n",
       ":   17.2875083712916output_ntokens\n",
       ":   13.9778883079298input_logprob\n",
       ":   15.2880885355092output_logprob\n",
       ":   4.09261538641104\n",
       "\n"
      ],
      "text/plain": [
       "          task   input_nchars  output_nchars  input_ntokens output_ntokens \n",
       "      1.257700      44.067836      36.950123      17.287508      13.977888 \n",
       " input_logprob output_logprob \n",
       "     15.288089       4.092615 "
      ]
     },
     "metadata": {},
     "output_type": "display_data"
    }
   ],
   "source": [
    "vif(model_pigtaskdec35)"
   ]
  },
  {
   "cell_type": "code",
   "execution_count": null,
   "id": "876289d7",
   "metadata": {},
   "outputs": [],
   "source": []
  },
  {
   "cell_type": "markdown",
   "id": "bdff717f",
   "metadata": {},
   "source": [
    "### Comparing Pig Latin variants"
   ]
  },
  {
   "cell_type": "code",
   "execution_count": 118,
   "id": "3434ad7a",
   "metadata": {},
   "outputs": [],
   "source": [
    "# Read in data\n",
    "pigprobenc_gpt4_df <- read.table(file = 'table_pig_prob_enc_gpt-4-0613.tsv', sep = '\\t', header = TRUE)\n",
    "pigprobenc_gpt35_df <- read.table(file = 'table_pig_prob_enc_gpt-3.5-turbo-0613.tsv', sep = '\\t', header = TRUE)\n",
    "\n",
    "pigprobdec_gpt4_df <- read.table(file = 'table_pig_prob_dec_gpt-4-0613.tsv', sep = '\\t', header = TRUE)\n",
    "pigprobdec_gpt35_df <- read.table(file = 'table_pig_prob_dec_gpt-3.5-turbo-0613.tsv', sep = '\\t', header = TRUE)"
   ]
  },
  {
   "cell_type": "code",
   "execution_count": 119,
   "id": "2e47de32",
   "metadata": {},
   "outputs": [],
   "source": [
    "# Z-score data\n",
    "scaled_pigprobenc_gpt4_df <- scale_taskpair_prob_df(pigprobenc_gpt4_df)\n",
    "scaled_pigprobenc_gpt35_df <- scale_taskpair_prob_df(pigprobenc_gpt35_df)\n",
    "\n",
    "scaled_pigprobdec_gpt4_df <- scale_taskpair_prob_df(pigprobdec_gpt4_df)\n",
    "scaled_pigprobdec_gpt35_df <- scale_taskpair_prob_df(pigprobdec_gpt35_df)"
   ]
  },
  {
   "cell_type": "code",
   "execution_count": 120,
   "id": "899ed6f3",
   "metadata": {},
   "outputs": [],
   "source": [
    "model_pigprobenc4 <- glm(correct ~ task + input_nchars + output_nchars + input_ntokens + output_ntokens + input_logprob + output_logprob, \n",
    "               data=scaled_pigprobenc_gpt4_df, family=binomial)\n"
   ]
  },
  {
   "cell_type": "code",
   "execution_count": 121,
   "id": "84ebe710",
   "metadata": {},
   "outputs": [],
   "source": [
    "model_pigprobenc35 <- glm(correct ~ task + input_nchars + output_nchars + input_ntokens + output_ntokens + input_logprob + output_logprob, \n",
    "               data=scaled_pigprobenc_gpt35_df, family=binomial)\n"
   ]
  },
  {
   "cell_type": "code",
   "execution_count": 122,
   "id": "02b07609",
   "metadata": {},
   "outputs": [],
   "source": [
    "model_pigprobdec4 <- glm(correct ~ task + input_nchars + output_nchars + input_ntokens + output_ntokens + input_logprob + output_logprob, \n",
    "               data=scaled_pigprobdec_gpt4_df, family=binomial)"
   ]
  },
  {
   "cell_type": "code",
   "execution_count": 123,
   "id": "73c0c33a",
   "metadata": {},
   "outputs": [],
   "source": [
    "model_pigprobdec35 <- glm(correct ~ task + input_nchars + output_nchars + input_ntokens + output_ntokens + input_logprob + output_logprob, \n",
    "               data=scaled_pigprobdec_gpt35_df, family=binomial)"
   ]
  },
  {
   "cell_type": "code",
   "execution_count": 124,
   "id": "7cd02e79",
   "metadata": {},
   "outputs": [
    {
     "data": {
      "text/plain": [
       "\n",
       "Call:\n",
       "glm(formula = correct ~ task + input_nchars + output_nchars + \n",
       "    input_ntokens + output_ntokens + input_logprob + output_logprob, \n",
       "    family = binomial, data = scaled_pigprobenc_gpt4_df)\n",
       "\n",
       "Deviance Residuals: \n",
       "    Min       1Q   Median       3Q      Max  \n",
       "-1.6702  -0.7804  -0.4988   0.9214   2.5315  \n",
       "\n",
       "Coefficients:\n",
       "               Estimate Std. Error z value Pr(>|z|)    \n",
       "(Intercept)    -1.26069    0.12461 -10.117  < 2e-16 ***\n",
       "task            0.74354    0.12438   5.978 2.26e-09 ***\n",
       "input_nchars    5.28312    1.50249   3.516 0.000438 ***\n",
       "output_nchars  -6.55400    1.90123  -3.447 0.000566 ***\n",
       "input_ntokens   0.82896    0.60496   1.370 0.170602    \n",
       "output_ntokens  1.82726    0.71174   2.567 0.010249 *  \n",
       "input_logprob   0.01677    0.22750   0.074 0.941239    \n",
       "output_logprob  1.90058    0.58417   3.253 0.001140 ** \n",
       "---\n",
       "Signif. codes:  0 ‘***’ 0.001 ‘**’ 0.01 ‘*’ 0.05 ‘.’ 0.1 ‘ ’ 1\n",
       "\n",
       "(Dispersion parameter for binomial family taken to be 1)\n",
       "\n",
       "    Null deviance: 581.26  on 499  degrees of freedom\n",
       "Residual deviance: 496.62  on 492  degrees of freedom\n",
       "AIC: 512.62\n",
       "\n",
       "Number of Fisher Scoring iterations: 5\n"
      ]
     },
     "metadata": {},
     "output_type": "display_data"
    }
   ],
   "source": [
    "summary(model_pigprobenc4)"
   ]
  },
  {
   "cell_type": "code",
   "execution_count": 125,
   "id": "0650a76f",
   "metadata": {},
   "outputs": [
    {
     "data": {
      "text/plain": [
       "\n",
       "Call:\n",
       "glm(formula = correct ~ task + input_nchars + output_nchars + \n",
       "    input_ntokens + output_ntokens + input_logprob + output_logprob, \n",
       "    family = binomial, data = scaled_pigprobenc_gpt35_df)\n",
       "\n",
       "Deviance Residuals: \n",
       "    Min       1Q   Median       3Q      Max  \n",
       "-1.5192  -0.6000  -0.3587  -0.1589   2.6930  \n",
       "\n",
       "Coefficients:\n",
       "               Estimate Std. Error z value Pr(>|z|)    \n",
       "(Intercept)     -2.1511     0.1796 -11.979  < 2e-16 ***\n",
       "task             0.7805     0.1537   5.079 3.79e-07 ***\n",
       "input_nchars     4.3925     1.8793   2.337  0.01943 *  \n",
       "output_nchars   -6.2121     2.3870  -2.602  0.00926 ** \n",
       "input_ntokens    2.1263     0.7775   2.735  0.00624 ** \n",
       "output_ntokens   1.7178     0.9240   1.859  0.06302 .  \n",
       "input_logprob    0.4887     0.2990   1.634  0.10217    \n",
       "output_logprob   2.4526     0.7408   3.311  0.00093 ***\n",
       "---\n",
       "Signif. codes:  0 ‘***’ 0.001 ‘**’ 0.01 ‘*’ 0.05 ‘.’ 0.1 ‘ ’ 1\n",
       "\n",
       "(Dispersion parameter for binomial family taken to be 1)\n",
       "\n",
       "    Null deviance: 452.70  on 499  degrees of freedom\n",
       "Residual deviance: 363.92  on 492  degrees of freedom\n",
       "AIC: 379.92\n",
       "\n",
       "Number of Fisher Scoring iterations: 6\n"
      ]
     },
     "metadata": {},
     "output_type": "display_data"
    }
   ],
   "source": [
    "summary(model_pigprobenc35)"
   ]
  },
  {
   "cell_type": "code",
   "execution_count": 126,
   "id": "c87f7e4f",
   "metadata": {},
   "outputs": [
    {
     "data": {
      "text/plain": [
       "\n",
       "Call:\n",
       "glm(formula = correct ~ task + input_nchars + output_nchars + \n",
       "    input_ntokens + output_ntokens + input_logprob + output_logprob, \n",
       "    family = binomial, data = scaled_pigprobdec_gpt4_df)\n",
       "\n",
       "Deviance Residuals: \n",
       "    Min       1Q   Median       3Q      Max  \n",
       "-2.6147   0.2434   0.4481   0.6058   2.1224  \n",
       "\n",
       "Coefficients:\n",
       "               Estimate Std. Error z value Pr(>|z|)    \n",
       "(Intercept)      1.7257     0.1439  11.994  < 2e-16 ***\n",
       "task             0.2060     0.1288   1.600  0.10955    \n",
       "input_nchars    -3.2086     2.2790  -1.408  0.15917    \n",
       "output_nchars    6.2809     1.9138   3.282  0.00103 ** \n",
       "input_ntokens   -0.2165     0.7466  -0.290  0.77181    \n",
       "output_ntokens   0.4469     0.7409   0.603  0.54638    \n",
       "input_logprob    1.5419     0.6486   2.377  0.01745 *  \n",
       "output_logprob   1.6343     0.2681   6.096 1.09e-09 ***\n",
       "---\n",
       "Signif. codes:  0 ‘***’ 0.001 ‘**’ 0.01 ‘*’ 0.05 ‘.’ 0.1 ‘ ’ 1\n",
       "\n",
       "(Dispersion parameter for binomial family taken to be 1)\n",
       "\n",
       "    Null deviance: 505.90  on 499  degrees of freedom\n",
       "Residual deviance: 403.78  on 492  degrees of freedom\n",
       "AIC: 419.78\n",
       "\n",
       "Number of Fisher Scoring iterations: 5\n"
      ]
     },
     "metadata": {},
     "output_type": "display_data"
    }
   ],
   "source": [
    "summary(model_pigprobdec4)"
   ]
  },
  {
   "cell_type": "code",
   "execution_count": 127,
   "id": "5b7f4fd7",
   "metadata": {},
   "outputs": [
    {
     "data": {
      "text/plain": [
       "\n",
       "Call:\n",
       "glm(formula = correct ~ task + input_nchars + output_nchars + \n",
       "    input_ntokens + output_ntokens + input_logprob + output_logprob, \n",
       "    family = binomial, data = scaled_pigprobdec_gpt35_df)\n",
       "\n",
       "Deviance Residuals: \n",
       "     Min        1Q    Median        3Q       Max  \n",
       "-2.44809  -0.93313   0.04602   0.97348   2.74208  \n",
       "\n",
       "Coefficients:\n",
       "               Estimate Std. Error z value Pr(>|z|)    \n",
       "(Intercept)    -0.05707    0.10349  -0.551 0.581348    \n",
       "task            0.11682    0.10485   1.114 0.265176    \n",
       "input_nchars    1.12060    1.64945   0.679 0.496899    \n",
       "output_nchars   2.39500    1.37888   1.737 0.082402 .  \n",
       "input_ntokens   0.65655    0.59733   1.099 0.271708    \n",
       "output_ntokens -2.08243    0.55620  -3.744 0.000181 ***\n",
       "input_logprob   0.99006    0.50218   1.972 0.048665 *  \n",
       "output_logprob  1.59434    0.24255   6.573 4.92e-11 ***\n",
       "---\n",
       "Signif. codes:  0 ‘***’ 0.001 ‘**’ 0.01 ‘*’ 0.05 ‘.’ 0.1 ‘ ’ 1\n",
       "\n",
       "(Dispersion parameter for binomial family taken to be 1)\n",
       "\n",
       "    Null deviance: 693.15  on 499  degrees of freedom\n",
       "Residual deviance: 565.94  on 492  degrees of freedom\n",
       "AIC: 581.94\n",
       "\n",
       "Number of Fisher Scoring iterations: 4\n"
      ]
     },
     "metadata": {},
     "output_type": "display_data"
    }
   ],
   "source": [
    "summary(model_pigprobdec35)"
   ]
  },
  {
   "cell_type": "code",
   "execution_count": 128,
   "id": "00f25eac",
   "metadata": {},
   "outputs": [
    {
     "data": {
      "text/html": [
       "<style>\n",
       ".dl-inline {width: auto; margin:0; padding: 0}\n",
       ".dl-inline>dt, .dl-inline>dd {float: none; width: auto; display: inline-block}\n",
       ".dl-inline>dt::after {content: \":\\0020\"; padding-right: .5ex}\n",
       ".dl-inline>dt:not(:first-of-type) {padding-left: .5ex}\n",
       "</style><dl class=dl-inline><dt>task</dt><dd>1.11058375553133</dd><dt>input_nchars</dt><dd>158.104613832902</dd><dt>output_nchars</dt><dd>246.548269421028</dd><dt>input_ntokens</dt><dd>25.6781941049146</dd><dt>output_ntokens</dt><dd>34.8583373024392</dd><dt>input_logprob</dt><dd>3.7266548625964</dd><dt>output_logprob</dt><dd>22.9832246453493</dd></dl>\n"
      ],
      "text/latex": [
       "\\begin{description*}\n",
       "\\item[task] 1.11058375553133\n",
       "\\item[input\\textbackslash{}\\_nchars] 158.104613832902\n",
       "\\item[output\\textbackslash{}\\_nchars] 246.548269421028\n",
       "\\item[input\\textbackslash{}\\_ntokens] 25.6781941049146\n",
       "\\item[output\\textbackslash{}\\_ntokens] 34.8583373024392\n",
       "\\item[input\\textbackslash{}\\_logprob] 3.7266548625964\n",
       "\\item[output\\textbackslash{}\\_logprob] 22.9832246453493\n",
       "\\end{description*}\n"
      ],
      "text/markdown": [
       "task\n",
       ":   1.11058375553133input_nchars\n",
       ":   158.104613832902output_nchars\n",
       ":   246.548269421028input_ntokens\n",
       ":   25.6781941049146output_ntokens\n",
       ":   34.8583373024392input_logprob\n",
       ":   3.7266548625964output_logprob\n",
       ":   22.9832246453493\n",
       "\n"
      ],
      "text/plain": [
       "          task   input_nchars  output_nchars  input_ntokens output_ntokens \n",
       "      1.110584     158.104614     246.548269      25.678194      34.858337 \n",
       " input_logprob output_logprob \n",
       "      3.726655      22.983225 "
      ]
     },
     "metadata": {},
     "output_type": "display_data"
    }
   ],
   "source": [
    "vif(model_pigprobenc4)"
   ]
  },
  {
   "cell_type": "code",
   "execution_count": 129,
   "id": "ecf7d411",
   "metadata": {},
   "outputs": [
    {
     "data": {
      "text/html": [
       "<style>\n",
       ".dl-inline {width: auto; margin:0; padding: 0}\n",
       ".dl-inline>dt, .dl-inline>dd {float: none; width: auto; display: inline-block}\n",
       ".dl-inline>dt::after {content: \":\\0020\"; padding-right: .5ex}\n",
       ".dl-inline>dt:not(:first-of-type) {padding-left: .5ex}\n",
       "</style><dl class=dl-inline><dt>task</dt><dd>1.12071323655606</dd><dt>input_nchars</dt><dd>130.867246510866</dd><dt>output_nchars</dt><dd>207.526554329701</dd><dt>input_ntokens</dt><dd>24.7331802871498</dd><dt>output_ntokens</dt><dd>32.1697745646248</dd><dt>input_logprob</dt><dd>3.26163035462178</dd><dt>output_logprob</dt><dd>19.7329400435261</dd></dl>\n"
      ],
      "text/latex": [
       "\\begin{description*}\n",
       "\\item[task] 1.12071323655606\n",
       "\\item[input\\textbackslash{}\\_nchars] 130.867246510866\n",
       "\\item[output\\textbackslash{}\\_nchars] 207.526554329701\n",
       "\\item[input\\textbackslash{}\\_ntokens] 24.7331802871498\n",
       "\\item[output\\textbackslash{}\\_ntokens] 32.1697745646248\n",
       "\\item[input\\textbackslash{}\\_logprob] 3.26163035462178\n",
       "\\item[output\\textbackslash{}\\_logprob] 19.7329400435261\n",
       "\\end{description*}\n"
      ],
      "text/markdown": [
       "task\n",
       ":   1.12071323655606input_nchars\n",
       ":   130.867246510866output_nchars\n",
       ":   207.526554329701input_ntokens\n",
       ":   24.7331802871498output_ntokens\n",
       ":   32.1697745646248input_logprob\n",
       ":   3.26163035462178output_logprob\n",
       ":   19.7329400435261\n",
       "\n"
      ],
      "text/plain": [
       "          task   input_nchars  output_nchars  input_ntokens output_ntokens \n",
       "      1.120713     130.867247     207.526554      24.733180      32.169775 \n",
       " input_logprob output_logprob \n",
       "      3.261630      19.732940 "
      ]
     },
     "metadata": {},
     "output_type": "display_data"
    }
   ],
   "source": [
    "vif(model_pigprobenc35)"
   ]
  },
  {
   "cell_type": "code",
   "execution_count": 130,
   "id": "9ef049c2",
   "metadata": {},
   "outputs": [
    {
     "data": {
      "text/html": [
       "<style>\n",
       ".dl-inline {width: auto; margin:0; padding: 0}\n",
       ".dl-inline>dt, .dl-inline>dd {float: none; width: auto; display: inline-block}\n",
       ".dl-inline>dt::after {content: \":\\0020\"; padding-right: .5ex}\n",
       ".dl-inline>dt:not(:first-of-type) {padding-left: .5ex}\n",
       "</style><dl class=dl-inline><dt>task</dt><dd>1.0431716514942</dd><dt>input_nchars</dt><dd>295.487490232175</dd><dt>output_nchars</dt><dd>206.041982720909</dd><dt>input_ntokens</dt><dd>33.3341754061517</dd><dt>output_ntokens</dt><dd>31.3393616853313</dd><dt>input_logprob</dt><dd>26.3729647594641</dd><dt>output_logprob</dt><dd>4.59543736263749</dd></dl>\n"
      ],
      "text/latex": [
       "\\begin{description*}\n",
       "\\item[task] 1.0431716514942\n",
       "\\item[input\\textbackslash{}\\_nchars] 295.487490232175\n",
       "\\item[output\\textbackslash{}\\_nchars] 206.041982720909\n",
       "\\item[input\\textbackslash{}\\_ntokens] 33.3341754061517\n",
       "\\item[output\\textbackslash{}\\_ntokens] 31.3393616853313\n",
       "\\item[input\\textbackslash{}\\_logprob] 26.3729647594641\n",
       "\\item[output\\textbackslash{}\\_logprob] 4.59543736263749\n",
       "\\end{description*}\n"
      ],
      "text/markdown": [
       "task\n",
       ":   1.0431716514942input_nchars\n",
       ":   295.487490232175output_nchars\n",
       ":   206.041982720909input_ntokens\n",
       ":   33.3341754061517output_ntokens\n",
       ":   31.3393616853313input_logprob\n",
       ":   26.3729647594641output_logprob\n",
       ":   4.59543736263749\n",
       "\n"
      ],
      "text/plain": [
       "          task   input_nchars  output_nchars  input_ntokens output_ntokens \n",
       "      1.043172     295.487490     206.041983      33.334175      31.339362 \n",
       " input_logprob output_logprob \n",
       "     26.372965       4.595437 "
      ]
     },
     "metadata": {},
     "output_type": "display_data"
    }
   ],
   "source": [
    "vif(model_pigprobdec4)"
   ]
  },
  {
   "cell_type": "code",
   "execution_count": 131,
   "id": "88de1858",
   "metadata": {},
   "outputs": [
    {
     "data": {
      "text/html": [
       "<style>\n",
       ".dl-inline {width: auto; margin:0; padding: 0}\n",
       ".dl-inline>dt, .dl-inline>dd {float: none; width: auto; display: inline-block}\n",
       ".dl-inline>dt::after {content: \":\\0020\"; padding-right: .5ex}\n",
       ".dl-inline>dt:not(:first-of-type) {padding-left: .5ex}\n",
       "</style><dl class=dl-inline><dt>task</dt><dd>1.05688062192119</dd><dt>input_nchars</dt><dd>252.950716706053</dd><dt>output_nchars</dt><dd>174.98276545036</dd><dt>input_ntokens</dt><dd>33.519721788401</dd><dt>output_ntokens</dt><dd>29.1005228678084</dd><dt>input_logprob</dt><dd>23.7206853700801</dd><dt>output_logprob</dt><dd>4.96761290600725</dd></dl>\n"
      ],
      "text/latex": [
       "\\begin{description*}\n",
       "\\item[task] 1.05688062192119\n",
       "\\item[input\\textbackslash{}\\_nchars] 252.950716706053\n",
       "\\item[output\\textbackslash{}\\_nchars] 174.98276545036\n",
       "\\item[input\\textbackslash{}\\_ntokens] 33.519721788401\n",
       "\\item[output\\textbackslash{}\\_ntokens] 29.1005228678084\n",
       "\\item[input\\textbackslash{}\\_logprob] 23.7206853700801\n",
       "\\item[output\\textbackslash{}\\_logprob] 4.96761290600725\n",
       "\\end{description*}\n"
      ],
      "text/markdown": [
       "task\n",
       ":   1.05688062192119input_nchars\n",
       ":   252.950716706053output_nchars\n",
       ":   174.98276545036input_ntokens\n",
       ":   33.519721788401output_ntokens\n",
       ":   29.1005228678084input_logprob\n",
       ":   23.7206853700801output_logprob\n",
       ":   4.96761290600725\n",
       "\n"
      ],
      "text/plain": [
       "          task   input_nchars  output_nchars  input_ntokens output_ntokens \n",
       "      1.056881     252.950717     174.982765      33.519722      29.100523 \n",
       " input_logprob output_logprob \n",
       "     23.720685       4.967613 "
      ]
     },
     "metadata": {},
     "output_type": "display_data"
    }
   ],
   "source": [
    "vif(model_pigprobdec35)"
   ]
  },
  {
   "cell_type": "code",
   "execution_count": null,
   "id": "0bd8ce3f",
   "metadata": {},
   "outputs": [],
   "source": []
  },
  {
   "cell_type": "code",
   "execution_count": null,
   "id": "f8c65085",
   "metadata": {},
   "outputs": [],
   "source": []
  },
  {
   "cell_type": "markdown",
   "id": "601f52b1",
   "metadata": {},
   "source": [
    "# Acronyms"
   ]
  },
  {
   "cell_type": "code",
   "execution_count": 149,
   "id": "1b6b0ef4",
   "metadata": {},
   "outputs": [],
   "source": [
    "# Read in data\n",
    "acronym_gpt4_outp_df <- read.table(file = 'table_acronym_varyoutp_gpt-4-0613.tsv', sep = '\\t', header = TRUE)\n",
    "acronym_gpt35_outp_df <- read.table(file = 'table_acronym_varyoutp_gpt-3.5-turbo-0613.tsv', sep = '\\t', header = TRUE)\n",
    "\n",
    "acronym_gpt4_inp_df <- read.table(file = 'table_acronym_varyinp_gpt-4-0613.tsv', sep = '\\t', header = TRUE)\n",
    "acronym_gpt35_inp_df <- read.table(file = 'table_acronym_varyinp_gpt-3.5-turbo-0613.tsv', sep = '\\t', header = TRUE)\n"
   ]
  },
  {
   "cell_type": "code",
   "execution_count": 150,
   "id": "bc33a0f6",
   "metadata": {},
   "outputs": [],
   "source": [
    "# Z-score data\n",
    "scaled_acronym_gpt4_outp_df <- scale_df(acronym_gpt4_outp_df)\n",
    "scaled_acronym_gpt35_outp_df <- scale_df(acronym_gpt35_outp_df)\n",
    "\n",
    "scaled_acronym_gpt4_inp_df <- scale_df(acronym_gpt4_inp_df)\n",
    "scaled_acronym_gpt35_inp_df <- scale_df(acronym_gpt35_inp_df)"
   ]
  },
  {
   "cell_type": "code",
   "execution_count": 151,
   "id": "7a787441",
   "metadata": {},
   "outputs": [],
   "source": [
    "acronym_gpt4_outp_model <- glm(correct ~ input_logprob + output_logprob, \n",
    "               data=scaled_acronym_gpt4_outp_df, family=binomial)\n",
    "acronym_gpt35_outp_model <- glm(correct ~ input_logprob + output_logprob, \n",
    "               data=scaled_acronym_gpt35_outp_df, family=binomial)\n",
    "acronym_gpt4_inp_model <- glm(correct ~ input_logprob + output_logprob, \n",
    "               data=scaled_acronym_gpt4_inp_df, family=binomial)\n",
    "acronym_gpt35_inp_model <- glm(correct ~ input_logprob + output_logprob, \n",
    "               data=scaled_acronym_gpt35_inp_df, family=binomial)"
   ]
  },
  {
   "cell_type": "code",
   "execution_count": 156,
   "id": "eaca534b",
   "metadata": {},
   "outputs": [
    {
     "data": {
      "text/plain": [
       "\n",
       "Call:\n",
       "glm(formula = correct ~ input_logprob + output_logprob, family = binomial, \n",
       "    data = scaled_acronym_gpt4_outp_df)\n",
       "\n",
       "Deviance Residuals: \n",
       "    Min       1Q   Median       3Q      Max  \n",
       "-1.8290  -1.4607   0.7400   0.8019   1.0212  \n",
       "\n",
       "Coefficients:\n",
       "               Estimate Std. Error z value Pr(>|z|)    \n",
       "(Intercept)     1.02684    0.03230  31.795  < 2e-16 ***\n",
       "input_logprob   0.01891    0.03233   0.585    0.559    \n",
       "output_logprob  0.20402    0.03182   6.412 1.44e-10 ***\n",
       "---\n",
       "Signif. codes:  0 ‘***’ 0.001 ‘**’ 0.01 ‘*’ 0.05 ‘.’ 0.1 ‘ ’ 1\n",
       "\n",
       "(Dispersion parameter for binomial family taken to be 1)\n",
       "\n",
       "    Null deviance: 5788.3  on 4999  degrees of freedom\n",
       "Residual deviance: 5746.4  on 4997  degrees of freedom\n",
       "AIC: 5752.4\n",
       "\n",
       "Number of Fisher Scoring iterations: 4\n"
      ]
     },
     "metadata": {},
     "output_type": "display_data"
    }
   ],
   "source": [
    "summary(acronym_gpt4_outp_model)"
   ]
  },
  {
   "cell_type": "code",
   "execution_count": 157,
   "id": "53022a24",
   "metadata": {},
   "outputs": [
    {
     "data": {
      "text/plain": [
       "\n",
       "Call:\n",
       "glm(formula = correct ~ input_logprob + output_logprob, family = binomial, \n",
       "    data = scaled_acronym_gpt35_outp_df)\n",
       "\n",
       "Deviance Residuals: \n",
       "    Min       1Q   Median       3Q      Max  \n",
       "-1.1969  -0.8597  -0.7189   1.3686   2.1452  \n",
       "\n",
       "Coefficients:\n",
       "               Estimate Std. Error z value Pr(>|z|)    \n",
       "(Intercept)    -0.95746    0.03234 -29.605   <2e-16 ***\n",
       "input_logprob   0.04300    0.03167   1.357    0.175    \n",
       "output_logprob  0.39609    0.03396  11.664   <2e-16 ***\n",
       "---\n",
       "Signif. codes:  0 ‘***’ 0.001 ‘**’ 0.01 ‘*’ 0.05 ‘.’ 0.1 ‘ ’ 1\n",
       "\n",
       "(Dispersion parameter for binomial family taken to be 1)\n",
       "\n",
       "    Null deviance: 5970.6  on 4999  degrees of freedom\n",
       "Residual deviance: 5821.2  on 4997  degrees of freedom\n",
       "AIC: 5827.2\n",
       "\n",
       "Number of Fisher Scoring iterations: 4\n"
      ]
     },
     "metadata": {},
     "output_type": "display_data"
    }
   ],
   "source": [
    "summary(acronym_gpt35_outp_model)"
   ]
  },
  {
   "cell_type": "code",
   "execution_count": 152,
   "id": "c93f8b4a",
   "metadata": {},
   "outputs": [
    {
     "data": {
      "text/plain": [
       "\n",
       "Call:\n",
       "glm(formula = correct ~ input_logprob + output_logprob, family = binomial, \n",
       "    data = scaled_acronym_gpt4_inp_df)\n",
       "\n",
       "Deviance Residuals: \n",
       "    Min       1Q   Median       3Q      Max  \n",
       "-1.8250  -1.4850   0.7384   0.7858   0.9456  \n",
       "\n",
       "Coefficients:\n",
       "               Estimate Std. Error z value Pr(>|z|)    \n",
       "(Intercept)     1.07649    0.03261  33.008  < 2e-16 ***\n",
       "input_logprob   0.05493    0.03259   1.685   0.0919 .  \n",
       "output_logprob  0.15358    0.03244   4.735 2.19e-06 ***\n",
       "---\n",
       "Signif. codes:  0 ‘***’ 0.001 ‘**’ 0.01 ‘*’ 0.05 ‘.’ 0.1 ‘ ’ 1\n",
       "\n",
       "(Dispersion parameter for binomial family taken to be 1)\n",
       "\n",
       "    Null deviance: 5681.9  on 4999  degrees of freedom\n",
       "Residual deviance: 5656.6  on 4997  degrees of freedom\n",
       "AIC: 5662.6\n",
       "\n",
       "Number of Fisher Scoring iterations: 4\n"
      ]
     },
     "metadata": {},
     "output_type": "display_data"
    }
   ],
   "source": [
    "summary(acronym_gpt4_inp_model)"
   ]
  },
  {
   "cell_type": "code",
   "execution_count": 153,
   "id": "c92a9b7a",
   "metadata": {},
   "outputs": [
    {
     "data": {
      "text/plain": [
       "\n",
       "Call:\n",
       "glm(formula = correct ~ input_logprob + output_logprob, family = binomial, \n",
       "    data = scaled_acronym_gpt35_inp_df)\n",
       "\n",
       "Deviance Residuals: \n",
       "    Min       1Q   Median       3Q      Max  \n",
       "-1.1457  -0.9082  -0.8348   1.4117   1.7552  \n",
       "\n",
       "Coefficients:\n",
       "               Estimate Std. Error z value Pr(>|z|)    \n",
       "(Intercept)    -0.72733    0.03035 -23.961  < 2e-16 ***\n",
       "input_logprob   0.14452    0.03027   4.775 1.80e-06 ***\n",
       "output_logprob  0.14814    0.03056   4.847 1.25e-06 ***\n",
       "---\n",
       "Signif. codes:  0 ‘***’ 0.001 ‘**’ 0.01 ‘*’ 0.05 ‘.’ 0.1 ‘ ’ 1\n",
       "\n",
       "(Dispersion parameter for binomial family taken to be 1)\n",
       "\n",
       "    Null deviance: 6323.2  on 4999  degrees of freedom\n",
       "Residual deviance: 6276.6  on 4997  degrees of freedom\n",
       "AIC: 6282.6\n",
       "\n",
       "Number of Fisher Scoring iterations: 4\n"
      ]
     },
     "metadata": {},
     "output_type": "display_data"
    }
   ],
   "source": [
    "summary(acronym_gpt35_inp_model)"
   ]
  },
  {
   "cell_type": "code",
   "execution_count": 158,
   "id": "ed74ba7c",
   "metadata": {},
   "outputs": [
    {
     "data": {
      "text/html": [
       "<style>\n",
       ".dl-inline {width: auto; margin:0; padding: 0}\n",
       ".dl-inline>dt, .dl-inline>dd {float: none; width: auto; display: inline-block}\n",
       ".dl-inline>dt::after {content: \":\\0020\"; padding-right: .5ex}\n",
       ".dl-inline>dt:not(:first-of-type) {padding-left: .5ex}\n",
       "</style><dl class=dl-inline><dt>input_logprob</dt><dd>1.00301286476648</dd><dt>output_logprob</dt><dd>1.00301286476648</dd></dl>\n"
      ],
      "text/latex": [
       "\\begin{description*}\n",
       "\\item[input\\textbackslash{}\\_logprob] 1.00301286476648\n",
       "\\item[output\\textbackslash{}\\_logprob] 1.00301286476648\n",
       "\\end{description*}\n"
      ],
      "text/markdown": [
       "input_logprob\n",
       ":   1.00301286476648output_logprob\n",
       ":   1.00301286476648\n",
       "\n"
      ],
      "text/plain": [
       " input_logprob output_logprob \n",
       "      1.003013       1.003013 "
      ]
     },
     "metadata": {},
     "output_type": "display_data"
    }
   ],
   "source": [
    "vif(acronym_gpt4_outp_model)"
   ]
  },
  {
   "cell_type": "code",
   "execution_count": 159,
   "id": "ce6cba3f",
   "metadata": {},
   "outputs": [
    {
     "data": {
      "text/html": [
       "<style>\n",
       ".dl-inline {width: auto; margin:0; padding: 0}\n",
       ".dl-inline>dt, .dl-inline>dd {float: none; width: auto; display: inline-block}\n",
       ".dl-inline>dt::after {content: \":\\0020\"; padding-right: .5ex}\n",
       ".dl-inline>dt:not(:first-of-type) {padding-left: .5ex}\n",
       "</style><dl class=dl-inline><dt>input_logprob</dt><dd>1.0026196224327</dd><dt>output_logprob</dt><dd>1.0026196224327</dd></dl>\n"
      ],
      "text/latex": [
       "\\begin{description*}\n",
       "\\item[input\\textbackslash{}\\_logprob] 1.0026196224327\n",
       "\\item[output\\textbackslash{}\\_logprob] 1.0026196224327\n",
       "\\end{description*}\n"
      ],
      "text/markdown": [
       "input_logprob\n",
       ":   1.0026196224327output_logprob\n",
       ":   1.0026196224327\n",
       "\n"
      ],
      "text/plain": [
       " input_logprob output_logprob \n",
       "       1.00262        1.00262 "
      ]
     },
     "metadata": {},
     "output_type": "display_data"
    }
   ],
   "source": [
    "vif(acronym_gpt35_outp_model)"
   ]
  },
  {
   "cell_type": "code",
   "execution_count": 154,
   "id": "65c9e1a1",
   "metadata": {},
   "outputs": [
    {
     "data": {
      "text/html": [
       "<style>\n",
       ".dl-inline {width: auto; margin:0; padding: 0}\n",
       ".dl-inline>dt, .dl-inline>dd {float: none; width: auto; display: inline-block}\n",
       ".dl-inline>dt::after {content: \":\\0020\"; padding-right: .5ex}\n",
       ".dl-inline>dt:not(:first-of-type) {padding-left: .5ex}\n",
       "</style><dl class=dl-inline><dt>input_logprob</dt><dd>1.00000142322255</dd><dt>output_logprob</dt><dd>1.00000142322255</dd></dl>\n"
      ],
      "text/latex": [
       "\\begin{description*}\n",
       "\\item[input\\textbackslash{}\\_logprob] 1.00000142322255\n",
       "\\item[output\\textbackslash{}\\_logprob] 1.00000142322255\n",
       "\\end{description*}\n"
      ],
      "text/markdown": [
       "input_logprob\n",
       ":   1.00000142322255output_logprob\n",
       ":   1.00000142322255\n",
       "\n"
      ],
      "text/plain": [
       " input_logprob output_logprob \n",
       "      1.000001       1.000001 "
      ]
     },
     "metadata": {},
     "output_type": "display_data"
    }
   ],
   "source": [
    "vif(acronym_gpt4_inp_model)"
   ]
  },
  {
   "cell_type": "code",
   "execution_count": 155,
   "id": "b16fda0b",
   "metadata": {},
   "outputs": [
    {
     "data": {
      "text/html": [
       "<style>\n",
       ".dl-inline {width: auto; margin:0; padding: 0}\n",
       ".dl-inline>dt, .dl-inline>dd {float: none; width: auto; display: inline-block}\n",
       ".dl-inline>dt::after {content: \":\\0020\"; padding-right: .5ex}\n",
       ".dl-inline>dt:not(:first-of-type) {padding-left: .5ex}\n",
       "</style><dl class=dl-inline><dt>input_logprob</dt><dd>1.00004818770248</dd><dt>output_logprob</dt><dd>1.00004818770248</dd></dl>\n"
      ],
      "text/latex": [
       "\\begin{description*}\n",
       "\\item[input\\textbackslash{}\\_logprob] 1.00004818770248\n",
       "\\item[output\\textbackslash{}\\_logprob] 1.00004818770248\n",
       "\\end{description*}\n"
      ],
      "text/markdown": [
       "input_logprob\n",
       ":   1.00004818770248output_logprob\n",
       ":   1.00004818770248\n",
       "\n"
      ],
      "text/plain": [
       " input_logprob output_logprob \n",
       "      1.000048       1.000048 "
      ]
     },
     "metadata": {},
     "output_type": "display_data"
    }
   ],
   "source": [
    "vif(acronym_gpt35_inp_model)"
   ]
  },
  {
   "cell_type": "code",
   "execution_count": null,
   "id": "8be1e656",
   "metadata": {},
   "outputs": [],
   "source": []
  },
  {
   "cell_type": "markdown",
   "id": "5e0dadf0",
   "metadata": {},
   "source": [
    "### Vary task"
   ]
  },
  {
   "cell_type": "code",
   "execution_count": 160,
   "id": "088c4ccd",
   "metadata": {},
   "outputs": [],
   "source": [
    "# Read in data\n",
    "acronym_gpt4_1and2_df <- read.table(file = 'table_acronym_varytask_gpt-4-0613.tsv', sep = '\\t', header = TRUE)\n",
    "acronym_gpt35_1and2_df <- read.table(file = 'table_acronym_varytask_gpt-3.5-turbo-0613.tsv', sep = '\\t', header = TRUE)\n"
   ]
  },
  {
   "cell_type": "code",
   "execution_count": 161,
   "id": "389d0718",
   "metadata": {},
   "outputs": [],
   "source": [
    "# Z-score data\n",
    "scaled_acronym_gpt4_1and2_df <- scale_taskpair_df(acronym_gpt4_1and2_df)\n",
    "scaled_acronym_gpt35_1and2_df <- scale_taskpair_df(acronym_gpt35_1and2_df)"
   ]
  },
  {
   "cell_type": "code",
   "execution_count": 162,
   "id": "85833371",
   "metadata": {},
   "outputs": [],
   "source": [
    "acronym_gpt4_1and2_model <- bayesglm(correct ~ task + input_logprob + output_logprob, \n",
    "               data=scaled_acronym_gpt4_1and2_df, family=binomial)\n",
    "acronym_gpt35_1and2_model <- bayesglm(correct ~ task + input_logprob + output_logprob, \n",
    "               data=scaled_acronym_gpt35_1and2_df, family=binomial)"
   ]
  },
  {
   "cell_type": "code",
   "execution_count": 163,
   "id": "a73be8c2",
   "metadata": {},
   "outputs": [
    {
     "data": {
      "text/plain": [
       "\n",
       "Call:\n",
       "bayesglm(formula = correct ~ task + input_logprob + output_logprob, \n",
       "    family = binomial, data = scaled_acronym_gpt4_1and2_df)\n",
       "\n",
       "Deviance Residuals: \n",
       "    Min       1Q   Median       3Q      Max  \n",
       "-1.9392  -0.2452  -0.2053   0.6980   2.8814  \n",
       "\n",
       "Coefficients:\n",
       "               Estimate Std. Error z value Pr(>|z|)    \n",
       "(Intercept)     1.18066    0.07532  15.674  < 2e-16 ***\n",
       "taskacronym2   -4.82454    0.21268 -22.684  < 2e-16 ***\n",
       "input_logprob  -0.06966    0.06591  -1.057 0.290499    \n",
       "output_logprob  0.26550    0.07002   3.792 0.000149 ***\n",
       "---\n",
       "Signif. codes:  0 ‘***’ 0.001 ‘**’ 0.01 ‘*’ 0.05 ‘.’ 0.1 ‘ ’ 1\n",
       "\n",
       "(Dispersion parameter for binomial family taken to be 1)\n",
       "\n",
       "    Null deviance: 2682.0  on 1999  degrees of freedom\n",
       "Residual deviance: 1323.3  on 1996  degrees of freedom\n",
       "AIC: 1331.3\n",
       "\n",
       "Number of Fisher Scoring iterations: 7\n"
      ]
     },
     "metadata": {},
     "output_type": "display_data"
    }
   ],
   "source": [
    "summary(acronym_gpt4_1and2_model)"
   ]
  },
  {
   "cell_type": "code",
   "execution_count": 164,
   "id": "a5a835b7",
   "metadata": {},
   "outputs": [
    {
     "data": {
      "text/plain": [
       "\n",
       "Call:\n",
       "bayesglm(formula = correct ~ task + input_logprob + output_logprob, \n",
       "    family = binomial, data = scaled_acronym_gpt35_1and2_df)\n",
       "\n",
       "Deviance Residuals: \n",
       "     Min        1Q    Median        3Q       Max  \n",
       "-1.20491  -0.93012  -0.02338  -0.02057   1.57853  \n",
       "\n",
       "Coefficients:\n",
       "               Estimate Std. Error z value Pr(>|z|)    \n",
       "(Intercept)    -0.44672    0.06506  -6.866 6.58e-12 ***\n",
       "taskacronym2   -7.80307    1.83266  -4.258 2.06e-05 ***\n",
       "input_logprob   0.04556    0.06047   0.753   0.4512    \n",
       "output_logprob  0.15608    0.06549   2.383   0.0172 *  \n",
       "---\n",
       "Signif. codes:  0 ‘***’ 0.001 ‘**’ 0.01 ‘*’ 0.05 ‘.’ 0.1 ‘ ’ 1\n",
       "\n",
       "(Dispersion parameter for binomial family taken to be 1)\n",
       "\n",
       "    Null deviance: 1976.4  on 1999  degrees of freedom\n",
       "Residual deviance: 1332.3  on 1996  degrees of freedom\n",
       "AIC: 1340.3\n",
       "\n",
       "Number of Fisher Scoring iterations: 16\n"
      ]
     },
     "metadata": {},
     "output_type": "display_data"
    }
   ],
   "source": [
    "summary(acronym_gpt35_1and2_model)"
   ]
  },
  {
   "cell_type": "code",
   "execution_count": 165,
   "id": "dca59c1c",
   "metadata": {},
   "outputs": [
    {
     "data": {
      "text/html": [
       "<style>\n",
       ".dl-inline {width: auto; margin:0; padding: 0}\n",
       ".dl-inline>dt, .dl-inline>dd {float: none; width: auto; display: inline-block}\n",
       ".dl-inline>dt::after {content: \":\\0020\"; padding-right: .5ex}\n",
       ".dl-inline>dt:not(:first-of-type) {padding-left: .5ex}\n",
       "</style><dl class=dl-inline><dt>task</dt><dd>1.01625162544749</dd><dt>input_logprob</dt><dd>1.00406829696354</dd><dt>output_logprob</dt><dd>1.01901680133544</dd></dl>\n"
      ],
      "text/latex": [
       "\\begin{description*}\n",
       "\\item[task] 1.01625162544749\n",
       "\\item[input\\textbackslash{}\\_logprob] 1.00406829696354\n",
       "\\item[output\\textbackslash{}\\_logprob] 1.01901680133544\n",
       "\\end{description*}\n"
      ],
      "text/markdown": [
       "task\n",
       ":   1.01625162544749input_logprob\n",
       ":   1.00406829696354output_logprob\n",
       ":   1.01901680133544\n",
       "\n"
      ],
      "text/plain": [
       "          task  input_logprob output_logprob \n",
       "      1.016252       1.004068       1.019017 "
      ]
     },
     "metadata": {},
     "output_type": "display_data"
    }
   ],
   "source": [
    "vif(acronym_gpt4_1and2_model)"
   ]
  },
  {
   "cell_type": "code",
   "execution_count": 166,
   "id": "22d7027b",
   "metadata": {},
   "outputs": [
    {
     "data": {
      "text/html": [
       "<style>\n",
       ".dl-inline {width: auto; margin:0; padding: 0}\n",
       ".dl-inline>dt, .dl-inline>dd {float: none; width: auto; display: inline-block}\n",
       ".dl-inline>dt::after {content: \":\\0020\"; padding-right: .5ex}\n",
       ".dl-inline>dt:not(:first-of-type) {padding-left: .5ex}\n",
       "</style><dl class=dl-inline><dt>task</dt><dd>1.00001510152498</dd><dt>input_logprob</dt><dd>1.00309931442579</dd><dt>output_logprob</dt><dd>1.00311215238834</dd></dl>\n"
      ],
      "text/latex": [
       "\\begin{description*}\n",
       "\\item[task] 1.00001510152498\n",
       "\\item[input\\textbackslash{}\\_logprob] 1.00309931442579\n",
       "\\item[output\\textbackslash{}\\_logprob] 1.00311215238834\n",
       "\\end{description*}\n"
      ],
      "text/markdown": [
       "task\n",
       ":   1.00001510152498input_logprob\n",
       ":   1.00309931442579output_logprob\n",
       ":   1.00311215238834\n",
       "\n"
      ],
      "text/plain": [
       "          task  input_logprob output_logprob \n",
       "      1.000015       1.003099       1.003112 "
      ]
     },
     "metadata": {},
     "output_type": "display_data"
    }
   ],
   "source": [
    "vif(acronym_gpt35_1and2_model)"
   ]
  },
  {
   "cell_type": "code",
   "execution_count": null,
   "id": "f5e7c138",
   "metadata": {},
   "outputs": [],
   "source": []
  },
  {
   "cell_type": "code",
   "execution_count": null,
   "id": "23712ae8",
   "metadata": {},
   "outputs": [],
   "source": []
  },
  {
   "cell_type": "code",
   "execution_count": null,
   "id": "698a8df4",
   "metadata": {},
   "outputs": [],
   "source": []
  },
  {
   "cell_type": "code",
   "execution_count": null,
   "id": "33e0ef84",
   "metadata": {},
   "outputs": [],
   "source": []
  },
  {
   "cell_type": "code",
   "execution_count": null,
   "id": "619bc004",
   "metadata": {},
   "outputs": [],
   "source": []
  },
  {
   "cell_type": "code",
   "execution_count": null,
   "id": "d75059fd",
   "metadata": {},
   "outputs": [],
   "source": []
  },
  {
   "cell_type": "markdown",
   "id": "43ccc469",
   "metadata": {},
   "source": [
    "# Multiplication"
   ]
  },
  {
   "cell_type": "code",
   "execution_count": 266,
   "id": "d5b613cd",
   "metadata": {},
   "outputs": [],
   "source": [
    "# Read in data\n",
    "mult_gpt4_df <- read.table(file = 'table_multiplication_gpt-4-0613.tsv', sep = '\\t', header = TRUE)\n",
    "mult_gpt35_df <- read.table(file = 'table_multiplication_gpt-3.5-turbo-0613.tsv', sep = '\\t', header = TRUE)"
   ]
  },
  {
   "cell_type": "code",
   "execution_count": 267,
   "id": "7010a85d",
   "metadata": {},
   "outputs": [],
   "source": [
    "mult_gpt4_df$method <- factor(mult_gpt4_df$method)\n",
    "mult_gpt35_df$method <- factor(mult_gpt35_df$method)"
   ]
  },
  {
   "cell_type": "code",
   "execution_count": 268,
   "id": "589d4e6f",
   "metadata": {},
   "outputs": [
    {
     "data": {
      "text/html": [
       "<table class=\"dataframe\">\n",
       "<caption>A data.frame: 6 × 3</caption>\n",
       "<thead>\n",
       "\t<tr><th></th><th scope=col>index</th><th scope=col>method</th><th scope=col>correct</th></tr>\n",
       "\t<tr><th></th><th scope=col>&lt;int&gt;</th><th scope=col>&lt;fct&gt;</th><th scope=col>&lt;int&gt;</th></tr>\n",
       "</thead>\n",
       "<tbody>\n",
       "\t<tr><th scope=row>1</th><td>0</td><td>multiplication_number</td><td>0</td></tr>\n",
       "\t<tr><th scope=row>2</th><td>1</td><td>multiplication_number</td><td>1</td></tr>\n",
       "\t<tr><th scope=row>3</th><td>2</td><td>multiplication_number</td><td>0</td></tr>\n",
       "\t<tr><th scope=row>4</th><td>3</td><td>multiplication_number</td><td>0</td></tr>\n",
       "\t<tr><th scope=row>5</th><td>4</td><td>multiplication_number</td><td>1</td></tr>\n",
       "\t<tr><th scope=row>6</th><td>5</td><td>multiplication_number</td><td>0</td></tr>\n",
       "</tbody>\n",
       "</table>\n"
      ],
      "text/latex": [
       "A data.frame: 6 × 3\n",
       "\\begin{tabular}{r|lll}\n",
       "  & index & method & correct\\\\\n",
       "  & <int> & <fct> & <int>\\\\\n",
       "\\hline\n",
       "\t1 & 0 & multiplication\\_number & 0\\\\\n",
       "\t2 & 1 & multiplication\\_number & 1\\\\\n",
       "\t3 & 2 & multiplication\\_number & 0\\\\\n",
       "\t4 & 3 & multiplication\\_number & 0\\\\\n",
       "\t5 & 4 & multiplication\\_number & 1\\\\\n",
       "\t6 & 5 & multiplication\\_number & 0\\\\\n",
       "\\end{tabular}\n"
      ],
      "text/markdown": [
       "\n",
       "A data.frame: 6 × 3\n",
       "\n",
       "| <!--/--> | index &lt;int&gt; | method &lt;fct&gt; | correct &lt;int&gt; |\n",
       "|---|---|---|---|\n",
       "| 1 | 0 | multiplication_number | 0 |\n",
       "| 2 | 1 | multiplication_number | 1 |\n",
       "| 3 | 2 | multiplication_number | 0 |\n",
       "| 4 | 3 | multiplication_number | 0 |\n",
       "| 5 | 4 | multiplication_number | 1 |\n",
       "| 6 | 5 | multiplication_number | 0 |\n",
       "\n"
      ],
      "text/plain": [
       "  index method                correct\n",
       "1 0     multiplication_number 0      \n",
       "2 1     multiplication_number 1      \n",
       "3 2     multiplication_number 0      \n",
       "4 3     multiplication_number 0      \n",
       "5 4     multiplication_number 1      \n",
       "6 5     multiplication_number 0      "
      ]
     },
     "metadata": {},
     "output_type": "display_data"
    }
   ],
   "source": [
    "head(mult_gpt4_df)"
   ]
  },
  {
   "cell_type": "code",
   "execution_count": 269,
   "id": "6731834a",
   "metadata": {},
   "outputs": [],
   "source": [
    "contrasts(mult_gpt4_df$method) <- contr.sum(4)\n",
    "contrasts(mult_gpt35_df$method) <- contr.sum(4)"
   ]
  },
  {
   "cell_type": "code",
   "execution_count": 270,
   "id": "ec59ec47",
   "metadata": {},
   "outputs": [],
   "source": [
    "mult_gpt4_model <- glmer(correct ~ method + (1|index), \n",
    "               data=mult_gpt4_df, family=binomial)\n",
    "mult_gpt4_null_model <- glmer(correct ~ (1|index), \n",
    "               data=mult_gpt4_df, family=binomial)   "
   ]
  },
  {
   "cell_type": "code",
   "execution_count": 271,
   "id": "5588d124",
   "metadata": {},
   "outputs": [],
   "source": [
    "mult_gpt35_model <- glmer(correct ~ method + (1|index), \n",
    "               data=mult_gpt35_df, family=binomial)\n",
    "mult_gpt35_null_model <- glmer(correct ~ (1|index), \n",
    "               data=mult_gpt35_df, family=binomial)   "
   ]
  },
  {
   "cell_type": "code",
   "execution_count": 272,
   "id": "600ac60b",
   "metadata": {},
   "outputs": [
    {
     "data": {
      "text/html": [
       "<table class=\"dataframe\">\n",
       "<caption>A anova: 2 × 8</caption>\n",
       "<thead>\n",
       "\t<tr><th></th><th scope=col>npar</th><th scope=col>AIC</th><th scope=col>BIC</th><th scope=col>logLik</th><th scope=col>deviance</th><th scope=col>Chisq</th><th scope=col>Df</th><th scope=col>Pr(&gt;Chisq)</th></tr>\n",
       "\t<tr><th></th><th scope=col>&lt;dbl&gt;</th><th scope=col>&lt;dbl&gt;</th><th scope=col>&lt;dbl&gt;</th><th scope=col>&lt;dbl&gt;</th><th scope=col>&lt;dbl&gt;</th><th scope=col>&lt;dbl&gt;</th><th scope=col>&lt;dbl&gt;</th><th scope=col>&lt;dbl&gt;</th></tr>\n",
       "</thead>\n",
       "<tbody>\n",
       "\t<tr><th scope=row>mult_gpt4_null_model</th><td>2</td><td>431.4605</td><td>439.4434</td><td>-213.7303</td><td>427.4605</td><td>      NA</td><td>NA</td><td>          NA</td></tr>\n",
       "\t<tr><th scope=row>mult_gpt4_model</th><td>5</td><td>393.3867</td><td>413.3440</td><td>-191.6933</td><td>383.3867</td><td>44.07383</td><td> 3</td><td>1.455654e-09</td></tr>\n",
       "</tbody>\n",
       "</table>\n"
      ],
      "text/latex": [
       "A anova: 2 × 8\n",
       "\\begin{tabular}{r|llllllll}\n",
       "  & npar & AIC & BIC & logLik & deviance & Chisq & Df & Pr(>Chisq)\\\\\n",
       "  & <dbl> & <dbl> & <dbl> & <dbl> & <dbl> & <dbl> & <dbl> & <dbl>\\\\\n",
       "\\hline\n",
       "\tmult\\_gpt4\\_null\\_model & 2 & 431.4605 & 439.4434 & -213.7303 & 427.4605 &       NA & NA &           NA\\\\\n",
       "\tmult\\_gpt4\\_model & 5 & 393.3867 & 413.3440 & -191.6933 & 383.3867 & 44.07383 &  3 & 1.455654e-09\\\\\n",
       "\\end{tabular}\n"
      ],
      "text/markdown": [
       "\n",
       "A anova: 2 × 8\n",
       "\n",
       "| <!--/--> | npar &lt;dbl&gt; | AIC &lt;dbl&gt; | BIC &lt;dbl&gt; | logLik &lt;dbl&gt; | deviance &lt;dbl&gt; | Chisq &lt;dbl&gt; | Df &lt;dbl&gt; | Pr(&gt;Chisq) &lt;dbl&gt; |\n",
       "|---|---|---|---|---|---|---|---|---|\n",
       "| mult_gpt4_null_model | 2 | 431.4605 | 439.4434 | -213.7303 | 427.4605 |       NA | NA |           NA |\n",
       "| mult_gpt4_model | 5 | 393.3867 | 413.3440 | -191.6933 | 383.3867 | 44.07383 |  3 | 1.455654e-09 |\n",
       "\n"
      ],
      "text/plain": [
       "                     npar AIC      BIC      logLik    deviance Chisq    Df\n",
       "mult_gpt4_null_model 2    431.4605 439.4434 -213.7303 427.4605       NA NA\n",
       "mult_gpt4_model      5    393.3867 413.3440 -191.6933 383.3867 44.07383  3\n",
       "                     Pr(>Chisq)  \n",
       "mult_gpt4_null_model           NA\n",
       "mult_gpt4_model      1.455654e-09"
      ]
     },
     "metadata": {},
     "output_type": "display_data"
    }
   ],
   "source": [
    "anova(mult_gpt4_model,mult_gpt4_null_model,test=\"Chisq\")"
   ]
  },
  {
   "cell_type": "code",
   "execution_count": 273,
   "id": "3ed2eae7",
   "metadata": {},
   "outputs": [
    {
     "data": {
      "text/html": [
       "<table class=\"dataframe\">\n",
       "<caption>A anova: 2 × 8</caption>\n",
       "<thead>\n",
       "\t<tr><th></th><th scope=col>npar</th><th scope=col>AIC</th><th scope=col>BIC</th><th scope=col>logLik</th><th scope=col>deviance</th><th scope=col>Chisq</th><th scope=col>Df</th><th scope=col>Pr(&gt;Chisq)</th></tr>\n",
       "\t<tr><th></th><th scope=col>&lt;dbl&gt;</th><th scope=col>&lt;dbl&gt;</th><th scope=col>&lt;dbl&gt;</th><th scope=col>&lt;dbl&gt;</th><th scope=col>&lt;dbl&gt;</th><th scope=col>&lt;dbl&gt;</th><th scope=col>&lt;dbl&gt;</th><th scope=col>&lt;dbl&gt;</th></tr>\n",
       "</thead>\n",
       "<tbody>\n",
       "\t<tr><th scope=row>mult_gpt35_null_model</th><td>2</td><td>395.8202</td><td>403.8031</td><td>-195.9101</td><td>391.8202</td><td>      NA</td><td>NA</td><td>         NA</td></tr>\n",
       "\t<tr><th scope=row>mult_gpt35_model</th><td>5</td><td>324.5254</td><td>344.4827</td><td>-157.2627</td><td>314.5254</td><td>77.29482</td><td> 3</td><td>1.16727e-16</td></tr>\n",
       "</tbody>\n",
       "</table>\n"
      ],
      "text/latex": [
       "A anova: 2 × 8\n",
       "\\begin{tabular}{r|llllllll}\n",
       "  & npar & AIC & BIC & logLik & deviance & Chisq & Df & Pr(>Chisq)\\\\\n",
       "  & <dbl> & <dbl> & <dbl> & <dbl> & <dbl> & <dbl> & <dbl> & <dbl>\\\\\n",
       "\\hline\n",
       "\tmult\\_gpt35\\_null\\_model & 2 & 395.8202 & 403.8031 & -195.9101 & 391.8202 &       NA & NA &          NA\\\\\n",
       "\tmult\\_gpt35\\_model & 5 & 324.5254 & 344.4827 & -157.2627 & 314.5254 & 77.29482 &  3 & 1.16727e-16\\\\\n",
       "\\end{tabular}\n"
      ],
      "text/markdown": [
       "\n",
       "A anova: 2 × 8\n",
       "\n",
       "| <!--/--> | npar &lt;dbl&gt; | AIC &lt;dbl&gt; | BIC &lt;dbl&gt; | logLik &lt;dbl&gt; | deviance &lt;dbl&gt; | Chisq &lt;dbl&gt; | Df &lt;dbl&gt; | Pr(&gt;Chisq) &lt;dbl&gt; |\n",
       "|---|---|---|---|---|---|---|---|---|\n",
       "| mult_gpt35_null_model | 2 | 395.8202 | 403.8031 | -195.9101 | 391.8202 |       NA | NA |          NA |\n",
       "| mult_gpt35_model | 5 | 324.5254 | 344.4827 | -157.2627 | 314.5254 | 77.29482 |  3 | 1.16727e-16 |\n",
       "\n"
      ],
      "text/plain": [
       "                      npar AIC      BIC      logLik    deviance Chisq    Df\n",
       "mult_gpt35_null_model 2    395.8202 403.8031 -195.9101 391.8202       NA NA\n",
       "mult_gpt35_model      5    324.5254 344.4827 -157.2627 314.5254 77.29482  3\n",
       "                      Pr(>Chisq) \n",
       "mult_gpt35_null_model          NA\n",
       "mult_gpt35_model      1.16727e-16"
      ]
     },
     "metadata": {},
     "output_type": "display_data"
    }
   ],
   "source": [
    "anova(mult_gpt35_model,mult_gpt35_null_model,test=\"Chisq\")"
   ]
  },
  {
   "cell_type": "code",
   "execution_count": 274,
   "id": "4fee4f4e",
   "metadata": {},
   "outputs": [],
   "source": [
    "gpt4_mult_multcomp <- glht(mult_gpt4_model, linfct=mcp(method=\"Tukey\"))\n"
   ]
  },
  {
   "cell_type": "code",
   "execution_count": 275,
   "id": "752f9d96",
   "metadata": {},
   "outputs": [
    {
     "data": {
      "text/plain": [
       "\n",
       "\t Simultaneous Tests for General Linear Hypotheses\n",
       "\n",
       "Multiple Comparisons of Means: Tukey Contrasts\n",
       "\n",
       "\n",
       "Fit: glmer(formula = correct ~ method + (1 | index), data = mult_gpt4_df, \n",
       "    family = binomial)\n",
       "\n",
       "Linear Hypotheses:\n",
       "                                                             Estimate\n",
       "multiplication_alternatingcaps - multiplication_allcaps == 0  -2.1294\n",
       "multiplication_number - multiplication_allcaps == 0            1.0515\n",
       "multiplication_word - multiplication_allcaps == 0              0.3911\n",
       "multiplication_number - multiplication_alternatingcaps == 0    3.1809\n",
       "multiplication_word - multiplication_alternatingcaps == 0      2.5205\n",
       "multiplication_word - multiplication_number == 0              -0.6604\n",
       "                                                             Std. Error z value\n",
       "multiplication_alternatingcaps - multiplication_allcaps == 0     0.5432  -3.920\n",
       "multiplication_number - multiplication_allcaps == 0              0.4521   2.326\n",
       "multiplication_word - multiplication_allcaps == 0                0.4440   0.881\n",
       "multiplication_number - multiplication_alternatingcaps == 0      0.5872   5.417\n",
       "multiplication_word - multiplication_alternatingcaps == 0        0.5570   4.525\n",
       "multiplication_word - multiplication_number == 0                 0.4400  -1.501\n",
       "                                                             Pr(>|z|)    \n",
       "multiplication_alternatingcaps - multiplication_allcaps == 0   <0.001 ***\n",
       "multiplication_number - multiplication_allcaps == 0            0.0901 .  \n",
       "multiplication_word - multiplication_allcaps == 0              0.8123    \n",
       "multiplication_number - multiplication_alternatingcaps == 0    <0.001 ***\n",
       "multiplication_word - multiplication_alternatingcaps == 0      <0.001 ***\n",
       "multiplication_word - multiplication_number == 0               0.4327    \n",
       "---\n",
       "Signif. codes:  0 ‘***’ 0.001 ‘**’ 0.01 ‘*’ 0.05 ‘.’ 0.1 ‘ ’ 1\n",
       "(Adjusted p values reported -- single-step method)\n"
      ]
     },
     "metadata": {},
     "output_type": "display_data"
    }
   ],
   "source": [
    "summary(gpt4_mult_multcomp)"
   ]
  },
  {
   "cell_type": "code",
   "execution_count": null,
   "id": "b026ffe3",
   "metadata": {},
   "outputs": [],
   "source": []
  },
  {
   "cell_type": "code",
   "execution_count": 276,
   "id": "b93e727e",
   "metadata": {},
   "outputs": [],
   "source": [
    "gpt35_mult_multcomp <- glht(mult_gpt35_model, linfct=mcp(method=\"Tukey\"))\n"
   ]
  },
  {
   "cell_type": "code",
   "execution_count": 277,
   "id": "13e62026",
   "metadata": {},
   "outputs": [
    {
     "data": {
      "text/plain": [
       "\n",
       "\t Simultaneous Tests for General Linear Hypotheses\n",
       "\n",
       "Multiple Comparisons of Means: Tukey Contrasts\n",
       "\n",
       "\n",
       "Fit: glmer(formula = correct ~ method + (1 | index), data = mult_gpt35_df, \n",
       "    family = binomial)\n",
       "\n",
       "Linear Hypotheses:\n",
       "                                                             Estimate\n",
       "multiplication_alternatingcaps - multiplication_allcaps == 0  -2.8676\n",
       "multiplication_number - multiplication_allcaps == 0            1.8968\n",
       "multiplication_word - multiplication_allcaps == 0              0.1711\n",
       "multiplication_number - multiplication_alternatingcaps == 0    4.7644\n",
       "multiplication_word - multiplication_alternatingcaps == 0      3.0387\n",
       "multiplication_word - multiplication_number == 0              -1.7257\n",
       "                                                             Std. Error z value\n",
       "multiplication_alternatingcaps - multiplication_allcaps == 0     1.0538  -2.721\n",
       "multiplication_number - multiplication_allcaps == 0              0.4042   4.693\n",
       "multiplication_word - multiplication_allcaps == 0                0.4142   0.413\n",
       "multiplication_number - multiplication_alternatingcaps == 0      1.0553   4.515\n",
       "multiplication_word - multiplication_alternatingcaps == 0        1.0504   2.893\n",
       "multiplication_word - multiplication_number == 0                 0.3896  -4.429\n",
       "                                                             Pr(>|z|)    \n",
       "multiplication_alternatingcaps - multiplication_allcaps == 0   0.0289 *  \n",
       "multiplication_number - multiplication_allcaps == 0            <0.001 ***\n",
       "multiplication_word - multiplication_allcaps == 0              0.9741    \n",
       "multiplication_number - multiplication_alternatingcaps == 0    <0.001 ***\n",
       "multiplication_word - multiplication_alternatingcaps == 0      0.0175 *  \n",
       "multiplication_word - multiplication_number == 0               <0.001 ***\n",
       "---\n",
       "Signif. codes:  0 ‘***’ 0.001 ‘**’ 0.01 ‘*’ 0.05 ‘.’ 0.1 ‘ ’ 1\n",
       "(Adjusted p values reported -- single-step method)\n"
      ]
     },
     "metadata": {},
     "output_type": "display_data"
    }
   ],
   "source": [
    "summary(gpt35_mult_multcomp)"
   ]
  },
  {
   "cell_type": "code",
   "execution_count": null,
   "id": "e41f95e7",
   "metadata": {},
   "outputs": [],
   "source": []
  },
  {
   "cell_type": "code",
   "execution_count": null,
   "id": "5709d31d",
   "metadata": {},
   "outputs": [],
   "source": []
  },
  {
   "cell_type": "code",
   "execution_count": null,
   "id": "8317dd68",
   "metadata": {},
   "outputs": [],
   "source": []
  },
  {
   "cell_type": "markdown",
   "id": "9aa8c6bc",
   "metadata": {},
   "source": [
    "# Linear function"
   ]
  },
  {
   "cell_type": "code",
   "execution_count": 215,
   "id": "52cf63bf",
   "metadata": {},
   "outputs": [],
   "source": [
    "# Read in data\n",
    "linfwd_gpt4_df <- read.table(file = 'table_conversion_fwd_gpt-4-0613.tsv', sep = '\\t', header = TRUE)\n",
    "linfwd_gpt35_df <- read.table(file = 'table_conversion_fwd_gpt-3.5-turbo-0613.tsv', sep = '\\t', header = TRUE)\n",
    "\n",
    "linrev_gpt4_df <- read.table(file = 'table_conversion_rev_gpt-4-0613.tsv', sep = '\\t', header = TRUE)\n",
    "linrev_gpt35_df <- read.table(file = 'table_conversion_rev_gpt-3.5-turbo-0613.tsv', sep = '\\t', header = TRUE)"
   ]
  },
  {
   "cell_type": "code",
   "execution_count": 216,
   "id": "58da05fc",
   "metadata": {},
   "outputs": [
    {
     "data": {
      "text/html": [
       "<table class=\"dataframe\">\n",
       "<caption>A data.frame: 6 × 5</caption>\n",
       "<thead>\n",
       "\t<tr><th></th><th scope=col>index</th><th scope=col>task</th><th scope=col>input</th><th scope=col>output</th><th scope=col>correct</th></tr>\n",
       "\t<tr><th></th><th scope=col>&lt;int&gt;</th><th scope=col>&lt;chr&gt;</th><th scope=col>&lt;int&gt;</th><th scope=col>&lt;dbl&gt;</th><th scope=col>&lt;int&gt;</th></tr>\n",
       "</thead>\n",
       "<tbody>\n",
       "\t<tr><th scope=row>1</th><td>0</td><td>conversion_actual</td><td>328</td><td> 622.4</td><td>1</td></tr>\n",
       "\t<tr><th scope=row>2</th><td>1</td><td>conversion_actual</td><td>941</td><td>1725.8</td><td>0</td></tr>\n",
       "\t<tr><th scope=row>3</th><td>2</td><td>conversion_actual</td><td>476</td><td> 888.8</td><td>0</td></tr>\n",
       "\t<tr><th scope=row>4</th><td>3</td><td>conversion_actual</td><td>230</td><td> 446.0</td><td>1</td></tr>\n",
       "\t<tr><th scope=row>5</th><td>4</td><td>conversion_actual</td><td>577</td><td>1070.6</td><td>0</td></tr>\n",
       "\t<tr><th scope=row>6</th><td>5</td><td>conversion_actual</td><td> 64</td><td> 147.2</td><td>1</td></tr>\n",
       "</tbody>\n",
       "</table>\n"
      ],
      "text/latex": [
       "A data.frame: 6 × 5\n",
       "\\begin{tabular}{r|lllll}\n",
       "  & index & task & input & output & correct\\\\\n",
       "  & <int> & <chr> & <int> & <dbl> & <int>\\\\\n",
       "\\hline\n",
       "\t1 & 0 & conversion\\_actual & 328 &  622.4 & 1\\\\\n",
       "\t2 & 1 & conversion\\_actual & 941 & 1725.8 & 0\\\\\n",
       "\t3 & 2 & conversion\\_actual & 476 &  888.8 & 0\\\\\n",
       "\t4 & 3 & conversion\\_actual & 230 &  446.0 & 1\\\\\n",
       "\t5 & 4 & conversion\\_actual & 577 & 1070.6 & 0\\\\\n",
       "\t6 & 5 & conversion\\_actual &  64 &  147.2 & 1\\\\\n",
       "\\end{tabular}\n"
      ],
      "text/markdown": [
       "\n",
       "A data.frame: 6 × 5\n",
       "\n",
       "| <!--/--> | index &lt;int&gt; | task &lt;chr&gt; | input &lt;int&gt; | output &lt;dbl&gt; | correct &lt;int&gt; |\n",
       "|---|---|---|---|---|---|\n",
       "| 1 | 0 | conversion_actual | 328 |  622.4 | 1 |\n",
       "| 2 | 1 | conversion_actual | 941 | 1725.8 | 0 |\n",
       "| 3 | 2 | conversion_actual | 476 |  888.8 | 0 |\n",
       "| 4 | 3 | conversion_actual | 230 |  446.0 | 1 |\n",
       "| 5 | 4 | conversion_actual | 577 | 1070.6 | 0 |\n",
       "| 6 | 5 | conversion_actual |  64 |  147.2 | 1 |\n",
       "\n"
      ],
      "text/plain": [
       "  index task              input output correct\n",
       "1 0     conversion_actual 328    622.4 1      \n",
       "2 1     conversion_actual 941   1725.8 0      \n",
       "3 2     conversion_actual 476    888.8 0      \n",
       "4 3     conversion_actual 230    446.0 1      \n",
       "5 4     conversion_actual 577   1070.6 0      \n",
       "6 5     conversion_actual  64    147.2 1      "
      ]
     },
     "metadata": {},
     "output_type": "display_data"
    }
   ],
   "source": [
    "head(linfwd_gpt4_df)"
   ]
  },
  {
   "cell_type": "code",
   "execution_count": 217,
   "id": "2a8080db",
   "metadata": {},
   "outputs": [],
   "source": [
    "scale_lin_df <- function(df) {\n",
    "    new_df <- data.frame(scale(df[3:5]))\n",
    "    new_df$index <- as.factor(df$index)\n",
    "    new_df$correct <- df$correct\n",
    "    new_df$task <- factor(df$task)\n",
    "    \n",
    "    return(new_df)\n",
    "}"
   ]
  },
  {
   "cell_type": "code",
   "execution_count": 218,
   "id": "ee55becb",
   "metadata": {},
   "outputs": [],
   "source": [
    "scaled_linfwd_gpt4_df <- scale_lin_df(linfwd_gpt4_df)\n",
    "scaled_linfwd_gpt35_df <- scale_lin_df(linfwd_gpt35_df)\n",
    "scaled_linrev_gpt4_df <- scale_lin_df(linrev_gpt4_df)\n",
    "scaled_linrev_gpt35_df <- scale_lin_df(linrev_gpt35_df)"
   ]
  },
  {
   "cell_type": "code",
   "execution_count": 220,
   "id": "743a5fb7",
   "metadata": {},
   "outputs": [],
   "source": [
    "linfwd_gpt4_model <- bayesglm(correct ~ task + input + output, \n",
    "               data=scaled_linfwd_gpt4_df, family=binomial)\n",
    "linfwd_gpt35_model <- bayesglm(correct ~ task + input + output, \n",
    "               data=scaled_linfwd_gpt35_df, family=binomial)\n",
    "linrev_gpt4_model <- bayesglm(correct ~ task + input + output, \n",
    "               data=scaled_linrev_gpt4_df, family=binomial)\n",
    "linrev_gpt35_model <- bayesglm(correct ~ task + input + output, \n",
    "               data=scaled_linrev_gpt35_df, family=binomial)"
   ]
  },
  {
   "cell_type": "code",
   "execution_count": 221,
   "id": "32cdef9e",
   "metadata": {},
   "outputs": [
    {
     "data": {
      "text/plain": [
       "\n",
       "Call:\n",
       "bayesglm(formula = correct ~ task + input + output, family = binomial, \n",
       "    data = scaled_linfwd_gpt4_df)\n",
       "\n",
       "Deviance Residuals: \n",
       "     Min        1Q    Median        3Q       Max  \n",
       "-1.38997  -0.40293  -0.08789  -0.03170   2.28552  \n",
       "\n",
       "Coefficients:\n",
       "                    Estimate Std. Error z value Pr(>|z|)   \n",
       "(Intercept)          -0.8416     0.2924  -2.878  0.00400 **\n",
       "taskconversion_fake  -5.4764     1.6658  -3.288  0.00101 **\n",
       "input                -0.5816     0.8363  -0.695  0.48679   \n",
       "output               -0.5344     0.7688  -0.695  0.48703   \n",
       "---\n",
       "Signif. codes:  0 ‘***’ 0.001 ‘**’ 0.01 ‘*’ 0.05 ‘.’ 0.1 ‘ ’ 1\n",
       "\n",
       "(Dispersion parameter for binomial family taken to be 1)\n",
       "\n",
       "    Null deviance: 179.15  on 199  degrees of freedom\n",
       "Residual deviance: 104.27  on 196  degrees of freedom\n",
       "AIC: 112.27\n",
       "\n",
       "Number of Fisher Scoring iterations: 18\n"
      ]
     },
     "metadata": {},
     "output_type": "display_data"
    }
   ],
   "source": [
    "summary(linfwd_gpt4_model)"
   ]
  },
  {
   "cell_type": "code",
   "execution_count": 222,
   "id": "0c8318bc",
   "metadata": {},
   "outputs": [
    {
     "data": {
      "text/plain": [
       "\n",
       "Call:\n",
       "bayesglm(formula = correct ~ task + input + output, family = binomial, \n",
       "    data = scaled_linfwd_gpt35_df)\n",
       "\n",
       "Deviance Residuals: \n",
       "     Min        1Q    Median        3Q       Max  \n",
       "-1.93263  -0.26941  -0.04796  -0.01200   2.05953  \n",
       "\n",
       "Coefficients:\n",
       "                    Estimate Std. Error z value Pr(>|z|)    \n",
       "(Intercept)          -0.1080     0.3119  -0.346 0.729269    \n",
       "taskconversion_fake  -6.9788     1.8301  -3.813 0.000137 ***\n",
       "input                -0.8874     0.9413  -0.943 0.345840    \n",
       "output               -0.8883     0.8660  -1.026 0.305031    \n",
       "---\n",
       "Signif. codes:  0 ‘***’ 0.001 ‘**’ 0.01 ‘*’ 0.05 ‘.’ 0.1 ‘ ’ 1\n",
       "\n",
       "(Dispersion parameter for binomial family taken to be 1)\n",
       "\n",
       "    Null deviance: 218.099  on 199  degrees of freedom\n",
       "Residual deviance:  88.084  on 196  degrees of freedom\n",
       "AIC: 96.084\n",
       "\n",
       "Number of Fisher Scoring iterations: 16\n"
      ]
     },
     "metadata": {},
     "output_type": "display_data"
    }
   ],
   "source": [
    "summary(linfwd_gpt35_model)"
   ]
  },
  {
   "cell_type": "code",
   "execution_count": 225,
   "id": "db8243bb",
   "metadata": {},
   "outputs": [
    {
     "data": {
      "text/plain": [
       "\n",
       "Call:\n",
       "bayesglm(formula = correct ~ task + input + output, family = binomial, \n",
       "    data = scaled_linrev_gpt4_df)\n",
       "\n",
       "Deviance Residuals: \n",
       "     Min        1Q    Median        3Q       Max  \n",
       "-1.40818  -0.60031  -0.07781  -0.02974   1.97667  \n",
       "\n",
       "Coefficients:\n",
       "                           Estimate Std. Error z value Pr(>|z|)    \n",
       "(Intercept)                 -0.3915     0.2716  -1.442 0.149357    \n",
       "taskconversion_fakeinverse  -5.6718     1.6886  -3.359 0.000782 ***\n",
       "input                       -0.4566     0.8349  -0.547 0.584435    \n",
       "output                      -0.4366     0.7182  -0.608 0.543210    \n",
       "---\n",
       "Signif. codes:  0 ‘***’ 0.001 ‘**’ 0.01 ‘*’ 0.05 ‘.’ 0.1 ‘ ’ 1\n",
       "\n",
       "(Dispersion parameter for binomial family taken to be 1)\n",
       "\n",
       "    Null deviance: 210.76  on 199  degrees of freedom\n",
       "Residual deviance: 122.78  on 196  degrees of freedom\n",
       "AIC: 130.78\n",
       "\n",
       "Number of Fisher Scoring iterations: 18\n"
      ]
     },
     "metadata": {},
     "output_type": "display_data"
    }
   ],
   "source": [
    "summary(linrev_gpt4_model)"
   ]
  },
  {
   "cell_type": "code",
   "execution_count": 226,
   "id": "e2a7f71c",
   "metadata": {},
   "outputs": [
    {
     "data": {
      "text/plain": [
       "\n",
       "Call:\n",
       "bayesglm(formula = correct ~ task + input + output, family = binomial, \n",
       "    data = scaled_linrev_gpt35_df)\n",
       "\n",
       "Deviance Residuals: \n",
       "    Min       1Q   Median       3Q      Max  \n",
       "-1.8763  -0.2377  -0.1307   0.7056   3.2600  \n",
       "\n",
       "Coefficients:\n",
       "                           Estimate Std. Error z value Pr(>|z|)    \n",
       "(Intercept)                  0.4090     0.2653   1.541    0.123    \n",
       "taskconversion_fakeinverse  -4.9606     0.9044  -5.485 4.13e-08 ***\n",
       "input                       -0.1544     0.8135  -0.190    0.849    \n",
       "output                      -0.6415     0.7081  -0.906    0.365    \n",
       "---\n",
       "Signif. codes:  0 ‘***’ 0.001 ‘**’ 0.01 ‘*’ 0.05 ‘.’ 0.1 ‘ ’ 1\n",
       "\n",
       "(Dispersion parameter for binomial family taken to be 1)\n",
       "\n",
       "    Null deviance: 246.02  on 199  degrees of freedom\n",
       "Residual deviance: 131.42  on 196  degrees of freedom\n",
       "AIC: 139.42\n",
       "\n",
       "Number of Fisher Scoring iterations: 11\n"
      ]
     },
     "metadata": {},
     "output_type": "display_data"
    }
   ],
   "source": [
    "summary(linrev_gpt35_model)"
   ]
  },
  {
   "cell_type": "code",
   "execution_count": 223,
   "id": "fa4a2bf3",
   "metadata": {},
   "outputs": [
    {
     "data": {
      "text/html": [
       "<style>\n",
       ".dl-inline {width: auto; margin:0; padding: 0}\n",
       ".dl-inline>dt, .dl-inline>dd {float: none; width: auto; display: inline-block}\n",
       ".dl-inline>dt::after {content: \":\\0020\"; padding-right: .5ex}\n",
       ".dl-inline>dt:not(:first-of-type) {padding-left: .5ex}\n",
       "</style><dl class=dl-inline><dt>task</dt><dd>1.01237979255069</dd><dt>input</dt><dd>9.03359544253074</dd><dt>output</dt><dd>9.07044386705375</dd></dl>\n"
      ],
      "text/latex": [
       "\\begin{description*}\n",
       "\\item[task] 1.01237979255069\n",
       "\\item[input] 9.03359544253074\n",
       "\\item[output] 9.07044386705375\n",
       "\\end{description*}\n"
      ],
      "text/markdown": [
       "task\n",
       ":   1.01237979255069input\n",
       ":   9.03359544253074output\n",
       ":   9.07044386705375\n",
       "\n"
      ],
      "text/plain": [
       "    task    input   output \n",
       "1.012380 9.033595 9.070444 "
      ]
     },
     "metadata": {},
     "output_type": "display_data"
    }
   ],
   "source": [
    "vif(linfwd_gpt4_model)"
   ]
  },
  {
   "cell_type": "code",
   "execution_count": 224,
   "id": "a5fc08cd",
   "metadata": {},
   "outputs": [
    {
     "data": {
      "text/html": [
       "<style>\n",
       ".dl-inline {width: auto; margin:0; padding: 0}\n",
       ".dl-inline>dt, .dl-inline>dd {float: none; width: auto; display: inline-block}\n",
       ".dl-inline>dt::after {content: \":\\0020\"; padding-right: .5ex}\n",
       ".dl-inline>dt:not(:first-of-type) {padding-left: .5ex}\n",
       "</style><dl class=dl-inline><dt>task</dt><dd>1.02942484391397</dd><dt>input</dt><dd>7.69275377186004</dd><dt>output</dt><dd>7.75114912061226</dd></dl>\n"
      ],
      "text/latex": [
       "\\begin{description*}\n",
       "\\item[task] 1.02942484391397\n",
       "\\item[input] 7.69275377186004\n",
       "\\item[output] 7.75114912061226\n",
       "\\end{description*}\n"
      ],
      "text/markdown": [
       "task\n",
       ":   1.02942484391397input\n",
       ":   7.69275377186004output\n",
       ":   7.75114912061226\n",
       "\n"
      ],
      "text/plain": [
       "    task    input   output \n",
       "1.029425 7.692754 7.751149 "
      ]
     },
     "metadata": {},
     "output_type": "display_data"
    }
   ],
   "source": [
    "vif(linfwd_gpt35_model)"
   ]
  },
  {
   "cell_type": "code",
   "execution_count": 227,
   "id": "f260dc61",
   "metadata": {},
   "outputs": [
    {
     "data": {
      "text/html": [
       "<style>\n",
       ".dl-inline {width: auto; margin:0; padding: 0}\n",
       ".dl-inline>dt, .dl-inline>dd {float: none; width: auto; display: inline-block}\n",
       ".dl-inline>dt::after {content: \":\\0020\"; padding-right: .5ex}\n",
       ".dl-inline>dt:not(:first-of-type) {padding-left: .5ex}\n",
       "</style><dl class=dl-inline><dt>task</dt><dd>1.01056781041389</dd><dt>input</dt><dd>9.60880594034421</dd><dt>output</dt><dd>9.63693376262296</dd></dl>\n"
      ],
      "text/latex": [
       "\\begin{description*}\n",
       "\\item[task] 1.01056781041389\n",
       "\\item[input] 9.60880594034421\n",
       "\\item[output] 9.63693376262296\n",
       "\\end{description*}\n"
      ],
      "text/markdown": [
       "task\n",
       ":   1.01056781041389input\n",
       ":   9.60880594034421output\n",
       ":   9.63693376262296\n",
       "\n"
      ],
      "text/plain": [
       "    task    input   output \n",
       "1.010568 9.608806 9.636934 "
      ]
     },
     "metadata": {},
     "output_type": "display_data"
    }
   ],
   "source": [
    "vif(linrev_gpt4_model)"
   ]
  },
  {
   "cell_type": "code",
   "execution_count": 228,
   "id": "55140d55",
   "metadata": {},
   "outputs": [
    {
     "data": {
      "text/html": [
       "<style>\n",
       ".dl-inline {width: auto; margin:0; padding: 0}\n",
       ".dl-inline>dt, .dl-inline>dd {float: none; width: auto; display: inline-block}\n",
       ".dl-inline>dt::after {content: \":\\0020\"; padding-right: .5ex}\n",
       ".dl-inline>dt:not(:first-of-type) {padding-left: .5ex}\n",
       "</style><dl class=dl-inline><dt>task</dt><dd>1.0619633725152</dd><dt>input</dt><dd>10.6280900730131</dd><dt>output</dt><dd>10.8150753491443</dd></dl>\n"
      ],
      "text/latex": [
       "\\begin{description*}\n",
       "\\item[task] 1.0619633725152\n",
       "\\item[input] 10.6280900730131\n",
       "\\item[output] 10.8150753491443\n",
       "\\end{description*}\n"
      ],
      "text/markdown": [
       "task\n",
       ":   1.0619633725152input\n",
       ":   10.6280900730131output\n",
       ":   10.8150753491443\n",
       "\n"
      ],
      "text/plain": [
       "     task     input    output \n",
       " 1.061963 10.628090 10.815075 "
      ]
     },
     "metadata": {},
     "output_type": "display_data"
    }
   ],
   "source": [
    "vif(linrev_gpt35_model)"
   ]
  },
  {
   "cell_type": "code",
   "execution_count": null,
   "id": "47c381ee",
   "metadata": {},
   "outputs": [],
   "source": []
  },
  {
   "cell_type": "markdown",
   "id": "8efe3c22",
   "metadata": {},
   "source": [
    "### Comparing methods"
   ]
  },
  {
   "cell_type": "code",
   "execution_count": 229,
   "id": "85c02a15",
   "metadata": {},
   "outputs": [],
   "source": [
    "linmethod_gpt4_df <- read.table(file = 'table_conversion_method_gpt-4-0613.tsv', sep = '\\t', header = TRUE)\n",
    "linmethod_gpt35_df <- read.table(file = 'table_conversion_method_gpt-3.5-turbo-0613.tsv', sep = '\\t', header = TRUE)"
   ]
  },
  {
   "cell_type": "code",
   "execution_count": 230,
   "id": "c574ace5",
   "metadata": {},
   "outputs": [],
   "source": [
    "scaled_linmethod_gpt4_df <- scale_lin_df(linmethod_gpt4_df)\n",
    "scaled_linmethod_gpt35_df <- scale_lin_df(linmethod_gpt35_df)"
   ]
  },
  {
   "cell_type": "code",
   "execution_count": 231,
   "id": "8990398d",
   "metadata": {},
   "outputs": [],
   "source": [
    "contrasts(scaled_linmethod_gpt4_df$task) <- contr.sum(3)\n",
    "contrasts(scaled_linmethod_gpt35_df$task) <- contr.sum(3)"
   ]
  },
  {
   "cell_type": "code",
   "execution_count": 232,
   "id": "037b06e4",
   "metadata": {},
   "outputs": [],
   "source": [
    "linmethod_gpt4_model <- glmer(correct ~ task + (1|index), \n",
    "               data=scaled_linmethod_gpt4_df, family=binomial)\n",
    "linmethod_gpt35_model <- glmer(correct ~ task + (1|index), \n",
    "               data=scaled_linmethod_gpt35_df , family=binomial)"
   ]
  },
  {
   "cell_type": "code",
   "execution_count": 233,
   "id": "6059680b",
   "metadata": {},
   "outputs": [],
   "source": [
    "linmethod_gpt4_null_model <- glmer(correct ~ (1|index), \n",
    "               data=scaled_linmethod_gpt4_df, family=binomial)\n",
    "linmethod_gpt35_null_model <- glmer(correct ~ (1|index), \n",
    "               data=scaled_linmethod_gpt35_df , family=binomial)"
   ]
  },
  {
   "cell_type": "code",
   "execution_count": 234,
   "id": "5d287a0b",
   "metadata": {},
   "outputs": [
    {
     "data": {
      "text/plain": [
       "Generalized linear mixed model fit by maximum likelihood (Laplace\n",
       "  Approximation) [glmerMod]\n",
       " Family: binomial  ( logit )\n",
       "Formula: correct ~ task + (1 | index)\n",
       "   Data: scaled_linmethod_gpt4_df\n",
       "\n",
       "     AIC      BIC   logLik deviance df.resid \n",
       "   311.7    326.5   -151.9    303.7      296 \n",
       "\n",
       "Scaled residuals: \n",
       "     Min       1Q   Median       3Q      Max \n",
       "-2.25915 -0.20466  0.04086  0.44265  2.02756 \n",
       "\n",
       "Random effects:\n",
       " Groups Name        Variance Std.Dev.\n",
       " index  (Intercept) 11.22    3.35    \n",
       "Number of obs: 300, groups:  index, 100\n",
       "\n",
       "Fixed effects:\n",
       "            Estimate Std. Error z value Pr(>|z|)    \n",
       "(Intercept)   0.9127     0.4387   2.081   0.0375 *  \n",
       "task1        -2.6689     0.5598  -4.767 1.87e-06 ***\n",
       "task2         2.5676     0.5447   4.713 2.44e-06 ***\n",
       "---\n",
       "Signif. codes:  0 ‘***’ 0.001 ‘**’ 0.01 ‘*’ 0.05 ‘.’ 0.1 ‘ ’ 1\n",
       "\n",
       "Correlation of Fixed Effects:\n",
       "      (Intr) task1 \n",
       "task1 -0.354       \n",
       "task2  0.350 -0.870"
      ]
     },
     "metadata": {},
     "output_type": "display_data"
    }
   ],
   "source": [
    "summary(linmethod_gpt4_model)"
   ]
  },
  {
   "cell_type": "code",
   "execution_count": 235,
   "id": "9b6dda1f",
   "metadata": {},
   "outputs": [
    {
     "data": {
      "text/plain": [
       "Generalized linear mixed model fit by maximum likelihood (Laplace\n",
       "  Approximation) [glmerMod]\n",
       " Family: binomial  ( logit )\n",
       "Formula: correct ~ task + (1 | index)\n",
       "   Data: scaled_linmethod_gpt35_df\n",
       "\n",
       "     AIC      BIC   logLik deviance df.resid \n",
       "   322.8    337.6   -157.4    314.8      296 \n",
       "\n",
       "Scaled residuals: \n",
       "    Min      1Q  Median      3Q     Max \n",
       "-2.2141 -0.3941  0.2185  0.4516  2.5372 \n",
       "\n",
       "Random effects:\n",
       " Groups Name        Variance Std.Dev.\n",
       " index  (Intercept) 5.497    2.345   \n",
       "Number of obs: 300, groups:  index, 100\n",
       "\n",
       "Fixed effects:\n",
       "            Estimate Std. Error z value Pr(>|z|)    \n",
       "(Intercept)   1.3924     0.3640   3.826  0.00013 ***\n",
       "task1        -1.5561     0.3001  -5.185 2.16e-07 ***\n",
       "task2         1.8958     0.3556   5.331 9.74e-08 ***\n",
       "---\n",
       "Signif. codes:  0 ‘***’ 0.001 ‘**’ 0.01 ‘*’ 0.05 ‘.’ 0.1 ‘ ’ 1\n",
       "\n",
       "Correlation of Fixed Effects:\n",
       "      (Intr) task1 \n",
       "task1 -0.374       \n",
       "task2  0.414 -0.735"
      ]
     },
     "metadata": {},
     "output_type": "display_data"
    }
   ],
   "source": [
    "summary(linmethod_gpt35_model)"
   ]
  },
  {
   "cell_type": "code",
   "execution_count": 236,
   "id": "d88662fe",
   "metadata": {},
   "outputs": [
    {
     "data": {
      "text/html": [
       "<table class=\"dataframe\">\n",
       "<caption>A anova: 2 × 8</caption>\n",
       "<thead>\n",
       "\t<tr><th></th><th scope=col>npar</th><th scope=col>AIC</th><th scope=col>BIC</th><th scope=col>logLik</th><th scope=col>deviance</th><th scope=col>Chisq</th><th scope=col>Df</th><th scope=col>Pr(&gt;Chisq)</th></tr>\n",
       "\t<tr><th></th><th scope=col>&lt;dbl&gt;</th><th scope=col>&lt;dbl&gt;</th><th scope=col>&lt;dbl&gt;</th><th scope=col>&lt;dbl&gt;</th><th scope=col>&lt;dbl&gt;</th><th scope=col>&lt;dbl&gt;</th><th scope=col>&lt;dbl&gt;</th><th scope=col>&lt;dbl&gt;</th></tr>\n",
       "</thead>\n",
       "<tbody>\n",
       "\t<tr><th scope=row>linmethod_gpt4_null_model</th><td>2</td><td>392.7577</td><td>400.1652</td><td>-194.3788</td><td>388.7577</td><td>      NA</td><td>NA</td><td>          NA</td></tr>\n",
       "\t<tr><th scope=row>linmethod_gpt4_model</th><td>4</td><td>311.7095</td><td>326.5246</td><td>-151.8547</td><td>303.7095</td><td>85.04822</td><td> 2</td><td>3.404193e-19</td></tr>\n",
       "</tbody>\n",
       "</table>\n"
      ],
      "text/latex": [
       "A anova: 2 × 8\n",
       "\\begin{tabular}{r|llllllll}\n",
       "  & npar & AIC & BIC & logLik & deviance & Chisq & Df & Pr(>Chisq)\\\\\n",
       "  & <dbl> & <dbl> & <dbl> & <dbl> & <dbl> & <dbl> & <dbl> & <dbl>\\\\\n",
       "\\hline\n",
       "\tlinmethod\\_gpt4\\_null\\_model & 2 & 392.7577 & 400.1652 & -194.3788 & 388.7577 &       NA & NA &           NA\\\\\n",
       "\tlinmethod\\_gpt4\\_model & 4 & 311.7095 & 326.5246 & -151.8547 & 303.7095 & 85.04822 &  2 & 3.404193e-19\\\\\n",
       "\\end{tabular}\n"
      ],
      "text/markdown": [
       "\n",
       "A anova: 2 × 8\n",
       "\n",
       "| <!--/--> | npar &lt;dbl&gt; | AIC &lt;dbl&gt; | BIC &lt;dbl&gt; | logLik &lt;dbl&gt; | deviance &lt;dbl&gt; | Chisq &lt;dbl&gt; | Df &lt;dbl&gt; | Pr(&gt;Chisq) &lt;dbl&gt; |\n",
       "|---|---|---|---|---|---|---|---|---|\n",
       "| linmethod_gpt4_null_model | 2 | 392.7577 | 400.1652 | -194.3788 | 388.7577 |       NA | NA |           NA |\n",
       "| linmethod_gpt4_model | 4 | 311.7095 | 326.5246 | -151.8547 | 303.7095 | 85.04822 |  2 | 3.404193e-19 |\n",
       "\n"
      ],
      "text/plain": [
       "                          npar AIC      BIC      logLik    deviance Chisq    Df\n",
       "linmethod_gpt4_null_model 2    392.7577 400.1652 -194.3788 388.7577       NA NA\n",
       "linmethod_gpt4_model      4    311.7095 326.5246 -151.8547 303.7095 85.04822  2\n",
       "                          Pr(>Chisq)  \n",
       "linmethod_gpt4_null_model           NA\n",
       "linmethod_gpt4_model      3.404193e-19"
      ]
     },
     "metadata": {},
     "output_type": "display_data"
    }
   ],
   "source": [
    "anova(linmethod_gpt4_model,linmethod_gpt4_null_model,test=\"Chisq\")"
   ]
  },
  {
   "cell_type": "code",
   "execution_count": 237,
   "id": "31e7a049",
   "metadata": {},
   "outputs": [
    {
     "data": {
      "text/html": [
       "<table class=\"dataframe\">\n",
       "<caption>A anova: 2 × 8</caption>\n",
       "<thead>\n",
       "\t<tr><th></th><th scope=col>npar</th><th scope=col>AIC</th><th scope=col>BIC</th><th scope=col>logLik</th><th scope=col>deviance</th><th scope=col>Chisq</th><th scope=col>Df</th><th scope=col>Pr(&gt;Chisq)</th></tr>\n",
       "\t<tr><th></th><th scope=col>&lt;dbl&gt;</th><th scope=col>&lt;dbl&gt;</th><th scope=col>&lt;dbl&gt;</th><th scope=col>&lt;dbl&gt;</th><th scope=col>&lt;dbl&gt;</th><th scope=col>&lt;dbl&gt;</th><th scope=col>&lt;dbl&gt;</th><th scope=col>&lt;dbl&gt;</th></tr>\n",
       "</thead>\n",
       "<tbody>\n",
       "\t<tr><th scope=row>linmethod_gpt35_null_model</th><td>2</td><td>374.2759</td><td>381.6835</td><td>-185.1379</td><td>370.2759</td><td>      NA</td><td>NA</td><td>          NA</td></tr>\n",
       "\t<tr><th scope=row>linmethod_gpt35_model</th><td>4</td><td>322.8321</td><td>337.6472</td><td>-157.4161</td><td>314.8321</td><td>55.44378</td><td> 2</td><td>9.131353e-13</td></tr>\n",
       "</tbody>\n",
       "</table>\n"
      ],
      "text/latex": [
       "A anova: 2 × 8\n",
       "\\begin{tabular}{r|llllllll}\n",
       "  & npar & AIC & BIC & logLik & deviance & Chisq & Df & Pr(>Chisq)\\\\\n",
       "  & <dbl> & <dbl> & <dbl> & <dbl> & <dbl> & <dbl> & <dbl> & <dbl>\\\\\n",
       "\\hline\n",
       "\tlinmethod\\_gpt35\\_null\\_model & 2 & 374.2759 & 381.6835 & -185.1379 & 370.2759 &       NA & NA &           NA\\\\\n",
       "\tlinmethod\\_gpt35\\_model & 4 & 322.8321 & 337.6472 & -157.4161 & 314.8321 & 55.44378 &  2 & 9.131353e-13\\\\\n",
       "\\end{tabular}\n"
      ],
      "text/markdown": [
       "\n",
       "A anova: 2 × 8\n",
       "\n",
       "| <!--/--> | npar &lt;dbl&gt; | AIC &lt;dbl&gt; | BIC &lt;dbl&gt; | logLik &lt;dbl&gt; | deviance &lt;dbl&gt; | Chisq &lt;dbl&gt; | Df &lt;dbl&gt; | Pr(&gt;Chisq) &lt;dbl&gt; |\n",
       "|---|---|---|---|---|---|---|---|---|\n",
       "| linmethod_gpt35_null_model | 2 | 374.2759 | 381.6835 | -185.1379 | 370.2759 |       NA | NA |           NA |\n",
       "| linmethod_gpt35_model | 4 | 322.8321 | 337.6472 | -157.4161 | 314.8321 | 55.44378 |  2 | 9.131353e-13 |\n",
       "\n"
      ],
      "text/plain": [
       "                           npar AIC      BIC      logLik    deviance Chisq   \n",
       "linmethod_gpt35_null_model 2    374.2759 381.6835 -185.1379 370.2759       NA\n",
       "linmethod_gpt35_model      4    322.8321 337.6472 -157.4161 314.8321 55.44378\n",
       "                           Df Pr(>Chisq)  \n",
       "linmethod_gpt35_null_model NA           NA\n",
       "linmethod_gpt35_model       2 9.131353e-13"
      ]
     },
     "metadata": {},
     "output_type": "display_data"
    }
   ],
   "source": [
    "anova(linmethod_gpt35_model,linmethod_gpt35_null_model,test=\"Chisq\")"
   ]
  },
  {
   "cell_type": "code",
   "execution_count": 238,
   "id": "f6f58077",
   "metadata": {},
   "outputs": [],
   "source": [
    "gpt4_lin_multcomp <- glht(linmethod_gpt4_model, linfct=mcp(task=\"Tukey\"))\n",
    "gpt35_lin_multcomp <- glht(linmethod_gpt35_model, linfct=mcp(task=\"Tukey\"))\n"
   ]
  },
  {
   "cell_type": "code",
   "execution_count": 239,
   "id": "ee0dd26e",
   "metadata": {},
   "outputs": [
    {
     "data": {
      "text/plain": [
       "\n",
       "\t Simultaneous Tests for General Linear Hypotheses\n",
       "\n",
       "Multiple Comparisons of Means: Tukey Contrasts\n",
       "\n",
       "\n",
       "Fit: glmer(formula = correct ~ task + (1 | index), data = scaled_linmethod_gpt4_df, \n",
       "    family = binomial)\n",
       "\n",
       "Linear Hypotheses:\n",
       "                                                              Estimate\n",
       "conversion_actualprimed - conversion_actual == 0                5.2365\n",
       "conversion_actualprimedcontrol - conversion_actual == 0         2.7703\n",
       "conversion_actualprimedcontrol - conversion_actualprimed == 0  -2.4662\n",
       "                                                              Std. Error\n",
       "conversion_actualprimed - conversion_actual == 0                  1.0681\n",
       "conversion_actualprimedcontrol - conversion_actual == 0           0.6992\n",
       "conversion_actualprimedcontrol - conversion_actualprimed == 0     0.6625\n",
       "                                                              z value Pr(>|z|)\n",
       "conversion_actualprimed - conversion_actual == 0                4.903  < 1e-04\n",
       "conversion_actualprimedcontrol - conversion_actual == 0         3.962 0.000176\n",
       "conversion_actualprimedcontrol - conversion_actualprimed == 0  -3.722 0.000474\n",
       "                                                                 \n",
       "conversion_actualprimed - conversion_actual == 0              ***\n",
       "conversion_actualprimedcontrol - conversion_actual == 0       ***\n",
       "conversion_actualprimedcontrol - conversion_actualprimed == 0 ***\n",
       "---\n",
       "Signif. codes:  0 ‘***’ 0.001 ‘**’ 0.01 ‘*’ 0.05 ‘.’ 0.1 ‘ ’ 1\n",
       "(Adjusted p values reported -- single-step method)\n"
      ]
     },
     "metadata": {},
     "output_type": "display_data"
    }
   ],
   "source": [
    "summary(gpt4_lin_multcomp)"
   ]
  },
  {
   "cell_type": "code",
   "execution_count": 240,
   "id": "c3d4102f",
   "metadata": {},
   "outputs": [
    {
     "data": {
      "text/plain": [
       "\n",
       "\t Simultaneous Tests for General Linear Hypotheses\n",
       "\n",
       "Multiple Comparisons of Means: Tukey Contrasts\n",
       "\n",
       "\n",
       "Fit: glmer(formula = correct ~ task + (1 | index), data = scaled_linmethod_gpt35_df, \n",
       "    family = binomial)\n",
       "\n",
       "Linear Hypotheses:\n",
       "                                                              Estimate\n",
       "conversion_actualprimed - conversion_actual == 0                3.4519\n",
       "conversion_actualprimedcontrol - conversion_actual == 0         1.2163\n",
       "conversion_actualprimedcontrol - conversion_actualprimed == 0  -2.2356\n",
       "                                                              Std. Error\n",
       "conversion_actualprimed - conversion_actual == 0                  0.6110\n",
       "conversion_actualprimedcontrol - conversion_actual == 0           0.4161\n",
       "conversion_actualprimedcontrol - conversion_actualprimed == 0     0.5313\n",
       "                                                              z value Pr(>|z|)\n",
       "conversion_actualprimed - conversion_actual == 0                5.650  < 0.001\n",
       "conversion_actualprimedcontrol - conversion_actual == 0         2.923  0.00933\n",
       "conversion_actualprimedcontrol - conversion_actualprimed == 0  -4.208  < 0.001\n",
       "                                                                 \n",
       "conversion_actualprimed - conversion_actual == 0              ***\n",
       "conversion_actualprimedcontrol - conversion_actual == 0       ** \n",
       "conversion_actualprimedcontrol - conversion_actualprimed == 0 ***\n",
       "---\n",
       "Signif. codes:  0 ‘***’ 0.001 ‘**’ 0.01 ‘*’ 0.05 ‘.’ 0.1 ‘ ’ 1\n",
       "(Adjusted p values reported -- single-step method)\n"
      ]
     },
     "metadata": {},
     "output_type": "display_data"
    }
   ],
   "source": [
    "summary(gpt35_lin_multcomp)"
   ]
  },
  {
   "cell_type": "code",
   "execution_count": null,
   "id": "919cc6ea",
   "metadata": {},
   "outputs": [],
   "source": []
  },
  {
   "cell_type": "code",
   "execution_count": null,
   "id": "9557c185",
   "metadata": {},
   "outputs": [],
   "source": []
  },
  {
   "cell_type": "markdown",
   "id": "b72bc1e9",
   "metadata": {},
   "source": [
    "### Basic test: OOD"
   ]
  },
  {
   "cell_type": "code",
   "execution_count": 241,
   "id": "90392fdb",
   "metadata": {},
   "outputs": [],
   "source": [
    "# Read in data\n",
    "linfwdood_gpt4_df <- read.table(file = 'table_conversion_ood_fwd_gpt-4-0613.tsv', sep = '\\t', header = TRUE)\n",
    "linfwdood_gpt35_df <- read.table(file = 'table_conversion_ood_fwd_gpt-3.5-turbo-0613.tsv', sep = '\\t', header = TRUE)\n",
    "\n",
    "linrevood_gpt4_df <- read.table(file = 'table_conversion_ood_rev_gpt-4-0613.tsv', sep = '\\t', header = TRUE)\n",
    "linrevood_gpt35_df <- read.table(file = 'table_conversion_ood_rev_gpt-3.5-turbo-0613.tsv', sep = '\\t', header = TRUE)"
   ]
  },
  {
   "cell_type": "code",
   "execution_count": 242,
   "id": "3055c2fe",
   "metadata": {},
   "outputs": [],
   "source": [
    "scaled_linfwdood_gpt4_df <- scale_lin_df(linfwdood_gpt4_df)\n",
    "scaled_linfwdood_gpt35_df <- scale_lin_df(linfwdood_gpt35_df)\n",
    "scaled_linrevood_gpt4_df <- scale_lin_df(linrevood_gpt4_df)\n",
    "scaled_linrevood_gpt35_df <- scale_lin_df(linrevood_gpt35_df)"
   ]
  },
  {
   "cell_type": "code",
   "execution_count": 243,
   "id": "e413a141",
   "metadata": {},
   "outputs": [],
   "source": [
    "linfwdood_gpt4_model <- bayesglm(correct ~ task + input + output, \n",
    "               data=scaled_linfwdood_gpt4_df, family=binomial)\n",
    "linfwdood_gpt35_model <- bayesglm(correct ~ task + input + output, \n",
    "               data=scaled_linfwdood_gpt35_df, family=binomial)\n",
    "linrevood_gpt4_model <- bayesglm(correct ~ task + input + output, \n",
    "               data=scaled_linrevood_gpt4_df, family=binomial)\n",
    "linrevood_gpt35_model <- bayesglm(correct ~ task + input + output, \n",
    "               data=scaled_linrevood_gpt35_df, family=binomial)"
   ]
  },
  {
   "cell_type": "code",
   "execution_count": 244,
   "id": "6a9bf490",
   "metadata": {},
   "outputs": [
    {
     "data": {
      "text/plain": [
       "\n",
       "Call:\n",
       "bayesglm(formula = correct ~ task + input + output, family = binomial, \n",
       "    data = scaled_linfwdood_gpt4_df)\n",
       "\n",
       "Deviance Residuals: \n",
       "    Min       1Q   Median       3Q      Max  \n",
       "-0.7808  -0.3932  -0.1228  -0.0655   2.4532  \n",
       "\n",
       "Coefficients:\n",
       "                        Estimate Std. Error z value Pr(>|z|)    \n",
       "(Intercept)              -2.2336     0.5434  -4.110 3.95e-05 ***\n",
       "taskconversion_ood_fake  -3.6606     1.6255  -2.252   0.0243 *  \n",
       "input                    -0.5776     0.7349  -0.786   0.4319    \n",
       "output                   -0.1299     0.7855  -0.165   0.8687    \n",
       "---\n",
       "Signif. codes:  0 ‘***’ 0.001 ‘**’ 0.01 ‘*’ 0.05 ‘.’ 0.1 ‘ ’ 1\n",
       "\n",
       "(Dispersion parameter for binomial family taken to be 1)\n",
       "\n",
       "    Null deviance: 85.193  on 199  degrees of freedom\n",
       "Residual deviance: 64.937  on 196  degrees of freedom\n",
       "AIC: 72.937\n",
       "\n",
       "Number of Fisher Scoring iterations: 21\n"
      ]
     },
     "metadata": {},
     "output_type": "display_data"
    }
   ],
   "source": [
    "summary(linfwdood_gpt4_model)"
   ]
  },
  {
   "cell_type": "code",
   "execution_count": 245,
   "id": "802bddf8",
   "metadata": {},
   "outputs": [
    {
     "data": {
      "text/plain": [
       "\n",
       "Call:\n",
       "bayesglm(formula = correct ~ task + input + output, family = binomial, \n",
       "    data = scaled_linfwdood_gpt35_df)\n",
       "\n",
       "Deviance Residuals: \n",
       "     Min        1Q    Median        3Q       Max  \n",
       "-1.41999  -0.33987  -0.20057  -0.06683   2.69279  \n",
       "\n",
       "Coefficients:\n",
       "                        Estimate Std. Error z value Pr(>|z|)   \n",
       "(Intercept)              -1.8413     0.5660  -3.253  0.00114 **\n",
       "taskconversion_ood_fake  -3.3915     1.1394  -2.977  0.00292 **\n",
       "input                    -1.1050     0.7961  -1.388  0.16512   \n",
       "output                   -0.3337     0.8472  -0.394  0.69364   \n",
       "---\n",
       "Signif. codes:  0 ‘***’ 0.001 ‘**’ 0.01 ‘*’ 0.05 ‘.’ 0.1 ‘ ’ 1\n",
       "\n",
       "(Dispersion parameter for binomial family taken to be 1)\n",
       "\n",
       "    Null deviance: 130.033  on 199  degrees of freedom\n",
       "Residual deviance:  83.716  on 196  degrees of freedom\n",
       "AIC: 91.716\n",
       "\n",
       "Number of Fisher Scoring iterations: 15\n"
      ]
     },
     "metadata": {},
     "output_type": "display_data"
    }
   ],
   "source": [
    "summary(linfwdood_gpt35_model)"
   ]
  },
  {
   "cell_type": "code",
   "execution_count": 246,
   "id": "7e50c2a1",
   "metadata": {},
   "outputs": [
    {
     "data": {
      "text/plain": [
       "\n",
       "Call:\n",
       "bayesglm(formula = correct ~ task + input + output, family = binomial, \n",
       "    data = scaled_linrevood_gpt4_df)\n",
       "\n",
       "Deviance Residuals: \n",
       "     Min        1Q    Median        3Q       Max  \n",
       "-0.85211  -0.69168  -0.09061  -0.07368   1.85504  \n",
       "\n",
       "Coefficients:\n",
       "                               Estimate Std. Error z value Pr(>|z|)   \n",
       "(Intercept)                     -1.2347     0.4630  -2.666  0.00767 **\n",
       "taskconversion_ood_fakeinverse  -4.4110     1.7146  -2.573  0.01009 * \n",
       "input                           -0.1056     0.8171  -0.129  0.89714   \n",
       "output                           0.3170     0.6315   0.502  0.61571   \n",
       "---\n",
       "Signif. codes:  0 ‘***’ 0.001 ‘**’ 0.01 ‘*’ 0.05 ‘.’ 0.1 ‘ ’ 1\n",
       "\n",
       "(Dispersion parameter for binomial family taken to be 1)\n",
       "\n",
       "    Null deviance: 146.77  on 199  degrees of freedom\n",
       "Residual deviance: 109.74  on 196  degrees of freedom\n",
       "AIC: 117.74\n",
       "\n",
       "Number of Fisher Scoring iterations: 20\n"
      ]
     },
     "metadata": {},
     "output_type": "display_data"
    }
   ],
   "source": [
    "summary(linrevood_gpt4_model)"
   ]
  },
  {
   "cell_type": "code",
   "execution_count": 247,
   "id": "cd10bc3d",
   "metadata": {},
   "outputs": [
    {
     "data": {
      "text/plain": [
       "\n",
       "Call:\n",
       "bayesglm(formula = correct ~ task + input + output, family = binomial, \n",
       "    data = scaled_linrevood_gpt35_df)\n",
       "\n",
       "Deviance Residuals: \n",
       "     Min        1Q    Median        3Q       Max  \n",
       "-1.05965  -0.83455  -0.08504  -0.06645   1.60478  \n",
       "\n",
       "Coefficients:\n",
       "                                Estimate Std. Error z value Pr(>|z|)   \n",
       "(Intercept)                    -0.792035   0.458688  -1.727  0.08421 . \n",
       "taskconversion_ood_fakeinverse -4.812195   1.725003  -2.790  0.00528 **\n",
       "input                          -0.310161   0.823762  -0.377  0.70653   \n",
       "output                          0.003018   0.631042   0.005  0.99618   \n",
       "---\n",
       "Signif. codes:  0 ‘***’ 0.001 ‘**’ 0.01 ‘*’ 0.05 ‘.’ 0.1 ‘ ’ 1\n",
       "\n",
       "(Dispersion parameter for binomial family taken to be 1)\n",
       "\n",
       "    Null deviance: 185.49  on 199  degrees of freedom\n",
       "Residual deviance: 128.92  on 196  degrees of freedom\n",
       "AIC: 136.92\n",
       "\n",
       "Number of Fisher Scoring iterations: 19\n"
      ]
     },
     "metadata": {},
     "output_type": "display_data"
    }
   ],
   "source": [
    "summary(linrevood_gpt35_model)"
   ]
  },
  {
   "cell_type": "code",
   "execution_count": 248,
   "id": "7369eb5c",
   "metadata": {},
   "outputs": [
    {
     "data": {
      "text/html": [
       "<style>\n",
       ".dl-inline {width: auto; margin:0; padding: 0}\n",
       ".dl-inline>dt, .dl-inline>dd {float: none; width: auto; display: inline-block}\n",
       ".dl-inline>dt::after {content: \":\\0020\"; padding-right: .5ex}\n",
       ".dl-inline>dt:not(:first-of-type) {padding-left: .5ex}\n",
       "</style><dl class=dl-inline><dt>task</dt><dd>1.17539162252788</dd><dt>input</dt><dd>4.82775794974196</dd><dt>output</dt><dd>5.03132742401167</dd></dl>\n"
      ],
      "text/latex": [
       "\\begin{description*}\n",
       "\\item[task] 1.17539162252788\n",
       "\\item[input] 4.82775794974196\n",
       "\\item[output] 5.03132742401167\n",
       "\\end{description*}\n"
      ],
      "text/markdown": [
       "task\n",
       ":   1.17539162252788input\n",
       ":   4.82775794974196output\n",
       ":   5.03132742401167\n",
       "\n"
      ],
      "text/plain": [
       "    task    input   output \n",
       "1.175392 4.827758 5.031327 "
      ]
     },
     "metadata": {},
     "output_type": "display_data"
    }
   ],
   "source": [
    "vif(linfwdood_gpt4_model)"
   ]
  },
  {
   "cell_type": "code",
   "execution_count": 249,
   "id": "b1a3e290",
   "metadata": {},
   "outputs": [
    {
     "data": {
      "text/html": [
       "<style>\n",
       ".dl-inline {width: auto; margin:0; padding: 0}\n",
       ".dl-inline>dt, .dl-inline>dd {float: none; width: auto; display: inline-block}\n",
       ".dl-inline>dt::after {content: \":\\0020\"; padding-right: .5ex}\n",
       ".dl-inline>dt:not(:first-of-type) {padding-left: .5ex}\n",
       "</style><dl class=dl-inline><dt>task</dt><dd>1.70718587538916</dd><dt>input</dt><dd>5.4096679487939</dd><dt>output</dt><dd>6.50089336383062</dd></dl>\n"
      ],
      "text/latex": [
       "\\begin{description*}\n",
       "\\item[task] 1.70718587538916\n",
       "\\item[input] 5.4096679487939\n",
       "\\item[output] 6.50089336383062\n",
       "\\end{description*}\n"
      ],
      "text/markdown": [
       "task\n",
       ":   1.70718587538916input\n",
       ":   5.4096679487939output\n",
       ":   6.50089336383062\n",
       "\n"
      ],
      "text/plain": [
       "    task    input   output \n",
       "1.707186 5.409668 6.500893 "
      ]
     },
     "metadata": {},
     "output_type": "display_data"
    }
   ],
   "source": [
    "vif(linfwdood_gpt35_model)"
   ]
  },
  {
   "cell_type": "code",
   "execution_count": 250,
   "id": "0c0c49f4",
   "metadata": {},
   "outputs": [
    {
     "data": {
      "text/html": [
       "<style>\n",
       ".dl-inline {width: auto; margin:0; padding: 0}\n",
       ".dl-inline>dt, .dl-inline>dd {float: none; width: auto; display: inline-block}\n",
       ".dl-inline>dt::after {content: \":\\0020\"; padding-right: .5ex}\n",
       ".dl-inline>dt:not(:first-of-type) {padding-left: .5ex}\n",
       "</style><dl class=dl-inline><dt>task</dt><dd>1.20111274139248</dd><dt>input</dt><dd>7.66459637637134</dd><dt>output</dt><dd>7.44132585644076</dd></dl>\n"
      ],
      "text/latex": [
       "\\begin{description*}\n",
       "\\item[task] 1.20111274139248\n",
       "\\item[input] 7.66459637637134\n",
       "\\item[output] 7.44132585644076\n",
       "\\end{description*}\n"
      ],
      "text/markdown": [
       "task\n",
       ":   1.20111274139248input\n",
       ":   7.66459637637134output\n",
       ":   7.44132585644076\n",
       "\n"
      ],
      "text/plain": [
       "    task    input   output \n",
       "1.201113 7.664596 7.441326 "
      ]
     },
     "metadata": {},
     "output_type": "display_data"
    }
   ],
   "source": [
    "vif(linrevood_gpt4_model)"
   ]
  },
  {
   "cell_type": "code",
   "execution_count": 251,
   "id": "b9438eb4",
   "metadata": {},
   "outputs": [
    {
     "data": {
      "text/html": [
       "<style>\n",
       ".dl-inline {width: auto; margin:0; padding: 0}\n",
       ".dl-inline>dt, .dl-inline>dd {float: none; width: auto; display: inline-block}\n",
       ".dl-inline>dt::after {content: \":\\0020\"; padding-right: .5ex}\n",
       ".dl-inline>dt:not(:first-of-type) {padding-left: .5ex}\n",
       "</style><dl class=dl-inline><dt>task</dt><dd>1.1588721399235</dd><dt>input</dt><dd>9.46591543978637</dd><dt>output</dt><dd>9.36227315680735</dd></dl>\n"
      ],
      "text/latex": [
       "\\begin{description*}\n",
       "\\item[task] 1.1588721399235\n",
       "\\item[input] 9.46591543978637\n",
       "\\item[output] 9.36227315680735\n",
       "\\end{description*}\n"
      ],
      "text/markdown": [
       "task\n",
       ":   1.1588721399235input\n",
       ":   9.46591543978637output\n",
       ":   9.36227315680735\n",
       "\n"
      ],
      "text/plain": [
       "    task    input   output \n",
       "1.158872 9.465915 9.362273 "
      ]
     },
     "metadata": {},
     "output_type": "display_data"
    }
   ],
   "source": [
    "vif(linrevood_gpt35_model)"
   ]
  },
  {
   "cell_type": "code",
   "execution_count": null,
   "id": "f322c585",
   "metadata": {},
   "outputs": [],
   "source": []
  },
  {
   "cell_type": "markdown",
   "id": "c7137f9f",
   "metadata": {},
   "source": [
    "### Comparing methods: OOD"
   ]
  },
  {
   "cell_type": "code",
   "execution_count": 252,
   "id": "47c325f3",
   "metadata": {},
   "outputs": [],
   "source": [
    "linmethodood_gpt4_df <- read.table(file = 'table_conversion_ood_method_gpt-4-0613.tsv', sep = '\\t', header = TRUE)\n",
    "linmethodood_gpt35_df <- read.table(file = 'table_conversion_ood_method_gpt-3.5-turbo-0613.tsv', sep = '\\t', header = TRUE)\n"
   ]
  },
  {
   "cell_type": "code",
   "execution_count": 253,
   "id": "1e4ac4e5",
   "metadata": {},
   "outputs": [],
   "source": [
    "scaled_linmethodood_gpt4_df <- scale_lin_df(linmethodood_gpt4_df)\n",
    "scaled_linmethodood_gpt35_df <- scale_lin_df(linmethodood_gpt35_df)\n"
   ]
  },
  {
   "cell_type": "code",
   "execution_count": 254,
   "id": "501511c7",
   "metadata": {},
   "outputs": [],
   "source": [
    "contrasts(scaled_linmethodood_gpt4_df$task) <- contr.sum(3)\n",
    "contrasts(scaled_linmethodood_gpt35_df$task) <- contr.sum(3)"
   ]
  },
  {
   "cell_type": "code",
   "execution_count": 255,
   "id": "1a1400d6",
   "metadata": {},
   "outputs": [],
   "source": [
    "linmethodood_gpt4_model <- glmer(correct ~ task + (1|index), \n",
    "               data=scaled_linmethodood_gpt4_df, family=binomial, control=glmerControl(optimizer=\"bobyqa\",optCtrl=list(maxfun=2e5)))\n",
    "linmethodood_gpt35_model <- glmer(correct ~ task + (1|index), \n",
    "               data=scaled_linmethodood_gpt35_df , family=binomial, control=glmerControl(optimizer=\"bobyqa\",optCtrl=list(maxfun=2e5)))\n"
   ]
  },
  {
   "cell_type": "code",
   "execution_count": 256,
   "id": "130e3f3a",
   "metadata": {},
   "outputs": [],
   "source": [
    "linmethodood_gpt4_null_model <- glmer(correct ~ (1|index), \n",
    "               data=scaled_linmethodood_gpt4_df, family=binomial, control=glmerControl(optimizer=\"bobyqa\",optCtrl=list(maxfun=2e5)))\n",
    "linmethodood_gpt35_null_model <- glmer(correct ~ (1|index), \n",
    "               data=scaled_linmethodood_gpt35_df , family=binomial, control=glmerControl(optimizer=\"bobyqa\",optCtrl=list(maxfun=2e5)))\n"
   ]
  },
  {
   "cell_type": "code",
   "execution_count": 257,
   "id": "d0caa4d0",
   "metadata": {},
   "outputs": [
    {
     "data": {
      "text/plain": [
       "Generalized linear mixed model fit by maximum likelihood (Laplace\n",
       "  Approximation) [glmerMod]\n",
       " Family: binomial  ( logit )\n",
       "Formula: correct ~ task + (1 | index)\n",
       "   Data: scaled_linmethodood_gpt4_df\n",
       "Control: glmerControl(optimizer = \"bobyqa\", optCtrl = list(maxfun = 2e+05))\n",
       "\n",
       "     AIC      BIC   logLik deviance df.resid \n",
       "   293.2    308.0   -142.6    285.2      296 \n",
       "\n",
       "Scaled residuals: \n",
       "    Min      1Q  Median      3Q     Max \n",
       "-1.9160 -0.2553 -0.0708  0.1482  3.9168 \n",
       "\n",
       "Random effects:\n",
       " Groups Name        Variance Std.Dev.\n",
       " index  (Intercept) 14.51    3.809   \n",
       "Number of obs: 300, groups:  index, 100\n",
       "\n",
       "Fixed effects:\n",
       "            Estimate Std. Error z value Pr(>|z|)    \n",
       "(Intercept)  -1.7345     0.5903  -2.939   0.0033 ** \n",
       "task1        -3.5266     0.8475  -4.161 3.17e-05 ***\n",
       "task2         3.0222     0.7353   4.110 3.96e-05 ***\n",
       "---\n",
       "Signif. codes:  0 ‘***’ 0.001 ‘**’ 0.01 ‘*’ 0.05 ‘.’ 0.1 ‘ ’ 1\n",
       "\n",
       "Correlation of Fixed Effects:\n",
       "      (Intr) task1 \n",
       "task1  0.575       \n",
       "task2 -0.577 -0.927"
      ]
     },
     "metadata": {},
     "output_type": "display_data"
    }
   ],
   "source": [
    "summary(linmethodood_gpt4_model)"
   ]
  },
  {
   "cell_type": "code",
   "execution_count": 258,
   "id": "eea6edd1",
   "metadata": {},
   "outputs": [
    {
     "data": {
      "text/plain": [
       "Generalized linear mixed model fit by maximum likelihood (Laplace\n",
       "  Approximation) [glmerMod]\n",
       " Family: binomial  ( logit )\n",
       "Formula: correct ~ task + (1 | index)\n",
       "   Data: scaled_linmethodood_gpt35_df\n",
       "Control: glmerControl(optimizer = \"bobyqa\", optCtrl = list(maxfun = 2e+05))\n",
       "\n",
       "     AIC      BIC   logLik deviance df.resid \n",
       "   309.1    323.9   -150.5    301.1      296 \n",
       "\n",
       "Scaled residuals: \n",
       "    Min      1Q  Median      3Q     Max \n",
       "-6.9842 -0.4462 -0.0373  0.2255  2.1213 \n",
       "\n",
       "Random effects:\n",
       " Groups Name        Variance Std.Dev.\n",
       " index  (Intercept) 12.06    3.472   \n",
       "Number of obs: 300, groups:  index, 100\n",
       "\n",
       "Fixed effects:\n",
       "            Estimate Std. Error z value Pr(>|z|)    \n",
       "(Intercept)  -1.0616     0.4753  -2.233   0.0255 *  \n",
       "task1        -2.5275     0.5756  -4.391 1.13e-05 ***\n",
       "task2         2.8639     0.6580   4.352 1.35e-05 ***\n",
       "---\n",
       "Signif. codes:  0 ‘***’ 0.001 ‘**’ 0.01 ‘*’ 0.05 ‘.’ 0.1 ‘ ’ 1\n",
       "\n",
       "Correlation of Fixed Effects:\n",
       "      (Intr) task1 \n",
       "task1  0.431       \n",
       "task2 -0.447 -0.886"
      ]
     },
     "metadata": {},
     "output_type": "display_data"
    }
   ],
   "source": [
    "summary(linmethodood_gpt35_model)"
   ]
  },
  {
   "cell_type": "code",
   "execution_count": 259,
   "id": "c4763a28",
   "metadata": {},
   "outputs": [
    {
     "data": {
      "text/html": [
       "<table class=\"dataframe\">\n",
       "<caption>A anova: 2 × 8</caption>\n",
       "<thead>\n",
       "\t<tr><th></th><th scope=col>npar</th><th scope=col>AIC</th><th scope=col>BIC</th><th scope=col>logLik</th><th scope=col>deviance</th><th scope=col>Chisq</th><th scope=col>Df</th><th scope=col>Pr(&gt;Chisq)</th></tr>\n",
       "\t<tr><th></th><th scope=col>&lt;dbl&gt;</th><th scope=col>&lt;dbl&gt;</th><th scope=col>&lt;dbl&gt;</th><th scope=col>&lt;dbl&gt;</th><th scope=col>&lt;dbl&gt;</th><th scope=col>&lt;dbl&gt;</th><th scope=col>&lt;dbl&gt;</th><th scope=col>&lt;dbl&gt;</th></tr>\n",
       "</thead>\n",
       "<tbody>\n",
       "\t<tr><th scope=row>linmethodood_gpt4_null_model</th><td>2</td><td>387.6053</td><td>395.0128</td><td>-191.8026</td><td>383.6053</td><td>      NA</td><td>NA</td><td>          NA</td></tr>\n",
       "\t<tr><th scope=row>linmethodood_gpt4_model</th><td>4</td><td>293.2305</td><td>308.0456</td><td>-142.6152</td><td>285.2305</td><td>98.37479</td><td> 2</td><td>4.346951e-22</td></tr>\n",
       "</tbody>\n",
       "</table>\n"
      ],
      "text/latex": [
       "A anova: 2 × 8\n",
       "\\begin{tabular}{r|llllllll}\n",
       "  & npar & AIC & BIC & logLik & deviance & Chisq & Df & Pr(>Chisq)\\\\\n",
       "  & <dbl> & <dbl> & <dbl> & <dbl> & <dbl> & <dbl> & <dbl> & <dbl>\\\\\n",
       "\\hline\n",
       "\tlinmethodood\\_gpt4\\_null\\_model & 2 & 387.6053 & 395.0128 & -191.8026 & 383.6053 &       NA & NA &           NA\\\\\n",
       "\tlinmethodood\\_gpt4\\_model & 4 & 293.2305 & 308.0456 & -142.6152 & 285.2305 & 98.37479 &  2 & 4.346951e-22\\\\\n",
       "\\end{tabular}\n"
      ],
      "text/markdown": [
       "\n",
       "A anova: 2 × 8\n",
       "\n",
       "| <!--/--> | npar &lt;dbl&gt; | AIC &lt;dbl&gt; | BIC &lt;dbl&gt; | logLik &lt;dbl&gt; | deviance &lt;dbl&gt; | Chisq &lt;dbl&gt; | Df &lt;dbl&gt; | Pr(&gt;Chisq) &lt;dbl&gt; |\n",
       "|---|---|---|---|---|---|---|---|---|\n",
       "| linmethodood_gpt4_null_model | 2 | 387.6053 | 395.0128 | -191.8026 | 383.6053 |       NA | NA |           NA |\n",
       "| linmethodood_gpt4_model | 4 | 293.2305 | 308.0456 | -142.6152 | 285.2305 | 98.37479 |  2 | 4.346951e-22 |\n",
       "\n"
      ],
      "text/plain": [
       "                             npar AIC      BIC      logLik    deviance Chisq   \n",
       "linmethodood_gpt4_null_model 2    387.6053 395.0128 -191.8026 383.6053       NA\n",
       "linmethodood_gpt4_model      4    293.2305 308.0456 -142.6152 285.2305 98.37479\n",
       "                             Df Pr(>Chisq)  \n",
       "linmethodood_gpt4_null_model NA           NA\n",
       "linmethodood_gpt4_model       2 4.346951e-22"
      ]
     },
     "metadata": {},
     "output_type": "display_data"
    }
   ],
   "source": [
    "anova(linmethodood_gpt4_model,linmethodood_gpt4_null_model,test=\"Chisq\")"
   ]
  },
  {
   "cell_type": "code",
   "execution_count": 260,
   "id": "331b86a5",
   "metadata": {},
   "outputs": [
    {
     "data": {
      "text/html": [
       "<table class=\"dataframe\">\n",
       "<caption>A anova: 2 × 8</caption>\n",
       "<thead>\n",
       "\t<tr><th></th><th scope=col>npar</th><th scope=col>AIC</th><th scope=col>BIC</th><th scope=col>logLik</th><th scope=col>deviance</th><th scope=col>Chisq</th><th scope=col>Df</th><th scope=col>Pr(&gt;Chisq)</th></tr>\n",
       "\t<tr><th></th><th scope=col>&lt;dbl&gt;</th><th scope=col>&lt;dbl&gt;</th><th scope=col>&lt;dbl&gt;</th><th scope=col>&lt;dbl&gt;</th><th scope=col>&lt;dbl&gt;</th><th scope=col>&lt;dbl&gt;</th><th scope=col>&lt;dbl&gt;</th><th scope=col>&lt;dbl&gt;</th></tr>\n",
       "</thead>\n",
       "<tbody>\n",
       "\t<tr><th scope=row>linmethodood_gpt35_null_model</th><td>2</td><td>391.3457</td><td>398.7533</td><td>-193.6729</td><td>387.3457</td><td>      NA</td><td>NA</td><td>          NA</td></tr>\n",
       "\t<tr><th scope=row>linmethodood_gpt35_model</th><td>4</td><td>309.0817</td><td>323.8968</td><td>-150.5409</td><td>301.0817</td><td>86.26404</td><td> 2</td><td>1.853538e-19</td></tr>\n",
       "</tbody>\n",
       "</table>\n"
      ],
      "text/latex": [
       "A anova: 2 × 8\n",
       "\\begin{tabular}{r|llllllll}\n",
       "  & npar & AIC & BIC & logLik & deviance & Chisq & Df & Pr(>Chisq)\\\\\n",
       "  & <dbl> & <dbl> & <dbl> & <dbl> & <dbl> & <dbl> & <dbl> & <dbl>\\\\\n",
       "\\hline\n",
       "\tlinmethodood\\_gpt35\\_null\\_model & 2 & 391.3457 & 398.7533 & -193.6729 & 387.3457 &       NA & NA &           NA\\\\\n",
       "\tlinmethodood\\_gpt35\\_model & 4 & 309.0817 & 323.8968 & -150.5409 & 301.0817 & 86.26404 &  2 & 1.853538e-19\\\\\n",
       "\\end{tabular}\n"
      ],
      "text/markdown": [
       "\n",
       "A anova: 2 × 8\n",
       "\n",
       "| <!--/--> | npar &lt;dbl&gt; | AIC &lt;dbl&gt; | BIC &lt;dbl&gt; | logLik &lt;dbl&gt; | deviance &lt;dbl&gt; | Chisq &lt;dbl&gt; | Df &lt;dbl&gt; | Pr(&gt;Chisq) &lt;dbl&gt; |\n",
       "|---|---|---|---|---|---|---|---|---|\n",
       "| linmethodood_gpt35_null_model | 2 | 391.3457 | 398.7533 | -193.6729 | 387.3457 |       NA | NA |           NA |\n",
       "| linmethodood_gpt35_model | 4 | 309.0817 | 323.8968 | -150.5409 | 301.0817 | 86.26404 |  2 | 1.853538e-19 |\n",
       "\n"
      ],
      "text/plain": [
       "                              npar AIC      BIC      logLik    deviance\n",
       "linmethodood_gpt35_null_model 2    391.3457 398.7533 -193.6729 387.3457\n",
       "linmethodood_gpt35_model      4    309.0817 323.8968 -150.5409 301.0817\n",
       "                              Chisq    Df Pr(>Chisq)  \n",
       "linmethodood_gpt35_null_model       NA NA           NA\n",
       "linmethodood_gpt35_model      86.26404  2 1.853538e-19"
      ]
     },
     "metadata": {},
     "output_type": "display_data"
    }
   ],
   "source": [
    "anova(linmethodood_gpt35_model,linmethodood_gpt35_null_model,test=\"Chisq\")"
   ]
  },
  {
   "cell_type": "code",
   "execution_count": 261,
   "id": "e4d8c242",
   "metadata": {},
   "outputs": [],
   "source": [
    "gpt4_linood_multcomp <- glht(linmethodood_gpt4_model, linfct=mcp(task=\"Tukey\"))"
   ]
  },
  {
   "cell_type": "code",
   "execution_count": 262,
   "id": "f19c6d1f",
   "metadata": {},
   "outputs": [],
   "source": [
    "gpt35_linood_multcomp <- glht(linmethodood_gpt35_model, linfct=mcp(task=\"Tukey\"))"
   ]
  },
  {
   "cell_type": "code",
   "execution_count": 263,
   "id": "71b8ff13",
   "metadata": {},
   "outputs": [
    {
     "data": {
      "text/plain": [
       "\n",
       "\t Simultaneous Tests for General Linear Hypotheses\n",
       "\n",
       "Multiple Comparisons of Means: Tukey Contrasts\n",
       "\n",
       "\n",
       "Fit: glmer(formula = correct ~ task + (1 | index), data = scaled_linmethodood_gpt4_df, \n",
       "    family = binomial, control = glmerControl(optimizer = \"bobyqa\", \n",
       "        optCtrl = list(maxfun = 2e+05)))\n",
       "\n",
       "Linear Hypotheses:\n",
       "                                                                      Estimate\n",
       "conversion_ood_actualprimed - conversion_ood_actual == 0                6.5488\n",
       "conversion_ood_actualprimedcontrol - conversion_ood_actual == 0         4.0310\n",
       "conversion_ood_actualprimedcontrol - conversion_ood_actualprimed == 0  -2.5178\n",
       "                                                                      Std. Error\n",
       "conversion_ood_actualprimed - conversion_ood_actual == 0                  1.5538\n",
       "conversion_ood_actualprimedcontrol - conversion_ood_actual == 0           1.0505\n",
       "conversion_ood_actualprimedcontrol - conversion_ood_actualprimed == 0     0.7555\n",
       "                                                                      z value\n",
       "conversion_ood_actualprimed - conversion_ood_actual == 0                4.215\n",
       "conversion_ood_actualprimedcontrol - conversion_ood_actual == 0         3.837\n",
       "conversion_ood_actualprimedcontrol - conversion_ood_actualprimed == 0  -3.332\n",
       "                                                                      Pr(>|z|)\n",
       "conversion_ood_actualprimed - conversion_ood_actual == 0               < 0.001\n",
       "conversion_ood_actualprimedcontrol - conversion_ood_actual == 0        < 0.001\n",
       "conversion_ood_actualprimedcontrol - conversion_ood_actualprimed == 0  0.00194\n",
       "                                                                         \n",
       "conversion_ood_actualprimed - conversion_ood_actual == 0              ***\n",
       "conversion_ood_actualprimedcontrol - conversion_ood_actual == 0       ***\n",
       "conversion_ood_actualprimedcontrol - conversion_ood_actualprimed == 0 ** \n",
       "---\n",
       "Signif. codes:  0 ‘***’ 0.001 ‘**’ 0.01 ‘*’ 0.05 ‘.’ 0.1 ‘ ’ 1\n",
       "(Adjusted p values reported -- single-step method)\n"
      ]
     },
     "metadata": {},
     "output_type": "display_data"
    }
   ],
   "source": [
    "summary(gpt4_linood_multcomp)"
   ]
  },
  {
   "cell_type": "code",
   "execution_count": 264,
   "id": "c08cb75b",
   "metadata": {},
   "outputs": [
    {
     "data": {
      "text/plain": [
       "\n",
       "\t Simultaneous Tests for General Linear Hypotheses\n",
       "\n",
       "Multiple Comparisons of Means: Tukey Contrasts\n",
       "\n",
       "\n",
       "Fit: glmer(formula = correct ~ task + (1 | index), data = scaled_linmethodood_gpt35_df, \n",
       "    family = binomial, control = glmerControl(optimizer = \"bobyqa\", \n",
       "        optCtrl = list(maxfun = 2e+05)))\n",
       "\n",
       "Linear Hypotheses:\n",
       "                                                                      Estimate\n",
       "conversion_ood_actualprimed - conversion_ood_actual == 0                5.3914\n",
       "conversion_ood_actualprimedcontrol - conversion_ood_actual == 0         2.1912\n",
       "conversion_ood_actualprimedcontrol - conversion_ood_actualprimed == 0  -3.2002\n",
       "                                                                      Std. Error\n",
       "conversion_ood_actualprimed - conversion_ood_actual == 0                  1.1982\n",
       "conversion_ood_actualprimedcontrol - conversion_ood_actual == 0           0.6444\n",
       "conversion_ood_actualprimedcontrol - conversion_ood_actualprimed == 0     0.8488\n",
       "                                                                      z value\n",
       "conversion_ood_actualprimed - conversion_ood_actual == 0                 4.50\n",
       "conversion_ood_actualprimedcontrol - conversion_ood_actual == 0          3.40\n",
       "conversion_ood_actualprimedcontrol - conversion_ood_actualprimed == 0   -3.77\n",
       "                                                                      Pr(>|z|)\n",
       "conversion_ood_actualprimed - conversion_ood_actual == 0               < 0.001\n",
       "conversion_ood_actualprimedcontrol - conversion_ood_actual == 0        0.00152\n",
       "conversion_ood_actualprimedcontrol - conversion_ood_actualprimed == 0  < 0.001\n",
       "                                                                         \n",
       "conversion_ood_actualprimed - conversion_ood_actual == 0              ***\n",
       "conversion_ood_actualprimedcontrol - conversion_ood_actual == 0       ** \n",
       "conversion_ood_actualprimedcontrol - conversion_ood_actualprimed == 0 ***\n",
       "---\n",
       "Signif. codes:  0 ‘***’ 0.001 ‘**’ 0.01 ‘*’ 0.05 ‘.’ 0.1 ‘ ’ 1\n",
       "(Adjusted p values reported -- single-step method)\n"
      ]
     },
     "metadata": {},
     "output_type": "display_data"
    }
   ],
   "source": [
    "summary(gpt35_linood_multcomp)"
   ]
  },
  {
   "cell_type": "code",
   "execution_count": null,
   "id": "142890ff",
   "metadata": {},
   "outputs": [],
   "source": []
  },
  {
   "cell_type": "code",
   "execution_count": null,
   "id": "13035879",
   "metadata": {},
   "outputs": [],
   "source": []
  },
  {
   "cell_type": "markdown",
   "id": "f629dc62",
   "metadata": {},
   "source": [
    "# Counting"
   ]
  },
  {
   "cell_type": "code",
   "execution_count": 167,
   "id": "006a5a85",
   "metadata": {},
   "outputs": [],
   "source": [
    "# Read in data\n",
    "countwords_gpt4_df <- read.table(file = 'table_counting_words_gpt-4-0613.tsv', sep = '\\t', header = TRUE)\n",
    "countwords_gpt35_df <- read.table(file = 'table_counting_words_gpt-3.5-turbo-0613.tsv', sep = '\\t', header = TRUE)\n",
    "\n",
    "countchars_gpt4_df <- read.table(file = 'table_counting_chars_gpt-4-0613.tsv', sep = '\\t', header = TRUE)\n",
    "countchars_gpt35_df <- read.table(file = 'table_counting_chars_gpt-3.5-turbo-0613.tsv', sep = '\\t', header = TRUE)\n"
   ]
  },
  {
   "cell_type": "code",
   "execution_count": 168,
   "id": "f3a5a9d9",
   "metadata": {},
   "outputs": [],
   "source": [
    "# Z-score data\n",
    "scaled_countwords_gpt4_df <- scale_df_with_index(countwords_gpt4_df)\n",
    "scaled_countwords_gpt35_df <- scale_df_with_index(countwords_gpt35_df)\n",
    "\n",
    "scaled_countchars_gpt4_df <- scale_df_with_index(countchars_gpt4_df)\n",
    "scaled_countchars_gpt35_df <- scale_df_with_index(countchars_gpt35_df)"
   ]
  },
  {
   "cell_type": "code",
   "execution_count": 169,
   "id": "04ebfdd8",
   "metadata": {},
   "outputs": [
    {
     "data": {
      "text/html": [
       "<table class=\"dataframe\">\n",
       "<caption>A data.frame: 6 × 8</caption>\n",
       "<thead>\n",
       "\t<tr><th></th><th scope=col>index</th><th scope=col>input_nchars</th><th scope=col>input_ntokens</th><th scope=col>input_logprob</th><th scope=col>output_nchars</th><th scope=col>output_ntokens</th><th scope=col>output_logprob</th><th scope=col>correct</th></tr>\n",
       "\t<tr><th></th><th scope=col>&lt;dbl&gt;</th><th scope=col>&lt;dbl&gt;</th><th scope=col>&lt;dbl&gt;</th><th scope=col>&lt;dbl&gt;</th><th scope=col>&lt;dbl&gt;</th><th scope=col>&lt;dbl&gt;</th><th scope=col>&lt;dbl&gt;</th><th scope=col>&lt;int&gt;</th></tr>\n",
       "</thead>\n",
       "<tbody>\n",
       "\t<tr><th scope=row>1</th><td>-1.71453</td><td>-1.741827</td><td>-1.739786</td><td>-4.4424536</td><td>-3.006613</td><td>NaN</td><td>2.316207</td><td>1</td></tr>\n",
       "\t<tr><th scope=row>2</th><td>-1.71453</td><td>-1.738059</td><td>-1.771344</td><td> 8.7549067</td><td>-3.006613</td><td>NaN</td><td>2.316207</td><td>1</td></tr>\n",
       "\t<tr><th scope=row>3</th><td>-1.71453</td><td>-1.726757</td><td>-1.755565</td><td>-1.9608672</td><td>-3.006613</td><td>NaN</td><td>2.316207</td><td>1</td></tr>\n",
       "\t<tr><th scope=row>4</th><td>-1.71453</td><td>-1.738059</td><td>-1.739786</td><td>-4.6237970</td><td>-3.006613</td><td>NaN</td><td>2.316207</td><td>1</td></tr>\n",
       "\t<tr><th scope=row>5</th><td>-1.71453</td><td>-1.726757</td><td>-1.739786</td><td>-3.5102910</td><td>-3.006613</td><td>NaN</td><td>2.316207</td><td>1</td></tr>\n",
       "\t<tr><th scope=row>6</th><td>-1.71453</td><td>-1.726757</td><td>-1.739786</td><td>-0.5541231</td><td>-3.006613</td><td>NaN</td><td>2.316207</td><td>1</td></tr>\n",
       "</tbody>\n",
       "</table>\n"
      ],
      "text/latex": [
       "A data.frame: 6 × 8\n",
       "\\begin{tabular}{r|llllllll}\n",
       "  & index & input\\_nchars & input\\_ntokens & input\\_logprob & output\\_nchars & output\\_ntokens & output\\_logprob & correct\\\\\n",
       "  & <dbl> & <dbl> & <dbl> & <dbl> & <dbl> & <dbl> & <dbl> & <int>\\\\\n",
       "\\hline\n",
       "\t1 & -1.71453 & -1.741827 & -1.739786 & -4.4424536 & -3.006613 & NaN & 2.316207 & 1\\\\\n",
       "\t2 & -1.71453 & -1.738059 & -1.771344 &  8.7549067 & -3.006613 & NaN & 2.316207 & 1\\\\\n",
       "\t3 & -1.71453 & -1.726757 & -1.755565 & -1.9608672 & -3.006613 & NaN & 2.316207 & 1\\\\\n",
       "\t4 & -1.71453 & -1.738059 & -1.739786 & -4.6237970 & -3.006613 & NaN & 2.316207 & 1\\\\\n",
       "\t5 & -1.71453 & -1.726757 & -1.739786 & -3.5102910 & -3.006613 & NaN & 2.316207 & 1\\\\\n",
       "\t6 & -1.71453 & -1.726757 & -1.739786 & -0.5541231 & -3.006613 & NaN & 2.316207 & 1\\\\\n",
       "\\end{tabular}\n"
      ],
      "text/markdown": [
       "\n",
       "A data.frame: 6 × 8\n",
       "\n",
       "| <!--/--> | index &lt;dbl&gt; | input_nchars &lt;dbl&gt; | input_ntokens &lt;dbl&gt; | input_logprob &lt;dbl&gt; | output_nchars &lt;dbl&gt; | output_ntokens &lt;dbl&gt; | output_logprob &lt;dbl&gt; | correct &lt;int&gt; |\n",
       "|---|---|---|---|---|---|---|---|---|\n",
       "| 1 | -1.71453 | -1.741827 | -1.739786 | -4.4424536 | -3.006613 | NaN | 2.316207 | 1 |\n",
       "| 2 | -1.71453 | -1.738059 | -1.771344 |  8.7549067 | -3.006613 | NaN | 2.316207 | 1 |\n",
       "| 3 | -1.71453 | -1.726757 | -1.755565 | -1.9608672 | -3.006613 | NaN | 2.316207 | 1 |\n",
       "| 4 | -1.71453 | -1.738059 | -1.739786 | -4.6237970 | -3.006613 | NaN | 2.316207 | 1 |\n",
       "| 5 | -1.71453 | -1.726757 | -1.739786 | -3.5102910 | -3.006613 | NaN | 2.316207 | 1 |\n",
       "| 6 | -1.71453 | -1.726757 | -1.739786 | -0.5541231 | -3.006613 | NaN | 2.316207 | 1 |\n",
       "\n"
      ],
      "text/plain": [
       "  index    input_nchars input_ntokens input_logprob output_nchars\n",
       "1 -1.71453 -1.741827    -1.739786     -4.4424536    -3.006613    \n",
       "2 -1.71453 -1.738059    -1.771344      8.7549067    -3.006613    \n",
       "3 -1.71453 -1.726757    -1.755565     -1.9608672    -3.006613    \n",
       "4 -1.71453 -1.738059    -1.739786     -4.6237970    -3.006613    \n",
       "5 -1.71453 -1.726757    -1.739786     -3.5102910    -3.006613    \n",
       "6 -1.71453 -1.726757    -1.739786     -0.5541231    -3.006613    \n",
       "  output_ntokens output_logprob correct\n",
       "1 NaN            2.316207       1      \n",
       "2 NaN            2.316207       1      \n",
       "3 NaN            2.316207       1      \n",
       "4 NaN            2.316207       1      \n",
       "5 NaN            2.316207       1      \n",
       "6 NaN            2.316207       1      "
      ]
     },
     "metadata": {},
     "output_type": "display_data"
    }
   ],
   "source": [
    "head(scaled_countwords_gpt4_df)"
   ]
  },
  {
   "cell_type": "code",
   "execution_count": 170,
   "id": "496a55df",
   "metadata": {},
   "outputs": [],
   "source": [
    "countwords_gpt4_model <- glm(correct ~ index + input_logprob + output_logprob, \n",
    "                   data=scaled_countwords_gpt4_df, family=binomial)\n",
    "countwords_gpt35_model <- glm(correct ~ index + input_logprob + output_logprob, \n",
    "                   data=scaled_countwords_gpt35_df, family=binomial)\n",
    "\n",
    "\n",
    "countchars_gpt4_model <- glm(correct ~ index + input_logprob + output_logprob, \n",
    "                   data=scaled_countchars_gpt4_df, family=binomial)\n",
    "countchars_gpt35_model <- glm(correct ~ index + input_logprob + output_logprob, \n",
    "                   data=scaled_countchars_gpt35_df, family=binomial)\n"
   ]
  },
  {
   "cell_type": "code",
   "execution_count": 171,
   "id": "928881af",
   "metadata": {},
   "outputs": [
    {
     "data": {
      "text/plain": [
       "\n",
       "Call:\n",
       "glm(formula = correct ~ index + input_logprob + output_logprob, \n",
       "    family = binomial, data = scaled_countwords_gpt4_df)\n",
       "\n",
       "Deviance Residuals: \n",
       "     Min        1Q    Median        3Q       Max  \n",
       "-2.57541  -0.16382  -0.04986  -0.02723   2.91722  \n",
       "\n",
       "Coefficients:\n",
       "               Estimate Std. Error z value Pr(>|z|)    \n",
       "(Intercept)    -3.35701    0.15836 -21.199   <2e-16 ***\n",
       "index          -0.19417    0.10797  -1.798   0.0721 .  \n",
       "input_logprob  -0.10037    0.08225  -1.220   0.2224    \n",
       "output_logprob  3.59077    0.17453  20.574   <2e-16 ***\n",
       "---\n",
       "Signif. codes:  0 ‘***’ 0.001 ‘**’ 0.01 ‘*’ 0.05 ‘.’ 0.1 ‘ ’ 1\n",
       "\n",
       "(Dispersion parameter for binomial family taken to be 1)\n",
       "\n",
       "    Null deviance: 3264.4  on 2999  degrees of freedom\n",
       "Residual deviance: 1137.6  on 2996  degrees of freedom\n",
       "AIC: 1145.6\n",
       "\n",
       "Number of Fisher Scoring iterations: 7\n"
      ]
     },
     "metadata": {},
     "output_type": "display_data"
    }
   ],
   "source": [
    "summary(countwords_gpt4_model)"
   ]
  },
  {
   "cell_type": "code",
   "execution_count": 172,
   "id": "5145f396",
   "metadata": {},
   "outputs": [
    {
     "data": {
      "text/plain": [
       "\n",
       "Call:\n",
       "glm(formula = correct ~ index + input_logprob + output_logprob, \n",
       "    family = binomial, data = scaled_countwords_gpt35_df)\n",
       "\n",
       "Deviance Residuals: \n",
       "    Min       1Q   Median       3Q      Max  \n",
       "-2.0485  -0.2589  -0.0675  -0.0346   3.4371  \n",
       "\n",
       "Coefficients:\n",
       "               Estimate Std. Error z value Pr(>|z|)    \n",
       "(Intercept)    -4.31424    0.19524 -22.098   <2e-16 ***\n",
       "index           0.06015    0.10323   0.583    0.560    \n",
       "input_logprob  -0.01359    0.05816  -0.234    0.815    \n",
       "output_logprob  2.95668    0.15685  18.851   <2e-16 ***\n",
       "---\n",
       "Signif. codes:  0 ‘***’ 0.001 ‘**’ 0.01 ‘*’ 0.05 ‘.’ 0.1 ‘ ’ 1\n",
       "\n",
       "(Dispersion parameter for binomial family taken to be 1)\n",
       "\n",
       "    Null deviance: 2283.9  on 2999  degrees of freedom\n",
       "Residual deviance: 1074.0  on 2996  degrees of freedom\n",
       "AIC: 1082\n",
       "\n",
       "Number of Fisher Scoring iterations: 7\n"
      ]
     },
     "metadata": {},
     "output_type": "display_data"
    }
   ],
   "source": [
    "summary(countwords_gpt35_model)"
   ]
  },
  {
   "cell_type": "code",
   "execution_count": 173,
   "id": "b62fa8cc",
   "metadata": {},
   "outputs": [
    {
     "data": {
      "text/plain": [
       "\n",
       "Call:\n",
       "glm(formula = correct ~ index + input_logprob + output_logprob, \n",
       "    family = binomial, data = scaled_countchars_gpt4_df)\n",
       "\n",
       "Deviance Residuals: \n",
       "     Min        1Q    Median        3Q       Max  \n",
       "-2.46780  -0.15937  -0.03976   0.07145   3.08559  \n",
       "\n",
       "Coefficients:\n",
       "               Estimate Std. Error z value Pr(>|z|)    \n",
       "(Intercept)    -3.08292    0.15416 -19.998  < 2e-16 ***\n",
       "index          -0.82241    0.10574  -7.778  7.4e-15 ***\n",
       "input_logprob  -0.05048    0.07837  -0.644     0.52    \n",
       "output_logprob  3.55316    0.17447  20.365  < 2e-16 ***\n",
       "---\n",
       "Signif. codes:  0 ‘***’ 0.001 ‘**’ 0.01 ‘*’ 0.05 ‘.’ 0.1 ‘ ’ 1\n",
       "\n",
       "(Dispersion parameter for binomial family taken to be 1)\n",
       "\n",
       "    Null deviance: 3505.5  on 2999  degrees of freedom\n",
       "Residual deviance: 1070.3  on 2996  degrees of freedom\n",
       "AIC: 1078.3\n",
       "\n",
       "Number of Fisher Scoring iterations: 7\n"
      ]
     },
     "metadata": {},
     "output_type": "display_data"
    }
   ],
   "source": [
    "summary(countchars_gpt4_model)"
   ]
  },
  {
   "cell_type": "code",
   "execution_count": 174,
   "id": "a4e9bd1b",
   "metadata": {},
   "outputs": [
    {
     "data": {
      "text/plain": [
       "\n",
       "Call:\n",
       "glm(formula = correct ~ index + input_logprob + output_logprob, \n",
       "    family = binomial, data = scaled_countchars_gpt35_df)\n",
       "\n",
       "Deviance Residuals: \n",
       "    Min       1Q   Median       3Q      Max  \n",
       "-2.0301  -0.5265  -0.2664   0.4923   2.3786  \n",
       "\n",
       "Coefficients:\n",
       "               Estimate Std. Error z value Pr(>|z|)    \n",
       "(Intercept)    -1.08394    0.05786 -18.733   <2e-16 ***\n",
       "index          -0.71066    0.07709  -9.218   <2e-16 ***\n",
       "input_logprob  -0.06039    0.05344  -1.130    0.258    \n",
       "output_logprob  1.44736    0.08107  17.852   <2e-16 ***\n",
       "---\n",
       "Signif. codes:  0 ‘***’ 0.001 ‘**’ 0.01 ‘*’ 0.05 ‘.’ 0.1 ‘ ’ 1\n",
       "\n",
       "(Dispersion parameter for binomial family taken to be 1)\n",
       "\n",
       "    Null deviance: 3836.9  on 2999  degrees of freedom\n",
       "Residual deviance: 2254.9  on 2996  degrees of freedom\n",
       "AIC: 2262.9\n",
       "\n",
       "Number of Fisher Scoring iterations: 5\n"
      ]
     },
     "metadata": {},
     "output_type": "display_data"
    }
   ],
   "source": [
    "summary(countchars_gpt35_model)"
   ]
  },
  {
   "cell_type": "code",
   "execution_count": 175,
   "id": "1de91ce4",
   "metadata": {},
   "outputs": [
    {
     "data": {
      "text/html": [
       "<style>\n",
       ".dl-inline {width: auto; margin:0; padding: 0}\n",
       ".dl-inline>dt, .dl-inline>dd {float: none; width: auto; display: inline-block}\n",
       ".dl-inline>dt::after {content: \":\\0020\"; padding-right: .5ex}\n",
       ".dl-inline>dt:not(:first-of-type) {padding-left: .5ex}\n",
       "</style><dl class=dl-inline><dt>index</dt><dd>1.1626832251739</dd><dt>input_logprob</dt><dd>1.04076217510398</dd><dt>output_logprob</dt><dd>1.1197674605424</dd></dl>\n"
      ],
      "text/latex": [
       "\\begin{description*}\n",
       "\\item[index] 1.1626832251739\n",
       "\\item[input\\textbackslash{}\\_logprob] 1.04076217510398\n",
       "\\item[output\\textbackslash{}\\_logprob] 1.1197674605424\n",
       "\\end{description*}\n"
      ],
      "text/markdown": [
       "index\n",
       ":   1.1626832251739input_logprob\n",
       ":   1.04076217510398output_logprob\n",
       ":   1.1197674605424\n",
       "\n"
      ],
      "text/plain": [
       "         index  input_logprob output_logprob \n",
       "      1.162683       1.040762       1.119767 "
      ]
     },
     "metadata": {},
     "output_type": "display_data"
    }
   ],
   "source": [
    "vif(countwords_gpt4_model)"
   ]
  },
  {
   "cell_type": "code",
   "execution_count": 176,
   "id": "fcca54d7",
   "metadata": {},
   "outputs": [
    {
     "data": {
      "text/html": [
       "<style>\n",
       ".dl-inline {width: auto; margin:0; padding: 0}\n",
       ".dl-inline>dt, .dl-inline>dd {float: none; width: auto; display: inline-block}\n",
       ".dl-inline>dt::after {content: \":\\0020\"; padding-right: .5ex}\n",
       ".dl-inline>dt:not(:first-of-type) {padding-left: .5ex}\n",
       "</style><dl class=dl-inline><dt>index</dt><dd>1.2118633267596</dd><dt>input_logprob</dt><dd>1.03259078904891</dd><dt>output_logprob</dt><dd>1.17733923946407</dd></dl>\n"
      ],
      "text/latex": [
       "\\begin{description*}\n",
       "\\item[index] 1.2118633267596\n",
       "\\item[input\\textbackslash{}\\_logprob] 1.03259078904891\n",
       "\\item[output\\textbackslash{}\\_logprob] 1.17733923946407\n",
       "\\end{description*}\n"
      ],
      "text/markdown": [
       "index\n",
       ":   1.2118633267596input_logprob\n",
       ":   1.03259078904891output_logprob\n",
       ":   1.17733923946407\n",
       "\n"
      ],
      "text/plain": [
       "         index  input_logprob output_logprob \n",
       "      1.211863       1.032591       1.177339 "
      ]
     },
     "metadata": {},
     "output_type": "display_data"
    }
   ],
   "source": [
    "vif(countwords_gpt35_model)"
   ]
  },
  {
   "cell_type": "code",
   "execution_count": 177,
   "id": "ea045d79",
   "metadata": {},
   "outputs": [
    {
     "data": {
      "text/html": [
       "<style>\n",
       ".dl-inline {width: auto; margin:0; padding: 0}\n",
       ".dl-inline>dt, .dl-inline>dd {float: none; width: auto; display: inline-block}\n",
       ".dl-inline>dt::after {content: \":\\0020\"; padding-right: .5ex}\n",
       ".dl-inline>dt:not(:first-of-type) {padding-left: .5ex}\n",
       "</style><dl class=dl-inline><dt>index</dt><dd>1.0177125969298</dd><dt>input_logprob</dt><dd>1.01070314859852</dd><dt>output_logprob</dt><dd>1.01111513276155</dd></dl>\n"
      ],
      "text/latex": [
       "\\begin{description*}\n",
       "\\item[index] 1.0177125969298\n",
       "\\item[input\\textbackslash{}\\_logprob] 1.01070314859852\n",
       "\\item[output\\textbackslash{}\\_logprob] 1.01111513276155\n",
       "\\end{description*}\n"
      ],
      "text/markdown": [
       "index\n",
       ":   1.0177125969298input_logprob\n",
       ":   1.01070314859852output_logprob\n",
       ":   1.01111513276155\n",
       "\n"
      ],
      "text/plain": [
       "         index  input_logprob output_logprob \n",
       "      1.017713       1.010703       1.011115 "
      ]
     },
     "metadata": {},
     "output_type": "display_data"
    }
   ],
   "source": [
    "vif(countchars_gpt4_model)"
   ]
  },
  {
   "cell_type": "code",
   "execution_count": 178,
   "id": "fdfd74ba",
   "metadata": {},
   "outputs": [
    {
     "data": {
      "text/html": [
       "<style>\n",
       ".dl-inline {width: auto; margin:0; padding: 0}\n",
       ".dl-inline>dt, .dl-inline>dd {float: none; width: auto; display: inline-block}\n",
       ".dl-inline>dt::after {content: \":\\0020\"; padding-right: .5ex}\n",
       ".dl-inline>dt:not(:first-of-type) {padding-left: .5ex}\n",
       "</style><dl class=dl-inline><dt>index</dt><dd>1.44707361691555</dd><dt>input_logprob</dt><dd>1.00532720138781</dd><dt>output_logprob</dt><dd>1.44165013104633</dd></dl>\n"
      ],
      "text/latex": [
       "\\begin{description*}\n",
       "\\item[index] 1.44707361691555\n",
       "\\item[input\\textbackslash{}\\_logprob] 1.00532720138781\n",
       "\\item[output\\textbackslash{}\\_logprob] 1.44165013104633\n",
       "\\end{description*}\n"
      ],
      "text/markdown": [
       "index\n",
       ":   1.44707361691555input_logprob\n",
       ":   1.00532720138781output_logprob\n",
       ":   1.44165013104633\n",
       "\n"
      ],
      "text/plain": [
       "         index  input_logprob output_logprob \n",
       "      1.447074       1.005327       1.441650 "
      ]
     },
     "metadata": {},
     "output_type": "display_data"
    }
   ],
   "source": [
    "vif(countchars_gpt35_model)"
   ]
  },
  {
   "cell_type": "code",
   "execution_count": null,
   "id": "839174da",
   "metadata": {},
   "outputs": [],
   "source": []
  },
  {
   "cell_type": "markdown",
   "id": "dc04d088",
   "metadata": {},
   "source": [
    "### Varying input"
   ]
  },
  {
   "cell_type": "code",
   "execution_count": 190,
   "id": "e53b8e10",
   "metadata": {},
   "outputs": [],
   "source": [
    "# Read in data\n",
    "countwords_both_gpt4_df <- read.table(file = 'table_counting_words_both_gpt-4-0613.tsv', sep = '\\t', header = TRUE)\n",
    "countwords_both_gpt35_df <- read.table(file = 'table_counting_words_both_gpt-3.5-turbo-0613.tsv', sep = '\\t', header = TRUE)\n",
    "\n",
    "countchars_both_gpt4_df <- read.table(file = 'table_counting_chars_both_gpt-4-0613.tsv', sep = '\\t', header = TRUE)\n",
    "countchars_both_gpt35_df <- read.table(file = 'table_counting_chars_both_gpt-3.5-turbo-0613.tsv', sep = '\\t', header = TRUE)\n"
   ]
  },
  {
   "cell_type": "code",
   "execution_count": 191,
   "id": "9da800b7",
   "metadata": {},
   "outputs": [],
   "source": [
    "# Z-score data\n",
    "scaled_countwords_both_gpt4_df <- scale_df_with_index(countwords_both_gpt4_df)\n",
    "scaled_countwords_both_gpt35_df <- scale_df_with_index(countwords_both_gpt35_df)\n",
    "\n",
    "scaled_countchars_both_gpt4_df <- scale_df_with_index(countchars_both_gpt4_df)\n",
    "scaled_countchars_both_gpt35_df <- scale_df_with_index(countchars_both_gpt35_df)"
   ]
  },
  {
   "cell_type": "code",
   "execution_count": 192,
   "id": "6c067bce",
   "metadata": {},
   "outputs": [],
   "source": [
    "countwords_both_gpt4_model <- glm(correct ~ index + input_logprob + output_logprob, \n",
    "                   data=scaled_countwords_both_gpt4_df, family=binomial)\n",
    "countwords_both_gpt35_model <- glm(correct ~ index + input_logprob + output_logprob, \n",
    "                   data=scaled_countwords_both_gpt35_df, family=binomial)\n",
    "\n",
    "countchars_both_gpt4_model <- glm(correct ~ index + input_logprob + output_logprob + input_ntokens, \n",
    "                   data=scaled_countchars_both_gpt4_df, family=binomial)\n",
    "countchars_both_gpt35_model <- glm(correct ~ index + input_logprob + output_logprob + input_ntokens, \n",
    "                   data=scaled_countchars_both_gpt35_df, family=binomial)"
   ]
  },
  {
   "cell_type": "code",
   "execution_count": 193,
   "id": "c86562ea",
   "metadata": {},
   "outputs": [
    {
     "data": {
      "text/plain": [
       "\n",
       "Call:\n",
       "glm(formula = correct ~ index + input_logprob + output_logprob, \n",
       "    family = binomial, data = scaled_countwords_both_gpt4_df)\n",
       "\n",
       "Deviance Residuals: \n",
       "     Min        1Q    Median        3Q       Max  \n",
       "-2.85516  -0.14205  -0.04240  -0.02356   3.10665  \n",
       "\n",
       "Coefficients:\n",
       "                Estimate Std. Error z value Pr(>|z|)    \n",
       "(Intercept)    -3.597483   0.121388 -29.636   <2e-16 ***\n",
       "index           0.006453   0.079863   0.081   0.9356    \n",
       "input_logprob   0.117880   0.054903   2.147   0.0318 *  \n",
       "output_logprob  3.927246   0.138109  28.436   <2e-16 ***\n",
       "---\n",
       "Signif. codes:  0 ‘***’ 0.001 ‘**’ 0.01 ‘*’ 0.05 ‘.’ 0.1 ‘ ’ 1\n",
       "\n",
       "(Dispersion parameter for binomial family taken to be 1)\n",
       "\n",
       "    Null deviance: 6427.5  on 5999  degrees of freedom\n",
       "Residual deviance: 2162.5  on 5996  degrees of freedom\n",
       "AIC: 2170.5\n",
       "\n",
       "Number of Fisher Scoring iterations: 7\n"
      ]
     },
     "metadata": {},
     "output_type": "display_data"
    }
   ],
   "source": [
    "summary(countwords_both_gpt4_model)"
   ]
  },
  {
   "cell_type": "code",
   "execution_count": 194,
   "id": "17e99a05",
   "metadata": {},
   "outputs": [
    {
     "data": {
      "text/plain": [
       "\n",
       "Call:\n",
       "glm(formula = correct ~ index + input_logprob + output_logprob, \n",
       "    family = binomial, data = scaled_countwords_both_gpt35_df)\n",
       "\n",
       "Deviance Residuals: \n",
       "    Min       1Q   Median       3Q      Max  \n",
       "-1.8573  -0.3448  -0.1093  -0.0759   3.2168  \n",
       "\n",
       "Coefficients:\n",
       "               Estimate Std. Error z value Pr(>|z|)    \n",
       "(Intercept)    -3.47416    0.09882 -35.157  < 2e-16 ***\n",
       "index           0.43608    0.07043   6.192 5.95e-10 ***\n",
       "input_logprob  -0.11203    0.05037  -2.224   0.0261 *  \n",
       "output_logprob  2.63160    0.09325  28.222  < 2e-16 ***\n",
       "---\n",
       "Signif. codes:  0 ‘***’ 0.001 ‘**’ 0.01 ‘*’ 0.05 ‘.’ 0.1 ‘ ’ 1\n",
       "\n",
       "(Dispersion parameter for binomial family taken to be 1)\n",
       "\n",
       "    Null deviance: 4749.4  on 5999  degrees of freedom\n",
       "Residual deviance: 2581.4  on 5996  degrees of freedom\n",
       "AIC: 2589.4\n",
       "\n",
       "Number of Fisher Scoring iterations: 7\n"
      ]
     },
     "metadata": {},
     "output_type": "display_data"
    }
   ],
   "source": [
    "summary(countwords_both_gpt35_model)"
   ]
  },
  {
   "cell_type": "code",
   "execution_count": 195,
   "id": "e931819f",
   "metadata": {},
   "outputs": [
    {
     "data": {
      "text/plain": [
       "\n",
       "Call:\n",
       "glm(formula = correct ~ index + input_logprob + output_logprob + \n",
       "    input_ntokens, family = binomial, data = scaled_countchars_both_gpt4_df)\n",
       "\n",
       "Deviance Residuals: \n",
       "    Min       1Q   Median       3Q      Max  \n",
       "-3.9362  -0.1098  -0.0262   0.0312   3.4657  \n",
       "\n",
       "Coefficients:\n",
       "               Estimate Std. Error z value Pr(>|z|)    \n",
       "(Intercept)     -4.1767     0.1621 -25.768  < 2e-16 ***\n",
       "index           -0.6219     0.1174  -5.296 1.18e-07 ***\n",
       "input_logprob   -0.6803     0.1281  -5.313 1.08e-07 ***\n",
       "output_logprob   3.3781     0.1396  24.202  < 2e-16 ***\n",
       "input_ntokens   -2.5456     0.3061  -8.315  < 2e-16 ***\n",
       "---\n",
       "Signif. codes:  0 ‘***’ 0.001 ‘**’ 0.01 ‘*’ 0.05 ‘.’ 0.1 ‘ ’ 1\n",
       "\n",
       "(Dispersion parameter for binomial family taken to be 1)\n",
       "\n",
       "    Null deviance: 6819.6  on 5999  degrees of freedom\n",
       "Residual deviance: 1846.0  on 5995  degrees of freedom\n",
       "AIC: 1856\n",
       "\n",
       "Number of Fisher Scoring iterations: 8\n"
      ]
     },
     "metadata": {},
     "output_type": "display_data"
    }
   ],
   "source": [
    "summary(countchars_both_gpt4_model)"
   ]
  },
  {
   "cell_type": "code",
   "execution_count": 196,
   "id": "1a8272fc",
   "metadata": {},
   "outputs": [
    {
     "data": {
      "text/plain": [
       "\n",
       "Call:\n",
       "glm(formula = correct ~ index + input_logprob + output_logprob + \n",
       "    input_ntokens, family = binomial, data = scaled_countchars_both_gpt35_df)\n",
       "\n",
       "Deviance Residuals: \n",
       "    Min       1Q   Median       3Q      Max  \n",
       "-2.2093  -0.3962  -0.1922   0.2725   2.6262  \n",
       "\n",
       "Coefficients:\n",
       "               Estimate Std. Error z value Pr(>|z|)    \n",
       "(Intercept)    -1.86072    0.05794 -32.115  < 2e-16 ***\n",
       "index          -0.38644    0.08268  -4.674 2.95e-06 ***\n",
       "input_logprob   0.49788    0.07428   6.702 2.05e-11 ***\n",
       "output_logprob  2.01289    0.07029  28.636  < 2e-16 ***\n",
       "input_ntokens  -0.24959    0.12127  -2.058   0.0396 *  \n",
       "---\n",
       "Signif. codes:  0 ‘***’ 0.001 ‘**’ 0.01 ‘*’ 0.05 ‘.’ 0.1 ‘ ’ 1\n",
       "\n",
       "(Dispersion parameter for binomial family taken to be 1)\n",
       "\n",
       "    Null deviance: 7098.4  on 5999  degrees of freedom\n",
       "Residual deviance: 3590.7  on 5995  degrees of freedom\n",
       "AIC: 3600.7\n",
       "\n",
       "Number of Fisher Scoring iterations: 6\n"
      ]
     },
     "metadata": {},
     "output_type": "display_data"
    }
   ],
   "source": [
    "summary(countchars_both_gpt35_model)"
   ]
  },
  {
   "cell_type": "code",
   "execution_count": 197,
   "id": "f8ef245c",
   "metadata": {},
   "outputs": [
    {
     "data": {
      "text/html": [
       "<style>\n",
       ".dl-inline {width: auto; margin:0; padding: 0}\n",
       ".dl-inline>dt, .dl-inline>dd {float: none; width: auto; display: inline-block}\n",
       ".dl-inline>dt::after {content: \":\\0020\"; padding-right: .5ex}\n",
       ".dl-inline>dt:not(:first-of-type) {padding-left: .5ex}\n",
       "</style><dl class=dl-inline><dt>index</dt><dd>1.19202173758623</dd><dt>input_logprob</dt><dd>1.00535474498031</dd><dt>output_logprob</dt><dd>1.19577030923333</dd></dl>\n"
      ],
      "text/latex": [
       "\\begin{description*}\n",
       "\\item[index] 1.19202173758623\n",
       "\\item[input\\textbackslash{}\\_logprob] 1.00535474498031\n",
       "\\item[output\\textbackslash{}\\_logprob] 1.19577030923333\n",
       "\\end{description*}\n"
      ],
      "text/markdown": [
       "index\n",
       ":   1.19202173758623input_logprob\n",
       ":   1.00535474498031output_logprob\n",
       ":   1.19577030923333\n",
       "\n"
      ],
      "text/plain": [
       "         index  input_logprob output_logprob \n",
       "      1.192022       1.005355       1.195770 "
      ]
     },
     "metadata": {},
     "output_type": "display_data"
    }
   ],
   "source": [
    "vif(countwords_both_gpt4_model)"
   ]
  },
  {
   "cell_type": "code",
   "execution_count": 198,
   "id": "83413327",
   "metadata": {},
   "outputs": [
    {
     "data": {
      "text/html": [
       "<style>\n",
       ".dl-inline {width: auto; margin:0; padding: 0}\n",
       ".dl-inline>dt, .dl-inline>dd {float: none; width: auto; display: inline-block}\n",
       ".dl-inline>dt::after {content: \":\\0020\"; padding-right: .5ex}\n",
       ".dl-inline>dt:not(:first-of-type) {padding-left: .5ex}\n",
       "</style><dl class=dl-inline><dt>index</dt><dd>1.52388565207087</dd><dt>input_logprob</dt><dd>1.00274454306724</dd><dt>output_logprob</dt><dd>1.52653351051659</dd></dl>\n"
      ],
      "text/latex": [
       "\\begin{description*}\n",
       "\\item[index] 1.52388565207087\n",
       "\\item[input\\textbackslash{}\\_logprob] 1.00274454306724\n",
       "\\item[output\\textbackslash{}\\_logprob] 1.52653351051659\n",
       "\\end{description*}\n"
      ],
      "text/markdown": [
       "index\n",
       ":   1.52388565207087input_logprob\n",
       ":   1.00274454306724output_logprob\n",
       ":   1.52653351051659\n",
       "\n"
      ],
      "text/plain": [
       "         index  input_logprob output_logprob \n",
       "      1.523886       1.002745       1.526534 "
      ]
     },
     "metadata": {},
     "output_type": "display_data"
    }
   ],
   "source": [
    "vif(countwords_both_gpt35_model)"
   ]
  },
  {
   "cell_type": "code",
   "execution_count": 199,
   "id": "983c83a7",
   "metadata": {},
   "outputs": [
    {
     "data": {
      "text/html": [
       "<style>\n",
       ".dl-inline {width: auto; margin:0; padding: 0}\n",
       ".dl-inline>dt, .dl-inline>dd {float: none; width: auto; display: inline-block}\n",
       ".dl-inline>dt::after {content: \":\\0020\"; padding-right: .5ex}\n",
       ".dl-inline>dt:not(:first-of-type) {padding-left: .5ex}\n",
       "</style><dl class=dl-inline><dt>index</dt><dd>1.54003212307987</dd><dt>input_logprob</dt><dd>4.3949683307482</dd><dt>output_logprob</dt><dd>1.02109897640636</dd><dt>input_ntokens</dt><dd>4.34504169487614</dd></dl>\n"
      ],
      "text/latex": [
       "\\begin{description*}\n",
       "\\item[index] 1.54003212307987\n",
       "\\item[input\\textbackslash{}\\_logprob] 4.3949683307482\n",
       "\\item[output\\textbackslash{}\\_logprob] 1.02109897640636\n",
       "\\item[input\\textbackslash{}\\_ntokens] 4.34504169487614\n",
       "\\end{description*}\n"
      ],
      "text/markdown": [
       "index\n",
       ":   1.54003212307987input_logprob\n",
       ":   4.3949683307482output_logprob\n",
       ":   1.02109897640636input_ntokens\n",
       ":   4.34504169487614\n",
       "\n"
      ],
      "text/plain": [
       "         index  input_logprob output_logprob  input_ntokens \n",
       "      1.540032       4.394968       1.021099       4.345042 "
      ]
     },
     "metadata": {},
     "output_type": "display_data"
    }
   ],
   "source": [
    "vif(countchars_both_gpt4_model)"
   ]
  },
  {
   "cell_type": "code",
   "execution_count": 200,
   "id": "36ee4b30",
   "metadata": {},
   "outputs": [
    {
     "data": {
      "text/html": [
       "<style>\n",
       ".dl-inline {width: auto; margin:0; padding: 0}\n",
       ".dl-inline>dt, .dl-inline>dd {float: none; width: auto; display: inline-block}\n",
       ".dl-inline>dt::after {content: \":\\0020\"; padding-right: .5ex}\n",
       ".dl-inline>dt:not(:first-of-type) {padding-left: .5ex}\n",
       "</style><dl class=dl-inline><dt>index</dt><dd>2.62219911533571</dd><dt>input_logprob</dt><dd>2.98122801425851</dd><dt>output_logprob</dt><dd>1.48017480653053</dd><dt>input_ntokens</dt><dd>3.40153404165733</dd></dl>\n"
      ],
      "text/latex": [
       "\\begin{description*}\n",
       "\\item[index] 2.62219911533571\n",
       "\\item[input\\textbackslash{}\\_logprob] 2.98122801425851\n",
       "\\item[output\\textbackslash{}\\_logprob] 1.48017480653053\n",
       "\\item[input\\textbackslash{}\\_ntokens] 3.40153404165733\n",
       "\\end{description*}\n"
      ],
      "text/markdown": [
       "index\n",
       ":   2.62219911533571input_logprob\n",
       ":   2.98122801425851output_logprob\n",
       ":   1.48017480653053input_ntokens\n",
       ":   3.40153404165733\n",
       "\n"
      ],
      "text/plain": [
       "         index  input_logprob output_logprob  input_ntokens \n",
       "      2.622199       2.981228       1.480175       3.401534 "
      ]
     },
     "metadata": {},
     "output_type": "display_data"
    }
   ],
   "source": [
    "vif(countchars_both_gpt35_model)"
   ]
  },
  {
   "cell_type": "code",
   "execution_count": null,
   "id": "141a8843",
   "metadata": {},
   "outputs": [],
   "source": []
  },
  {
   "cell_type": "markdown",
   "id": "25313c53",
   "metadata": {},
   "source": [
    "### Varying output"
   ]
  },
  {
   "cell_type": "code",
   "execution_count": 179,
   "id": "4e5e9799",
   "metadata": {},
   "outputs": [],
   "source": [
    "# Read in data\n",
    "countwords_binary_gpt4_df <- read.table(file = 'table_counting_words_binary_gpt-4-0613.tsv', sep = '\\t', header = TRUE)\n",
    "countwords_binary_gpt35_df <- read.table(file = 'table_counting_words_binary_gpt-3.5-turbo-0613.tsv', sep = '\\t', header = TRUE)\n",
    "\n",
    "countchars_binary_gpt4_df <- read.table(file = 'table_counting_chars_binary_gpt-4-0613.tsv', sep = '\\t', header = TRUE)\n",
    "countchars_binary_gpt35_df <- read.table(file = 'table_counting_chars_binary_gpt-3.5-turbo-0613.tsv', sep = '\\t', header = TRUE)\n"
   ]
  },
  {
   "cell_type": "code",
   "execution_count": 180,
   "id": "09468292",
   "metadata": {},
   "outputs": [],
   "source": [
    "# Z-score data\n",
    "scaled_countwords_binary_gpt4_df <- scale_df_with_index(countwords_binary_gpt4_df)\n",
    "scaled_countwords_binary_gpt35_df <- scale_df_with_index(countwords_binary_gpt35_df)\n",
    "\n",
    "scaled_countchars_binary_gpt4_df <- scale_df_with_index(countchars_binary_gpt4_df)\n",
    "scaled_countchars_binary_gpt35_df <- scale_df_with_index(countchars_binary_gpt35_df)"
   ]
  },
  {
   "cell_type": "code",
   "execution_count": 181,
   "id": "b9a03254",
   "metadata": {},
   "outputs": [],
   "source": [
    "countwords_binary_gpt4_model <- glm(correct ~ index + input_logprob + output_logprob, \n",
    "                   data=scaled_countwords_binary_gpt4_df, family=binomial)\n",
    "countwords_binary_gpt35_model <- glm(correct ~ index + input_logprob + output_logprob, \n",
    "                   data=scaled_countwords_binary_gpt35_df, family=binomial)\n",
    "\n",
    "countchars_binary_gpt4_model <- glm(correct ~ index + input_logprob + output_logprob, \n",
    "                   data=scaled_countchars_binary_gpt4_df, family=binomial)\n",
    "countchars_binary_gpt35_model <- glm(correct ~ index + input_logprob + output_logprob, \n",
    "                   data=scaled_countchars_binary_gpt35_df, family=binomial)"
   ]
  },
  {
   "cell_type": "code",
   "execution_count": 182,
   "id": "72f8d56a",
   "metadata": {},
   "outputs": [
    {
     "data": {
      "text/plain": [
       "\n",
       "Call:\n",
       "glm(formula = correct ~ index + input_logprob + output_logprob, \n",
       "    family = binomial, data = scaled_countwords_binary_gpt4_df)\n",
       "\n",
       "Deviance Residuals: \n",
       "     Min        1Q    Median        3Q       Max  \n",
       "-2.13331  -0.37089  -0.08181  -0.04723   2.96403  \n",
       "\n",
       "Coefficients:\n",
       "               Estimate Std. Error z value Pr(>|z|)    \n",
       "(Intercept)    -2.73270    0.12591 -21.704  < 2e-16 ***\n",
       "index           0.52051    0.08623   6.036 1.58e-09 ***\n",
       "input_logprob   0.12293    0.06573   1.870   0.0615 .  \n",
       "output_logprob  3.22597    0.15411  20.933  < 2e-16 ***\n",
       "---\n",
       "Signif. codes:  0 ‘***’ 0.001 ‘**’ 0.01 ‘*’ 0.05 ‘.’ 0.1 ‘ ’ 1\n",
       "\n",
       "(Dispersion parameter for binomial family taken to be 1)\n",
       "\n",
       "    Null deviance: 2633.6  on 2399  degrees of freedom\n",
       "Residual deviance: 1259.9  on 2396  degrees of freedom\n",
       "AIC: 1267.9\n",
       "\n",
       "Number of Fisher Scoring iterations: 7\n"
      ]
     },
     "metadata": {},
     "output_type": "display_data"
    }
   ],
   "source": [
    "summary(countwords_binary_gpt4_model)"
   ]
  },
  {
   "cell_type": "code",
   "execution_count": 183,
   "id": "2583ba76",
   "metadata": {},
   "outputs": [
    {
     "data": {
      "text/plain": [
       "\n",
       "Call:\n",
       "glm(formula = correct ~ index + input_logprob + output_logprob, \n",
       "    family = binomial, data = scaled_countwords_binary_gpt35_df)\n",
       "\n",
       "Deviance Residuals: \n",
       "    Min       1Q   Median       3Q      Max  \n",
       "-1.6350  -0.3409  -0.1558  -0.0843   3.4431  \n",
       "\n",
       "Coefficients:\n",
       "               Estimate Std. Error z value Pr(>|z|)    \n",
       "(Intercept)     -3.8385     0.1616 -23.747   <2e-16 ***\n",
       "index            1.0924     0.0941  11.609   <2e-16 ***\n",
       "input_logprob   -0.2086     0.1051  -1.984   0.0473 *  \n",
       "output_logprob   1.8626     0.1338  13.917   <2e-16 ***\n",
       "---\n",
       "Signif. codes:  0 ‘***’ 0.001 ‘**’ 0.01 ‘*’ 0.05 ‘.’ 0.1 ‘ ’ 1\n",
       "\n",
       "(Dispersion parameter for binomial family taken to be 1)\n",
       "\n",
       "    Null deviance: 1154.44  on 2399  degrees of freedom\n",
       "Residual deviance:  764.18  on 2396  degrees of freedom\n",
       "AIC: 772.18\n",
       "\n",
       "Number of Fisher Scoring iterations: 7\n"
      ]
     },
     "metadata": {},
     "output_type": "display_data"
    }
   ],
   "source": [
    "summary(countwords_binary_gpt35_model)"
   ]
  },
  {
   "cell_type": "code",
   "execution_count": 184,
   "id": "892e6800",
   "metadata": {},
   "outputs": [
    {
     "data": {
      "text/plain": [
       "\n",
       "Call:\n",
       "glm(formula = correct ~ index + input_logprob + output_logprob, \n",
       "    family = binomial, data = scaled_countchars_binary_gpt4_df)\n",
       "\n",
       "Deviance Residuals: \n",
       "    Min       1Q   Median       3Q      Max  \n",
       "-1.8510  -0.4543  -0.1344  -0.0681   2.2621  \n",
       "\n",
       "Coefficients:\n",
       "               Estimate Std. Error z value Pr(>|z|)    \n",
       "(Intercept)    -2.65994    0.11628 -22.875   <2e-16 ***\n",
       "index           0.01801    0.06977   0.258    0.796    \n",
       "input_logprob  -0.09741    0.06844  -1.423    0.155    \n",
       "output_logprob  2.54242    0.11741  21.655   <2e-16 ***\n",
       "---\n",
       "Signif. codes:  0 ‘***’ 0.001 ‘**’ 0.01 ‘*’ 0.05 ‘.’ 0.1 ‘ ’ 1\n",
       "\n",
       "(Dispersion parameter for binomial family taken to be 1)\n",
       "\n",
       "    Null deviance: 2488.0  on 2399  degrees of freedom\n",
       "Residual deviance: 1364.7  on 2396  degrees of freedom\n",
       "AIC: 1372.7\n",
       "\n",
       "Number of Fisher Scoring iterations: 6\n"
      ]
     },
     "metadata": {},
     "output_type": "display_data"
    }
   ],
   "source": [
    "summary(countchars_binary_gpt4_model)"
   ]
  },
  {
   "cell_type": "code",
   "execution_count": 185,
   "id": "ceed7614",
   "metadata": {},
   "outputs": [
    {
     "data": {
      "text/plain": [
       "\n",
       "Call:\n",
       "glm(formula = correct ~ index + input_logprob + output_logprob, \n",
       "    family = binomial, data = scaled_countchars_binary_gpt35_df)\n",
       "\n",
       "Deviance Residuals: \n",
       "    Min       1Q   Median       3Q      Max  \n",
       "-1.8611  -0.6616  -0.2926   0.5626   2.4637  \n",
       "\n",
       "Coefficients:\n",
       "               Estimate Std. Error z value Pr(>|z|)    \n",
       "(Intercept)    -1.48069    0.06776 -21.851   <2e-16 ***\n",
       "index          -0.53780    0.05743  -9.365   <2e-16 ***\n",
       "input_logprob  -0.03054    0.05630  -0.542    0.588    \n",
       "output_logprob  1.37065    0.07117  19.259   <2e-16 ***\n",
       "---\n",
       "Signif. codes:  0 ‘***’ 0.001 ‘**’ 0.01 ‘*’ 0.05 ‘.’ 0.1 ‘ ’ 1\n",
       "\n",
       "(Dispersion parameter for binomial family taken to be 1)\n",
       "\n",
       "    Null deviance: 2821.3  on 2399  degrees of freedom\n",
       "Residual deviance: 1974.3  on 2396  degrees of freedom\n",
       "AIC: 1982.3\n",
       "\n",
       "Number of Fisher Scoring iterations: 5\n"
      ]
     },
     "metadata": {},
     "output_type": "display_data"
    }
   ],
   "source": [
    "summary(countchars_binary_gpt35_model)"
   ]
  },
  {
   "cell_type": "code",
   "execution_count": 186,
   "id": "fe9ad7c9",
   "metadata": {},
   "outputs": [
    {
     "data": {
      "text/html": [
       "<style>\n",
       ".dl-inline {width: auto; margin:0; padding: 0}\n",
       ".dl-inline>dt, .dl-inline>dd {float: none; width: auto; display: inline-block}\n",
       ".dl-inline>dt::after {content: \":\\0020\"; padding-right: .5ex}\n",
       ".dl-inline>dt:not(:first-of-type) {padding-left: .5ex}\n",
       "</style><dl class=dl-inline><dt>index</dt><dd>1.38499075929242</dd><dt>input_logprob</dt><dd>1.00342700888314</dd><dt>output_logprob</dt><dd>1.38889895985558</dd></dl>\n"
      ],
      "text/latex": [
       "\\begin{description*}\n",
       "\\item[index] 1.38499075929242\n",
       "\\item[input\\textbackslash{}\\_logprob] 1.00342700888314\n",
       "\\item[output\\textbackslash{}\\_logprob] 1.38889895985558\n",
       "\\end{description*}\n"
      ],
      "text/markdown": [
       "index\n",
       ":   1.38499075929242input_logprob\n",
       ":   1.00342700888314output_logprob\n",
       ":   1.38889895985558\n",
       "\n"
      ],
      "text/plain": [
       "         index  input_logprob output_logprob \n",
       "      1.384991       1.003427       1.388899 "
      ]
     },
     "metadata": {},
     "output_type": "display_data"
    }
   ],
   "source": [
    "vif(countwords_binary_gpt4_model)"
   ]
  },
  {
   "cell_type": "code",
   "execution_count": 187,
   "id": "ee718880",
   "metadata": {},
   "outputs": [
    {
     "data": {
      "text/html": [
       "<style>\n",
       ".dl-inline {width: auto; margin:0; padding: 0}\n",
       ".dl-inline>dt, .dl-inline>dd {float: none; width: auto; display: inline-block}\n",
       ".dl-inline>dt::after {content: \":\\0020\"; padding-right: .5ex}\n",
       ".dl-inline>dt:not(:first-of-type) {padding-left: .5ex}\n",
       "</style><dl class=dl-inline><dt>index</dt><dd>1.10251300317314</dd><dt>input_logprob</dt><dd>1.02691575117526</dd><dt>output_logprob</dt><dd>1.07509588347113</dd></dl>\n"
      ],
      "text/latex": [
       "\\begin{description*}\n",
       "\\item[index] 1.10251300317314\n",
       "\\item[input\\textbackslash{}\\_logprob] 1.02691575117526\n",
       "\\item[output\\textbackslash{}\\_logprob] 1.07509588347113\n",
       "\\end{description*}\n"
      ],
      "text/markdown": [
       "index\n",
       ":   1.10251300317314input_logprob\n",
       ":   1.02691575117526output_logprob\n",
       ":   1.07509588347113\n",
       "\n"
      ],
      "text/plain": [
       "         index  input_logprob output_logprob \n",
       "      1.102513       1.026916       1.075096 "
      ]
     },
     "metadata": {},
     "output_type": "display_data"
    }
   ],
   "source": [
    "vif(countwords_binary_gpt35_model)"
   ]
  },
  {
   "cell_type": "code",
   "execution_count": 188,
   "id": "ec4f8f5a",
   "metadata": {},
   "outputs": [
    {
     "data": {
      "text/html": [
       "<style>\n",
       ".dl-inline {width: auto; margin:0; padding: 0}\n",
       ".dl-inline>dt, .dl-inline>dd {float: none; width: auto; display: inline-block}\n",
       ".dl-inline>dt::after {content: \":\\0020\"; padding-right: .5ex}\n",
       ".dl-inline>dt:not(:first-of-type) {padding-left: .5ex}\n",
       "</style><dl class=dl-inline><dt>index</dt><dd>1.06509554939689</dd><dt>input_logprob</dt><dd>1.00540444662146</dd><dt>output_logprob</dt><dd>1.07030757305313</dd></dl>\n"
      ],
      "text/latex": [
       "\\begin{description*}\n",
       "\\item[index] 1.06509554939689\n",
       "\\item[input\\textbackslash{}\\_logprob] 1.00540444662146\n",
       "\\item[output\\textbackslash{}\\_logprob] 1.07030757305313\n",
       "\\end{description*}\n"
      ],
      "text/markdown": [
       "index\n",
       ":   1.06509554939689input_logprob\n",
       ":   1.00540444662146output_logprob\n",
       ":   1.07030757305313\n",
       "\n"
      ],
      "text/plain": [
       "         index  input_logprob output_logprob \n",
       "      1.065096       1.005404       1.070308 "
      ]
     },
     "metadata": {},
     "output_type": "display_data"
    }
   ],
   "source": [
    "vif(countchars_binary_gpt4_model)"
   ]
  },
  {
   "cell_type": "code",
   "execution_count": 189,
   "id": "32b42f5f",
   "metadata": {},
   "outputs": [
    {
     "data": {
      "text/html": [
       "<style>\n",
       ".dl-inline {width: auto; margin:0; padding: 0}\n",
       ".dl-inline>dt, .dl-inline>dd {float: none; width: auto; display: inline-block}\n",
       ".dl-inline>dt::after {content: \":\\0020\"; padding-right: .5ex}\n",
       ".dl-inline>dt:not(:first-of-type) {padding-left: .5ex}\n",
       "</style><dl class=dl-inline><dt>index</dt><dd>1.01921495591155</dd><dt>input_logprob</dt><dd>1.001137873739</dd><dt>output_logprob</dt><dd>1.0200414520845</dd></dl>\n"
      ],
      "text/latex": [
       "\\begin{description*}\n",
       "\\item[index] 1.01921495591155\n",
       "\\item[input\\textbackslash{}\\_logprob] 1.001137873739\n",
       "\\item[output\\textbackslash{}\\_logprob] 1.0200414520845\n",
       "\\end{description*}\n"
      ],
      "text/markdown": [
       "index\n",
       ":   1.01921495591155input_logprob\n",
       ":   1.001137873739output_logprob\n",
       ":   1.0200414520845\n",
       "\n"
      ],
      "text/plain": [
       "         index  input_logprob output_logprob \n",
       "      1.019215       1.001138       1.020041 "
      ]
     },
     "metadata": {},
     "output_type": "display_data"
    }
   ],
   "source": [
    "vif(countchars_binary_gpt35_model)"
   ]
  },
  {
   "cell_type": "code",
   "execution_count": null,
   "id": "020d455e",
   "metadata": {},
   "outputs": [],
   "source": []
  },
  {
   "cell_type": "markdown",
   "id": "67df58a3",
   "metadata": {},
   "source": [
    "# Sorting"
   ]
  },
  {
   "cell_type": "code",
   "execution_count": 201,
   "id": "8a6b00f4",
   "metadata": {},
   "outputs": [],
   "source": [
    "# Read in data\n",
    "sortwords_gpt4_df <- read.table(file = 'table_sortwords_gpt-4-0613.tsv', sep = '\\t', header = TRUE)\n",
    "sortwords_gpt35_df <- read.table(file = 'table_sortwords_gpt-3.5-turbo-0613.tsv', sep = '\\t', header = TRUE)\n",
    "\n",
    "sortnumbers_gpt4_df <- read.table(file = 'table_sortnumbers_gpt-4-0613.tsv', sep = '\\t', header = TRUE)\n",
    "sortnumbers_gpt35_df <- read.table(file = 'table_sortnumbers_gpt-3.5-turbo-0613.tsv', sep = '\\t', header = TRUE)\n"
   ]
  },
  {
   "cell_type": "code",
   "execution_count": 202,
   "id": "05940198",
   "metadata": {},
   "outputs": [],
   "source": [
    "# Z-score data\n",
    "scaled_sortwords_gpt4_df <- scale_taskpair_df(sortwords_gpt4_df)\n",
    "scaled_sortwords_gpt35_df <- scale_taskpair_df(sortwords_gpt35_df)\n",
    "\n",
    "scaled_sortnumbers_gpt4_df <- scale_taskpair_df(sortnumbers_gpt4_df)\n",
    "scaled_sortnumbers_gpt35_df <- scale_taskpair_df(sortnumbers_gpt35_df)"
   ]
  },
  {
   "cell_type": "code",
   "execution_count": 203,
   "id": "8a90402d",
   "metadata": {},
   "outputs": [
    {
     "data": {
      "text/html": [
       "<table class=\"dataframe\">\n",
       "<caption>A data.frame: 6 × 9</caption>\n",
       "<thead>\n",
       "\t<tr><th></th><th scope=col>input_nchars</th><th scope=col>input_ntokens</th><th scope=col>input_logprob</th><th scope=col>output_nchars</th><th scope=col>output_ntokens</th><th scope=col>output_logprob</th><th scope=col>index</th><th scope=col>task</th><th scope=col>correct</th></tr>\n",
       "\t<tr><th></th><th scope=col>&lt;dbl&gt;</th><th scope=col>&lt;dbl&gt;</th><th scope=col>&lt;dbl&gt;</th><th scope=col>&lt;dbl&gt;</th><th scope=col>&lt;dbl&gt;</th><th scope=col>&lt;dbl&gt;</th><th scope=col>&lt;fct&gt;</th><th scope=col>&lt;fct&gt;</th><th scope=col>&lt;int&gt;</th></tr>\n",
       "</thead>\n",
       "<tbody>\n",
       "\t<tr><th scope=row>1</th><td>-1.4316216</td><td>-1.0266752</td><td> 0.9946478</td><td>-1.4316216</td><td>-1.0266752</td><td> 1.1707491</td><td>0</td><td>fwd</td><td>1</td></tr>\n",
       "\t<tr><th scope=row>2</th><td>-0.5566579</td><td>-0.6333130</td><td> 0.8375733</td><td>-0.5566579</td><td>-0.6333130</td><td> 1.0567959</td><td>1</td><td>fwd</td><td>1</td></tr>\n",
       "\t<tr><th scope=row>3</th><td> 0.4389904</td><td> 0.0550707</td><td>-0.4429823</td><td> 0.4389904</td><td> 0.0550707</td><td>-0.4758583</td><td>2</td><td>fwd</td><td>1</td></tr>\n",
       "\t<tr><th scope=row>4</th><td>-1.1902523</td><td>-1.1250157</td><td> 0.7908320</td><td>-1.1902523</td><td>-1.1250157</td><td> 1.0975093</td><td>3</td><td>fwd</td><td>1</td></tr>\n",
       "\t<tr><th scope=row>5</th><td>-1.1902523</td><td>-1.1250157</td><td> 1.3138576</td><td>-1.1902523</td><td>-1.1250157</td><td> 1.0760712</td><td>4</td><td>fwd</td><td>1</td></tr>\n",
       "\t<tr><th scope=row>6</th><td> 1.4949810</td><td> 1.3334976</td><td>-1.6865322</td><td> 1.4949810</td><td> 1.3334976</td><td>-1.3011868</td><td>5</td><td>fwd</td><td>1</td></tr>\n",
       "</tbody>\n",
       "</table>\n"
      ],
      "text/latex": [
       "A data.frame: 6 × 9\n",
       "\\begin{tabular}{r|lllllllll}\n",
       "  & input\\_nchars & input\\_ntokens & input\\_logprob & output\\_nchars & output\\_ntokens & output\\_logprob & index & task & correct\\\\\n",
       "  & <dbl> & <dbl> & <dbl> & <dbl> & <dbl> & <dbl> & <fct> & <fct> & <int>\\\\\n",
       "\\hline\n",
       "\t1 & -1.4316216 & -1.0266752 &  0.9946478 & -1.4316216 & -1.0266752 &  1.1707491 & 0 & fwd & 1\\\\\n",
       "\t2 & -0.5566579 & -0.6333130 &  0.8375733 & -0.5566579 & -0.6333130 &  1.0567959 & 1 & fwd & 1\\\\\n",
       "\t3 &  0.4389904 &  0.0550707 & -0.4429823 &  0.4389904 &  0.0550707 & -0.4758583 & 2 & fwd & 1\\\\\n",
       "\t4 & -1.1902523 & -1.1250157 &  0.7908320 & -1.1902523 & -1.1250157 &  1.0975093 & 3 & fwd & 1\\\\\n",
       "\t5 & -1.1902523 & -1.1250157 &  1.3138576 & -1.1902523 & -1.1250157 &  1.0760712 & 4 & fwd & 1\\\\\n",
       "\t6 &  1.4949810 &  1.3334976 & -1.6865322 &  1.4949810 &  1.3334976 & -1.3011868 & 5 & fwd & 1\\\\\n",
       "\\end{tabular}\n"
      ],
      "text/markdown": [
       "\n",
       "A data.frame: 6 × 9\n",
       "\n",
       "| <!--/--> | input_nchars &lt;dbl&gt; | input_ntokens &lt;dbl&gt; | input_logprob &lt;dbl&gt; | output_nchars &lt;dbl&gt; | output_ntokens &lt;dbl&gt; | output_logprob &lt;dbl&gt; | index &lt;fct&gt; | task &lt;fct&gt; | correct &lt;int&gt; |\n",
       "|---|---|---|---|---|---|---|---|---|---|\n",
       "| 1 | -1.4316216 | -1.0266752 |  0.9946478 | -1.4316216 | -1.0266752 |  1.1707491 | 0 | fwd | 1 |\n",
       "| 2 | -0.5566579 | -0.6333130 |  0.8375733 | -0.5566579 | -0.6333130 |  1.0567959 | 1 | fwd | 1 |\n",
       "| 3 |  0.4389904 |  0.0550707 | -0.4429823 |  0.4389904 |  0.0550707 | -0.4758583 | 2 | fwd | 1 |\n",
       "| 4 | -1.1902523 | -1.1250157 |  0.7908320 | -1.1902523 | -1.1250157 |  1.0975093 | 3 | fwd | 1 |\n",
       "| 5 | -1.1902523 | -1.1250157 |  1.3138576 | -1.1902523 | -1.1250157 |  1.0760712 | 4 | fwd | 1 |\n",
       "| 6 |  1.4949810 |  1.3334976 | -1.6865322 |  1.4949810 |  1.3334976 | -1.3011868 | 5 | fwd | 1 |\n",
       "\n"
      ],
      "text/plain": [
       "  input_nchars input_ntokens input_logprob output_nchars output_ntokens\n",
       "1 -1.4316216   -1.0266752     0.9946478    -1.4316216    -1.0266752    \n",
       "2 -0.5566579   -0.6333130     0.8375733    -0.5566579    -0.6333130    \n",
       "3  0.4389904    0.0550707    -0.4429823     0.4389904     0.0550707    \n",
       "4 -1.1902523   -1.1250157     0.7908320    -1.1902523    -1.1250157    \n",
       "5 -1.1902523   -1.1250157     1.3138576    -1.1902523    -1.1250157    \n",
       "6  1.4949810    1.3334976    -1.6865322     1.4949810     1.3334976    \n",
       "  output_logprob index task correct\n",
       "1  1.1707491     0     fwd  1      \n",
       "2  1.0567959     1     fwd  1      \n",
       "3 -0.4758583     2     fwd  1      \n",
       "4  1.0975093     3     fwd  1      \n",
       "5  1.0760712     4     fwd  1      \n",
       "6 -1.3011868     5     fwd  1      "
      ]
     },
     "metadata": {},
     "output_type": "display_data"
    }
   ],
   "source": [
    "head(scaled_sortwords_gpt4_df)"
   ]
  },
  {
   "cell_type": "code",
   "execution_count": 204,
   "id": "029daf22",
   "metadata": {},
   "outputs": [],
   "source": [
    "sort_gpt4_words_model <- glm(correct ~ task + input_nchars + input_ntokens + input_logprob + output_logprob, \n",
    "               data=scaled_sortwords_gpt4_df, family=binomial)\n",
    "sort_gpt35_words_model <- glm(correct ~ task + input_nchars + input_ntokens + input_logprob + output_logprob, \n",
    "               data=scaled_sortwords_gpt35_df, family=binomial)\n"
   ]
  },
  {
   "cell_type": "code",
   "execution_count": 205,
   "id": "8c7124f1",
   "metadata": {},
   "outputs": [],
   "source": [
    "sort_gpt4_numbers_model <- glm(correct ~ task + input_nchars + input_ntokens + input_logprob + output_logprob, \n",
    "               data=scaled_sortnumbers_gpt4_df, family=binomial)\n",
    "sort_gpt35_numbers_model <- glm(correct ~ task + input_nchars + input_ntokens + input_logprob + output_logprob, \n",
    "               data=scaled_sortnumbers_gpt35_df, family=binomial)"
   ]
  },
  {
   "cell_type": "code",
   "execution_count": 206,
   "id": "46c1def8",
   "metadata": {},
   "outputs": [
    {
     "data": {
      "text/plain": [
       "\n",
       "Call:\n",
       "glm(formula = correct ~ task + input_nchars + input_ntokens + \n",
       "    input_logprob + output_logprob, family = binomial, data = scaled_sortwords_gpt4_df)\n",
       "\n",
       "Deviance Residuals: \n",
       "    Min       1Q   Median       3Q      Max  \n",
       "-2.2414  -0.9179   0.4780   0.7151   2.0277  \n",
       "\n",
       "Coefficients:\n",
       "               Estimate Std. Error z value Pr(>|z|)    \n",
       "(Intercept)     1.50008    0.31078   4.827 1.39e-06 ***\n",
       "taskrev        -2.32891    0.45518  -5.116 3.11e-07 ***\n",
       "input_nchars    0.65920    0.64311   1.025    0.305    \n",
       "input_ntokens  -0.99387    0.87178  -1.140    0.254    \n",
       "input_logprob   0.25661    0.90998   0.282    0.778    \n",
       "output_logprob -0.02024    0.78071  -0.026    0.979    \n",
       "---\n",
       "Signif. codes:  0 ‘***’ 0.001 ‘**’ 0.01 ‘*’ 0.05 ‘.’ 0.1 ‘ ’ 1\n",
       "\n",
       "(Dispersion parameter for binomial family taken to be 1)\n",
       "\n",
       "    Null deviance: 274.37  on 199  degrees of freedom\n",
       "Residual deviance: 212.31  on 194  degrees of freedom\n",
       "AIC: 224.31\n",
       "\n",
       "Number of Fisher Scoring iterations: 4\n"
      ]
     },
     "metadata": {},
     "output_type": "display_data"
    }
   ],
   "source": [
    "summary(sort_gpt4_words_model)"
   ]
  },
  {
   "cell_type": "code",
   "execution_count": 207,
   "id": "5e4d7dff",
   "metadata": {},
   "outputs": [
    {
     "data": {
      "text/plain": [
       "\n",
       "Call:\n",
       "glm(formula = correct ~ task + input_nchars + input_ntokens + \n",
       "    input_logprob + output_logprob, family = binomial, data = scaled_sortwords_gpt35_df)\n",
       "\n",
       "Deviance Residuals: \n",
       "    Min       1Q   Median       3Q      Max  \n",
       "-1.9744  -0.6160  -0.3827   0.7223   2.2874  \n",
       "\n",
       "Coefficients:\n",
       "               Estimate Std. Error z value Pr(>|z|)    \n",
       "(Intercept)      1.0275     0.2797   3.674 0.000239 ***\n",
       "taskrev         -2.6897     0.4560  -5.898 3.67e-09 ***\n",
       "input_nchars    -0.2244     0.7079  -0.317 0.751250    \n",
       "input_ntokens    0.2777     0.9500   0.292 0.770045    \n",
       "input_logprob   -0.4364     0.9579  -0.456 0.648674    \n",
       "output_logprob   0.9603     0.8631   1.113 0.265902    \n",
       "---\n",
       "Signif. codes:  0 ‘***’ 0.001 ‘**’ 0.01 ‘*’ 0.05 ‘.’ 0.1 ‘ ’ 1\n",
       "\n",
       "(Dispersion parameter for binomial family taken to be 1)\n",
       "\n",
       "    Null deviance: 275.64  on 199  degrees of freedom\n",
       "Residual deviance: 188.36  on 194  degrees of freedom\n",
       "AIC: 200.36\n",
       "\n",
       "Number of Fisher Scoring iterations: 4\n"
      ]
     },
     "metadata": {},
     "output_type": "display_data"
    }
   ],
   "source": [
    "summary(sort_gpt35_words_model)"
   ]
  },
  {
   "cell_type": "code",
   "execution_count": 208,
   "id": "f8cabd54",
   "metadata": {},
   "outputs": [
    {
     "data": {
      "text/plain": [
       "\n",
       "Call:\n",
       "glm(formula = correct ~ task + input_nchars + input_ntokens + \n",
       "    input_logprob + output_logprob, family = binomial, data = scaled_sortnumbers_gpt4_df)\n",
       "\n",
       "Deviance Residuals: \n",
       "    Min       1Q   Median       3Q      Max  \n",
       "-2.2265   0.4663   0.5864   0.6988   0.9245  \n",
       "\n",
       "Coefficients:\n",
       "               Estimate Std. Error z value Pr(>|z|)    \n",
       "(Intercept)     1.52436    0.35167   4.335 1.46e-05 ***\n",
       "taskdescending -0.03131    0.58923  -0.053    0.958    \n",
       "input_nchars   -8.09348    6.40191  -1.264    0.206    \n",
       "input_ntokens   6.68226    6.03090   1.108    0.268    \n",
       "input_logprob  -1.26602    1.20055  -1.055    0.292    \n",
       "output_logprob  0.19837    0.89414   0.222    0.824    \n",
       "---\n",
       "Signif. codes:  0 ‘***’ 0.001 ‘**’ 0.01 ‘*’ 0.05 ‘.’ 0.1 ‘ ’ 1\n",
       "\n",
       "(Dispersion parameter for binomial family taken to be 1)\n",
       "\n",
       "    Null deviance: 194.49  on 199  degrees of freedom\n",
       "Residual deviance: 188.87  on 194  degrees of freedom\n",
       "AIC: 200.87\n",
       "\n",
       "Number of Fisher Scoring iterations: 4\n"
      ]
     },
     "metadata": {},
     "output_type": "display_data"
    }
   ],
   "source": [
    "summary(sort_gpt4_numbers_model)"
   ]
  },
  {
   "cell_type": "code",
   "execution_count": 209,
   "id": "eec52fee",
   "metadata": {},
   "outputs": [
    {
     "data": {
      "text/plain": [
       "\n",
       "Call:\n",
       "glm(formula = correct ~ task + input_nchars + input_ntokens + \n",
       "    input_logprob + output_logprob, family = binomial, data = scaled_sortnumbers_gpt35_df)\n",
       "\n",
       "Deviance Residuals: \n",
       "    Min       1Q   Median       3Q      Max  \n",
       "-1.9000  -1.0069   0.6580   0.8908   2.0472  \n",
       "\n",
       "Coefficients:\n",
       "               Estimate Std. Error z value Pr(>|z|)    \n",
       "(Intercept)      0.6417     0.3041   2.110   0.0349 *  \n",
       "taskdescending  -0.1977     0.5088  -0.389   0.6976    \n",
       "input_nchars   -23.8710     6.0243  -3.962 7.42e-05 ***\n",
       "input_ntokens   25.0612     5.7643   4.348 1.38e-05 ***\n",
       "input_logprob    1.0765     1.0595   1.016   0.3096    \n",
       "output_logprob   0.3905     0.7771   0.503   0.6153    \n",
       "---\n",
       "Signif. codes:  0 ‘***’ 0.001 ‘**’ 0.01 ‘*’ 0.05 ‘.’ 0.1 ‘ ’ 1\n",
       "\n",
       "(Dispersion parameter for binomial family taken to be 1)\n",
       "\n",
       "    Null deviance: 265.63  on 199  degrees of freedom\n",
       "Residual deviance: 234.39  on 194  degrees of freedom\n",
       "AIC: 246.39\n",
       "\n",
       "Number of Fisher Scoring iterations: 4\n"
      ]
     },
     "metadata": {},
     "output_type": "display_data"
    }
   ],
   "source": [
    "summary(sort_gpt35_numbers_model)"
   ]
  },
  {
   "cell_type": "code",
   "execution_count": 210,
   "id": "483c77e0",
   "metadata": {},
   "outputs": [
    {
     "data": {
      "text/html": [
       "<style>\n",
       ".dl-inline {width: auto; margin:0; padding: 0}\n",
       ".dl-inline>dt, .dl-inline>dd {float: none; width: auto; display: inline-block}\n",
       ".dl-inline>dt::after {content: \":\\0020\"; padding-right: .5ex}\n",
       ".dl-inline>dt:not(:first-of-type) {padding-left: .5ex}\n",
       "</style><dl class=dl-inline><dt>task</dt><dd>1.78302559582131</dd><dt>input_nchars</dt><dd>14.3841828317257</dd><dt>input_ntokens</dt><dd>26.2387848625156</dd><dt>input_logprob</dt><dd>28.6003808481628</dd><dt>output_logprob</dt><dd>19.1707880376377</dd></dl>\n"
      ],
      "text/latex": [
       "\\begin{description*}\n",
       "\\item[task] 1.78302559582131\n",
       "\\item[input\\textbackslash{}\\_nchars] 14.3841828317257\n",
       "\\item[input\\textbackslash{}\\_ntokens] 26.2387848625156\n",
       "\\item[input\\textbackslash{}\\_logprob] 28.6003808481628\n",
       "\\item[output\\textbackslash{}\\_logprob] 19.1707880376377\n",
       "\\end{description*}\n"
      ],
      "text/markdown": [
       "task\n",
       ":   1.78302559582131input_nchars\n",
       ":   14.3841828317257input_ntokens\n",
       ":   26.2387848625156input_logprob\n",
       ":   28.6003808481628output_logprob\n",
       ":   19.1707880376377\n",
       "\n"
      ],
      "text/plain": [
       "          task   input_nchars  input_ntokens  input_logprob output_logprob \n",
       "      1.783026      14.384183      26.238785      28.600381      19.170788 "
      ]
     },
     "metadata": {},
     "output_type": "display_data"
    }
   ],
   "source": [
    "vif(sort_gpt4_words_model)"
   ]
  },
  {
   "cell_type": "code",
   "execution_count": 211,
   "id": "5989f8d7",
   "metadata": {},
   "outputs": [
    {
     "data": {
      "text/html": [
       "<style>\n",
       ".dl-inline {width: auto; margin:0; padding: 0}\n",
       ".dl-inline>dt, .dl-inline>dd {float: none; width: auto; display: inline-block}\n",
       ".dl-inline>dt::after {content: \":\\0020\"; padding-right: .5ex}\n",
       ".dl-inline>dt:not(:first-of-type) {padding-left: .5ex}\n",
       "</style><dl class=dl-inline><dt>task</dt><dd>1.51101729023903</dd><dt>input_nchars</dt><dd>14.8022549595612</dd><dt>input_ntokens</dt><dd>26.5514894249969</dd><dt>input_logprob</dt><dd>27.1170764770315</dd><dt>output_logprob</dt><dd>19.0805420361563</dd></dl>\n"
      ],
      "text/latex": [
       "\\begin{description*}\n",
       "\\item[task] 1.51101729023903\n",
       "\\item[input\\textbackslash{}\\_nchars] 14.8022549595612\n",
       "\\item[input\\textbackslash{}\\_ntokens] 26.5514894249969\n",
       "\\item[input\\textbackslash{}\\_logprob] 27.1170764770315\n",
       "\\item[output\\textbackslash{}\\_logprob] 19.0805420361563\n",
       "\\end{description*}\n"
      ],
      "text/markdown": [
       "task\n",
       ":   1.51101729023903input_nchars\n",
       ":   14.8022549595612input_ntokens\n",
       ":   26.5514894249969input_logprob\n",
       ":   27.1170764770315output_logprob\n",
       ":   19.0805420361563\n",
       "\n"
      ],
      "text/plain": [
       "          task   input_nchars  input_ntokens  input_logprob output_logprob \n",
       "      1.511017      14.802255      26.551489      27.117076      19.080542 "
      ]
     },
     "metadata": {},
     "output_type": "display_data"
    }
   ],
   "source": [
    "vif(sort_gpt35_words_model)"
   ]
  },
  {
   "cell_type": "code",
   "execution_count": 212,
   "id": "30186846",
   "metadata": {},
   "outputs": [
    {
     "data": {
      "text/html": [
       "<style>\n",
       ".dl-inline {width: auto; margin:0; padding: 0}\n",
       ".dl-inline>dt, .dl-inline>dd {float: none; width: auto; display: inline-block}\n",
       ".dl-inline>dt::after {content: \":\\0020\"; padding-right: .5ex}\n",
       ".dl-inline>dt:not(:first-of-type) {padding-left: .5ex}\n",
       "</style><dl class=dl-inline><dt>task</dt><dd>2.59236297291058</dd><dt>input_nchars</dt><dd>1125.50778883334</dd><dt>input_ntokens</dt><dd>1000.26796642903</dd><dt>input_logprob</dt><dd>40.2844364121837</dd><dt>output_logprob</dt><dd>22.516379972581</dd></dl>\n"
      ],
      "text/latex": [
       "\\begin{description*}\n",
       "\\item[task] 2.59236297291058\n",
       "\\item[input\\textbackslash{}\\_nchars] 1125.50778883334\n",
       "\\item[input\\textbackslash{}\\_ntokens] 1000.26796642903\n",
       "\\item[input\\textbackslash{}\\_logprob] 40.2844364121837\n",
       "\\item[output\\textbackslash{}\\_logprob] 22.516379972581\n",
       "\\end{description*}\n"
      ],
      "text/markdown": [
       "task\n",
       ":   2.59236297291058input_nchars\n",
       ":   1125.50778883334input_ntokens\n",
       ":   1000.26796642903input_logprob\n",
       ":   40.2844364121837output_logprob\n",
       ":   22.516379972581\n",
       "\n"
      ],
      "text/plain": [
       "          task   input_nchars  input_ntokens  input_logprob output_logprob \n",
       "      2.592363    1125.507789    1000.267966      40.284436      22.516380 "
      ]
     },
     "metadata": {},
     "output_type": "display_data"
    }
   ],
   "source": [
    "vif(sort_gpt4_numbers_model)"
   ]
  },
  {
   "cell_type": "code",
   "execution_count": 213,
   "id": "c31ae0c3",
   "metadata": {},
   "outputs": [
    {
     "data": {
      "text/html": [
       "<style>\n",
       ".dl-inline {width: auto; margin:0; padding: 0}\n",
       ".dl-inline>dt, .dl-inline>dd {float: none; width: auto; display: inline-block}\n",
       ".dl-inline>dt::after {content: \":\\0020\"; padding-right: .5ex}\n",
       ".dl-inline>dt:not(:first-of-type) {padding-left: .5ex}\n",
       "</style><dl class=dl-inline><dt>task</dt><dd>2.58078051299639</dd><dt>input_nchars</dt><dd>1429.29424366798</dd><dt>input_ntokens</dt><dd>1310.73918307177</dd><dt>input_logprob</dt><dd>44.1695309522276</dd><dt>output_logprob</dt><dd>23.4749869387259</dd></dl>\n"
      ],
      "text/latex": [
       "\\begin{description*}\n",
       "\\item[task] 2.58078051299639\n",
       "\\item[input\\textbackslash{}\\_nchars] 1429.29424366798\n",
       "\\item[input\\textbackslash{}\\_ntokens] 1310.73918307177\n",
       "\\item[input\\textbackslash{}\\_logprob] 44.1695309522276\n",
       "\\item[output\\textbackslash{}\\_logprob] 23.4749869387259\n",
       "\\end{description*}\n"
      ],
      "text/markdown": [
       "task\n",
       ":   2.58078051299639input_nchars\n",
       ":   1429.29424366798input_ntokens\n",
       ":   1310.73918307177input_logprob\n",
       ":   44.1695309522276output_logprob\n",
       ":   23.4749869387259\n",
       "\n"
      ],
      "text/plain": [
       "          task   input_nchars  input_ntokens  input_logprob output_logprob \n",
       "      2.580781    1429.294244    1310.739183      44.169531      23.474987 "
      ]
     },
     "metadata": {},
     "output_type": "display_data"
    }
   ],
   "source": [
    "vif(sort_gpt35_numbers_model)"
   ]
  },
  {
   "cell_type": "code",
   "execution_count": null,
   "id": "686bbd2d",
   "metadata": {},
   "outputs": [],
   "source": []
  },
  {
   "cell_type": "markdown",
   "id": "f02ec69e",
   "metadata": {},
   "source": [
    "# Birthdays"
   ]
  },
  {
   "cell_type": "code",
   "execution_count": 278,
   "id": "0d043140",
   "metadata": {},
   "outputs": [],
   "source": [
    "# Read in data\n",
    "birthdays_gpt4_df <- read.table(file = 'table_birthdays_gpt-4-0613.tsv', sep = '\\t', header = TRUE)\n",
    "birthdays_gpt35_df <- read.table(file = 'table_birthdays_gpt-3.5-turbo-0613.tsv', sep = '\\t', header = TRUE)\n"
   ]
  },
  {
   "cell_type": "code",
   "execution_count": 279,
   "id": "f5492cdc",
   "metadata": {},
   "outputs": [],
   "source": [
    "# Z-score data\n",
    "scaled_birthdays_gpt4_df <- scale_df(birthdays_gpt4_df)\n",
    "scaled_birthdays_gpt35_df <- scale_df(birthdays_gpt35_df)"
   ]
  },
  {
   "cell_type": "code",
   "execution_count": 280,
   "id": "6622e038",
   "metadata": {},
   "outputs": [],
   "source": [
    "birthdays_gpt4_model <- glm(correct ~ input_logprob + output_logprob, \n",
    "               data=scaled_birthdays_gpt4_df, family=binomial)\n",
    "birthdays_gpt35_model <- glm(correct ~ input_logprob + output_logprob, \n",
    "               data=scaled_birthdays_gpt35_df, family=binomial)"
   ]
  },
  {
   "cell_type": "code",
   "execution_count": 281,
   "id": "3f122508",
   "metadata": {},
   "outputs": [
    {
     "data": {
      "text/plain": [
       "\n",
       "Call:\n",
       "glm(formula = correct ~ input_logprob + output_logprob, family = binomial, \n",
       "    data = scaled_birthdays_gpt4_df)\n",
       "\n",
       "Deviance Residuals: \n",
       "    Min       1Q   Median       3Q      Max  \n",
       "-2.8769  -0.6683   0.1843   0.5264   2.0459  \n",
       "\n",
       "Coefficients:\n",
       "               Estimate Std. Error z value Pr(>|z|)    \n",
       "(Intercept)      1.4605     0.1915   7.626 2.43e-14 ***\n",
       "input_logprob    2.2209     0.2229   9.964  < 2e-16 ***\n",
       "output_logprob   0.1372     0.1440   0.953    0.341    \n",
       "---\n",
       "Signif. codes:  0 ‘***’ 0.001 ‘**’ 0.01 ‘*’ 0.05 ‘.’ 0.1 ‘ ’ 1\n",
       "\n",
       "(Dispersion parameter for binomial family taken to be 1)\n",
       "\n",
       "    Null deviance: 505.92  on 399  degrees of freedom\n",
       "Residual deviance: 305.07  on 397  degrees of freedom\n",
       "AIC: 311.07\n",
       "\n",
       "Number of Fisher Scoring iterations: 6\n"
      ]
     },
     "metadata": {},
     "output_type": "display_data"
    }
   ],
   "source": [
    "summary(birthdays_gpt4_model)"
   ]
  },
  {
   "cell_type": "code",
   "execution_count": 282,
   "id": "65429bc9",
   "metadata": {},
   "outputs": [
    {
     "data": {
      "text/plain": [
       "\n",
       "Call:\n",
       "glm(formula = correct ~ input_logprob + output_logprob, family = binomial, \n",
       "    data = scaled_birthdays_gpt35_df)\n",
       "\n",
       "Deviance Residuals: \n",
       "    Min       1Q   Median       3Q      Max  \n",
       "-2.9662  -0.4500   0.1340   0.4589   2.3463  \n",
       "\n",
       "Coefficients:\n",
       "               Estimate Std. Error z value Pr(>|z|)    \n",
       "(Intercept)    0.880415   0.178538   4.931 8.17e-07 ***\n",
       "input_logprob  2.770293   0.258676  10.710  < 2e-16 ***\n",
       "output_logprob 0.001702   0.156567   0.011    0.991    \n",
       "---\n",
       "Signif. codes:  0 ‘***’ 0.001 ‘**’ 0.01 ‘*’ 0.05 ‘.’ 0.1 ‘ ’ 1\n",
       "\n",
       "(Dispersion parameter for binomial family taken to be 1)\n",
       "\n",
       "    Null deviance: 544.23  on 399  degrees of freedom\n",
       "Residual deviance: 261.61  on 397  degrees of freedom\n",
       "AIC: 267.61\n",
       "\n",
       "Number of Fisher Scoring iterations: 6\n"
      ]
     },
     "metadata": {},
     "output_type": "display_data"
    }
   ],
   "source": [
    "summary(birthdays_gpt35_model)"
   ]
  },
  {
   "cell_type": "code",
   "execution_count": 283,
   "id": "7e1885d2",
   "metadata": {},
   "outputs": [
    {
     "data": {
      "text/html": [
       "<style>\n",
       ".dl-inline {width: auto; margin:0; padding: 0}\n",
       ".dl-inline>dt, .dl-inline>dd {float: none; width: auto; display: inline-block}\n",
       ".dl-inline>dt::after {content: \":\\0020\"; padding-right: .5ex}\n",
       ".dl-inline>dt:not(:first-of-type) {padding-left: .5ex}\n",
       "</style><dl class=dl-inline><dt>input_logprob</dt><dd>1.00714282765993</dd><dt>output_logprob</dt><dd>1.00714282765993</dd></dl>\n"
      ],
      "text/latex": [
       "\\begin{description*}\n",
       "\\item[input\\textbackslash{}\\_logprob] 1.00714282765993\n",
       "\\item[output\\textbackslash{}\\_logprob] 1.00714282765993\n",
       "\\end{description*}\n"
      ],
      "text/markdown": [
       "input_logprob\n",
       ":   1.00714282765993output_logprob\n",
       ":   1.00714282765993\n",
       "\n"
      ],
      "text/plain": [
       " input_logprob output_logprob \n",
       "      1.007143       1.007143 "
      ]
     },
     "metadata": {},
     "output_type": "display_data"
    }
   ],
   "source": [
    "vif(birthdays_gpt4_model)"
   ]
  },
  {
   "cell_type": "code",
   "execution_count": 284,
   "id": "5c1357d6",
   "metadata": {},
   "outputs": [
    {
     "data": {
      "text/html": [
       "<style>\n",
       ".dl-inline {width: auto; margin:0; padding: 0}\n",
       ".dl-inline>dt, .dl-inline>dd {float: none; width: auto; display: inline-block}\n",
       ".dl-inline>dt::after {content: \":\\0020\"; padding-right: .5ex}\n",
       ".dl-inline>dt:not(:first-of-type) {padding-left: .5ex}\n",
       "</style><dl class=dl-inline><dt>input_logprob</dt><dd>1.00009015921358</dd><dt>output_logprob</dt><dd>1.00009015921358</dd></dl>\n"
      ],
      "text/latex": [
       "\\begin{description*}\n",
       "\\item[input\\textbackslash{}\\_logprob] 1.00009015921358\n",
       "\\item[output\\textbackslash{}\\_logprob] 1.00009015921358\n",
       "\\end{description*}\n"
      ],
      "text/markdown": [
       "input_logprob\n",
       ":   1.00009015921358output_logprob\n",
       ":   1.00009015921358\n",
       "\n"
      ],
      "text/plain": [
       " input_logprob output_logprob \n",
       "       1.00009        1.00009 "
      ]
     },
     "metadata": {},
     "output_type": "display_data"
    }
   ],
   "source": [
    "vif(birthdays_gpt35_model)"
   ]
  },
  {
   "cell_type": "code",
   "execution_count": null,
   "id": "c80b16e4",
   "metadata": {},
   "outputs": [],
   "source": []
  },
  {
   "cell_type": "code",
   "execution_count": null,
   "id": "f3783d02",
   "metadata": {},
   "outputs": [],
   "source": []
  },
  {
   "cell_type": "code",
   "execution_count": null,
   "id": "e2b8e0dc",
   "metadata": {},
   "outputs": [],
   "source": []
  },
  {
   "cell_type": "code",
   "execution_count": null,
   "id": "27baab78",
   "metadata": {},
   "outputs": [],
   "source": []
  },
  {
   "cell_type": "code",
   "execution_count": null,
   "id": "44d0c478",
   "metadata": {},
   "outputs": [],
   "source": []
  },
  {
   "cell_type": "code",
   "execution_count": null,
   "id": "2382873f",
   "metadata": {},
   "outputs": [],
   "source": []
  },
  {
   "cell_type": "code",
   "execution_count": null,
   "id": "2115c024",
   "metadata": {},
   "outputs": [],
   "source": []
  },
  {
   "cell_type": "code",
   "execution_count": null,
   "id": "a95c0292",
   "metadata": {},
   "outputs": [],
   "source": []
  },
  {
   "cell_type": "code",
   "execution_count": null,
   "id": "d9afa7f0",
   "metadata": {},
   "outputs": [],
   "source": []
  },
  {
   "cell_type": "code",
   "execution_count": null,
   "id": "4db0e74e",
   "metadata": {},
   "outputs": [],
   "source": []
  },
  {
   "cell_type": "code",
   "execution_count": null,
   "id": "b03a5c34",
   "metadata": {},
   "outputs": [],
   "source": []
  },
  {
   "cell_type": "code",
   "execution_count": null,
   "id": "6753aef5",
   "metadata": {},
   "outputs": [],
   "source": []
  },
  {
   "cell_type": "code",
   "execution_count": null,
   "id": "979727dc",
   "metadata": {},
   "outputs": [],
   "source": []
  },
  {
   "cell_type": "code",
   "execution_count": null,
   "id": "15e5df3e",
   "metadata": {},
   "outputs": [],
   "source": []
  },
  {
   "cell_type": "code",
   "execution_count": null,
   "id": "66987c65",
   "metadata": {},
   "outputs": [],
   "source": []
  },
  {
   "cell_type": "code",
   "execution_count": null,
   "id": "d22f3a57",
   "metadata": {},
   "outputs": [],
   "source": []
  },
  {
   "cell_type": "code",
   "execution_count": null,
   "id": "25cbc1ff",
   "metadata": {},
   "outputs": [],
   "source": []
  },
  {
   "cell_type": "code",
   "execution_count": null,
   "id": "44454e26",
   "metadata": {},
   "outputs": [],
   "source": []
  },
  {
   "cell_type": "code",
   "execution_count": null,
   "id": "2fecd470",
   "metadata": {},
   "outputs": [],
   "source": []
  },
  {
   "cell_type": "code",
   "execution_count": null,
   "id": "963f31c8",
   "metadata": {},
   "outputs": [],
   "source": []
  },
  {
   "cell_type": "code",
   "execution_count": null,
   "id": "553a8ea6",
   "metadata": {},
   "outputs": [],
   "source": []
  },
  {
   "cell_type": "code",
   "execution_count": null,
   "id": "808031b1",
   "metadata": {},
   "outputs": [],
   "source": []
  },
  {
   "cell_type": "code",
   "execution_count": null,
   "id": "caf43479",
   "metadata": {},
   "outputs": [],
   "source": []
  },
  {
   "cell_type": "code",
   "execution_count": null,
   "id": "b2c9e88f",
   "metadata": {},
   "outputs": [],
   "source": []
  },
  {
   "cell_type": "code",
   "execution_count": null,
   "id": "d366ec87",
   "metadata": {},
   "outputs": [],
   "source": []
  },
  {
   "cell_type": "code",
   "execution_count": null,
   "id": "036ae946",
   "metadata": {},
   "outputs": [],
   "source": []
  },
  {
   "cell_type": "code",
   "execution_count": null,
   "id": "a8e811a0",
   "metadata": {},
   "outputs": [],
   "source": []
  },
  {
   "cell_type": "code",
   "execution_count": null,
   "id": "7d58c0d3",
   "metadata": {},
   "outputs": [],
   "source": []
  },
  {
   "cell_type": "code",
   "execution_count": null,
   "id": "917324c9",
   "metadata": {},
   "outputs": [],
   "source": []
  },
  {
   "cell_type": "code",
   "execution_count": null,
   "id": "dd4b985d",
   "metadata": {},
   "outputs": [],
   "source": []
  },
  {
   "cell_type": "code",
   "execution_count": null,
   "id": "cbfe5d3d",
   "metadata": {},
   "outputs": [],
   "source": []
  }
 ],
 "metadata": {
  "kernelspec": {
   "display_name": "R",
   "language": "R",
   "name": "ir"
  },
  "language_info": {
   "codemirror_mode": "r",
   "file_extension": ".r",
   "mimetype": "text/x-r-source",
   "name": "R",
   "pygments_lexer": "r",
   "version": "4.1.3"
  }
 },
 "nbformat": 4,
 "nbformat_minor": 5
}
