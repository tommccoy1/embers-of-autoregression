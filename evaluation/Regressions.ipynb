{
 "cells": [
  {
   "cell_type": "code",
   "execution_count": 1,
   "id": "8b1926ed",
   "metadata": {},
   "outputs": [
    {
     "name": "stderr",
     "output_type": "stream",
     "text": [
      "Loading required package: Matrix\n",
      "\n",
      "\n",
      "Attaching package: ‘psycho’\n",
      "\n",
      "\n",
      "The following object is masked from ‘package:lme4’:\n",
      "\n",
      "    golden\n",
      "\n",
      "\n",
      "Loaded glmnet 4.1-7\n",
      "\n",
      "Loading required package: carData\n",
      "\n"
     ]
    }
   ],
   "source": [
    "# Might need to install arm - if so, uncomment the following line\n",
    "#install.packages(\"arm\")\n",
    "library(arm)\n",
    "library(lme4)\n",
    "library(blme)\n",
    "library(ggplot2)\n",
    "library(stringr)\n",
    "library(psycho)\n",
    "library(glmnet)\n",
    "library(car)"
   ]
  },
  {
   "cell_type": "code",
   "execution_count": 2,
   "id": "36dab03d",
   "metadata": {},
   "outputs": [],
   "source": [
    "# Set ggplot theme\n",
    "base_size <- 20\n",
    "theme_set(theme_bw(base_size=base_size) +\n",
    "            theme(#panel.grid.major=element_blank(),\n",
    "              panel.grid.minor=element_blank(),\n",
    "              axis.title.y=element_text(angle=90,vjust=0.5),\n",
    "              axis.text.x=element_text(angle=0, hjust=0.5),\n",
    "              axis.title.x=element_blank()))"
   ]
  },
  {
   "cell_type": "code",
   "execution_count": 3,
   "id": "4d9640e0",
   "metadata": {},
   "outputs": [],
   "source": [
    "correct_vs_length_and_prob <- function(df, include_output_chars=TRUE, include_input_chars=TRUE){\n",
    " \n",
    "    \n",
    "    if (include_output_chars & include_input_chars){\n",
    "        model <- glm(correct ~ input_logprob + output_logprob + input_ntokens + output_ntokens + input_nchars + output_nchars, \n",
    "               data=df, family=binomial)\n",
    "    } else if (include_output_chars & !include_input_chars){\n",
    "        model <- glm(correct ~ input_logprob + output_logprob + input_ntokens + output_ntokens + output_nchars, \n",
    "               data=df, family=binomial)\n",
    "    } else if (!include_output_chars & include_input_chars){\n",
    "        model <- glm(correct ~ input_logprob + output_logprob + input_ntokens + output_ntokens + input_nchars, \n",
    "               data=df, family=binomial)\n",
    "    }\n",
    "  \n",
    "    \n",
    "  return(model)\n",
    "}"
   ]
  },
  {
   "cell_type": "code",
   "execution_count": 274,
   "id": "6a048369",
   "metadata": {},
   "outputs": [],
   "source": [
    "# For Z-scoring datasets\n",
    "\n",
    "scale_df <- function(df) {\n",
    "    new_df <- data.frame(scale(df[2:7]))\n",
    "    new_df$index <- as.factor(df$index)\n",
    "    new_df$correct <- df$correct\n",
    "    \n",
    "    return(new_df)\n",
    "}\n",
    "\n",
    "scale_taskpair_df <- function(df) {\n",
    "    new_df <- data.frame(scale(df[3:8]))\n",
    "    new_df$index <- as.factor(df$index)\n",
    "    new_df$task <- as.factor(df$task)\n",
    "    new_df$correct <- df$correct\n",
    "    \n",
    "    return(new_df)\n",
    "}\n",
    "\n",
    "scale_taskpair_prob_df <- function(df) {\n",
    "    new_df <- data.frame(scale(df[2:8]))\n",
    "    new_df$index <- as.factor(df$index)\n",
    "    new_df$correct <- df$correct\n",
    "    \n",
    "    return(new_df)\n",
    "}\n",
    "\n",
    "\n",
    "\n",
    "scale_df_with_index <- function(df) {\n",
    "    new_df <- data.frame(scale(df[1:7]))\n",
    "    new_df$correct <- df$correct\n",
    "    \n",
    "    return(new_df)\n",
    "}"
   ]
  },
  {
   "cell_type": "code",
   "execution_count": null,
   "id": "4a320a61",
   "metadata": {},
   "outputs": [],
   "source": []
  },
  {
   "cell_type": "code",
   "execution_count": null,
   "id": "6512c292",
   "metadata": {},
   "outputs": [],
   "source": []
  },
  {
   "cell_type": "markdown",
   "id": "604fbe21",
   "metadata": {},
   "source": [
    "# Shift ciphers"
   ]
  },
  {
   "cell_type": "code",
   "execution_count": 5,
   "id": "3e482cf2",
   "metadata": {},
   "outputs": [],
   "source": [
    "# Read in data\n",
    "rot13enc_gpt4_df <- read.table(file = 'table_rot13enc_gpt-4.tsv', sep = '\\t', header = TRUE)\n",
    "rot13enc_gpt35_df <- read.table(file = 'table_rot13enc_gpt-3.5-turbo.tsv', sep = '\\t', header = TRUE)\n",
    "\n",
    "rot13dec_gpt4_df <- read.table(file = 'table_rot13dec_gpt-4.tsv', sep = '\\t', header = TRUE)\n",
    "rot13dec_gpt35_df <- read.table(file = 'table_rot13dec_gpt-3.5-turbo.tsv', sep = '\\t', header = TRUE)"
   ]
  },
  {
   "cell_type": "code",
   "execution_count": 6,
   "id": "95bf6bff",
   "metadata": {},
   "outputs": [],
   "source": [
    "# Z-score data\n",
    "scaled_rot13enc_gpt4_df <- scale_df(rot13enc_gpt4_df)\n",
    "scaled_rot13enc_gpt35_df <- scale_df(rot13enc_gpt35_df)\n",
    "\n",
    "scaled_rot13dec_gpt4_df <- scale_df(rot13dec_gpt4_df)\n",
    "scaled_rot13dec_gpt35_df <- scale_df(rot13dec_gpt35_df)\n"
   ]
  },
  {
   "cell_type": "code",
   "execution_count": 7,
   "id": "1c317871",
   "metadata": {},
   "outputs": [
    {
     "name": "stderr",
     "output_type": "stream",
     "text": [
      "Warning message:\n",
      "“glm.fit: fitted probabilities numerically 0 or 1 occurred”\n"
     ]
    }
   ],
   "source": [
    "\n",
    "rot13enc_gpt4_model <- correct_vs_length_and_prob(scaled_rot13enc_gpt4_df, include_output_chars=FALSE)\n",
    "rot13enc_gpt35_model <- correct_vs_length_and_prob(scaled_rot13enc_gpt35_df, include_output_chars=FALSE)\n",
    "\n",
    "rot13dec_gpt4_model <- correct_vs_length_and_prob(scaled_rot13dec_gpt4_df, include_output_chars=FALSE)\n",
    "rot13dec_gpt35_model <- correct_vs_length_and_prob(scaled_rot13dec_gpt35_df, include_output_chars=FALSE)"
   ]
  },
  {
   "cell_type": "code",
   "execution_count": 8,
   "id": "a7917df3",
   "metadata": {},
   "outputs": [
    {
     "data": {
      "text/plain": [
       "\n",
       "Call:\n",
       "glm(formula = correct ~ input_logprob + output_logprob + input_ntokens + \n",
       "    output_ntokens + input_nchars, family = binomial, data = df)\n",
       "\n",
       "Deviance Residuals: \n",
       "     Min        1Q    Median        3Q       Max  \n",
       "-2.06663  -0.44366  -0.14606  -0.01354   2.97169  \n",
       "\n",
       "Coefficients:\n",
       "               Estimate Std. Error z value Pr(>|z|)    \n",
       "(Intercept)     -4.1193     0.5713  -7.211 5.57e-13 ***\n",
       "input_logprob    1.2158     0.4594   2.646  0.00814 ** \n",
       "output_logprob   7.0316     3.1573   2.227  0.02594 *  \n",
       "input_ntokens    2.9504     0.9824   3.003  0.00267 ** \n",
       "output_ntokens  -1.5485     2.5145  -0.616  0.53802    \n",
       "input_nchars     3.0854     3.3378   0.924  0.35529    \n",
       "---\n",
       "Signif. codes:  0 ‘***’ 0.001 ‘**’ 0.01 ‘*’ 0.05 ‘.’ 0.1 ‘ ’ 1\n",
       "\n",
       "(Dispersion parameter for binomial family taken to be 1)\n",
       "\n",
       "    Null deviance: 246.58  on 299  degrees of freedom\n",
       "Residual deviance: 156.14  on 294  degrees of freedom\n",
       "AIC: 168.14\n",
       "\n",
       "Number of Fisher Scoring iterations: 7\n"
      ]
     },
     "metadata": {},
     "output_type": "display_data"
    }
   ],
   "source": [
    "summary(rot13enc_gpt4_model)"
   ]
  },
  {
   "cell_type": "code",
   "execution_count": 9,
   "id": "722d1124",
   "metadata": {},
   "outputs": [
    {
     "data": {
      "text/plain": [
       "\n",
       "Call:\n",
       "glm(formula = correct ~ input_logprob + output_logprob + input_ntokens + \n",
       "    output_ntokens + input_nchars, family = binomial, data = df)\n",
       "\n",
       "Deviance Residuals: \n",
       "     Min        1Q    Median        3Q       Max  \n",
       "-1.28769  -0.08616  -0.01909  -0.00030   3.10549  \n",
       "\n",
       "Coefficients:\n",
       "               Estimate Std. Error z value Pr(>|z|)    \n",
       "(Intercept)    -10.7542     2.5495  -4.218 2.46e-05 ***\n",
       "input_logprob   -0.2191     1.0850  -0.202   0.8399    \n",
       "output_logprob  19.6737     9.8166   2.004   0.0451 *  \n",
       "input_ntokens    4.3058     2.6034   1.654   0.0982 .  \n",
       "output_ntokens   4.5089     7.3753   0.611   0.5410    \n",
       "input_nchars     3.5266     8.5951   0.410   0.6816    \n",
       "---\n",
       "Signif. codes:  0 ‘***’ 0.001 ‘**’ 0.01 ‘*’ 0.05 ‘.’ 0.1 ‘ ’ 1\n",
       "\n",
       "(Dispersion parameter for binomial family taken to be 1)\n",
       "\n",
       "    Null deviance: 80.845  on 299  degrees of freedom\n",
       "Residual deviance: 37.569  on 294  degrees of freedom\n",
       "AIC: 49.569\n",
       "\n",
       "Number of Fisher Scoring iterations: 10\n"
      ]
     },
     "metadata": {},
     "output_type": "display_data"
    }
   ],
   "source": [
    "summary(rot13enc_gpt35_model)"
   ]
  },
  {
   "cell_type": "code",
   "execution_count": 10,
   "id": "6cd18b63",
   "metadata": {},
   "outputs": [
    {
     "data": {
      "text/plain": [
       "\n",
       "Call:\n",
       "glm(formula = correct ~ input_logprob + output_logprob + input_ntokens + \n",
       "    output_ntokens + input_nchars, family = binomial, data = df)\n",
       "\n",
       "Deviance Residuals: \n",
       "    Min       1Q   Median       3Q      Max  \n",
       "-1.4640  -0.8038  -0.4112   0.8902   2.5726  \n",
       "\n",
       "Coefficients:\n",
       "               Estimate Std. Error z value Pr(>|z|)    \n",
       "(Intercept)     -1.4509     0.1977  -7.340 2.13e-13 ***\n",
       "input_logprob    1.4829     1.7607   0.842   0.3996    \n",
       "output_logprob   1.7068     0.3173   5.380 7.46e-08 ***\n",
       "input_ntokens   -3.0153     1.6183  -1.863   0.0624 .  \n",
       "output_ntokens   0.5686     0.6128   0.928   0.3535    \n",
       "input_nchars     4.0308     2.1224   1.899   0.0575 .  \n",
       "---\n",
       "Signif. codes:  0 ‘***’ 0.001 ‘**’ 0.01 ‘*’ 0.05 ‘.’ 0.1 ‘ ’ 1\n",
       "\n",
       "(Dispersion parameter for binomial family taken to be 1)\n",
       "\n",
       "    Null deviance: 357.64  on 299  degrees of freedom\n",
       "Residual deviance: 285.30  on 294  degrees of freedom\n",
       "AIC: 297.3\n",
       "\n",
       "Number of Fisher Scoring iterations: 6\n"
      ]
     },
     "metadata": {},
     "output_type": "display_data"
    }
   ],
   "source": [
    "summary(rot13dec_gpt4_model)"
   ]
  },
  {
   "cell_type": "code",
   "execution_count": 11,
   "id": "f40af29f",
   "metadata": {},
   "outputs": [
    {
     "data": {
      "text/plain": [
       "\n",
       "Call:\n",
       "glm(formula = correct ~ input_logprob + output_logprob + input_ntokens + \n",
       "    output_ntokens + input_nchars, family = binomial, data = df)\n",
       "\n",
       "Deviance Residuals: \n",
       "     Min        1Q    Median        3Q       Max  \n",
       "-1.44662  -0.32654  -0.10349  -0.01189   2.92757  \n",
       "\n",
       "Coefficients:\n",
       "               Estimate Std. Error z value Pr(>|z|)    \n",
       "(Intercept)     -5.0436     0.7792  -6.473 9.62e-11 ***\n",
       "input_logprob    3.2597     3.3367   0.977   0.3286    \n",
       "output_logprob   3.8136     0.8978   4.247 2.16e-05 ***\n",
       "input_ntokens   -5.2379     2.7949  -1.874   0.0609 .  \n",
       "output_ntokens   2.4683     1.0515   2.347   0.0189 *  \n",
       "input_nchars     5.5853     3.6081   1.548   0.1216    \n",
       "---\n",
       "Signif. codes:  0 ‘***’ 0.001 ‘**’ 0.01 ‘*’ 0.05 ‘.’ 0.1 ‘ ’ 1\n",
       "\n",
       "(Dispersion parameter for binomial family taken to be 1)\n",
       "\n",
       "    Null deviance: 203.69  on 299  degrees of freedom\n",
       "Residual deviance: 125.76  on 294  degrees of freedom\n",
       "AIC: 137.76\n",
       "\n",
       "Number of Fisher Scoring iterations: 8\n"
      ]
     },
     "metadata": {},
     "output_type": "display_data"
    }
   ],
   "source": [
    "summary(rot13dec_gpt35_model)"
   ]
  },
  {
   "cell_type": "code",
   "execution_count": 12,
   "id": "3704cf9f",
   "metadata": {},
   "outputs": [
    {
     "data": {
      "text/html": [
       "<style>\n",
       ".dl-inline {width: auto; margin:0; padding: 0}\n",
       ".dl-inline>dt, .dl-inline>dd {float: none; width: auto; display: inline-block}\n",
       ".dl-inline>dt::after {content: \":\\0020\"; padding-right: .5ex}\n",
       ".dl-inline>dt:not(:first-of-type) {padding-left: .5ex}\n",
       "</style><dl class=dl-inline><dt>input_logprob</dt><dd>1.13060028460815</dd><dt>output_logprob</dt><dd>39.2999881540218</dd><dt>input_ntokens</dt><dd>8.65403820671995</dd><dt>output_ntokens</dt><dd>29.877453052741</dd><dt>input_nchars</dt><dd>52.790918043775</dd></dl>\n"
      ],
      "text/latex": [
       "\\begin{description*}\n",
       "\\item[input\\textbackslash{}\\_logprob] 1.13060028460815\n",
       "\\item[output\\textbackslash{}\\_logprob] 39.2999881540218\n",
       "\\item[input\\textbackslash{}\\_ntokens] 8.65403820671995\n",
       "\\item[output\\textbackslash{}\\_ntokens] 29.877453052741\n",
       "\\item[input\\textbackslash{}\\_nchars] 52.790918043775\n",
       "\\end{description*}\n"
      ],
      "text/markdown": [
       "input_logprob\n",
       ":   1.13060028460815output_logprob\n",
       ":   39.2999881540218input_ntokens\n",
       ":   8.65403820671995output_ntokens\n",
       ":   29.877453052741input_nchars\n",
       ":   52.790918043775\n",
       "\n"
      ],
      "text/plain": [
       " input_logprob output_logprob  input_ntokens output_ntokens   input_nchars \n",
       "      1.130600      39.299988       8.654038      29.877453      52.790918 "
      ]
     },
     "metadata": {},
     "output_type": "display_data"
    }
   ],
   "source": [
    "vif(rot13enc_gpt4_model)"
   ]
  },
  {
   "cell_type": "code",
   "execution_count": 13,
   "id": "a65d8fee",
   "metadata": {},
   "outputs": [
    {
     "data": {
      "text/html": [
       "<style>\n",
       ".dl-inline {width: auto; margin:0; padding: 0}\n",
       ".dl-inline>dt, .dl-inline>dd {float: none; width: auto; display: inline-block}\n",
       ".dl-inline>dt::after {content: \":\\0020\"; padding-right: .5ex}\n",
       ".dl-inline>dt:not(:first-of-type) {padding-left: .5ex}\n",
       "</style><dl class=dl-inline><dt>input_logprob</dt><dd>1.25639002821856</dd><dt>output_logprob</dt><dd>43.2090143352466</dd><dt>input_ntokens</dt><dd>7.38310220068426</dd><dt>output_ntokens</dt><dd>30.0322450340358</dd><dt>input_nchars</dt><dd>48.2725620183424</dd></dl>\n"
      ],
      "text/latex": [
       "\\begin{description*}\n",
       "\\item[input\\textbackslash{}\\_logprob] 1.25639002821856\n",
       "\\item[output\\textbackslash{}\\_logprob] 43.2090143352466\n",
       "\\item[input\\textbackslash{}\\_ntokens] 7.38310220068426\n",
       "\\item[output\\textbackslash{}\\_ntokens] 30.0322450340358\n",
       "\\item[input\\textbackslash{}\\_nchars] 48.2725620183424\n",
       "\\end{description*}\n"
      ],
      "text/markdown": [
       "input_logprob\n",
       ":   1.25639002821856output_logprob\n",
       ":   43.2090143352466input_ntokens\n",
       ":   7.38310220068426output_ntokens\n",
       ":   30.0322450340358input_nchars\n",
       ":   48.2725620183424\n",
       "\n"
      ],
      "text/plain": [
       " input_logprob output_logprob  input_ntokens output_ntokens   input_nchars \n",
       "      1.256390      43.209014       7.383102      30.032245      48.272562 "
      ]
     },
     "metadata": {},
     "output_type": "display_data"
    }
   ],
   "source": [
    "vif(rot13enc_gpt35_model)"
   ]
  },
  {
   "cell_type": "code",
   "execution_count": 14,
   "id": "1c376d62",
   "metadata": {},
   "outputs": [
    {
     "data": {
      "text/html": [
       "<style>\n",
       ".dl-inline {width: auto; margin:0; padding: 0}\n",
       ".dl-inline>dt, .dl-inline>dd {float: none; width: auto; display: inline-block}\n",
       ".dl-inline>dt::after {content: \":\\0020\"; padding-right: .5ex}\n",
       ".dl-inline>dt:not(:first-of-type) {padding-left: .5ex}\n",
       "</style><dl class=dl-inline><dt>input_logprob</dt><dd>97.9008021734459</dd><dt>output_logprob</dt><dd>1.38998564571739</dd><dt>input_ntokens</dt><dd>83.241864775906</dd><dt>output_ntokens</dt><dd>13.5951958508497</dd><dt>input_nchars</dt><dd>146.200936176301</dd></dl>\n"
      ],
      "text/latex": [
       "\\begin{description*}\n",
       "\\item[input\\textbackslash{}\\_logprob] 97.9008021734459\n",
       "\\item[output\\textbackslash{}\\_logprob] 1.38998564571739\n",
       "\\item[input\\textbackslash{}\\_ntokens] 83.241864775906\n",
       "\\item[output\\textbackslash{}\\_ntokens] 13.5951958508497\n",
       "\\item[input\\textbackslash{}\\_nchars] 146.200936176301\n",
       "\\end{description*}\n"
      ],
      "text/markdown": [
       "input_logprob\n",
       ":   97.9008021734459output_logprob\n",
       ":   1.38998564571739input_ntokens\n",
       ":   83.241864775906output_ntokens\n",
       ":   13.5951958508497input_nchars\n",
       ":   146.200936176301\n",
       "\n"
      ],
      "text/plain": [
       " input_logprob output_logprob  input_ntokens output_ntokens   input_nchars \n",
       "     97.900802       1.389986      83.241865      13.595196     146.200936 "
      ]
     },
     "metadata": {},
     "output_type": "display_data"
    }
   ],
   "source": [
    "vif(rot13dec_gpt4_model)"
   ]
  },
  {
   "cell_type": "code",
   "execution_count": 15,
   "id": "83d345e3",
   "metadata": {},
   "outputs": [
    {
     "data": {
      "text/html": [
       "<style>\n",
       ".dl-inline {width: auto; margin:0; padding: 0}\n",
       ".dl-inline>dt, .dl-inline>dd {float: none; width: auto; display: inline-block}\n",
       ".dl-inline>dt::after {content: \":\\0020\"; padding-right: .5ex}\n",
       ".dl-inline>dt:not(:first-of-type) {padding-left: .5ex}\n",
       "</style><dl class=dl-inline><dt>input_logprob</dt><dd>57.7593618892859</dd><dt>output_logprob</dt><dd>1.36501824362838</dd><dt>input_ntokens</dt><dd>42.0213121980875</dd><dt>output_ntokens</dt><dd>9.27721323318939</dd><dt>input_nchars</dt><dd>74.9922639156847</dd></dl>\n"
      ],
      "text/latex": [
       "\\begin{description*}\n",
       "\\item[input\\textbackslash{}\\_logprob] 57.7593618892859\n",
       "\\item[output\\textbackslash{}\\_logprob] 1.36501824362838\n",
       "\\item[input\\textbackslash{}\\_ntokens] 42.0213121980875\n",
       "\\item[output\\textbackslash{}\\_ntokens] 9.27721323318939\n",
       "\\item[input\\textbackslash{}\\_nchars] 74.9922639156847\n",
       "\\end{description*}\n"
      ],
      "text/markdown": [
       "input_logprob\n",
       ":   57.7593618892859output_logprob\n",
       ":   1.36501824362838input_ntokens\n",
       ":   42.0213121980875output_ntokens\n",
       ":   9.27721323318939input_nchars\n",
       ":   74.9922639156847\n",
       "\n"
      ],
      "text/plain": [
       " input_logprob output_logprob  input_ntokens output_ntokens   input_nchars \n",
       "     57.759362       1.365018      42.021312       9.277213      74.992264 "
      ]
     },
     "metadata": {},
     "output_type": "display_data"
    }
   ],
   "source": [
    "vif(rot13dec_gpt35_model)"
   ]
  },
  {
   "cell_type": "code",
   "execution_count": null,
   "id": "1e325817",
   "metadata": {},
   "outputs": [],
   "source": []
  },
  {
   "cell_type": "markdown",
   "id": "50ff206c",
   "metadata": {},
   "source": [
    "### Distance as output"
   ]
  },
  {
   "cell_type": "code",
   "execution_count": 16,
   "id": "fc7deeb0",
   "metadata": {},
   "outputs": [],
   "source": [
    "# Read in data\n",
    "rot13encdist_gpt4_df <- read.table(file = 'table_rot13enc_gpt-4_dist.tsv', sep = '\\t', header = TRUE)\n",
    "rot13encdist_gpt35_df <- read.table(file = 'table_rot13enc_gpt-3.5-turbo_dist.tsv', sep = '\\t', header = TRUE)"
   ]
  },
  {
   "cell_type": "code",
   "execution_count": 17,
   "id": "86c0068b",
   "metadata": {},
   "outputs": [],
   "source": [
    "# Get rid of \"correct\"\n",
    "rot13encdist_gpt4_df <- rot13encdist_gpt4_df[,-c(1,8)]\n",
    "rot13encdist_gpt35_df <- rot13encdist_gpt35_df[,-c(1,8)]\n",
    "\n",
    "# Scale\n",
    "rot13encdist_gpt4_df <- data.frame(scale(rot13encdist_gpt4_df))\n",
    "rot13encdist_gpt35_df <- data.frame(scale(rot13encdist_gpt35_df))"
   ]
  },
  {
   "cell_type": "code",
   "execution_count": 19,
   "id": "67eb1037",
   "metadata": {},
   "outputs": [],
   "source": [
    "model_dist4 <- glm(distance ~ input_logprob + output_logprob + input_ntokens + output_ntokens + input_nchars, \n",
    "               data=rot13encdist_gpt4_df)\n",
    "model_dist35 <- glm(distance ~ input_logprob + output_logprob + input_ntokens + output_ntokens + input_nchars, \n",
    "               data=rot13encdist_gpt35_df)"
   ]
  },
  {
   "cell_type": "code",
   "execution_count": 20,
   "id": "765b299f",
   "metadata": {},
   "outputs": [
    {
     "data": {
      "text/plain": [
       "\n",
       "Call:\n",
       "glm(formula = distance ~ input_logprob + output_logprob + input_ntokens + \n",
       "    output_ntokens + input_nchars, data = rot13encdist_gpt4_df)\n",
       "\n",
       "Deviance Residuals: \n",
       "     Min        1Q    Median        3Q       Max  \n",
       "-1.68257  -0.33897  -0.02941   0.30112   1.84476  \n",
       "\n",
       "Coefficients:\n",
       "                 Estimate Std. Error t value Pr(>|t|)    \n",
       "(Intercept)    -2.154e-16  3.249e-02   0.000 1.000000    \n",
       "input_logprob  -1.267e-01  4.416e-02  -2.870 0.004400 ** \n",
       "output_logprob -4.197e-02  3.234e-01  -0.130 0.896813    \n",
       "input_ntokens  -1.169e+00  1.215e-01  -9.622  < 2e-16 ***\n",
       "output_ntokens  1.270e+00  3.278e-01   3.874 0.000132 ***\n",
       "input_nchars    4.705e-01  4.318e-01   1.090 0.276816    \n",
       "---\n",
       "Signif. codes:  0 ‘***’ 0.001 ‘**’ 0.01 ‘*’ 0.05 ‘.’ 0.1 ‘ ’ 1\n",
       "\n",
       "(Dispersion parameter for gaussian family taken to be 0.3166029)\n",
       "\n",
       "    Null deviance: 299.000  on 299  degrees of freedom\n",
       "Residual deviance:  93.081  on 294  degrees of freedom\n",
       "AIC: 514.27\n",
       "\n",
       "Number of Fisher Scoring iterations: 2\n"
      ]
     },
     "metadata": {},
     "output_type": "display_data"
    }
   ],
   "source": [
    "summary(model_dist4)"
   ]
  },
  {
   "cell_type": "code",
   "execution_count": 21,
   "id": "3da9339c",
   "metadata": {},
   "outputs": [
    {
     "data": {
      "text/plain": [
       "\n",
       "Call:\n",
       "glm(formula = distance ~ input_logprob + output_logprob + input_ntokens + \n",
       "    output_ntokens + input_nchars, data = rot13encdist_gpt35_df)\n",
       "\n",
       "Deviance Residuals: \n",
       "    Min       1Q   Median       3Q      Max  \n",
       "-1.1626  -0.2882  -0.0866   0.1133  10.7318  \n",
       "\n",
       "Coefficients:\n",
       "                 Estimate Std. Error t value Pr(>|t|)   \n",
       "(Intercept)    -9.047e-17  4.855e-02   0.000  1.00000   \n",
       "input_logprob  -2.171e-01  6.600e-02  -3.290  0.00112 **\n",
       "output_logprob -1.539e-01  4.833e-01  -0.318  0.75043   \n",
       "input_ntokens  -5.903e-01  1.816e-01  -3.251  0.00128 **\n",
       "output_ntokens -1.081e-01  4.899e-01  -0.221  0.82552   \n",
       "input_nchars    8.754e-01  6.454e-01   1.356  0.17601   \n",
       "---\n",
       "Signif. codes:  0 ‘***’ 0.001 ‘**’ 0.01 ‘*’ 0.05 ‘.’ 0.1 ‘ ’ 1\n",
       "\n",
       "(Dispersion parameter for gaussian family taken to be 0.707216)\n",
       "\n",
       "    Null deviance: 299.00  on 299  degrees of freedom\n",
       "Residual deviance: 207.92  on 294  degrees of freedom\n",
       "AIC: 755.38\n",
       "\n",
       "Number of Fisher Scoring iterations: 2\n"
      ]
     },
     "metadata": {},
     "output_type": "display_data"
    }
   ],
   "source": [
    "summary(model_dist35)"
   ]
  },
  {
   "cell_type": "code",
   "execution_count": null,
   "id": "821769fe",
   "metadata": {},
   "outputs": [],
   "source": []
  },
  {
   "cell_type": "markdown",
   "id": "4097dd45",
   "metadata": {},
   "source": [
    "### Comparing rot-2 to rot-13"
   ]
  },
  {
   "cell_type": "code",
   "execution_count": 200,
   "id": "7d5c830e",
   "metadata": {},
   "outputs": [],
   "source": [
    "# Read in data\n",
    "rot13and2enc_gpt4_df <- read.table(file = 'table_rot13and2enc_gpt-4.tsv', sep = '\\t', header = TRUE)\n",
    "rot13and2enc_gpt35_df <- read.table(file = 'table_rot13and2enc_gpt-3.5-turbo.tsv', sep = '\\t', header = TRUE)\n",
    "\n",
    "rot13and2dec_gpt4_df <- read.table(file = 'table_rot13and2dec_gpt-4.tsv', sep = '\\t', header = TRUE)\n",
    "rot13and2dec_gpt35_df <- read.table(file = 'table_rot13and2dec_gpt-3.5-turbo.tsv', sep = '\\t', header = TRUE)"
   ]
  },
  {
   "cell_type": "code",
   "execution_count": 201,
   "id": "2203fab9",
   "metadata": {},
   "outputs": [],
   "source": [
    "# Z-score data\n",
    "scaled_rot13and2enc_gpt4_df <- scale_taskpair_df(rot13and2enc_gpt4_df)\n",
    "scaled_rot13and2enc_gpt35_df <- scale_taskpair_df(rot13and2enc_gpt35_df)\n",
    "\n",
    "scaled_rot13and2dec_gpt4_df <- scale_taskpair_df(rot13and2dec_gpt4_df)\n",
    "scaled_rot13and2dec_gpt35_df <- scale_taskpair_df(rot13and2dec_gpt35_df)\n"
   ]
  },
  {
   "cell_type": "code",
   "execution_count": 214,
   "id": "f3c86814",
   "metadata": {},
   "outputs": [],
   "source": [
    "model_taskenc4 <- bayesglm(correct ~ task + input_nchars + input_ntokens + output_ntokens + input_logprob + output_logprob, \n",
    "               data=scaled_rot13and2enc_gpt4_df, family=binomial)\n"
   ]
  },
  {
   "cell_type": "code",
   "execution_count": 215,
   "id": "c3266b33",
   "metadata": {},
   "outputs": [],
   "source": [
    "model_taskenc35 <- bayesglm(correct ~ task + input_nchars + input_ntokens + output_ntokens + input_logprob + output_logprob, \n",
    "               data=scaled_rot13and2enc_gpt35_df, family=binomial)"
   ]
  },
  {
   "cell_type": "code",
   "execution_count": 216,
   "id": "2830a810",
   "metadata": {},
   "outputs": [],
   "source": [
    "model_taskdec4 <- bayesglm(correct ~ task + input_nchars + input_ntokens + output_ntokens + input_logprob + output_logprob, \n",
    "               data=scaled_rot13and2dec_gpt4_df, family=binomial)"
   ]
  },
  {
   "cell_type": "code",
   "execution_count": 217,
   "id": "975604f6",
   "metadata": {},
   "outputs": [],
   "source": [
    "model_taskdec35 <- bayesglm(correct ~ task + input_nchars + input_ntokens + output_ntokens + input_logprob + output_logprob, \n",
    "               data=scaled_rot13and2dec_gpt35_df, family=binomial)"
   ]
  },
  {
   "cell_type": "code",
   "execution_count": 212,
   "id": "58d4626e",
   "metadata": {},
   "outputs": [
    {
     "data": {
      "text/plain": [
       "\n",
       "Call:\n",
       "bayesglm(formula = correct ~ task + input_nchars + input_ntokens + \n",
       "    output_ntokens + input_logprob + output_logprob, family = binomial, \n",
       "    data = scaled_rot13and2enc_gpt4_df)\n",
       "\n",
       "Deviance Residuals: \n",
       "     Min        1Q    Median        3Q       Max  \n",
       "-1.25996  -0.21828  -0.07806  -0.01271   2.80272  \n",
       "\n",
       "Coefficients:\n",
       "                     Estimate Std. Error z value Pr(>|z|)    \n",
       "(Intercept)          -2.87795    0.60339  -4.770 1.85e-06 ***\n",
       "taskrot2enc_highprob -4.34689    1.55003  -2.804  0.00504 ** \n",
       "input_nchars          0.00124    1.05843   0.001  0.99907    \n",
       "input_ntokens         1.97498    0.87549   2.256  0.02408 *  \n",
       "output_ntokens       -1.08950    1.26502  -0.861  0.38910    \n",
       "input_logprob         0.92065    0.71414   1.289  0.19734    \n",
       "output_logprob        2.60027    1.44862   1.795  0.07265 .  \n",
       "---\n",
       "Signif. codes:  0 ‘***’ 0.001 ‘**’ 0.01 ‘*’ 0.05 ‘.’ 0.1 ‘ ’ 1\n",
       "\n",
       "(Dispersion parameter for binomial family taken to be 1)\n",
       "\n",
       "    Null deviance: 134.373  on 199  degrees of freedom\n",
       "Residual deviance:  67.037  on 193  degrees of freedom\n",
       "AIC: 81.037\n",
       "\n",
       "Number of Fisher Scoring iterations: 58\n"
      ]
     },
     "metadata": {},
     "output_type": "display_data"
    }
   ],
   "source": [
    "summary(model_taskenc4)"
   ]
  },
  {
   "cell_type": "code",
   "execution_count": 218,
   "id": "15cdfdb6",
   "metadata": {},
   "outputs": [
    {
     "data": {
      "text/plain": [
       "\n",
       "Call:\n",
       "bayesglm(formula = correct ~ task + input_nchars + input_ntokens + \n",
       "    output_ntokens + input_logprob + output_logprob, family = binomial, \n",
       "    data = scaled_rot13and2enc_gpt35_df)\n",
       "\n",
       "Deviance Residuals: \n",
       "     Min        1Q    Median        3Q       Max  \n",
       "-0.44232  -0.14866  -0.08226  -0.03545   2.65354  \n",
       "\n",
       "Coefficients:\n",
       "                     Estimate Std. Error z value Pr(>|z|)    \n",
       "(Intercept)           -5.2583     1.4729  -3.570 0.000357 ***\n",
       "taskrot2enc_highprob  -1.5737     1.4743  -1.067 0.285808    \n",
       "input_nchars          -0.5263     1.1338  -0.464 0.642517    \n",
       "input_ntokens          0.2504     1.0285   0.243 0.807675    \n",
       "output_ntokens        -0.3844     1.1247  -0.342 0.732540    \n",
       "input_logprob          0.9301     1.1364   0.818 0.413105    \n",
       "output_logprob         0.5483     1.1348   0.483 0.628938    \n",
       "---\n",
       "Signif. codes:  0 ‘***’ 0.001 ‘**’ 0.01 ‘*’ 0.05 ‘.’ 0.1 ‘ ’ 1\n",
       "\n",
       "(Dispersion parameter for binomial family taken to be 1)\n",
       "\n",
       "    Null deviance: 22.401  on 199  degrees of freedom\n",
       "Residual deviance: 15.575  on 193  degrees of freedom\n",
       "AIC: 29.575\n",
       "\n",
       "Number of Fisher Scoring iterations: 33\n"
      ]
     },
     "metadata": {},
     "output_type": "display_data"
    }
   ],
   "source": [
    "summary(model_taskenc35)"
   ]
  },
  {
   "cell_type": "code",
   "execution_count": 219,
   "id": "b2534e3a",
   "metadata": {},
   "outputs": [
    {
     "data": {
      "text/plain": [
       "\n",
       "Call:\n",
       "bayesglm(formula = correct ~ task + input_nchars + input_ntokens + \n",
       "    output_ntokens + input_logprob + output_logprob, family = binomial, \n",
       "    data = scaled_rot13and2dec_gpt4_df)\n",
       "\n",
       "Deviance Residuals: \n",
       "    Min       1Q   Median       3Q      Max  \n",
       "-1.4273  -0.3833  -0.2060   0.7264   2.7140  \n",
       "\n",
       "Coefficients:\n",
       "                     Estimate Std. Error z value Pr(>|z|)    \n",
       "(Intercept)           -0.2299     0.2493  -0.922   0.3564    \n",
       "taskrot2dec_highprob  -3.6513     0.7045  -5.183 2.19e-07 ***\n",
       "input_nchars           0.5057     0.9219   0.549   0.5833    \n",
       "input_ntokens         -0.6930     0.9403  -0.737   0.4611    \n",
       "output_ntokens         0.7964     0.5920   1.345   0.1785    \n",
       "input_logprob          0.4522     0.8507   0.532   0.5950    \n",
       "output_logprob         0.9671     0.4980   1.942   0.0521 .  \n",
       "---\n",
       "Signif. codes:  0 ‘***’ 0.001 ‘**’ 0.01 ‘*’ 0.05 ‘.’ 0.1 ‘ ’ 1\n",
       "\n",
       "(Dispersion parameter for binomial family taken to be 1)\n",
       "\n",
       "    Null deviance: 227.10  on 199  degrees of freedom\n",
       "Residual deviance: 140.81  on 193  degrees of freedom\n",
       "AIC: 154.81\n",
       "\n",
       "Number of Fisher Scoring iterations: 18\n"
      ]
     },
     "metadata": {},
     "output_type": "display_data"
    }
   ],
   "source": [
    "summary(model_taskdec4)"
   ]
  },
  {
   "cell_type": "code",
   "execution_count": 221,
   "id": "ca44e64a",
   "metadata": {},
   "outputs": [
    {
     "data": {
      "text/plain": [
       "\n",
       "Call:\n",
       "bayesglm(formula = correct ~ task + input_nchars + input_ntokens + \n",
       "    output_ntokens + input_logprob + output_logprob, family = binomial, \n",
       "    data = scaled_rot13and2dec_gpt35_df)\n",
       "\n",
       "Deviance Residuals: \n",
       "     Min        1Q    Median        3Q       Max  \n",
       "-1.30362  -0.24753  -0.08608  -0.01631   2.30323  \n",
       "\n",
       "Coefficients:\n",
       "                     Estimate Std. Error z value Pr(>|z|)    \n",
       "(Intercept)           -2.4093     0.5178  -4.653 3.27e-06 ***\n",
       "taskrot2dec_highprob  -4.6894     1.5828  -2.963  0.00305 ** \n",
       "input_nchars           0.0204     0.9765   0.021  0.98334    \n",
       "input_ntokens         -0.7847     1.0785  -0.728  0.46685    \n",
       "output_ntokens         2.1414     0.8479   2.525  0.01156 *  \n",
       "input_logprob          0.7056     0.9973   0.708  0.47923    \n",
       "output_logprob         2.9299     0.9103   3.219  0.00129 ** \n",
       "---\n",
       "Signif. codes:  0 ‘***’ 0.001 ‘**’ 0.01 ‘*’ 0.05 ‘.’ 0.1 ‘ ’ 1\n",
       "\n",
       "(Dispersion parameter for binomial family taken to be 1)\n",
       "\n",
       "    Null deviance: 142.737  on 199  degrees of freedom\n",
       "Residual deviance:  70.534  on 193  degrees of freedom\n",
       "AIC: 84.534\n",
       "\n",
       "Number of Fisher Scoring iterations: 24\n"
      ]
     },
     "metadata": {},
     "output_type": "display_data"
    }
   ],
   "source": [
    "summary(model_taskdec35)"
   ]
  },
  {
   "cell_type": "code",
   "execution_count": 223,
   "id": "d46d4281",
   "metadata": {},
   "outputs": [
    {
     "data": {
      "text/html": [
       "<style>\n",
       ".dl-inline {width: auto; margin:0; padding: 0}\n",
       ".dl-inline>dt, .dl-inline>dd {float: none; width: auto; display: inline-block}\n",
       ".dl-inline>dt::after {content: \":\\0020\"; padding-right: .5ex}\n",
       ".dl-inline>dt:not(:first-of-type) {padding-left: .5ex}\n",
       "</style><dl class=dl-inline><dt>task</dt><dd>1.01379705814833</dd><dt>input_nchars</dt><dd>3.77069992436779</dd><dt>input_ntokens</dt><dd>3.59525421933258</dd><dt>output_ntokens</dt><dd>4.15792354716933</dd><dt>input_logprob</dt><dd>1.91555615502154</dd><dt>output_logprob</dt><dd>5.24315358049196</dd></dl>\n"
      ],
      "text/latex": [
       "\\begin{description*}\n",
       "\\item[task] 1.01379705814833\n",
       "\\item[input\\textbackslash{}\\_nchars] 3.77069992436779\n",
       "\\item[input\\textbackslash{}\\_ntokens] 3.59525421933258\n",
       "\\item[output\\textbackslash{}\\_ntokens] 4.15792354716933\n",
       "\\item[input\\textbackslash{}\\_logprob] 1.91555615502154\n",
       "\\item[output\\textbackslash{}\\_logprob] 5.24315358049196\n",
       "\\end{description*}\n"
      ],
      "text/markdown": [
       "task\n",
       ":   1.01379705814833input_nchars\n",
       ":   3.77069992436779input_ntokens\n",
       ":   3.59525421933258output_ntokens\n",
       ":   4.15792354716933input_logprob\n",
       ":   1.91555615502154output_logprob\n",
       ":   5.24315358049196\n",
       "\n"
      ],
      "text/plain": [
       "          task   input_nchars  input_ntokens output_ntokens  input_logprob \n",
       "      1.013797       3.770700       3.595254       4.157924       1.915556 \n",
       "output_logprob \n",
       "      5.243154 "
      ]
     },
     "metadata": {},
     "output_type": "display_data"
    }
   ],
   "source": [
    "vif(model_taskenc4)"
   ]
  },
  {
   "cell_type": "code",
   "execution_count": 224,
   "id": "c36e9a8b",
   "metadata": {},
   "outputs": [
    {
     "data": {
      "text/html": [
       "<style>\n",
       ".dl-inline {width: auto; margin:0; padding: 0}\n",
       ".dl-inline>dt, .dl-inline>dd {float: none; width: auto; display: inline-block}\n",
       ".dl-inline>dt::after {content: \":\\0020\"; padding-right: .5ex}\n",
       ".dl-inline>dt:not(:first-of-type) {padding-left: .5ex}\n",
       "</style><dl class=dl-inline><dt>task</dt><dd>1.0061749313768</dd><dt>input_nchars</dt><dd>1.29264832643823</dd><dt>input_ntokens</dt><dd>1.21970976361183</dd><dt>output_ntokens</dt><dd>1.24691852690111</dd><dt>input_logprob</dt><dd>1.19865741226191</dd><dt>output_logprob</dt><dd>1.28339606498525</dd></dl>\n"
      ],
      "text/latex": [
       "\\begin{description*}\n",
       "\\item[task] 1.0061749313768\n",
       "\\item[input\\textbackslash{}\\_nchars] 1.29264832643823\n",
       "\\item[input\\textbackslash{}\\_ntokens] 1.21970976361183\n",
       "\\item[output\\textbackslash{}\\_ntokens] 1.24691852690111\n",
       "\\item[input\\textbackslash{}\\_logprob] 1.19865741226191\n",
       "\\item[output\\textbackslash{}\\_logprob] 1.28339606498525\n",
       "\\end{description*}\n"
      ],
      "text/markdown": [
       "task\n",
       ":   1.0061749313768input_nchars\n",
       ":   1.29264832643823input_ntokens\n",
       ":   1.21970976361183output_ntokens\n",
       ":   1.24691852690111input_logprob\n",
       ":   1.19865741226191output_logprob\n",
       ":   1.28339606498525\n",
       "\n"
      ],
      "text/plain": [
       "          task   input_nchars  input_ntokens output_ntokens  input_logprob \n",
       "      1.006175       1.292648       1.219710       1.246919       1.198657 \n",
       "output_logprob \n",
       "      1.283396 "
      ]
     },
     "metadata": {},
     "output_type": "display_data"
    }
   ],
   "source": [
    "vif(model_taskenc35)"
   ]
  },
  {
   "cell_type": "code",
   "execution_count": 225,
   "id": "c8198fca",
   "metadata": {},
   "outputs": [
    {
     "data": {
      "text/html": [
       "<style>\n",
       ".dl-inline {width: auto; margin:0; padding: 0}\n",
       ".dl-inline>dt, .dl-inline>dd {float: none; width: auto; display: inline-block}\n",
       ".dl-inline>dt::after {content: \":\\0020\"; padding-right: .5ex}\n",
       ".dl-inline>dt:not(:first-of-type) {padding-left: .5ex}\n",
       "</style><dl class=dl-inline><dt>task</dt><dd>1.08605986264145</dd><dt>input_nchars</dt><dd>16.49092862933</dd><dt>input_ntokens</dt><dd>14.195003032695</dd><dt>output_ntokens</dt><dd>7.40669271455083</dd><dt>input_logprob</dt><dd>13.2501911180414</dd><dt>output_logprob</dt><dd>4.62673305409792</dd></dl>\n"
      ],
      "text/latex": [
       "\\begin{description*}\n",
       "\\item[task] 1.08605986264145\n",
       "\\item[input\\textbackslash{}\\_nchars] 16.49092862933\n",
       "\\item[input\\textbackslash{}\\_ntokens] 14.195003032695\n",
       "\\item[output\\textbackslash{}\\_ntokens] 7.40669271455083\n",
       "\\item[input\\textbackslash{}\\_logprob] 13.2501911180414\n",
       "\\item[output\\textbackslash{}\\_logprob] 4.62673305409792\n",
       "\\end{description*}\n"
      ],
      "text/markdown": [
       "task\n",
       ":   1.08605986264145input_nchars\n",
       ":   16.49092862933input_ntokens\n",
       ":   14.195003032695output_ntokens\n",
       ":   7.40669271455083input_logprob\n",
       ":   13.2501911180414output_logprob\n",
       ":   4.62673305409792\n",
       "\n"
      ],
      "text/plain": [
       "          task   input_nchars  input_ntokens output_ntokens  input_logprob \n",
       "      1.086060      16.490929      14.195003       7.406693      13.250191 \n",
       "output_logprob \n",
       "      4.626733 "
      ]
     },
     "metadata": {},
     "output_type": "display_data"
    }
   ],
   "source": [
    "vif(model_taskdec4)"
   ]
  },
  {
   "cell_type": "code",
   "execution_count": 226,
   "id": "08385f45",
   "metadata": {},
   "outputs": [
    {
     "data": {
      "text/html": [
       "<style>\n",
       ".dl-inline {width: auto; margin:0; padding: 0}\n",
       ".dl-inline>dt, .dl-inline>dd {float: none; width: auto; display: inline-block}\n",
       ".dl-inline>dt::after {content: \":\\0020\"; padding-right: .5ex}\n",
       ".dl-inline>dt:not(:first-of-type) {padding-left: .5ex}\n",
       "</style><dl class=dl-inline><dt>task</dt><dd>1.01512407710054</dd><dt>input_nchars</dt><dd>4.35732236473136</dd><dt>input_ntokens</dt><dd>4.31699438450821</dd><dt>output_ntokens</dt><dd>4.12277311872799</dd><dt>input_logprob</dt><dd>4.23990051625821</dd><dt>output_logprob</dt><dd>2.58778888566715</dd></dl>\n"
      ],
      "text/latex": [
       "\\begin{description*}\n",
       "\\item[task] 1.01512407710054\n",
       "\\item[input\\textbackslash{}\\_nchars] 4.35732236473136\n",
       "\\item[input\\textbackslash{}\\_ntokens] 4.31699438450821\n",
       "\\item[output\\textbackslash{}\\_ntokens] 4.12277311872799\n",
       "\\item[input\\textbackslash{}\\_logprob] 4.23990051625821\n",
       "\\item[output\\textbackslash{}\\_logprob] 2.58778888566715\n",
       "\\end{description*}\n"
      ],
      "text/markdown": [
       "task\n",
       ":   1.01512407710054input_nchars\n",
       ":   4.35732236473136input_ntokens\n",
       ":   4.31699438450821output_ntokens\n",
       ":   4.12277311872799input_logprob\n",
       ":   4.23990051625821output_logprob\n",
       ":   2.58778888566715\n",
       "\n"
      ],
      "text/plain": [
       "          task   input_nchars  input_ntokens output_ntokens  input_logprob \n",
       "      1.015124       4.357322       4.316994       4.122773       4.239901 \n",
       "output_logprob \n",
       "      2.587789 "
      ]
     },
     "metadata": {},
     "output_type": "display_data"
    }
   ],
   "source": [
    "vif(model_taskdec35)"
   ]
  },
  {
   "cell_type": "code",
   "execution_count": null,
   "id": "488e806e",
   "metadata": {},
   "outputs": [],
   "source": []
  },
  {
   "cell_type": "markdown",
   "id": "ee885460",
   "metadata": {},
   "source": [
    "# Reversal"
   ]
  },
  {
   "cell_type": "code",
   "execution_count": 231,
   "id": "6fbac8cc",
   "metadata": {},
   "outputs": [],
   "source": [
    "# Read in data\n",
    "revenc_gpt4_df <- read.table(file = 'table_revenc_gpt-4.tsv', sep = '\\t', header = TRUE)\n",
    "revenc_gpt35_df <- read.table(file = 'table_revenc_gpt-3.5-turbo.tsv', sep = '\\t', header = TRUE)\n",
    "\n",
    "revdec_gpt4_df <- read.table(file = 'table_revdec_gpt-4.tsv', sep = '\\t', header = TRUE)\n",
    "revdec_gpt35_df <- read.table(file = 'table_revdec_gpt-3.5-turbo.tsv', sep = '\\t', header = TRUE)"
   ]
  },
  {
   "cell_type": "code",
   "execution_count": 232,
   "id": "04c29dcb",
   "metadata": {},
   "outputs": [],
   "source": [
    "# Z-score data\n",
    "scaled_revenc_gpt4_df <- scale_df(revenc_gpt4_df)\n",
    "scaled_revenc_gpt35_df <- scale_df(revenc_gpt35_df)\n",
    "\n",
    "scaled_revdec_gpt4_df <- scale_df(revdec_gpt4_df)\n",
    "scaled_revdec_gpt35_df <- scale_df(revdec_gpt35_df)"
   ]
  },
  {
   "cell_type": "code",
   "execution_count": 233,
   "id": "b01f8d75",
   "metadata": {},
   "outputs": [],
   "source": [
    "\n",
    "revenc_gpt4_model <- correct_vs_length_and_prob(scaled_revenc_gpt4_df, include_output_chars=FALSE)\n",
    "revenc_gpt35_model <- correct_vs_length_and_prob(scaled_revenc_gpt35_df, include_output_chars=FALSE)\n",
    "\n",
    "revdec_gpt4_model <- correct_vs_length_and_prob(scaled_revdec_gpt4_df, include_output_chars=FALSE)\n",
    "revdec_gpt35_model <- correct_vs_length_and_prob(scaled_revdec_gpt35_df, include_output_chars=FALSE)\n"
   ]
  },
  {
   "cell_type": "code",
   "execution_count": 234,
   "id": "7d73a144",
   "metadata": {},
   "outputs": [
    {
     "data": {
      "text/plain": [
       "\n",
       "Call:\n",
       "glm(formula = correct ~ input_logprob + output_logprob + input_ntokens + \n",
       "    output_ntokens + input_nchars, family = binomial, data = df)\n",
       "\n",
       "Deviance Residuals: \n",
       "    Min       1Q   Median       3Q      Max  \n",
       "-2.3581   0.4014   0.5172   0.6303   1.6860  \n",
       "\n",
       "Coefficients:\n",
       "               Estimate Std. Error z value Pr(>|z|)    \n",
       "(Intercept)     1.51883    0.16136   9.413   <2e-16 ***\n",
       "input_logprob  -0.03095    0.19608  -0.158    0.875    \n",
       "output_logprob -0.43336    0.70858  -0.612    0.541    \n",
       "input_ntokens   1.78562    1.81154   0.986    0.324    \n",
       "output_ntokens -2.41642    1.92213  -1.257    0.209    \n",
       "input_nchars   -0.57747    0.61481  -0.939    0.348    \n",
       "---\n",
       "Signif. codes:  0 ‘***’ 0.001 ‘**’ 0.01 ‘*’ 0.05 ‘.’ 0.1 ‘ ’ 1\n",
       "\n",
       "(Dispersion parameter for binomial family taken to be 1)\n",
       "\n",
       "    Null deviance: 302.99  on 299  degrees of freedom\n",
       "Residual deviance: 272.09  on 294  degrees of freedom\n",
       "AIC: 284.09\n",
       "\n",
       "Number of Fisher Scoring iterations: 4\n"
      ]
     },
     "metadata": {},
     "output_type": "display_data"
    }
   ],
   "source": [
    "summary(revenc_gpt4_model)"
   ]
  },
  {
   "cell_type": "code",
   "execution_count": 235,
   "id": "09b53b1e",
   "metadata": {},
   "outputs": [
    {
     "data": {
      "text/plain": [
       "\n",
       "Call:\n",
       "glm(formula = correct ~ input_logprob + output_logprob + input_ntokens + \n",
       "    output_ntokens + input_nchars, family = binomial, data = df)\n",
       "\n",
       "Deviance Residuals: \n",
       "    Min       1Q   Median       3Q      Max  \n",
       "-1.5339  -0.9830  -0.4953   1.0080   2.1167  \n",
       "\n",
       "Coefficients:\n",
       "               Estimate Std. Error z value Pr(>|z|)    \n",
       "(Intercept)     -0.6251     0.1412  -4.429 9.48e-06 ***\n",
       "input_logprob    0.3767     0.2217   1.699   0.0893 .  \n",
       "output_logprob  -0.2740     0.8132  -0.337   0.7361    \n",
       "input_ntokens   -1.6740     1.7242  -0.971   0.3316    \n",
       "output_ntokens  -0.1954     1.7194  -0.114   0.9095    \n",
       "input_nchars     0.7770     0.6848   1.135   0.2565    \n",
       "---\n",
       "Signif. codes:  0 ‘***’ 0.001 ‘**’ 0.01 ‘*’ 0.05 ‘.’ 0.1 ‘ ’ 1\n",
       "\n",
       "(Dispersion parameter for binomial family taken to be 1)\n",
       "\n",
       "    Null deviance: 401.25  on 299  degrees of freedom\n",
       "Residual deviance: 342.73  on 294  degrees of freedom\n",
       "AIC: 354.73\n",
       "\n",
       "Number of Fisher Scoring iterations: 5\n"
      ]
     },
     "metadata": {},
     "output_type": "display_data"
    }
   ],
   "source": [
    "summary(revenc_gpt35_model)"
   ]
  },
  {
   "cell_type": "code",
   "execution_count": 236,
   "id": "d8f79bcb",
   "metadata": {},
   "outputs": [
    {
     "data": {
      "text/plain": [
       "\n",
       "Call:\n",
       "glm(formula = correct ~ input_logprob + output_logprob + input_ntokens + \n",
       "    output_ntokens + input_nchars, family = binomial, data = df)\n",
       "\n",
       "Deviance Residuals: \n",
       "    Min       1Q   Median       3Q      Max  \n",
       "-2.9589   0.1682   0.2843   0.4231   2.0008  \n",
       "\n",
       "Coefficients:\n",
       "               Estimate Std. Error z value Pr(>|z|)    \n",
       "(Intercept)      2.2378     0.2585   8.656  < 2e-16 ***\n",
       "input_logprob   -2.5944     0.9742  -2.663  0.00774 ** \n",
       "output_logprob   2.3787     0.3426   6.943 3.85e-12 ***\n",
       "input_ntokens    0.0314     2.3512   0.013  0.98934    \n",
       "output_ntokens  -1.5059     2.2602  -0.666  0.50522    \n",
       "input_nchars     0.3893     0.7958   0.489  0.62465    \n",
       "---\n",
       "Signif. codes:  0 ‘***’ 0.001 ‘**’ 0.01 ‘*’ 0.05 ‘.’ 0.1 ‘ ’ 1\n",
       "\n",
       "(Dispersion parameter for binomial family taken to be 1)\n",
       "\n",
       "    Null deviance: 282.84  on 299  degrees of freedom\n",
       "Residual deviance: 189.52  on 294  degrees of freedom\n",
       "AIC: 201.52\n",
       "\n",
       "Number of Fisher Scoring iterations: 6\n"
      ]
     },
     "metadata": {},
     "output_type": "display_data"
    }
   ],
   "source": [
    "summary(revdec_gpt4_model)"
   ]
  },
  {
   "cell_type": "code",
   "execution_count": 237,
   "id": "d4998b9b",
   "metadata": {},
   "outputs": [
    {
     "data": {
      "text/plain": [
       "\n",
       "Call:\n",
       "glm(formula = correct ~ input_logprob + output_logprob + input_ntokens + \n",
       "    output_ntokens + input_nchars, family = binomial, data = df)\n",
       "\n",
       "Deviance Residuals: \n",
       "    Min       1Q   Median       3Q      Max  \n",
       "-2.0957  -0.8704   0.5145   0.8071   2.6480  \n",
       "\n",
       "Coefficients:\n",
       "               Estimate Std. Error z value Pr(>|z|)    \n",
       "(Intercept)    -0.01288    0.14432  -0.089  0.92887    \n",
       "input_logprob  -2.73153    0.87909  -3.107  0.00189 ** \n",
       "output_logprob  1.63015    0.25914   6.291 3.16e-10 ***\n",
       "input_ntokens  -2.72167    1.83206  -1.486  0.13739    \n",
       "output_ntokens  0.19701    1.79154   0.110  0.91244    \n",
       "input_nchars   -0.24920    0.73670  -0.338  0.73517    \n",
       "---\n",
       "Signif. codes:  0 ‘***’ 0.001 ‘**’ 0.01 ‘*’ 0.05 ‘.’ 0.1 ‘ ’ 1\n",
       "\n",
       "(Dispersion parameter for binomial family taken to be 1)\n",
       "\n",
       "    Null deviance: 414.55  on 299  degrees of freedom\n",
       "Residual deviance: 314.54  on 294  degrees of freedom\n",
       "AIC: 326.54\n",
       "\n",
       "Number of Fisher Scoring iterations: 5\n"
      ]
     },
     "metadata": {},
     "output_type": "display_data"
    }
   ],
   "source": [
    "summary(revdec_gpt35_model)"
   ]
  },
  {
   "cell_type": "code",
   "execution_count": 238,
   "id": "d032cb62",
   "metadata": {},
   "outputs": [
    {
     "data": {
      "text/html": [
       "<style>\n",
       ".dl-inline {width: auto; margin:0; padding: 0}\n",
       ".dl-inline>dt, .dl-inline>dd {float: none; width: auto; display: inline-block}\n",
       ".dl-inline>dt::after {content: \":\\0020\"; padding-right: .5ex}\n",
       ".dl-inline>dt:not(:first-of-type) {padding-left: .5ex}\n",
       "</style><dl class=dl-inline><dt>input_logprob</dt><dd>1.97797235416939</dd><dt>output_logprob</dt><dd>23.3055431422941</dd><dt>input_ntokens</dt><dd>152.396096808106</dd><dt>output_ntokens</dt><dd>169.96037393477</dd><dt>input_nchars</dt><dd>17.6397306413893</dd></dl>\n"
      ],
      "text/latex": [
       "\\begin{description*}\n",
       "\\item[input\\textbackslash{}\\_logprob] 1.97797235416939\n",
       "\\item[output\\textbackslash{}\\_logprob] 23.3055431422941\n",
       "\\item[input\\textbackslash{}\\_ntokens] 152.396096808106\n",
       "\\item[output\\textbackslash{}\\_ntokens] 169.96037393477\n",
       "\\item[input\\textbackslash{}\\_nchars] 17.6397306413893\n",
       "\\end{description*}\n"
      ],
      "text/markdown": [
       "input_logprob\n",
       ":   1.97797235416939output_logprob\n",
       ":   23.3055431422941input_ntokens\n",
       ":   152.396096808106output_ntokens\n",
       ":   169.96037393477input_nchars\n",
       ":   17.6397306413893\n",
       "\n"
      ],
      "text/plain": [
       " input_logprob output_logprob  input_ntokens output_ntokens   input_nchars \n",
       "      1.977972      23.305543     152.396097     169.960374      17.639731 "
      ]
     },
     "metadata": {},
     "output_type": "display_data"
    }
   ],
   "source": [
    "vif(revenc_gpt4_model)"
   ]
  },
  {
   "cell_type": "code",
   "execution_count": 239,
   "id": "a9ca9958",
   "metadata": {},
   "outputs": [
    {
     "data": {
      "text/html": [
       "<style>\n",
       ".dl-inline {width: auto; margin:0; padding: 0}\n",
       ".dl-inline>dt, .dl-inline>dd {float: none; width: auto; display: inline-block}\n",
       ".dl-inline>dt::after {content: \":\\0020\"; padding-right: .5ex}\n",
       ".dl-inline>dt:not(:first-of-type) {padding-left: .5ex}\n",
       "</style><dl class=dl-inline><dt>input_logprob</dt><dd>1.73165898407615</dd><dt>output_logprob</dt><dd>24.2607000587884</dd><dt>input_ntokens</dt><dd>99.040405176365</dd><dt>output_ntokens</dt><dd>99.613209986858</dd><dt>input_nchars</dt><dd>16.6810292592214</dd></dl>\n"
      ],
      "text/latex": [
       "\\begin{description*}\n",
       "\\item[input\\textbackslash{}\\_logprob] 1.73165898407615\n",
       "\\item[output\\textbackslash{}\\_logprob] 24.2607000587884\n",
       "\\item[input\\textbackslash{}\\_ntokens] 99.040405176365\n",
       "\\item[output\\textbackslash{}\\_ntokens] 99.613209986858\n",
       "\\item[input\\textbackslash{}\\_nchars] 16.6810292592214\n",
       "\\end{description*}\n"
      ],
      "text/markdown": [
       "input_logprob\n",
       ":   1.73165898407615output_logprob\n",
       ":   24.2607000587884input_ntokens\n",
       ":   99.040405176365output_ntokens\n",
       ":   99.613209986858input_nchars\n",
       ":   16.6810292592214\n",
       "\n"
      ],
      "text/plain": [
       " input_logprob output_logprob  input_ntokens output_ntokens   input_nchars \n",
       "      1.731659      24.260700      99.040405      99.613210      16.681029 "
      ]
     },
     "metadata": {},
     "output_type": "display_data"
    }
   ],
   "source": [
    "vif(revenc_gpt35_model)"
   ]
  },
  {
   "cell_type": "code",
   "execution_count": 240,
   "id": "958268a9",
   "metadata": {},
   "outputs": [
    {
     "data": {
      "text/html": [
       "<style>\n",
       ".dl-inline {width: auto; margin:0; padding: 0}\n",
       ".dl-inline>dt, .dl-inline>dd {float: none; width: auto; display: inline-block}\n",
       ".dl-inline>dt::after {content: \":\\0020\"; padding-right: .5ex}\n",
       ".dl-inline>dt:not(:first-of-type) {padding-left: .5ex}\n",
       "</style><dl class=dl-inline><dt>input_logprob</dt><dd>24.4586435477432</dd><dt>output_logprob</dt><dd>3.66552975275287</dd><dt>input_ntokens</dt><dd>136.678705261218</dd><dt>output_ntokens</dt><dd>123.815166771372</dd><dt>input_nchars</dt><dd>16.2763794094174</dd></dl>\n"
      ],
      "text/latex": [
       "\\begin{description*}\n",
       "\\item[input\\textbackslash{}\\_logprob] 24.4586435477432\n",
       "\\item[output\\textbackslash{}\\_logprob] 3.66552975275287\n",
       "\\item[input\\textbackslash{}\\_ntokens] 136.678705261218\n",
       "\\item[output\\textbackslash{}\\_ntokens] 123.815166771372\n",
       "\\item[input\\textbackslash{}\\_nchars] 16.2763794094174\n",
       "\\end{description*}\n"
      ],
      "text/markdown": [
       "input_logprob\n",
       ":   24.4586435477432output_logprob\n",
       ":   3.66552975275287input_ntokens\n",
       ":   136.678705261218output_ntokens\n",
       ":   123.815166771372input_nchars\n",
       ":   16.2763794094174\n",
       "\n"
      ],
      "text/plain": [
       " input_logprob output_logprob  input_ntokens output_ntokens   input_nchars \n",
       "      24.45864        3.66553      136.67871      123.81517       16.27638 "
      ]
     },
     "metadata": {},
     "output_type": "display_data"
    }
   ],
   "source": [
    "vif(revdec_gpt4_model)"
   ]
  },
  {
   "cell_type": "code",
   "execution_count": 241,
   "id": "d5c1c325",
   "metadata": {},
   "outputs": [
    {
     "data": {
      "text/html": [
       "<style>\n",
       ".dl-inline {width: auto; margin:0; padding: 0}\n",
       ".dl-inline>dt, .dl-inline>dd {float: none; width: auto; display: inline-block}\n",
       ".dl-inline>dt::after {content: \":\\0020\"; padding-right: .5ex}\n",
       ".dl-inline>dt:not(:first-of-type) {padding-left: .5ex}\n",
       "</style><dl class=dl-inline><dt>input_logprob</dt><dd>32.3992796163772</dd><dt>output_logprob</dt><dd>1.70524099157177</dd><dt>input_ntokens</dt><dd>132.659964420652</dd><dt>output_ntokens</dt><dd>128.005445059118</dd><dt>input_nchars</dt><dd>21.301689456972</dd></dl>\n"
      ],
      "text/latex": [
       "\\begin{description*}\n",
       "\\item[input\\textbackslash{}\\_logprob] 32.3992796163772\n",
       "\\item[output\\textbackslash{}\\_logprob] 1.70524099157177\n",
       "\\item[input\\textbackslash{}\\_ntokens] 132.659964420652\n",
       "\\item[output\\textbackslash{}\\_ntokens] 128.005445059118\n",
       "\\item[input\\textbackslash{}\\_nchars] 21.301689456972\n",
       "\\end{description*}\n"
      ],
      "text/markdown": [
       "input_logprob\n",
       ":   32.3992796163772output_logprob\n",
       ":   1.70524099157177input_ntokens\n",
       ":   132.659964420652output_ntokens\n",
       ":   128.005445059118input_nchars\n",
       ":   21.301689456972\n",
       "\n"
      ],
      "text/plain": [
       " input_logprob output_logprob  input_ntokens output_ntokens   input_nchars \n",
       "     32.399280       1.705241     132.659964     128.005445      21.301689 "
      ]
     },
     "metadata": {},
     "output_type": "display_data"
    }
   ],
   "source": [
    "vif(revdec_gpt35_model)"
   ]
  },
  {
   "cell_type": "code",
   "execution_count": null,
   "id": "151aa70a",
   "metadata": {},
   "outputs": [],
   "source": []
  },
  {
   "cell_type": "markdown",
   "id": "65cc9d44",
   "metadata": {},
   "source": [
    "# Pig Latin"
   ]
  },
  {
   "cell_type": "code",
   "execution_count": 242,
   "id": "e49d3d4a",
   "metadata": {},
   "outputs": [],
   "source": [
    "# Read in data\n",
    "pigenc_gpt4_df <- read.table(file = 'table_pig_ay_enc_gpt-4.tsv', sep = '\\t', header = TRUE)\n",
    "pigenc_gpt35_df <- read.table(file = 'table_pig_ay_enc_gpt-3.5-turbo.tsv', sep = '\\t', header = TRUE)\n",
    "\n",
    "pigdec_gpt4_df <- read.table(file = 'table_pig_ay_dec_gpt-4.tsv', sep = '\\t', header = TRUE)\n",
    "pigdec_gpt35_df <- read.table(file = 'table_pig_ay_dec_gpt-3.5-turbo.tsv', sep = '\\t', header = TRUE)"
   ]
  },
  {
   "cell_type": "code",
   "execution_count": 243,
   "id": "63b8c549",
   "metadata": {},
   "outputs": [],
   "source": [
    "# Z-score data\n",
    "scaled_pigenc_gpt4_df <- scale_df(pigenc_gpt4_df)\n",
    "scaled_pigenc_gpt35_df <- scale_df(pigenc_gpt35_df)\n",
    "\n",
    "scaled_pigdec_gpt4_df <- scale_df(pigdec_gpt4_df)\n",
    "scaled_pigdec_gpt35_df <- scale_df(pigdec_gpt35_df)"
   ]
  },
  {
   "cell_type": "code",
   "execution_count": 244,
   "id": "12611f28",
   "metadata": {},
   "outputs": [],
   "source": [
    "\n",
    "pigenc_gpt4_model <- correct_vs_length_and_prob(scaled_pigenc_gpt4_df, include_output_chars=TRUE)\n",
    "pigenc_gpt35_model <- correct_vs_length_and_prob(scaled_pigenc_gpt35_df, include_output_chars=TRUE)\n",
    "\n",
    "pigdec_gpt4_model <- correct_vs_length_and_prob(scaled_pigdec_gpt4_df, include_output_chars=TRUE)\n",
    "pigdec_gpt35_model <- correct_vs_length_and_prob(scaled_pigdec_gpt35_df, include_output_chars=TRUE)"
   ]
  },
  {
   "cell_type": "code",
   "execution_count": 245,
   "id": "f4fe4376",
   "metadata": {},
   "outputs": [
    {
     "data": {
      "text/plain": [
       "\n",
       "Call:\n",
       "glm(formula = correct ~ input_logprob + output_logprob + input_ntokens + \n",
       "    output_ntokens + input_nchars + output_nchars, family = binomial, \n",
       "    data = df)\n",
       "\n",
       "Deviance Residuals: \n",
       "    Min       1Q   Median       3Q      Max  \n",
       "-1.7900  -1.0455  -0.5875   1.1576   1.8598  \n",
       "\n",
       "Coefficients:\n",
       "               Estimate Std. Error z value Pr(>|z|)   \n",
       "(Intercept)    -0.39170    0.12576  -3.115  0.00184 **\n",
       "input_logprob  -0.07581    0.18159  -0.417  0.67633   \n",
       "output_logprob  2.05411    0.68406   3.003  0.00267 **\n",
       "input_ntokens   1.98187    0.78916   2.511  0.01203 * \n",
       "output_ntokens  1.27363    0.97383   1.308  0.19092   \n",
       "input_nchars    6.18673    2.91719   2.121  0.03394 * \n",
       "output_nchars  -7.97255    3.61588  -2.205  0.02746 * \n",
       "---\n",
       "Signif. codes:  0 ‘***’ 0.001 ‘**’ 0.01 ‘*’ 0.05 ‘.’ 0.1 ‘ ’ 1\n",
       "\n",
       "(Dispersion parameter for binomial family taken to be 1)\n",
       "\n",
       "    Null deviance: 407.52  on 299  degrees of freedom\n",
       "Residual deviance: 373.93  on 293  degrees of freedom\n",
       "AIC: 387.93\n",
       "\n",
       "Number of Fisher Scoring iterations: 4\n"
      ]
     },
     "metadata": {},
     "output_type": "display_data"
    }
   ],
   "source": [
    "summary(pigenc_gpt4_model) "
   ]
  },
  {
   "cell_type": "code",
   "execution_count": 246,
   "id": "3e7e2eaa",
   "metadata": {},
   "outputs": [
    {
     "data": {
      "text/plain": [
       "\n",
       "Call:\n",
       "glm(formula = correct ~ input_logprob + output_logprob + input_ntokens + \n",
       "    output_ntokens + input_nchars + output_nchars, family = binomial, \n",
       "    data = df)\n",
       "\n",
       "Deviance Residuals: \n",
       "    Min       1Q   Median       3Q      Max  \n",
       "-1.3236  -0.8120  -0.6535   1.1288   2.1831  \n",
       "\n",
       "Coefficients:\n",
       "               Estimate Std. Error z value Pr(>|z|)    \n",
       "(Intercept)     -1.1692     0.1452  -8.054 7.99e-16 ***\n",
       "input_logprob    0.1436     0.2074   0.692   0.4889    \n",
       "output_logprob   1.1147     0.7234   1.541   0.1233    \n",
       "input_ntokens    1.5496     0.8680   1.785   0.0742 .  \n",
       "output_ntokens  -0.9289     1.0852  -0.856   0.3920    \n",
       "input_nchars    -2.3922     3.2853  -0.728   0.4665    \n",
       "output_nchars    2.5116     4.0163   0.625   0.5317    \n",
       "---\n",
       "Signif. codes:  0 ‘***’ 0.001 ‘**’ 0.01 ‘*’ 0.05 ‘.’ 0.1 ‘ ’ 1\n",
       "\n",
       "(Dispersion parameter for binomial family taken to be 1)\n",
       "\n",
       "    Null deviance: 341.72  on 299  degrees of freedom\n",
       "Residual deviance: 321.71  on 293  degrees of freedom\n",
       "AIC: 335.71\n",
       "\n",
       "Number of Fisher Scoring iterations: 4\n"
      ]
     },
     "metadata": {},
     "output_type": "display_data"
    }
   ],
   "source": [
    "summary(pigenc_gpt35_model)"
   ]
  },
  {
   "cell_type": "code",
   "execution_count": 247,
   "id": "8e1f1b33",
   "metadata": {},
   "outputs": [
    {
     "data": {
      "text/plain": [
       "\n",
       "Call:\n",
       "glm(formula = correct ~ input_logprob + output_logprob + input_ntokens + \n",
       "    output_ntokens + input_nchars + output_nchars, family = binomial, \n",
       "    data = df)\n",
       "\n",
       "Deviance Residuals: \n",
       "    Min       1Q   Median       3Q      Max  \n",
       "-2.7284  -0.8505   0.4236   0.7521   2.4140  \n",
       "\n",
       "Coefficients:\n",
       "               Estimate Std. Error z value Pr(>|z|)    \n",
       "(Intercept)      0.5198     0.1491   3.487 0.000488 ***\n",
       "input_logprob    1.4257     0.7709   1.849 0.064402 .  \n",
       "output_logprob   1.9253     0.2431   7.918  2.4e-15 ***\n",
       "input_ntokens    1.3736     1.1236   1.223 0.221505    \n",
       "output_ntokens  -1.1396     0.9170  -1.243 0.213953    \n",
       "input_nchars     1.4535     4.2228   0.344 0.730698    \n",
       "output_nchars    1.1972     3.4386   0.348 0.727713    \n",
       "---\n",
       "Signif. codes:  0 ‘***’ 0.001 ‘**’ 0.01 ‘*’ 0.05 ‘.’ 0.1 ‘ ’ 1\n",
       "\n",
       "(Dispersion parameter for binomial family taken to be 1)\n",
       "\n",
       "    Null deviance: 406.12  on 299  degrees of freedom\n",
       "Residual deviance: 298.86  on 293  degrees of freedom\n",
       "AIC: 312.86\n",
       "\n",
       "Number of Fisher Scoring iterations: 5\n"
      ]
     },
     "metadata": {},
     "output_type": "display_data"
    }
   ],
   "source": [
    "summary(pigdec_gpt4_model)"
   ]
  },
  {
   "cell_type": "code",
   "execution_count": 248,
   "id": "e4a3ad41",
   "metadata": {},
   "outputs": [
    {
     "data": {
      "text/plain": [
       "\n",
       "Call:\n",
       "glm(formula = correct ~ input_logprob + output_logprob + input_ntokens + \n",
       "    output_ntokens + input_nchars + output_nchars, family = binomial, \n",
       "    data = df)\n",
       "\n",
       "Deviance Residuals: \n",
       "    Min       1Q   Median       3Q      Max  \n",
       "-1.8275  -0.6129  -0.2020   0.6722   3.3606  \n",
       "\n",
       "Coefficients:\n",
       "               Estimate Std. Error z value Pr(>|z|)    \n",
       "(Intercept)     -2.0469     0.2798  -7.315 2.57e-13 ***\n",
       "input_logprob    1.1926     0.8695   1.372   0.1702    \n",
       "output_logprob   3.2094     0.4543   7.064 1.62e-12 ***\n",
       "input_ntokens   -0.6667     1.2701  -0.525   0.5996    \n",
       "output_ntokens  -1.9695     1.0861  -1.813   0.0698 .  \n",
       "input_nchars     6.1606     4.9011   1.257   0.2088    \n",
       "output_nchars   -1.2790     3.9378  -0.325   0.7453    \n",
       "---\n",
       "Signif. codes:  0 ‘***’ 0.001 ‘**’ 0.01 ‘*’ 0.05 ‘.’ 0.1 ‘ ’ 1\n",
       "\n",
       "(Dispersion parameter for binomial family taken to be 1)\n",
       "\n",
       "    Null deviance: 357.64  on 299  degrees of freedom\n",
       "Residual deviance: 232.40  on 293  degrees of freedom\n",
       "AIC: 246.4\n",
       "\n",
       "Number of Fisher Scoring iterations: 6\n"
      ]
     },
     "metadata": {},
     "output_type": "display_data"
    }
   ],
   "source": [
    "summary(pigdec_gpt35_model)"
   ]
  },
  {
   "cell_type": "code",
   "execution_count": 249,
   "id": "50e25c86",
   "metadata": {},
   "outputs": [
    {
     "data": {
      "text/html": [
       "<style>\n",
       ".dl-inline {width: auto; margin:0; padding: 0}\n",
       ".dl-inline>dt, .dl-inline>dd {float: none; width: auto; display: inline-block}\n",
       ".dl-inline>dt::after {content: \":\\0020\"; padding-right: .5ex}\n",
       ".dl-inline>dt:not(:first-of-type) {padding-left: .5ex}\n",
       "</style><dl class=dl-inline><dt>input_logprob</dt><dd>1.88591832041118</dd><dt>output_logprob</dt><dd>25.08581787306</dd><dt>input_ntokens</dt><dd>35.5610961881378</dd><dt>output_ntokens</dt><dd>52.5752225988732</dd><dt>input_nchars</dt><dd>478.81762540675</dd><dt>output_nchars</dt><dd>730.732141011532</dd></dl>\n"
      ],
      "text/latex": [
       "\\begin{description*}\n",
       "\\item[input\\textbackslash{}\\_logprob] 1.88591832041118\n",
       "\\item[output\\textbackslash{}\\_logprob] 25.08581787306\n",
       "\\item[input\\textbackslash{}\\_ntokens] 35.5610961881378\n",
       "\\item[output\\textbackslash{}\\_ntokens] 52.5752225988732\n",
       "\\item[input\\textbackslash{}\\_nchars] 478.81762540675\n",
       "\\item[output\\textbackslash{}\\_nchars] 730.732141011532\n",
       "\\end{description*}\n"
      ],
      "text/markdown": [
       "input_logprob\n",
       ":   1.88591832041118output_logprob\n",
       ":   25.08581787306input_ntokens\n",
       ":   35.5610961881378output_ntokens\n",
       ":   52.5752225988732input_nchars\n",
       ":   478.81762540675output_nchars\n",
       ":   730.732141011532\n",
       "\n"
      ],
      "text/plain": [
       " input_logprob output_logprob  input_ntokens output_ntokens   input_nchars \n",
       "      1.885918      25.085818      35.561096      52.575223     478.817625 \n",
       " output_nchars \n",
       "    730.732141 "
      ]
     },
     "metadata": {},
     "output_type": "display_data"
    }
   ],
   "source": [
    "vif(pigenc_gpt4_model)"
   ]
  },
  {
   "cell_type": "code",
   "execution_count": 250,
   "id": "7a535425",
   "metadata": {},
   "outputs": [
    {
     "data": {
      "text/html": [
       "<style>\n",
       ".dl-inline {width: auto; margin:0; padding: 0}\n",
       ".dl-inline>dt, .dl-inline>dd {float: none; width: auto; display: inline-block}\n",
       ".dl-inline>dt::after {content: \":\\0020\"; padding-right: .5ex}\n",
       ".dl-inline>dt:not(:first-of-type) {padding-left: .5ex}\n",
       "</style><dl class=dl-inline><dt>input_logprob</dt><dd>1.76113595088958</dd><dt>output_logprob</dt><dd>22.5781177556918</dd><dt>input_ntokens</dt><dd>35.4550792894387</dd><dt>output_ntokens</dt><dd>52.2165932530329</dd><dt>input_nchars</dt><dd>478.327334814626</dd><dt>output_nchars</dt><dd>721.65276619291</dd></dl>\n"
      ],
      "text/latex": [
       "\\begin{description*}\n",
       "\\item[input\\textbackslash{}\\_logprob] 1.76113595088958\n",
       "\\item[output\\textbackslash{}\\_logprob] 22.5781177556918\n",
       "\\item[input\\textbackslash{}\\_ntokens] 35.4550792894387\n",
       "\\item[output\\textbackslash{}\\_ntokens] 52.2165932530329\n",
       "\\item[input\\textbackslash{}\\_nchars] 478.327334814626\n",
       "\\item[output\\textbackslash{}\\_nchars] 721.65276619291\n",
       "\\end{description*}\n"
      ],
      "text/markdown": [
       "input_logprob\n",
       ":   1.76113595088958output_logprob\n",
       ":   22.5781177556918input_ntokens\n",
       ":   35.4550792894387output_ntokens\n",
       ":   52.2165932530329input_nchars\n",
       ":   478.327334814626output_nchars\n",
       ":   721.65276619291\n",
       "\n"
      ],
      "text/plain": [
       " input_logprob output_logprob  input_ntokens output_ntokens   input_nchars \n",
       "      1.761136      22.578118      35.455079      52.216593     478.327335 \n",
       " output_nchars \n",
       "    721.652766 "
      ]
     },
     "metadata": {},
     "output_type": "display_data"
    }
   ],
   "source": [
    "vif(pigenc_gpt35_model)"
   ]
  },
  {
   "cell_type": "code",
   "execution_count": 251,
   "id": "c8307ace",
   "metadata": {},
   "outputs": [
    {
     "data": {
      "text/html": [
       "<style>\n",
       ".dl-inline {width: auto; margin:0; padding: 0}\n",
       ".dl-inline>dt, .dl-inline>dd {float: none; width: auto; display: inline-block}\n",
       ".dl-inline>dt::after {content: \":\\0020\"; padding-right: .5ex}\n",
       ".dl-inline>dt:not(:first-of-type) {padding-left: .5ex}\n",
       "</style><dl class=dl-inline><dt>input_logprob</dt><dd>26.135762713424</dd><dt>output_logprob</dt><dd>2.43034556270659</dd><dt>input_ntokens</dt><dd>52.4970493307298</dd><dt>output_ntokens</dt><dd>34.483100883675</dd><dt>input_nchars</dt><dd>733.105539389531</dd><dt>output_nchars</dt><dd>489.195865288526</dd></dl>\n"
      ],
      "text/latex": [
       "\\begin{description*}\n",
       "\\item[input\\textbackslash{}\\_logprob] 26.135762713424\n",
       "\\item[output\\textbackslash{}\\_logprob] 2.43034556270659\n",
       "\\item[input\\textbackslash{}\\_ntokens] 52.4970493307298\n",
       "\\item[output\\textbackslash{}\\_ntokens] 34.483100883675\n",
       "\\item[input\\textbackslash{}\\_nchars] 733.105539389531\n",
       "\\item[output\\textbackslash{}\\_nchars] 489.195865288526\n",
       "\\end{description*}\n"
      ],
      "text/markdown": [
       "input_logprob\n",
       ":   26.135762713424output_logprob\n",
       ":   2.43034556270659input_ntokens\n",
       ":   52.4970493307298output_ntokens\n",
       ":   34.483100883675input_nchars\n",
       ":   733.105539389531output_nchars\n",
       ":   489.195865288526\n",
       "\n"
      ],
      "text/plain": [
       " input_logprob output_logprob  input_ntokens output_ntokens   input_nchars \n",
       "     26.135763       2.430346      52.497049      34.483101     733.105539 \n",
       " output_nchars \n",
       "    489.195865 "
      ]
     },
     "metadata": {},
     "output_type": "display_data"
    }
   ],
   "source": [
    "vif(pigdec_gpt4_model)"
   ]
  },
  {
   "cell_type": "code",
   "execution_count": 252,
   "id": "bc8f6959",
   "metadata": {},
   "outputs": [
    {
     "data": {
      "text/html": [
       "<style>\n",
       ".dl-inline {width: auto; margin:0; padding: 0}\n",
       ".dl-inline>dt, .dl-inline>dd {float: none; width: auto; display: inline-block}\n",
       ".dl-inline>dt::after {content: \":\\0020\"; padding-right: .5ex}\n",
       ".dl-inline>dt:not(:first-of-type) {padding-left: .5ex}\n",
       "</style><dl class=dl-inline><dt>input_logprob</dt><dd>23.5592488938797</dd><dt>output_logprob</dt><dd>2.0243980755269</dd><dt>input_ntokens</dt><dd>51.203028525243</dd><dt>output_ntokens</dt><dd>39.531415486137</dd><dt>input_nchars</dt><dd>783.707573460646</dd><dt>output_nchars</dt><dd>504.539788407439</dd></dl>\n"
      ],
      "text/latex": [
       "\\begin{description*}\n",
       "\\item[input\\textbackslash{}\\_logprob] 23.5592488938797\n",
       "\\item[output\\textbackslash{}\\_logprob] 2.0243980755269\n",
       "\\item[input\\textbackslash{}\\_ntokens] 51.203028525243\n",
       "\\item[output\\textbackslash{}\\_ntokens] 39.531415486137\n",
       "\\item[input\\textbackslash{}\\_nchars] 783.707573460646\n",
       "\\item[output\\textbackslash{}\\_nchars] 504.539788407439\n",
       "\\end{description*}\n"
      ],
      "text/markdown": [
       "input_logprob\n",
       ":   23.5592488938797output_logprob\n",
       ":   2.0243980755269input_ntokens\n",
       ":   51.203028525243output_ntokens\n",
       ":   39.531415486137input_nchars\n",
       ":   783.707573460646output_nchars\n",
       ":   504.539788407439\n",
       "\n"
      ],
      "text/plain": [
       " input_logprob output_logprob  input_ntokens output_ntokens   input_nchars \n",
       "     23.559249       2.024398      51.203029      39.531415     783.707573 \n",
       " output_nchars \n",
       "    504.539788 "
      ]
     },
     "metadata": {},
     "output_type": "display_data"
    }
   ],
   "source": [
    "vif(pigdec_gpt35_model)"
   ]
  },
  {
   "cell_type": "code",
   "execution_count": null,
   "id": "f15c8073",
   "metadata": {},
   "outputs": [],
   "source": []
  },
  {
   "cell_type": "markdown",
   "id": "600a5438",
   "metadata": {},
   "source": [
    "### Comparing Pig Latin and Boar Etruscan"
   ]
  },
  {
   "cell_type": "code",
   "execution_count": 253,
   "id": "fc9f0966",
   "metadata": {},
   "outputs": [],
   "source": [
    "# Read in data\n",
    "pigboarenc_gpt4_df <- read.table(file = 'table_pig_boar_enc_gpt-4.tsv', sep = '\\t', header = TRUE)\n",
    "pigboarenc_gpt35_df <- read.table(file = 'table_pig_boar_enc_gpt-3.5-turbo.tsv', sep = '\\t', header = TRUE)\n",
    "\n",
    "pigboardec_gpt4_df <- read.table(file = 'table_pig_boar_dec_gpt-4.tsv', sep = '\\t', header = TRUE)\n",
    "pigboardec_gpt35_df <- read.table(file = 'table_pig_boar_dec_gpt-3.5-turbo.tsv', sep = '\\t', header = TRUE)"
   ]
  },
  {
   "cell_type": "code",
   "execution_count": 254,
   "id": "0e5c32f2",
   "metadata": {},
   "outputs": [],
   "source": [
    "# Z-score data\n",
    "scaled_pigboarenc_gpt4_df <- scale_taskpair_df(pigboarenc_gpt4_df)\n",
    "scaled_pigboarenc_gpt35_df <- scale_taskpair_df(pigboarenc_gpt35_df)\n",
    "\n",
    "scaled_pigboardec_gpt4_df <- scale_taskpair_df(pigboardec_gpt4_df)\n",
    "scaled_pigboardec_gpt35_df <- scale_taskpair_df(pigboardec_gpt35_df)"
   ]
  },
  {
   "cell_type": "code",
   "execution_count": 255,
   "id": "803768cf",
   "metadata": {},
   "outputs": [],
   "source": [
    "model_pigtaskenc4 <- bayesglm(correct ~ task + input_nchars + output_nchars + input_ntokens + output_ntokens + input_logprob + output_logprob, \n",
    "               data=scaled_pigboarenc_gpt4_df, family=binomial)\n"
   ]
  },
  {
   "cell_type": "code",
   "execution_count": 256,
   "id": "aa340130",
   "metadata": {},
   "outputs": [],
   "source": [
    "model_pigtaskenc35 <- bayesglm(correct ~ task + input_nchars + output_nchars + input_ntokens + output_ntokens + input_logprob + output_logprob, \n",
    "               data=scaled_pigboarenc_gpt35_df, family=binomial)"
   ]
  },
  {
   "cell_type": "code",
   "execution_count": 257,
   "id": "6c4c07d2",
   "metadata": {},
   "outputs": [],
   "source": [
    "model_pigtaskdec4 <- bayesglm(correct ~ task + input_nchars + output_nchars + input_ntokens + output_ntokens + input_logprob + output_logprob, \n",
    "               data=scaled_pigboardec_gpt4_df, family=binomial)"
   ]
  },
  {
   "cell_type": "code",
   "execution_count": 269,
   "id": "7b637c87",
   "metadata": {},
   "outputs": [],
   "source": [
    "model_pigtaskdec35 <- bayesglm(correct ~ task + input_nchars + output_nchars + input_ntokens + output_ntokens + input_logprob + output_logprob, \n",
    "               data=scaled_pigboardec_gpt35_df, family=binomial)"
   ]
  },
  {
   "cell_type": "code",
   "execution_count": 259,
   "id": "b1f23e62",
   "metadata": {},
   "outputs": [
    {
     "data": {
      "text/plain": [
       "\n",
       "Call:\n",
       "bayesglm(formula = correct ~ task + input_nchars + output_nchars + \n",
       "    input_ntokens + output_ntokens + input_logprob + output_logprob, \n",
       "    family = binomial, data = scaled_pigboarenc_gpt4_df)\n",
       "\n",
       "Deviance Residuals: \n",
       "    Min       1Q   Median       3Q      Max  \n",
       "-1.3106  -0.7606  -0.5599   1.0719   2.3386  \n",
       "\n",
       "Coefficients:\n",
       "               Estimate Std. Error z value Pr(>|z|)    \n",
       "(Intercept)    -0.49126    0.22847  -2.150 0.031540 *  \n",
       "taskuv         -1.29990    0.38177  -3.405 0.000662 ***\n",
       "input_nchars    0.26154    0.77435   0.338 0.735545    \n",
       "output_nchars   0.15138    0.86944   0.174 0.861779    \n",
       "input_ntokens   0.04368    0.60986   0.072 0.942904    \n",
       "output_ntokens  0.07993    0.72119   0.111 0.911752    \n",
       "input_logprob  -0.11694    0.29707  -0.394 0.693847    \n",
       "output_logprob  1.11571    0.69711   1.600 0.109491    \n",
       "---\n",
       "Signif. codes:  0 ‘***’ 0.001 ‘**’ 0.01 ‘*’ 0.05 ‘.’ 0.1 ‘ ’ 1\n",
       "\n",
       "(Dispersion parameter for binomial family taken to be 1)\n",
       "\n",
       "    Null deviance: 235.27  on 199  degrees of freedom\n",
       "Residual deviance: 206.43  on 192  degrees of freedom\n",
       "AIC: 222.43\n",
       "\n",
       "Number of Fisher Scoring iterations: 11\n"
      ]
     },
     "metadata": {},
     "output_type": "display_data"
    }
   ],
   "source": [
    "summary(model_pigtaskenc4)"
   ]
  },
  {
   "cell_type": "code",
   "execution_count": 260,
   "id": "bd9d8362",
   "metadata": {},
   "outputs": [
    {
     "data": {
      "text/plain": [
       "\n",
       "Call:\n",
       "bayesglm(formula = correct ~ task + input_nchars + output_nchars + \n",
       "    input_ntokens + output_ntokens + input_logprob + output_logprob, \n",
       "    family = binomial, data = scaled_pigboarenc_gpt35_df)\n",
       "\n",
       "Deviance Residuals: \n",
       "     Min        1Q    Median        3Q       Max  \n",
       "-1.34676  -0.56454  -0.09404  -0.04128   2.12791  \n",
       "\n",
       "Coefficients:\n",
       "                 Estimate Std. Error z value Pr(>|z|)    \n",
       "(Intercept)    -1.1179010  0.2790838  -4.006 6.19e-05 ***\n",
       "taskuv         -4.7583957  1.5923777  -2.988  0.00281 ** \n",
       "input_nchars   -0.0001285  0.8357634   0.000  0.99988    \n",
       "output_nchars  -0.1209601  0.9211562  -0.131  0.89553    \n",
       "input_ntokens   1.2875572  0.8349638   1.542  0.12306    \n",
       "output_ntokens -0.5590609  0.8881533  -0.629  0.52905    \n",
       "input_logprob   0.4117290  0.3975704   1.036  0.30038    \n",
       "output_logprob  1.0567468  0.8243820   1.282  0.19989    \n",
       "---\n",
       "Signif. codes:  0 ‘***’ 0.001 ‘**’ 0.01 ‘*’ 0.05 ‘.’ 0.1 ‘ ’ 1\n",
       "\n",
       "(Dispersion parameter for binomial family taken to be 1)\n",
       "\n",
       "    Null deviance: 172.51  on 199  degrees of freedom\n",
       "Residual deviance: 108.89  on 192  degrees of freedom\n",
       "AIC: 124.89\n",
       "\n",
       "Number of Fisher Scoring iterations: 20\n"
      ]
     },
     "metadata": {},
     "output_type": "display_data"
    }
   ],
   "source": [
    "summary(model_pigtaskenc35)"
   ]
  },
  {
   "cell_type": "code",
   "execution_count": 261,
   "id": "99390728",
   "metadata": {},
   "outputs": [
    {
     "data": {
      "text/plain": [
       "\n",
       "Call:\n",
       "bayesglm(formula = correct ~ task + input_nchars + output_nchars + \n",
       "    input_ntokens + output_ntokens + input_logprob + output_logprob, \n",
       "    family = binomial, data = scaled_pigboardec_gpt4_df)\n",
       "\n",
       "Deviance Residuals: \n",
       "    Min       1Q   Median       3Q      Max  \n",
       "-2.3852   0.1500   0.4247   0.6446   2.1237  \n",
       "\n",
       "Coefficients:\n",
       "               Estimate Std. Error z value Pr(>|z|)    \n",
       "(Intercept)     2.03290    0.33517   6.065 1.32e-09 ***\n",
       "taskuv         -1.09352    0.42567  -2.569   0.0102 *  \n",
       "input_nchars    0.50073    1.03124   0.486   0.6273    \n",
       "output_nchars   1.78137    1.02638   1.736   0.0826 .  \n",
       "input_ntokens  -0.07019    0.73409  -0.096   0.9238    \n",
       "output_ntokens -0.16773    0.65056  -0.258   0.7965    \n",
       "input_logprob   0.11102    0.68410   0.162   0.8711    \n",
       "output_logprob  1.94851    0.37242   5.232 1.68e-07 ***\n",
       "---\n",
       "Signif. codes:  0 ‘***’ 0.001 ‘**’ 0.01 ‘*’ 0.05 ‘.’ 0.1 ‘ ’ 1\n",
       "\n",
       "(Dispersion parameter for binomial family taken to be 1)\n",
       "\n",
       "    Null deviance: 220.43  on 199  degrees of freedom\n",
       "Residual deviance: 165.58  on 192  degrees of freedom\n",
       "AIC: 181.58\n",
       "\n",
       "Number of Fisher Scoring iterations: 22\n"
      ]
     },
     "metadata": {},
     "output_type": "display_data"
    }
   ],
   "source": [
    "summary(model_pigtaskdec4)"
   ]
  },
  {
   "cell_type": "code",
   "execution_count": 270,
   "id": "bf082304",
   "metadata": {},
   "outputs": [
    {
     "data": {
      "text/plain": [
       "\n",
       "Call:\n",
       "bayesglm(formula = correct ~ task + input_nchars + output_nchars + \n",
       "    input_ntokens + output_ntokens + input_logprob + output_logprob, \n",
       "    family = binomial, data = scaled_pigboardec_gpt35_df)\n",
       "\n",
       "Deviance Residuals: \n",
       "    Min       1Q   Median       3Q      Max  \n",
       "-1.9328  -0.8885  -0.2885   0.8980   2.2525  \n",
       "\n",
       "Coefficients:\n",
       "                Estimate Std. Error z value Pr(>|z|)    \n",
       "(Intercept)     0.004897   0.250383   0.020    0.984    \n",
       "taskuv         -0.571599   0.366717  -1.559    0.119    \n",
       "input_nchars    0.998868   1.160111   0.861    0.389    \n",
       "output_nchars   1.970346   1.071603   1.839    0.066 .  \n",
       "input_ntokens  -0.567395   0.740321  -0.766    0.443    \n",
       "output_ntokens -0.737507   0.627864  -1.175    0.240    \n",
       "input_logprob   0.496922   0.660331   0.753    0.452    \n",
       "output_logprob  2.041873   0.383887   5.319 1.04e-07 ***\n",
       "---\n",
       "Signif. codes:  0 ‘***’ 0.001 ‘**’ 0.01 ‘*’ 0.05 ‘.’ 0.1 ‘ ’ 1\n",
       "\n",
       "(Dispersion parameter for binomial family taken to be 1)\n",
       "\n",
       "    Null deviance: 276.28  on 199  degrees of freedom\n",
       "Residual deviance: 206.34  on 192  degrees of freedom\n",
       "AIC: 222.34\n",
       "\n",
       "Number of Fisher Scoring iterations: 33\n"
      ]
     },
     "metadata": {},
     "output_type": "display_data"
    }
   ],
   "source": [
    "summary(model_pigtaskdec35)"
   ]
  },
  {
   "cell_type": "code",
   "execution_count": 263,
   "id": "7aeeb32a",
   "metadata": {},
   "outputs": [
    {
     "data": {
      "text/html": [
       "<style>\n",
       ".dl-inline {width: auto; margin:0; padding: 0}\n",
       ".dl-inline>dt, .dl-inline>dd {float: none; width: auto; display: inline-block}\n",
       ".dl-inline>dt::after {content: \":\\0020\"; padding-right: .5ex}\n",
       ".dl-inline>dt:not(:first-of-type) {padding-left: .5ex}\n",
       "</style><dl class=dl-inline><dt>task</dt><dd>1.17988435723019</dd><dt>input_nchars</dt><dd>18.8413886293554</dd><dt>output_nchars</dt><dd>23.6112291931405</dd><dt>input_ntokens</dt><dd>11.6903945757275</dd><dt>output_ntokens</dt><dd>15.0526117127114</dd><dt>input_logprob</dt><dd>2.8761783862143</dd><dt>output_logprob</dt><dd>14.3374821590676</dd></dl>\n"
      ],
      "text/latex": [
       "\\begin{description*}\n",
       "\\item[task] 1.17988435723019\n",
       "\\item[input\\textbackslash{}\\_nchars] 18.8413886293554\n",
       "\\item[output\\textbackslash{}\\_nchars] 23.6112291931405\n",
       "\\item[input\\textbackslash{}\\_ntokens] 11.6903945757275\n",
       "\\item[output\\textbackslash{}\\_ntokens] 15.0526117127114\n",
       "\\item[input\\textbackslash{}\\_logprob] 2.8761783862143\n",
       "\\item[output\\textbackslash{}\\_logprob] 14.3374821590676\n",
       "\\end{description*}\n"
      ],
      "text/markdown": [
       "task\n",
       ":   1.17988435723019input_nchars\n",
       ":   18.8413886293554output_nchars\n",
       ":   23.6112291931405input_ntokens\n",
       ":   11.6903945757275output_ntokens\n",
       ":   15.0526117127114input_logprob\n",
       ":   2.8761783862143output_logprob\n",
       ":   14.3374821590676\n",
       "\n"
      ],
      "text/plain": [
       "          task   input_nchars  output_nchars  input_ntokens output_ntokens \n",
       "      1.179884      18.841389      23.611229      11.690395      15.052612 \n",
       " input_logprob output_logprob \n",
       "      2.876178      14.337482 "
      ]
     },
     "metadata": {},
     "output_type": "display_data"
    }
   ],
   "source": [
    "vif(model_pigtaskenc4)"
   ]
  },
  {
   "cell_type": "code",
   "execution_count": 264,
   "id": "4d3390be",
   "metadata": {},
   "outputs": [
    {
     "data": {
      "text/html": [
       "<style>\n",
       ".dl-inline {width: auto; margin:0; padding: 0}\n",
       ".dl-inline>dt, .dl-inline>dd {float: none; width: auto; display: inline-block}\n",
       ".dl-inline>dt::after {content: \":\\0020\"; padding-right: .5ex}\n",
       ".dl-inline>dt:not(:first-of-type) {padding-left: .5ex}\n",
       "</style><dl class=dl-inline><dt>task</dt><dd>1.00904404240728</dd><dt>input_nchars</dt><dd>10.4074139829673</dd><dt>output_nchars</dt><dd>12.6384735746685</dd><dt>input_ntokens</dt><dd>10.750234212599</dd><dt>output_ntokens</dt><dd>10.5138407769025</dd><dt>input_logprob</dt><dd>2.36490513198028</dd><dt>output_logprob</dt><dd>9.45812589012868</dd></dl>\n"
      ],
      "text/latex": [
       "\\begin{description*}\n",
       "\\item[task] 1.00904404240728\n",
       "\\item[input\\textbackslash{}\\_nchars] 10.4074139829673\n",
       "\\item[output\\textbackslash{}\\_nchars] 12.6384735746685\n",
       "\\item[input\\textbackslash{}\\_ntokens] 10.750234212599\n",
       "\\item[output\\textbackslash{}\\_ntokens] 10.5138407769025\n",
       "\\item[input\\textbackslash{}\\_logprob] 2.36490513198028\n",
       "\\item[output\\textbackslash{}\\_logprob] 9.45812589012868\n",
       "\\end{description*}\n"
      ],
      "text/markdown": [
       "task\n",
       ":   1.00904404240728input_nchars\n",
       ":   10.4074139829673output_nchars\n",
       ":   12.6384735746685input_ntokens\n",
       ":   10.750234212599output_ntokens\n",
       ":   10.5138407769025input_logprob\n",
       ":   2.36490513198028output_logprob\n",
       ":   9.45812589012868\n",
       "\n"
      ],
      "text/plain": [
       "          task   input_nchars  output_nchars  input_ntokens output_ntokens \n",
       "      1.009044      10.407414      12.638474      10.750234      10.513841 \n",
       " input_logprob output_logprob \n",
       "      2.364905       9.458126 "
      ]
     },
     "metadata": {},
     "output_type": "display_data"
    }
   ],
   "source": [
    "vif(model_pigtaskenc35)"
   ]
  },
  {
   "cell_type": "code",
   "execution_count": 265,
   "id": "dd09e71d",
   "metadata": {},
   "outputs": [
    {
     "data": {
      "text/html": [
       "<style>\n",
       ".dl-inline {width: auto; margin:0; padding: 0}\n",
       ".dl-inline>dt, .dl-inline>dd {float: none; width: auto; display: inline-block}\n",
       ".dl-inline>dt::after {content: \":\\0020\"; padding-right: .5ex}\n",
       ".dl-inline>dt:not(:first-of-type) {padding-left: .5ex}\n",
       "</style><dl class=dl-inline><dt>task</dt><dd>1.22214157716482</dd><dt>input_nchars</dt><dd>28.1189137348975</dd><dt>output_nchars</dt><dd>27.5095793311362</dd><dt>input_ntokens</dt><dd>15.0349949035425</dd><dt>output_ntokens</dt><dd>11.2407780691596</dd><dt>input_logprob</dt><dd>13.1652209187954</dd><dt>output_logprob</dt><dd>3.99873526984109</dd></dl>\n"
      ],
      "text/latex": [
       "\\begin{description*}\n",
       "\\item[task] 1.22214157716482\n",
       "\\item[input\\textbackslash{}\\_nchars] 28.1189137348975\n",
       "\\item[output\\textbackslash{}\\_nchars] 27.5095793311362\n",
       "\\item[input\\textbackslash{}\\_ntokens] 15.0349949035425\n",
       "\\item[output\\textbackslash{}\\_ntokens] 11.2407780691596\n",
       "\\item[input\\textbackslash{}\\_logprob] 13.1652209187954\n",
       "\\item[output\\textbackslash{}\\_logprob] 3.99873526984109\n",
       "\\end{description*}\n"
      ],
      "text/markdown": [
       "task\n",
       ":   1.22214157716482input_nchars\n",
       ":   28.1189137348975output_nchars\n",
       ":   27.5095793311362input_ntokens\n",
       ":   15.0349949035425output_ntokens\n",
       ":   11.2407780691596input_logprob\n",
       ":   13.1652209187954output_logprob\n",
       ":   3.99873526984109\n",
       "\n"
      ],
      "text/plain": [
       "          task   input_nchars  output_nchars  input_ntokens output_ntokens \n",
       "      1.222142      28.118914      27.509579      15.034995      11.240778 \n",
       " input_logprob output_logprob \n",
       "     13.165221       3.998735 "
      ]
     },
     "metadata": {},
     "output_type": "display_data"
    }
   ],
   "source": [
    "vif(model_pigtaskdec4)"
   ]
  },
  {
   "cell_type": "code",
   "execution_count": 266,
   "id": "693a373f",
   "metadata": {},
   "outputs": [
    {
     "data": {
      "text/html": [
       "<style>\n",
       ".dl-inline {width: auto; margin:0; padding: 0}\n",
       ".dl-inline>dt, .dl-inline>dd {float: none; width: auto; display: inline-block}\n",
       ".dl-inline>dt::after {content: \":\\0020\"; padding-right: .5ex}\n",
       ".dl-inline>dt:not(:first-of-type) {padding-left: .5ex}\n",
       "</style><dl class=dl-inline><dt>task</dt><dd>1.25684515277677</dd><dt>input_nchars</dt><dd>44.8912756394023</dd><dt>output_nchars</dt><dd>37.9633232299069</dd><dt>input_ntokens</dt><dd>17.9753676072403</dd><dt>output_ntokens</dt><dd>13.3381506755059</dd><dt>input_logprob</dt><dd>14.6198790533391</dd><dt>output_logprob</dt><dd>3.96013992071429</dd></dl>\n"
      ],
      "text/latex": [
       "\\begin{description*}\n",
       "\\item[task] 1.25684515277677\n",
       "\\item[input\\textbackslash{}\\_nchars] 44.8912756394023\n",
       "\\item[output\\textbackslash{}\\_nchars] 37.9633232299069\n",
       "\\item[input\\textbackslash{}\\_ntokens] 17.9753676072403\n",
       "\\item[output\\textbackslash{}\\_ntokens] 13.3381506755059\n",
       "\\item[input\\textbackslash{}\\_logprob] 14.6198790533391\n",
       "\\item[output\\textbackslash{}\\_logprob] 3.96013992071429\n",
       "\\end{description*}\n"
      ],
      "text/markdown": [
       "task\n",
       ":   1.25684515277677input_nchars\n",
       ":   44.8912756394023output_nchars\n",
       ":   37.9633232299069input_ntokens\n",
       ":   17.9753676072403output_ntokens\n",
       ":   13.3381506755059input_logprob\n",
       ":   14.6198790533391output_logprob\n",
       ":   3.96013992071429\n",
       "\n"
      ],
      "text/plain": [
       "          task   input_nchars  output_nchars  input_ntokens output_ntokens \n",
       "      1.256845      44.891276      37.963323      17.975368      13.338151 \n",
       " input_logprob output_logprob \n",
       "     14.619879       3.960140 "
      ]
     },
     "metadata": {},
     "output_type": "display_data"
    }
   ],
   "source": [
    "vif(model_pigtaskdec35)"
   ]
  },
  {
   "cell_type": "code",
   "execution_count": null,
   "id": "c76a111b",
   "metadata": {},
   "outputs": [],
   "source": []
  },
  {
   "cell_type": "markdown",
   "id": "292cc933",
   "metadata": {},
   "source": [
    "### Comparing Pig Latin variants"
   ]
  },
  {
   "cell_type": "code",
   "execution_count": 271,
   "id": "e2eed41a",
   "metadata": {},
   "outputs": [],
   "source": [
    "# Read in data\n",
    "pigprobenc_gpt4_df <- read.table(file = 'table_pig_prob_enc_gpt-4.tsv', sep = '\\t', header = TRUE)\n",
    "pigprobenc_gpt35_df <- read.table(file = 'table_pig_prob_enc_gpt-3.5-turbo.tsv', sep = '\\t', header = TRUE)\n",
    "\n",
    "pigprobdec_gpt4_df <- read.table(file = 'table_pig_prob_dec_gpt-4.tsv', sep = '\\t', header = TRUE)\n",
    "pigprobdec_gpt35_df <- read.table(file = 'table_pig_prob_dec_gpt-3.5-turbo.tsv', sep = '\\t', header = TRUE)"
   ]
  },
  {
   "cell_type": "code",
   "execution_count": 275,
   "id": "7ca1e0cd",
   "metadata": {},
   "outputs": [],
   "source": [
    "# Z-score data\n",
    "scaled_pigprobenc_gpt4_df <- scale_taskpair_prob_df(pigprobenc_gpt4_df)\n",
    "scaled_pigprobenc_gpt35_df <- scale_taskpair_prob_df(pigprobenc_gpt35_df)\n",
    "\n",
    "scaled_pigprobdec_gpt4_df <- scale_taskpair_prob_df(pigprobdec_gpt4_df)\n",
    "scaled_pigprobdec_gpt35_df <- scale_taskpair_prob_df(pigprobdec_gpt35_df)"
   ]
  },
  {
   "cell_type": "code",
   "execution_count": 277,
   "id": "f5bf3c6f",
   "metadata": {},
   "outputs": [],
   "source": [
    "model_pigprobenc4 <- glm(correct ~ task + input_nchars + output_nchars + input_ntokens + output_ntokens + input_logprob + output_logprob, \n",
    "               data=scaled_pigprobenc_gpt4_df, family=binomial)\n"
   ]
  },
  {
   "cell_type": "code",
   "execution_count": 278,
   "id": "e63591ef",
   "metadata": {},
   "outputs": [],
   "source": [
    "model_pigprobenc35 <- glm(correct ~ task + input_nchars + output_nchars + input_ntokens + output_ntokens + input_logprob + output_logprob, \n",
    "               data=scaled_pigprobenc_gpt35_df, family=binomial)\n"
   ]
  },
  {
   "cell_type": "code",
   "execution_count": 279,
   "id": "23bd3b9a",
   "metadata": {},
   "outputs": [],
   "source": [
    "model_pigprobdec4 <- glm(correct ~ task + input_nchars + output_nchars + input_ntokens + output_ntokens + input_logprob + output_logprob, \n",
    "               data=scaled_pigprobdec_gpt4_df, family=binomial)"
   ]
  },
  {
   "cell_type": "code",
   "execution_count": 280,
   "id": "25de9060",
   "metadata": {},
   "outputs": [],
   "source": [
    "model_pigprobdec35 <- glm(correct ~ task + input_nchars + output_nchars + input_ntokens + output_ntokens + input_logprob + output_logprob, \n",
    "               data=scaled_pigprobdec_gpt35_df, family=binomial)"
   ]
  },
  {
   "cell_type": "code",
   "execution_count": 281,
   "id": "23d89fb2",
   "metadata": {},
   "outputs": [
    {
     "data": {
      "text/plain": [
       "\n",
       "Call:\n",
       "glm(formula = correct ~ task + input_nchars + output_nchars + \n",
       "    input_ntokens + output_ntokens + input_logprob + output_logprob, \n",
       "    family = binomial, data = scaled_pigprobenc_gpt4_df)\n",
       "\n",
       "Deviance Residuals: \n",
       "    Min       1Q   Median       3Q      Max  \n",
       "-1.8277  -0.7579  -0.4865   0.8862   2.4740  \n",
       "\n",
       "Coefficients:\n",
       "               Estimate Std. Error z value Pr(>|z|)    \n",
       "(Intercept)    -1.29650    0.12717 -10.195  < 2e-16 ***\n",
       "task            0.77758    0.12631   6.156 7.46e-10 ***\n",
       "input_nchars    5.24036    1.50782   3.475 0.000510 ***\n",
       "output_nchars  -6.38759    1.90197  -3.358 0.000784 ***\n",
       "input_ntokens   1.31861    0.61597   2.141 0.032296 *  \n",
       "output_ntokens  1.46049    0.71862   2.032 0.042117 *  \n",
       "input_logprob   0.04002    0.22077   0.181 0.856154    \n",
       "output_logprob  2.14571    0.58126   3.691 0.000223 ***\n",
       "---\n",
       "Signif. codes:  0 ‘***’ 0.001 ‘**’ 0.01 ‘*’ 0.05 ‘.’ 0.1 ‘ ’ 1\n",
       "\n",
       "(Dispersion parameter for binomial family taken to be 1)\n",
       "\n",
       "    Null deviance: 579.24  on 499  degrees of freedom\n",
       "Residual deviance: 487.19  on 492  degrees of freedom\n",
       "AIC: 503.19\n",
       "\n",
       "Number of Fisher Scoring iterations: 5\n"
      ]
     },
     "metadata": {},
     "output_type": "display_data"
    }
   ],
   "source": [
    "summary(model_pigprobenc4)"
   ]
  },
  {
   "cell_type": "code",
   "execution_count": 282,
   "id": "d320b2fe",
   "metadata": {},
   "outputs": [
    {
     "data": {
      "text/plain": [
       "\n",
       "Call:\n",
       "glm(formula = correct ~ task + input_nchars + output_nchars + \n",
       "    input_ntokens + output_ntokens + input_logprob + output_logprob, \n",
       "    family = binomial, data = scaled_pigprobenc_gpt35_df)\n",
       "\n",
       "Deviance Residuals: \n",
       "    Min       1Q   Median       3Q      Max  \n",
       "-1.5288  -0.5968  -0.3621  -0.1589   2.6269  \n",
       "\n",
       "Coefficients:\n",
       "               Estimate Std. Error z value Pr(>|z|)    \n",
       "(Intercept)     -2.1750     0.1812 -12.001  < 2e-16 ***\n",
       "task             0.8329     0.1577   5.282 1.28e-07 ***\n",
       "input_nchars     4.8477     1.8771   2.583 0.009806 ** \n",
       "output_nchars   -6.5050     2.3896  -2.722 0.006485 ** \n",
       "input_ntokens    1.9108     0.7666   2.493 0.012678 *  \n",
       "output_ntokens   1.9158     0.9199   2.083 0.037290 *  \n",
       "input_logprob    0.4825     0.2880   1.675 0.093839 .  \n",
       "output_logprob   2.5555     0.7243   3.528 0.000419 ***\n",
       "---\n",
       "Signif. codes:  0 ‘***’ 0.001 ‘**’ 0.01 ‘*’ 0.05 ‘.’ 0.1 ‘ ’ 1\n",
       "\n",
       "(Dispersion parameter for binomial family taken to be 1)\n",
       "\n",
       "    Null deviance: 449.49  on 499  degrees of freedom\n",
       "Residual deviance: 360.15  on 492  degrees of freedom\n",
       "AIC: 376.15\n",
       "\n",
       "Number of Fisher Scoring iterations: 6\n"
      ]
     },
     "metadata": {},
     "output_type": "display_data"
    }
   ],
   "source": [
    "summary(model_pigprobenc35)"
   ]
  },
  {
   "cell_type": "code",
   "execution_count": 283,
   "id": "f3fb3ed2",
   "metadata": {},
   "outputs": [
    {
     "data": {
      "text/plain": [
       "\n",
       "Call:\n",
       "glm(formula = correct ~ task + input_nchars + output_nchars + \n",
       "    input_ntokens + output_ntokens + input_logprob + output_logprob, \n",
       "    family = binomial, data = scaled_pigprobdec_gpt4_df)\n",
       "\n",
       "Deviance Residuals: \n",
       "    Min       1Q   Median       3Q      Max  \n",
       "-2.7103   0.2187   0.4316   0.6099   2.1449  \n",
       "\n",
       "Coefficients:\n",
       "               Estimate Std. Error z value Pr(>|z|)    \n",
       "(Intercept)      1.7858     0.1491  11.981  < 2e-16 ***\n",
       "task             0.2061     0.1298   1.587   0.1125    \n",
       "input_nchars    -4.9866     2.3315  -2.139   0.0325 *  \n",
       "output_nchars    7.9504     1.9907   3.994 6.50e-05 ***\n",
       "input_ntokens   -0.1614     0.7548  -0.214   0.8307    \n",
       "output_ntokens   0.4510     0.7559   0.597   0.5507    \n",
       "input_logprob    1.3863     0.6421   2.159   0.0309 *  \n",
       "output_logprob   1.6532     0.2650   6.239 4.42e-10 ***\n",
       "---\n",
       "Signif. codes:  0 ‘***’ 0.001 ‘**’ 0.01 ‘*’ 0.05 ‘.’ 0.1 ‘ ’ 1\n",
       "\n",
       "(Dispersion parameter for binomial family taken to be 1)\n",
       "\n",
       "    Null deviance: 503.16  on 499  degrees of freedom\n",
       "Residual deviance: 394.20  on 492  degrees of freedom\n",
       "AIC: 410.2\n",
       "\n",
       "Number of Fisher Scoring iterations: 5\n"
      ]
     },
     "metadata": {},
     "output_type": "display_data"
    }
   ],
   "source": [
    "summary(model_pigprobdec4)"
   ]
  },
  {
   "cell_type": "code",
   "execution_count": 284,
   "id": "8809d8c7",
   "metadata": {},
   "outputs": [
    {
     "data": {
      "text/plain": [
       "\n",
       "Call:\n",
       "glm(formula = correct ~ task + input_nchars + output_nchars + \n",
       "    input_ntokens + output_ntokens + input_logprob + output_logprob, \n",
       "    family = binomial, data = scaled_pigprobdec_gpt35_df)\n",
       "\n",
       "Deviance Residuals: \n",
       "    Min       1Q   Median       3Q      Max  \n",
       "-2.4052  -0.9218   0.3219   0.9826   2.6449  \n",
       "\n",
       "Coefficients:\n",
       "               Estimate Std. Error z value Pr(>|z|)    \n",
       "(Intercept)    -0.04271    0.10284  -0.415 0.677920    \n",
       "task            0.07490    0.10425   0.718 0.472508    \n",
       "input_nchars    1.39771    1.64214   0.851 0.394687    \n",
       "output_nchars   2.21900    1.37007   1.620 0.105314    \n",
       "input_ntokens   0.28319    0.59429   0.477 0.633703    \n",
       "output_ntokens -1.89277    0.54879  -3.449 0.000563 ***\n",
       "input_logprob   1.06417    0.48929   2.175 0.029636 *  \n",
       "output_logprob  1.47622    0.22985   6.422 1.34e-10 ***\n",
       "---\n",
       "Signif. codes:  0 ‘***’ 0.001 ‘**’ 0.01 ‘*’ 0.05 ‘.’ 0.1 ‘ ’ 1\n",
       "\n",
       "(Dispersion parameter for binomial family taken to be 1)\n",
       "\n",
       "    Null deviance: 693.14  on 499  degrees of freedom\n",
       "Residual deviance: 570.11  on 492  degrees of freedom\n",
       "AIC: 586.11\n",
       "\n",
       "Number of Fisher Scoring iterations: 4\n"
      ]
     },
     "metadata": {},
     "output_type": "display_data"
    }
   ],
   "source": [
    "summary(model_pigprobdec35)"
   ]
  },
  {
   "cell_type": "code",
   "execution_count": 285,
   "id": "5472dbb4",
   "metadata": {},
   "outputs": [
    {
     "data": {
      "text/html": [
       "<style>\n",
       ".dl-inline {width: auto; margin:0; padding: 0}\n",
       ".dl-inline>dt, .dl-inline>dd {float: none; width: auto; display: inline-block}\n",
       ".dl-inline>dt::after {content: \":\\0020\"; padding-right: .5ex}\n",
       ".dl-inline>dt:not(:first-of-type) {padding-left: .5ex}\n",
       "</style><dl class=dl-inline><dt>task</dt><dd>1.11579567018004</dd><dt>input_nchars</dt><dd>155.193724632859</dd><dt>output_nchars</dt><dd>240.945177386764</dd><dt>input_ntokens</dt><dd>26.2066472928561</dd><dt>output_ntokens</dt><dd>34.342466714741</dd><dt>input_logprob</dt><dd>3.40198481155927</dd><dt>output_logprob</dt><dd>21.9454969209398</dd></dl>\n"
      ],
      "text/latex": [
       "\\begin{description*}\n",
       "\\item[task] 1.11579567018004\n",
       "\\item[input\\textbackslash{}\\_nchars] 155.193724632859\n",
       "\\item[output\\textbackslash{}\\_nchars] 240.945177386764\n",
       "\\item[input\\textbackslash{}\\_ntokens] 26.2066472928561\n",
       "\\item[output\\textbackslash{}\\_ntokens] 34.342466714741\n",
       "\\item[input\\textbackslash{}\\_logprob] 3.40198481155927\n",
       "\\item[output\\textbackslash{}\\_logprob] 21.9454969209398\n",
       "\\end{description*}\n"
      ],
      "text/markdown": [
       "task\n",
       ":   1.11579567018004input_nchars\n",
       ":   155.193724632859output_nchars\n",
       ":   240.945177386764input_ntokens\n",
       ":   26.2066472928561output_ntokens\n",
       ":   34.342466714741input_logprob\n",
       ":   3.40198481155927output_logprob\n",
       ":   21.9454969209398\n",
       "\n"
      ],
      "text/plain": [
       "          task   input_nchars  output_nchars  input_ntokens output_ntokens \n",
       "      1.115796     155.193725     240.945177      26.206647      34.342467 \n",
       " input_logprob output_logprob \n",
       "      3.401985      21.945497 "
      ]
     },
     "metadata": {},
     "output_type": "display_data"
    }
   ],
   "source": [
    "vif(model_pigprobenc4)"
   ]
  },
  {
   "cell_type": "code",
   "execution_count": 286,
   "id": "bef8d3cc",
   "metadata": {},
   "outputs": [
    {
     "data": {
      "text/html": [
       "<style>\n",
       ".dl-inline {width: auto; margin:0; padding: 0}\n",
       ".dl-inline>dt, .dl-inline>dd {float: none; width: auto; display: inline-block}\n",
       ".dl-inline>dt::after {content: \":\\0020\"; padding-right: .5ex}\n",
       ".dl-inline>dt:not(:first-of-type) {padding-left: .5ex}\n",
       "</style><dl class=dl-inline><dt>task</dt><dd>1.13629777927553</dd><dt>input_nchars</dt><dd>136.432641170709</dd><dt>output_nchars</dt><dd>216.50775961205</dd><dt>input_ntokens</dt><dd>24.6540311691501</dd><dt>output_ntokens</dt><dd>32.9621812456058</dd><dt>input_logprob</dt><dd>3.10754213323976</dd><dt>output_logprob</dt><dd>19.4638458383537</dd></dl>\n"
      ],
      "text/latex": [
       "\\begin{description*}\n",
       "\\item[task] 1.13629777927553\n",
       "\\item[input\\textbackslash{}\\_nchars] 136.432641170709\n",
       "\\item[output\\textbackslash{}\\_nchars] 216.50775961205\n",
       "\\item[input\\textbackslash{}\\_ntokens] 24.6540311691501\n",
       "\\item[output\\textbackslash{}\\_ntokens] 32.9621812456058\n",
       "\\item[input\\textbackslash{}\\_logprob] 3.10754213323976\n",
       "\\item[output\\textbackslash{}\\_logprob] 19.4638458383537\n",
       "\\end{description*}\n"
      ],
      "text/markdown": [
       "task\n",
       ":   1.13629777927553input_nchars\n",
       ":   136.432641170709output_nchars\n",
       ":   216.50775961205input_ntokens\n",
       ":   24.6540311691501output_ntokens\n",
       ":   32.9621812456058input_logprob\n",
       ":   3.10754213323976output_logprob\n",
       ":   19.4638458383537\n",
       "\n"
      ],
      "text/plain": [
       "          task   input_nchars  output_nchars  input_ntokens output_ntokens \n",
       "      1.136298     136.432641     216.507760      24.654031      32.962181 \n",
       " input_logprob output_logprob \n",
       "      3.107542      19.463846 "
      ]
     },
     "metadata": {},
     "output_type": "display_data"
    }
   ],
   "source": [
    "vif(model_pigprobenc35)"
   ]
  },
  {
   "cell_type": "code",
   "execution_count": 287,
   "id": "2d2ad76d",
   "metadata": {},
   "outputs": [
    {
     "data": {
      "text/html": [
       "<style>\n",
       ".dl-inline {width: auto; margin:0; padding: 0}\n",
       ".dl-inline>dt, .dl-inline>dd {float: none; width: auto; display: inline-block}\n",
       ".dl-inline>dt::after {content: \":\\0020\"; padding-right: .5ex}\n",
       ".dl-inline>dt:not(:first-of-type) {padding-left: .5ex}\n",
       "</style><dl class=dl-inline><dt>task</dt><dd>1.03996307236074</dd><dt>input_nchars</dt><dd>294.783904467808</dd><dt>output_nchars</dt><dd>211.029488844809</dd><dt>input_ntokens</dt><dd>32.6249958678959</dd><dt>output_ntokens</dt><dd>31.237753531276</dd><dt>input_logprob</dt><dd>24.826003857471</dd><dt>output_logprob</dt><dd>4.3089821501986</dd></dl>\n"
      ],
      "text/latex": [
       "\\begin{description*}\n",
       "\\item[task] 1.03996307236074\n",
       "\\item[input\\textbackslash{}\\_nchars] 294.783904467808\n",
       "\\item[output\\textbackslash{}\\_nchars] 211.029488844809\n",
       "\\item[input\\textbackslash{}\\_ntokens] 32.6249958678959\n",
       "\\item[output\\textbackslash{}\\_ntokens] 31.237753531276\n",
       "\\item[input\\textbackslash{}\\_logprob] 24.826003857471\n",
       "\\item[output\\textbackslash{}\\_logprob] 4.3089821501986\n",
       "\\end{description*}\n"
      ],
      "text/markdown": [
       "task\n",
       ":   1.03996307236074input_nchars\n",
       ":   294.783904467808output_nchars\n",
       ":   211.029488844809input_ntokens\n",
       ":   32.6249958678959output_ntokens\n",
       ":   31.237753531276input_logprob\n",
       ":   24.826003857471output_logprob\n",
       ":   4.3089821501986\n",
       "\n"
      ],
      "text/plain": [
       "          task   input_nchars  output_nchars  input_ntokens output_ntokens \n",
       "      1.039963     294.783904     211.029489      32.624996      31.237754 \n",
       " input_logprob output_logprob \n",
       "     24.826004       4.308982 "
      ]
     },
     "metadata": {},
     "output_type": "display_data"
    }
   ],
   "source": [
    "vif(model_pigprobdec4)"
   ]
  },
  {
   "cell_type": "code",
   "execution_count": 288,
   "id": "ba5a3c26",
   "metadata": {},
   "outputs": [
    {
     "data": {
      "text/html": [
       "<style>\n",
       ".dl-inline {width: auto; margin:0; padding: 0}\n",
       ".dl-inline>dt, .dl-inline>dd {float: none; width: auto; display: inline-block}\n",
       ".dl-inline>dt::after {content: \":\\0020\"; padding-right: .5ex}\n",
       ".dl-inline>dt:not(:first-of-type) {padding-left: .5ex}\n",
       "</style><dl class=dl-inline><dt>task</dt><dd>1.05533292345652</dd><dt>input_nchars</dt><dd>252.40745755756</dd><dt>output_nchars</dt><dd>174.053674461663</dd><dt>input_ntokens</dt><dd>33.1774630824503</dd><dt>output_ntokens</dt><dd>28.4340883928861</dd><dt>input_logprob</dt><dd>22.5175305190614</dd><dt>output_logprob</dt><dd>4.45088569404585</dd></dl>\n"
      ],
      "text/latex": [
       "\\begin{description*}\n",
       "\\item[task] 1.05533292345652\n",
       "\\item[input\\textbackslash{}\\_nchars] 252.40745755756\n",
       "\\item[output\\textbackslash{}\\_nchars] 174.053674461663\n",
       "\\item[input\\textbackslash{}\\_ntokens] 33.1774630824503\n",
       "\\item[output\\textbackslash{}\\_ntokens] 28.4340883928861\n",
       "\\item[input\\textbackslash{}\\_logprob] 22.5175305190614\n",
       "\\item[output\\textbackslash{}\\_logprob] 4.45088569404585\n",
       "\\end{description*}\n"
      ],
      "text/markdown": [
       "task\n",
       ":   1.05533292345652input_nchars\n",
       ":   252.40745755756output_nchars\n",
       ":   174.053674461663input_ntokens\n",
       ":   33.1774630824503output_ntokens\n",
       ":   28.4340883928861input_logprob\n",
       ":   22.5175305190614output_logprob\n",
       ":   4.45088569404585\n",
       "\n"
      ],
      "text/plain": [
       "          task   input_nchars  output_nchars  input_ntokens output_ntokens \n",
       "      1.055333     252.407458     174.053674      33.177463      28.434088 \n",
       " input_logprob output_logprob \n",
       "     22.517531       4.450886 "
      ]
     },
     "metadata": {},
     "output_type": "display_data"
    }
   ],
   "source": [
    "vif(model_pigprobdec35)"
   ]
  },
  {
   "cell_type": "code",
   "execution_count": null,
   "id": "52cc684b",
   "metadata": {},
   "outputs": [],
   "source": []
  },
  {
   "cell_type": "code",
   "execution_count": null,
   "id": "eacb8378",
   "metadata": {},
   "outputs": [],
   "source": []
  },
  {
   "cell_type": "markdown",
   "id": "b920f79a",
   "metadata": {},
   "source": [
    "# Acronyms"
   ]
  },
  {
   "cell_type": "code",
   "execution_count": 291,
   "id": "7b12599f",
   "metadata": {},
   "outputs": [],
   "source": [
    "# Read in data\n",
    "acronym_gpt4_outp_df <- read.table(file = 'table_acronym_varyoutp_gpt-4.tsv', sep = '\\t', header = TRUE)\n",
    "acronym_gpt35_outp_df <- read.table(file = 'table_acronym_varyoutp_gpt-3.5-turbo.tsv', sep = '\\t', header = TRUE)\n",
    "\n",
    "acronym_gpt4_inp_df <- read.table(file = 'table_acronym_varyinp_gpt-4.tsv', sep = '\\t', header = TRUE)\n",
    "acronym_gpt35_inp_df <- read.table(file = 'table_acronym_varyinp_gpt-3.5-turbo.tsv', sep = '\\t', header = TRUE)\n"
   ]
  },
  {
   "cell_type": "code",
   "execution_count": 292,
   "id": "73d8d37a",
   "metadata": {},
   "outputs": [],
   "source": [
    "# Z-score data\n",
    "scaled_acronym_gpt4_outp_df <- scale_df(acronym_gpt4_outp_df)\n",
    "scaled_acronym_gpt35_outp_df <- scale_df(acronym_gpt35_outp_df)\n",
    "\n",
    "scaled_acronym_gpt4_inp_df <- scale_df(acronym_gpt4_inp_df)\n",
    "scaled_acronym_gpt35_inp_df <- scale_df(acronym_gpt35_inp_df)"
   ]
  },
  {
   "cell_type": "code",
   "execution_count": 293,
   "id": "08f1813d",
   "metadata": {},
   "outputs": [],
   "source": [
    "acronym_gpt4_outp_model <- glm(correct ~ input_logprob + output_logprob, \n",
    "               data=scaled_acronym_gpt4_outp_df, family=binomial)\n",
    "acronym_gpt35_outp_model <- glm(correct ~ input_logprob + output_logprob, \n",
    "               data=scaled_acronym_gpt35_outp_df, family=binomial)\n",
    "acronym_gpt4_inp_model <- glm(correct ~ input_logprob + output_logprob, \n",
    "               data=scaled_acronym_gpt4_inp_df, family=binomial)\n",
    "acronym_gpt35_inp_model <- glm(correct ~ input_logprob + output_logprob, \n",
    "               data=scaled_acronym_gpt35_inp_df, family=binomial)"
   ]
  },
  {
   "cell_type": "code",
   "execution_count": 294,
   "id": "1f965da8",
   "metadata": {},
   "outputs": [
    {
     "data": {
      "text/plain": [
       "\n",
       "Call:\n",
       "glm(formula = correct ~ input_logprob + output_logprob, family = binomial, \n",
       "    data = scaled_acronym_gpt4_outp_df)\n",
       "\n",
       "Deviance Residuals: \n",
       "    Min       1Q   Median       3Q      Max  \n",
       "-1.8568  -1.4834   0.7522   0.8102   0.9465  \n",
       "\n",
       "Coefficients:\n",
       "               Estimate Std. Error z value Pr(>|z|)    \n",
       "(Intercept)     1.01459    0.03216  31.544  < 2e-16 ***\n",
       "input_logprob   0.02365    0.03219   0.734    0.463    \n",
       "output_logprob  0.18045    0.03215   5.613 1.98e-08 ***\n",
       "---\n",
       "Signif. codes:  0 ‘***’ 0.001 ‘**’ 0.01 ‘*’ 0.05 ‘.’ 0.1 ‘ ’ 1\n",
       "\n",
       "(Dispersion parameter for binomial family taken to be 1)\n",
       "\n",
       "    Null deviance: 5808.6  on 4999  degrees of freedom\n",
       "Residual deviance: 5775.8  on 4997  degrees of freedom\n",
       "AIC: 5781.8\n",
       "\n",
       "Number of Fisher Scoring iterations: 4\n"
      ]
     },
     "metadata": {},
     "output_type": "display_data"
    }
   ],
   "source": [
    "summary(acronym_gpt4_outp_model)"
   ]
  },
  {
   "cell_type": "code",
   "execution_count": 295,
   "id": "761e8dc0",
   "metadata": {},
   "outputs": [
    {
     "data": {
      "text/plain": [
       "\n",
       "Call:\n",
       "glm(formula = correct ~ input_logprob + output_logprob, family = binomial, \n",
       "    data = scaled_acronym_gpt35_outp_df)\n",
       "\n",
       "Deviance Residuals: \n",
       "    Min       1Q   Median       3Q      Max  \n",
       "-1.1974  -0.8503  -0.7280   1.3761   1.9420  \n",
       "\n",
       "Coefficients:\n",
       "               Estimate Std. Error z value Pr(>|z|)    \n",
       "(Intercept)    -0.95022    0.03213 -29.576   <2e-16 ***\n",
       "input_logprob   0.02860    0.03171   0.902    0.367    \n",
       "output_logprob  0.35613    0.03269  10.894   <2e-16 ***\n",
       "---\n",
       "Signif. codes:  0 ‘***’ 0.001 ‘**’ 0.01 ‘*’ 0.05 ‘.’ 0.1 ‘ ’ 1\n",
       "\n",
       "(Dispersion parameter for binomial family taken to be 1)\n",
       "\n",
       "    Null deviance: 5970.6  on 4999  degrees of freedom\n",
       "Residual deviance: 5845.1  on 4997  degrees of freedom\n",
       "AIC: 5851.1\n",
       "\n",
       "Number of Fisher Scoring iterations: 4\n"
      ]
     },
     "metadata": {},
     "output_type": "display_data"
    }
   ],
   "source": [
    "summary(acronym_gpt35_outp_model)"
   ]
  },
  {
   "cell_type": "code",
   "execution_count": 296,
   "id": "29568085",
   "metadata": {},
   "outputs": [
    {
     "data": {
      "text/plain": [
       "\n",
       "Call:\n",
       "glm(formula = correct ~ input_logprob + output_logprob, family = binomial, \n",
       "    data = scaled_acronym_gpt4_inp_df)\n",
       "\n",
       "Deviance Residuals: \n",
       "    Min       1Q   Median       3Q      Max  \n",
       "-1.7203  -1.5978   0.7551   0.7788   0.8319  \n",
       "\n",
       "Coefficients:\n",
       "               Estimate Std. Error z value Pr(>|z|)    \n",
       "(Intercept)     1.07431    0.03249  33.069   <2e-16 ***\n",
       "input_logprob   0.06318    0.03256   1.940   0.0523 .  \n",
       "output_logprob -0.02536    0.03220  -0.788   0.4309    \n",
       "---\n",
       "Signif. codes:  0 ‘***’ 0.001 ‘**’ 0.01 ‘*’ 0.05 ‘.’ 0.1 ‘ ’ 1\n",
       "\n",
       "(Dispersion parameter for binomial family taken to be 1)\n",
       "\n",
       "    Null deviance: 5675.5  on 4999  degrees of freedom\n",
       "Residual deviance: 5671.1  on 4997  degrees of freedom\n",
       "AIC: 5677.1\n",
       "\n",
       "Number of Fisher Scoring iterations: 4\n"
      ]
     },
     "metadata": {},
     "output_type": "display_data"
    }
   ],
   "source": [
    "summary(acronym_gpt4_inp_model)"
   ]
  },
  {
   "cell_type": "code",
   "execution_count": 297,
   "id": "7b232af8",
   "metadata": {},
   "outputs": [
    {
     "data": {
      "text/plain": [
       "\n",
       "Call:\n",
       "glm(formula = correct ~ input_logprob + output_logprob, family = binomial, \n",
       "    data = scaled_acronym_gpt35_inp_df)\n",
       "\n",
       "Deviance Residuals: \n",
       "    Min       1Q   Median       3Q      Max  \n",
       "-1.0004  -0.9175  -0.8470   1.4090   1.6041  \n",
       "\n",
       "Coefficients:\n",
       "                Estimate Std. Error z value Pr(>|z|)    \n",
       "(Intercept)    -0.725846   0.030267 -23.982  < 2e-16 ***\n",
       "input_logprob   0.153745   0.030205   5.090 3.58e-07 ***\n",
       "output_logprob -0.005357   0.030269  -0.177     0.86    \n",
       "---\n",
       "Signif. codes:  0 ‘***’ 0.001 ‘**’ 0.01 ‘*’ 0.05 ‘.’ 0.1 ‘ ’ 1\n",
       "\n",
       "(Dispersion parameter for binomial family taken to be 1)\n",
       "\n",
       "    Null deviance: 6320.3  on 4999  degrees of freedom\n",
       "Residual deviance: 6294.3  on 4997  degrees of freedom\n",
       "AIC: 6300.3\n",
       "\n",
       "Number of Fisher Scoring iterations: 4\n"
      ]
     },
     "metadata": {},
     "output_type": "display_data"
    }
   ],
   "source": [
    "summary(acronym_gpt35_inp_model)"
   ]
  },
  {
   "cell_type": "code",
   "execution_count": 298,
   "id": "144ae587",
   "metadata": {},
   "outputs": [
    {
     "data": {
      "text/html": [
       "<style>\n",
       ".dl-inline {width: auto; margin:0; padding: 0}\n",
       ".dl-inline>dt, .dl-inline>dd {float: none; width: auto; display: inline-block}\n",
       ".dl-inline>dt::after {content: \":\\0020\"; padding-right: .5ex}\n",
       ".dl-inline>dt:not(:first-of-type) {padding-left: .5ex}\n",
       "</style><dl class=dl-inline><dt>input_logprob</dt><dd>1.00266237344527</dd><dt>output_logprob</dt><dd>1.00266237344527</dd></dl>\n"
      ],
      "text/latex": [
       "\\begin{description*}\n",
       "\\item[input\\textbackslash{}\\_logprob] 1.00266237344527\n",
       "\\item[output\\textbackslash{}\\_logprob] 1.00266237344527\n",
       "\\end{description*}\n"
      ],
      "text/markdown": [
       "input_logprob\n",
       ":   1.00266237344527output_logprob\n",
       ":   1.00266237344527\n",
       "\n"
      ],
      "text/plain": [
       " input_logprob output_logprob \n",
       "      1.002662       1.002662 "
      ]
     },
     "metadata": {},
     "output_type": "display_data"
    }
   ],
   "source": [
    "vif(acronym_gpt4_outp_model)"
   ]
  },
  {
   "cell_type": "code",
   "execution_count": 299,
   "id": "698d0801",
   "metadata": {},
   "outputs": [
    {
     "data": {
      "text/html": [
       "<style>\n",
       ".dl-inline {width: auto; margin:0; padding: 0}\n",
       ".dl-inline>dt, .dl-inline>dd {float: none; width: auto; display: inline-block}\n",
       ".dl-inline>dt::after {content: \":\\0020\"; padding-right: .5ex}\n",
       ".dl-inline>dt:not(:first-of-type) {padding-left: .5ex}\n",
       "</style><dl class=dl-inline><dt>input_logprob</dt><dd>1.00249960879314</dd><dt>output_logprob</dt><dd>1.00249960879314</dd></dl>\n"
      ],
      "text/latex": [
       "\\begin{description*}\n",
       "\\item[input\\textbackslash{}\\_logprob] 1.00249960879314\n",
       "\\item[output\\textbackslash{}\\_logprob] 1.00249960879314\n",
       "\\end{description*}\n"
      ],
      "text/markdown": [
       "input_logprob\n",
       ":   1.00249960879314output_logprob\n",
       ":   1.00249960879314\n",
       "\n"
      ],
      "text/plain": [
       " input_logprob output_logprob \n",
       "        1.0025         1.0025 "
      ]
     },
     "metadata": {},
     "output_type": "display_data"
    }
   ],
   "source": [
    "vif(acronym_gpt35_outp_model)"
   ]
  },
  {
   "cell_type": "code",
   "execution_count": 300,
   "id": "f731eda6",
   "metadata": {},
   "outputs": [
    {
     "data": {
      "text/html": [
       "<style>\n",
       ".dl-inline {width: auto; margin:0; padding: 0}\n",
       ".dl-inline>dt, .dl-inline>dd {float: none; width: auto; display: inline-block}\n",
       ".dl-inline>dt::after {content: \":\\0020\"; padding-right: .5ex}\n",
       ".dl-inline>dt:not(:first-of-type) {padding-left: .5ex}\n",
       "</style><dl class=dl-inline><dt>input_logprob</dt><dd>1.00000062635587</dd><dt>output_logprob</dt><dd>1.00000062635587</dd></dl>\n"
      ],
      "text/latex": [
       "\\begin{description*}\n",
       "\\item[input\\textbackslash{}\\_logprob] 1.00000062635587\n",
       "\\item[output\\textbackslash{}\\_logprob] 1.00000062635587\n",
       "\\end{description*}\n"
      ],
      "text/markdown": [
       "input_logprob\n",
       ":   1.00000062635587output_logprob\n",
       ":   1.00000062635587\n",
       "\n"
      ],
      "text/plain": [
       " input_logprob output_logprob \n",
       "      1.000001       1.000001 "
      ]
     },
     "metadata": {},
     "output_type": "display_data"
    }
   ],
   "source": [
    "vif(acronym_gpt4_inp_model)"
   ]
  },
  {
   "cell_type": "code",
   "execution_count": 301,
   "id": "38b90165",
   "metadata": {},
   "outputs": [
    {
     "data": {
      "text/html": [
       "<style>\n",
       ".dl-inline {width: auto; margin:0; padding: 0}\n",
       ".dl-inline>dt, .dl-inline>dd {float: none; width: auto; display: inline-block}\n",
       ".dl-inline>dt::after {content: \":\\0020\"; padding-right: .5ex}\n",
       ".dl-inline>dt:not(:first-of-type) {padding-left: .5ex}\n",
       "</style><dl class=dl-inline><dt>input_logprob</dt><dd>1.00000012457143</dd><dt>output_logprob</dt><dd>1.00000012457143</dd></dl>\n"
      ],
      "text/latex": [
       "\\begin{description*}\n",
       "\\item[input\\textbackslash{}\\_logprob] 1.00000012457143\n",
       "\\item[output\\textbackslash{}\\_logprob] 1.00000012457143\n",
       "\\end{description*}\n"
      ],
      "text/markdown": [
       "input_logprob\n",
       ":   1.00000012457143output_logprob\n",
       ":   1.00000012457143\n",
       "\n"
      ],
      "text/plain": [
       " input_logprob output_logprob \n",
       "             1              1 "
      ]
     },
     "metadata": {},
     "output_type": "display_data"
    }
   ],
   "source": [
    "vif(acronym_gpt35_inp_model)"
   ]
  },
  {
   "cell_type": "code",
   "execution_count": null,
   "id": "a6d4675c",
   "metadata": {},
   "outputs": [],
   "source": []
  },
  {
   "cell_type": "markdown",
   "id": "f59884b3",
   "metadata": {},
   "source": [
    "### Vary task"
   ]
  },
  {
   "cell_type": "code",
   "execution_count": 302,
   "id": "4b9015a2",
   "metadata": {},
   "outputs": [],
   "source": [
    "# Read in data\n",
    "acronym_gpt4_1and2_df <- read.table(file = 'table_acronym_varytask_gpt-4.tsv', sep = '\\t', header = TRUE)\n",
    "acronym_gpt35_1and2_df <- read.table(file = 'table_acronym_varytask_gpt-3.5-turbo.tsv', sep = '\\t', header = TRUE)\n"
   ]
  },
  {
   "cell_type": "code",
   "execution_count": 303,
   "id": "a22aa9cb",
   "metadata": {},
   "outputs": [],
   "source": [
    "# Z-score data\n",
    "scaled_acronym_gpt4_1and2_df <- scale_taskpair_df(acronym_gpt4_1and2_df)\n",
    "scaled_acronym_gpt35_1and2_df <- scale_taskpair_df(acronym_gpt35_1and2_df)"
   ]
  },
  {
   "cell_type": "code",
   "execution_count": 305,
   "id": "0c59eb87",
   "metadata": {},
   "outputs": [],
   "source": [
    "acronym_gpt4_1and2_model <- bayesglm(correct ~ task + input_logprob + output_logprob, \n",
    "               data=scaled_acronym_gpt4_1and2_df, family=binomial)\n",
    "acronym_gpt35_1and2_model <- bayesglm(correct ~ task + input_logprob + output_logprob, \n",
    "               data=scaled_acronym_gpt35_1and2_df, family=binomial)"
   ]
  },
  {
   "cell_type": "code",
   "execution_count": 306,
   "id": "978dae79",
   "metadata": {},
   "outputs": [
    {
     "data": {
      "text/plain": [
       "\n",
       "Call:\n",
       "bayesglm(formula = correct ~ task + input_logprob + output_logprob, \n",
       "    family = binomial, data = scaled_acronym_gpt4_1and2_df)\n",
       "\n",
       "Deviance Residuals: \n",
       "    Min       1Q   Median       3Q      Max  \n",
       "-1.7957  -0.2273  -0.2151   0.7175   2.7694  \n",
       "\n",
       "Coefficients:\n",
       "               Estimate Std. Error z value Pr(>|z|)    \n",
       "(Intercept)     1.19572    0.07495  15.954   <2e-16 ***\n",
       "taskacronym2   -4.88826    0.21820 -22.402   <2e-16 ***\n",
       "input_logprob  -0.07488    0.06637  -1.128    0.259    \n",
       "output_logprob -0.03782    0.06980  -0.542    0.588    \n",
       "---\n",
       "Signif. codes:  0 ‘***’ 0.001 ‘**’ 0.01 ‘*’ 0.05 ‘.’ 0.1 ‘ ’ 1\n",
       "\n",
       "(Dispersion parameter for binomial family taken to be 1)\n",
       "\n",
       "    Null deviance: 2685.4  on 1999  degrees of freedom\n",
       "Residual deviance: 1308.3  on 1996  degrees of freedom\n",
       "AIC: 1316.3\n",
       "\n",
       "Number of Fisher Scoring iterations: 7\n"
      ]
     },
     "metadata": {},
     "output_type": "display_data"
    }
   ],
   "source": [
    "summary(acronym_gpt4_1and2_model)"
   ]
  },
  {
   "cell_type": "code",
   "execution_count": 307,
   "id": "6b48deb2",
   "metadata": {},
   "outputs": [
    {
     "data": {
      "text/plain": [
       "\n",
       "Call:\n",
       "bayesglm(formula = correct ~ task + input_logprob + output_logprob, \n",
       "    family = binomial, data = scaled_acronym_gpt35_1and2_df)\n",
       "\n",
       "Deviance Residuals: \n",
       "     Min        1Q    Median        3Q       Max  \n",
       "-1.06256  -0.98056  -0.02311  -0.02243   1.43915  \n",
       "\n",
       "Coefficients:\n",
       "               Estimate Std. Error z value Pr(>|z|)    \n",
       "(Intercept)    -0.43479    0.06477  -6.713 1.91e-11 ***\n",
       "taskacronym2   -7.80389    1.83306  -4.257 2.07e-05 ***\n",
       "input_logprob   0.04176    0.06051   0.690    0.490    \n",
       "output_logprob -0.01684    0.06481  -0.260    0.795    \n",
       "---\n",
       "Signif. codes:  0 ‘***’ 0.001 ‘**’ 0.01 ‘*’ 0.05 ‘.’ 0.1 ‘ ’ 1\n",
       "\n",
       "(Dispersion parameter for binomial family taken to be 1)\n",
       "\n",
       "    Null deviance: 1982.0  on 1999  degrees of freedom\n",
       "Residual deviance: 1340.1  on 1996  degrees of freedom\n",
       "AIC: 1348.1\n",
       "\n",
       "Number of Fisher Scoring iterations: 16\n"
      ]
     },
     "metadata": {},
     "output_type": "display_data"
    }
   ],
   "source": [
    "summary(acronym_gpt35_1and2_model)"
   ]
  },
  {
   "cell_type": "code",
   "execution_count": 308,
   "id": "b5be342a",
   "metadata": {},
   "outputs": [
    {
     "data": {
      "text/html": [
       "<style>\n",
       ".dl-inline {width: auto; margin:0; padding: 0}\n",
       ".dl-inline>dt, .dl-inline>dd {float: none; width: auto; display: inline-block}\n",
       ".dl-inline>dt::after {content: \":\\0020\"; padding-right: .5ex}\n",
       ".dl-inline>dt:not(:first-of-type) {padding-left: .5ex}\n",
       "</style><dl class=dl-inline><dt>task</dt><dd>1.00069415612052</dd><dt>input_logprob</dt><dd>1.00042495236527</dd><dt>output_logprob</dt><dd>1.00039214085917</dd></dl>\n"
      ],
      "text/latex": [
       "\\begin{description*}\n",
       "\\item[task] 1.00069415612052\n",
       "\\item[input\\textbackslash{}\\_logprob] 1.00042495236527\n",
       "\\item[output\\textbackslash{}\\_logprob] 1.00039214085917\n",
       "\\end{description*}\n"
      ],
      "text/markdown": [
       "task\n",
       ":   1.00069415612052input_logprob\n",
       ":   1.00042495236527output_logprob\n",
       ":   1.00039214085917\n",
       "\n"
      ],
      "text/plain": [
       "          task  input_logprob output_logprob \n",
       "      1.000694       1.000425       1.000392 "
      ]
     },
     "metadata": {},
     "output_type": "display_data"
    }
   ],
   "source": [
    "vif(acronym_gpt4_1and2_model)"
   ]
  },
  {
   "cell_type": "code",
   "execution_count": 309,
   "id": "ff85b1ae",
   "metadata": {},
   "outputs": [
    {
     "data": {
      "text/html": [
       "<style>\n",
       ".dl-inline {width: auto; margin:0; padding: 0}\n",
       ".dl-inline>dt, .dl-inline>dd {float: none; width: auto; display: inline-block}\n",
       ".dl-inline>dt::after {content: \":\\0020\"; padding-right: .5ex}\n",
       ".dl-inline>dt:not(:first-of-type) {padding-left: .5ex}\n",
       "</style><dl class=dl-inline><dt>task</dt><dd>1.00000435360833</dd><dt>input_logprob</dt><dd>1.00005427480753</dd><dt>output_logprob</dt><dd>1.00005016563864</dd></dl>\n"
      ],
      "text/latex": [
       "\\begin{description*}\n",
       "\\item[task] 1.00000435360833\n",
       "\\item[input\\textbackslash{}\\_logprob] 1.00005427480753\n",
       "\\item[output\\textbackslash{}\\_logprob] 1.00005016563864\n",
       "\\end{description*}\n"
      ],
      "text/markdown": [
       "task\n",
       ":   1.00000435360833input_logprob\n",
       ":   1.00005427480753output_logprob\n",
       ":   1.00005016563864\n",
       "\n"
      ],
      "text/plain": [
       "          task  input_logprob output_logprob \n",
       "      1.000004       1.000054       1.000050 "
      ]
     },
     "metadata": {},
     "output_type": "display_data"
    }
   ],
   "source": [
    "vif(acronym_gpt35_1and2_model)"
   ]
  },
  {
   "cell_type": "code",
   "execution_count": null,
   "id": "b07c8a4f",
   "metadata": {},
   "outputs": [],
   "source": []
  },
  {
   "cell_type": "code",
   "execution_count": null,
   "id": "0a14aa54",
   "metadata": {},
   "outputs": [],
   "source": []
  },
  {
   "cell_type": "code",
   "execution_count": null,
   "id": "d0cc0ef1",
   "metadata": {},
   "outputs": [],
   "source": []
  },
  {
   "cell_type": "code",
   "execution_count": null,
   "id": "8e310abc",
   "metadata": {},
   "outputs": [],
   "source": []
  },
  {
   "cell_type": "code",
   "execution_count": null,
   "id": "bb44ccfb",
   "metadata": {},
   "outputs": [],
   "source": []
  },
  {
   "cell_type": "code",
   "execution_count": null,
   "id": "d7e6f3b9",
   "metadata": {},
   "outputs": [],
   "source": []
  },
  {
   "cell_type": "code",
   "execution_count": null,
   "id": "084008c2",
   "metadata": {},
   "outputs": [],
   "source": []
  },
  {
   "cell_type": "code",
   "execution_count": null,
   "id": "06444240",
   "metadata": {},
   "outputs": [],
   "source": []
  }
 ],
 "metadata": {
  "kernelspec": {
   "display_name": "R",
   "language": "R",
   "name": "ir"
  },
  "language_info": {
   "codemirror_mode": "r",
   "file_extension": ".r",
   "mimetype": "text/x-r-source",
   "name": "R",
   "pygments_lexer": "r",
   "version": "4.1.3"
  }
 },
 "nbformat": 4,
 "nbformat_minor": 5
}
