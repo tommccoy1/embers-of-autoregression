{
 "cells": [
  {
   "cell_type": "code",
   "execution_count": 1,
   "id": "6fb643ce",
   "metadata": {},
   "outputs": [
    {
     "name": "stderr",
     "output_type": "stream",
     "text": [
      "Loading required package: Matrix\n",
      "\n",
      "\n",
      "Attaching package: ‘psycho’\n",
      "\n",
      "\n",
      "The following object is masked from ‘package:lme4’:\n",
      "\n",
      "    golden\n",
      "\n",
      "\n",
      "Loaded glmnet 4.1-7\n",
      "\n",
      "Loading required package: carData\n",
      "\n"
     ]
    }
   ],
   "source": [
    "library(lme4)\n",
    "library(blme)\n",
    "library(ggplot2)\n",
    "library(stringr)\n",
    "library(psycho)\n",
    "library(glmnet)\n",
    "library(car)\n"
   ]
  },
  {
   "cell_type": "code",
   "execution_count": 2,
   "id": "2eafe583",
   "metadata": {},
   "outputs": [],
   "source": [
    "# Set ggplot theme\n",
    "base_size <- 20\n",
    "theme_set(theme_bw(base_size=base_size) +\n",
    "            theme(#panel.grid.major=element_blank(),\n",
    "              panel.grid.minor=element_blank(),\n",
    "              axis.title.y=element_text(angle=90,vjust=0.5),\n",
    "              axis.text.x=element_text(angle=0, hjust=0.5),\n",
    "              axis.title.x=element_blank()))"
   ]
  },
  {
   "cell_type": "code",
   "execution_count": 4,
   "id": "f0090830",
   "metadata": {},
   "outputs": [],
   "source": [
    "correct_vs_length_and_prob <- function(df, include_output_chars=TRUE, include_input_chars=TRUE, include_intercept=TRUE){\n",
    "    if (include_output_chars & include_input_chars & include_intercept){\n",
    "        model <- glmer(correct ~ (1|index) + input_logprob + output_logprob + input_ntokens + output_ntokens + input_nchars + output_nchars, \n",
    "               data=df, family=binomial)\n",
    "    } else if (include_output_chars & !include_input_chars & include_intercept){\n",
    "        model <- glmer(correct ~ (1|index) + input_logprob + output_logprob + input_ntokens + output_ntokens + output_nchars, \n",
    "               data=df, family=binomial)\n",
    "    } else if (!include_output_chars & include_input_chars & include_intercept){\n",
    "        model <- glmer(correct ~ (1|index) + input_logprob + output_logprob + input_ntokens + output_ntokens + input_nchars, \n",
    "               data=df, family=binomial)\n",
    "\n",
    "    \n",
    "    } else if (include_output_chars & include_input_chars & !include_intercept){\n",
    "        model <- glm(correct ~ input_logprob + output_logprob + input_ntokens + output_ntokens + input_nchars + output_nchars, \n",
    "               data=df, family=binomial)\n",
    "    } else if (include_output_chars & !include_input_chars & !include_intercept){\n",
    "        model <- glm(correct ~ input_logprob + output_logprob + input_ntokens + output_ntokens + output_nchars, \n",
    "               data=df, family=binomial)\n",
    "    } else if (!include_output_chars & include_input_chars & !include_intercept){\n",
    "        model <- glm(correct ~ input_logprob + output_logprob + input_ntokens + output_ntokens + input_nchars, \n",
    "               data=df, family=binomial)\n",
    "    }\n",
    "  \n",
    "    \n",
    "  return(model)\n",
    "}"
   ]
  },
  {
   "cell_type": "code",
   "execution_count": 5,
   "id": "9bf9cb2d",
   "metadata": {},
   "outputs": [],
   "source": [
    "scale_df <- function(df) {\n",
    "    new_df <- data.frame(scale(df[2:7]))\n",
    "    new_df$index <- as.factor(df$index)\n",
    "    new_df$correct <- df$correct\n",
    "    \n",
    "    return(new_df)\n",
    "}"
   ]
  },
  {
   "cell_type": "code",
   "execution_count": 6,
   "id": "2f78c652",
   "metadata": {},
   "outputs": [],
   "source": [
    "predictor_cors <- function(df) {\n",
    "    predictors <- c(\"input_logprob\", \"output_logprob\", \"input_nchars\", \"input_ntokens\", \"output_nchars\", \"output_ntokens\")\n",
    "    \n",
    "    for (pred1 in predictors) {\n",
    "        for (pred2 in predictors) {\n",
    "            cat(pred1, pred2, cor(df[pred1], df[pred2]), \"\\n\")\n",
    "        }\n",
    "        cat(\"\\n\")\n",
    "    }\n",
    "    \n",
    "}"
   ]
  },
  {
   "cell_type": "markdown",
   "id": "ea55655f",
   "metadata": {},
   "source": [
    "# Rot-13"
   ]
  },
  {
   "cell_type": "code",
   "execution_count": 7,
   "id": "ab259359",
   "metadata": {},
   "outputs": [],
   "source": [
    "# Read in data\n",
    "rot13enc_gpt4_df <- read.table(file = 'table_rot13enc_gpt-4.tsv', sep = '\\t', header = TRUE)\n",
    "rot13enc_gpt35_df <- read.table(file = 'table_rot13enc_gpt-3.5-turbo.tsv', sep = '\\t', header = TRUE)\n",
    "\n",
    "rot13dec_gpt4_df <- read.table(file = 'table_rot13dec_gpt-4.tsv', sep = '\\t', header = TRUE)\n",
    "rot13dec_gpt35_df <- read.table(file = 'table_rot13dec_gpt-3.5-turbo.tsv', sep = '\\t', header = TRUE)"
   ]
  },
  {
   "cell_type": "code",
   "execution_count": 8,
   "id": "71063d91",
   "metadata": {},
   "outputs": [],
   "source": [
    "# Z-score data\n",
    "scaled_rot13enc_gpt4_df <- scale_df(rot13enc_gpt4_df)\n",
    "scaled_rot13enc_gpt35_df <- scale_df(rot13enc_gpt35_df)\n",
    "\n",
    "scaled_rot13dec_gpt4_df <- scale_df(rot13dec_gpt4_df)\n",
    "scaled_rot13dec_gpt35_df <- scale_df(rot13dec_gpt35_df)\n"
   ]
  },
  {
   "cell_type": "code",
   "execution_count": 9,
   "id": "5393d5bc",
   "metadata": {},
   "outputs": [
    {
     "name": "stdout",
     "output_type": "stream",
     "text": [
      "input_logprob input_logprob 1 \n",
      "input_logprob output_logprob 0.671355 \n",
      "input_logprob input_nchars -0.6635202 \n",
      "input_logprob input_ntokens -0.6448557 \n",
      "input_logprob output_nchars -0.6635202 \n",
      "input_logprob output_ntokens -0.6639417 \n",
      "\n",
      "output_logprob input_logprob 0.671355 \n",
      "output_logprob output_logprob 1 \n",
      "output_logprob input_nchars -0.9936365 \n",
      "output_logprob input_ntokens -0.941151 \n",
      "output_logprob output_nchars -0.9936365 \n",
      "output_logprob output_ntokens -0.9914956 \n",
      "\n",
      "input_nchars input_logprob -0.6635202 \n",
      "input_nchars output_logprob -0.9936365 \n",
      "input_nchars input_nchars 1 \n",
      "input_nchars input_ntokens 0.9581319 \n",
      "input_nchars output_nchars 1 \n",
      "input_nchars output_ntokens 0.9946449 \n",
      "\n",
      "input_ntokens input_logprob -0.6448557 \n",
      "input_ntokens output_logprob -0.941151 \n",
      "input_ntokens input_nchars 0.9581319 \n",
      "input_ntokens input_ntokens 1 \n",
      "input_ntokens output_nchars 0.9581319 \n",
      "input_ntokens output_ntokens 0.9517609 \n",
      "\n",
      "output_nchars input_logprob -0.6635202 \n",
      "output_nchars output_logprob -0.9936365 \n",
      "output_nchars input_nchars 1 \n",
      "output_nchars input_ntokens 0.9581319 \n",
      "output_nchars output_nchars 1 \n",
      "output_nchars output_ntokens 0.9946449 \n",
      "\n",
      "output_ntokens input_logprob -0.6639417 \n",
      "output_ntokens output_logprob -0.9914956 \n",
      "output_ntokens input_nchars 0.9946449 \n",
      "output_ntokens input_ntokens 0.9517609 \n",
      "output_ntokens output_nchars 0.9946449 \n",
      "output_ntokens output_ntokens 1 \n",
      "\n"
     ]
    }
   ],
   "source": [
    "# Print correlations among predictors\n",
    "predictor_cors(scaled_rot13enc_gpt4_df)"
   ]
  },
  {
   "cell_type": "code",
   "execution_count": 10,
   "id": "c5e2b13c",
   "metadata": {},
   "outputs": [
    {
     "name": "stdout",
     "output_type": "stream",
     "text": [
      "input_logprob input_logprob 1 \n",
      "input_logprob output_logprob 0.671355 \n",
      "input_logprob input_nchars -0.6635202 \n",
      "input_logprob input_ntokens -0.6448557 \n",
      "input_logprob output_nchars -0.6635202 \n",
      "input_logprob output_ntokens -0.6639417 \n",
      "\n",
      "output_logprob input_logprob 0.671355 \n",
      "output_logprob output_logprob 1 \n",
      "output_logprob input_nchars -0.9936365 \n",
      "output_logprob input_ntokens -0.941151 \n",
      "output_logprob output_nchars -0.9936365 \n",
      "output_logprob output_ntokens -0.9914956 \n",
      "\n",
      "input_nchars input_logprob -0.6635202 \n",
      "input_nchars output_logprob -0.9936365 \n",
      "input_nchars input_nchars 1 \n",
      "input_nchars input_ntokens 0.9581319 \n",
      "input_nchars output_nchars 1 \n",
      "input_nchars output_ntokens 0.9946449 \n",
      "\n",
      "input_ntokens input_logprob -0.6448557 \n",
      "input_ntokens output_logprob -0.941151 \n",
      "input_ntokens input_nchars 0.9581319 \n",
      "input_ntokens input_ntokens 1 \n",
      "input_ntokens output_nchars 0.9581319 \n",
      "input_ntokens output_ntokens 0.9517609 \n",
      "\n",
      "output_nchars input_logprob -0.6635202 \n",
      "output_nchars output_logprob -0.9936365 \n",
      "output_nchars input_nchars 1 \n",
      "output_nchars input_ntokens 0.9581319 \n",
      "output_nchars output_nchars 1 \n",
      "output_nchars output_ntokens 0.9946449 \n",
      "\n",
      "output_ntokens input_logprob -0.6639417 \n",
      "output_ntokens output_logprob -0.9914956 \n",
      "output_ntokens input_nchars 0.9946449 \n",
      "output_ntokens input_ntokens 0.9517609 \n",
      "output_ntokens output_nchars 0.9946449 \n",
      "output_ntokens output_ntokens 1 \n",
      "\n"
     ]
    }
   ],
   "source": [
    "predictor_cors(scaled_rot13enc_gpt35_df)"
   ]
  },
  {
   "cell_type": "code",
   "execution_count": 11,
   "id": "e035f1b4",
   "metadata": {},
   "outputs": [
    {
     "name": "stdout",
     "output_type": "stream",
     "text": [
      "input_logprob input_logprob 1 \n",
      "input_logprob output_logprob 0.671355 \n",
      "input_logprob input_nchars -0.9936365 \n",
      "input_logprob input_ntokens -0.9914956 \n",
      "input_logprob output_nchars -0.9936365 \n",
      "input_logprob output_ntokens -0.941151 \n",
      "\n",
      "output_logprob input_logprob 0.671355 \n",
      "output_logprob output_logprob 1 \n",
      "output_logprob input_nchars -0.6635202 \n",
      "output_logprob input_ntokens -0.6639417 \n",
      "output_logprob output_nchars -0.6635202 \n",
      "output_logprob output_ntokens -0.6448557 \n",
      "\n",
      "input_nchars input_logprob -0.9936365 \n",
      "input_nchars output_logprob -0.6635202 \n",
      "input_nchars input_nchars 1 \n",
      "input_nchars input_ntokens 0.9946449 \n",
      "input_nchars output_nchars 1 \n",
      "input_nchars output_ntokens 0.9581319 \n",
      "\n",
      "input_ntokens input_logprob -0.9914956 \n",
      "input_ntokens output_logprob -0.6639417 \n",
      "input_ntokens input_nchars 0.9946449 \n",
      "input_ntokens input_ntokens 1 \n",
      "input_ntokens output_nchars 0.9946449 \n",
      "input_ntokens output_ntokens 0.9517609 \n",
      "\n",
      "output_nchars input_logprob -0.9936365 \n",
      "output_nchars output_logprob -0.6635202 \n",
      "output_nchars input_nchars 1 \n",
      "output_nchars input_ntokens 0.9946449 \n",
      "output_nchars output_nchars 1 \n",
      "output_nchars output_ntokens 0.9581319 \n",
      "\n",
      "output_ntokens input_logprob -0.941151 \n",
      "output_ntokens output_logprob -0.6448557 \n",
      "output_ntokens input_nchars 0.9581319 \n",
      "output_ntokens input_ntokens 0.9517609 \n",
      "output_ntokens output_nchars 0.9581319 \n",
      "output_ntokens output_ntokens 1 \n",
      "\n"
     ]
    }
   ],
   "source": [
    "predictor_cors(scaled_rot13dec_gpt4_df)"
   ]
  },
  {
   "cell_type": "code",
   "execution_count": 12,
   "id": "2b4ae894",
   "metadata": {},
   "outputs": [
    {
     "name": "stdout",
     "output_type": "stream",
     "text": [
      "input_logprob input_logprob 1 \n",
      "input_logprob output_logprob 0.671355 \n",
      "input_logprob input_nchars -0.9936365 \n",
      "input_logprob input_ntokens -0.9914956 \n",
      "input_logprob output_nchars -0.9936365 \n",
      "input_logprob output_ntokens -0.941151 \n",
      "\n",
      "output_logprob input_logprob 0.671355 \n",
      "output_logprob output_logprob 1 \n",
      "output_logprob input_nchars -0.6635202 \n",
      "output_logprob input_ntokens -0.6639417 \n",
      "output_logprob output_nchars -0.6635202 \n",
      "output_logprob output_ntokens -0.6448557 \n",
      "\n",
      "input_nchars input_logprob -0.9936365 \n",
      "input_nchars output_logprob -0.6635202 \n",
      "input_nchars input_nchars 1 \n",
      "input_nchars input_ntokens 0.9946449 \n",
      "input_nchars output_nchars 1 \n",
      "input_nchars output_ntokens 0.9581319 \n",
      "\n",
      "input_ntokens input_logprob -0.9914956 \n",
      "input_ntokens output_logprob -0.6639417 \n",
      "input_ntokens input_nchars 0.9946449 \n",
      "input_ntokens input_ntokens 1 \n",
      "input_ntokens output_nchars 0.9946449 \n",
      "input_ntokens output_ntokens 0.9517609 \n",
      "\n",
      "output_nchars input_logprob -0.9936365 \n",
      "output_nchars output_logprob -0.6635202 \n",
      "output_nchars input_nchars 1 \n",
      "output_nchars input_ntokens 0.9946449 \n",
      "output_nchars output_nchars 1 \n",
      "output_nchars output_ntokens 0.9581319 \n",
      "\n",
      "output_ntokens input_logprob -0.941151 \n",
      "output_ntokens output_logprob -0.6448557 \n",
      "output_ntokens input_nchars 0.9581319 \n",
      "output_ntokens input_ntokens 0.9517609 \n",
      "output_ntokens output_nchars 0.9581319 \n",
      "output_ntokens output_ntokens 1 \n",
      "\n"
     ]
    }
   ],
   "source": [
    "predictor_cors(scaled_rot13dec_gpt35_df)"
   ]
  },
  {
   "cell_type": "code",
   "execution_count": 13,
   "id": "1f85708a",
   "metadata": {},
   "outputs": [
    {
     "name": "stderr",
     "output_type": "stream",
     "text": [
      "Warning message:\n",
      "“glm.fit: fitted probabilities numerically 0 or 1 occurred”\n"
     ]
    }
   ],
   "source": [
    "intercepts <- FALSE\n",
    "rot13enc_gpt4_model <- correct_vs_length_and_prob(scaled_rot13enc_gpt4_df, include_output_chars=FALSE, include_intercept=intercepts)\n",
    "rot13enc_gpt35_model <- correct_vs_length_and_prob(scaled_rot13enc_gpt35_df, include_output_chars=FALSE, include_intercept=FALSE)\n",
    "\n",
    "rot13dec_gpt4_model <- correct_vs_length_and_prob(scaled_rot13dec_gpt4_df, include_output_chars=FALSE, include_intercept=intercepts)\n",
    "rot13dec_gpt35_model <- correct_vs_length_and_prob(scaled_rot13dec_gpt35_df, include_output_chars=FALSE, include_intercept=intercepts)"
   ]
  },
  {
   "cell_type": "code",
   "execution_count": 14,
   "id": "42d6447b",
   "metadata": {},
   "outputs": [
    {
     "data": {
      "text/plain": [
       "\n",
       "Call:\n",
       "glm(formula = correct ~ input_logprob + output_logprob + input_ntokens + \n",
       "    output_ntokens + input_nchars, family = binomial, data = df)\n",
       "\n",
       "Deviance Residuals: \n",
       "     Min        1Q    Median        3Q       Max  \n",
       "-2.06663  -0.44366  -0.14606  -0.01354   2.97169  \n",
       "\n",
       "Coefficients:\n",
       "               Estimate Std. Error z value Pr(>|z|)    \n",
       "(Intercept)     -4.1193     0.5713  -7.211 5.57e-13 ***\n",
       "input_logprob    1.2158     0.4594   2.646  0.00814 ** \n",
       "output_logprob   7.0316     3.1573   2.227  0.02594 *  \n",
       "input_ntokens    2.9504     0.9824   3.003  0.00267 ** \n",
       "output_ntokens  -1.5485     2.5145  -0.616  0.53802    \n",
       "input_nchars     3.0854     3.3378   0.924  0.35529    \n",
       "---\n",
       "Signif. codes:  0 ‘***’ 0.001 ‘**’ 0.01 ‘*’ 0.05 ‘.’ 0.1 ‘ ’ 1\n",
       "\n",
       "(Dispersion parameter for binomial family taken to be 1)\n",
       "\n",
       "    Null deviance: 246.58  on 299  degrees of freedom\n",
       "Residual deviance: 156.14  on 294  degrees of freedom\n",
       "AIC: 168.14\n",
       "\n",
       "Number of Fisher Scoring iterations: 7\n"
      ]
     },
     "metadata": {},
     "output_type": "display_data"
    }
   ],
   "source": [
    "summary(rot13enc_gpt4_model)"
   ]
  },
  {
   "cell_type": "code",
   "execution_count": 15,
   "id": "6a49428b",
   "metadata": {},
   "outputs": [
    {
     "data": {
      "text/plain": [
       "\n",
       "Call:\n",
       "glm(formula = correct ~ input_logprob + output_logprob + input_ntokens + \n",
       "    output_ntokens + input_nchars, family = binomial, data = df)\n",
       "\n",
       "Deviance Residuals: \n",
       "     Min        1Q    Median        3Q       Max  \n",
       "-1.28769  -0.08616  -0.01909  -0.00030   3.10549  \n",
       "\n",
       "Coefficients:\n",
       "               Estimate Std. Error z value Pr(>|z|)    \n",
       "(Intercept)    -10.7542     2.5495  -4.218 2.46e-05 ***\n",
       "input_logprob   -0.2191     1.0850  -0.202   0.8399    \n",
       "output_logprob  19.6737     9.8166   2.004   0.0451 *  \n",
       "input_ntokens    4.3058     2.6034   1.654   0.0982 .  \n",
       "output_ntokens   4.5089     7.3753   0.611   0.5410    \n",
       "input_nchars     3.5266     8.5951   0.410   0.6816    \n",
       "---\n",
       "Signif. codes:  0 ‘***’ 0.001 ‘**’ 0.01 ‘*’ 0.05 ‘.’ 0.1 ‘ ’ 1\n",
       "\n",
       "(Dispersion parameter for binomial family taken to be 1)\n",
       "\n",
       "    Null deviance: 80.845  on 299  degrees of freedom\n",
       "Residual deviance: 37.569  on 294  degrees of freedom\n",
       "AIC: 49.569\n",
       "\n",
       "Number of Fisher Scoring iterations: 10\n"
      ]
     },
     "metadata": {},
     "output_type": "display_data"
    }
   ],
   "source": [
    "summary(rot13enc_gpt35_model)"
   ]
  },
  {
   "cell_type": "code",
   "execution_count": 16,
   "id": "baa9b6de",
   "metadata": {},
   "outputs": [
    {
     "data": {
      "text/plain": [
       "\n",
       "Call:\n",
       "glm(formula = correct ~ input_logprob + output_logprob + input_ntokens + \n",
       "    output_ntokens + input_nchars, family = binomial, data = df)\n",
       "\n",
       "Deviance Residuals: \n",
       "    Min       1Q   Median       3Q      Max  \n",
       "-1.4640  -0.8038  -0.4112   0.8902   2.5726  \n",
       "\n",
       "Coefficients:\n",
       "               Estimate Std. Error z value Pr(>|z|)    \n",
       "(Intercept)     -1.4509     0.1977  -7.340 2.13e-13 ***\n",
       "input_logprob    1.4829     1.7607   0.842   0.3996    \n",
       "output_logprob   1.7068     0.3173   5.380 7.46e-08 ***\n",
       "input_ntokens   -3.0153     1.6183  -1.863   0.0624 .  \n",
       "output_ntokens   0.5686     0.6128   0.928   0.3535    \n",
       "input_nchars     4.0308     2.1224   1.899   0.0575 .  \n",
       "---\n",
       "Signif. codes:  0 ‘***’ 0.001 ‘**’ 0.01 ‘*’ 0.05 ‘.’ 0.1 ‘ ’ 1\n",
       "\n",
       "(Dispersion parameter for binomial family taken to be 1)\n",
       "\n",
       "    Null deviance: 357.64  on 299  degrees of freedom\n",
       "Residual deviance: 285.30  on 294  degrees of freedom\n",
       "AIC: 297.3\n",
       "\n",
       "Number of Fisher Scoring iterations: 6\n"
      ]
     },
     "metadata": {},
     "output_type": "display_data"
    }
   ],
   "source": [
    "summary(rot13dec_gpt4_model)"
   ]
  },
  {
   "cell_type": "code",
   "execution_count": 17,
   "id": "6eda6b60",
   "metadata": {},
   "outputs": [
    {
     "data": {
      "text/plain": [
       "\n",
       "Call:\n",
       "glm(formula = correct ~ input_logprob + output_logprob + input_ntokens + \n",
       "    output_ntokens + input_nchars, family = binomial, data = df)\n",
       "\n",
       "Deviance Residuals: \n",
       "     Min        1Q    Median        3Q       Max  \n",
       "-1.44662  -0.32654  -0.10349  -0.01189   2.92757  \n",
       "\n",
       "Coefficients:\n",
       "               Estimate Std. Error z value Pr(>|z|)    \n",
       "(Intercept)     -5.0436     0.7792  -6.473 9.62e-11 ***\n",
       "input_logprob    3.2597     3.3367   0.977   0.3286    \n",
       "output_logprob   3.8136     0.8978   4.247 2.16e-05 ***\n",
       "input_ntokens   -5.2379     2.7949  -1.874   0.0609 .  \n",
       "output_ntokens   2.4683     1.0515   2.347   0.0189 *  \n",
       "input_nchars     5.5853     3.6081   1.548   0.1216    \n",
       "---\n",
       "Signif. codes:  0 ‘***’ 0.001 ‘**’ 0.01 ‘*’ 0.05 ‘.’ 0.1 ‘ ’ 1\n",
       "\n",
       "(Dispersion parameter for binomial family taken to be 1)\n",
       "\n",
       "    Null deviance: 203.69  on 299  degrees of freedom\n",
       "Residual deviance: 125.76  on 294  degrees of freedom\n",
       "AIC: 137.76\n",
       "\n",
       "Number of Fisher Scoring iterations: 8\n"
      ]
     },
     "metadata": {},
     "output_type": "display_data"
    }
   ],
   "source": [
    "summary(rot13dec_gpt35_model)"
   ]
  },
  {
   "cell_type": "code",
   "execution_count": 18,
   "id": "92f2784a",
   "metadata": {},
   "outputs": [
    {
     "data": {
      "text/html": [
       "<style>\n",
       ".dl-inline {width: auto; margin:0; padding: 0}\n",
       ".dl-inline>dt, .dl-inline>dd {float: none; width: auto; display: inline-block}\n",
       ".dl-inline>dt::after {content: \":\\0020\"; padding-right: .5ex}\n",
       ".dl-inline>dt:not(:first-of-type) {padding-left: .5ex}\n",
       "</style><dl class=dl-inline><dt>input_logprob</dt><dd>1.13060028460815</dd><dt>output_logprob</dt><dd>39.2999881540218</dd><dt>input_ntokens</dt><dd>8.65403820671995</dd><dt>output_ntokens</dt><dd>29.877453052741</dd><dt>input_nchars</dt><dd>52.790918043775</dd></dl>\n"
      ],
      "text/latex": [
       "\\begin{description*}\n",
       "\\item[input\\textbackslash{}\\_logprob] 1.13060028460815\n",
       "\\item[output\\textbackslash{}\\_logprob] 39.2999881540218\n",
       "\\item[input\\textbackslash{}\\_ntokens] 8.65403820671995\n",
       "\\item[output\\textbackslash{}\\_ntokens] 29.877453052741\n",
       "\\item[input\\textbackslash{}\\_nchars] 52.790918043775\n",
       "\\end{description*}\n"
      ],
      "text/markdown": [
       "input_logprob\n",
       ":   1.13060028460815output_logprob\n",
       ":   39.2999881540218input_ntokens\n",
       ":   8.65403820671995output_ntokens\n",
       ":   29.877453052741input_nchars\n",
       ":   52.790918043775\n",
       "\n"
      ],
      "text/plain": [
       " input_logprob output_logprob  input_ntokens output_ntokens   input_nchars \n",
       "      1.130600      39.299988       8.654038      29.877453      52.790918 "
      ]
     },
     "metadata": {},
     "output_type": "display_data"
    }
   ],
   "source": [
    "vif(rot13enc_gpt4_model)"
   ]
  },
  {
   "cell_type": "code",
   "execution_count": 19,
   "id": "237c626b",
   "metadata": {},
   "outputs": [
    {
     "data": {
      "text/html": [
       "<style>\n",
       ".dl-inline {width: auto; margin:0; padding: 0}\n",
       ".dl-inline>dt, .dl-inline>dd {float: none; width: auto; display: inline-block}\n",
       ".dl-inline>dt::after {content: \":\\0020\"; padding-right: .5ex}\n",
       ".dl-inline>dt:not(:first-of-type) {padding-left: .5ex}\n",
       "</style><dl class=dl-inline><dt>input_logprob</dt><dd>1.25639002821856</dd><dt>output_logprob</dt><dd>43.2090143352466</dd><dt>input_ntokens</dt><dd>7.38310220068426</dd><dt>output_ntokens</dt><dd>30.0322450340358</dd><dt>input_nchars</dt><dd>48.2725620183424</dd></dl>\n"
      ],
      "text/latex": [
       "\\begin{description*}\n",
       "\\item[input\\textbackslash{}\\_logprob] 1.25639002821856\n",
       "\\item[output\\textbackslash{}\\_logprob] 43.2090143352466\n",
       "\\item[input\\textbackslash{}\\_ntokens] 7.38310220068426\n",
       "\\item[output\\textbackslash{}\\_ntokens] 30.0322450340358\n",
       "\\item[input\\textbackslash{}\\_nchars] 48.2725620183424\n",
       "\\end{description*}\n"
      ],
      "text/markdown": [
       "input_logprob\n",
       ":   1.25639002821856output_logprob\n",
       ":   43.2090143352466input_ntokens\n",
       ":   7.38310220068426output_ntokens\n",
       ":   30.0322450340358input_nchars\n",
       ":   48.2725620183424\n",
       "\n"
      ],
      "text/plain": [
       " input_logprob output_logprob  input_ntokens output_ntokens   input_nchars \n",
       "      1.256390      43.209014       7.383102      30.032245      48.272562 "
      ]
     },
     "metadata": {},
     "output_type": "display_data"
    }
   ],
   "source": [
    "vif(rot13enc_gpt35_model)"
   ]
  },
  {
   "cell_type": "code",
   "execution_count": 20,
   "id": "91071b9f",
   "metadata": {},
   "outputs": [
    {
     "data": {
      "text/html": [
       "<style>\n",
       ".dl-inline {width: auto; margin:0; padding: 0}\n",
       ".dl-inline>dt, .dl-inline>dd {float: none; width: auto; display: inline-block}\n",
       ".dl-inline>dt::after {content: \":\\0020\"; padding-right: .5ex}\n",
       ".dl-inline>dt:not(:first-of-type) {padding-left: .5ex}\n",
       "</style><dl class=dl-inline><dt>input_logprob</dt><dd>97.9008021734459</dd><dt>output_logprob</dt><dd>1.38998564571739</dd><dt>input_ntokens</dt><dd>83.241864775906</dd><dt>output_ntokens</dt><dd>13.5951958508497</dd><dt>input_nchars</dt><dd>146.200936176301</dd></dl>\n"
      ],
      "text/latex": [
       "\\begin{description*}\n",
       "\\item[input\\textbackslash{}\\_logprob] 97.9008021734459\n",
       "\\item[output\\textbackslash{}\\_logprob] 1.38998564571739\n",
       "\\item[input\\textbackslash{}\\_ntokens] 83.241864775906\n",
       "\\item[output\\textbackslash{}\\_ntokens] 13.5951958508497\n",
       "\\item[input\\textbackslash{}\\_nchars] 146.200936176301\n",
       "\\end{description*}\n"
      ],
      "text/markdown": [
       "input_logprob\n",
       ":   97.9008021734459output_logprob\n",
       ":   1.38998564571739input_ntokens\n",
       ":   83.241864775906output_ntokens\n",
       ":   13.5951958508497input_nchars\n",
       ":   146.200936176301\n",
       "\n"
      ],
      "text/plain": [
       " input_logprob output_logprob  input_ntokens output_ntokens   input_nchars \n",
       "     97.900802       1.389986      83.241865      13.595196     146.200936 "
      ]
     },
     "metadata": {},
     "output_type": "display_data"
    }
   ],
   "source": [
    "vif(rot13dec_gpt4_model)"
   ]
  },
  {
   "cell_type": "code",
   "execution_count": 21,
   "id": "ab867963",
   "metadata": {},
   "outputs": [
    {
     "data": {
      "text/html": [
       "<style>\n",
       ".dl-inline {width: auto; margin:0; padding: 0}\n",
       ".dl-inline>dt, .dl-inline>dd {float: none; width: auto; display: inline-block}\n",
       ".dl-inline>dt::after {content: \":\\0020\"; padding-right: .5ex}\n",
       ".dl-inline>dt:not(:first-of-type) {padding-left: .5ex}\n",
       "</style><dl class=dl-inline><dt>input_logprob</dt><dd>57.7593618892859</dd><dt>output_logprob</dt><dd>1.36501824362838</dd><dt>input_ntokens</dt><dd>42.0213121980875</dd><dt>output_ntokens</dt><dd>9.27721323318939</dd><dt>input_nchars</dt><dd>74.9922639156847</dd></dl>\n"
      ],
      "text/latex": [
       "\\begin{description*}\n",
       "\\item[input\\textbackslash{}\\_logprob] 57.7593618892859\n",
       "\\item[output\\textbackslash{}\\_logprob] 1.36501824362838\n",
       "\\item[input\\textbackslash{}\\_ntokens] 42.0213121980875\n",
       "\\item[output\\textbackslash{}\\_ntokens] 9.27721323318939\n",
       "\\item[input\\textbackslash{}\\_nchars] 74.9922639156847\n",
       "\\end{description*}\n"
      ],
      "text/markdown": [
       "input_logprob\n",
       ":   57.7593618892859output_logprob\n",
       ":   1.36501824362838input_ntokens\n",
       ":   42.0213121980875output_ntokens\n",
       ":   9.27721323318939input_nchars\n",
       ":   74.9922639156847\n",
       "\n"
      ],
      "text/plain": [
       " input_logprob output_logprob  input_ntokens output_ntokens   input_nchars \n",
       "     57.759362       1.365018      42.021312       9.277213      74.992264 "
      ]
     },
     "metadata": {},
     "output_type": "display_data"
    }
   ],
   "source": [
    "vif(rot13dec_gpt35_model)"
   ]
  },
  {
   "cell_type": "code",
   "execution_count": null,
   "id": "443db9ba",
   "metadata": {},
   "outputs": [],
   "source": []
  },
  {
   "cell_type": "code",
   "execution_count": null,
   "id": "722d3be8",
   "metadata": {},
   "outputs": [],
   "source": []
  },
  {
   "cell_type": "markdown",
   "id": "eff30cdf",
   "metadata": {},
   "source": [
    "# Pig Latin"
   ]
  },
  {
   "cell_type": "code",
   "execution_count": 26,
   "id": "47de3d47",
   "metadata": {},
   "outputs": [],
   "source": [
    "# Read in data\n",
    "pigenc_gpt4_df <- read.table(file = 'table_pig_ay_enc_gpt-4.tsv', sep = '\\t', header = TRUE)\n",
    "pigenc_gpt35_df <- read.table(file = 'table_pig_ay_enc_gpt-3.5-turbo.tsv', sep = '\\t', header = TRUE)\n",
    "\n",
    "pigdec_gpt4_df <- read.table(file = 'table_pig_ay_dec_gpt-4.tsv', sep = '\\t', header = TRUE)\n",
    "pigdec_gpt35_df <- read.table(file = 'table_pig_ay_dec_gpt-3.5-turbo.tsv', sep = '\\t', header = TRUE)"
   ]
  },
  {
   "cell_type": "code",
   "execution_count": 27,
   "id": "1797308b",
   "metadata": {},
   "outputs": [],
   "source": [
    "# Z-score data\n",
    "scaled_pigenc_gpt4_df <- scale_df(pigenc_gpt4_df)\n",
    "scaled_pigenc_gpt35_df <- scale_df(pigenc_gpt35_df)\n",
    "\n",
    "scaled_pigdec_gpt4_df <- scale_df(pigdec_gpt4_df)\n",
    "scaled_pigdec_gpt35_df <- scale_df(pigdec_gpt35_df)"
   ]
  },
  {
   "cell_type": "code",
   "execution_count": 28,
   "id": "61e4ced3",
   "metadata": {},
   "outputs": [
    {
     "name": "stdout",
     "output_type": "stream",
     "text": [
      "input_logprob input_logprob 1 \n",
      "input_logprob output_logprob 0.697457 \n",
      "input_logprob input_nchars -0.6764854 \n",
      "input_logprob input_ntokens -0.6690056 \n",
      "input_logprob output_nchars -0.6771126 \n",
      "input_logprob output_ntokens -0.6722721 \n",
      "\n",
      "output_logprob input_logprob 0.697457 \n",
      "output_logprob output_logprob 1 \n",
      "output_logprob input_nchars -0.9657046 \n",
      "output_logprob input_ntokens -0.957093 \n",
      "output_logprob output_nchars -0.970346 \n",
      "output_logprob output_ntokens -0.9748658 \n",
      "\n",
      "input_nchars input_logprob -0.6764854 \n",
      "input_nchars output_logprob -0.9657046 \n",
      "input_nchars input_nchars 1 \n",
      "input_nchars input_ntokens 0.9568471 \n",
      "input_nchars output_nchars 0.9975957 \n",
      "input_nchars output_ntokens 0.9664903 \n",
      "\n",
      "input_ntokens input_logprob -0.6690056 \n",
      "input_ntokens output_logprob -0.957093 \n",
      "input_ntokens input_nchars 0.9568471 \n",
      "input_ntokens input_ntokens 1 \n",
      "input_ntokens output_nchars 0.9708763 \n",
      "input_ntokens output_ntokens 0.9796248 \n",
      "\n",
      "output_nchars input_logprob -0.6771126 \n",
      "output_nchars output_logprob -0.970346 \n",
      "output_nchars input_nchars 0.9975957 \n",
      "output_nchars input_ntokens 0.9708763 \n",
      "output_nchars output_nchars 1 \n",
      "output_nchars output_ntokens 0.9779298 \n",
      "\n",
      "output_ntokens input_logprob -0.6722721 \n",
      "output_ntokens output_logprob -0.9748658 \n",
      "output_ntokens input_nchars 0.9664903 \n",
      "output_ntokens input_ntokens 0.9796248 \n",
      "output_ntokens output_nchars 0.9779298 \n",
      "output_ntokens output_ntokens 1 \n",
      "\n"
     ]
    }
   ],
   "source": [
    "# Print correlations among predictors\n",
    "predictor_cors(scaled_pigenc_gpt4_df)"
   ]
  },
  {
   "cell_type": "code",
   "execution_count": 29,
   "id": "a5a20c49",
   "metadata": {},
   "outputs": [
    {
     "name": "stdout",
     "output_type": "stream",
     "text": [
      "input_logprob input_logprob 1 \n",
      "input_logprob output_logprob 0.697457 \n",
      "input_logprob input_nchars -0.6764854 \n",
      "input_logprob input_ntokens -0.6690056 \n",
      "input_logprob output_nchars -0.6771126 \n",
      "input_logprob output_ntokens -0.6722721 \n",
      "\n",
      "output_logprob input_logprob 0.697457 \n",
      "output_logprob output_logprob 1 \n",
      "output_logprob input_nchars -0.9657046 \n",
      "output_logprob input_ntokens -0.957093 \n",
      "output_logprob output_nchars -0.970346 \n",
      "output_logprob output_ntokens -0.9748658 \n",
      "\n",
      "input_nchars input_logprob -0.6764854 \n",
      "input_nchars output_logprob -0.9657046 \n",
      "input_nchars input_nchars 1 \n",
      "input_nchars input_ntokens 0.9568471 \n",
      "input_nchars output_nchars 0.9975957 \n",
      "input_nchars output_ntokens 0.9664903 \n",
      "\n",
      "input_ntokens input_logprob -0.6690056 \n",
      "input_ntokens output_logprob -0.957093 \n",
      "input_ntokens input_nchars 0.9568471 \n",
      "input_ntokens input_ntokens 1 \n",
      "input_ntokens output_nchars 0.9708763 \n",
      "input_ntokens output_ntokens 0.9796248 \n",
      "\n",
      "output_nchars input_logprob -0.6771126 \n",
      "output_nchars output_logprob -0.970346 \n",
      "output_nchars input_nchars 0.9975957 \n",
      "output_nchars input_ntokens 0.9708763 \n",
      "output_nchars output_nchars 1 \n",
      "output_nchars output_ntokens 0.9779298 \n",
      "\n",
      "output_ntokens input_logprob -0.6722721 \n",
      "output_ntokens output_logprob -0.9748658 \n",
      "output_ntokens input_nchars 0.9664903 \n",
      "output_ntokens input_ntokens 0.9796248 \n",
      "output_ntokens output_nchars 0.9779298 \n",
      "output_ntokens output_ntokens 1 \n",
      "\n"
     ]
    }
   ],
   "source": [
    "predictor_cors(scaled_pigenc_gpt35_df)"
   ]
  },
  {
   "cell_type": "code",
   "execution_count": 30,
   "id": "061c49d2",
   "metadata": {},
   "outputs": [
    {
     "name": "stdout",
     "output_type": "stream",
     "text": [
      "input_logprob input_logprob 1 \n",
      "input_logprob output_logprob 0.697457 \n",
      "input_logprob input_nchars -0.970346 \n",
      "input_logprob input_ntokens -0.9748658 \n",
      "input_logprob output_nchars -0.9657046 \n",
      "input_logprob output_ntokens -0.957093 \n",
      "\n",
      "output_logprob input_logprob 0.697457 \n",
      "output_logprob output_logprob 1 \n",
      "output_logprob input_nchars -0.6771126 \n",
      "output_logprob input_ntokens -0.6722721 \n",
      "output_logprob output_nchars -0.6764854 \n",
      "output_logprob output_ntokens -0.6690056 \n",
      "\n",
      "input_nchars input_logprob -0.970346 \n",
      "input_nchars output_logprob -0.6771126 \n",
      "input_nchars input_nchars 1 \n",
      "input_nchars input_ntokens 0.9779298 \n",
      "input_nchars output_nchars 0.9975957 \n",
      "input_nchars output_ntokens 0.9708763 \n",
      "\n",
      "input_ntokens input_logprob -0.9748658 \n",
      "input_ntokens output_logprob -0.6722721 \n",
      "input_ntokens input_nchars 0.9779298 \n",
      "input_ntokens input_ntokens 1 \n",
      "input_ntokens output_nchars 0.9664903 \n",
      "input_ntokens output_ntokens 0.9796248 \n",
      "\n",
      "output_nchars input_logprob -0.9657046 \n",
      "output_nchars output_logprob -0.6764854 \n",
      "output_nchars input_nchars 0.9975957 \n",
      "output_nchars input_ntokens 0.9664903 \n",
      "output_nchars output_nchars 1 \n",
      "output_nchars output_ntokens 0.9568471 \n",
      "\n",
      "output_ntokens input_logprob -0.957093 \n",
      "output_ntokens output_logprob -0.6690056 \n",
      "output_ntokens input_nchars 0.9708763 \n",
      "output_ntokens input_ntokens 0.9796248 \n",
      "output_ntokens output_nchars 0.9568471 \n",
      "output_ntokens output_ntokens 1 \n",
      "\n"
     ]
    }
   ],
   "source": [
    "predictor_cors(scaled_pigdec_gpt4_df)"
   ]
  },
  {
   "cell_type": "code",
   "execution_count": 31,
   "id": "da2a1b43",
   "metadata": {},
   "outputs": [
    {
     "name": "stdout",
     "output_type": "stream",
     "text": [
      "input_logprob input_logprob 1 \n",
      "input_logprob output_logprob 0.697457 \n",
      "input_logprob input_nchars -0.970346 \n",
      "input_logprob input_ntokens -0.9748658 \n",
      "input_logprob output_nchars -0.9657046 \n",
      "input_logprob output_ntokens -0.957093 \n",
      "\n",
      "output_logprob input_logprob 0.697457 \n",
      "output_logprob output_logprob 1 \n",
      "output_logprob input_nchars -0.6771126 \n",
      "output_logprob input_ntokens -0.6722721 \n",
      "output_logprob output_nchars -0.6764854 \n",
      "output_logprob output_ntokens -0.6690056 \n",
      "\n",
      "input_nchars input_logprob -0.970346 \n",
      "input_nchars output_logprob -0.6771126 \n",
      "input_nchars input_nchars 1 \n",
      "input_nchars input_ntokens 0.9779298 \n",
      "input_nchars output_nchars 0.9975957 \n",
      "input_nchars output_ntokens 0.9708763 \n",
      "\n",
      "input_ntokens input_logprob -0.9748658 \n",
      "input_ntokens output_logprob -0.6722721 \n",
      "input_ntokens input_nchars 0.9779298 \n",
      "input_ntokens input_ntokens 1 \n",
      "input_ntokens output_nchars 0.9664903 \n",
      "input_ntokens output_ntokens 0.9796248 \n",
      "\n",
      "output_nchars input_logprob -0.9657046 \n",
      "output_nchars output_logprob -0.6764854 \n",
      "output_nchars input_nchars 0.9975957 \n",
      "output_nchars input_ntokens 0.9664903 \n",
      "output_nchars output_nchars 1 \n",
      "output_nchars output_ntokens 0.9568471 \n",
      "\n",
      "output_ntokens input_logprob -0.957093 \n",
      "output_ntokens output_logprob -0.6690056 \n",
      "output_ntokens input_nchars 0.9708763 \n",
      "output_ntokens input_ntokens 0.9796248 \n",
      "output_ntokens output_nchars 0.9568471 \n",
      "output_ntokens output_ntokens 1 \n",
      "\n"
     ]
    }
   ],
   "source": [
    "predictor_cors(scaled_pigdec_gpt35_df)"
   ]
  },
  {
   "cell_type": "code",
   "execution_count": 55,
   "id": "441d7e6b",
   "metadata": {},
   "outputs": [],
   "source": [
    "intercepts <- TRUE\n",
    "pigenc_gpt4_model <- correct_vs_length_and_prob(scaled_pigenc_gpt4_df, include_output_chars=TRUE, include_intercept=intercepts)\n",
    "pigenc_gpt35_model <- correct_vs_length_and_prob(scaled_pigenc_gpt35_df, include_output_chars=TRUE, include_intercept=intercepts)\n",
    "\n",
    "pigdec_gpt4_model <- correct_vs_length_and_prob(scaled_pigdec_gpt4_df, include_output_chars=TRUE, include_intercept=FALSE)\n",
    "pigdec_gpt35_model <- correct_vs_length_and_prob(scaled_pigdec_gpt35_df, include_output_chars=TRUE, include_intercept=intercepts)"
   ]
  },
  {
   "cell_type": "code",
   "execution_count": 56,
   "id": "a5c6db01",
   "metadata": {},
   "outputs": [
    {
     "data": {
      "text/plain": [
       "Generalized linear mixed model fit by maximum likelihood (Laplace\n",
       "  Approximation) [glmerMod]\n",
       " Family: binomial  ( logit )\n",
       "Formula: \n",
       "correct ~ (1 | index) + input_logprob + output_logprob + input_ntokens +  \n",
       "    output_ntokens + input_nchars + output_nchars\n",
       "   Data: df\n",
       "\n",
       "     AIC      BIC   logLik deviance df.resid \n",
       "   353.4    383.1   -168.7    337.4      292 \n",
       "\n",
       "Scaled residuals: \n",
       "    Min      1Q  Median      3Q     Max \n",
       "-2.4042 -0.4186 -0.2318  0.4768  1.8299 \n",
       "\n",
       "Random effects:\n",
       " Groups Name        Variance Std.Dev.\n",
       " index  (Intercept) 4.098    2.024   \n",
       "Number of obs: 300, groups:  index, 100\n",
       "\n",
       "Fixed effects:\n",
       "                Estimate Std. Error z value Pr(>|z|)  \n",
       "(Intercept)     -0.67742    0.28409  -2.385   0.0171 *\n",
       "input_logprob   -0.03599    0.24006  -0.150   0.8808  \n",
       "output_logprob   2.95441    1.26321   2.339   0.0193 *\n",
       "input_ntokens    3.27961    1.65590   1.981   0.0476 *\n",
       "output_ntokens   1.81639    1.75227   1.037   0.2999  \n",
       "input_nchars    10.59354    6.16256   1.719   0.0856 .\n",
       "output_nchars  -13.63514    7.60510  -1.793   0.0730 .\n",
       "---\n",
       "Signif. codes:  0 ‘***’ 0.001 ‘**’ 0.01 ‘*’ 0.05 ‘.’ 0.1 ‘ ’ 1\n",
       "\n",
       "Correlation of Fixed Effects:\n",
       "            (Intr) inpt_l otpt_l inpt_nt otpt_nt inpt_nc\n",
       "input_lgprb -0.009                                      \n",
       "outpt_lgprb -0.084 -0.186                               \n",
       "input_ntkns -0.114  0.063  0.110                        \n",
       "outpt_ntkns -0.015 -0.106  0.533 -0.146                 \n",
       "input_nchrs -0.095  0.010  0.271  0.587   0.402         \n",
       "outpt_nchrs  0.097 -0.006 -0.211 -0.638  -0.438  -0.983 "
      ]
     },
     "metadata": {},
     "output_type": "display_data"
    }
   ],
   "source": [
    "summary(pigenc_gpt4_model) "
   ]
  },
  {
   "cell_type": "code",
   "execution_count": 57,
   "id": "6189e2d7",
   "metadata": {},
   "outputs": [
    {
     "data": {
      "text/plain": [
       "Generalized linear mixed model fit by maximum likelihood (Laplace\n",
       "  Approximation) [glmerMod]\n",
       " Family: binomial  ( logit )\n",
       "Formula: \n",
       "correct ~ (1 | index) + input_logprob + output_logprob + input_ntokens +  \n",
       "    output_ntokens + input_nchars + output_nchars\n",
       "   Data: df\n",
       "\n",
       "     AIC      BIC   logLik deviance df.resid \n",
       "   314.1    343.8   -149.1    298.1      292 \n",
       "\n",
       "Scaled residuals: \n",
       "    Min      1Q  Median      3Q     Max \n",
       "-1.2106 -0.3772 -0.2486  0.5059  2.3940 \n",
       "\n",
       "Random effects:\n",
       " Groups Name        Variance Std.Dev.\n",
       " index  (Intercept) 3.304    1.818   \n",
       "Number of obs: 300, groups:  index, 100\n",
       "\n",
       "Fixed effects:\n",
       "               Estimate Std. Error z value Pr(>|z|)    \n",
       "(Intercept)     -1.8830     0.3586  -5.250 1.52e-07 ***\n",
       "input_logprob    0.2070     0.2587   0.800    0.424    \n",
       "output_logprob   1.9055     1.2514   1.523    0.128    \n",
       "input_ntokens    2.4930     1.6237   1.535    0.125    \n",
       "output_ntokens  -1.9333     1.8975  -1.019    0.308    \n",
       "input_nchars    -4.8041     6.0234  -0.798    0.425    \n",
       "output_nchars    5.4954     7.3864   0.744    0.457    \n",
       "---\n",
       "Signif. codes:  0 ‘***’ 0.001 ‘**’ 0.01 ‘*’ 0.05 ‘.’ 0.1 ‘ ’ 1\n",
       "\n",
       "Correlation of Fixed Effects:\n",
       "            (Intr) inpt_l otpt_l inpt_nt otpt_nt inpt_nc\n",
       "input_lgprb -0.087                                      \n",
       "outpt_lgprb -0.188 -0.158                               \n",
       "input_ntkns -0.201  0.063  0.125                        \n",
       "outpt_ntkns  0.179 -0.082  0.399 -0.269                 \n",
       "input_nchrs  0.117  0.010  0.197  0.439   0.440         \n",
       "outpt_nchrs -0.116 -0.007 -0.131 -0.487  -0.482  -0.982 "
      ]
     },
     "metadata": {},
     "output_type": "display_data"
    }
   ],
   "source": [
    "summary(pigenc_gpt35_model)"
   ]
  },
  {
   "cell_type": "code",
   "execution_count": 58,
   "id": "39157ead",
   "metadata": {},
   "outputs": [
    {
     "data": {
      "text/plain": [
       "\n",
       "Call:\n",
       "glm(formula = correct ~ input_logprob + output_logprob + input_ntokens + \n",
       "    output_ntokens + input_nchars + output_nchars, family = binomial, \n",
       "    data = df)\n",
       "\n",
       "Deviance Residuals: \n",
       "    Min       1Q   Median       3Q      Max  \n",
       "-2.7284  -0.8505   0.4236   0.7521   2.4140  \n",
       "\n",
       "Coefficients:\n",
       "               Estimate Std. Error z value Pr(>|z|)    \n",
       "(Intercept)      0.5198     0.1491   3.487 0.000488 ***\n",
       "input_logprob    1.4257     0.7709   1.849 0.064402 .  \n",
       "output_logprob   1.9253     0.2431   7.918  2.4e-15 ***\n",
       "input_ntokens    1.3736     1.1236   1.223 0.221505    \n",
       "output_ntokens  -1.1396     0.9170  -1.243 0.213953    \n",
       "input_nchars     1.4535     4.2228   0.344 0.730698    \n",
       "output_nchars    1.1972     3.4386   0.348 0.727713    \n",
       "---\n",
       "Signif. codes:  0 ‘***’ 0.001 ‘**’ 0.01 ‘*’ 0.05 ‘.’ 0.1 ‘ ’ 1\n",
       "\n",
       "(Dispersion parameter for binomial family taken to be 1)\n",
       "\n",
       "    Null deviance: 406.12  on 299  degrees of freedom\n",
       "Residual deviance: 298.86  on 293  degrees of freedom\n",
       "AIC: 312.86\n",
       "\n",
       "Number of Fisher Scoring iterations: 5\n"
      ]
     },
     "metadata": {},
     "output_type": "display_data"
    }
   ],
   "source": [
    "summary(pigdec_gpt4_model)"
   ]
  },
  {
   "cell_type": "code",
   "execution_count": 59,
   "id": "982737dd",
   "metadata": {},
   "outputs": [
    {
     "data": {
      "text/plain": [
       "Generalized linear mixed model fit by maximum likelihood (Laplace\n",
       "  Approximation) [glmerMod]\n",
       " Family: binomial  ( logit )\n",
       "Formula: \n",
       "correct ~ (1 | index) + input_logprob + output_logprob + input_ntokens +  \n",
       "    output_ntokens + input_nchars + output_nchars\n",
       "   Data: df\n",
       "\n",
       "     AIC      BIC   logLik deviance df.resid \n",
       "   235.7    265.3   -109.8    219.7      292 \n",
       "\n",
       "Scaled residuals: \n",
       "    Min      1Q  Median      3Q     Max \n",
       "-2.3494 -0.2424 -0.0334  0.1206  6.2121 \n",
       "\n",
       "Random effects:\n",
       " Groups Name        Variance Std.Dev.\n",
       " index  (Intercept) 5.68     2.383   \n",
       "Number of obs: 300, groups:  index, 100\n",
       "\n",
       "Fixed effects:\n",
       "               Estimate Std. Error z value Pr(>|z|)    \n",
       "(Intercept)     -3.3753     0.9011  -3.746  0.00018 ***\n",
       "input_logprob    2.4499     1.8008   1.360  0.17370    \n",
       "output_logprob   5.2103     1.3345   3.904 9.45e-05 ***\n",
       "input_ntokens   -0.5393     2.3738  -0.227  0.82026    \n",
       "output_ntokens  -3.8063     2.4813  -1.534  0.12503    \n",
       "input_nchars     8.2307     9.8044   0.839  0.40120    \n",
       "output_nchars    0.2586     7.9638   0.032  0.97409    \n",
       "---\n",
       "Signif. codes:  0 ‘***’ 0.001 ‘**’ 0.01 ‘*’ 0.05 ‘.’ 0.1 ‘ ’ 1\n",
       "\n",
       "Correlation of Fixed Effects:\n",
       "            (Intr) inpt_l otpt_l inpt_nt otpt_nt inpt_nc\n",
       "input_lgprb -0.417                                      \n",
       "outpt_lgprb -0.910  0.345                               \n",
       "input_ntkns -0.014  0.477 -0.006                        \n",
       "outpt_ntkns  0.416 -0.190 -0.393 -0.277                 \n",
       "input_nchrs -0.136 -0.076  0.107 -0.404  -0.562         \n",
       "outpt_nchrs -0.098  0.248  0.125  0.397   0.403  -0.954 "
      ]
     },
     "metadata": {},
     "output_type": "display_data"
    }
   ],
   "source": [
    "summary(pigdec_gpt35_model)"
   ]
  },
  {
   "cell_type": "code",
   "execution_count": 60,
   "id": "eeb92d2d",
   "metadata": {},
   "outputs": [
    {
     "data": {
      "text/html": [
       "<style>\n",
       ".dl-inline {width: auto; margin:0; padding: 0}\n",
       ".dl-inline>dt, .dl-inline>dd {float: none; width: auto; display: inline-block}\n",
       ".dl-inline>dt::after {content: \":\\0020\"; padding-right: .5ex}\n",
       ".dl-inline>dt:not(:first-of-type) {padding-left: .5ex}\n",
       "</style><dl class=dl-inline><dt>input_logprob</dt><dd>1.3169857279174</dd><dt>output_logprob</dt><dd>17.8710162614953</dd><dt>input_ntokens</dt><dd>32.8519711139564</dd><dt>output_ntokens</dt><dd>35.9522988326299</dd><dt>input_nchars</dt><dd>445.372168282158</dd><dt>output_nchars</dt><dd>673.529908536575</dd></dl>\n"
      ],
      "text/latex": [
       "\\begin{description*}\n",
       "\\item[input\\textbackslash{}\\_logprob] 1.3169857279174\n",
       "\\item[output\\textbackslash{}\\_logprob] 17.8710162614953\n",
       "\\item[input\\textbackslash{}\\_ntokens] 32.8519711139564\n",
       "\\item[output\\textbackslash{}\\_ntokens] 35.9522988326299\n",
       "\\item[input\\textbackslash{}\\_nchars] 445.372168282158\n",
       "\\item[output\\textbackslash{}\\_nchars] 673.529908536575\n",
       "\\end{description*}\n"
      ],
      "text/markdown": [
       "input_logprob\n",
       ":   1.3169857279174output_logprob\n",
       ":   17.8710162614953input_ntokens\n",
       ":   32.8519711139564output_ntokens\n",
       ":   35.9522988326299input_nchars\n",
       ":   445.372168282158output_nchars\n",
       ":   673.529908536575\n",
       "\n"
      ],
      "text/plain": [
       " input_logprob output_logprob  input_ntokens output_ntokens   input_nchars \n",
       "      1.316986      17.871016      32.851971      35.952299     445.372168 \n",
       " output_nchars \n",
       "    673.529909 "
      ]
     },
     "metadata": {},
     "output_type": "display_data"
    }
   ],
   "source": [
    "vif(pigenc_gpt4_model)"
   ]
  },
  {
   "cell_type": "code",
   "execution_count": 61,
   "id": "2e3ed91c",
   "metadata": {},
   "outputs": [
    {
     "data": {
      "text/html": [
       "<style>\n",
       ".dl-inline {width: auto; margin:0; padding: 0}\n",
       ".dl-inline>dt, .dl-inline>dd {float: none; width: auto; display: inline-block}\n",
       ".dl-inline>dt::after {content: \":\\0020\"; padding-right: .5ex}\n",
       ".dl-inline>dt:not(:first-of-type) {padding-left: .5ex}\n",
       "</style><dl class=dl-inline><dt>input_logprob</dt><dd>1.29281449394685</dd><dt>output_logprob</dt><dd>17.8763124434756</dd><dt>input_ntokens</dt><dd>34.3991314995818</dd><dt>output_ntokens</dt><dd>43.3207102186735</dd><dt>input_nchars</dt><dd>441.346083016415</dd><dt>output_nchars</dt><dd>672.539491991673</dd></dl>\n"
      ],
      "text/latex": [
       "\\begin{description*}\n",
       "\\item[input\\textbackslash{}\\_logprob] 1.29281449394685\n",
       "\\item[output\\textbackslash{}\\_logprob] 17.8763124434756\n",
       "\\item[input\\textbackslash{}\\_ntokens] 34.3991314995818\n",
       "\\item[output\\textbackslash{}\\_ntokens] 43.3207102186735\n",
       "\\item[input\\textbackslash{}\\_nchars] 441.346083016415\n",
       "\\item[output\\textbackslash{}\\_nchars] 672.539491991673\n",
       "\\end{description*}\n"
      ],
      "text/markdown": [
       "input_logprob\n",
       ":   1.29281449394685output_logprob\n",
       ":   17.8763124434756input_ntokens\n",
       ":   34.3991314995818output_ntokens\n",
       ":   43.3207102186735input_nchars\n",
       ":   441.346083016415output_nchars\n",
       ":   672.539491991673\n",
       "\n"
      ],
      "text/plain": [
       " input_logprob output_logprob  input_ntokens output_ntokens   input_nchars \n",
       "      1.292814      17.876312      34.399131      43.320710     441.346083 \n",
       " output_nchars \n",
       "    672.539492 "
      ]
     },
     "metadata": {},
     "output_type": "display_data"
    }
   ],
   "source": [
    "vif(pigenc_gpt35_model)"
   ]
  },
  {
   "cell_type": "code",
   "execution_count": 62,
   "id": "a1d7b654",
   "metadata": {},
   "outputs": [
    {
     "data": {
      "text/html": [
       "<style>\n",
       ".dl-inline {width: auto; margin:0; padding: 0}\n",
       ".dl-inline>dt, .dl-inline>dd {float: none; width: auto; display: inline-block}\n",
       ".dl-inline>dt::after {content: \":\\0020\"; padding-right: .5ex}\n",
       ".dl-inline>dt:not(:first-of-type) {padding-left: .5ex}\n",
       "</style><dl class=dl-inline><dt>input_logprob</dt><dd>26.135762713424</dd><dt>output_logprob</dt><dd>2.43034556270659</dd><dt>input_ntokens</dt><dd>52.4970493307298</dd><dt>output_ntokens</dt><dd>34.483100883675</dd><dt>input_nchars</dt><dd>733.105539389531</dd><dt>output_nchars</dt><dd>489.195865288526</dd></dl>\n"
      ],
      "text/latex": [
       "\\begin{description*}\n",
       "\\item[input\\textbackslash{}\\_logprob] 26.135762713424\n",
       "\\item[output\\textbackslash{}\\_logprob] 2.43034556270659\n",
       "\\item[input\\textbackslash{}\\_ntokens] 52.4970493307298\n",
       "\\item[output\\textbackslash{}\\_ntokens] 34.483100883675\n",
       "\\item[input\\textbackslash{}\\_nchars] 733.105539389531\n",
       "\\item[output\\textbackslash{}\\_nchars] 489.195865288526\n",
       "\\end{description*}\n"
      ],
      "text/markdown": [
       "input_logprob\n",
       ":   26.135762713424output_logprob\n",
       ":   2.43034556270659input_ntokens\n",
       ":   52.4970493307298output_ntokens\n",
       ":   34.483100883675input_nchars\n",
       ":   733.105539389531output_nchars\n",
       ":   489.195865288526\n",
       "\n"
      ],
      "text/plain": [
       " input_logprob output_logprob  input_ntokens output_ntokens   input_nchars \n",
       "     26.135763       2.430346      52.497049      34.483101     733.105539 \n",
       " output_nchars \n",
       "    489.195865 "
      ]
     },
     "metadata": {},
     "output_type": "display_data"
    }
   ],
   "source": [
    "vif(pigdec_gpt4_model)"
   ]
  },
  {
   "cell_type": "code",
   "execution_count": 63,
   "id": "251f13d4",
   "metadata": {},
   "outputs": [
    {
     "data": {
      "text/html": [
       "<style>\n",
       ".dl-inline {width: auto; margin:0; padding: 0}\n",
       ".dl-inline>dt, .dl-inline>dd {float: none; width: auto; display: inline-block}\n",
       ".dl-inline>dt::after {content: \":\\0020\"; padding-right: .5ex}\n",
       ".dl-inline>dt:not(:first-of-type) {padding-left: .5ex}\n",
       "</style><dl class=dl-inline><dt>input_logprob</dt><dd>25.7881970443327</dd><dt>output_logprob</dt><dd>4.09362059715725</dd><dt>input_ntokens</dt><dd>46.3751648323122</dd><dt>output_ntokens</dt><dd>52.407965077016</dd><dt>input_nchars</dt><dd>822.271715606578</dd><dt>output_nchars</dt><dd>544.860528761333</dd></dl>\n"
      ],
      "text/latex": [
       "\\begin{description*}\n",
       "\\item[input\\textbackslash{}\\_logprob] 25.7881970443327\n",
       "\\item[output\\textbackslash{}\\_logprob] 4.09362059715725\n",
       "\\item[input\\textbackslash{}\\_ntokens] 46.3751648323122\n",
       "\\item[output\\textbackslash{}\\_ntokens] 52.407965077016\n",
       "\\item[input\\textbackslash{}\\_nchars] 822.271715606578\n",
       "\\item[output\\textbackslash{}\\_nchars] 544.860528761333\n",
       "\\end{description*}\n"
      ],
      "text/markdown": [
       "input_logprob\n",
       ":   25.7881970443327output_logprob\n",
       ":   4.09362059715725input_ntokens\n",
       ":   46.3751648323122output_ntokens\n",
       ":   52.407965077016input_nchars\n",
       ":   822.271715606578output_nchars\n",
       ":   544.860528761333\n",
       "\n"
      ],
      "text/plain": [
       " input_logprob output_logprob  input_ntokens output_ntokens   input_nchars \n",
       "     25.788197       4.093621      46.375165      52.407965     822.271716 \n",
       " output_nchars \n",
       "    544.860529 "
      ]
     },
     "metadata": {},
     "output_type": "display_data"
    }
   ],
   "source": [
    "vif(pigdec_gpt35_model)"
   ]
  },
  {
   "cell_type": "code",
   "execution_count": null,
   "id": "5a1dddcc",
   "metadata": {},
   "outputs": [],
   "source": []
  },
  {
   "cell_type": "code",
   "execution_count": null,
   "id": "3b45ae4c",
   "metadata": {},
   "outputs": [],
   "source": []
  },
  {
   "cell_type": "code",
   "execution_count": null,
   "id": "c1236f5a",
   "metadata": {},
   "outputs": [],
   "source": []
  },
  {
   "cell_type": "code",
   "execution_count": null,
   "id": "55b34d9c",
   "metadata": {},
   "outputs": [],
   "source": []
  }
 ],
 "metadata": {
  "kernelspec": {
   "display_name": "R",
   "language": "R",
   "name": "ir"
  },
  "language_info": {
   "codemirror_mode": "r",
   "file_extension": ".r",
   "mimetype": "text/x-r-source",
   "name": "R",
   "pygments_lexer": "r",
   "version": "4.1.3"
  }
 },
 "nbformat": 4,
 "nbformat_minor": 5
}
